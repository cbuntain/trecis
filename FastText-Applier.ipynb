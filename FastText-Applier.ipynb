{
 "cells": [
  {
   "cell_type": "code",
   "execution_count": 1,
   "metadata": {},
   "outputs": [],
   "source": [
    "%matplotlib inline\n",
    "\n",
    "import matplotlib.pyplot as plt"
   ]
  },
  {
   "cell_type": "code",
   "execution_count": 2,
   "metadata": {},
   "outputs": [],
   "source": [
    "import string\n",
    "import gzip\n",
    "import json\n",
    "import re"
   ]
  },
  {
   "cell_type": "code",
   "execution_count": 3,
   "metadata": {},
   "outputs": [],
   "source": [
    "import numpy as np\n",
    "import pandas as pd"
   ]
  },
  {
   "cell_type": "code",
   "execution_count": 4,
   "metadata": {},
   "outputs": [],
   "source": [
    "import scipy\n",
    "from scipy import interpolate"
   ]
  },
  {
   "cell_type": "code",
   "execution_count": 5,
   "metadata": {},
   "outputs": [],
   "source": [
    "import sklearn.cluster\n",
    "import sklearn.feature_extraction \n",
    "import sklearn.feature_extraction.text\n",
    "import sklearn.metrics\n",
    "import sklearn.preprocessing\n",
    "\n",
    "from sklearn.decomposition import PCA\n",
    "from sklearn.decomposition import TruncatedSVD\n",
    "\n",
    "from sklearn.ensemble import RandomForestClassifier\n",
    "from sklearn.ensemble import RandomForestClassifier\n",
    "from sklearn.externals import joblib\n",
    "from sklearn.feature_selection import SelectFromModel\n",
    "from sklearn.linear_model import LogisticRegression\n",
    "from sklearn.metrics import accuracy_score\n",
    "from sklearn.metrics import auc\n",
    "from sklearn.metrics import average_precision_score\n",
    "from sklearn.metrics import confusion_matrix\n",
    "from sklearn.metrics import f1_score\n",
    "from sklearn.metrics import precision_recall_curve\n",
    "from sklearn.model_selection import RandomizedSearchCV\n",
    "from sklearn.model_selection import StratifiedKFold\n",
    "from sklearn.model_selection import train_test_split\n",
    "from sklearn.multiclass import OneVsRestClassifier\n",
    "from sklearn.naive_bayes import BernoulliNB\n",
    "from sklearn.naive_bayes import MultinomialNB\n",
    "from sklearn.pipeline import FeatureUnion\n",
    "from sklearn.pipeline import Pipeline\n",
    "from sklearn.semi_supervised import LabelPropagation\n",
    "from sklearn.semi_supervised import LabelSpreading\n",
    "from sklearn.svm import LinearSVC\n",
    "from sklearn.svm import SVC\n",
    "from sklearn.tree import DecisionTreeClassifier"
   ]
  },
  {
   "cell_type": "code",
   "execution_count": 6,
   "metadata": {},
   "outputs": [
    {
     "name": "stdout",
     "output_type": "stream",
     "text": [
      "[nltk_data] Downloading package stopwords to /home/clb617/nltk_data...\n",
      "[nltk_data]   Package stopwords is already up-to-date!\n"
     ]
    },
    {
     "name": "stderr",
     "output_type": "stream",
     "text": [
      "/scratch/clb617/anaconda3/lib/python3.6/site-packages/nltk/twitter/__init__.py:20: UserWarning: The twython library has not been installed. Some functionality from the twitter package will not be available.\n",
      "  warnings.warn(\"The twython library has not been installed. \"\n"
     ]
    }
   ],
   "source": [
    "import nltk\n",
    "nltk.download(\"stopwords\")\n",
    "from nltk.corpus import stopwords\n",
    "\n",
    "from nltk.tokenize import TweetTokenizer\n",
    "from nltk.sentiment.vader import SentimentIntensityAnalyzer as VS"
   ]
  },
  {
   "cell_type": "code",
   "execution_count": 7,
   "metadata": {},
   "outputs": [],
   "source": [
    "import spacy\n",
    "\n",
    "nlp = spacy.load('en')"
   ]
  },
  {
   "cell_type": "code",
   "execution_count": 8,
   "metadata": {},
   "outputs": [],
   "source": [
    "from gensim.models.fasttext import FastText\n",
    "from gensim.models import KeyedVectors"
   ]
  },
  {
   "cell_type": "code",
   "execution_count": null,
   "metadata": {},
   "outputs": [],
   "source": []
  },
  {
   "cell_type": "code",
   "execution_count": 9,
   "metadata": {},
   "outputs": [],
   "source": [
    "tweet_id_map = {}\n",
    "with open(\"../data/rehydrated_tweets.json\", \"r\") as in_file:\n",
    "    for line in in_file:\n",
    "        tweet = json.loads(line)\n",
    "        tweet_id_map[tweet[\"id\"]] = tweet"
   ]
  },
  {
   "cell_type": "code",
   "execution_count": 10,
   "metadata": {},
   "outputs": [
    {
     "data": {
      "text/plain": [
       "{'en': 1215, 'ja': 2, 'und': 5, 'pt': 1, 'tl': 30, 'es': 5, 'in': 1, 'fr': 2}"
      ]
     },
     "execution_count": 10,
     "metadata": {},
     "output_type": "execute_result"
    }
   ],
   "source": [
    "lang_count_map = {}\n",
    "for lang in [tweet[\"lang\"] for tweet in tweet_id_map.values()]:\n",
    "    lang_count_map[lang] = lang_count_map.get(lang, 0) + 1\n",
    "lang_count_map"
   ]
  },
  {
   "cell_type": "code",
   "execution_count": null,
   "metadata": {},
   "outputs": [],
   "source": []
  },
  {
   "cell_type": "code",
   "execution_count": 11,
   "metadata": {},
   "outputs": [],
   "source": [
    "tweet_category_map = {}\n",
    "with open(\"../data/category_to_tweet_id_training.json\", \"r\") as in_file:\n",
    "    tweet_category_map = json.load(in_file)"
   ]
  },
  {
   "cell_type": "code",
   "execution_count": null,
   "metadata": {},
   "outputs": [],
   "source": []
  },
  {
   "cell_type": "code",
   "execution_count": 12,
   "metadata": {},
   "outputs": [
    {
     "name": "stdout",
     "output_type": "stream",
     "text": [
      "Category: KnownAlready\n",
      "\tTweet Count: 113 Retrieved Fraction: 0.9292035398230089\n",
      "\t {'en': 104, 'ja': 1}\n",
      "Category: Official\n",
      "\tTweet Count: 52 Retrieved Fraction: 0.9423076923076923\n",
      "\t {'en': 48, 'fr': 1}\n",
      "Category: ContinuingNews\n",
      "\tTweet Count: 251 Retrieved Fraction: 0.9561752988047809\n",
      "\t {'en': 237, 'ja': 1, 'tl': 2}\n",
      "Category: Factoid\n",
      "\tTweet Count: 140 Retrieved Fraction: 0.9714285714285714\n",
      "\t {'en': 133, 'tl': 3}\n",
      "Category: MovePeople\n",
      "\tTweet Count: 26 Retrieved Fraction: 0.9615384615384616\n",
      "\t {'en': 25}\n",
      "Category: Irrelevant\n",
      "\tTweet Count: 163 Retrieved Fraction: 0.901840490797546\n",
      "\t {'en': 121, 'und': 1, 'pt': 1, 'in': 1, 'es': 5, 'tl': 17, 'fr': 1}\n",
      "Category: SignificantEventChange\n",
      "\tTweet Count: 34 Retrieved Fraction: 0.9705882352941176\n",
      "\t {'en': 29, 'tl': 4}\n",
      "Category: Sentiment\n",
      "\tTweet Count: 132 Retrieved Fraction: 0.9242424242424242\n",
      "\t {'en': 117, 'tl': 1, 'und': 4}\n",
      "Category: FirstPartyObservation\n",
      "\tTweet Count: 28 Retrieved Fraction: 1.0\n",
      "\t {'en': 28}\n",
      "Category: ThirdPartyObservation\n",
      "\tTweet Count: 15 Retrieved Fraction: 0.9333333333333333\n",
      "\t {'en': 14}\n",
      "Category: Unknown\n",
      "\tTweet Count: 26 Retrieved Fraction: 0.9230769230769231\n",
      "\t {'en': 23, 'tl': 1}\n",
      "Category: MultimediaShare\n",
      "\tTweet Count: 127 Retrieved Fraction: 0.968503937007874\n",
      "\t {'en': 122, 'tl': 1}\n",
      "Category: EmergingThreats\n",
      "\tTweet Count: 36 Retrieved Fraction: 0.9166666666666666\n",
      "\t {'en': 33}\n",
      "Category: ServiceAvailable\n",
      "\tTweet Count: 15 Retrieved Fraction: 0.9333333333333333\n",
      "\t {'en': 14}\n",
      "Category: PastNews\n",
      "\tTweet Count: 12 Retrieved Fraction: 1.0\n",
      "\t {'en': 12}\n",
      "Category: Discussion\n",
      "\tTweet Count: 51 Retrieved Fraction: 0.8627450980392157\n",
      "\t {'en': 44}\n",
      "Category: Advice\n",
      "\tTweet Count: 39 Retrieved Fraction: 0.9743589743589743\n",
      "\t {'en': 38}\n",
      "Category: InformationWanted\n",
      "\tTweet Count: 10 Retrieved Fraction: 1.0\n",
      "\t {'en': 10}\n",
      "Category: Donations\n",
      "\tTweet Count: 15 Retrieved Fraction: 1.0\n",
      "\t {'en': 15}\n",
      "Category: Weather\n",
      "\tTweet Count: 42 Retrieved Fraction: 0.9761904761904762\n",
      "\t {'en': 40, 'tl': 1}\n",
      "Category: CleanUp\n",
      "\tTweet Count: 2 Retrieved Fraction: 1.0\n",
      "\t {'en': 2}\n",
      "Category: Volunteer\n",
      "\tTweet Count: 2 Retrieved Fraction: 1.0\n",
      "\t {'en': 2}\n",
      "Category: Hashtags\n",
      "\tTweet Count: 4 Retrieved Fraction: 1.0\n",
      "\t {'en': 4}\n"
     ]
    }
   ],
   "source": [
    "for category, tweet_ids in tweet_category_map.items():\n",
    "    retrieved_count = sum([1 if int(tid) in tweet_id_map else 0 in tweet_id_map for tid in tweet_ids])\n",
    "    print(\"Category:\", category)\n",
    "    print(\"\\tTweet Count:\", len(tweet_ids), \"Retrieved Fraction:\", retrieved_count/len(tweet_ids))\n",
    "    \n",
    "    lang_count_map = {}\n",
    "    for lang in [tweet_id_map[int(tid)][\"lang\"] for tid in tweet_ids if int(tid) in tweet_id_map]:\n",
    "        lang_count_map[lang] = lang_count_map.get(lang, 0) + 1\n",
    "    print(\"\\t\", str(lang_count_map))"
   ]
  },
  {
   "cell_type": "code",
   "execution_count": null,
   "metadata": {},
   "outputs": [],
   "source": []
  },
  {
   "cell_type": "code",
   "execution_count": null,
   "metadata": {},
   "outputs": [],
   "source": []
  },
  {
   "cell_type": "code",
   "execution_count": 13,
   "metadata": {},
   "outputs": [],
   "source": [
    "# Skip stop words, retweet signs, @ symbols, and URL headers\n",
    "stopList = [\"http\", \"https\", \"rt\", \"@\", \":\", \"t.co\", \"co\", \"amp\", \"&amp;\", \"...\", \"\\n\", \"\\r\"]\n",
    "stopList.extend(string.punctuation)\n",
    "# stopList.extend(stopwords.words(\"english\"))"
   ]
  },
  {
   "cell_type": "code",
   "execution_count": 14,
   "metadata": {},
   "outputs": [],
   "source": [
    "# def tokenizer_wrapper(text):\n",
    "#     return [t.lemma_ for t in nlp(text)]\n",
    "\n",
    "local_tokenizer = TweetTokenizer()\n",
    "def tokenizer_wrapper(text):\n",
    "    return local_tokenizer.tokenize(text)"
   ]
  },
  {
   "cell_type": "code",
   "execution_count": 15,
   "metadata": {},
   "outputs": [],
   "source": [
    "# Generate Additional Features\n",
    "sentiment_analyzer = VS()\n",
    "\n",
    "def count_twitter_objs(text_string):\n",
    "    \"\"\"\n",
    "    Accepts a text string and replaces:\n",
    "    1) urls with URLHERE\n",
    "    2) lots of whitespace with one instance\n",
    "    3) mentions with MENTIONHERE\n",
    "    4) hashtags with HASHTAGHERE\n",
    "\n",
    "    This allows us to get standardized counts of urls and mentions\n",
    "    Without caring about specific people mentioned.\n",
    "    \n",
    "    Returns counts of urls, mentions, and hashtags.\n",
    "    \"\"\"\n",
    "    space_pattern = '\\s+'\n",
    "    giant_url_regex = ('http[s]?://(?:[a-zA-Z]|[0-9]|[$-_@.&+]|'\n",
    "        '[!*\\(\\),]|(?:%[0-9a-fA-F][0-9a-fA-F]))+')\n",
    "    mention_regex = '@[\\w\\-]+'\n",
    "    hashtag_regex = '#[\\w\\-]+'\n",
    "    parsed_text = re.sub(space_pattern, ' ', text_string)\n",
    "    parsed_text = re.sub(giant_url_regex, 'URLHERE', parsed_text)\n",
    "    parsed_text = re.sub(mention_regex, 'MENTIONHERE', parsed_text)\n",
    "    parsed_text = re.sub(hashtag_regex, 'HASHTAGHERE', parsed_text)\n",
    "    return(parsed_text.count('URLHERE'),parsed_text.count('MENTIONHERE'),parsed_text.count('HASHTAGHERE'))\n",
    "\n",
    "## Taken from Davidson et al.\n",
    "def other_features(tweet):\n",
    "    \"\"\"This function takes a string and returns a list of features.\n",
    "    These include Sentiment scores, Text and Readability scores,\n",
    "    as well as Twitter specific features\"\"\"\n",
    "    tweet_text = tweet[\"text\"]\n",
    "    \n",
    "    ##SENTIMENT\n",
    "    sentiment = sentiment_analyzer.polarity_scores(tweet_text)\n",
    "    \n",
    "    words = local_tokenizer.tokenize(tweet_text) #Get text only\n",
    "    \n",
    "    num_chars = sum(len(w) for w in words) #num chars in words\n",
    "    num_chars_total = len(tweet_text)\n",
    "    num_terms = len(tweet_text.split())\n",
    "    num_words = len(words)\n",
    "    num_unique_terms = len(set([x.lower() for x in words]))\n",
    "    \n",
    "    caps_count = sum([1 if x.isupper() else 0 for x in tweet_text])\n",
    "    caps_ratio = caps_count / num_chars_total\n",
    "    \n",
    "    twitter_objs = count_twitter_objs(tweet_text) #Count #, @, and http://\n",
    "    num_media = 0\n",
    "    if \"media\" in tweet[\"entities\"]:\n",
    "        num_media = len(tweet[\"entities\"][\"media\"])\n",
    "    retweet = 0\n",
    "    if \"rt\" in words or \"retweeted_status\" in tweet:\n",
    "        retweet = 1\n",
    "        \n",
    "    has_place = 1 if \"coordinates\" in tweet else 0\n",
    "        \n",
    "    author = tweet[\"user\"]\n",
    "    is_verified = 1 if author[\"verified\"] else 0\n",
    "    log_followers = 0 if author[\"followers_count\"] == 0 else np.log(author[\"followers_count\"])\n",
    "    log_friends = 0 if author[\"friends_count\"] == 0 else np.log(author[\"friends_count\"])\n",
    "    \n",
    "    features = [num_chars, num_chars_total, num_terms, num_words,\n",
    "                num_unique_terms, sentiment['neg'], sentiment['pos'], \n",
    "                sentiment['neu'], sentiment['compound'],\n",
    "                twitter_objs[2], twitter_objs[1],\n",
    "                twitter_objs[0], retweet, num_media,\n",
    "                is_verified, \n",
    "#                 log_followers, log_friends,\n",
    "#                 has_place,\n",
    "                caps_ratio,\n",
    "               ]\n",
    "\n",
    "    return features\n",
    "\n",
    "other_features_names = [\"num_chars\", \"num_chars_total\", \\\n",
    "                        \"num_terms\", \"num_words\", \"num_unique_words\", \"vader neg\",\"vader pos\",\n",
    "                        \"vader neu\", \"vader compound\", \\\n",
    "                        \"num_hashtags\", \"num_mentions\", \n",
    "                        \"num_urls\", \"is_retweet\", \"num_media\",\n",
    "                        \"is_verified\", \n",
    "#                         \"log_followers\", \"log_friends\",\n",
    "#                         \"has_place\",\n",
    "                        \"caps_ratio\",\n",
    "                       ]"
   ]
  },
  {
   "cell_type": "code",
   "execution_count": null,
   "metadata": {},
   "outputs": [],
   "source": []
  },
  {
   "cell_type": "code",
   "execution_count": 16,
   "metadata": {},
   "outputs": [],
   "source": [
    "vectorizer = sklearn.feature_extraction.text.TfidfVectorizer(\n",
    "    tokenizer=tokenizer_wrapper,\n",
    "    ngram_range=(1, 1),\n",
    "    stop_words=stopList, #We do better when we keep stopwords\n",
    "    use_idf=True,\n",
    "    smooth_idf=False,\n",
    "    norm=None, #Applies l2 norm smoothing\n",
    "    decode_error='replace',\n",
    "    max_features=10000,\n",
    "    min_df=4,\n",
    "    max_df=0.501\n",
    "    )"
   ]
  },
  {
   "cell_type": "code",
   "execution_count": 17,
   "metadata": {},
   "outputs": [],
   "source": [
    "# #We can use the TFIDF vectorizer to get a token matrix for the POS tags\n",
    "# pos_vectorizer = sklearn.feature_extraction.text.TfidfVectorizer(\n",
    "#     #vectorizer = sklearn.feature_extraction.text.CountVectorizer(\n",
    "#     tokenizer=None,\n",
    "#     lowercase=False,\n",
    "#     preprocessor=None,\n",
    "#     ngram_range=(1, 3),\n",
    "#     stop_words=None, #We do better when we keep stopwords\n",
    "#     use_idf=False,\n",
    "#     smooth_idf=False,\n",
    "#     norm=None, #Applies l2 norm smoothing\n",
    "#     decode_error='replace',\n",
    "#     max_features=5000,\n",
    "#     min_df=5,\n",
    "#     max_df=0.501,\n",
    "#     )"
   ]
  },
  {
   "cell_type": "code",
   "execution_count": null,
   "metadata": {},
   "outputs": [],
   "source": []
  },
  {
   "cell_type": "code",
   "execution_count": 18,
   "metadata": {},
   "outputs": [
    {
     "name": "stdout",
     "output_type": "stream",
     "text": [
      "Skipping category: CleanUp\n",
      "Skipping category: Volunteer\n",
      "Skipping category: Hashtags\n"
     ]
    }
   ],
   "source": [
    "category_to_label = {c:i for i, c in enumerate(tweet_category_map.keys()) if c != \"Irrelevant\"}\n",
    "category_to_label[\"Irrelevant\"] = -1\n",
    "\n",
    "tweet_id_to_category = {}\n",
    "for category, tweet_ids in tweet_category_map.items():\n",
    "    if ( len(tweet_ids) < 5 ):\n",
    "        print(\"Skipping category:\", category)\n",
    "        continue\n",
    "        \n",
    "    for tweet_id in tweet_ids:\n",
    "        tweet_id_to_category[int(tweet_id)] = category_to_label[category]"
   ]
  },
  {
   "cell_type": "code",
   "execution_count": 19,
   "metadata": {},
   "outputs": [],
   "source": [
    "tweet_pairs = [(tweet, tweet_id_to_category[tid]) \n",
    "               for tid, tweet in tweet_id_map.items() if tid in tweet_id_to_category]\n",
    "tweet_texts = [tp[0][\"text\"] for tp in tweet_pairs]\n",
    "\n",
    "y_data = np.array([tp[1] for tp in tweet_pairs])"
   ]
  },
  {
   "cell_type": "code",
   "execution_count": null,
   "metadata": {},
   "outputs": [],
   "source": []
  },
  {
   "cell_type": "code",
   "execution_count": 20,
   "metadata": {},
   "outputs": [],
   "source": [
    "def normalize(s):\n",
    "    \"\"\"\n",
    "    Given a text, cleans and normalizes it. Feel free to add your own stuff.\n",
    "    From: https://www.kaggle.com/mschumacher/using-fasttext-models-for-robust-embeddings\n",
    "    \"\"\"\n",
    "    s = s.lower()\n",
    "\n",
    "    # Replace numbers and symbols with language\n",
    "    s = s.replace('&', ' and ')\n",
    "    s = s.replace('@', ' at ')\n",
    "    s = s.replace('0', 'zero')\n",
    "    s = s.replace('1', 'one')\n",
    "    s = s.replace('2', 'two')\n",
    "    s = s.replace('3', 'three')\n",
    "    s = s.replace('4', 'four')\n",
    "    s = s.replace('5', 'five')\n",
    "    s = s.replace('6', 'six')\n",
    "    s = s.replace('7', 'seven')\n",
    "    s = s.replace('8', 'eight')\n",
    "    s = s.replace('9', 'nine')\n",
    "\n",
    "    return s\n",
    "\n",
    "analyzer = vectorizer.build_analyzer()\n",
    "def ft_tokenizer(text):\n",
    "    return [normalize(t) for t in analyzer(text)]"
   ]
  },
  {
   "cell_type": "code",
   "execution_count": 21,
   "metadata": {},
   "outputs": [],
   "source": [
    "# model_gensim = FastText.load('text_sample_2015_gensim.model')\n",
    "model_gensim = FastText.load('text_sample_2013to2016_gensim_200.model')\n",
    "# model_gensim = FastText.load_fasttext_format('../data/cc.en.300.bin')\n",
    "wvs = model_gensim.wv"
   ]
  },
  {
   "cell_type": "code",
   "execution_count": 22,
   "metadata": {},
   "outputs": [
    {
     "name": "stderr",
     "output_type": "stream",
     "text": [
      "/scratch/clb617/anaconda3/lib/python3.6/site-packages/gensim/matutils.py:737: FutureWarning: Conversion of the second argument of issubdtype from `int` to `np.signedinteger` is deprecated. In future, it will be treated as `np.int64 == np.dtype(int).type`.\n",
      "  if np.issubdtype(vec.dtype, np.int):\n"
     ]
    },
    {
     "data": {
      "text/plain": [
       "[('#prayforparis', 0.7739624381065369),\n",
       " ('#prayforgaza', 0.674716055393219),\n",
       " ('#prayforiraq', 0.6647266149520874),\n",
       " ('#prayforsyria', 0.6583042144775391),\n",
       " ('#prayforjakarta', 0.6565165519714355),\n",
       " ('#prayfororlando', 0.6531145572662354),\n",
       " ('#prayforvenezuela', 0.6508985757827759),\n",
       " ('#prayforlebanon', 0.6483551263809204),\n",
       " ('#prayforpalestine', 0.6478559970855713),\n",
       " ('#prayforpalestina', 0.6470707654953003)]"
      ]
     },
     "execution_count": 22,
     "metadata": {},
     "output_type": "execute_result"
    }
   ],
   "source": [
    "wvs.most_similar(\"prayfourparis\")"
   ]
  },
  {
   "cell_type": "code",
   "execution_count": 23,
   "metadata": {},
   "outputs": [
    {
     "name": "stderr",
     "output_type": "stream",
     "text": [
      "/scratch/clb617/anaconda3/lib/python3.6/site-packages/gensim/matutils.py:737: FutureWarning: Conversion of the second argument of issubdtype from `int` to `np.signedinteger` is deprecated. In future, it will be treated as `np.int64 == np.dtype(int).type`.\n",
      "  if np.issubdtype(vec.dtype, np.int):\n"
     ]
    },
    {
     "name": "stdout",
     "output_type": "stream",
     "text": [
      "oh\n",
      "\t ('oh-oh', 0.9344242215156555)\n",
      "\t ('ohb', 0.933042585849762)\n",
      "\t ('ohoh', 0.9088118076324463)\n",
      "\t ('ohg', 0.8867995142936707)\n",
      "\t ('ohk', 0.8837788701057434)\n",
      "\t ('oh-oh-oh', 0.8736780881881714)\n",
      "\t ('ohhh', 0.8181324005126953)\n",
      "\t ('ohhhh', 0.8096061944961548)\n",
      "\t ('ohh', 0.8080515265464783)\n",
      "\t ('ohm', 0.7898209095001221)\n",
      "--------------------\n",
      "my\n",
      "\t ('mymy', 0.8952715396881104)\n",
      "\t ('myp', 0.8614231944084167)\n",
      "\t ('myh', 0.8381385803222656)\n",
      "\t ('myk', 0.828770637512207)\n",
      "\t ('w.my', 0.8214777708053589)\n",
      "\t ('myi', 0.8180892467498779)\n",
      "\t ('ymy', 0.8035914897918701)\n",
      "\t ('mydx', 0.802086591720581)\n",
      "\t ('wmy', 0.7935253381729126)\n",
      "\t ('myx', 0.7933123111724854)\n",
      "--------------------\n",
      "god\n",
      "\t ('ymgod', 0.923058032989502)\n",
      "\t ('mgod', 0.917991042137146)\n",
      "\t ('ggod', 0.915459394454956)\n",
      "\t ('godh', 0.9124449491500854)\n",
      "\t ('tgod', 0.9084591865539551)\n",
      "\t ('godf', 0.8931830525398254)\n",
      "\t ('ygod', 0.8916155099868774)\n",
      "\t ('ogod', 0.8847086429595947)\n",
      "\t ('godz', 0.8835099339485168)\n",
      "\t ('godrej', 0.8454644680023193)\n",
      "--------------------\n",
      "the\n",
      "\t ('œthe', 0.8558560013771057)\n",
      "\t ('⁰the', 0.8551971912384033)\n",
      "\t ('w.the', 0.8543987274169922)\n",
      "\t ('wythe', 0.844436526298523)\n",
      "\t ('_the', 0.8372332453727722)\n",
      "\t ('lthe', 0.8345720767974854)\n",
      "\t ('to.the', 0.831917405128479)\n",
      "\t ('t-the', 0.8269553780555725)\n",
      "\t ('tthe', 0.8200079202651978)\n",
      "\t ('scythe', 0.8143529891967773)\n",
      "--------------------\n",
      "humanity\n",
      "\t ('inhumanity', 0.9558692574501038)\n",
      "\t (\"humanity's\", 0.9337003231048584)\n",
      "\t ('#msgforhumanity', 0.9123786687850952)\n",
      "\t ('#humanity', 0.8958079814910889)\n",
      "\t ('humanization', 0.884676456451416)\n",
      "\t ('#missionhumanity', 0.8814035654067993)\n",
      "\t ('humanism', 0.878568172454834)\n",
      "\t ('humanness', 0.8781055808067322)\n",
      "\t ('#humanitymsgpassion', 0.8751184344291687)\n",
      "\t ('humanities', 0.8715822696685791)\n",
      "--------------------\n",
      "my\n",
      "\t ('mymy', 0.8952715396881104)\n",
      "\t ('myp', 0.8614231944084167)\n",
      "\t ('myh', 0.8381385803222656)\n",
      "\t ('myk', 0.828770637512207)\n",
      "\t ('w.my', 0.8214777708053589)\n",
      "\t ('myi', 0.8180892467498779)\n",
      "\t ('ymy', 0.8035914897918701)\n",
      "\t ('mydx', 0.802086591720581)\n",
      "\t ('wmy', 0.7935253381729126)\n",
      "\t ('myx', 0.7933123111724854)\n",
      "--------------------\n",
      "prayers\n",
      "\t ('#prayers', 0.9039732217788696)\n",
      "\t ('prayer', 0.8298519849777222)\n",
      "\t (\"prayer's\", 0.8133476376533508)\n",
      "\t ('prays', 0.8082584142684937)\n",
      "\t ('prayerfully', 0.7832860946655273)\n",
      "\t ('prayuth', 0.7766659259796143)\n",
      "\t ('#prayersforboston', 0.7744061946868896)\n",
      "\t ('#prayersforparis', 0.7656938433647156)\n",
      "\t ('prayut', 0.7604882717132568)\n",
      "\t ('#prayersfororlando', 0.7586657404899597)\n",
      "--------------------\n",
      "are\n",
      "\t ('arenâ', 0.8820586204528809)\n",
      "\t (\"are'nt\", 0.8152363896369934)\n",
      "\t ('arezzo', 0.8095571994781494)\n",
      "\t ('areej', 0.8065836429595947)\n",
      "\t ('areu', 0.7967613935470581)\n",
      "\t ('arek', 0.7960411906242371)\n",
      "\t (\"aren't\", 0.7958953380584717)\n",
      "\t ('aren', 0.793291449546814)\n",
      "\t ('arent', 0.7850971221923828)\n",
      "\t (\"w're\", 0.7728259563446045)\n",
      "--------------------\n",
      "with\n",
      "\t ('w-with', 0.8763522505760193)\n",
      "\t ('with-it', 0.8115451335906982)\n",
      "\t ('wwith', 0.8019832968711853)\n",
      "\t (\"with'em\", 0.7779859304428101)\n",
      "\t ('withy', 0.7698594927787781)\n",
      "\t ('witj', 0.7679673433303833)\n",
      "\t ('withcha', 0.7525311708450317)\n",
      "\t ('witha', 0.7518644332885742)\n",
      "\t ('withcho', 0.7481245994567871)\n",
      "\t ('witg', 0.7469532489776611)\n",
      "--------------------\n",
      "those\n",
      "\t ('thosee', 0.9007858037948608)\n",
      "\t ('thoses', 0.8704366683959961)\n",
      "\t ('thos', 0.8589104413986206)\n",
      "\t ('these', 0.8345279693603516)\n",
      "\t ('theseus', 0.8185019493103027)\n",
      "\t ('#those', 0.8010338544845581)\n",
      "\t ('theses', 0.7957590818405151)\n",
      "\t ('thesee', 0.7809074521064758)\n",
      "\t ('theseee', 0.7561261653900146)\n",
      "\t ('#whatarethose', 0.7419182658195496)\n",
      "--------------------\n",
      "victims\n",
      "\t ('#victims', 0.8897196054458618)\n",
      "\t ('victimhood', 0.8835662603378296)\n",
      "\t (\"victim's\", 0.8778598308563232)\n",
      "\t ('victime', 0.8701320886611938)\n",
      "\t ('victim', 0.8599623441696167)\n",
      "\t ('victimless', 0.8596954941749573)\n",
      "\t ('victi', 0.855548620223999)\n",
      "\t ('victim-blaming', 0.8010062575340271)\n",
      "\t ('victimised', 0.7960739731788635)\n",
      "\t ('#msghelpearthquakevictims', 0.7907971143722534)\n",
      "--------------------\n",
      "of\n",
      "\t ('o-of', 0.847296416759491)\n",
      "\t ('ofckof', 0.8216123580932617)\n",
      "\t ('ofh', 0.7695596218109131)\n",
      "\t ('ofd', 0.7454923987388611)\n",
      "\t ('ofn', 0.7446337342262268)\n",
      "\t ('eof', 0.7292764186859131)\n",
      "\t ('fof', 0.7242265343666077)\n",
      "\t ('ofg', 0.6992284655570984)\n",
      "\t ('wsof', 0.6748321056365967)\n",
      "\t ('ofw', 0.6602651476860046)\n",
      "--------------------\n",
      "gunmen\n",
      "\t ('policemen', 0.8557294607162476)\n",
      "\t ('gunman', 0.8497649431228638)\n",
      "\t ('militants', 0.8168797492980957)\n",
      "\t ('nemen', 0.8068184852600098)\n",
      "\t ('policewomen', 0.8027265071868896)\n",
      "\t ('armen', 0.7979487180709839)\n",
      "\t ('ikemen', 0.7975054979324341)\n",
      "\t ('policeman', 0.7972792983055115)\n",
      "\t ('ex-soldiers', 0.7958633899688721)\n",
      "\t ('terrorists', 0.7958130836486816)\n",
      "--------------------\n",
      "in\n",
      "\t ('inm', 0.6116119623184204)\n",
      "\t ('into', 0.5606091022491455)\n",
      "\t ('inmg', 0.5554026365280151)\n",
      "\t ('inw', 0.5486611723899841)\n",
      "\t ('intox', 0.5471862554550171)\n",
      "\t ('intown', 0.5365922451019287)\n",
      "\t (\"int'l\", 0.527003288269043)\n",
      "\t ('intnl', 0.5267993807792664)\n",
      "\t ('inxs', 0.515646755695343)\n",
      "\t ('inal', 0.5125962495803833)\n",
      "--------------------\n",
      "#prayfourboston\n",
      "\t ('#prayforboston', 0.9329119920730591)\n",
      "\t ('#prayersforboston', 0.8892773389816284)\n",
      "\t ('#prayforbaltimore', 0.8469971418380737)\n",
      "\t ('#prayforlebanon', 0.840161144733429)\n",
      "\t ('#prayfororlando', 0.8371015787124634)\n",
      "\t ('#prayformhoneseven', 0.8332272171974182)\n",
      "\t ('#boston', 0.8291369676589966)\n",
      "\t ('#prayersfourparis', 0.8287401795387268)\n",
      "\t ('#prayformhthreesevenzero', 0.8265210390090942)\n",
      "\t ('#prayfourme', 0.8258585333824158)\n",
      "--------------------\n"
     ]
    }
   ],
   "source": [
    "test_sentence = \"oh my god the humanity my prayers are with those victims of gunmen in #pray4boston\"\n",
    "test_tokens = [normalize(t) for t in analyzer(test_sentence)]\n",
    "for t in test_tokens:\n",
    "#     print(wvs[t])\n",
    "\n",
    "    print(t)\n",
    "    for z in wvs.most_similar(t):\n",
    "        print(\"\\t\", z)\n",
    "    print(\"-\"*20)"
   ]
  },
  {
   "cell_type": "code",
   "execution_count": 24,
   "metadata": {},
   "outputs": [],
   "source": [
    "def vectorize(sentence):\n",
    "    tokenized = [normalize(t) for t in analyzer(sentence)]\n",
    "    \n",
    "    wv_vecs = []\n",
    "    for t in tokenized:\n",
    "\n",
    "        try:\n",
    "            v = wvs[t]\n",
    "            norm = np.linalg.norm(v)\n",
    "            normed_v = (v / norm)\n",
    "            wv_vecs.append(normed_v)\n",
    "        except:\n",
    "            continue\n",
    "    \n",
    "    m = np.array(wv_vecs)\n",
    "    normed_m = np.mean(m, axis=0)\n",
    "\n",
    "    return normed_m"
   ]
  },
  {
   "cell_type": "code",
   "execution_count": 25,
   "metadata": {},
   "outputs": [
    {
     "name": "stderr",
     "output_type": "stream",
     "text": [
      "/scratch/clb617/anaconda3/lib/python3.6/site-packages/gensim/matutils.py:737: FutureWarning: Conversion of the second argument of issubdtype from `int` to `np.signedinteger` is deprecated. In future, it will be treated as `np.int64 == np.dtype(int).type`.\n",
      "  if np.issubdtype(vec.dtype, np.int):\n"
     ]
    },
    {
     "data": {
      "text/plain": [
       "[('persecuting', 0.8038407564163208),\n",
       " ('thessalonians', 0.7998678684234619),\n",
       " ('persevering', 0.7992362976074219),\n",
       " ('fearmongering', 0.7949839234352112),\n",
       " ('fear-mongering', 0.7946574091911316),\n",
       " ('thespian', 0.7943933606147766),\n",
       " ('manitobans', 0.7920165061950684),\n",
       " ('molesting', 0.7919796705245972),\n",
       " ('#usamanagesterrorismandsiegeonyemen', 0.791736900806427),\n",
       " ('unsuspecting', 0.7916780114173889)]"
      ]
     },
     "execution_count": 25,
     "metadata": {},
     "output_type": "execute_result"
    }
   ],
   "source": [
    "test_vect = vectorize(test_sentence)\n",
    "# print(test_vect.shape)\n",
    "wvs.similar_by_vector(test_vect)"
   ]
  },
  {
   "cell_type": "code",
   "execution_count": null,
   "metadata": {},
   "outputs": [],
   "source": []
  },
  {
   "cell_type": "code",
   "execution_count": 26,
   "metadata": {},
   "outputs": [
    {
     "data": {
      "text/plain": [
       "(1253, 200)"
      ]
     },
     "execution_count": 26,
     "metadata": {},
     "output_type": "execute_result"
    }
   ],
   "source": [
    "ft_features_ = [vectorize(s) for s in tweet_texts]\n",
    "ft_features = np.array([x for x in ft_features_])\n",
    "ft_features.shape"
   ]
  },
  {
   "cell_type": "code",
   "execution_count": null,
   "metadata": {},
   "outputs": [],
   "source": []
  },
  {
   "cell_type": "code",
   "execution_count": 27,
   "metadata": {},
   "outputs": [],
   "source": [
    "# #Construct POS TF matrix and get vocab dict\n",
    "# tweet_tags = [[t.tag_ for t in nlp(tp)] for tp in tweet_texts]\n",
    "# pos = pos_vectorizer.fit_transform(np.array([' '.join(x) for x in tweet_tags])).toarray()\n",
    "# pos_vocab = {v:i for i, v in enumerate(pos_vectorizer.get_feature_names())}"
   ]
  },
  {
   "cell_type": "code",
   "execution_count": 28,
   "metadata": {},
   "outputs": [],
   "source": [
    "# pos.shape"
   ]
  },
  {
   "cell_type": "code",
   "execution_count": 29,
   "metadata": {},
   "outputs": [
    {
     "data": {
      "text/plain": [
       "(1253, 16)"
      ]
     },
     "execution_count": 29,
     "metadata": {},
     "output_type": "execute_result"
    }
   ],
   "source": [
    "other_ftr_data = np.array([other_features(tweet) for tweet, _ in tweet_pairs])\n",
    "other_ftr_data.shape"
   ]
  },
  {
   "cell_type": "code",
   "execution_count": 36,
   "metadata": {},
   "outputs": [
    {
     "name": "stdout",
     "output_type": "stream",
     "text": [
      "(1253, 216) (1253,)\n"
     ]
    }
   ],
   "source": [
    "X_data = np.concatenate([\n",
    "    ft_features, \n",
    "    other_ftr_data, \n",
    "#     pos\n",
    "], axis=1)\n",
    "\n",
    "print(X_data.shape, y_data.shape)"
   ]
  },
  {
   "cell_type": "code",
   "execution_count": null,
   "metadata": {},
   "outputs": [],
   "source": []
  },
  {
   "cell_type": "code",
   "execution_count": null,
   "metadata": {},
   "outputs": [],
   "source": []
  },
  {
   "cell_type": "code",
   "execution_count": 37,
   "metadata": {},
   "outputs": [],
   "source": [
    "r_state = 1337"
   ]
  },
  {
   "cell_type": "code",
   "execution_count": 38,
   "metadata": {},
   "outputs": [
    {
     "name": "stdout",
     "output_type": "stream",
     "text": [
      "\tAccuracy: 0.2814814814814815\n",
      "\tF1: 0.170691881218197\n",
      "\tAccuracy: 0.5373134328358209\n",
      "\tF1: 0.30667869943676396\n",
      "\tAccuracy: 0.5227272727272727\n",
      "\tF1: 0.35706051051382115\n",
      "\tAccuracy: 0.4418604651162791\n",
      "\tF1: 0.26495577610795\n",
      "\tAccuracy: 0.416\n",
      "\tF1: 0.32163947163947165\n",
      "\tAccuracy: 0.4098360655737705\n",
      "\tF1: 0.2958041958041958\n",
      "\tAccuracy: 0.35537190082644626\n",
      "\tF1: 0.2060324021835796\n",
      "\tAccuracy: 0.425\n",
      "\tF1: 0.29566566302634417\n",
      "\tAccuracy: 0.3559322033898305\n",
      "\tF1: 0.2183650920940416\n",
      "\tAccuracy: 0.4700854700854701\n",
      "\tF1: 0.26830240002653793\n",
      "Accuracy: 0.42156082920363713\n",
      "F1: 0.2705196092050903\n"
     ]
    },
    {
     "name": "stderr",
     "output_type": "stream",
     "text": [
      "/scratch/clb617/anaconda3/lib/python3.6/site-packages/sklearn/metrics/classification.py:1135: UndefinedMetricWarning: F-score is ill-defined and being set to 0.0 in labels with no predicted samples.\n",
      "  'precision', 'predicted', average, warn_for)\n"
     ]
    }
   ],
   "source": [
    "f1_accum = []\n",
    "accuracy_accum = []\n",
    "\n",
    "rf_params = {\n",
    "    'n_estimators': 128, \n",
    "    \"n_jobs\": -1,\n",
    "    'random_state': r_state,\n",
    "    'class_weight': \"balanced\",\n",
    "#     'criterion': 'gini',\n",
    "#     'max_depth': 32,\n",
    "#     'max_features': 113,\n",
    "#     'min_samples_leaf': 2,\n",
    "#     'min_samples_split': 54,\n",
    "}\n",
    "\n",
    "nb_params = {\n",
    "    'alpha': 0.29236054513981746,\n",
    "    'binarize': 0.0024243834476879167,\n",
    "    'fit_prior': True\n",
    "}\n",
    "\n",
    "skf = StratifiedKFold(n_splits=10, random_state=r_state)\n",
    "for train, test in skf.split(X_data, y_data):\n",
    "\n",
    "    X_train = X_data[train]\n",
    "    y_train = y_data[train]\n",
    "    \n",
    "    X_test = X_data[test]\n",
    "    y_test = y_data[test]\n",
    "\n",
    "    # train\n",
    "#     fitted_model = RandomForestClassifier(**rf_params)\n",
    "    fitted_model = BernoulliNB(**nb_params)\n",
    "    fitted_model.fit(X_train, y_train)\n",
    "\n",
    "    # Compute Precision-Recall \n",
    "    y_infer_local = fitted_model.predict(X_test)\n",
    "    local_f1 = f1_score(y_test, y_infer_local, average=\"macro\")\n",
    "    local_score = fitted_model.score(X_test, y_test)\n",
    "    print(\"\\tAccuracy:\", local_score)\n",
    "    print(\"\\tF1:\", local_f1)\n",
    "    \n",
    "    f1_accum.append(local_f1)\n",
    "    accuracy_accum.append(local_score)\n",
    "\n",
    "print(\"Accuracy:\", np.mean(accuracy_accum))\n",
    "print(\"F1:\", np.mean(f1_accum))"
   ]
  },
  {
   "cell_type": "code",
   "execution_count": null,
   "metadata": {},
   "outputs": [],
   "source": []
  },
  {
   "cell_type": "code",
   "execution_count": null,
   "metadata": {},
   "outputs": [],
   "source": []
  },
  {
   "cell_type": "code",
   "execution_count": 192,
   "metadata": {
    "scrolled": false
   },
   "outputs": [
    {
     "name": "stdout",
     "output_type": "stream",
     "text": [
      "Label: KnownAlready\n",
      "Score: 0.9433359936153233\n",
      "Label: Official\n",
      "Score: 0.9050279329608939\n",
      "Label: ContinuingNews\n",
      "Score: 0.7781324820430966\n",
      "Label: Factoid\n",
      "Score: 0.8244213886671987\n",
      "Label: MovePeople\n",
      "Score: 0.9816440542697525\n",
      "Label: SignificantEventChange\n",
      "Score: 0.9177972865123704\n",
      "Label: Sentiment\n",
      "Score: 0.8667198723064645\n",
      "Label: FirstPartyObservation\n",
      "Score: 0.9154030327214685\n",
      "Label: ThirdPartyObservation\n",
      "Score: 0.9744612928970471\n",
      "Label: Unknown\n",
      "Score: 0.9696727853152434\n",
      "Label: MultimediaShare\n",
      "Score: 0.9058260175578612\n",
      "Label: EmergingThreats\n",
      "Score: 0.9592976855546688\n",
      "Label: ServiceAvailable\n",
      "Score: 0.9776536312849162\n",
      "Label: PastNews\n",
      "Score: 0.965682362330407\n",
      "Label: Discussion\n",
      "Score: 0.87390263367917\n",
      "Label: Advice\n",
      "Score: 0.9090183559457302\n",
      "Label: InformationWanted\n",
      "Score: 0.9768555466879489\n",
      "Label: Donations\n",
      "Score: 0.9377494014365523\n",
      "Label: Weather\n",
      "Score: 0.9632881085395052\n",
      "Label: CleanUp\n",
      "Score: 1.0\n",
      "Label: Volunteer\n",
      "Score: 1.0\n",
      "Label: Hashtags\n",
      "Score: 1.0\n",
      "Label: Irrelevant\n",
      "Score: 0.8236233040702314\n"
     ]
    },
    {
     "name": "stderr",
     "output_type": "stream",
     "text": [
      "/scratch/clb617/anaconda3/lib/python3.6/site-packages/sklearn/naive_bayes.py:461: RuntimeWarning: divide by zero encountered in log\n",
      "  self.class_log_prior_ = (np.log(self.class_count_) -\n"
     ]
    }
   ],
   "source": [
    "category_number_list = list(category_to_label.values())\n",
    "label_to_category = {j:i for i, j in category_to_label.items()}\n",
    "for positive_category in category_number_list:\n",
    "    local_y_data = [1 if y == positive_category else 0 for y in y_data]\n",
    "    \n",
    "#     fitted_model = RandomForestClassifier(**rf_params)\n",
    "    fitted_model = BernoulliNB(**nb_params)\n",
    "    fitted_model.fit(X_data, local_y_data)\n",
    "   \n",
    "    print(\"Label:\", label_to_category[positive_category])\n",
    "    print(\"Score:\", fitted_model.score(X_data, local_y_data))\n"
   ]
  },
  {
   "cell_type": "code",
   "execution_count": null,
   "metadata": {},
   "outputs": [],
   "source": []
  },
  {
   "cell_type": "code",
   "execution_count": 35,
   "metadata": {},
   "outputs": [],
   "source": [
    "def random_search(X_data, y_data, clf, param_dist, n_iter_search=20, r_state=1337):\n",
    "    # run randomized search\n",
    "    random_search = RandomizedSearchCV(clf, \n",
    "                                       param_distributions=param_dist,\n",
    "                                       n_iter=n_iter_search,\n",
    "                                       cv=10,\n",
    "                                       scoring=\"f1_macro\",\n",
    "                                       random_state=r_state,\n",
    "                                       verbose=2,\n",
    "                                       n_jobs=-1,\n",
    "                                      )\n",
    "    \n",
    "    random_search.fit(X_data, y_data)\n",
    "\n",
    "    return (random_search.best_score_, random_search.best_params_)\n",
    "\n",
    "def model_eval_rf(X_data, y_data, n_iter_search=100, r_state=1337):\n",
    "\n",
    "    clf = RandomForestClassifier(\n",
    "        n_estimators=100, class_weight=\"balanced\", random_state=r_state)\n",
    "    \n",
    "    # specify parameters and distributions to sample from\n",
    "    param_dist = {\n",
    "        \"max_depth\": scipy.stats.randint(2, 8),\n",
    "        \"max_features\": scipy.stats.randint(2, min(128, X_data.shape[1])),\n",
    "        \"min_samples_split\": scipy.stats.randint(2, 512),\n",
    "        \"min_samples_leaf\": scipy.stats.randint(2, 512),\n",
    "#         \"criterion\": [\"gini\", \"entropy\"],\n",
    "    }\n",
    "    \n",
    "    return random_search(X_data, y_data, clf, param_dist, n_iter_search=n_iter_search, r_state=r_state)\n",
    "\n",
    "def model_eval_nb(X_data, y_data, n_iter_search=100, r_state=1337):\n",
    "\n",
    "    clf = BernoulliNB()\n",
    "    \n",
    "    # specify parameters and distributions to sample from\n",
    "    param_dist = {\n",
    "        \"alpha\": scipy.stats.uniform(),\n",
    "        \"binarize\": scipy.stats.uniform(),\n",
    "        \"fit_prior\": [True, False],\n",
    "    }\n",
    "    \n",
    "    return random_search(X_data, y_data, clf, param_dist, n_iter_search=n_iter_search, r_state=r_state)"
   ]
  },
  {
   "cell_type": "code",
   "execution_count": 36,
   "metadata": {
    "scrolled": true
   },
   "outputs": [
    {
     "name": "stdout",
     "output_type": "stream",
     "text": [
      "Fitting 10 folds for each of 128 candidates, totalling 1280 fits\n",
      "[CV] alpha=0.2620246750155817, binarize=0.1586839721544656, fit_prior=False \n",
      "[CV] alpha=0.2620246750155817, binarize=0.1586839721544656, fit_prior=False \n",
      "[CV] alpha=0.2620246750155817, binarize=0.1586839721544656, fit_prior=False \n",
      "[CV] alpha=0.2620246750155817, binarize=0.1586839721544656, fit_prior=False \n",
      "[CV] alpha=0.2620246750155817, binarize=0.1586839721544656, fit_prior=False \n",
      "[CV] alpha=0.2620246750155817, binarize=0.1586839721544656, fit_prior=False \n",
      "[CV] alpha=0.2620246750155817, binarize=0.1586839721544656, fit_prior=False \n",
      "[CV] alpha=0.2620246750155817, binarize=0.1586839721544656, fit_prior=False \n"
     ]
    },
    {
     "name": "stderr",
     "output_type": "stream",
     "text": [
      "/scratch/clb617/anaconda3/lib/python3.6/site-packages/sklearn/metrics/classification.py:1135: UndefinedMetricWarning: F-score is ill-defined and being set to 0.0 in labels with no predicted samples.\n",
      "  'precision', 'predicted', average, warn_for)\n"
     ]
    },
    {
     "name": "stdout",
     "output_type": "stream",
     "text": [
      "[CV] alpha=0.2620246750155817, binarize=0.1586839721544656, fit_prior=False \n"
     ]
    },
    {
     "name": "stderr",
     "output_type": "stream",
     "text": [
      "/scratch/clb617/anaconda3/lib/python3.6/site-packages/sklearn/metrics/classification.py:1135: UndefinedMetricWarning: F-score is ill-defined and being set to 0.0 in labels with no predicted samples.\n",
      "  'precision', 'predicted', average, warn_for)\n"
     ]
    },
    {
     "name": "stdout",
     "output_type": "stream",
     "text": [
      "[CV]  alpha=0.2620246750155817, binarize=0.1586839721544656, fit_prior=False, total=   0.1s\n",
      "[CV] alpha=0.2620246750155817, binarize=0.1586839721544656, fit_prior=False \n",
      "[CV]  alpha=0.2620246750155817, binarize=0.1586839721544656, fit_prior=False, total=   0.1s\n"
     ]
    },
    {
     "name": "stderr",
     "output_type": "stream",
     "text": [
      "/scratch/clb617/anaconda3/lib/python3.6/site-packages/sklearn/metrics/classification.py:1135: UndefinedMetricWarning: F-score is ill-defined and being set to 0.0 in labels with no predicted samples.\n",
      "  'precision', 'predicted', average, warn_for)\n",
      "/scratch/clb617/anaconda3/lib/python3.6/site-packages/sklearn/metrics/classification.py:1135: UndefinedMetricWarning: F-score is ill-defined and being set to 0.0 in labels with no predicted samples.\n",
      "  'precision', 'predicted', average, warn_for)\n",
      "/scratch/clb617/anaconda3/lib/python3.6/site-packages/sklearn/metrics/classification.py:1135: UndefinedMetricWarning: F-score is ill-defined and being set to 0.0 in labels with no predicted samples.\n",
      "  'precision', 'predicted', average, warn_for)\n",
      "/scratch/clb617/anaconda3/lib/python3.6/site-packages/sklearn/metrics/classification.py:1135: UndefinedMetricWarning: F-score is ill-defined and being set to 0.0 in labels with no predicted samples.\n",
      "  'precision', 'predicted', average, warn_for)\n",
      "/scratch/clb617/anaconda3/lib/python3.6/site-packages/sklearn/metrics/classification.py:1135: UndefinedMetricWarning: F-score is ill-defined and being set to 0.0 in labels with no predicted samples.\n",
      "  'precision', 'predicted', average, warn_for)\n",
      "/scratch/clb617/anaconda3/lib/python3.6/site-packages/sklearn/metrics/classification.py:1135: UndefinedMetricWarning: F-score is ill-defined and being set to 0.0 in labels with no predicted samples.\n",
      "  'precision', 'predicted', average, warn_for)\n",
      "/scratch/clb617/anaconda3/lib/python3.6/site-packages/sklearn/metrics/classification.py:1135: UndefinedMetricWarning: F-score is ill-defined and being set to 0.0 in labels with no predicted samples.\n",
      "  'precision', 'predicted', average, warn_for)\n"
     ]
    },
    {
     "name": "stdout",
     "output_type": "stream",
     "text": [
      "[CV]  alpha=0.2620246750155817, binarize=0.1586839721544656, fit_prior=False, total=   0.1s\n",
      "[CV]  alpha=0.2620246750155817, binarize=0.1586839721544656, fit_prior=False, total=   0.1s\n",
      "[CV]  alpha=0.2620246750155817, binarize=0.1586839721544656, fit_prior=False, total=   0.1s\n",
      "[CV]  alpha=0.2620246750155817, binarize=0.1586839721544656, fit_prior=False, total=   0.1s\n",
      "[CV]  alpha=0.2620246750155817, binarize=0.1586839721544656, fit_prior=False, total=   0.1s\n",
      "[CV]  alpha=0.2620246750155817, binarize=0.1586839721544656, fit_prior=False, total=   0.2s\n",
      "[CV] alpha=0.5430806760439044, binarize=0.033971386559311534, fit_prior=True \n",
      "[CV] alpha=0.5430806760439044, binarize=0.033971386559311534, fit_prior=True \n"
     ]
    },
    {
     "name": "stderr",
     "output_type": "stream",
     "text": [
      "/scratch/clb617/anaconda3/lib/python3.6/site-packages/sklearn/metrics/classification.py:1135: UndefinedMetricWarning: F-score is ill-defined and being set to 0.0 in labels with no predicted samples.\n",
      "  'precision', 'predicted', average, warn_for)\n",
      "/scratch/clb617/anaconda3/lib/python3.6/site-packages/sklearn/metrics/classification.py:1135: UndefinedMetricWarning: F-score is ill-defined and being set to 0.0 in labels with no predicted samples.\n",
      "  'precision', 'predicted', average, warn_for)\n"
     ]
    },
    {
     "name": "stdout",
     "output_type": "stream",
     "text": [
      "[CV]  alpha=0.2620246750155817, binarize=0.1586839721544656, fit_prior=False, total=   0.2s\n"
     ]
    },
    {
     "name": "stderr",
     "output_type": "stream",
     "text": [
      "/scratch/clb617/anaconda3/lib/python3.6/site-packages/sklearn/metrics/classification.py:1135: UndefinedMetricWarning: F-score is ill-defined and being set to 0.0 in labels with no predicted samples.\n",
      "  'precision', 'predicted', average, warn_for)\n"
     ]
    },
    {
     "name": "stdout",
     "output_type": "stream",
     "text": [
      "[CV] alpha=0.5430806760439044, binarize=0.033971386559311534, fit_prior=True \n",
      "[CV]  alpha=0.5430806760439044, binarize=0.033971386559311534, fit_prior=True, total=   0.1s\n",
      "[CV] alpha=0.5430806760439044, binarize=0.033971386559311534, fit_prior=True \n",
      "[CV]  alpha=0.5430806760439044, binarize=0.033971386559311534, fit_prior=True, total=   0.0s\n",
      "[CV]  alpha=0.2620246750155817, binarize=0.1586839721544656, fit_prior=False, total=   0.2s\n",
      "[CV] alpha=0.5430806760439044, binarize=0.033971386559311534, fit_prior=True \n"
     ]
    },
    {
     "name": "stderr",
     "output_type": "stream",
     "text": [
      "/scratch/clb617/anaconda3/lib/python3.6/site-packages/sklearn/metrics/classification.py:1135: UndefinedMetricWarning: F-score is ill-defined and being set to 0.0 in labels with no predicted samples.\n",
      "  'precision', 'predicted', average, warn_for)\n"
     ]
    },
    {
     "name": "stdout",
     "output_type": "stream",
     "text": [
      "[CV] alpha=0.5430806760439044, binarize=0.033971386559311534, fit_prior=True \n",
      "[CV] alpha=0.5430806760439044, binarize=0.033971386559311534, fit_prior=True \n"
     ]
    },
    {
     "name": "stderr",
     "output_type": "stream",
     "text": [
      "/scratch/clb617/anaconda3/lib/python3.6/site-packages/sklearn/metrics/classification.py:1135: UndefinedMetricWarning: F-score is ill-defined and being set to 0.0 in labels with no predicted samples.\n",
      "  'precision', 'predicted', average, warn_for)\n"
     ]
    },
    {
     "name": "stdout",
     "output_type": "stream",
     "text": [
      "[CV]  alpha=0.5430806760439044, binarize=0.033971386559311534, fit_prior=True, total=   0.1s\n",
      "[CV] alpha=0.5430806760439044, binarize=0.033971386559311534, fit_prior=True \n",
      "[CV] alpha=0.5430806760439044, binarize=0.033971386559311534, fit_prior=True \n",
      "[CV] alpha=0.5430806760439044, binarize=0.033971386559311534, fit_prior=True \n",
      "[CV]  alpha=0.5430806760439044, binarize=0.033971386559311534, fit_prior=True, total=   0.1s\n"
     ]
    },
    {
     "name": "stderr",
     "output_type": "stream",
     "text": [
      "/scratch/clb617/anaconda3/lib/python3.6/site-packages/sklearn/metrics/classification.py:1135: UndefinedMetricWarning: F-score is ill-defined and being set to 0.0 in labels with no predicted samples.\n",
      "  'precision', 'predicted', average, warn_for)\n",
      "/scratch/clb617/anaconda3/lib/python3.6/site-packages/sklearn/metrics/classification.py:1135: UndefinedMetricWarning: F-score is ill-defined and being set to 0.0 in labels with no predicted samples.\n",
      "  'precision', 'predicted', average, warn_for)\n",
      "/scratch/clb617/anaconda3/lib/python3.6/site-packages/sklearn/metrics/classification.py:1135: UndefinedMetricWarning: F-score is ill-defined and being set to 0.0 in labels with no predicted samples.\n",
      "  'precision', 'predicted', average, warn_for)\n",
      "/scratch/clb617/anaconda3/lib/python3.6/site-packages/sklearn/metrics/classification.py:1135: UndefinedMetricWarning: F-score is ill-defined and being set to 0.0 in labels with no predicted samples.\n",
      "  'precision', 'predicted', average, warn_for)\n"
     ]
    },
    {
     "name": "stdout",
     "output_type": "stream",
     "text": [
      "[CV] alpha=0.5183928205975371, binarize=0.26194292556514465, fit_prior=True \n",
      "[CV]  alpha=0.5430806760439044, binarize=0.033971386559311534, fit_prior=True, total=   0.1s\n"
     ]
    },
    {
     "name": "stderr",
     "output_type": "stream",
     "text": [
      "/scratch/clb617/anaconda3/lib/python3.6/site-packages/sklearn/metrics/classification.py:1135: UndefinedMetricWarning: F-score is ill-defined and being set to 0.0 in labels with no predicted samples.\n",
      "  'precision', 'predicted', average, warn_for)\n"
     ]
    },
    {
     "name": "stdout",
     "output_type": "stream",
     "text": [
      "[CV]  alpha=0.5430806760439044, binarize=0.033971386559311534, fit_prior=True, total=   0.1s\n",
      "[CV] alpha=0.5183928205975371, binarize=0.26194292556514465, fit_prior=True \n",
      "[CV]  alpha=0.5430806760439044, binarize=0.033971386559311534, fit_prior=True, total=   0.1s\n",
      "[CV]  alpha=0.5430806760439044, binarize=0.033971386559311534, fit_prior=True, total=   0.1s\n"
     ]
    },
    {
     "name": "stderr",
     "output_type": "stream",
     "text": [
      "/scratch/clb617/anaconda3/lib/python3.6/site-packages/sklearn/metrics/classification.py:1135: UndefinedMetricWarning: F-score is ill-defined and being set to 0.0 in labels with no predicted samples.\n",
      "  'precision', 'predicted', average, warn_for)\n"
     ]
    },
    {
     "name": "stdout",
     "output_type": "stream",
     "text": [
      "[CV]  alpha=0.5430806760439044, binarize=0.033971386559311534, fit_prior=True, total=   0.2s\n",
      "[CV] alpha=0.5183928205975371, binarize=0.26194292556514465, fit_prior=True \n"
     ]
    },
    {
     "name": "stderr",
     "output_type": "stream",
     "text": [
      "/scratch/clb617/anaconda3/lib/python3.6/site-packages/sklearn/metrics/classification.py:1135: UndefinedMetricWarning: F-score is ill-defined and being set to 0.0 in labels with no predicted samples.\n",
      "  'precision', 'predicted', average, warn_for)\n"
     ]
    },
    {
     "name": "stdout",
     "output_type": "stream",
     "text": [
      "[CV]  alpha=0.5430806760439044, binarize=0.033971386559311534, fit_prior=True, total=   0.1s\n",
      "[CV]  alpha=0.5183928205975371, binarize=0.26194292556514465, fit_prior=True, total=   0.1s\n",
      "[CV] alpha=0.5183928205975371, binarize=0.26194292556514465, fit_prior=True \n"
     ]
    },
    {
     "name": "stderr",
     "output_type": "stream",
     "text": [
      "/scratch/clb617/anaconda3/lib/python3.6/site-packages/sklearn/metrics/classification.py:1135: UndefinedMetricWarning: F-score is ill-defined and being set to 0.0 in labels with no predicted samples.\n",
      "  'precision', 'predicted', average, warn_for)\n"
     ]
    },
    {
     "name": "stdout",
     "output_type": "stream",
     "text": [
      "[CV] alpha=0.5183928205975371, binarize=0.26194292556514465, fit_prior=True \n",
      "[CV]  alpha=0.5183928205975371, binarize=0.26194292556514465, fit_prior=True, total=   0.1s\n"
     ]
    },
    {
     "name": "stderr",
     "output_type": "stream",
     "text": [
      "/scratch/clb617/anaconda3/lib/python3.6/site-packages/sklearn/metrics/classification.py:1135: UndefinedMetricWarning: F-score is ill-defined and being set to 0.0 in labels with no predicted samples.\n",
      "  'precision', 'predicted', average, warn_for)\n"
     ]
    },
    {
     "name": "stdout",
     "output_type": "stream",
     "text": [
      "[CV]  alpha=0.5183928205975371, binarize=0.26194292556514465, fit_prior=True, total=   0.1s\n",
      "[CV] alpha=0.5183928205975371, binarize=0.26194292556514465, fit_prior=True \n",
      "[CV] alpha=0.5183928205975371, binarize=0.26194292556514465, fit_prior=True \n",
      "[CV] alpha=0.5183928205975371, binarize=0.26194292556514465, fit_prior=True \n"
     ]
    },
    {
     "name": "stderr",
     "output_type": "stream",
     "text": [
      "/scratch/clb617/anaconda3/lib/python3.6/site-packages/sklearn/metrics/classification.py:1135: UndefinedMetricWarning: F-score is ill-defined and being set to 0.0 in labels with no predicted samples.\n",
      "  'precision', 'predicted', average, warn_for)\n",
      "/scratch/clb617/anaconda3/lib/python3.6/site-packages/sklearn/metrics/classification.py:1135: UndefinedMetricWarning: F-score is ill-defined and being set to 0.0 in labels with no predicted samples.\n",
      "  'precision', 'predicted', average, warn_for)\n"
     ]
    },
    {
     "name": "stdout",
     "output_type": "stream",
     "text": [
      "[CV]  alpha=0.5183928205975371, binarize=0.26194292556514465, fit_prior=True, total=   0.1s\n"
     ]
    },
    {
     "name": "stderr",
     "output_type": "stream",
     "text": [
      "/scratch/clb617/anaconda3/lib/python3.6/site-packages/sklearn/metrics/classification.py:1135: UndefinedMetricWarning: F-score is ill-defined and being set to 0.0 in labels with no predicted samples.\n",
      "  'precision', 'predicted', average, warn_for)\n"
     ]
    },
    {
     "name": "stdout",
     "output_type": "stream",
     "text": [
      "[CV]  alpha=0.5183928205975371, binarize=0.26194292556514465, fit_prior=True, total=   0.2s\n",
      "[CV] alpha=0.5183928205975371, binarize=0.26194292556514465, fit_prior=True \n"
     ]
    },
    {
     "name": "stderr",
     "output_type": "stream",
     "text": [
      "/scratch/clb617/anaconda3/lib/python3.6/site-packages/sklearn/metrics/classification.py:1135: UndefinedMetricWarning: F-score is ill-defined and being set to 0.0 in labels with no predicted samples.\n",
      "  'precision', 'predicted', average, warn_for)\n",
      "/scratch/clb617/anaconda3/lib/python3.6/site-packages/sklearn/metrics/classification.py:1135: UndefinedMetricWarning: F-score is ill-defined and being set to 0.0 in labels with no predicted samples.\n",
      "  'precision', 'predicted', average, warn_for)\n"
     ]
    },
    {
     "name": "stdout",
     "output_type": "stream",
     "text": [
      "[CV] alpha=0.5183928205975371, binarize=0.26194292556514465, fit_prior=True \n",
      "[CV]  alpha=0.5183928205975371, binarize=0.26194292556514465, fit_prior=True, total=   0.1s\n"
     ]
    },
    {
     "name": "stderr",
     "output_type": "stream",
     "text": [
      "/scratch/clb617/anaconda3/lib/python3.6/site-packages/sklearn/metrics/classification.py:1135: UndefinedMetricWarning: F-score is ill-defined and being set to 0.0 in labels with no predicted samples.\n",
      "  'precision', 'predicted', average, warn_for)\n"
     ]
    },
    {
     "name": "stdout",
     "output_type": "stream",
     "text": [
      "[CV]  alpha=0.5183928205975371, binarize=0.26194292556514465, fit_prior=True, total=   0.1s\n",
      "[CV]  alpha=0.5183928205975371, binarize=0.26194292556514465, fit_prior=True, total=   0.1s\n",
      "[CV] alpha=0.27048190484057777, binarize=0.30745282855089173, fit_prior=False \n"
     ]
    },
    {
     "name": "stderr",
     "output_type": "stream",
     "text": [
      "/scratch/clb617/anaconda3/lib/python3.6/site-packages/sklearn/metrics/classification.py:1135: UndefinedMetricWarning: F-score is ill-defined and being set to 0.0 in labels with no predicted samples.\n",
      "  'precision', 'predicted', average, warn_for)\n"
     ]
    },
    {
     "name": "stdout",
     "output_type": "stream",
     "text": [
      "[CV] alpha=0.27048190484057777, binarize=0.30745282855089173, fit_prior=False \n",
      "[CV] alpha=0.27048190484057777, binarize=0.30745282855089173, fit_prior=False \n"
     ]
    },
    {
     "name": "stderr",
     "output_type": "stream",
     "text": [
      "/scratch/clb617/anaconda3/lib/python3.6/site-packages/sklearn/metrics/classification.py:1135: UndefinedMetricWarning: F-score is ill-defined and being set to 0.0 in labels with no predicted samples.\n",
      "  'precision', 'predicted', average, warn_for)\n"
     ]
    },
    {
     "name": "stdout",
     "output_type": "stream",
     "text": [
      "[CV] alpha=0.27048190484057777, binarize=0.30745282855089173, fit_prior=False \n",
      "[CV]  alpha=0.5183928205975371, binarize=0.26194292556514465, fit_prior=True, total=   0.1s\n"
     ]
    },
    {
     "name": "stderr",
     "output_type": "stream",
     "text": [
      "/scratch/clb617/anaconda3/lib/python3.6/site-packages/sklearn/metrics/classification.py:1135: UndefinedMetricWarning: F-score is ill-defined and being set to 0.0 in labels with no predicted samples.\n",
      "  'precision', 'predicted', average, warn_for)\n"
     ]
    },
    {
     "name": "stdout",
     "output_type": "stream",
     "text": [
      "[CV] alpha=0.27048190484057777, binarize=0.30745282855089173, fit_prior=False \n",
      "[CV] alpha=0.27048190484057777, binarize=0.30745282855089173, fit_prior=False \n",
      "[CV]  alpha=0.27048190484057777, binarize=0.30745282855089173, fit_prior=False, total=   0.1s\n"
     ]
    },
    {
     "name": "stderr",
     "output_type": "stream",
     "text": [
      "/scratch/clb617/anaconda3/lib/python3.6/site-packages/sklearn/metrics/classification.py:1135: UndefinedMetricWarning: F-score is ill-defined and being set to 0.0 in labels with no predicted samples.\n",
      "  'precision', 'predicted', average, warn_for)\n",
      "/scratch/clb617/anaconda3/lib/python3.6/site-packages/sklearn/metrics/classification.py:1135: UndefinedMetricWarning: F-score is ill-defined and being set to 0.0 in labels with no predicted samples.\n",
      "  'precision', 'predicted', average, warn_for)\n"
     ]
    },
    {
     "name": "stdout",
     "output_type": "stream",
     "text": [
      "[CV]  alpha=0.27048190484057777, binarize=0.30745282855089173, fit_prior=False, total=   0.1s\n",
      "[CV]  alpha=0.27048190484057777, binarize=0.30745282855089173, fit_prior=False, total=   0.0s\n"
     ]
    },
    {
     "name": "stderr",
     "output_type": "stream",
     "text": [
      "/scratch/clb617/anaconda3/lib/python3.6/site-packages/sklearn/metrics/classification.py:1135: UndefinedMetricWarning: F-score is ill-defined and being set to 0.0 in labels with no predicted samples.\n",
      "  'precision', 'predicted', average, warn_for)\n"
     ]
    },
    {
     "name": "stdout",
     "output_type": "stream",
     "text": [
      "[CV]  alpha=0.27048190484057777, binarize=0.30745282855089173, fit_prior=False, total=   0.1s\n",
      "[CV]  alpha=0.27048190484057777, binarize=0.30745282855089173, fit_prior=False, total=   0.1s\n",
      "[CV] alpha=0.27048190484057777, binarize=0.30745282855089173, fit_prior=False \n",
      "[CV]  alpha=0.5183928205975371, binarize=0.26194292556514465, fit_prior=True, total=   0.2s\n",
      "[CV] alpha=0.27048190484057777, binarize=0.30745282855089173, fit_prior=False \n",
      "[CV] alpha=0.27048190484057777, binarize=0.30745282855089173, fit_prior=False \n"
     ]
    },
    {
     "name": "stderr",
     "output_type": "stream",
     "text": [
      "/scratch/clb617/anaconda3/lib/python3.6/site-packages/sklearn/metrics/classification.py:1135: UndefinedMetricWarning: F-score is ill-defined and being set to 0.0 in labels with no predicted samples.\n",
      "  'precision', 'predicted', average, warn_for)\n"
     ]
    },
    {
     "name": "stdout",
     "output_type": "stream",
     "text": [
      "[CV] alpha=0.27048190484057777, binarize=0.30745282855089173, fit_prior=False \n",
      "[CV] alpha=0.38627506863435945, binarize=0.6285011795397116, fit_prior=True \n",
      "[CV] alpha=0.38627506863435945, binarize=0.6285011795397116, fit_prior=True \n"
     ]
    },
    {
     "name": "stderr",
     "output_type": "stream",
     "text": [
      "/scratch/clb617/anaconda3/lib/python3.6/site-packages/sklearn/metrics/classification.py:1135: UndefinedMetricWarning: F-score is ill-defined and being set to 0.0 in labels with no predicted samples.\n",
      "  'precision', 'predicted', average, warn_for)\n",
      "/scratch/clb617/anaconda3/lib/python3.6/site-packages/sklearn/metrics/classification.py:1135: UndefinedMetricWarning: F-score is ill-defined and being set to 0.0 in labels with no predicted samples.\n",
      "  'precision', 'predicted', average, warn_for)\n"
     ]
    },
    {
     "name": "stdout",
     "output_type": "stream",
     "text": [
      "[CV]  alpha=0.38627506863435945, binarize=0.6285011795397116, fit_prior=True, total=   0.0s\n",
      "[CV] alpha=0.38627506863435945, binarize=0.6285011795397116, fit_prior=True \n",
      "[CV]  alpha=0.27048190484057777, binarize=0.30745282855089173, fit_prior=False, total=   0.0s\n"
     ]
    },
    {
     "name": "stderr",
     "output_type": "stream",
     "text": [
      "/scratch/clb617/anaconda3/lib/python3.6/site-packages/sklearn/metrics/classification.py:1135: UndefinedMetricWarning: F-score is ill-defined and being set to 0.0 in labels with no predicted samples.\n",
      "  'precision', 'predicted', average, warn_for)\n"
     ]
    },
    {
     "name": "stdout",
     "output_type": "stream",
     "text": [
      "[CV]  alpha=0.27048190484057777, binarize=0.30745282855089173, fit_prior=False, total=   0.1s\n",
      "[CV]  alpha=0.27048190484057777, binarize=0.30745282855089173, fit_prior=False, total=   0.1s\n"
     ]
    },
    {
     "name": "stderr",
     "output_type": "stream",
     "text": [
      "/scratch/clb617/anaconda3/lib/python3.6/site-packages/sklearn/metrics/classification.py:1135: UndefinedMetricWarning: F-score is ill-defined and being set to 0.0 in labels with no predicted samples.\n",
      "  'precision', 'predicted', average, warn_for)\n"
     ]
    },
    {
     "name": "stdout",
     "output_type": "stream",
     "text": [
      "[CV] alpha=0.38627506863435945, binarize=0.6285011795397116, fit_prior=True \n"
     ]
    },
    {
     "name": "stderr",
     "output_type": "stream",
     "text": [
      "/scratch/clb617/anaconda3/lib/python3.6/site-packages/sklearn/metrics/classification.py:1135: UndefinedMetricWarning: F-score is ill-defined and being set to 0.0 in labels with no predicted samples.\n",
      "  'precision', 'predicted', average, warn_for)\n"
     ]
    },
    {
     "name": "stdout",
     "output_type": "stream",
     "text": [
      "[CV] alpha=0.38627506863435945, binarize=0.6285011795397116, fit_prior=True \n",
      "[CV]  alpha=0.38627506863435945, binarize=0.6285011795397116, fit_prior=True, total=   0.1s\n",
      "[CV] alpha=0.38627506863435945, binarize=0.6285011795397116, fit_prior=True \n",
      "[CV]  alpha=0.27048190484057777, binarize=0.30745282855089173, fit_prior=False, total=   0.1s\n"
     ]
    },
    {
     "name": "stderr",
     "output_type": "stream",
     "text": [
      "/scratch/clb617/anaconda3/lib/python3.6/site-packages/sklearn/metrics/classification.py:1135: UndefinedMetricWarning: F-score is ill-defined and being set to 0.0 in labels with no predicted samples.\n",
      "  'precision', 'predicted', average, warn_for)\n"
     ]
    },
    {
     "name": "stdout",
     "output_type": "stream",
     "text": [
      "[CV] alpha=0.38627506863435945, binarize=0.6285011795397116, fit_prior=True \n",
      "[CV] alpha=0.38627506863435945, binarize=0.6285011795397116, fit_prior=True \n"
     ]
    },
    {
     "name": "stderr",
     "output_type": "stream",
     "text": [
      "/scratch/clb617/anaconda3/lib/python3.6/site-packages/sklearn/metrics/classification.py:1135: UndefinedMetricWarning: F-score is ill-defined and being set to 0.0 in labels with no predicted samples.\n",
      "  'precision', 'predicted', average, warn_for)\n"
     ]
    },
    {
     "name": "stdout",
     "output_type": "stream",
     "text": [
      "[CV] alpha=0.38627506863435945, binarize=0.6285011795397116, fit_prior=True \n",
      "[CV]  alpha=0.38627506863435945, binarize=0.6285011795397116, fit_prior=True, total=   0.2s\n"
     ]
    },
    {
     "name": "stderr",
     "output_type": "stream",
     "text": [
      "/scratch/clb617/anaconda3/lib/python3.6/site-packages/sklearn/metrics/classification.py:1135: UndefinedMetricWarning: F-score is ill-defined and being set to 0.0 in labels with no predicted samples.\n",
      "  'precision', 'predicted', average, warn_for)\n"
     ]
    },
    {
     "name": "stdout",
     "output_type": "stream",
     "text": [
      "[CV]  alpha=0.38627506863435945, binarize=0.6285011795397116, fit_prior=True, total=   0.0s\n"
     ]
    },
    {
     "name": "stderr",
     "output_type": "stream",
     "text": [
      "/scratch/clb617/anaconda3/lib/python3.6/site-packages/sklearn/metrics/classification.py:1135: UndefinedMetricWarning: F-score is ill-defined and being set to 0.0 in labels with no predicted samples.\n",
      "  'precision', 'predicted', average, warn_for)\n",
      "/scratch/clb617/anaconda3/lib/python3.6/site-packages/sklearn/metrics/classification.py:1135: UndefinedMetricWarning: F-score is ill-defined and being set to 0.0 in labels with no predicted samples.\n",
      "  'precision', 'predicted', average, warn_for)\n",
      "/scratch/clb617/anaconda3/lib/python3.6/site-packages/sklearn/metrics/classification.py:1135: UndefinedMetricWarning: F-score is ill-defined and being set to 0.0 in labels with no predicted samples.\n",
      "  'precision', 'predicted', average, warn_for)\n"
     ]
    },
    {
     "name": "stdout",
     "output_type": "stream",
     "text": [
      "[CV]  alpha=0.38627506863435945, binarize=0.6285011795397116, fit_prior=True, total=   0.2s\n"
     ]
    },
    {
     "name": "stderr",
     "output_type": "stream",
     "text": [
      "/scratch/clb617/anaconda3/lib/python3.6/site-packages/sklearn/metrics/classification.py:1135: UndefinedMetricWarning: F-score is ill-defined and being set to 0.0 in labels with no predicted samples.\n",
      "  'precision', 'predicted', average, warn_for)\n"
     ]
    },
    {
     "name": "stdout",
     "output_type": "stream",
     "text": [
      "[CV]  alpha=0.38627506863435945, binarize=0.6285011795397116, fit_prior=True, total=   0.1s\n",
      "[CV]  alpha=0.27048190484057777, binarize=0.30745282855089173, fit_prior=False, total=   0.6s\n",
      "[CV] alpha=0.38627506863435945, binarize=0.6285011795397116, fit_prior=True \n",
      "[CV]  alpha=0.38627506863435945, binarize=0.6285011795397116, fit_prior=True, total=   0.1s\n"
     ]
    },
    {
     "name": "stderr",
     "output_type": "stream",
     "text": [
      "/scratch/clb617/anaconda3/lib/python3.6/site-packages/sklearn/metrics/classification.py:1135: UndefinedMetricWarning: F-score is ill-defined and being set to 0.0 in labels with no predicted samples.\n",
      "  'precision', 'predicted', average, warn_for)\n"
     ]
    },
    {
     "name": "stdout",
     "output_type": "stream",
     "text": [
      "[CV] alpha=0.7411555348601088, binarize=0.15994863542336868, fit_prior=True \n",
      "[CV]  alpha=0.38627506863435945, binarize=0.6285011795397116, fit_prior=True, total=   0.2s\n",
      "[CV]  alpha=0.38627506863435945, binarize=0.6285011795397116, fit_prior=True, total=   0.2s\n"
     ]
    },
    {
     "name": "stderr",
     "output_type": "stream",
     "text": [
      "/scratch/clb617/anaconda3/lib/python3.6/site-packages/sklearn/metrics/classification.py:1135: UndefinedMetricWarning: F-score is ill-defined and being set to 0.0 in labels with no predicted samples.\n",
      "  'precision', 'predicted', average, warn_for)\n"
     ]
    },
    {
     "name": "stdout",
     "output_type": "stream",
     "text": [
      "[CV] alpha=0.7411555348601088, binarize=0.15994863542336868, fit_prior=True \n",
      "[CV]  alpha=0.7411555348601088, binarize=0.15994863542336868, fit_prior=True, total=   0.1s\n",
      "[CV] alpha=0.7411555348601088, binarize=0.15994863542336868, fit_prior=True \n"
     ]
    },
    {
     "name": "stderr",
     "output_type": "stream",
     "text": [
      "/scratch/clb617/anaconda3/lib/python3.6/site-packages/sklearn/metrics/classification.py:1135: UndefinedMetricWarning: F-score is ill-defined and being set to 0.0 in labels with no predicted samples.\n",
      "  'precision', 'predicted', average, warn_for)\n"
     ]
    },
    {
     "name": "stdout",
     "output_type": "stream",
     "text": [
      "[CV]  alpha=0.7411555348601088, binarize=0.15994863542336868, fit_prior=True, total=   0.0s\n",
      "[CV] alpha=0.7411555348601088, binarize=0.15994863542336868, fit_prior=True \n"
     ]
    },
    {
     "name": "stderr",
     "output_type": "stream",
     "text": [
      "/scratch/clb617/anaconda3/lib/python3.6/site-packages/sklearn/metrics/classification.py:1135: UndefinedMetricWarning: F-score is ill-defined and being set to 0.0 in labels with no predicted samples.\n",
      "  'precision', 'predicted', average, warn_for)\n",
      "/scratch/clb617/anaconda3/lib/python3.6/site-packages/sklearn/metrics/classification.py:1135: UndefinedMetricWarning: F-score is ill-defined and being set to 0.0 in labels with no predicted samples.\n",
      "  'precision', 'predicted', average, warn_for)\n",
      "/scratch/clb617/anaconda3/lib/python3.6/site-packages/sklearn/metrics/classification.py:1135: UndefinedMetricWarning: F-score is ill-defined and being set to 0.0 in labels with no predicted samples.\n",
      "  'precision', 'predicted', average, warn_for)\n"
     ]
    },
    {
     "name": "stdout",
     "output_type": "stream",
     "text": [
      "[CV]  alpha=0.38627506863435945, binarize=0.6285011795397116, fit_prior=True, total=   0.2s\n",
      "[CV]  alpha=0.7411555348601088, binarize=0.15994863542336868, fit_prior=True, total=   0.0s\n",
      "[CV]  alpha=0.7411555348601088, binarize=0.15994863542336868, fit_prior=True, total=   0.1s\n",
      "[CV] alpha=0.7411555348601088, binarize=0.15994863542336868, fit_prior=True \n",
      "[CV] alpha=0.7411555348601088, binarize=0.15994863542336868, fit_prior=True \n",
      "[CV] alpha=0.7895583420239032, binarize=0.7941185757915866, fit_prior=False \n",
      "[CV] alpha=0.7895583420239032, binarize=0.7941185757915866, fit_prior=False \n"
     ]
    },
    {
     "name": "stderr",
     "output_type": "stream",
     "text": [
      "/scratch/clb617/anaconda3/lib/python3.6/site-packages/sklearn/metrics/classification.py:1135: UndefinedMetricWarning: F-score is ill-defined and being set to 0.0 in labels with no predicted samples.\n",
      "  'precision', 'predicted', average, warn_for)\n"
     ]
    },
    {
     "name": "stdout",
     "output_type": "stream",
     "text": [
      "[CV] alpha=0.7411555348601088, binarize=0.15994863542336868, fit_prior=True \n"
     ]
    },
    {
     "name": "stderr",
     "output_type": "stream",
     "text": [
      "/scratch/clb617/anaconda3/lib/python3.6/site-packages/sklearn/metrics/classification.py:1135: UndefinedMetricWarning: F-score is ill-defined and being set to 0.0 in labels with no predicted samples.\n",
      "  'precision', 'predicted', average, warn_for)\n"
     ]
    },
    {
     "name": "stdout",
     "output_type": "stream",
     "text": [
      "[CV] alpha=0.7411555348601088, binarize=0.15994863542336868, fit_prior=True \n"
     ]
    },
    {
     "name": "stderr",
     "output_type": "stream",
     "text": [
      "/scratch/clb617/anaconda3/lib/python3.6/site-packages/sklearn/metrics/classification.py:1135: UndefinedMetricWarning: F-score is ill-defined and being set to 0.0 in labels with no predicted samples.\n",
      "  'precision', 'predicted', average, warn_for)\n"
     ]
    },
    {
     "name": "stdout",
     "output_type": "stream",
     "text": [
      "[CV]  alpha=0.7411555348601088, binarize=0.15994863542336868, fit_prior=True, total=   0.1s\n",
      "[CV]  alpha=0.7411555348601088, binarize=0.15994863542336868, fit_prior=True, total=   0.0s\n",
      "[CV] alpha=0.7411555348601088, binarize=0.15994863542336868, fit_prior=True \n"
     ]
    },
    {
     "name": "stderr",
     "output_type": "stream",
     "text": [
      "/scratch/clb617/anaconda3/lib/python3.6/site-packages/sklearn/metrics/classification.py:1135: UndefinedMetricWarning: F-score is ill-defined and being set to 0.0 in labels with no predicted samples.\n",
      "  'precision', 'predicted', average, warn_for)\n"
     ]
    },
    {
     "name": "stdout",
     "output_type": "stream",
     "text": [
      "[CV] alpha=0.7411555348601088, binarize=0.15994863542336868, fit_prior=True \n"
     ]
    },
    {
     "name": "stderr",
     "output_type": "stream",
     "text": [
      "/scratch/clb617/anaconda3/lib/python3.6/site-packages/sklearn/metrics/classification.py:1135: UndefinedMetricWarning: F-score is ill-defined and being set to 0.0 in labels with no predicted samples.\n",
      "  'precision', 'predicted', average, warn_for)\n",
      "/scratch/clb617/anaconda3/lib/python3.6/site-packages/sklearn/metrics/classification.py:1135: UndefinedMetricWarning: F-score is ill-defined and being set to 0.0 in labels with no predicted samples.\n",
      "  'precision', 'predicted', average, warn_for)\n"
     ]
    },
    {
     "name": "stdout",
     "output_type": "stream",
     "text": [
      "[CV]  alpha=0.7411555348601088, binarize=0.15994863542336868, fit_prior=True, total=   0.0s\n"
     ]
    },
    {
     "name": "stderr",
     "output_type": "stream",
     "text": [
      "/scratch/clb617/anaconda3/lib/python3.6/site-packages/sklearn/metrics/classification.py:1135: UndefinedMetricWarning: F-score is ill-defined and being set to 0.0 in labels with no predicted samples.\n",
      "  'precision', 'predicted', average, warn_for)\n"
     ]
    },
    {
     "name": "stdout",
     "output_type": "stream",
     "text": [
      "[CV]  alpha=0.7895583420239032, binarize=0.7941185757915866, fit_prior=False, total=   0.1s\n",
      "[CV]  alpha=0.7895583420239032, binarize=0.7941185757915866, fit_prior=False, total=   0.1s\n",
      "[CV]  alpha=0.7411555348601088, binarize=0.15994863542336868, fit_prior=True, total=   0.0s\n",
      "[CV] alpha=0.7895583420239032, binarize=0.7941185757915866, fit_prior=False \n",
      "[CV] alpha=0.7895583420239032, binarize=0.7941185757915866, fit_prior=False \n"
     ]
    },
    {
     "name": "stderr",
     "output_type": "stream",
     "text": [
      "/scratch/clb617/anaconda3/lib/python3.6/site-packages/sklearn/metrics/classification.py:1135: UndefinedMetricWarning: F-score is ill-defined and being set to 0.0 in labels with no predicted samples.\n",
      "  'precision', 'predicted', average, warn_for)\n"
     ]
    },
    {
     "name": "stdout",
     "output_type": "stream",
     "text": [
      "[CV]  alpha=0.7411555348601088, binarize=0.15994863542336868, fit_prior=True, total=   0.1s\n"
     ]
    },
    {
     "name": "stderr",
     "output_type": "stream",
     "text": [
      "/scratch/clb617/anaconda3/lib/python3.6/site-packages/sklearn/metrics/classification.py:1135: UndefinedMetricWarning: F-score is ill-defined and being set to 0.0 in labels with no predicted samples.\n",
      "  'precision', 'predicted', average, warn_for)\n",
      "/scratch/clb617/anaconda3/lib/python3.6/site-packages/sklearn/metrics/classification.py:1135: UndefinedMetricWarning: F-score is ill-defined and being set to 0.0 in labels with no predicted samples.\n",
      "  'precision', 'predicted', average, warn_for)\n"
     ]
    },
    {
     "name": "stdout",
     "output_type": "stream",
     "text": [
      "[CV]  alpha=0.7411555348601088, binarize=0.15994863542336868, fit_prior=True, total=   0.2s\n",
      "[CV]  alpha=0.7895583420239032, binarize=0.7941185757915866, fit_prior=False, total=   0.0s\n",
      "[CV]  alpha=0.7895583420239032, binarize=0.7941185757915866, fit_prior=False, total=   0.0s\n",
      "[CV] alpha=0.7895583420239032, binarize=0.7941185757915866, fit_prior=False \n",
      "[CV] alpha=0.7895583420239032, binarize=0.7941185757915866, fit_prior=False \n",
      "[CV] alpha=0.4635750235326881, binarize=0.38106865871144924, fit_prior=True \n",
      "[CV] alpha=0.4635750235326881, binarize=0.38106865871144924, fit_prior=True \n"
     ]
    },
    {
     "name": "stderr",
     "output_type": "stream",
     "text": [
      "/scratch/clb617/anaconda3/lib/python3.6/site-packages/sklearn/metrics/classification.py:1135: UndefinedMetricWarning: F-score is ill-defined and being set to 0.0 in labels with no predicted samples.\n",
      "  'precision', 'predicted', average, warn_for)\n",
      "/scratch/clb617/anaconda3/lib/python3.6/site-packages/sklearn/metrics/classification.py:1135: UndefinedMetricWarning: F-score is ill-defined and being set to 0.0 in labels with no predicted samples.\n",
      "  'precision', 'predicted', average, warn_for)\n"
     ]
    },
    {
     "name": "stdout",
     "output_type": "stream",
     "text": [
      "[CV] alpha=0.7895583420239032, binarize=0.7941185757915866, fit_prior=False \n"
     ]
    },
    {
     "name": "stderr",
     "output_type": "stream",
     "text": [
      "/scratch/clb617/anaconda3/lib/python3.6/site-packages/sklearn/metrics/classification.py:1135: UndefinedMetricWarning: F-score is ill-defined and being set to 0.0 in labels with no predicted samples.\n",
      "  'precision', 'predicted', average, warn_for)\n"
     ]
    },
    {
     "name": "stdout",
     "output_type": "stream",
     "text": [
      "[CV]  alpha=0.7895583420239032, binarize=0.7941185757915866, fit_prior=False, total=   0.1s\n",
      "[CV] alpha=0.7895583420239032, binarize=0.7941185757915866, fit_prior=False \n"
     ]
    },
    {
     "name": "stderr",
     "output_type": "stream",
     "text": [
      "/scratch/clb617/anaconda3/lib/python3.6/site-packages/sklearn/metrics/classification.py:1135: UndefinedMetricWarning: F-score is ill-defined and being set to 0.0 in labels with no predicted samples.\n",
      "  'precision', 'predicted', average, warn_for)\n"
     ]
    },
    {
     "name": "stdout",
     "output_type": "stream",
     "text": [
      "[CV]  alpha=0.4635750235326881, binarize=0.38106865871144924, fit_prior=True, total=   0.1s\n"
     ]
    },
    {
     "name": "stderr",
     "output_type": "stream",
     "text": [
      "/scratch/clb617/anaconda3/lib/python3.6/site-packages/sklearn/metrics/classification.py:1135: UndefinedMetricWarning: F-score is ill-defined and being set to 0.0 in labels with no predicted samples.\n",
      "  'precision', 'predicted', average, warn_for)\n"
     ]
    },
    {
     "name": "stdout",
     "output_type": "stream",
     "text": [
      "[CV] alpha=0.4635750235326881, binarize=0.38106865871144924, fit_prior=True \n"
     ]
    },
    {
     "name": "stderr",
     "output_type": "stream",
     "text": [
      "/scratch/clb617/anaconda3/lib/python3.6/site-packages/sklearn/metrics/classification.py:1135: UndefinedMetricWarning: F-score is ill-defined and being set to 0.0 in labels with no predicted samples.\n",
      "  'precision', 'predicted', average, warn_for)\n"
     ]
    },
    {
     "name": "stdout",
     "output_type": "stream",
     "text": [
      "[CV] alpha=0.4635750235326881, binarize=0.38106865871144924, fit_prior=True \n",
      "[CV]  alpha=0.7895583420239032, binarize=0.7941185757915866, fit_prior=False, total=   0.0s\n",
      "[CV]  alpha=0.7895583420239032, binarize=0.7941185757915866, fit_prior=False, total=   0.1s\n"
     ]
    },
    {
     "name": "stderr",
     "output_type": "stream",
     "text": [
      "/scratch/clb617/anaconda3/lib/python3.6/site-packages/sklearn/metrics/classification.py:1135: UndefinedMetricWarning: F-score is ill-defined and being set to 0.0 in labels with no predicted samples.\n",
      "  'precision', 'predicted', average, warn_for)\n"
     ]
    },
    {
     "name": "stdout",
     "output_type": "stream",
     "text": [
      "[CV] alpha=0.7895583420239032, binarize=0.7941185757915866, fit_prior=False \n",
      "[CV] alpha=0.4635750235326881, binarize=0.38106865871144924, fit_prior=True \n",
      "[CV] alpha=0.4635750235326881, binarize=0.38106865871144924, fit_prior=True \n",
      "[CV]  alpha=0.7895583420239032, binarize=0.7941185757915866, fit_prior=False, total=   0.2s\n",
      "[CV]  alpha=0.4635750235326881, binarize=0.38106865871144924, fit_prior=True, total=   0.1s\n"
     ]
    },
    {
     "name": "stderr",
     "output_type": "stream",
     "text": [
      "/scratch/clb617/anaconda3/lib/python3.6/site-packages/sklearn/metrics/classification.py:1135: UndefinedMetricWarning: F-score is ill-defined and being set to 0.0 in labels with no predicted samples.\n",
      "  'precision', 'predicted', average, warn_for)\n"
     ]
    },
    {
     "name": "stdout",
     "output_type": "stream",
     "text": [
      "[CV] alpha=0.7895583420239032, binarize=0.7941185757915866, fit_prior=False \n"
     ]
    },
    {
     "name": "stderr",
     "output_type": "stream",
     "text": [
      "/scratch/clb617/anaconda3/lib/python3.6/site-packages/sklearn/metrics/classification.py:1135: UndefinedMetricWarning: F-score is ill-defined and being set to 0.0 in labels with no predicted samples.\n",
      "  'precision', 'predicted', average, warn_for)\n"
     ]
    },
    {
     "name": "stdout",
     "output_type": "stream",
     "text": [
      "[CV] alpha=0.4635750235326881, binarize=0.38106865871144924, fit_prior=True \n",
      "[CV]  alpha=0.4635750235326881, binarize=0.38106865871144924, fit_prior=True, total=   0.0s\n",
      "[CV]  alpha=0.4635750235326881, binarize=0.38106865871144924, fit_prior=True, total=   0.1s\n",
      "[CV] alpha=0.4635750235326881, binarize=0.38106865871144924, fit_prior=True \n"
     ]
    },
    {
     "name": "stderr",
     "output_type": "stream",
     "text": [
      "/scratch/clb617/anaconda3/lib/python3.6/site-packages/sklearn/metrics/classification.py:1135: UndefinedMetricWarning: F-score is ill-defined and being set to 0.0 in labels with no predicted samples.\n",
      "  'precision', 'predicted', average, warn_for)\n"
     ]
    },
    {
     "name": "stdout",
     "output_type": "stream",
     "text": [
      "[CV] alpha=0.4635750235326881, binarize=0.38106865871144924, fit_prior=True \n",
      "[CV]  alpha=0.4635750235326881, binarize=0.38106865871144924, fit_prior=True, total=   0.1s\n"
     ]
    },
    {
     "name": "stderr",
     "output_type": "stream",
     "text": [
      "/scratch/clb617/anaconda3/lib/python3.6/site-packages/sklearn/metrics/classification.py:1135: UndefinedMetricWarning: F-score is ill-defined and being set to 0.0 in labels with no predicted samples.\n",
      "  'precision', 'predicted', average, warn_for)\n",
      "/scratch/clb617/anaconda3/lib/python3.6/site-packages/sklearn/metrics/classification.py:1135: UndefinedMetricWarning: F-score is ill-defined and being set to 0.0 in labels with no predicted samples.\n",
      "  'precision', 'predicted', average, warn_for)\n",
      "/scratch/clb617/anaconda3/lib/python3.6/site-packages/sklearn/metrics/classification.py:1135: UndefinedMetricWarning: F-score is ill-defined and being set to 0.0 in labels with no predicted samples.\n",
      "  'precision', 'predicted', average, warn_for)\n"
     ]
    },
    {
     "name": "stdout",
     "output_type": "stream",
     "text": [
      "[CV]  alpha=0.7895583420239032, binarize=0.7941185757915866, fit_prior=False, total=   0.1s\n"
     ]
    },
    {
     "name": "stderr",
     "output_type": "stream",
     "text": [
      "/scratch/clb617/anaconda3/lib/python3.6/site-packages/sklearn/metrics/classification.py:1135: UndefinedMetricWarning: F-score is ill-defined and being set to 0.0 in labels with no predicted samples.\n",
      "  'precision', 'predicted', average, warn_for)\n"
     ]
    },
    {
     "name": "stdout",
     "output_type": "stream",
     "text": [
      "[CV] alpha=0.4635750235326881, binarize=0.38106865871144924, fit_prior=True \n",
      "[CV]  alpha=0.4635750235326881, binarize=0.38106865871144924, fit_prior=True, total=   0.0s\n",
      "[CV] alpha=0.7601717738058574, binarize=0.18780840542641564, fit_prior=True \n"
     ]
    },
    {
     "name": "stderr",
     "output_type": "stream",
     "text": [
      "/scratch/clb617/anaconda3/lib/python3.6/site-packages/sklearn/metrics/classification.py:1135: UndefinedMetricWarning: F-score is ill-defined and being set to 0.0 in labels with no predicted samples.\n",
      "  'precision', 'predicted', average, warn_for)\n"
     ]
    },
    {
     "name": "stdout",
     "output_type": "stream",
     "text": [
      "[CV]  alpha=0.4635750235326881, binarize=0.38106865871144924, fit_prior=True, total=   0.0s\n",
      "[CV]  alpha=0.4635750235326881, binarize=0.38106865871144924, fit_prior=True, total=   0.1s\n",
      "[CV] alpha=0.7601717738058574, binarize=0.18780840542641564, fit_prior=True \n"
     ]
    },
    {
     "name": "stderr",
     "output_type": "stream",
     "text": [
      "/scratch/clb617/anaconda3/lib/python3.6/site-packages/sklearn/metrics/classification.py:1135: UndefinedMetricWarning: F-score is ill-defined and being set to 0.0 in labels with no predicted samples.\n",
      "  'precision', 'predicted', average, warn_for)\n",
      "/scratch/clb617/anaconda3/lib/python3.6/site-packages/sklearn/metrics/classification.py:1135: UndefinedMetricWarning: F-score is ill-defined and being set to 0.0 in labels with no predicted samples.\n",
      "  'precision', 'predicted', average, warn_for)\n"
     ]
    },
    {
     "name": "stdout",
     "output_type": "stream",
     "text": [
      "[CV] alpha=0.7601717738058574, binarize=0.18780840542641564, fit_prior=True \n",
      "[CV]  alpha=0.7601717738058574, binarize=0.18780840542641564, fit_prior=True, total=   0.0s\n"
     ]
    },
    {
     "name": "stderr",
     "output_type": "stream",
     "text": [
      "/scratch/clb617/anaconda3/lib/python3.6/site-packages/sklearn/metrics/classification.py:1135: UndefinedMetricWarning: F-score is ill-defined and being set to 0.0 in labels with no predicted samples.\n",
      "  'precision', 'predicted', average, warn_for)\n",
      "/scratch/clb617/anaconda3/lib/python3.6/site-packages/sklearn/metrics/classification.py:1135: UndefinedMetricWarning: F-score is ill-defined and being set to 0.0 in labels with no predicted samples.\n",
      "  'precision', 'predicted', average, warn_for)\n"
     ]
    },
    {
     "name": "stdout",
     "output_type": "stream",
     "text": [
      "[CV] alpha=0.7601717738058574, binarize=0.18780840542641564, fit_prior=True \n",
      "[CV]  alpha=0.4635750235326881, binarize=0.38106865871144924, fit_prior=True, total=   0.2s\n",
      "[CV]  alpha=0.7601717738058574, binarize=0.18780840542641564, fit_prior=True, total=   0.1s\n",
      "[CV]  alpha=0.7895583420239032, binarize=0.7941185757915866, fit_prior=False, total=   0.3s\n",
      "[CV] alpha=0.7601717738058574, binarize=0.18780840542641564, fit_prior=True \n",
      "[CV]  alpha=0.7601717738058574, binarize=0.18780840542641564, fit_prior=True, total=   0.1s\n",
      "[CV] alpha=0.7601717738058574, binarize=0.18780840542641564, fit_prior=True \n",
      "[CV] alpha=0.7601717738058574, binarize=0.18780840542641564, fit_prior=True \n",
      "[CV] alpha=0.7601717738058574, binarize=0.18780840542641564, fit_prior=True \n",
      "[CV] alpha=0.8635716041193817, binarize=0.4050208814415951, fit_prior=False \n"
     ]
    },
    {
     "name": "stderr",
     "output_type": "stream",
     "text": [
      "/scratch/clb617/anaconda3/lib/python3.6/site-packages/sklearn/metrics/classification.py:1135: UndefinedMetricWarning: F-score is ill-defined and being set to 0.0 in labels with no predicted samples.\n",
      "  'precision', 'predicted', average, warn_for)\n"
     ]
    },
    {
     "name": "stdout",
     "output_type": "stream",
     "text": [
      "[CV]  alpha=0.7601717738058574, binarize=0.18780840542641564, fit_prior=True, total=   0.1s\n",
      "[CV] alpha=0.7601717738058574, binarize=0.18780840542641564, fit_prior=True \n",
      "[CV] alpha=0.8635716041193817, binarize=0.4050208814415951, fit_prior=False \n"
     ]
    },
    {
     "name": "stderr",
     "output_type": "stream",
     "text": [
      "/scratch/clb617/anaconda3/lib/python3.6/site-packages/sklearn/metrics/classification.py:1135: UndefinedMetricWarning: F-score is ill-defined and being set to 0.0 in labels with no predicted samples.\n",
      "  'precision', 'predicted', average, warn_for)\n",
      "/scratch/clb617/anaconda3/lib/python3.6/site-packages/sklearn/metrics/classification.py:1135: UndefinedMetricWarning: F-score is ill-defined and being set to 0.0 in labels with no predicted samples.\n",
      "  'precision', 'predicted', average, warn_for)\n",
      "/scratch/clb617/anaconda3/lib/python3.6/site-packages/sklearn/metrics/classification.py:1135: UndefinedMetricWarning: F-score is ill-defined and being set to 0.0 in labels with no predicted samples.\n",
      "  'precision', 'predicted', average, warn_for)\n"
     ]
    },
    {
     "name": "stdout",
     "output_type": "stream",
     "text": [
      "[CV] alpha=0.8635716041193817, binarize=0.4050208814415951, fit_prior=False \n",
      "[CV] alpha=0.8635716041193817, binarize=0.4050208814415951, fit_prior=False \n",
      "[CV]  alpha=0.4635750235326881, binarize=0.38106865871144924, fit_prior=True, total=   0.2s\n"
     ]
    },
    {
     "name": "stderr",
     "output_type": "stream",
     "text": [
      "/scratch/clb617/anaconda3/lib/python3.6/site-packages/sklearn/metrics/classification.py:1135: UndefinedMetricWarning: F-score is ill-defined and being set to 0.0 in labels with no predicted samples.\n",
      "  'precision', 'predicted', average, warn_for)\n"
     ]
    },
    {
     "name": "stdout",
     "output_type": "stream",
     "text": [
      "[CV]  alpha=0.7601717738058574, binarize=0.18780840542641564, fit_prior=True, total=   0.1s\n",
      "[CV] alpha=0.8635716041193817, binarize=0.4050208814415951, fit_prior=False \n",
      "[CV]  alpha=0.8635716041193817, binarize=0.4050208814415951, fit_prior=False, total=   0.0s\n",
      "[CV] alpha=0.8635716041193817, binarize=0.4050208814415951, fit_prior=False \n",
      "[CV]  alpha=0.7601717738058574, binarize=0.18780840542641564, fit_prior=True, total=   0.1s\n"
     ]
    },
    {
     "name": "stderr",
     "output_type": "stream",
     "text": [
      "/scratch/clb617/anaconda3/lib/python3.6/site-packages/sklearn/metrics/classification.py:1135: UndefinedMetricWarning: F-score is ill-defined and being set to 0.0 in labels with no predicted samples.\n",
      "  'precision', 'predicted', average, warn_for)\n"
     ]
    },
    {
     "name": "stdout",
     "output_type": "stream",
     "text": [
      "[CV]  alpha=0.8635716041193817, binarize=0.4050208814415951, fit_prior=False, total=   0.1s\n"
     ]
    },
    {
     "name": "stderr",
     "output_type": "stream",
     "text": [
      "/scratch/clb617/anaconda3/lib/python3.6/site-packages/sklearn/metrics/classification.py:1135: UndefinedMetricWarning: F-score is ill-defined and being set to 0.0 in labels with no predicted samples.\n",
      "  'precision', 'predicted', average, warn_for)\n"
     ]
    },
    {
     "name": "stdout",
     "output_type": "stream",
     "text": [
      "[CV]  alpha=0.8635716041193817, binarize=0.4050208814415951, fit_prior=False, total=   0.1s\n",
      "[CV] alpha=0.1785686771635271, binarize=0.4131413014246589, fit_prior=True \n",
      "[CV] alpha=0.8635716041193817, binarize=0.4050208814415951, fit_prior=False \n"
     ]
    },
    {
     "name": "stderr",
     "output_type": "stream",
     "text": [
      "/scratch/clb617/anaconda3/lib/python3.6/site-packages/sklearn/metrics/classification.py:1135: UndefinedMetricWarning: F-score is ill-defined and being set to 0.0 in labels with no predicted samples.\n",
      "  'precision', 'predicted', average, warn_for)\n"
     ]
    },
    {
     "name": "stdout",
     "output_type": "stream",
     "text": [
      "[CV]  alpha=0.8635716041193817, binarize=0.4050208814415951, fit_prior=False, total=   0.1s\n"
     ]
    },
    {
     "name": "stderr",
     "output_type": "stream",
     "text": [
      "/scratch/clb617/anaconda3/lib/python3.6/site-packages/sklearn/metrics/classification.py:1135: UndefinedMetricWarning: F-score is ill-defined and being set to 0.0 in labels with no predicted samples.\n",
      "  'precision', 'predicted', average, warn_for)\n"
     ]
    },
    {
     "name": "stdout",
     "output_type": "stream",
     "text": [
      "[CV] alpha=0.8635716041193817, binarize=0.4050208814415951, fit_prior=False \n",
      "[CV]  alpha=0.8635716041193817, binarize=0.4050208814415951, fit_prior=False, total=   0.1s\n"
     ]
    },
    {
     "name": "stderr",
     "output_type": "stream",
     "text": [
      "/scratch/clb617/anaconda3/lib/python3.6/site-packages/sklearn/metrics/classification.py:1135: UndefinedMetricWarning: F-score is ill-defined and being set to 0.0 in labels with no predicted samples.\n",
      "  'precision', 'predicted', average, warn_for)\n",
      "/scratch/clb617/anaconda3/lib/python3.6/site-packages/sklearn/metrics/classification.py:1135: UndefinedMetricWarning: F-score is ill-defined and being set to 0.0 in labels with no predicted samples.\n",
      "  'precision', 'predicted', average, warn_for)\n"
     ]
    },
    {
     "name": "stdout",
     "output_type": "stream",
     "text": [
      "[CV]  alpha=0.7601717738058574, binarize=0.18780840542641564, fit_prior=True, total=   0.2s\n"
     ]
    },
    {
     "name": "stderr",
     "output_type": "stream",
     "text": [
      "/scratch/clb617/anaconda3/lib/python3.6/site-packages/sklearn/metrics/classification.py:1135: UndefinedMetricWarning: F-score is ill-defined and being set to 0.0 in labels with no predicted samples.\n",
      "  'precision', 'predicted', average, warn_for)\n"
     ]
    },
    {
     "name": "stdout",
     "output_type": "stream",
     "text": [
      "[CV] alpha=0.8635716041193817, binarize=0.4050208814415951, fit_prior=False \n",
      "[CV] alpha=0.1785686771635271, binarize=0.4131413014246589, fit_prior=True \n",
      "[CV]  alpha=0.8635716041193817, binarize=0.4050208814415951, fit_prior=False, total=   0.1s\n",
      "[CV] alpha=0.1785686771635271, binarize=0.4131413014246589, fit_prior=True \n"
     ]
    },
    {
     "name": "stderr",
     "output_type": "stream",
     "text": [
      "/scratch/clb617/anaconda3/lib/python3.6/site-packages/sklearn/metrics/classification.py:1135: UndefinedMetricWarning: F-score is ill-defined and being set to 0.0 in labels with no predicted samples.\n",
      "  'precision', 'predicted', average, warn_for)\n"
     ]
    },
    {
     "name": "stdout",
     "output_type": "stream",
     "text": [
      "[CV]  alpha=0.1785686771635271, binarize=0.4131413014246589, fit_prior=True, total=   0.1s\n"
     ]
    },
    {
     "name": "stderr",
     "output_type": "stream",
     "text": [
      "/scratch/clb617/anaconda3/lib/python3.6/site-packages/sklearn/metrics/classification.py:1135: UndefinedMetricWarning: F-score is ill-defined and being set to 0.0 in labels with no predicted samples.\n",
      "  'precision', 'predicted', average, warn_for)\n",
      "/scratch/clb617/anaconda3/lib/python3.6/site-packages/sklearn/metrics/classification.py:1135: UndefinedMetricWarning: F-score is ill-defined and being set to 0.0 in labels with no predicted samples.\n",
      "  'precision', 'predicted', average, warn_for)\n"
     ]
    },
    {
     "name": "stdout",
     "output_type": "stream",
     "text": [
      "[CV] alpha=0.1785686771635271, binarize=0.4131413014246589, fit_prior=True \n"
     ]
    },
    {
     "name": "stderr",
     "output_type": "stream",
     "text": [
      "/scratch/clb617/anaconda3/lib/python3.6/site-packages/sklearn/metrics/classification.py:1135: UndefinedMetricWarning: F-score is ill-defined and being set to 0.0 in labels with no predicted samples.\n",
      "  'precision', 'predicted', average, warn_for)\n"
     ]
    },
    {
     "name": "stdout",
     "output_type": "stream",
     "text": [
      "[CV] alpha=0.1785686771635271, binarize=0.4131413014246589, fit_prior=True \n",
      "[CV] alpha=0.8635716041193817, binarize=0.4050208814415951, fit_prior=False \n",
      "[CV]  alpha=0.1785686771635271, binarize=0.4131413014246589, fit_prior=True, total=   0.0s\n",
      "[CV] alpha=0.1785686771635271, binarize=0.4131413014246589, fit_prior=True \n"
     ]
    },
    {
     "name": "stderr",
     "output_type": "stream",
     "text": [
      "/scratch/clb617/anaconda3/lib/python3.6/site-packages/sklearn/metrics/classification.py:1135: UndefinedMetricWarning: F-score is ill-defined and being set to 0.0 in labels with no predicted samples.\n",
      "  'precision', 'predicted', average, warn_for)\n",
      "/scratch/clb617/anaconda3/lib/python3.6/site-packages/sklearn/metrics/classification.py:1135: UndefinedMetricWarning: F-score is ill-defined and being set to 0.0 in labels with no predicted samples.\n",
      "  'precision', 'predicted', average, warn_for)\n"
     ]
    },
    {
     "name": "stdout",
     "output_type": "stream",
     "text": [
      "[CV]  alpha=0.1785686771635271, binarize=0.4131413014246589, fit_prior=True, total=   0.1s\n",
      "[CV] alpha=0.1785686771635271, binarize=0.4131413014246589, fit_prior=True \n",
      "[CV]  alpha=0.7601717738058574, binarize=0.18780840542641564, fit_prior=True, total=   0.3s\n"
     ]
    },
    {
     "name": "stderr",
     "output_type": "stream",
     "text": [
      "/scratch/clb617/anaconda3/lib/python3.6/site-packages/sklearn/metrics/classification.py:1135: UndefinedMetricWarning: F-score is ill-defined and being set to 0.0 in labels with no predicted samples.\n",
      "  'precision', 'predicted', average, warn_for)\n",
      "/scratch/clb617/anaconda3/lib/python3.6/site-packages/sklearn/metrics/classification.py:1135: UndefinedMetricWarning: F-score is ill-defined and being set to 0.0 in labels with no predicted samples.\n",
      "  'precision', 'predicted', average, warn_for)\n"
     ]
    },
    {
     "name": "stdout",
     "output_type": "stream",
     "text": [
      "[CV] alpha=0.7601717738058574, binarize=0.18780840542641564, fit_prior=True \n",
      "[CV] alpha=0.8976539338506713, binarize=0.9284071313766442, fit_prior=True \n",
      "[CV]  alpha=0.7601717738058574, binarize=0.18780840542641564, fit_prior=True, total=   0.3s\n",
      "[CV]  alpha=0.8635716041193817, binarize=0.4050208814415951, fit_prior=False, total=   0.0s\n"
     ]
    },
    {
     "name": "stderr",
     "output_type": "stream",
     "text": [
      "/scratch/clb617/anaconda3/lib/python3.6/site-packages/sklearn/metrics/classification.py:1135: UndefinedMetricWarning: F-score is ill-defined and being set to 0.0 in labels with no predicted samples.\n",
      "  'precision', 'predicted', average, warn_for)\n"
     ]
    },
    {
     "name": "stdout",
     "output_type": "stream",
     "text": [
      "[CV]  alpha=0.1785686771635271, binarize=0.4131413014246589, fit_prior=True, total=   0.1s\n",
      "[CV] alpha=0.8976539338506713, binarize=0.9284071313766442, fit_prior=True \n"
     ]
    },
    {
     "name": "stderr",
     "output_type": "stream",
     "text": [
      "/scratch/clb617/anaconda3/lib/python3.6/site-packages/sklearn/metrics/classification.py:1135: UndefinedMetricWarning: F-score is ill-defined and being set to 0.0 in labels with no predicted samples.\n",
      "  'precision', 'predicted', average, warn_for)\n"
     ]
    },
    {
     "name": "stdout",
     "output_type": "stream",
     "text": [
      "[CV]  alpha=0.1785686771635271, binarize=0.4131413014246589, fit_prior=True, total=   0.0s\n",
      "[CV]  alpha=0.8635716041193817, binarize=0.4050208814415951, fit_prior=False, total=   0.2s\n",
      "[CV]  alpha=0.8635716041193817, binarize=0.4050208814415951, fit_prior=False, total=   0.2s\n",
      "[CV] alpha=0.1785686771635271, binarize=0.4131413014246589, fit_prior=True \n",
      "[CV]  alpha=0.1785686771635271, binarize=0.4131413014246589, fit_prior=True, total=   0.1s\n",
      "[CV]  alpha=0.7601717738058574, binarize=0.18780840542641564, fit_prior=True, total=   0.1s\n"
     ]
    },
    {
     "name": "stderr",
     "output_type": "stream",
     "text": [
      "/scratch/clb617/anaconda3/lib/python3.6/site-packages/sklearn/metrics/classification.py:1135: UndefinedMetricWarning: F-score is ill-defined and being set to 0.0 in labels with no predicted samples.\n",
      "  'precision', 'predicted', average, warn_for)\n"
     ]
    },
    {
     "name": "stdout",
     "output_type": "stream",
     "text": [
      "[CV] alpha=0.8976539338506713, binarize=0.9284071313766442, fit_prior=True \n",
      "[CV] alpha=0.1785686771635271, binarize=0.4131413014246589, fit_prior=True \n"
     ]
    },
    {
     "name": "stderr",
     "output_type": "stream",
     "text": [
      "/scratch/clb617/anaconda3/lib/python3.6/site-packages/sklearn/metrics/classification.py:1135: UndefinedMetricWarning: F-score is ill-defined and being set to 0.0 in labels with no predicted samples.\n",
      "  'precision', 'predicted', average, warn_for)\n",
      "/scratch/clb617/anaconda3/lib/python3.6/site-packages/sklearn/metrics/classification.py:1135: UndefinedMetricWarning: F-score is ill-defined and being set to 0.0 in labels with no predicted samples.\n",
      "  'precision', 'predicted', average, warn_for)\n",
      "/scratch/clb617/anaconda3/lib/python3.6/site-packages/sklearn/metrics/classification.py:1135: UndefinedMetricWarning: F-score is ill-defined and being set to 0.0 in labels with no predicted samples.\n",
      "  'precision', 'predicted', average, warn_for)\n",
      "/scratch/clb617/anaconda3/lib/python3.6/site-packages/sklearn/metrics/classification.py:1135: UndefinedMetricWarning: F-score is ill-defined and being set to 0.0 in labels with no predicted samples.\n",
      "  'precision', 'predicted', average, warn_for)\n"
     ]
    },
    {
     "name": "stdout",
     "output_type": "stream",
     "text": [
      "[CV]  alpha=0.1785686771635271, binarize=0.4131413014246589, fit_prior=True, total=   0.1s\n"
     ]
    },
    {
     "name": "stderr",
     "output_type": "stream",
     "text": [
      "/scratch/clb617/anaconda3/lib/python3.6/site-packages/sklearn/metrics/classification.py:1135: UndefinedMetricWarning: F-score is ill-defined and being set to 0.0 in labels with no predicted samples.\n",
      "  'precision', 'predicted', average, warn_for)\n"
     ]
    },
    {
     "name": "stdout",
     "output_type": "stream",
     "text": [
      "[CV]  alpha=0.1785686771635271, binarize=0.4131413014246589, fit_prior=True, total=   0.0s\n",
      "[CV]  alpha=0.1785686771635271, binarize=0.4131413014246589, fit_prior=True, total=   0.3s\n"
     ]
    },
    {
     "name": "stderr",
     "output_type": "stream",
     "text": [
      "/scratch/clb617/anaconda3/lib/python3.6/site-packages/sklearn/metrics/classification.py:1135: UndefinedMetricWarning: F-score is ill-defined and being set to 0.0 in labels with no predicted samples.\n",
      "  'precision', 'predicted', average, warn_for)\n"
     ]
    },
    {
     "name": "stdout",
     "output_type": "stream",
     "text": [
      "[CV]  alpha=0.8635716041193817, binarize=0.4050208814415951, fit_prior=False, total=   0.3s\n",
      "[CV] alpha=0.1785686771635271, binarize=0.4131413014246589, fit_prior=True \n",
      "[CV]  alpha=0.8976539338506713, binarize=0.9284071313766442, fit_prior=True, total=   0.1s\n",
      "[CV] alpha=0.8976539338506713, binarize=0.9284071313766442, fit_prior=True \n",
      "[CV]  alpha=0.8976539338506713, binarize=0.9284071313766442, fit_prior=True, total=   0.1s\n",
      "[CV] alpha=0.8976539338506713, binarize=0.9284071313766442, fit_prior=True \n"
     ]
    },
    {
     "name": "stderr",
     "output_type": "stream",
     "text": [
      "/scratch/clb617/anaconda3/lib/python3.6/site-packages/sklearn/metrics/classification.py:1135: UndefinedMetricWarning: F-score is ill-defined and being set to 0.0 in labels with no predicted samples.\n",
      "  'precision', 'predicted', average, warn_for)\n",
      "/scratch/clb617/anaconda3/lib/python3.6/site-packages/sklearn/metrics/classification.py:1135: UndefinedMetricWarning: F-score is ill-defined and being set to 0.0 in labels with no predicted samples.\n",
      "  'precision', 'predicted', average, warn_for)\n"
     ]
    },
    {
     "name": "stdout",
     "output_type": "stream",
     "text": [
      "[CV] alpha=0.8976539338506713, binarize=0.9284071313766442, fit_prior=True \n",
      "[CV]  alpha=0.8976539338506713, binarize=0.9284071313766442, fit_prior=True, total=   0.0s\n"
     ]
    },
    {
     "name": "stderr",
     "output_type": "stream",
     "text": [
      "/scratch/clb617/anaconda3/lib/python3.6/site-packages/sklearn/metrics/classification.py:1135: UndefinedMetricWarning: F-score is ill-defined and being set to 0.0 in labels with no predicted samples.\n",
      "  'precision', 'predicted', average, warn_for)\n"
     ]
    },
    {
     "name": "stdout",
     "output_type": "stream",
     "text": [
      "[CV]  alpha=0.1785686771635271, binarize=0.4131413014246589, fit_prior=True, total=   0.1s\n",
      "[CV]  alpha=0.8976539338506713, binarize=0.9284071313766442, fit_prior=True, total=   0.0s\n",
      "[CV]  alpha=0.8976539338506713, binarize=0.9284071313766442, fit_prior=True, total=   0.1s\n",
      "[CV] alpha=0.8976539338506713, binarize=0.9284071313766442, fit_prior=True \n",
      "[CV] alpha=0.8976539338506713, binarize=0.9284071313766442, fit_prior=True \n",
      "[CV] alpha=0.8976539338506713, binarize=0.9284071313766442, fit_prior=True \n",
      "[CV] alpha=0.18525094507204487, binarize=0.9573592236712607, fit_prior=True \n"
     ]
    },
    {
     "name": "stderr",
     "output_type": "stream",
     "text": [
      "/scratch/clb617/anaconda3/lib/python3.6/site-packages/sklearn/metrics/classification.py:1135: UndefinedMetricWarning: F-score is ill-defined and being set to 0.0 in labels with no predicted samples.\n",
      "  'precision', 'predicted', average, warn_for)\n",
      "/scratch/clb617/anaconda3/lib/python3.6/site-packages/sklearn/metrics/classification.py:1135: UndefinedMetricWarning: F-score is ill-defined and being set to 0.0 in labels with no predicted samples.\n",
      "  'precision', 'predicted', average, warn_for)\n",
      "/scratch/clb617/anaconda3/lib/python3.6/site-packages/sklearn/metrics/classification.py:1135: UndefinedMetricWarning: F-score is ill-defined and being set to 0.0 in labels with no predicted samples.\n",
      "  'precision', 'predicted', average, warn_for)\n"
     ]
    },
    {
     "name": "stdout",
     "output_type": "stream",
     "text": [
      "[CV]  alpha=0.18525094507204487, binarize=0.9573592236712607, fit_prior=True, total=   0.1s\n",
      "[CV] alpha=0.18525094507204487, binarize=0.9573592236712607, fit_prior=True \n",
      "[CV] alpha=0.18525094507204487, binarize=0.9573592236712607, fit_prior=True \n",
      "[CV]  alpha=0.8976539338506713, binarize=0.9284071313766442, fit_prior=True, total=   0.0s\n"
     ]
    },
    {
     "name": "stderr",
     "output_type": "stream",
     "text": [
      "/scratch/clb617/anaconda3/lib/python3.6/site-packages/sklearn/metrics/classification.py:1135: UndefinedMetricWarning: F-score is ill-defined and being set to 0.0 in labels with no predicted samples.\n",
      "  'precision', 'predicted', average, warn_for)\n"
     ]
    },
    {
     "name": "stdout",
     "output_type": "stream",
     "text": [
      "[CV]  alpha=0.8976539338506713, binarize=0.9284071313766442, fit_prior=True, total=   0.1s\n",
      "[CV] alpha=0.8976539338506713, binarize=0.9284071313766442, fit_prior=True \n",
      "[CV]  alpha=0.8976539338506713, binarize=0.9284071313766442, fit_prior=True, total=   0.0s\n"
     ]
    },
    {
     "name": "stderr",
     "output_type": "stream",
     "text": [
      "/scratch/clb617/anaconda3/lib/python3.6/site-packages/sklearn/metrics/classification.py:1135: UndefinedMetricWarning: F-score is ill-defined and being set to 0.0 in labels with no predicted samples.\n",
      "  'precision', 'predicted', average, warn_for)\n"
     ]
    },
    {
     "name": "stdout",
     "output_type": "stream",
     "text": [
      "[CV] alpha=0.18525094507204487, binarize=0.9573592236712607, fit_prior=True \n"
     ]
    },
    {
     "name": "stderr",
     "output_type": "stream",
     "text": [
      "/scratch/clb617/anaconda3/lib/python3.6/site-packages/sklearn/metrics/classification.py:1135: UndefinedMetricWarning: F-score is ill-defined and being set to 0.0 in labels with no predicted samples.\n",
      "  'precision', 'predicted', average, warn_for)\n"
     ]
    },
    {
     "name": "stdout",
     "output_type": "stream",
     "text": [
      "[CV] alpha=0.18525094507204487, binarize=0.9573592236712607, fit_prior=True \n"
     ]
    },
    {
     "name": "stderr",
     "output_type": "stream",
     "text": [
      "/scratch/clb617/anaconda3/lib/python3.6/site-packages/sklearn/metrics/classification.py:1135: UndefinedMetricWarning: F-score is ill-defined and being set to 0.0 in labels with no predicted samples.\n",
      "  'precision', 'predicted', average, warn_for)\n",
      "/scratch/clb617/anaconda3/lib/python3.6/site-packages/sklearn/metrics/classification.py:1135: UndefinedMetricWarning: F-score is ill-defined and being set to 0.0 in labels with no predicted samples.\n",
      "  'precision', 'predicted', average, warn_for)\n",
      "/scratch/clb617/anaconda3/lib/python3.6/site-packages/sklearn/metrics/classification.py:1135: UndefinedMetricWarning: F-score is ill-defined and being set to 0.0 in labels with no predicted samples.\n",
      "  'precision', 'predicted', average, warn_for)\n"
     ]
    },
    {
     "name": "stdout",
     "output_type": "stream",
     "text": [
      "[CV]  alpha=0.18525094507204487, binarize=0.9573592236712607, fit_prior=True, total=   0.0s\n",
      "[CV] alpha=0.18525094507204487, binarize=0.9573592236712607, fit_prior=True \n",
      "[CV]  alpha=0.18525094507204487, binarize=0.9573592236712607, fit_prior=True, total=   0.1s\n",
      "[CV] alpha=0.8135778196454572, binarize=0.692255143154196, fit_prior=True \n"
     ]
    },
    {
     "name": "stderr",
     "output_type": "stream",
     "text": [
      "/scratch/clb617/anaconda3/lib/python3.6/site-packages/sklearn/metrics/classification.py:1135: UndefinedMetricWarning: F-score is ill-defined and being set to 0.0 in labels with no predicted samples.\n",
      "  'precision', 'predicted', average, warn_for)\n"
     ]
    },
    {
     "name": "stdout",
     "output_type": "stream",
     "text": [
      "[CV]  alpha=0.8976539338506713, binarize=0.9284071313766442, fit_prior=True, total=   0.2s\n"
     ]
    },
    {
     "name": "stderr",
     "output_type": "stream",
     "text": [
      "/scratch/clb617/anaconda3/lib/python3.6/site-packages/sklearn/metrics/classification.py:1135: UndefinedMetricWarning: F-score is ill-defined and being set to 0.0 in labels with no predicted samples.\n",
      "  'precision', 'predicted', average, warn_for)\n",
      "/scratch/clb617/anaconda3/lib/python3.6/site-packages/sklearn/metrics/classification.py:1135: UndefinedMetricWarning: F-score is ill-defined and being set to 0.0 in labels with no predicted samples.\n",
      "  'precision', 'predicted', average, warn_for)\n"
     ]
    },
    {
     "name": "stdout",
     "output_type": "stream",
     "text": [
      "[CV]  alpha=0.18525094507204487, binarize=0.9573592236712607, fit_prior=True, total=   0.1s\n",
      "[CV] alpha=0.18525094507204487, binarize=0.9573592236712607, fit_prior=True \n",
      "[CV]  alpha=0.18525094507204487, binarize=0.9573592236712607, fit_prior=True, total=   0.1s\n",
      "[CV]  alpha=0.8135778196454572, binarize=0.692255143154196, fit_prior=True, total=   0.0s\n",
      "[CV] alpha=0.18525094507204487, binarize=0.9573592236712607, fit_prior=True \n",
      "[CV] alpha=0.18525094507204487, binarize=0.9573592236712607, fit_prior=True \n",
      "[CV] alpha=0.8135778196454572, binarize=0.692255143154196, fit_prior=True \n",
      "[CV] alpha=0.8135778196454572, binarize=0.692255143154196, fit_prior=True \n"
     ]
    },
    {
     "name": "stderr",
     "output_type": "stream",
     "text": [
      "/scratch/clb617/anaconda3/lib/python3.6/site-packages/sklearn/metrics/classification.py:1135: UndefinedMetricWarning: F-score is ill-defined and being set to 0.0 in labels with no predicted samples.\n",
      "  'precision', 'predicted', average, warn_for)\n"
     ]
    },
    {
     "name": "stdout",
     "output_type": "stream",
     "text": [
      "[CV] alpha=0.8135778196454572, binarize=0.692255143154196, fit_prior=True \n"
     ]
    },
    {
     "name": "stderr",
     "output_type": "stream",
     "text": [
      "/scratch/clb617/anaconda3/lib/python3.6/site-packages/sklearn/metrics/classification.py:1135: UndefinedMetricWarning: F-score is ill-defined and being set to 0.0 in labels with no predicted samples.\n",
      "  'precision', 'predicted', average, warn_for)\n",
      "/scratch/clb617/anaconda3/lib/python3.6/site-packages/sklearn/metrics/classification.py:1135: UndefinedMetricWarning: F-score is ill-defined and being set to 0.0 in labels with no predicted samples.\n",
      "  'precision', 'predicted', average, warn_for)\n",
      "/scratch/clb617/anaconda3/lib/python3.6/site-packages/sklearn/metrics/classification.py:1135: UndefinedMetricWarning: F-score is ill-defined and being set to 0.0 in labels with no predicted samples.\n",
      "  'precision', 'predicted', average, warn_for)\n"
     ]
    },
    {
     "name": "stdout",
     "output_type": "stream",
     "text": [
      "[CV]  alpha=0.8976539338506713, binarize=0.9284071313766442, fit_prior=True, total=   0.1s\n"
     ]
    },
    {
     "name": "stderr",
     "output_type": "stream",
     "text": [
      "/scratch/clb617/anaconda3/lib/python3.6/site-packages/sklearn/metrics/classification.py:1135: UndefinedMetricWarning: F-score is ill-defined and being set to 0.0 in labels with no predicted samples.\n",
      "  'precision', 'predicted', average, warn_for)\n"
     ]
    },
    {
     "name": "stdout",
     "output_type": "stream",
     "text": [
      "[CV] alpha=0.8135778196454572, binarize=0.692255143154196, fit_prior=True \n"
     ]
    },
    {
     "name": "stderr",
     "output_type": "stream",
     "text": [
      "/scratch/clb617/anaconda3/lib/python3.6/site-packages/sklearn/metrics/classification.py:1135: UndefinedMetricWarning: F-score is ill-defined and being set to 0.0 in labels with no predicted samples.\n",
      "  'precision', 'predicted', average, warn_for)\n"
     ]
    },
    {
     "name": "stdout",
     "output_type": "stream",
     "text": [
      "[CV]  alpha=0.18525094507204487, binarize=0.9573592236712607, fit_prior=True, total=   0.1s\n",
      "[CV]  alpha=0.18525094507204487, binarize=0.9573592236712607, fit_prior=True, total=   0.1s\n"
     ]
    },
    {
     "name": "stderr",
     "output_type": "stream",
     "text": [
      "/scratch/clb617/anaconda3/lib/python3.6/site-packages/sklearn/metrics/classification.py:1135: UndefinedMetricWarning: F-score is ill-defined and being set to 0.0 in labels with no predicted samples.\n",
      "  'precision', 'predicted', average, warn_for)\n"
     ]
    },
    {
     "name": "stdout",
     "output_type": "stream",
     "text": [
      "[CV]  alpha=0.8135778196454572, binarize=0.692255143154196, fit_prior=True, total=   0.1s\n",
      "[CV] alpha=0.8135778196454572, binarize=0.692255143154196, fit_prior=True \n",
      "[CV]  alpha=0.8135778196454572, binarize=0.692255143154196, fit_prior=True, total=   0.1s\n",
      "[CV] alpha=0.8135778196454572, binarize=0.692255143154196, fit_prior=True \n",
      "[CV]  alpha=0.18525094507204487, binarize=0.9573592236712607, fit_prior=True, total=   0.1s\n"
     ]
    },
    {
     "name": "stderr",
     "output_type": "stream",
     "text": [
      "/scratch/clb617/anaconda3/lib/python3.6/site-packages/sklearn/metrics/classification.py:1135: UndefinedMetricWarning: F-score is ill-defined and being set to 0.0 in labels with no predicted samples.\n",
      "  'precision', 'predicted', average, warn_for)\n"
     ]
    },
    {
     "name": "stdout",
     "output_type": "stream",
     "text": [
      "[CV]  alpha=0.18525094507204487, binarize=0.9573592236712607, fit_prior=True, total=   0.1s\n",
      "[CV]  alpha=0.8135778196454572, binarize=0.692255143154196, fit_prior=True, total=   0.1s\n",
      "[CV] alpha=0.18525094507204487, binarize=0.9573592236712607, fit_prior=True \n",
      "[CV] alpha=0.01579145221181444, binarize=0.7316900686676242, fit_prior=False \n",
      "[CV]  alpha=0.8135778196454572, binarize=0.692255143154196, fit_prior=True, total=   0.0s\n"
     ]
    },
    {
     "name": "stderr",
     "output_type": "stream",
     "text": [
      "/scratch/clb617/anaconda3/lib/python3.6/site-packages/sklearn/metrics/classification.py:1135: UndefinedMetricWarning: F-score is ill-defined and being set to 0.0 in labels with no predicted samples.\n",
      "  'precision', 'predicted', average, warn_for)\n"
     ]
    },
    {
     "name": "stdout",
     "output_type": "stream",
     "text": [
      "[CV]  alpha=0.8135778196454572, binarize=0.692255143154196, fit_prior=True, total=   0.1s\n",
      "[CV] alpha=0.01579145221181444, binarize=0.7316900686676242, fit_prior=False \n",
      "[CV] alpha=0.8135778196454572, binarize=0.692255143154196, fit_prior=True \n",
      "[CV]  alpha=0.8135778196454572, binarize=0.692255143154196, fit_prior=True, total=   0.1s\n"
     ]
    },
    {
     "name": "stderr",
     "output_type": "stream",
     "text": [
      "/scratch/clb617/anaconda3/lib/python3.6/site-packages/sklearn/metrics/classification.py:1135: UndefinedMetricWarning: F-score is ill-defined and being set to 0.0 in labels with no predicted samples.\n",
      "  'precision', 'predicted', average, warn_for)\n",
      "/scratch/clb617/anaconda3/lib/python3.6/site-packages/sklearn/metrics/classification.py:1135: UndefinedMetricWarning: F-score is ill-defined and being set to 0.0 in labels with no predicted samples.\n",
      "  'precision', 'predicted', average, warn_for)\n"
     ]
    },
    {
     "name": "stdout",
     "output_type": "stream",
     "text": [
      "[CV] alpha=0.8135778196454572, binarize=0.692255143154196, fit_prior=True \n"
     ]
    },
    {
     "name": "stderr",
     "output_type": "stream",
     "text": [
      "/scratch/clb617/anaconda3/lib/python3.6/site-packages/sklearn/metrics/classification.py:1135: UndefinedMetricWarning: F-score is ill-defined and being set to 0.0 in labels with no predicted samples.\n",
      "  'precision', 'predicted', average, warn_for)\n"
     ]
    },
    {
     "name": "stdout",
     "output_type": "stream",
     "text": [
      "[CV]  alpha=0.8135778196454572, binarize=0.692255143154196, fit_prior=True, total=   0.0s\n",
      "[CV] alpha=0.01579145221181444, binarize=0.7316900686676242, fit_prior=False \n",
      "[CV]  alpha=0.8135778196454572, binarize=0.692255143154196, fit_prior=True, total=   0.0s\n",
      "[CV]  alpha=0.01579145221181444, binarize=0.7316900686676242, fit_prior=False, total=   0.1s\n",
      "[CV] alpha=0.01579145221181444, binarize=0.7316900686676242, fit_prior=False \n"
     ]
    },
    {
     "name": "stderr",
     "output_type": "stream",
     "text": [
      "/scratch/clb617/anaconda3/lib/python3.6/site-packages/sklearn/metrics/classification.py:1135: UndefinedMetricWarning: F-score is ill-defined and being set to 0.0 in labels with no predicted samples.\n",
      "  'precision', 'predicted', average, warn_for)\n",
      "/scratch/clb617/anaconda3/lib/python3.6/site-packages/sklearn/metrics/classification.py:1135: UndefinedMetricWarning: F-score is ill-defined and being set to 0.0 in labels with no predicted samples.\n",
      "  'precision', 'predicted', average, warn_for)\n"
     ]
    },
    {
     "name": "stdout",
     "output_type": "stream",
     "text": [
      "[CV] alpha=0.01579145221181444, binarize=0.7316900686676242, fit_prior=False \n",
      "[CV]  alpha=0.01579145221181444, binarize=0.7316900686676242, fit_prior=False, total=   0.0s\n",
      "[CV] alpha=0.01579145221181444, binarize=0.7316900686676242, fit_prior=False \n",
      "[CV] alpha=0.6650964778876121, binarize=0.4577125841873495, fit_prior=False \n",
      "[CV] alpha=0.6650964778876121, binarize=0.4577125841873495, fit_prior=False \n",
      "[CV] alpha=0.6650964778876121, binarize=0.4577125841873495, fit_prior=False \n",
      "[CV] alpha=0.6650964778876121, binarize=0.4577125841873495, fit_prior=False \n",
      "[CV] alpha=0.6650964778876121, binarize=0.4577125841873495, fit_prior=False \n",
      "[CV] alpha=0.8135778196454572, binarize=0.692255143154196, fit_prior=True \n"
     ]
    },
    {
     "name": "stderr",
     "output_type": "stream",
     "text": [
      "/scratch/clb617/anaconda3/lib/python3.6/site-packages/sklearn/metrics/classification.py:1135: UndefinedMetricWarning: F-score is ill-defined and being set to 0.0 in labels with no predicted samples.\n",
      "  'precision', 'predicted', average, warn_for)\n",
      "/scratch/clb617/anaconda3/lib/python3.6/site-packages/sklearn/metrics/classification.py:1135: UndefinedMetricWarning: F-score is ill-defined and being set to 0.0 in labels with no predicted samples.\n",
      "  'precision', 'predicted', average, warn_for)\n",
      "/scratch/clb617/anaconda3/lib/python3.6/site-packages/sklearn/metrics/classification.py:1135: UndefinedMetricWarning: F-score is ill-defined and being set to 0.0 in labels with no predicted samples.\n",
      "  'precision', 'predicted', average, warn_for)\n"
     ]
    },
    {
     "name": "stdout",
     "output_type": "stream",
     "text": [
      "[CV]  alpha=0.6650964778876121, binarize=0.4577125841873495, fit_prior=False, total=   0.1s\n"
     ]
    },
    {
     "name": "stderr",
     "output_type": "stream",
     "text": [
      "/scratch/clb617/anaconda3/lib/python3.6/site-packages/sklearn/metrics/classification.py:1135: UndefinedMetricWarning: F-score is ill-defined and being set to 0.0 in labels with no predicted samples.\n",
      "  'precision', 'predicted', average, warn_for)\n",
      "/scratch/clb617/anaconda3/lib/python3.6/site-packages/sklearn/metrics/classification.py:1135: UndefinedMetricWarning: F-score is ill-defined and being set to 0.0 in labels with no predicted samples.\n",
      "  'precision', 'predicted', average, warn_for)\n"
     ]
    },
    {
     "name": "stdout",
     "output_type": "stream",
     "text": [
      "[CV]  alpha=0.01579145221181444, binarize=0.7316900686676242, fit_prior=False, total=   0.1s\n"
     ]
    },
    {
     "name": "stderr",
     "output_type": "stream",
     "text": [
      "/scratch/clb617/anaconda3/lib/python3.6/site-packages/sklearn/metrics/classification.py:1135: UndefinedMetricWarning: F-score is ill-defined and being set to 0.0 in labels with no predicted samples.\n",
      "  'precision', 'predicted', average, warn_for)\n"
     ]
    },
    {
     "name": "stdout",
     "output_type": "stream",
     "text": [
      "[CV]  alpha=0.6650964778876121, binarize=0.4577125841873495, fit_prior=False, total=   0.1s\n",
      "[CV]  alpha=0.01579145221181444, binarize=0.7316900686676242, fit_prior=False, total=   0.1s\n"
     ]
    },
    {
     "name": "stderr",
     "output_type": "stream",
     "text": [
      "/scratch/clb617/anaconda3/lib/python3.6/site-packages/sklearn/metrics/classification.py:1135: UndefinedMetricWarning: F-score is ill-defined and being set to 0.0 in labels with no predicted samples.\n",
      "  'precision', 'predicted', average, warn_for)\n"
     ]
    },
    {
     "name": "stdout",
     "output_type": "stream",
     "text": [
      "[CV] alpha=0.6650964778876121, binarize=0.4577125841873495, fit_prior=False \n",
      "[CV] alpha=0.01579145221181444, binarize=0.7316900686676242, fit_prior=False \n",
      "[CV]  alpha=0.18525094507204487, binarize=0.9573592236712607, fit_prior=True, total=   0.3s\n",
      "[CV]  alpha=0.8135778196454572, binarize=0.692255143154196, fit_prior=True, total=   0.0s\n",
      "[CV]  alpha=0.6650964778876121, binarize=0.4577125841873495, fit_prior=False, total=   0.1s\n"
     ]
    },
    {
     "name": "stderr",
     "output_type": "stream",
     "text": [
      "/scratch/clb617/anaconda3/lib/python3.6/site-packages/sklearn/metrics/classification.py:1135: UndefinedMetricWarning: F-score is ill-defined and being set to 0.0 in labels with no predicted samples.\n",
      "  'precision', 'predicted', average, warn_for)\n"
     ]
    },
    {
     "name": "stdout",
     "output_type": "stream",
     "text": [
      "[CV] alpha=0.6650964778876121, binarize=0.4577125841873495, fit_prior=False \n",
      "[CV] alpha=0.6650964778876121, binarize=0.4577125841873495, fit_prior=False \n",
      "[CV] alpha=0.01579145221181444, binarize=0.7316900686676242, fit_prior=False \n"
     ]
    },
    {
     "name": "stderr",
     "output_type": "stream",
     "text": [
      "/scratch/clb617/anaconda3/lib/python3.6/site-packages/sklearn/metrics/classification.py:1135: UndefinedMetricWarning: F-score is ill-defined and being set to 0.0 in labels with no predicted samples.\n",
      "  'precision', 'predicted', average, warn_for)\n",
      "/scratch/clb617/anaconda3/lib/python3.6/site-packages/sklearn/metrics/classification.py:1135: UndefinedMetricWarning: F-score is ill-defined and being set to 0.0 in labels with no predicted samples.\n",
      "  'precision', 'predicted', average, warn_for)\n"
     ]
    },
    {
     "name": "stdout",
     "output_type": "stream",
     "text": [
      "[CV]  alpha=0.6650964778876121, binarize=0.4577125841873495, fit_prior=False, total=   0.1s\n",
      "[CV] alpha=0.6650964778876121, binarize=0.4577125841873495, fit_prior=False \n",
      "[CV] alpha=0.374834184580071, binarize=0.6932194442011307, fit_prior=True \n",
      "[CV] alpha=0.01579145221181444, binarize=0.7316900686676242, fit_prior=False \n",
      "[CV]  alpha=0.6650964778876121, binarize=0.4577125841873495, fit_prior=False, total=   0.1s\n"
     ]
    },
    {
     "name": "stderr",
     "output_type": "stream",
     "text": [
      "/scratch/clb617/anaconda3/lib/python3.6/site-packages/sklearn/metrics/classification.py:1135: UndefinedMetricWarning: F-score is ill-defined and being set to 0.0 in labels with no predicted samples.\n",
      "  'precision', 'predicted', average, warn_for)\n",
      "/scratch/clb617/anaconda3/lib/python3.6/site-packages/sklearn/metrics/classification.py:1135: UndefinedMetricWarning: F-score is ill-defined and being set to 0.0 in labels with no predicted samples.\n",
      "  'precision', 'predicted', average, warn_for)\n"
     ]
    },
    {
     "name": "stdout",
     "output_type": "stream",
     "text": [
      "[CV]  alpha=0.01579145221181444, binarize=0.7316900686676242, fit_prior=False, total=   0.1s\n"
     ]
    },
    {
     "name": "stderr",
     "output_type": "stream",
     "text": [
      "/scratch/clb617/anaconda3/lib/python3.6/site-packages/sklearn/metrics/classification.py:1135: UndefinedMetricWarning: F-score is ill-defined and being set to 0.0 in labels with no predicted samples.\n",
      "  'precision', 'predicted', average, warn_for)\n",
      "/scratch/clb617/anaconda3/lib/python3.6/site-packages/sklearn/metrics/classification.py:1135: UndefinedMetricWarning: F-score is ill-defined and being set to 0.0 in labels with no predicted samples.\n",
      "  'precision', 'predicted', average, warn_for)\n"
     ]
    },
    {
     "name": "stdout",
     "output_type": "stream",
     "text": [
      "[CV]  alpha=0.6650964778876121, binarize=0.4577125841873495, fit_prior=False, total=   0.0s\n",
      "[CV]  alpha=0.01579145221181444, binarize=0.7316900686676242, fit_prior=False, total=   0.1s\n",
      "[CV]  alpha=0.374834184580071, binarize=0.6932194442011307, fit_prior=True, total=   0.1s\n",
      "[CV]  alpha=0.6650964778876121, binarize=0.4577125841873495, fit_prior=False, total=   0.2s\n"
     ]
    },
    {
     "name": "stderr",
     "output_type": "stream",
     "text": [
      "/scratch/clb617/anaconda3/lib/python3.6/site-packages/sklearn/metrics/classification.py:1135: UndefinedMetricWarning: F-score is ill-defined and being set to 0.0 in labels with no predicted samples.\n",
      "  'precision', 'predicted', average, warn_for)\n",
      "/scratch/clb617/anaconda3/lib/python3.6/site-packages/sklearn/metrics/classification.py:1135: UndefinedMetricWarning: F-score is ill-defined and being set to 0.0 in labels with no predicted samples.\n",
      "  'precision', 'predicted', average, warn_for)\n",
      "/scratch/clb617/anaconda3/lib/python3.6/site-packages/sklearn/metrics/classification.py:1135: UndefinedMetricWarning: F-score is ill-defined and being set to 0.0 in labels with no predicted samples.\n",
      "  'precision', 'predicted', average, warn_for)\n"
     ]
    },
    {
     "name": "stdout",
     "output_type": "stream",
     "text": [
      "[CV] alpha=0.374834184580071, binarize=0.6932194442011307, fit_prior=True \n",
      "[CV]  alpha=0.01579145221181444, binarize=0.7316900686676242, fit_prior=False, total=   0.2s\n",
      "[CV] alpha=0.6650964778876121, binarize=0.4577125841873495, fit_prior=False \n",
      "[CV]  alpha=0.6650964778876121, binarize=0.4577125841873495, fit_prior=False, total=   0.0s\n",
      "[CV] alpha=0.374834184580071, binarize=0.6932194442011307, fit_prior=True \n"
     ]
    },
    {
     "name": "stderr",
     "output_type": "stream",
     "text": [
      "/scratch/clb617/anaconda3/lib/python3.6/site-packages/sklearn/metrics/classification.py:1135: UndefinedMetricWarning: F-score is ill-defined and being set to 0.0 in labels with no predicted samples.\n",
      "  'precision', 'predicted', average, warn_for)\n",
      "/scratch/clb617/anaconda3/lib/python3.6/site-packages/sklearn/metrics/classification.py:1135: UndefinedMetricWarning: F-score is ill-defined and being set to 0.0 in labels with no predicted samples.\n",
      "  'precision', 'predicted', average, warn_for)\n",
      "/scratch/clb617/anaconda3/lib/python3.6/site-packages/sklearn/metrics/classification.py:1135: UndefinedMetricWarning: F-score is ill-defined and being set to 0.0 in labels with no predicted samples.\n",
      "  'precision', 'predicted', average, warn_for)\n"
     ]
    },
    {
     "name": "stdout",
     "output_type": "stream",
     "text": [
      "[CV]  alpha=0.01579145221181444, binarize=0.7316900686676242, fit_prior=False, total=   0.3s\n",
      "[CV]  alpha=0.6650964778876121, binarize=0.4577125841873495, fit_prior=False, total=   0.1s\n",
      "[CV] alpha=0.01579145221181444, binarize=0.7316900686676242, fit_prior=False \n",
      "[CV]  alpha=0.374834184580071, binarize=0.6932194442011307, fit_prior=True, total=   0.0s\n",
      "[CV]  alpha=0.6650964778876121, binarize=0.4577125841873495, fit_prior=False, total=   0.0s\n",
      "[CV] alpha=0.374834184580071, binarize=0.6932194442011307, fit_prior=True \n",
      "[CV]  alpha=0.01579145221181444, binarize=0.7316900686676242, fit_prior=False, total=   0.4s\n"
     ]
    },
    {
     "name": "stderr",
     "output_type": "stream",
     "text": [
      "/scratch/clb617/anaconda3/lib/python3.6/site-packages/sklearn/metrics/classification.py:1135: UndefinedMetricWarning: F-score is ill-defined and being set to 0.0 in labels with no predicted samples.\n",
      "  'precision', 'predicted', average, warn_for)\n",
      "/scratch/clb617/anaconda3/lib/python3.6/site-packages/sklearn/metrics/classification.py:1135: UndefinedMetricWarning: F-score is ill-defined and being set to 0.0 in labels with no predicted samples.\n",
      "  'precision', 'predicted', average, warn_for)\n",
      "/scratch/clb617/anaconda3/lib/python3.6/site-packages/sklearn/metrics/classification.py:1135: UndefinedMetricWarning: F-score is ill-defined and being set to 0.0 in labels with no predicted samples.\n",
      "  'precision', 'predicted', average, warn_for)\n"
     ]
    },
    {
     "name": "stdout",
     "output_type": "stream",
     "text": [
      "[CV]  alpha=0.374834184580071, binarize=0.6932194442011307, fit_prior=True, total=   0.1s\n",
      "[CV]  alpha=0.01579145221181444, binarize=0.7316900686676242, fit_prior=False, total=   0.1s\n",
      "[CV] alpha=0.374834184580071, binarize=0.6932194442011307, fit_prior=True \n",
      "[CV] alpha=0.374834184580071, binarize=0.6932194442011307, fit_prior=True \n",
      "[CV]  alpha=0.374834184580071, binarize=0.6932194442011307, fit_prior=True, total=   0.0s\n",
      "[CV] alpha=0.374834184580071, binarize=0.6932194442011307, fit_prior=True \n"
     ]
    },
    {
     "name": "stderr",
     "output_type": "stream",
     "text": [
      "/scratch/clb617/anaconda3/lib/python3.6/site-packages/sklearn/metrics/classification.py:1135: UndefinedMetricWarning: F-score is ill-defined and being set to 0.0 in labels with no predicted samples.\n",
      "  'precision', 'predicted', average, warn_for)\n"
     ]
    },
    {
     "name": "stdout",
     "output_type": "stream",
     "text": [
      "[CV]  alpha=0.374834184580071, binarize=0.6932194442011307, fit_prior=True, total=   0.1s\n",
      "[CV] alpha=0.374834184580071, binarize=0.6932194442011307, fit_prior=True \n",
      "[CV] alpha=0.374834184580071, binarize=0.6932194442011307, fit_prior=True \n",
      "[CV] alpha=0.6781037030311603, binarize=0.8480387408932992, fit_prior=True \n"
     ]
    },
    {
     "name": "stderr",
     "output_type": "stream",
     "text": [
      "[Parallel(n_jobs=-1)]: Done 156 tasks      | elapsed:    4.8s\n",
      "/scratch/clb617/anaconda3/lib/python3.6/site-packages/sklearn/metrics/classification.py:1135: UndefinedMetricWarning: F-score is ill-defined and being set to 0.0 in labels with no predicted samples.\n",
      "  'precision', 'predicted', average, warn_for)\n",
      "/scratch/clb617/anaconda3/lib/python3.6/site-packages/sklearn/metrics/classification.py:1135: UndefinedMetricWarning: F-score is ill-defined and being set to 0.0 in labels with no predicted samples.\n",
      "  'precision', 'predicted', average, warn_for)\n",
      "/scratch/clb617/anaconda3/lib/python3.6/site-packages/sklearn/metrics/classification.py:1135: UndefinedMetricWarning: F-score is ill-defined and being set to 0.0 in labels with no predicted samples.\n",
      "  'precision', 'predicted', average, warn_for)\n"
     ]
    },
    {
     "name": "stdout",
     "output_type": "stream",
     "text": [
      "[CV] alpha=0.374834184580071, binarize=0.6932194442011307, fit_prior=True \n"
     ]
    },
    {
     "name": "stderr",
     "output_type": "stream",
     "text": [
      "/scratch/clb617/anaconda3/lib/python3.6/site-packages/sklearn/metrics/classification.py:1135: UndefinedMetricWarning: F-score is ill-defined and being set to 0.0 in labels with no predicted samples.\n",
      "  'precision', 'predicted', average, warn_for)\n"
     ]
    },
    {
     "name": "stdout",
     "output_type": "stream",
     "text": [
      "[CV]  alpha=0.374834184580071, binarize=0.6932194442011307, fit_prior=True, total=   0.1s\n"
     ]
    },
    {
     "name": "stderr",
     "output_type": "stream",
     "text": [
      "/scratch/clb617/anaconda3/lib/python3.6/site-packages/sklearn/metrics/classification.py:1135: UndefinedMetricWarning: F-score is ill-defined and being set to 0.0 in labels with no predicted samples.\n",
      "  'precision', 'predicted', average, warn_for)\n"
     ]
    },
    {
     "name": "stdout",
     "output_type": "stream",
     "text": [
      "[CV] alpha=0.6781037030311603, binarize=0.8480387408932992, fit_prior=True \n",
      "[CV]  alpha=0.6781037030311603, binarize=0.8480387408932992, fit_prior=True, total=   0.1s\n"
     ]
    },
    {
     "name": "stderr",
     "output_type": "stream",
     "text": [
      "/scratch/clb617/anaconda3/lib/python3.6/site-packages/sklearn/metrics/classification.py:1135: UndefinedMetricWarning: F-score is ill-defined and being set to 0.0 in labels with no predicted samples.\n",
      "  'precision', 'predicted', average, warn_for)\n"
     ]
    },
    {
     "name": "stdout",
     "output_type": "stream",
     "text": [
      "[CV]  alpha=0.374834184580071, binarize=0.6932194442011307, fit_prior=True, total=   0.1s\n",
      "[CV]  alpha=0.374834184580071, binarize=0.6932194442011307, fit_prior=True, total=   0.1s\n",
      "[CV]  alpha=0.6781037030311603, binarize=0.8480387408932992, fit_prior=True, total=   0.0s\n",
      "[CV]  alpha=0.374834184580071, binarize=0.6932194442011307, fit_prior=True, total=   0.1s\n",
      "[CV] alpha=0.6781037030311603, binarize=0.8480387408932992, fit_prior=True \n"
     ]
    },
    {
     "name": "stderr",
     "output_type": "stream",
     "text": [
      "/scratch/clb617/anaconda3/lib/python3.6/site-packages/sklearn/metrics/classification.py:1135: UndefinedMetricWarning: F-score is ill-defined and being set to 0.0 in labels with no predicted samples.\n",
      "  'precision', 'predicted', average, warn_for)\n"
     ]
    },
    {
     "name": "stdout",
     "output_type": "stream",
     "text": [
      "[CV] alpha=0.6781037030311603, binarize=0.8480387408932992, fit_prior=True \n"
     ]
    },
    {
     "name": "stderr",
     "output_type": "stream",
     "text": [
      "/scratch/clb617/anaconda3/lib/python3.6/site-packages/sklearn/metrics/classification.py:1135: UndefinedMetricWarning: F-score is ill-defined and being set to 0.0 in labels with no predicted samples.\n",
      "  'precision', 'predicted', average, warn_for)\n",
      "/scratch/clb617/anaconda3/lib/python3.6/site-packages/sklearn/metrics/classification.py:1135: UndefinedMetricWarning: F-score is ill-defined and being set to 0.0 in labels with no predicted samples.\n",
      "  'precision', 'predicted', average, warn_for)\n"
     ]
    },
    {
     "name": "stdout",
     "output_type": "stream",
     "text": [
      "[CV] alpha=0.6781037030311603, binarize=0.8480387408932992, fit_prior=True \n",
      "[CV]  alpha=0.6781037030311603, binarize=0.8480387408932992, fit_prior=True, total=   0.1s\n",
      "[CV]  alpha=0.6781037030311603, binarize=0.8480387408932992, fit_prior=True, total=   0.0s\n",
      "[CV] alpha=0.6781037030311603, binarize=0.8480387408932992, fit_prior=True \n",
      "[CV] alpha=0.6781037030311603, binarize=0.8480387408932992, fit_prior=True \n",
      "[CV] alpha=0.6781037030311603, binarize=0.8480387408932992, fit_prior=True \n",
      "[CV]  alpha=0.374834184580071, binarize=0.6932194442011307, fit_prior=True, total=   0.1s\n"
     ]
    },
    {
     "name": "stderr",
     "output_type": "stream",
     "text": [
      "/scratch/clb617/anaconda3/lib/python3.6/site-packages/sklearn/metrics/classification.py:1135: UndefinedMetricWarning: F-score is ill-defined and being set to 0.0 in labels with no predicted samples.\n",
      "  'precision', 'predicted', average, warn_for)\n",
      "/scratch/clb617/anaconda3/lib/python3.6/site-packages/sklearn/metrics/classification.py:1135: UndefinedMetricWarning: F-score is ill-defined and being set to 0.0 in labels with no predicted samples.\n",
      "  'precision', 'predicted', average, warn_for)\n"
     ]
    },
    {
     "name": "stdout",
     "output_type": "stream",
     "text": [
      "[CV] alpha=0.6781037030311603, binarize=0.8480387408932992, fit_prior=True \n",
      "[CV]  alpha=0.6781037030311603, binarize=0.8480387408932992, fit_prior=True, total=   0.1s\n"
     ]
    },
    {
     "name": "stderr",
     "output_type": "stream",
     "text": [
      "/scratch/clb617/anaconda3/lib/python3.6/site-packages/sklearn/metrics/classification.py:1135: UndefinedMetricWarning: F-score is ill-defined and being set to 0.0 in labels with no predicted samples.\n",
      "  'precision', 'predicted', average, warn_for)\n"
     ]
    },
    {
     "name": "stdout",
     "output_type": "stream",
     "text": [
      "[CV]  alpha=0.6781037030311603, binarize=0.8480387408932992, fit_prior=True, total=   0.0s\n"
     ]
    },
    {
     "name": "stderr",
     "output_type": "stream",
     "text": [
      "/scratch/clb617/anaconda3/lib/python3.6/site-packages/sklearn/metrics/classification.py:1135: UndefinedMetricWarning: F-score is ill-defined and being set to 0.0 in labels with no predicted samples.\n",
      "  'precision', 'predicted', average, warn_for)\n"
     ]
    },
    {
     "name": "stdout",
     "output_type": "stream",
     "text": [
      "[CV] alpha=0.6781037030311603, binarize=0.8480387408932992, fit_prior=True \n",
      "[CV]  alpha=0.6781037030311603, binarize=0.8480387408932992, fit_prior=True, total=   0.1s\n"
     ]
    },
    {
     "name": "stderr",
     "output_type": "stream",
     "text": [
      "/scratch/clb617/anaconda3/lib/python3.6/site-packages/sklearn/metrics/classification.py:1135: UndefinedMetricWarning: F-score is ill-defined and being set to 0.0 in labels with no predicted samples.\n",
      "  'precision', 'predicted', average, warn_for)\n"
     ]
    },
    {
     "name": "stdout",
     "output_type": "stream",
     "text": [
      "[CV]  alpha=0.6781037030311603, binarize=0.8480387408932992, fit_prior=True, total=   0.2s\n",
      "[CV] alpha=0.789336085024112, binarize=0.34976921269998185, fit_prior=False \n",
      "[CV] alpha=0.789336085024112, binarize=0.34976921269998185, fit_prior=False \n",
      "[CV] alpha=0.789336085024112, binarize=0.34976921269998185, fit_prior=False \n",
      "[CV] alpha=0.789336085024112, binarize=0.34976921269998185, fit_prior=False \n"
     ]
    },
    {
     "name": "stderr",
     "output_type": "stream",
     "text": [
      "/scratch/clb617/anaconda3/lib/python3.6/site-packages/sklearn/metrics/classification.py:1135: UndefinedMetricWarning: F-score is ill-defined and being set to 0.0 in labels with no predicted samples.\n",
      "  'precision', 'predicted', average, warn_for)\n",
      "/scratch/clb617/anaconda3/lib/python3.6/site-packages/sklearn/metrics/classification.py:1135: UndefinedMetricWarning: F-score is ill-defined and being set to 0.0 in labels with no predicted samples.\n",
      "  'precision', 'predicted', average, warn_for)\n"
     ]
    },
    {
     "name": "stdout",
     "output_type": "stream",
     "text": [
      "[CV]  alpha=0.6781037030311603, binarize=0.8480387408932992, fit_prior=True, total=   0.1s\n"
     ]
    },
    {
     "name": "stderr",
     "output_type": "stream",
     "text": [
      "/scratch/clb617/anaconda3/lib/python3.6/site-packages/sklearn/metrics/classification.py:1135: UndefinedMetricWarning: F-score is ill-defined and being set to 0.0 in labels with no predicted samples.\n",
      "  'precision', 'predicted', average, warn_for)\n"
     ]
    },
    {
     "name": "stdout",
     "output_type": "stream",
     "text": [
      "[CV]  alpha=0.789336085024112, binarize=0.34976921269998185, fit_prior=False, total=   0.1s\n"
     ]
    },
    {
     "name": "stderr",
     "output_type": "stream",
     "text": [
      "/scratch/clb617/anaconda3/lib/python3.6/site-packages/sklearn/metrics/classification.py:1135: UndefinedMetricWarning: F-score is ill-defined and being set to 0.0 in labels with no predicted samples.\n",
      "  'precision', 'predicted', average, warn_for)\n"
     ]
    },
    {
     "name": "stdout",
     "output_type": "stream",
     "text": [
      "[CV] alpha=0.789336085024112, binarize=0.34976921269998185, fit_prior=False \n",
      "[CV]  alpha=0.789336085024112, binarize=0.34976921269998185, fit_prior=False, total=   0.1s\n",
      "[CV] alpha=0.789336085024112, binarize=0.34976921269998185, fit_prior=False \n",
      "[CV]  alpha=0.789336085024112, binarize=0.34976921269998185, fit_prior=False, total=   0.1s\n"
     ]
    },
    {
     "name": "stderr",
     "output_type": "stream",
     "text": [
      "/scratch/clb617/anaconda3/lib/python3.6/site-packages/sklearn/metrics/classification.py:1135: UndefinedMetricWarning: F-score is ill-defined and being set to 0.0 in labels with no predicted samples.\n",
      "  'precision', 'predicted', average, warn_for)\n"
     ]
    },
    {
     "name": "stdout",
     "output_type": "stream",
     "text": [
      "[CV]  alpha=0.6781037030311603, binarize=0.8480387408932992, fit_prior=True, total=   0.2s\n"
     ]
    },
    {
     "name": "stderr",
     "output_type": "stream",
     "text": [
      "/scratch/clb617/anaconda3/lib/python3.6/site-packages/sklearn/metrics/classification.py:1135: UndefinedMetricWarning: F-score is ill-defined and being set to 0.0 in labels with no predicted samples.\n",
      "  'precision', 'predicted', average, warn_for)\n"
     ]
    },
    {
     "name": "stdout",
     "output_type": "stream",
     "text": [
      "[CV]  alpha=0.789336085024112, binarize=0.34976921269998185, fit_prior=False, total=   0.1s\n",
      "[CV]  alpha=0.789336085024112, binarize=0.34976921269998185, fit_prior=False, total=   0.1s\n",
      "[CV]  alpha=0.789336085024112, binarize=0.34976921269998185, fit_prior=False, total=   0.1s\n"
     ]
    },
    {
     "name": "stderr",
     "output_type": "stream",
     "text": [
      "/scratch/clb617/anaconda3/lib/python3.6/site-packages/sklearn/metrics/classification.py:1135: UndefinedMetricWarning: F-score is ill-defined and being set to 0.0 in labels with no predicted samples.\n",
      "  'precision', 'predicted', average, warn_for)\n"
     ]
    },
    {
     "name": "stdout",
     "output_type": "stream",
     "text": [
      "[CV] alpha=0.789336085024112, binarize=0.34976921269998185, fit_prior=False \n",
      "[CV] alpha=0.789336085024112, binarize=0.34976921269998185, fit_prior=False \n",
      "[CV] alpha=0.789336085024112, binarize=0.34976921269998185, fit_prior=False \n",
      "[CV] alpha=0.789336085024112, binarize=0.34976921269998185, fit_prior=False \n",
      "[CV] alpha=0.5260894484164497, binarize=0.678162693775239, fit_prior=True \n",
      "[CV] alpha=0.5260894484164497, binarize=0.678162693775239, fit_prior=True \n"
     ]
    },
    {
     "name": "stderr",
     "output_type": "stream",
     "text": [
      "/scratch/clb617/anaconda3/lib/python3.6/site-packages/sklearn/metrics/classification.py:1135: UndefinedMetricWarning: F-score is ill-defined and being set to 0.0 in labels with no predicted samples.\n",
      "  'precision', 'predicted', average, warn_for)\n"
     ]
    },
    {
     "name": "stdout",
     "output_type": "stream",
     "text": [
      "[CV] alpha=0.5260894484164497, binarize=0.678162693775239, fit_prior=True \n"
     ]
    },
    {
     "name": "stderr",
     "output_type": "stream",
     "text": [
      "/scratch/clb617/anaconda3/lib/python3.6/site-packages/sklearn/metrics/classification.py:1135: UndefinedMetricWarning: F-score is ill-defined and being set to 0.0 in labels with no predicted samples.\n",
      "  'precision', 'predicted', average, warn_for)\n",
      "/scratch/clb617/anaconda3/lib/python3.6/site-packages/sklearn/metrics/classification.py:1135: UndefinedMetricWarning: F-score is ill-defined and being set to 0.0 in labels with no predicted samples.\n",
      "  'precision', 'predicted', average, warn_for)\n"
     ]
    },
    {
     "name": "stdout",
     "output_type": "stream",
     "text": [
      "[CV]  alpha=0.5260894484164497, binarize=0.678162693775239, fit_prior=True, total=   0.1s\n",
      "[CV]  alpha=0.5260894484164497, binarize=0.678162693775239, fit_prior=True, total=   0.1s\n",
      "[CV] alpha=0.5260894484164497, binarize=0.678162693775239, fit_prior=True \n"
     ]
    },
    {
     "name": "stderr",
     "output_type": "stream",
     "text": [
      "/scratch/clb617/anaconda3/lib/python3.6/site-packages/sklearn/metrics/classification.py:1135: UndefinedMetricWarning: F-score is ill-defined and being set to 0.0 in labels with no predicted samples.\n",
      "  'precision', 'predicted', average, warn_for)\n"
     ]
    },
    {
     "name": "stdout",
     "output_type": "stream",
     "text": [
      "[CV] alpha=0.5260894484164497, binarize=0.678162693775239, fit_prior=True \n",
      "[CV] alpha=0.5260894484164497, binarize=0.678162693775239, fit_prior=True \n"
     ]
    },
    {
     "name": "stderr",
     "output_type": "stream",
     "text": [
      "/scratch/clb617/anaconda3/lib/python3.6/site-packages/sklearn/metrics/classification.py:1135: UndefinedMetricWarning: F-score is ill-defined and being set to 0.0 in labels with no predicted samples.\n",
      "  'precision', 'predicted', average, warn_for)\n",
      "/scratch/clb617/anaconda3/lib/python3.6/site-packages/sklearn/metrics/classification.py:1135: UndefinedMetricWarning: F-score is ill-defined and being set to 0.0 in labels with no predicted samples.\n",
      "  'precision', 'predicted', average, warn_for)\n"
     ]
    },
    {
     "name": "stdout",
     "output_type": "stream",
     "text": [
      "[CV]  alpha=0.789336085024112, binarize=0.34976921269998185, fit_prior=False, total=   0.1s\n"
     ]
    },
    {
     "name": "stderr",
     "output_type": "stream",
     "text": [
      "/scratch/clb617/anaconda3/lib/python3.6/site-packages/sklearn/metrics/classification.py:1135: UndefinedMetricWarning: F-score is ill-defined and being set to 0.0 in labels with no predicted samples.\n",
      "  'precision', 'predicted', average, warn_for)\n"
     ]
    },
    {
     "name": "stdout",
     "output_type": "stream",
     "text": [
      "[CV]  alpha=0.5260894484164497, binarize=0.678162693775239, fit_prior=True, total=   0.1s\n",
      "[CV]  alpha=0.789336085024112, binarize=0.34976921269998185, fit_prior=False, total=   0.2s\n",
      "[CV]  alpha=0.5260894484164497, binarize=0.678162693775239, fit_prior=True, total=   0.0s\n",
      "[CV]  alpha=0.5260894484164497, binarize=0.678162693775239, fit_prior=True, total=   0.1s\n"
     ]
    },
    {
     "name": "stderr",
     "output_type": "stream",
     "text": [
      "/scratch/clb617/anaconda3/lib/python3.6/site-packages/sklearn/metrics/classification.py:1135: UndefinedMetricWarning: F-score is ill-defined and being set to 0.0 in labels with no predicted samples.\n",
      "  'precision', 'predicted', average, warn_for)\n"
     ]
    },
    {
     "name": "stdout",
     "output_type": "stream",
     "text": [
      "[CV] alpha=0.5260894484164497, binarize=0.678162693775239, fit_prior=True \n"
     ]
    },
    {
     "name": "stderr",
     "output_type": "stream",
     "text": [
      "/scratch/clb617/anaconda3/lib/python3.6/site-packages/sklearn/metrics/classification.py:1135: UndefinedMetricWarning: F-score is ill-defined and being set to 0.0 in labels with no predicted samples.\n",
      "  'precision', 'predicted', average, warn_for)\n"
     ]
    },
    {
     "name": "stdout",
     "output_type": "stream",
     "text": [
      "[CV] alpha=0.5260894484164497, binarize=0.678162693775239, fit_prior=True \n"
     ]
    },
    {
     "name": "stderr",
     "output_type": "stream",
     "text": [
      "/scratch/clb617/anaconda3/lib/python3.6/site-packages/sklearn/metrics/classification.py:1135: UndefinedMetricWarning: F-score is ill-defined and being set to 0.0 in labels with no predicted samples.\n",
      "  'precision', 'predicted', average, warn_for)\n"
     ]
    },
    {
     "name": "stdout",
     "output_type": "stream",
     "text": [
      "[CV]  alpha=0.5260894484164497, binarize=0.678162693775239, fit_prior=True, total=   0.1s\n"
     ]
    },
    {
     "name": "stderr",
     "output_type": "stream",
     "text": [
      "/scratch/clb617/anaconda3/lib/python3.6/site-packages/sklearn/metrics/classification.py:1135: UndefinedMetricWarning: F-score is ill-defined and being set to 0.0 in labels with no predicted samples.\n",
      "  'precision', 'predicted', average, warn_for)\n",
      "/scratch/clb617/anaconda3/lib/python3.6/site-packages/sklearn/metrics/classification.py:1135: UndefinedMetricWarning: F-score is ill-defined and being set to 0.0 in labels with no predicted samples.\n",
      "  'precision', 'predicted', average, warn_for)\n"
     ]
    },
    {
     "name": "stdout",
     "output_type": "stream",
     "text": [
      "[CV]  alpha=0.5260894484164497, binarize=0.678162693775239, fit_prior=True, total=   0.1s\n",
      "[CV]  alpha=0.789336085024112, binarize=0.34976921269998185, fit_prior=False, total=   0.3s\n",
      "[CV]  alpha=0.789336085024112, binarize=0.34976921269998185, fit_prior=False, total=   0.2s\n",
      "[CV]  alpha=0.5260894484164497, binarize=0.678162693775239, fit_prior=True, total=   0.1s\n",
      "[CV] alpha=0.5260894484164497, binarize=0.678162693775239, fit_prior=True \n"
     ]
    },
    {
     "name": "stderr",
     "output_type": "stream",
     "text": [
      "/scratch/clb617/anaconda3/lib/python3.6/site-packages/sklearn/metrics/classification.py:1135: UndefinedMetricWarning: F-score is ill-defined and being set to 0.0 in labels with no predicted samples.\n",
      "  'precision', 'predicted', average, warn_for)\n"
     ]
    },
    {
     "name": "stdout",
     "output_type": "stream",
     "text": [
      "[CV]  alpha=0.5260894484164497, binarize=0.678162693775239, fit_prior=True, total=   0.0s\n",
      "[CV] alpha=0.5260894484164497, binarize=0.678162693775239, fit_prior=True \n",
      "[CV] alpha=0.8359678800325482, binarize=0.6102373321732014, fit_prior=False \n"
     ]
    },
    {
     "name": "stderr",
     "output_type": "stream",
     "text": [
      "/scratch/clb617/anaconda3/lib/python3.6/site-packages/sklearn/metrics/classification.py:1135: UndefinedMetricWarning: F-score is ill-defined and being set to 0.0 in labels with no predicted samples.\n",
      "  'precision', 'predicted', average, warn_for)\n",
      "/scratch/clb617/anaconda3/lib/python3.6/site-packages/sklearn/metrics/classification.py:1135: UndefinedMetricWarning: F-score is ill-defined and being set to 0.0 in labels with no predicted samples.\n",
      "  'precision', 'predicted', average, warn_for)\n"
     ]
    },
    {
     "name": "stdout",
     "output_type": "stream",
     "text": [
      "[CV]  alpha=0.8359678800325482, binarize=0.6102373321732014, fit_prior=False, total=   0.0s\n",
      "[CV]  alpha=0.5260894484164497, binarize=0.678162693775239, fit_prior=True, total=   0.1s\n",
      "[CV] alpha=0.8359678800325482, binarize=0.6102373321732014, fit_prior=False \n",
      "[CV] alpha=0.8359678800325482, binarize=0.6102373321732014, fit_prior=False \n",
      "[CV] alpha=0.8359678800325482, binarize=0.6102373321732014, fit_prior=False \n",
      "[CV] alpha=0.8359678800325482, binarize=0.6102373321732014, fit_prior=False \n"
     ]
    },
    {
     "name": "stderr",
     "output_type": "stream",
     "text": [
      "/scratch/clb617/anaconda3/lib/python3.6/site-packages/sklearn/metrics/classification.py:1135: UndefinedMetricWarning: F-score is ill-defined and being set to 0.0 in labels with no predicted samples.\n",
      "  'precision', 'predicted', average, warn_for)\n",
      "/scratch/clb617/anaconda3/lib/python3.6/site-packages/sklearn/metrics/classification.py:1135: UndefinedMetricWarning: F-score is ill-defined and being set to 0.0 in labels with no predicted samples.\n",
      "  'precision', 'predicted', average, warn_for)\n"
     ]
    },
    {
     "name": "stdout",
     "output_type": "stream",
     "text": [
      "[CV]  alpha=0.8359678800325482, binarize=0.6102373321732014, fit_prior=False, total=   0.0s\n"
     ]
    },
    {
     "name": "stderr",
     "output_type": "stream",
     "text": [
      "/scratch/clb617/anaconda3/lib/python3.6/site-packages/sklearn/metrics/classification.py:1135: UndefinedMetricWarning: F-score is ill-defined and being set to 0.0 in labels with no predicted samples.\n",
      "  'precision', 'predicted', average, warn_for)\n"
     ]
    },
    {
     "name": "stdout",
     "output_type": "stream",
     "text": [
      "[CV]  alpha=0.8359678800325482, binarize=0.6102373321732014, fit_prior=False, total=   0.1s\n",
      "[CV] alpha=0.8359678800325482, binarize=0.6102373321732014, fit_prior=False \n"
     ]
    },
    {
     "name": "stderr",
     "output_type": "stream",
     "text": [
      "/scratch/clb617/anaconda3/lib/python3.6/site-packages/sklearn/metrics/classification.py:1135: UndefinedMetricWarning: F-score is ill-defined and being set to 0.0 in labels with no predicted samples.\n",
      "  'precision', 'predicted', average, warn_for)\n",
      "/scratch/clb617/anaconda3/lib/python3.6/site-packages/sklearn/metrics/classification.py:1135: UndefinedMetricWarning: F-score is ill-defined and being set to 0.0 in labels with no predicted samples.\n",
      "  'precision', 'predicted', average, warn_for)\n"
     ]
    },
    {
     "name": "stdout",
     "output_type": "stream",
     "text": [
      "[CV]  alpha=0.8359678800325482, binarize=0.6102373321732014, fit_prior=False, total=   0.1s\n",
      "[CV]  alpha=0.8359678800325482, binarize=0.6102373321732014, fit_prior=False, total=   0.0s\n",
      "[CV]  alpha=0.8359678800325482, binarize=0.6102373321732014, fit_prior=False, total=   0.1s\n",
      "[CV] alpha=0.8359678800325482, binarize=0.6102373321732014, fit_prior=False \n"
     ]
    },
    {
     "name": "stderr",
     "output_type": "stream",
     "text": [
      "/scratch/clb617/anaconda3/lib/python3.6/site-packages/sklearn/metrics/classification.py:1135: UndefinedMetricWarning: F-score is ill-defined and being set to 0.0 in labels with no predicted samples.\n",
      "  'precision', 'predicted', average, warn_for)\n"
     ]
    },
    {
     "name": "stdout",
     "output_type": "stream",
     "text": [
      "[CV] alpha=0.8359678800325482, binarize=0.6102373321732014, fit_prior=False \n",
      "[CV] alpha=0.8359678800325482, binarize=0.6102373321732014, fit_prior=False \n",
      "[CV] alpha=0.8359678800325482, binarize=0.6102373321732014, fit_prior=False \n",
      "[CV]  alpha=0.8359678800325482, binarize=0.6102373321732014, fit_prior=False, total=   0.1s\n",
      "[CV] alpha=0.8379511982008006, binarize=0.7349740509295771, fit_prior=True \n"
     ]
    },
    {
     "name": "stderr",
     "output_type": "stream",
     "text": [
      "/scratch/clb617/anaconda3/lib/python3.6/site-packages/sklearn/metrics/classification.py:1135: UndefinedMetricWarning: F-score is ill-defined and being set to 0.0 in labels with no predicted samples.\n",
      "  'precision', 'predicted', average, warn_for)\n"
     ]
    },
    {
     "name": "stdout",
     "output_type": "stream",
     "text": [
      "[CV] alpha=0.8379511982008006, binarize=0.7349740509295771, fit_prior=True \n",
      "[CV]  alpha=0.8359678800325482, binarize=0.6102373321732014, fit_prior=False, total=   0.1s\n"
     ]
    },
    {
     "name": "stderr",
     "output_type": "stream",
     "text": [
      "/scratch/clb617/anaconda3/lib/python3.6/site-packages/sklearn/metrics/classification.py:1135: UndefinedMetricWarning: F-score is ill-defined and being set to 0.0 in labels with no predicted samples.\n",
      "  'precision', 'predicted', average, warn_for)\n",
      "/scratch/clb617/anaconda3/lib/python3.6/site-packages/sklearn/metrics/classification.py:1135: UndefinedMetricWarning: F-score is ill-defined and being set to 0.0 in labels with no predicted samples.\n",
      "  'precision', 'predicted', average, warn_for)\n"
     ]
    },
    {
     "name": "stdout",
     "output_type": "stream",
     "text": [
      "[CV] alpha=0.8379511982008006, binarize=0.7349740509295771, fit_prior=True \n",
      "[CV]  alpha=0.8359678800325482, binarize=0.6102373321732014, fit_prior=False, total=   0.1s\n"
     ]
    },
    {
     "name": "stderr",
     "output_type": "stream",
     "text": [
      "/scratch/clb617/anaconda3/lib/python3.6/site-packages/sklearn/metrics/classification.py:1135: UndefinedMetricWarning: F-score is ill-defined and being set to 0.0 in labels with no predicted samples.\n",
      "  'precision', 'predicted', average, warn_for)\n",
      "/scratch/clb617/anaconda3/lib/python3.6/site-packages/sklearn/metrics/classification.py:1135: UndefinedMetricWarning: F-score is ill-defined and being set to 0.0 in labels with no predicted samples.\n",
      "  'precision', 'predicted', average, warn_for)\n"
     ]
    },
    {
     "name": "stdout",
     "output_type": "stream",
     "text": [
      "[CV]  alpha=0.8379511982008006, binarize=0.7349740509295771, fit_prior=True, total=   0.0s\n",
      "[CV]  alpha=0.8379511982008006, binarize=0.7349740509295771, fit_prior=True, total=   0.1s\n",
      "[CV] alpha=0.8379511982008006, binarize=0.7349740509295771, fit_prior=True \n",
      "[CV] alpha=0.8379511982008006, binarize=0.7349740509295771, fit_prior=True \n"
     ]
    },
    {
     "name": "stderr",
     "output_type": "stream",
     "text": [
      "/scratch/clb617/anaconda3/lib/python3.6/site-packages/sklearn/metrics/classification.py:1135: UndefinedMetricWarning: F-score is ill-defined and being set to 0.0 in labels with no predicted samples.\n",
      "  'precision', 'predicted', average, warn_for)\n"
     ]
    },
    {
     "name": "stdout",
     "output_type": "stream",
     "text": [
      "[CV]  alpha=0.8379511982008006, binarize=0.7349740509295771, fit_prior=True, total=   0.1s\n"
     ]
    },
    {
     "name": "stderr",
     "output_type": "stream",
     "text": [
      "/scratch/clb617/anaconda3/lib/python3.6/site-packages/sklearn/metrics/classification.py:1135: UndefinedMetricWarning: F-score is ill-defined and being set to 0.0 in labels with no predicted samples.\n",
      "  'precision', 'predicted', average, warn_for)\n"
     ]
    },
    {
     "name": "stdout",
     "output_type": "stream",
     "text": [
      "[CV] alpha=0.8379511982008006, binarize=0.7349740509295771, fit_prior=True \n",
      "[CV]  alpha=0.8379511982008006, binarize=0.7349740509295771, fit_prior=True, total=   0.1s\n"
     ]
    },
    {
     "name": "stderr",
     "output_type": "stream",
     "text": [
      "/scratch/clb617/anaconda3/lib/python3.6/site-packages/sklearn/metrics/classification.py:1135: UndefinedMetricWarning: F-score is ill-defined and being set to 0.0 in labels with no predicted samples.\n",
      "  'precision', 'predicted', average, warn_for)\n"
     ]
    },
    {
     "name": "stdout",
     "output_type": "stream",
     "text": [
      "[CV]  alpha=0.8359678800325482, binarize=0.6102373321732014, fit_prior=False, total=   0.1s\n",
      "[CV] alpha=0.8379511982008006, binarize=0.7349740509295771, fit_prior=True \n",
      "[CV] alpha=0.8379511982008006, binarize=0.7349740509295771, fit_prior=True \n",
      "[CV] alpha=0.8379511982008006, binarize=0.7349740509295771, fit_prior=True \n"
     ]
    },
    {
     "name": "stderr",
     "output_type": "stream",
     "text": [
      "/scratch/clb617/anaconda3/lib/python3.6/site-packages/sklearn/metrics/classification.py:1135: UndefinedMetricWarning: F-score is ill-defined and being set to 0.0 in labels with no predicted samples.\n",
      "  'precision', 'predicted', average, warn_for)\n"
     ]
    },
    {
     "name": "stdout",
     "output_type": "stream",
     "text": [
      "[CV] alpha=0.8379511982008006, binarize=0.7349740509295771, fit_prior=True \n",
      "[CV]  alpha=0.8379511982008006, binarize=0.7349740509295771, fit_prior=True, total=   0.0s\n"
     ]
    },
    {
     "name": "stderr",
     "output_type": "stream",
     "text": [
      "/scratch/clb617/anaconda3/lib/python3.6/site-packages/sklearn/metrics/classification.py:1135: UndefinedMetricWarning: F-score is ill-defined and being set to 0.0 in labels with no predicted samples.\n",
      "  'precision', 'predicted', average, warn_for)\n"
     ]
    },
    {
     "name": "stdout",
     "output_type": "stream",
     "text": [
      "[CV]  alpha=0.8379511982008006, binarize=0.7349740509295771, fit_prior=True, total=   0.1s\n",
      "[CV]  alpha=0.8379511982008006, binarize=0.7349740509295771, fit_prior=True, total=   0.0s\n"
     ]
    },
    {
     "name": "stderr",
     "output_type": "stream",
     "text": [
      "/scratch/clb617/anaconda3/lib/python3.6/site-packages/sklearn/metrics/classification.py:1135: UndefinedMetricWarning: F-score is ill-defined and being set to 0.0 in labels with no predicted samples.\n",
      "  'precision', 'predicted', average, warn_for)\n",
      "/scratch/clb617/anaconda3/lib/python3.6/site-packages/sklearn/metrics/classification.py:1135: UndefinedMetricWarning: F-score is ill-defined and being set to 0.0 in labels with no predicted samples.\n",
      "  'precision', 'predicted', average, warn_for)\n"
     ]
    },
    {
     "name": "stdout",
     "output_type": "stream",
     "text": [
      "[CV]  alpha=0.8379511982008006, binarize=0.7349740509295771, fit_prior=True, total=   0.1s\n",
      "[CV]  alpha=0.8379511982008006, binarize=0.7349740509295771, fit_prior=True, total=   0.1s\n"
     ]
    },
    {
     "name": "stderr",
     "output_type": "stream",
     "text": [
      "/scratch/clb617/anaconda3/lib/python3.6/site-packages/sklearn/metrics/classification.py:1135: UndefinedMetricWarning: F-score is ill-defined and being set to 0.0 in labels with no predicted samples.\n",
      "  'precision', 'predicted', average, warn_for)\n"
     ]
    },
    {
     "name": "stdout",
     "output_type": "stream",
     "text": [
      "[CV] alpha=0.014377857027324525, binarize=0.08904506720249383, fit_prior=True \n"
     ]
    },
    {
     "name": "stderr",
     "output_type": "stream",
     "text": [
      "/scratch/clb617/anaconda3/lib/python3.6/site-packages/sklearn/metrics/classification.py:1135: UndefinedMetricWarning: F-score is ill-defined and being set to 0.0 in labels with no predicted samples.\n",
      "  'precision', 'predicted', average, warn_for)\n"
     ]
    },
    {
     "name": "stdout",
     "output_type": "stream",
     "text": [
      "[CV] alpha=0.014377857027324525, binarize=0.08904506720249383, fit_prior=True \n",
      "[CV]  alpha=0.8379511982008006, binarize=0.7349740509295771, fit_prior=True, total=   0.2s\n",
      "[CV] alpha=0.014377857027324525, binarize=0.08904506720249383, fit_prior=True \n"
     ]
    },
    {
     "name": "stderr",
     "output_type": "stream",
     "text": [
      "/scratch/clb617/anaconda3/lib/python3.6/site-packages/sklearn/metrics/classification.py:1135: UndefinedMetricWarning: F-score is ill-defined and being set to 0.0 in labels with no predicted samples.\n",
      "  'precision', 'predicted', average, warn_for)\n"
     ]
    },
    {
     "name": "stdout",
     "output_type": "stream",
     "text": [
      "[CV] alpha=0.014377857027324525, binarize=0.08904506720249383, fit_prior=True \n",
      "[CV]  alpha=0.014377857027324525, binarize=0.08904506720249383, fit_prior=True, total=   0.0s\n",
      "[CV] alpha=0.014377857027324525, binarize=0.08904506720249383, fit_prior=True \n",
      "[CV]  alpha=0.014377857027324525, binarize=0.08904506720249383, fit_prior=True, total=   0.0s\n"
     ]
    },
    {
     "name": "stderr",
     "output_type": "stream",
     "text": [
      "/scratch/clb617/anaconda3/lib/python3.6/site-packages/sklearn/metrics/classification.py:1135: UndefinedMetricWarning: F-score is ill-defined and being set to 0.0 in labels with no predicted samples.\n",
      "  'precision', 'predicted', average, warn_for)\n",
      "/scratch/clb617/anaconda3/lib/python3.6/site-packages/sklearn/metrics/classification.py:1135: UndefinedMetricWarning: F-score is ill-defined and being set to 0.0 in labels with no predicted samples.\n",
      "  'precision', 'predicted', average, warn_for)\n"
     ]
    },
    {
     "name": "stdout",
     "output_type": "stream",
     "text": [
      "[CV]  alpha=0.014377857027324525, binarize=0.08904506720249383, fit_prior=True, total=   0.0s\n"
     ]
    },
    {
     "name": "stderr",
     "output_type": "stream",
     "text": [
      "/scratch/clb617/anaconda3/lib/python3.6/site-packages/sklearn/metrics/classification.py:1135: UndefinedMetricWarning: F-score is ill-defined and being set to 0.0 in labels with no predicted samples.\n",
      "  'precision', 'predicted', average, warn_for)\n"
     ]
    },
    {
     "name": "stdout",
     "output_type": "stream",
     "text": [
      "[CV]  alpha=0.014377857027324525, binarize=0.08904506720249383, fit_prior=True, total=   0.0s\n",
      "[CV] alpha=0.014377857027324525, binarize=0.08904506720249383, fit_prior=True \n"
     ]
    },
    {
     "name": "stderr",
     "output_type": "stream",
     "text": [
      "/scratch/clb617/anaconda3/lib/python3.6/site-packages/sklearn/metrics/classification.py:1135: UndefinedMetricWarning: F-score is ill-defined and being set to 0.0 in labels with no predicted samples.\n",
      "  'precision', 'predicted', average, warn_for)\n"
     ]
    },
    {
     "name": "stdout",
     "output_type": "stream",
     "text": [
      "[CV]  alpha=0.014377857027324525, binarize=0.08904506720249383, fit_prior=True, total=   0.0s\n",
      "[CV] alpha=0.014377857027324525, binarize=0.08904506720249383, fit_prior=True \n",
      "[CV]  alpha=0.014377857027324525, binarize=0.08904506720249383, fit_prior=True, total=   0.1s\n",
      "[CV] alpha=0.014377857027324525, binarize=0.08904506720249383, fit_prior=True \n",
      "[CV] alpha=0.014377857027324525, binarize=0.08904506720249383, fit_prior=True \n",
      "[CV] alpha=0.014377857027324525, binarize=0.08904506720249383, fit_prior=True \n"
     ]
    },
    {
     "name": "stderr",
     "output_type": "stream",
     "text": [
      "/scratch/clb617/anaconda3/lib/python3.6/site-packages/sklearn/metrics/classification.py:1135: UndefinedMetricWarning: F-score is ill-defined and being set to 0.0 in labels with no predicted samples.\n",
      "  'precision', 'predicted', average, warn_for)\n",
      "/scratch/clb617/anaconda3/lib/python3.6/site-packages/sklearn/metrics/classification.py:1135: UndefinedMetricWarning: F-score is ill-defined and being set to 0.0 in labels with no predicted samples.\n",
      "  'precision', 'predicted', average, warn_for)\n"
     ]
    },
    {
     "name": "stdout",
     "output_type": "stream",
     "text": [
      "[CV]  alpha=0.014377857027324525, binarize=0.08904506720249383, fit_prior=True, total=   0.0s\n"
     ]
    },
    {
     "name": "stderr",
     "output_type": "stream",
     "text": [
      "/scratch/clb617/anaconda3/lib/python3.6/site-packages/sklearn/metrics/classification.py:1135: UndefinedMetricWarning: F-score is ill-defined and being set to 0.0 in labels with no predicted samples.\n",
      "  'precision', 'predicted', average, warn_for)\n"
     ]
    },
    {
     "name": "stdout",
     "output_type": "stream",
     "text": [
      "[CV]  alpha=0.014377857027324525, binarize=0.08904506720249383, fit_prior=True, total=   0.0s\n",
      "[CV]  alpha=0.014377857027324525, binarize=0.08904506720249383, fit_prior=True, total=   0.1s\n"
     ]
    },
    {
     "name": "stderr",
     "output_type": "stream",
     "text": [
      "/scratch/clb617/anaconda3/lib/python3.6/site-packages/sklearn/metrics/classification.py:1135: UndefinedMetricWarning: F-score is ill-defined and being set to 0.0 in labels with no predicted samples.\n",
      "  'precision', 'predicted', average, warn_for)\n"
     ]
    },
    {
     "name": "stdout",
     "output_type": "stream",
     "text": [
      "[CV]  alpha=0.014377857027324525, binarize=0.08904506720249383, fit_prior=True, total=   0.0s\n",
      "[CV] alpha=0.27680950592055464, binarize=0.8833762965461726, fit_prior=True \n"
     ]
    },
    {
     "name": "stderr",
     "output_type": "stream",
     "text": [
      "/scratch/clb617/anaconda3/lib/python3.6/site-packages/sklearn/metrics/classification.py:1135: UndefinedMetricWarning: F-score is ill-defined and being set to 0.0 in labels with no predicted samples.\n",
      "  'precision', 'predicted', average, warn_for)\n"
     ]
    },
    {
     "name": "stdout",
     "output_type": "stream",
     "text": [
      "[CV] alpha=0.27680950592055464, binarize=0.8833762965461726, fit_prior=True \n",
      "[CV]  alpha=0.27680950592055464, binarize=0.8833762965461726, fit_prior=True, total=   0.0s\n",
      "[CV] alpha=0.27680950592055464, binarize=0.8833762965461726, fit_prior=True \n",
      "[CV] alpha=0.27680950592055464, binarize=0.8833762965461726, fit_prior=True \n"
     ]
    },
    {
     "name": "stderr",
     "output_type": "stream",
     "text": [
      "/scratch/clb617/anaconda3/lib/python3.6/site-packages/sklearn/metrics/classification.py:1135: UndefinedMetricWarning: F-score is ill-defined and being set to 0.0 in labels with no predicted samples.\n",
      "  'precision', 'predicted', average, warn_for)\n"
     ]
    },
    {
     "name": "stdout",
     "output_type": "stream",
     "text": [
      "[CV] alpha=0.27680950592055464, binarize=0.8833762965461726, fit_prior=True \n"
     ]
    },
    {
     "name": "stderr",
     "output_type": "stream",
     "text": [
      "/scratch/clb617/anaconda3/lib/python3.6/site-packages/sklearn/metrics/classification.py:1135: UndefinedMetricWarning: F-score is ill-defined and being set to 0.0 in labels with no predicted samples.\n",
      "  'precision', 'predicted', average, warn_for)\n",
      "/scratch/clb617/anaconda3/lib/python3.6/site-packages/sklearn/metrics/classification.py:1135: UndefinedMetricWarning: F-score is ill-defined and being set to 0.0 in labels with no predicted samples.\n",
      "  'precision', 'predicted', average, warn_for)\n"
     ]
    },
    {
     "name": "stdout",
     "output_type": "stream",
     "text": [
      "[CV] alpha=0.27680950592055464, binarize=0.8833762965461726, fit_prior=True \n",
      "[CV] alpha=0.27680950592055464, binarize=0.8833762965461726, fit_prior=True \n",
      "[CV]  alpha=0.27680950592055464, binarize=0.8833762965461726, fit_prior=True, total=   0.0s\n"
     ]
    },
    {
     "name": "stderr",
     "output_type": "stream",
     "text": [
      "/scratch/clb617/anaconda3/lib/python3.6/site-packages/sklearn/metrics/classification.py:1135: UndefinedMetricWarning: F-score is ill-defined and being set to 0.0 in labels with no predicted samples.\n",
      "  'precision', 'predicted', average, warn_for)\n"
     ]
    },
    {
     "name": "stdout",
     "output_type": "stream",
     "text": [
      "[CV] alpha=0.27680950592055464, binarize=0.8833762965461726, fit_prior=True \n"
     ]
    },
    {
     "name": "stderr",
     "output_type": "stream",
     "text": [
      "/scratch/clb617/anaconda3/lib/python3.6/site-packages/sklearn/metrics/classification.py:1135: UndefinedMetricWarning: F-score is ill-defined and being set to 0.0 in labels with no predicted samples.\n",
      "  'precision', 'predicted', average, warn_for)\n",
      "/scratch/clb617/anaconda3/lib/python3.6/site-packages/sklearn/metrics/classification.py:1135: UndefinedMetricWarning: F-score is ill-defined and being set to 0.0 in labels with no predicted samples.\n",
      "  'precision', 'predicted', average, warn_for)\n"
     ]
    },
    {
     "name": "stdout",
     "output_type": "stream",
     "text": [
      "[CV]  alpha=0.27680950592055464, binarize=0.8833762965461726, fit_prior=True, total=   0.0s\n",
      "[CV]  alpha=0.27680950592055464, binarize=0.8833762965461726, fit_prior=True, total=   0.0s\n",
      "[CV]  alpha=0.27680950592055464, binarize=0.8833762965461726, fit_prior=True, total=   0.0s\n",
      "[CV]  alpha=0.27680950592055464, binarize=0.8833762965461726, fit_prior=True, total=   0.1s\n",
      "[CV] alpha=0.27680950592055464, binarize=0.8833762965461726, fit_prior=True \n",
      "[CV] alpha=0.27680950592055464, binarize=0.8833762965461726, fit_prior=True \n"
     ]
    },
    {
     "name": "stderr",
     "output_type": "stream",
     "text": [
      "/scratch/clb617/anaconda3/lib/python3.6/site-packages/sklearn/metrics/classification.py:1135: UndefinedMetricWarning: F-score is ill-defined and being set to 0.0 in labels with no predicted samples.\n",
      "  'precision', 'predicted', average, warn_for)\n",
      "/scratch/clb617/anaconda3/lib/python3.6/site-packages/sklearn/metrics/classification.py:1135: UndefinedMetricWarning: F-score is ill-defined and being set to 0.0 in labels with no predicted samples.\n",
      "  'precision', 'predicted', average, warn_for)\n"
     ]
    },
    {
     "name": "stdout",
     "output_type": "stream",
     "text": [
      "[CV]  alpha=0.27680950592055464, binarize=0.8833762965461726, fit_prior=True, total=   0.1s\n"
     ]
    },
    {
     "name": "stderr",
     "output_type": "stream",
     "text": [
      "/scratch/clb617/anaconda3/lib/python3.6/site-packages/sklearn/metrics/classification.py:1135: UndefinedMetricWarning: F-score is ill-defined and being set to 0.0 in labels with no predicted samples.\n",
      "  'precision', 'predicted', average, warn_for)\n"
     ]
    },
    {
     "name": "stdout",
     "output_type": "stream",
     "text": [
      "[CV]  alpha=0.27680950592055464, binarize=0.8833762965461726, fit_prior=True, total=   0.0s\n",
      "[CV]  alpha=0.27680950592055464, binarize=0.8833762965461726, fit_prior=True, total=   0.1s\n",
      "[CV] alpha=0.3409359716532486, binarize=0.7228576179347334, fit_prior=False \n",
      "[CV]  alpha=0.27680950592055464, binarize=0.8833762965461726, fit_prior=True, total=   0.1s\n"
     ]
    },
    {
     "name": "stderr",
     "output_type": "stream",
     "text": [
      "/scratch/clb617/anaconda3/lib/python3.6/site-packages/sklearn/metrics/classification.py:1135: UndefinedMetricWarning: F-score is ill-defined and being set to 0.0 in labels with no predicted samples.\n",
      "  'precision', 'predicted', average, warn_for)\n"
     ]
    },
    {
     "name": "stdout",
     "output_type": "stream",
     "text": [
      "[CV]  alpha=0.3409359716532486, binarize=0.7228576179347334, fit_prior=False, total=   0.0s\n",
      "[CV] alpha=0.3409359716532486, binarize=0.7228576179347334, fit_prior=False \n"
     ]
    },
    {
     "name": "stderr",
     "output_type": "stream",
     "text": [
      "/scratch/clb617/anaconda3/lib/python3.6/site-packages/sklearn/metrics/classification.py:1135: UndefinedMetricWarning: F-score is ill-defined and being set to 0.0 in labels with no predicted samples.\n",
      "  'precision', 'predicted', average, warn_for)\n"
     ]
    },
    {
     "name": "stdout",
     "output_type": "stream",
     "text": [
      "[CV]  alpha=0.3409359716532486, binarize=0.7228576179347334, fit_prior=False, total=   0.0s\n",
      "[CV] alpha=0.3409359716532486, binarize=0.7228576179347334, fit_prior=False \n",
      "[CV] alpha=0.3409359716532486, binarize=0.7228576179347334, fit_prior=False \n",
      "[CV] alpha=0.3409359716532486, binarize=0.7228576179347334, fit_prior=False \n"
     ]
    },
    {
     "name": "stderr",
     "output_type": "stream",
     "text": [
      "/scratch/clb617/anaconda3/lib/python3.6/site-packages/sklearn/metrics/classification.py:1135: UndefinedMetricWarning: F-score is ill-defined and being set to 0.0 in labels with no predicted samples.\n",
      "  'precision', 'predicted', average, warn_for)\n"
     ]
    },
    {
     "name": "stdout",
     "output_type": "stream",
     "text": [
      "[CV] alpha=0.3409359716532486, binarize=0.7228576179347334, fit_prior=False \n",
      "[CV] alpha=0.3409359716532486, binarize=0.7228576179347334, fit_prior=False \n"
     ]
    },
    {
     "name": "stderr",
     "output_type": "stream",
     "text": [
      "/scratch/clb617/anaconda3/lib/python3.6/site-packages/sklearn/metrics/classification.py:1135: UndefinedMetricWarning: F-score is ill-defined and being set to 0.0 in labels with no predicted samples.\n",
      "  'precision', 'predicted', average, warn_for)\n"
     ]
    },
    {
     "name": "stdout",
     "output_type": "stream",
     "text": [
      "[CV]  alpha=0.3409359716532486, binarize=0.7228576179347334, fit_prior=False, total=   0.0s\n",
      "[CV] alpha=0.3409359716532486, binarize=0.7228576179347334, fit_prior=False \n"
     ]
    },
    {
     "name": "stderr",
     "output_type": "stream",
     "text": [
      "/scratch/clb617/anaconda3/lib/python3.6/site-packages/sklearn/metrics/classification.py:1135: UndefinedMetricWarning: F-score is ill-defined and being set to 0.0 in labels with no predicted samples.\n",
      "  'precision', 'predicted', average, warn_for)\n"
     ]
    },
    {
     "name": "stdout",
     "output_type": "stream",
     "text": [
      "[CV] alpha=0.3409359716532486, binarize=0.7228576179347334, fit_prior=False \n"
     ]
    },
    {
     "name": "stderr",
     "output_type": "stream",
     "text": [
      "/scratch/clb617/anaconda3/lib/python3.6/site-packages/sklearn/metrics/classification.py:1135: UndefinedMetricWarning: F-score is ill-defined and being set to 0.0 in labels with no predicted samples.\n",
      "  'precision', 'predicted', average, warn_for)\n"
     ]
    },
    {
     "name": "stdout",
     "output_type": "stream",
     "text": [
      "[CV]  alpha=0.3409359716532486, binarize=0.7228576179347334, fit_prior=False, total=   0.1s\n"
     ]
    },
    {
     "name": "stderr",
     "output_type": "stream",
     "text": [
      "/scratch/clb617/anaconda3/lib/python3.6/site-packages/sklearn/metrics/classification.py:1135: UndefinedMetricWarning: F-score is ill-defined and being set to 0.0 in labels with no predicted samples.\n",
      "  'precision', 'predicted', average, warn_for)\n"
     ]
    },
    {
     "name": "stdout",
     "output_type": "stream",
     "text": [
      "[CV]  alpha=0.3409359716532486, binarize=0.7228576179347334, fit_prior=False, total=   0.0s\n",
      "[CV]  alpha=0.3409359716532486, binarize=0.7228576179347334, fit_prior=False, total=   0.1s\n",
      "[CV] alpha=0.3409359716532486, binarize=0.7228576179347334, fit_prior=False \n",
      "[CV] alpha=0.687877332865843, binarize=0.8898850058868735, fit_prior=True \n",
      "[CV]  alpha=0.3409359716532486, binarize=0.7228576179347334, fit_prior=False, total=   0.1s\n",
      "[CV] alpha=0.687877332865843, binarize=0.8898850058868735, fit_prior=True \n",
      "[CV] alpha=0.687877332865843, binarize=0.8898850058868735, fit_prior=True \n"
     ]
    },
    {
     "name": "stderr",
     "output_type": "stream",
     "text": [
      "/scratch/clb617/anaconda3/lib/python3.6/site-packages/sklearn/metrics/classification.py:1135: UndefinedMetricWarning: F-score is ill-defined and being set to 0.0 in labels with no predicted samples.\n",
      "  'precision', 'predicted', average, warn_for)\n",
      "/scratch/clb617/anaconda3/lib/python3.6/site-packages/sklearn/metrics/classification.py:1135: UndefinedMetricWarning: F-score is ill-defined and being set to 0.0 in labels with no predicted samples.\n",
      "  'precision', 'predicted', average, warn_for)\n",
      "/scratch/clb617/anaconda3/lib/python3.6/site-packages/sklearn/metrics/classification.py:1135: UndefinedMetricWarning: F-score is ill-defined and being set to 0.0 in labels with no predicted samples.\n",
      "  'precision', 'predicted', average, warn_for)\n",
      "/scratch/clb617/anaconda3/lib/python3.6/site-packages/sklearn/metrics/classification.py:1135: UndefinedMetricWarning: F-score is ill-defined and being set to 0.0 in labels with no predicted samples.\n",
      "  'precision', 'predicted', average, warn_for)\n"
     ]
    },
    {
     "name": "stdout",
     "output_type": "stream",
     "text": [
      "[CV]  alpha=0.687877332865843, binarize=0.8898850058868735, fit_prior=True, total=   0.1s\n",
      "[CV]  alpha=0.687877332865843, binarize=0.8898850058868735, fit_prior=True, total=   0.1s\n"
     ]
    },
    {
     "name": "stderr",
     "output_type": "stream",
     "text": [
      "/scratch/clb617/anaconda3/lib/python3.6/site-packages/sklearn/metrics/classification.py:1135: UndefinedMetricWarning: F-score is ill-defined and being set to 0.0 in labels with no predicted samples.\n",
      "  'precision', 'predicted', average, warn_for)\n"
     ]
    },
    {
     "name": "stdout",
     "output_type": "stream",
     "text": [
      "[CV]  alpha=0.3409359716532486, binarize=0.7228576179347334, fit_prior=False, total=   0.3s\n",
      "[CV]  alpha=0.3409359716532486, binarize=0.7228576179347334, fit_prior=False, total=   0.2s\n",
      "[CV]  alpha=0.3409359716532486, binarize=0.7228576179347334, fit_prior=False, total=   0.2s\n"
     ]
    },
    {
     "name": "stderr",
     "output_type": "stream",
     "text": [
      "/scratch/clb617/anaconda3/lib/python3.6/site-packages/sklearn/metrics/classification.py:1135: UndefinedMetricWarning: F-score is ill-defined and being set to 0.0 in labels with no predicted samples.\n",
      "  'precision', 'predicted', average, warn_for)\n"
     ]
    },
    {
     "name": "stdout",
     "output_type": "stream",
     "text": [
      "[CV] alpha=0.687877332865843, binarize=0.8898850058868735, fit_prior=True \n",
      "[CV]  alpha=0.687877332865843, binarize=0.8898850058868735, fit_prior=True, total=   0.2s\n",
      "[CV] alpha=0.687877332865843, binarize=0.8898850058868735, fit_prior=True \n",
      "[CV] alpha=0.687877332865843, binarize=0.8898850058868735, fit_prior=True \n"
     ]
    },
    {
     "name": "stderr",
     "output_type": "stream",
     "text": [
      "/scratch/clb617/anaconda3/lib/python3.6/site-packages/sklearn/metrics/classification.py:1135: UndefinedMetricWarning: F-score is ill-defined and being set to 0.0 in labels with no predicted samples.\n",
      "  'precision', 'predicted', average, warn_for)\n"
     ]
    },
    {
     "name": "stdout",
     "output_type": "stream",
     "text": [
      "[CV]  alpha=0.687877332865843, binarize=0.8898850058868735, fit_prior=True, total=   0.1s\n"
     ]
    },
    {
     "name": "stderr",
     "output_type": "stream",
     "text": [
      "/scratch/clb617/anaconda3/lib/python3.6/site-packages/sklearn/metrics/classification.py:1135: UndefinedMetricWarning: F-score is ill-defined and being set to 0.0 in labels with no predicted samples.\n",
      "  'precision', 'predicted', average, warn_for)\n",
      "/scratch/clb617/anaconda3/lib/python3.6/site-packages/sklearn/metrics/classification.py:1135: UndefinedMetricWarning: F-score is ill-defined and being set to 0.0 in labels with no predicted samples.\n",
      "  'precision', 'predicted', average, warn_for)\n"
     ]
    },
    {
     "name": "stdout",
     "output_type": "stream",
     "text": [
      "[CV]  alpha=0.687877332865843, binarize=0.8898850058868735, fit_prior=True, total=   0.1s\n",
      "[CV]  alpha=0.687877332865843, binarize=0.8898850058868735, fit_prior=True, total=   0.1s\n",
      "[CV] alpha=0.687877332865843, binarize=0.8898850058868735, fit_prior=True \n",
      "[CV] alpha=0.687877332865843, binarize=0.8898850058868735, fit_prior=True \n",
      "[CV] alpha=0.687877332865843, binarize=0.8898850058868735, fit_prior=True \n"
     ]
    },
    {
     "name": "stderr",
     "output_type": "stream",
     "text": [
      "/scratch/clb617/anaconda3/lib/python3.6/site-packages/sklearn/metrics/classification.py:1135: UndefinedMetricWarning: F-score is ill-defined and being set to 0.0 in labels with no predicted samples.\n",
      "  'precision', 'predicted', average, warn_for)\n"
     ]
    },
    {
     "name": "stdout",
     "output_type": "stream",
     "text": [
      "[CV] alpha=0.687877332865843, binarize=0.8898850058868735, fit_prior=True \n"
     ]
    },
    {
     "name": "stderr",
     "output_type": "stream",
     "text": [
      "/scratch/clb617/anaconda3/lib/python3.6/site-packages/sklearn/metrics/classification.py:1135: UndefinedMetricWarning: F-score is ill-defined and being set to 0.0 in labels with no predicted samples.\n",
      "  'precision', 'predicted', average, warn_for)\n"
     ]
    },
    {
     "name": "stdout",
     "output_type": "stream",
     "text": [
      "[CV]  alpha=0.687877332865843, binarize=0.8898850058868735, fit_prior=True, total=   0.1s\n",
      "[CV] alpha=0.19044552569632212, binarize=0.666464652569817, fit_prior=False \n"
     ]
    },
    {
     "name": "stderr",
     "output_type": "stream",
     "text": [
      "/scratch/clb617/anaconda3/lib/python3.6/site-packages/sklearn/metrics/classification.py:1135: UndefinedMetricWarning: F-score is ill-defined and being set to 0.0 in labels with no predicted samples.\n",
      "  'precision', 'predicted', average, warn_for)\n"
     ]
    },
    {
     "name": "stdout",
     "output_type": "stream",
     "text": [
      "[CV] alpha=0.19044552569632212, binarize=0.666464652569817, fit_prior=False \n",
      "[CV]  alpha=0.687877332865843, binarize=0.8898850058868735, fit_prior=True, total=   0.0s\n"
     ]
    },
    {
     "name": "stderr",
     "output_type": "stream",
     "text": [
      "/scratch/clb617/anaconda3/lib/python3.6/site-packages/sklearn/metrics/classification.py:1135: UndefinedMetricWarning: F-score is ill-defined and being set to 0.0 in labels with no predicted samples.\n",
      "  'precision', 'predicted', average, warn_for)\n",
      "/scratch/clb617/anaconda3/lib/python3.6/site-packages/sklearn/metrics/classification.py:1135: UndefinedMetricWarning: F-score is ill-defined and being set to 0.0 in labels with no predicted samples.\n",
      "  'precision', 'predicted', average, warn_for)\n"
     ]
    },
    {
     "name": "stdout",
     "output_type": "stream",
     "text": [
      "[CV] alpha=0.19044552569632212, binarize=0.666464652569817, fit_prior=False \n",
      "[CV]  alpha=0.19044552569632212, binarize=0.666464652569817, fit_prior=False, total=   0.0s\n"
     ]
    },
    {
     "name": "stderr",
     "output_type": "stream",
     "text": [
      "/scratch/clb617/anaconda3/lib/python3.6/site-packages/sklearn/metrics/classification.py:1135: UndefinedMetricWarning: F-score is ill-defined and being set to 0.0 in labels with no predicted samples.\n",
      "  'precision', 'predicted', average, warn_for)\n",
      "/scratch/clb617/anaconda3/lib/python3.6/site-packages/sklearn/metrics/classification.py:1135: UndefinedMetricWarning: F-score is ill-defined and being set to 0.0 in labels with no predicted samples.\n",
      "  'precision', 'predicted', average, warn_for)\n"
     ]
    },
    {
     "name": "stdout",
     "output_type": "stream",
     "text": [
      "[CV]  alpha=0.687877332865843, binarize=0.8898850058868735, fit_prior=True, total=   0.0s\n",
      "[CV] alpha=0.19044552569632212, binarize=0.666464652569817, fit_prior=False \n",
      "[CV]  alpha=0.19044552569632212, binarize=0.666464652569817, fit_prior=False, total=   0.1s\n",
      "[CV]  alpha=0.687877332865843, binarize=0.8898850058868735, fit_prior=True, total=   0.1s\n",
      "[CV] alpha=0.19044552569632212, binarize=0.666464652569817, fit_prior=False \n",
      "[CV]  alpha=0.19044552569632212, binarize=0.666464652569817, fit_prior=False, total=   0.0s\n"
     ]
    },
    {
     "name": "stderr",
     "output_type": "stream",
     "text": [
      "/scratch/clb617/anaconda3/lib/python3.6/site-packages/sklearn/metrics/classification.py:1135: UndefinedMetricWarning: F-score is ill-defined and being set to 0.0 in labels with no predicted samples.\n",
      "  'precision', 'predicted', average, warn_for)\n",
      "/scratch/clb617/anaconda3/lib/python3.6/site-packages/sklearn/metrics/classification.py:1135: UndefinedMetricWarning: F-score is ill-defined and being set to 0.0 in labels with no predicted samples.\n",
      "  'precision', 'predicted', average, warn_for)\n"
     ]
    },
    {
     "name": "stdout",
     "output_type": "stream",
     "text": [
      "[CV] alpha=0.19044552569632212, binarize=0.666464652569817, fit_prior=False \n",
      "[CV]  alpha=0.19044552569632212, binarize=0.666464652569817, fit_prior=False, total=   0.0s\n",
      "[CV] alpha=0.19044552569632212, binarize=0.666464652569817, fit_prior=False \n"
     ]
    },
    {
     "name": "stderr",
     "output_type": "stream",
     "text": [
      "/scratch/clb617/anaconda3/lib/python3.6/site-packages/sklearn/metrics/classification.py:1135: UndefinedMetricWarning: F-score is ill-defined and being set to 0.0 in labels with no predicted samples.\n",
      "  'precision', 'predicted', average, warn_for)\n"
     ]
    },
    {
     "name": "stdout",
     "output_type": "stream",
     "text": [
      "[CV] alpha=0.19044552569632212, binarize=0.666464652569817, fit_prior=False \n"
     ]
    },
    {
     "name": "stderr",
     "output_type": "stream",
     "text": [
      "/scratch/clb617/anaconda3/lib/python3.6/site-packages/sklearn/metrics/classification.py:1135: UndefinedMetricWarning: F-score is ill-defined and being set to 0.0 in labels with no predicted samples.\n",
      "  'precision', 'predicted', average, warn_for)\n"
     ]
    },
    {
     "name": "stdout",
     "output_type": "stream",
     "text": [
      "[CV]  alpha=0.19044552569632212, binarize=0.666464652569817, fit_prior=False, total=   0.1s\n",
      "[CV] alpha=0.19044552569632212, binarize=0.666464652569817, fit_prior=False \n",
      "[CV] alpha=0.19044552569632212, binarize=0.666464652569817, fit_prior=False \n"
     ]
    },
    {
     "name": "stderr",
     "output_type": "stream",
     "text": [
      "/scratch/clb617/anaconda3/lib/python3.6/site-packages/sklearn/metrics/classification.py:1135: UndefinedMetricWarning: F-score is ill-defined and being set to 0.0 in labels with no predicted samples.\n",
      "  'precision', 'predicted', average, warn_for)\n"
     ]
    },
    {
     "name": "stdout",
     "output_type": "stream",
     "text": [
      "[CV]  alpha=0.19044552569632212, binarize=0.666464652569817, fit_prior=False, total=   0.0s\n",
      "[CV]  alpha=0.19044552569632212, binarize=0.666464652569817, fit_prior=False, total=   0.0s\n",
      "[CV]  alpha=0.19044552569632212, binarize=0.666464652569817, fit_prior=False, total=   0.1s\n",
      "[CV] alpha=0.6673289251485275, binarize=0.5547126822961741, fit_prior=False \n",
      "[CV] alpha=0.6673289251485275, binarize=0.5547126822961741, fit_prior=False \n",
      "[CV] alpha=0.6673289251485275, binarize=0.5547126822961741, fit_prior=False \n"
     ]
    },
    {
     "name": "stderr",
     "output_type": "stream",
     "text": [
      "/scratch/clb617/anaconda3/lib/python3.6/site-packages/sklearn/metrics/classification.py:1135: UndefinedMetricWarning: F-score is ill-defined and being set to 0.0 in labels with no predicted samples.\n",
      "  'precision', 'predicted', average, warn_for)\n",
      "/scratch/clb617/anaconda3/lib/python3.6/site-packages/sklearn/metrics/classification.py:1135: UndefinedMetricWarning: F-score is ill-defined and being set to 0.0 in labels with no predicted samples.\n",
      "  'precision', 'predicted', average, warn_for)\n"
     ]
    },
    {
     "name": "stdout",
     "output_type": "stream",
     "text": [
      "[CV]  alpha=0.6673289251485275, binarize=0.5547126822961741, fit_prior=False, total=   0.0s\n"
     ]
    },
    {
     "name": "stderr",
     "output_type": "stream",
     "text": [
      "/scratch/clb617/anaconda3/lib/python3.6/site-packages/sklearn/metrics/classification.py:1135: UndefinedMetricWarning: F-score is ill-defined and being set to 0.0 in labels with no predicted samples.\n",
      "  'precision', 'predicted', average, warn_for)\n"
     ]
    },
    {
     "name": "stdout",
     "output_type": "stream",
     "text": [
      "[CV]  alpha=0.6673289251485275, binarize=0.5547126822961741, fit_prior=False, total=   0.1s\n",
      "[CV] alpha=0.6673289251485275, binarize=0.5547126822961741, fit_prior=False \n"
     ]
    },
    {
     "name": "stderr",
     "output_type": "stream",
     "text": [
      "/scratch/clb617/anaconda3/lib/python3.6/site-packages/sklearn/metrics/classification.py:1135: UndefinedMetricWarning: F-score is ill-defined and being set to 0.0 in labels with no predicted samples.\n",
      "  'precision', 'predicted', average, warn_for)\n"
     ]
    },
    {
     "name": "stdout",
     "output_type": "stream",
     "text": [
      "[CV] alpha=0.6673289251485275, binarize=0.5547126822961741, fit_prior=False \n",
      "[CV]  alpha=0.6673289251485275, binarize=0.5547126822961741, fit_prior=False, total=   0.0s\n",
      "[CV]  alpha=0.19044552569632212, binarize=0.666464652569817, fit_prior=False, total=   0.2s\n"
     ]
    },
    {
     "name": "stderr",
     "output_type": "stream",
     "text": [
      "/scratch/clb617/anaconda3/lib/python3.6/site-packages/sklearn/metrics/classification.py:1135: UndefinedMetricWarning: F-score is ill-defined and being set to 0.0 in labels with no predicted samples.\n",
      "  'precision', 'predicted', average, warn_for)\n"
     ]
    },
    {
     "name": "stdout",
     "output_type": "stream",
     "text": [
      "[CV] alpha=0.6673289251485275, binarize=0.5547126822961741, fit_prior=False \n",
      "[CV]  alpha=0.19044552569632212, binarize=0.666464652569817, fit_prior=False, total=   0.2s\n"
     ]
    },
    {
     "name": "stderr",
     "output_type": "stream",
     "text": [
      "/scratch/clb617/anaconda3/lib/python3.6/site-packages/sklearn/metrics/classification.py:1135: UndefinedMetricWarning: F-score is ill-defined and being set to 0.0 in labels with no predicted samples.\n",
      "  'precision', 'predicted', average, warn_for)\n"
     ]
    },
    {
     "name": "stdout",
     "output_type": "stream",
     "text": [
      "[CV]  alpha=0.6673289251485275, binarize=0.5547126822961741, fit_prior=False, total=   0.1s\n"
     ]
    },
    {
     "name": "stderr",
     "output_type": "stream",
     "text": [
      "/scratch/clb617/anaconda3/lib/python3.6/site-packages/sklearn/metrics/classification.py:1135: UndefinedMetricWarning: F-score is ill-defined and being set to 0.0 in labels with no predicted samples.\n",
      "  'precision', 'predicted', average, warn_for)\n"
     ]
    },
    {
     "name": "stdout",
     "output_type": "stream",
     "text": [
      "[CV] alpha=0.6673289251485275, binarize=0.5547126822961741, fit_prior=False \n",
      "[CV] alpha=0.6673289251485275, binarize=0.5547126822961741, fit_prior=False \n",
      "[CV] alpha=0.6673289251485275, binarize=0.5547126822961741, fit_prior=False \n",
      "[CV] alpha=0.6673289251485275, binarize=0.5547126822961741, fit_prior=False \n"
     ]
    },
    {
     "name": "stderr",
     "output_type": "stream",
     "text": [
      "/scratch/clb617/anaconda3/lib/python3.6/site-packages/sklearn/metrics/classification.py:1135: UndefinedMetricWarning: F-score is ill-defined and being set to 0.0 in labels with no predicted samples.\n",
      "  'precision', 'predicted', average, warn_for)\n"
     ]
    },
    {
     "name": "stdout",
     "output_type": "stream",
     "text": [
      "[CV] alpha=0.3243579035605588, binarize=0.700298420049446, fit_prior=False \n",
      "[CV]  alpha=0.6673289251485275, binarize=0.5547126822961741, fit_prior=False, total=   0.0s\n"
     ]
    },
    {
     "name": "stderr",
     "output_type": "stream",
     "text": [
      "/scratch/clb617/anaconda3/lib/python3.6/site-packages/sklearn/metrics/classification.py:1135: UndefinedMetricWarning: F-score is ill-defined and being set to 0.0 in labels with no predicted samples.\n",
      "  'precision', 'predicted', average, warn_for)\n",
      "/scratch/clb617/anaconda3/lib/python3.6/site-packages/sklearn/metrics/classification.py:1135: UndefinedMetricWarning: F-score is ill-defined and being set to 0.0 in labels with no predicted samples.\n",
      "  'precision', 'predicted', average, warn_for)\n",
      "/scratch/clb617/anaconda3/lib/python3.6/site-packages/sklearn/metrics/classification.py:1135: UndefinedMetricWarning: F-score is ill-defined and being set to 0.0 in labels with no predicted samples.\n",
      "  'precision', 'predicted', average, warn_for)\n",
      "/scratch/clb617/anaconda3/lib/python3.6/site-packages/sklearn/metrics/classification.py:1135: UndefinedMetricWarning: F-score is ill-defined and being set to 0.0 in labels with no predicted samples.\n",
      "  'precision', 'predicted', average, warn_for)\n"
     ]
    },
    {
     "name": "stdout",
     "output_type": "stream",
     "text": [
      "[CV]  alpha=0.6673289251485275, binarize=0.5547126822961741, fit_prior=False, total=   0.1s\n",
      "[CV]  alpha=0.3243579035605588, binarize=0.700298420049446, fit_prior=False, total=   0.0s\n",
      "[CV]  alpha=0.6673289251485275, binarize=0.5547126822961741, fit_prior=False, total=   0.1s\n"
     ]
    },
    {
     "name": "stderr",
     "output_type": "stream",
     "text": [
      "/scratch/clb617/anaconda3/lib/python3.6/site-packages/sklearn/metrics/classification.py:1135: UndefinedMetricWarning: F-score is ill-defined and being set to 0.0 in labels with no predicted samples.\n",
      "  'precision', 'predicted', average, warn_for)\n"
     ]
    },
    {
     "name": "stdout",
     "output_type": "stream",
     "text": [
      "[CV]  alpha=0.6673289251485275, binarize=0.5547126822961741, fit_prior=False, total=   0.0s\n",
      "[CV]  alpha=0.6673289251485275, binarize=0.5547126822961741, fit_prior=False, total=   0.1s\n",
      "[CV] alpha=0.3243579035605588, binarize=0.700298420049446, fit_prior=False \n",
      "[CV] alpha=0.3243579035605588, binarize=0.700298420049446, fit_prior=False \n",
      "[CV] alpha=0.3243579035605588, binarize=0.700298420049446, fit_prior=False \n"
     ]
    },
    {
     "name": "stderr",
     "output_type": "stream",
     "text": [
      "/scratch/clb617/anaconda3/lib/python3.6/site-packages/sklearn/metrics/classification.py:1135: UndefinedMetricWarning: F-score is ill-defined and being set to 0.0 in labels with no predicted samples.\n",
      "  'precision', 'predicted', average, warn_for)\n",
      "/scratch/clb617/anaconda3/lib/python3.6/site-packages/sklearn/metrics/classification.py:1135: UndefinedMetricWarning: F-score is ill-defined and being set to 0.0 in labels with no predicted samples.\n",
      "  'precision', 'predicted', average, warn_for)\n"
     ]
    },
    {
     "name": "stdout",
     "output_type": "stream",
     "text": [
      "[CV]  alpha=0.6673289251485275, binarize=0.5547126822961741, fit_prior=False, total=   0.1s\n",
      "[CV] alpha=0.3243579035605588, binarize=0.700298420049446, fit_prior=False \n",
      "[CV]  alpha=0.3243579035605588, binarize=0.700298420049446, fit_prior=False, total=   0.1s\n",
      "[CV] alpha=0.3243579035605588, binarize=0.700298420049446, fit_prior=False \n",
      "[CV]  alpha=0.3243579035605588, binarize=0.700298420049446, fit_prior=False, total=   0.1s\n"
     ]
    },
    {
     "name": "stderr",
     "output_type": "stream",
     "text": [
      "/scratch/clb617/anaconda3/lib/python3.6/site-packages/sklearn/metrics/classification.py:1135: UndefinedMetricWarning: F-score is ill-defined and being set to 0.0 in labels with no predicted samples.\n",
      "  'precision', 'predicted', average, warn_for)\n",
      "/scratch/clb617/anaconda3/lib/python3.6/site-packages/sklearn/metrics/classification.py:1135: UndefinedMetricWarning: F-score is ill-defined and being set to 0.0 in labels with no predicted samples.\n",
      "  'precision', 'predicted', average, warn_for)\n"
     ]
    },
    {
     "name": "stdout",
     "output_type": "stream",
     "text": [
      "[CV]  alpha=0.3243579035605588, binarize=0.700298420049446, fit_prior=False, total=   0.0s\n",
      "[CV]  alpha=0.3243579035605588, binarize=0.700298420049446, fit_prior=False, total=   0.1s\n"
     ]
    },
    {
     "name": "stderr",
     "output_type": "stream",
     "text": [
      "/scratch/clb617/anaconda3/lib/python3.6/site-packages/sklearn/metrics/classification.py:1135: UndefinedMetricWarning: F-score is ill-defined and being set to 0.0 in labels with no predicted samples.\n",
      "  'precision', 'predicted', average, warn_for)\n"
     ]
    },
    {
     "name": "stdout",
     "output_type": "stream",
     "text": [
      "[CV] alpha=0.3243579035605588, binarize=0.700298420049446, fit_prior=False \n",
      "[CV] alpha=0.3243579035605588, binarize=0.700298420049446, fit_prior=False \n"
     ]
    },
    {
     "name": "stderr",
     "output_type": "stream",
     "text": [
      "/scratch/clb617/anaconda3/lib/python3.6/site-packages/sklearn/metrics/classification.py:1135: UndefinedMetricWarning: F-score is ill-defined and being set to 0.0 in labels with no predicted samples.\n",
      "  'precision', 'predicted', average, warn_for)\n"
     ]
    },
    {
     "name": "stdout",
     "output_type": "stream",
     "text": [
      "[CV] alpha=0.3243579035605588, binarize=0.700298420049446, fit_prior=False \n"
     ]
    },
    {
     "name": "stderr",
     "output_type": "stream",
     "text": [
      "/scratch/clb617/anaconda3/lib/python3.6/site-packages/sklearn/metrics/classification.py:1135: UndefinedMetricWarning: F-score is ill-defined and being set to 0.0 in labels with no predicted samples.\n",
      "  'precision', 'predicted', average, warn_for)\n"
     ]
    },
    {
     "name": "stdout",
     "output_type": "stream",
     "text": [
      "[CV] alpha=0.3243579035605588, binarize=0.700298420049446, fit_prior=False \n",
      "[CV]  alpha=0.3243579035605588, binarize=0.700298420049446, fit_prior=False, total=   0.1s\n",
      "[CV] alpha=0.30616777031837883, binarize=0.9807325093259511, fit_prior=True \n"
     ]
    },
    {
     "name": "stderr",
     "output_type": "stream",
     "text": [
      "/scratch/clb617/anaconda3/lib/python3.6/site-packages/sklearn/metrics/classification.py:1135: UndefinedMetricWarning: F-score is ill-defined and being set to 0.0 in labels with no predicted samples.\n",
      "  'precision', 'predicted', average, warn_for)\n"
     ]
    },
    {
     "name": "stdout",
     "output_type": "stream",
     "text": [
      "[CV]  alpha=0.3243579035605588, binarize=0.700298420049446, fit_prior=False, total=   0.0s\n",
      "[CV] alpha=0.30616777031837883, binarize=0.9807325093259511, fit_prior=True \n"
     ]
    },
    {
     "name": "stderr",
     "output_type": "stream",
     "text": [
      "/scratch/clb617/anaconda3/lib/python3.6/site-packages/sklearn/metrics/classification.py:1135: UndefinedMetricWarning: F-score is ill-defined and being set to 0.0 in labels with no predicted samples.\n",
      "  'precision', 'predicted', average, warn_for)\n"
     ]
    },
    {
     "name": "stdout",
     "output_type": "stream",
     "text": [
      "[CV]  alpha=0.3243579035605588, binarize=0.700298420049446, fit_prior=False, total=   0.0s\n",
      "[CV]  alpha=0.3243579035605588, binarize=0.700298420049446, fit_prior=False, total=   0.1s\n",
      "[CV] alpha=0.30616777031837883, binarize=0.9807325093259511, fit_prior=True \n"
     ]
    },
    {
     "name": "stderr",
     "output_type": "stream",
     "text": [
      "/scratch/clb617/anaconda3/lib/python3.6/site-packages/sklearn/metrics/classification.py:1135: UndefinedMetricWarning: F-score is ill-defined and being set to 0.0 in labels with no predicted samples.\n",
      "  'precision', 'predicted', average, warn_for)\n",
      "/scratch/clb617/anaconda3/lib/python3.6/site-packages/sklearn/metrics/classification.py:1135: UndefinedMetricWarning: F-score is ill-defined and being set to 0.0 in labels with no predicted samples.\n",
      "  'precision', 'predicted', average, warn_for)\n"
     ]
    },
    {
     "name": "stdout",
     "output_type": "stream",
     "text": [
      "[CV]  alpha=0.30616777031837883, binarize=0.9807325093259511, fit_prior=True, total=   0.1s\n",
      "[CV]  alpha=0.30616777031837883, binarize=0.9807325093259511, fit_prior=True, total=   0.0s\n",
      "[CV]  alpha=0.30616777031837883, binarize=0.9807325093259511, fit_prior=True, total=   0.1s\n",
      "[CV] alpha=0.30616777031837883, binarize=0.9807325093259511, fit_prior=True \n",
      "[CV] alpha=0.30616777031837883, binarize=0.9807325093259511, fit_prior=True \n"
     ]
    },
    {
     "name": "stderr",
     "output_type": "stream",
     "text": [
      "/scratch/clb617/anaconda3/lib/python3.6/site-packages/sklearn/metrics/classification.py:1135: UndefinedMetricWarning: F-score is ill-defined and being set to 0.0 in labels with no predicted samples.\n",
      "  'precision', 'predicted', average, warn_for)\n"
     ]
    },
    {
     "name": "stdout",
     "output_type": "stream",
     "text": [
      "[CV] alpha=0.30616777031837883, binarize=0.9807325093259511, fit_prior=True \n",
      "[CV] alpha=0.30616777031837883, binarize=0.9807325093259511, fit_prior=True \n"
     ]
    },
    {
     "name": "stderr",
     "output_type": "stream",
     "text": [
      "/scratch/clb617/anaconda3/lib/python3.6/site-packages/sklearn/metrics/classification.py:1135: UndefinedMetricWarning: F-score is ill-defined and being set to 0.0 in labels with no predicted samples.\n",
      "  'precision', 'predicted', average, warn_for)\n"
     ]
    },
    {
     "name": "stdout",
     "output_type": "stream",
     "text": [
      "[CV]  alpha=0.30616777031837883, binarize=0.9807325093259511, fit_prior=True, total=   0.0s\n"
     ]
    },
    {
     "name": "stderr",
     "output_type": "stream",
     "text": [
      "/scratch/clb617/anaconda3/lib/python3.6/site-packages/sklearn/metrics/classification.py:1135: UndefinedMetricWarning: F-score is ill-defined and being set to 0.0 in labels with no predicted samples.\n",
      "  'precision', 'predicted', average, warn_for)\n"
     ]
    },
    {
     "name": "stdout",
     "output_type": "stream",
     "text": [
      "[CV]  alpha=0.30616777031837883, binarize=0.9807325093259511, fit_prior=True, total=   0.0s\n"
     ]
    },
    {
     "name": "stderr",
     "output_type": "stream",
     "text": [
      "/scratch/clb617/anaconda3/lib/python3.6/site-packages/sklearn/metrics/classification.py:1135: UndefinedMetricWarning: F-score is ill-defined and being set to 0.0 in labels with no predicted samples.\n",
      "  'precision', 'predicted', average, warn_for)\n"
     ]
    },
    {
     "name": "stdout",
     "output_type": "stream",
     "text": [
      "[CV]  alpha=0.30616777031837883, binarize=0.9807325093259511, fit_prior=True, total=   0.1s\n",
      "[CV] alpha=0.30616777031837883, binarize=0.9807325093259511, fit_prior=True \n",
      "[CV] alpha=0.30616777031837883, binarize=0.9807325093259511, fit_prior=True \n"
     ]
    },
    {
     "name": "stderr",
     "output_type": "stream",
     "text": [
      "/scratch/clb617/anaconda3/lib/python3.6/site-packages/sklearn/metrics/classification.py:1135: UndefinedMetricWarning: F-score is ill-defined and being set to 0.0 in labels with no predicted samples.\n",
      "  'precision', 'predicted', average, warn_for)\n",
      "/scratch/clb617/anaconda3/lib/python3.6/site-packages/sklearn/metrics/classification.py:1135: UndefinedMetricWarning: F-score is ill-defined and being set to 0.0 in labels with no predicted samples.\n",
      "  'precision', 'predicted', average, warn_for)\n"
     ]
    },
    {
     "name": "stdout",
     "output_type": "stream",
     "text": [
      "[CV]  alpha=0.30616777031837883, binarize=0.9807325093259511, fit_prior=True, total=   0.1s\n",
      "[CV]  alpha=0.3243579035605588, binarize=0.700298420049446, fit_prior=False, total=   0.3s\n",
      "[CV]  alpha=0.30616777031837883, binarize=0.9807325093259511, fit_prior=True, total=   0.0s\n"
     ]
    },
    {
     "name": "stderr",
     "output_type": "stream",
     "text": [
      "/scratch/clb617/anaconda3/lib/python3.6/site-packages/sklearn/metrics/classification.py:1135: UndefinedMetricWarning: F-score is ill-defined and being set to 0.0 in labels with no predicted samples.\n",
      "  'precision', 'predicted', average, warn_for)\n"
     ]
    },
    {
     "name": "stdout",
     "output_type": "stream",
     "text": [
      "[CV] alpha=0.30616777031837883, binarize=0.9807325093259511, fit_prior=True \n",
      "[CV]  alpha=0.30616777031837883, binarize=0.9807325093259511, fit_prior=True, total=   0.1s\n"
     ]
    },
    {
     "name": "stderr",
     "output_type": "stream",
     "text": [
      "/scratch/clb617/anaconda3/lib/python3.6/site-packages/sklearn/metrics/classification.py:1135: UndefinedMetricWarning: F-score is ill-defined and being set to 0.0 in labels with no predicted samples.\n",
      "  'precision', 'predicted', average, warn_for)\n"
     ]
    },
    {
     "name": "stdout",
     "output_type": "stream",
     "text": [
      "[CV]  alpha=0.30616777031837883, binarize=0.9807325093259511, fit_prior=True, total=   0.0s\n",
      "[CV] alpha=0.467845972324444, binarize=0.4489645188449608, fit_prior=False \n",
      "[CV] alpha=0.467845972324444, binarize=0.4489645188449608, fit_prior=False \n"
     ]
    },
    {
     "name": "stderr",
     "output_type": "stream",
     "text": [
      "/scratch/clb617/anaconda3/lib/python3.6/site-packages/sklearn/metrics/classification.py:1135: UndefinedMetricWarning: F-score is ill-defined and being set to 0.0 in labels with no predicted samples.\n",
      "  'precision', 'predicted', average, warn_for)\n"
     ]
    },
    {
     "name": "stdout",
     "output_type": "stream",
     "text": [
      "[CV] alpha=0.467845972324444, binarize=0.4489645188449608, fit_prior=False \n",
      "[CV] alpha=0.467845972324444, binarize=0.4489645188449608, fit_prior=False \n"
     ]
    },
    {
     "name": "stderr",
     "output_type": "stream",
     "text": [
      "/scratch/clb617/anaconda3/lib/python3.6/site-packages/sklearn/metrics/classification.py:1135: UndefinedMetricWarning: F-score is ill-defined and being set to 0.0 in labels with no predicted samples.\n",
      "  'precision', 'predicted', average, warn_for)\n"
     ]
    },
    {
     "name": "stdout",
     "output_type": "stream",
     "text": [
      "[CV] alpha=0.467845972324444, binarize=0.4489645188449608, fit_prior=False \n",
      "[CV] alpha=0.467845972324444, binarize=0.4489645188449608, fit_prior=False \n",
      "[CV]  alpha=0.467845972324444, binarize=0.4489645188449608, fit_prior=False, total=   0.0s\n"
     ]
    },
    {
     "name": "stderr",
     "output_type": "stream",
     "text": [
      "/scratch/clb617/anaconda3/lib/python3.6/site-packages/sklearn/metrics/classification.py:1135: UndefinedMetricWarning: F-score is ill-defined and being set to 0.0 in labels with no predicted samples.\n",
      "  'precision', 'predicted', average, warn_for)\n"
     ]
    },
    {
     "name": "stdout",
     "output_type": "stream",
     "text": [
      "[CV]  alpha=0.467845972324444, binarize=0.4489645188449608, fit_prior=False, total=   0.1s\n"
     ]
    },
    {
     "name": "stderr",
     "output_type": "stream",
     "text": [
      "/scratch/clb617/anaconda3/lib/python3.6/site-packages/sklearn/metrics/classification.py:1135: UndefinedMetricWarning: F-score is ill-defined and being set to 0.0 in labels with no predicted samples.\n",
      "  'precision', 'predicted', average, warn_for)\n"
     ]
    },
    {
     "name": "stdout",
     "output_type": "stream",
     "text": [
      "[CV]  alpha=0.467845972324444, binarize=0.4489645188449608, fit_prior=False, total=   0.0s\n"
     ]
    },
    {
     "name": "stderr",
     "output_type": "stream",
     "text": [
      "/scratch/clb617/anaconda3/lib/python3.6/site-packages/sklearn/metrics/classification.py:1135: UndefinedMetricWarning: F-score is ill-defined and being set to 0.0 in labels with no predicted samples.\n",
      "  'precision', 'predicted', average, warn_for)\n"
     ]
    },
    {
     "name": "stdout",
     "output_type": "stream",
     "text": [
      "[CV] alpha=0.467845972324444, binarize=0.4489645188449608, fit_prior=False \n"
     ]
    },
    {
     "name": "stderr",
     "output_type": "stream",
     "text": [
      "/scratch/clb617/anaconda3/lib/python3.6/site-packages/sklearn/metrics/classification.py:1135: UndefinedMetricWarning: F-score is ill-defined and being set to 0.0 in labels with no predicted samples.\n",
      "  'precision', 'predicted', average, warn_for)\n"
     ]
    },
    {
     "name": "stdout",
     "output_type": "stream",
     "text": [
      "[CV]  alpha=0.467845972324444, binarize=0.4489645188449608, fit_prior=False, total=   0.0s\n",
      "[CV]  alpha=0.467845972324444, binarize=0.4489645188449608, fit_prior=False, total=   0.0s\n"
     ]
    },
    {
     "name": "stderr",
     "output_type": "stream",
     "text": [
      "/scratch/clb617/anaconda3/lib/python3.6/site-packages/sklearn/metrics/classification.py:1135: UndefinedMetricWarning: F-score is ill-defined and being set to 0.0 in labels with no predicted samples.\n",
      "  'precision', 'predicted', average, warn_for)\n"
     ]
    },
    {
     "name": "stdout",
     "output_type": "stream",
     "text": [
      "[CV] alpha=0.467845972324444, binarize=0.4489645188449608, fit_prior=False \n",
      "[CV]  alpha=0.467845972324444, binarize=0.4489645188449608, fit_prior=False, total=   0.1s\n",
      "[CV] alpha=0.467845972324444, binarize=0.4489645188449608, fit_prior=False \n",
      "[CV]  alpha=0.467845972324444, binarize=0.4489645188449608, fit_prior=False, total=   0.1s\n"
     ]
    },
    {
     "name": "stderr",
     "output_type": "stream",
     "text": [
      "/scratch/clb617/anaconda3/lib/python3.6/site-packages/sklearn/metrics/classification.py:1135: UndefinedMetricWarning: F-score is ill-defined and being set to 0.0 in labels with no predicted samples.\n",
      "  'precision', 'predicted', average, warn_for)\n",
      "/scratch/clb617/anaconda3/lib/python3.6/site-packages/sklearn/metrics/classification.py:1135: UndefinedMetricWarning: F-score is ill-defined and being set to 0.0 in labels with no predicted samples.\n",
      "  'precision', 'predicted', average, warn_for)\n"
     ]
    },
    {
     "name": "stdout",
     "output_type": "stream",
     "text": [
      "[CV]  alpha=0.467845972324444, binarize=0.4489645188449608, fit_prior=False, total=   0.0s\n",
      "[CV]  alpha=0.467845972324444, binarize=0.4489645188449608, fit_prior=False, total=   0.0s\n",
      "[CV] alpha=0.467845972324444, binarize=0.4489645188449608, fit_prior=False \n",
      "[CV] alpha=0.8851871400469946, binarize=0.48312051216809626, fit_prior=False \n"
     ]
    },
    {
     "name": "stderr",
     "output_type": "stream",
     "text": [
      "/scratch/clb617/anaconda3/lib/python3.6/site-packages/sklearn/metrics/classification.py:1135: UndefinedMetricWarning: F-score is ill-defined and being set to 0.0 in labels with no predicted samples.\n",
      "  'precision', 'predicted', average, warn_for)\n",
      "/scratch/clb617/anaconda3/lib/python3.6/site-packages/sklearn/metrics/classification.py:1135: UndefinedMetricWarning: F-score is ill-defined and being set to 0.0 in labels with no predicted samples.\n",
      "  'precision', 'predicted', average, warn_for)\n"
     ]
    },
    {
     "name": "stdout",
     "output_type": "stream",
     "text": [
      "[CV]  alpha=0.467845972324444, binarize=0.4489645188449608, fit_prior=False, total=   0.0s\n",
      "[CV]  alpha=0.8851871400469946, binarize=0.48312051216809626, fit_prior=False, total=   0.0s\n",
      "[CV] alpha=0.8851871400469946, binarize=0.48312051216809626, fit_prior=False \n",
      "[CV] alpha=0.8851871400469946, binarize=0.48312051216809626, fit_prior=False \n"
     ]
    },
    {
     "name": "stderr",
     "output_type": "stream",
     "text": [
      "/scratch/clb617/anaconda3/lib/python3.6/site-packages/sklearn/metrics/classification.py:1135: UndefinedMetricWarning: F-score is ill-defined and being set to 0.0 in labels with no predicted samples.\n",
      "  'precision', 'predicted', average, warn_for)\n"
     ]
    },
    {
     "name": "stdout",
     "output_type": "stream",
     "text": [
      "[CV] alpha=0.8851871400469946, binarize=0.48312051216809626, fit_prior=False \n",
      "[CV] alpha=0.8851871400469946, binarize=0.48312051216809626, fit_prior=False \n",
      "[CV]  alpha=0.8851871400469946, binarize=0.48312051216809626, fit_prior=False, total=   0.1s\n"
     ]
    },
    {
     "name": "stderr",
     "output_type": "stream",
     "text": [
      "/scratch/clb617/anaconda3/lib/python3.6/site-packages/sklearn/metrics/classification.py:1135: UndefinedMetricWarning: F-score is ill-defined and being set to 0.0 in labels with no predicted samples.\n",
      "  'precision', 'predicted', average, warn_for)\n"
     ]
    },
    {
     "name": "stdout",
     "output_type": "stream",
     "text": [
      "[CV]  alpha=0.8851871400469946, binarize=0.48312051216809626, fit_prior=False, total=   0.0s\n"
     ]
    },
    {
     "name": "stderr",
     "output_type": "stream",
     "text": [
      "/scratch/clb617/anaconda3/lib/python3.6/site-packages/sklearn/metrics/classification.py:1135: UndefinedMetricWarning: F-score is ill-defined and being set to 0.0 in labels with no predicted samples.\n",
      "  'precision', 'predicted', average, warn_for)\n",
      "/scratch/clb617/anaconda3/lib/python3.6/site-packages/sklearn/metrics/classification.py:1135: UndefinedMetricWarning: F-score is ill-defined and being set to 0.0 in labels with no predicted samples.\n",
      "  'precision', 'predicted', average, warn_for)\n"
     ]
    },
    {
     "name": "stdout",
     "output_type": "stream",
     "text": [
      "[CV]  alpha=0.8851871400469946, binarize=0.48312051216809626, fit_prior=False, total=   0.1s\n",
      "[CV] alpha=0.8851871400469946, binarize=0.48312051216809626, fit_prior=False \n",
      "[CV]  alpha=0.8851871400469946, binarize=0.48312051216809626, fit_prior=False, total=   0.0s\n",
      "[CV] alpha=0.8851871400469946, binarize=0.48312051216809626, fit_prior=False \n"
     ]
    },
    {
     "name": "stderr",
     "output_type": "stream",
     "text": [
      "/scratch/clb617/anaconda3/lib/python3.6/site-packages/sklearn/metrics/classification.py:1135: UndefinedMetricWarning: F-score is ill-defined and being set to 0.0 in labels with no predicted samples.\n",
      "  'precision', 'predicted', average, warn_for)\n"
     ]
    },
    {
     "name": "stdout",
     "output_type": "stream",
     "text": [
      "[CV] alpha=0.8851871400469946, binarize=0.48312051216809626, fit_prior=False \n",
      "[CV] alpha=0.8851871400469946, binarize=0.48312051216809626, fit_prior=False \n"
     ]
    },
    {
     "name": "stderr",
     "output_type": "stream",
     "text": [
      "/scratch/clb617/anaconda3/lib/python3.6/site-packages/sklearn/metrics/classification.py:1135: UndefinedMetricWarning: F-score is ill-defined and being set to 0.0 in labels with no predicted samples.\n",
      "  'precision', 'predicted', average, warn_for)\n",
      "/scratch/clb617/anaconda3/lib/python3.6/site-packages/sklearn/metrics/classification.py:1135: UndefinedMetricWarning: F-score is ill-defined and being set to 0.0 in labels with no predicted samples.\n",
      "  'precision', 'predicted', average, warn_for)\n"
     ]
    },
    {
     "name": "stdout",
     "output_type": "stream",
     "text": [
      "[CV]  alpha=0.8851871400469946, binarize=0.48312051216809626, fit_prior=False, total=   0.0s\n"
     ]
    },
    {
     "name": "stderr",
     "output_type": "stream",
     "text": [
      "/scratch/clb617/anaconda3/lib/python3.6/site-packages/sklearn/metrics/classification.py:1135: UndefinedMetricWarning: F-score is ill-defined and being set to 0.0 in labels with no predicted samples.\n",
      "  'precision', 'predicted', average, warn_for)\n"
     ]
    },
    {
     "name": "stdout",
     "output_type": "stream",
     "text": [
      "[CV]  alpha=0.8851871400469946, binarize=0.48312051216809626, fit_prior=False, total=   0.0s\n",
      "[CV]  alpha=0.8851871400469946, binarize=0.48312051216809626, fit_prior=False, total=   0.0s\n",
      "[CV] alpha=0.8851871400469946, binarize=0.48312051216809626, fit_prior=False \n",
      "[CV]  alpha=0.8851871400469946, binarize=0.48312051216809626, fit_prior=False, total=   0.1s\n",
      "[CV] alpha=0.7239478979864309, binarize=0.7930230326291929, fit_prior=True \n",
      "[CV] alpha=0.7239478979864309, binarize=0.7930230326291929, fit_prior=True \n"
     ]
    },
    {
     "name": "stderr",
     "output_type": "stream",
     "text": [
      "/scratch/clb617/anaconda3/lib/python3.6/site-packages/sklearn/metrics/classification.py:1135: UndefinedMetricWarning: F-score is ill-defined and being set to 0.0 in labels with no predicted samples.\n",
      "  'precision', 'predicted', average, warn_for)\n",
      "/scratch/clb617/anaconda3/lib/python3.6/site-packages/sklearn/metrics/classification.py:1135: UndefinedMetricWarning: F-score is ill-defined and being set to 0.0 in labels with no predicted samples.\n",
      "  'precision', 'predicted', average, warn_for)\n"
     ]
    },
    {
     "name": "stdout",
     "output_type": "stream",
     "text": [
      "[CV] alpha=0.7239478979864309, binarize=0.7930230326291929, fit_prior=True \n",
      "[CV]  alpha=0.7239478979864309, binarize=0.7930230326291929, fit_prior=True, total=   0.1s\n",
      "[CV]  alpha=0.8851871400469946, binarize=0.48312051216809626, fit_prior=False, total=   0.1s\n"
     ]
    },
    {
     "name": "stderr",
     "output_type": "stream",
     "text": [
      "/scratch/clb617/anaconda3/lib/python3.6/site-packages/sklearn/metrics/classification.py:1135: UndefinedMetricWarning: F-score is ill-defined and being set to 0.0 in labels with no predicted samples.\n",
      "  'precision', 'predicted', average, warn_for)\n",
      "/scratch/clb617/anaconda3/lib/python3.6/site-packages/sklearn/metrics/classification.py:1135: UndefinedMetricWarning: F-score is ill-defined and being set to 0.0 in labels with no predicted samples.\n",
      "  'precision', 'predicted', average, warn_for)\n"
     ]
    },
    {
     "name": "stdout",
     "output_type": "stream",
     "text": [
      "[CV]  alpha=0.7239478979864309, binarize=0.7930230326291929, fit_prior=True, total=   0.1s\n",
      "[CV]  alpha=0.7239478979864309, binarize=0.7930230326291929, fit_prior=True, total=   0.0s\n",
      "[CV] alpha=0.7239478979864309, binarize=0.7930230326291929, fit_prior=True \n",
      "[CV] alpha=0.7239478979864309, binarize=0.7930230326291929, fit_prior=True \n",
      "[CV] alpha=0.7239478979864309, binarize=0.7930230326291929, fit_prior=True \n"
     ]
    },
    {
     "name": "stderr",
     "output_type": "stream",
     "text": [
      "/scratch/clb617/anaconda3/lib/python3.6/site-packages/sklearn/metrics/classification.py:1135: UndefinedMetricWarning: F-score is ill-defined and being set to 0.0 in labels with no predicted samples.\n",
      "  'precision', 'predicted', average, warn_for)\n"
     ]
    },
    {
     "name": "stdout",
     "output_type": "stream",
     "text": [
      "[CV]  alpha=0.7239478979864309, binarize=0.7930230326291929, fit_prior=True, total=   0.0s\n",
      "[CV] alpha=0.7239478979864309, binarize=0.7930230326291929, fit_prior=True \n"
     ]
    },
    {
     "name": "stderr",
     "output_type": "stream",
     "text": [
      "/scratch/clb617/anaconda3/lib/python3.6/site-packages/sklearn/metrics/classification.py:1135: UndefinedMetricWarning: F-score is ill-defined and being set to 0.0 in labels with no predicted samples.\n",
      "  'precision', 'predicted', average, warn_for)\n"
     ]
    },
    {
     "name": "stdout",
     "output_type": "stream",
     "text": [
      "[CV]  alpha=0.7239478979864309, binarize=0.7930230326291929, fit_prior=True, total=   0.1s\n",
      "[CV] alpha=0.7239478979864309, binarize=0.7930230326291929, fit_prior=True \n"
     ]
    },
    {
     "name": "stderr",
     "output_type": "stream",
     "text": [
      "/scratch/clb617/anaconda3/lib/python3.6/site-packages/sklearn/metrics/classification.py:1135: UndefinedMetricWarning: F-score is ill-defined and being set to 0.0 in labels with no predicted samples.\n",
      "  'precision', 'predicted', average, warn_for)\n",
      "/scratch/clb617/anaconda3/lib/python3.6/site-packages/sklearn/metrics/classification.py:1135: UndefinedMetricWarning: F-score is ill-defined and being set to 0.0 in labels with no predicted samples.\n",
      "  'precision', 'predicted', average, warn_for)\n"
     ]
    },
    {
     "name": "stdout",
     "output_type": "stream",
     "text": [
      "[CV]  alpha=0.7239478979864309, binarize=0.7930230326291929, fit_prior=True, total=   0.0s\n",
      "[CV] alpha=0.7239478979864309, binarize=0.7930230326291929, fit_prior=True \n",
      "[CV] alpha=0.7239478979864309, binarize=0.7930230326291929, fit_prior=True \n",
      "[CV] alpha=0.012200168592136462, binarize=0.3696411603159271, fit_prior=True \n",
      "[CV]  alpha=0.7239478979864309, binarize=0.7930230326291929, fit_prior=True, total=   0.2s\n"
     ]
    },
    {
     "name": "stderr",
     "output_type": "stream",
     "text": [
      "/scratch/clb617/anaconda3/lib/python3.6/site-packages/sklearn/metrics/classification.py:1135: UndefinedMetricWarning: F-score is ill-defined and being set to 0.0 in labels with no predicted samples.\n",
      "  'precision', 'predicted', average, warn_for)\n",
      "/scratch/clb617/anaconda3/lib/python3.6/site-packages/sklearn/metrics/classification.py:1135: UndefinedMetricWarning: F-score is ill-defined and being set to 0.0 in labels with no predicted samples.\n",
      "  'precision', 'predicted', average, warn_for)\n"
     ]
    },
    {
     "name": "stdout",
     "output_type": "stream",
     "text": [
      "[CV] alpha=0.012200168592136462, binarize=0.3696411603159271, fit_prior=True \n"
     ]
    },
    {
     "name": "stderr",
     "output_type": "stream",
     "text": [
      "/scratch/clb617/anaconda3/lib/python3.6/site-packages/sklearn/metrics/classification.py:1135: UndefinedMetricWarning: F-score is ill-defined and being set to 0.0 in labels with no predicted samples.\n",
      "  'precision', 'predicted', average, warn_for)\n",
      "/scratch/clb617/anaconda3/lib/python3.6/site-packages/sklearn/metrics/classification.py:1135: UndefinedMetricWarning: F-score is ill-defined and being set to 0.0 in labels with no predicted samples.\n",
      "  'precision', 'predicted', average, warn_for)\n"
     ]
    },
    {
     "name": "stdout",
     "output_type": "stream",
     "text": [
      "[CV]  alpha=0.012200168592136462, binarize=0.3696411603159271, fit_prior=True, total=   0.0s\n",
      "[CV]  alpha=0.7239478979864309, binarize=0.7930230326291929, fit_prior=True, total=   0.1s\n"
     ]
    },
    {
     "name": "stderr",
     "output_type": "stream",
     "text": [
      "/scratch/clb617/anaconda3/lib/python3.6/site-packages/sklearn/metrics/classification.py:1135: UndefinedMetricWarning: F-score is ill-defined and being set to 0.0 in labels with no predicted samples.\n",
      "  'precision', 'predicted', average, warn_for)\n"
     ]
    },
    {
     "name": "stdout",
     "output_type": "stream",
     "text": [
      "[CV]  alpha=0.7239478979864309, binarize=0.7930230326291929, fit_prior=True, total=   0.1s\n",
      "[CV]  alpha=0.7239478979864309, binarize=0.7930230326291929, fit_prior=True, total=   0.1s\n",
      "[CV]  alpha=0.012200168592136462, binarize=0.3696411603159271, fit_prior=True, total=   0.1s\n",
      "[CV] alpha=0.012200168592136462, binarize=0.3696411603159271, fit_prior=True \n",
      "[CV] alpha=0.012200168592136462, binarize=0.3696411603159271, fit_prior=True \n"
     ]
    },
    {
     "name": "stderr",
     "output_type": "stream",
     "text": [
      "/scratch/clb617/anaconda3/lib/python3.6/site-packages/sklearn/metrics/classification.py:1135: UndefinedMetricWarning: F-score is ill-defined and being set to 0.0 in labels with no predicted samples.\n",
      "  'precision', 'predicted', average, warn_for)\n"
     ]
    },
    {
     "name": "stdout",
     "output_type": "stream",
     "text": [
      "[CV]  alpha=0.012200168592136462, binarize=0.3696411603159271, fit_prior=True, total=   0.1s\n",
      "[CV] alpha=0.012200168592136462, binarize=0.3696411603159271, fit_prior=True \n"
     ]
    },
    {
     "name": "stderr",
     "output_type": "stream",
     "text": [
      "/scratch/clb617/anaconda3/lib/python3.6/site-packages/sklearn/metrics/classification.py:1135: UndefinedMetricWarning: F-score is ill-defined and being set to 0.0 in labels with no predicted samples.\n",
      "  'precision', 'predicted', average, warn_for)\n"
     ]
    },
    {
     "name": "stdout",
     "output_type": "stream",
     "text": [
      "[CV] alpha=0.012200168592136462, binarize=0.3696411603159271, fit_prior=True \n",
      "[CV] alpha=0.012200168592136462, binarize=0.3696411603159271, fit_prior=True \n",
      "[CV] alpha=0.012200168592136462, binarize=0.3696411603159271, fit_prior=True \n"
     ]
    },
    {
     "name": "stderr",
     "output_type": "stream",
     "text": [
      "/scratch/clb617/anaconda3/lib/python3.6/site-packages/sklearn/metrics/classification.py:1135: UndefinedMetricWarning: F-score is ill-defined and being set to 0.0 in labels with no predicted samples.\n",
      "  'precision', 'predicted', average, warn_for)\n"
     ]
    },
    {
     "name": "stdout",
     "output_type": "stream",
     "text": [
      "[CV]  alpha=0.012200168592136462, binarize=0.3696411603159271, fit_prior=True, total=   0.0s\n"
     ]
    },
    {
     "name": "stderr",
     "output_type": "stream",
     "text": [
      "/scratch/clb617/anaconda3/lib/python3.6/site-packages/sklearn/metrics/classification.py:1135: UndefinedMetricWarning: F-score is ill-defined and being set to 0.0 in labels with no predicted samples.\n",
      "  'precision', 'predicted', average, warn_for)\n"
     ]
    },
    {
     "name": "stdout",
     "output_type": "stream",
     "text": [
      "[CV]  alpha=0.012200168592136462, binarize=0.3696411603159271, fit_prior=True, total=   0.1s\n",
      "[CV] alpha=0.012200168592136462, binarize=0.3696411603159271, fit_prior=True \n",
      "[CV] alpha=0.012200168592136462, binarize=0.3696411603159271, fit_prior=True \n"
     ]
    },
    {
     "name": "stderr",
     "output_type": "stream",
     "text": [
      "/scratch/clb617/anaconda3/lib/python3.6/site-packages/sklearn/metrics/classification.py:1135: UndefinedMetricWarning: F-score is ill-defined and being set to 0.0 in labels with no predicted samples.\n",
      "  'precision', 'predicted', average, warn_for)\n"
     ]
    },
    {
     "name": "stdout",
     "output_type": "stream",
     "text": [
      "[CV]  alpha=0.012200168592136462, binarize=0.3696411603159271, fit_prior=True, total=   0.0s\n",
      "[CV]  alpha=0.012200168592136462, binarize=0.3696411603159271, fit_prior=True, total=   0.1s\n"
     ]
    },
    {
     "name": "stderr",
     "output_type": "stream",
     "text": [
      "/scratch/clb617/anaconda3/lib/python3.6/site-packages/sklearn/metrics/classification.py:1135: UndefinedMetricWarning: F-score is ill-defined and being set to 0.0 in labels with no predicted samples.\n",
      "  'precision', 'predicted', average, warn_for)\n"
     ]
    },
    {
     "name": "stdout",
     "output_type": "stream",
     "text": [
      "[CV]  alpha=0.012200168592136462, binarize=0.3696411603159271, fit_prior=True, total=   0.1s\n"
     ]
    },
    {
     "name": "stderr",
     "output_type": "stream",
     "text": [
      "/scratch/clb617/anaconda3/lib/python3.6/site-packages/sklearn/metrics/classification.py:1135: UndefinedMetricWarning: F-score is ill-defined and being set to 0.0 in labels with no predicted samples.\n",
      "  'precision', 'predicted', average, warn_for)\n"
     ]
    },
    {
     "name": "stdout",
     "output_type": "stream",
     "text": [
      "[CV]  alpha=0.012200168592136462, binarize=0.3696411603159271, fit_prior=True, total=   0.0s\n",
      "[CV] alpha=0.8972476309568498, binarize=0.42020832898509064, fit_prior=True \n"
     ]
    },
    {
     "name": "stderr",
     "output_type": "stream",
     "text": [
      "/scratch/clb617/anaconda3/lib/python3.6/site-packages/sklearn/metrics/classification.py:1135: UndefinedMetricWarning: F-score is ill-defined and being set to 0.0 in labels with no predicted samples.\n",
      "  'precision', 'predicted', average, warn_for)\n"
     ]
    },
    {
     "name": "stdout",
     "output_type": "stream",
     "text": [
      "[CV]  alpha=0.8972476309568498, binarize=0.42020832898509064, fit_prior=True, total=   0.0s\n"
     ]
    },
    {
     "name": "stderr",
     "output_type": "stream",
     "text": [
      "/scratch/clb617/anaconda3/lib/python3.6/site-packages/sklearn/metrics/classification.py:1135: UndefinedMetricWarning: F-score is ill-defined and being set to 0.0 in labels with no predicted samples.\n",
      "  'precision', 'predicted', average, warn_for)\n"
     ]
    },
    {
     "name": "stdout",
     "output_type": "stream",
     "text": [
      "[CV] alpha=0.8972476309568498, binarize=0.42020832898509064, fit_prior=True \n",
      "[CV] alpha=0.8972476309568498, binarize=0.42020832898509064, fit_prior=True \n",
      "[CV] alpha=0.8972476309568498, binarize=0.42020832898509064, fit_prior=True \n",
      "[CV] alpha=0.8972476309568498, binarize=0.42020832898509064, fit_prior=True \n"
     ]
    },
    {
     "name": "stderr",
     "output_type": "stream",
     "text": [
      "/scratch/clb617/anaconda3/lib/python3.6/site-packages/sklearn/metrics/classification.py:1135: UndefinedMetricWarning: F-score is ill-defined and being set to 0.0 in labels with no predicted samples.\n",
      "  'precision', 'predicted', average, warn_for)\n",
      "/scratch/clb617/anaconda3/lib/python3.6/site-packages/sklearn/metrics/classification.py:1135: UndefinedMetricWarning: F-score is ill-defined and being set to 0.0 in labels with no predicted samples.\n",
      "  'precision', 'predicted', average, warn_for)\n"
     ]
    },
    {
     "name": "stdout",
     "output_type": "stream",
     "text": [
      "[CV]  alpha=0.8972476309568498, binarize=0.42020832898509064, fit_prior=True, total=   0.0s\n",
      "[CV]  alpha=0.8972476309568498, binarize=0.42020832898509064, fit_prior=True, total=   0.0s\n"
     ]
    },
    {
     "name": "stderr",
     "output_type": "stream",
     "text": [
      "/scratch/clb617/anaconda3/lib/python3.6/site-packages/sklearn/metrics/classification.py:1135: UndefinedMetricWarning: F-score is ill-defined and being set to 0.0 in labels with no predicted samples.\n",
      "  'precision', 'predicted', average, warn_for)\n"
     ]
    },
    {
     "name": "stdout",
     "output_type": "stream",
     "text": [
      "[CV]  alpha=0.012200168592136462, binarize=0.3696411603159271, fit_prior=True, total=   0.2s\n",
      "[CV]  alpha=0.8972476309568498, binarize=0.42020832898509064, fit_prior=True, total=   0.0s\n"
     ]
    },
    {
     "name": "stderr",
     "output_type": "stream",
     "text": [
      "/scratch/clb617/anaconda3/lib/python3.6/site-packages/sklearn/metrics/classification.py:1135: UndefinedMetricWarning: F-score is ill-defined and being set to 0.0 in labels with no predicted samples.\n",
      "  'precision', 'predicted', average, warn_for)\n"
     ]
    },
    {
     "name": "stdout",
     "output_type": "stream",
     "text": [
      "[CV] alpha=0.8972476309568498, binarize=0.42020832898509064, fit_prior=True \n",
      "[CV]  alpha=0.8972476309568498, binarize=0.42020832898509064, fit_prior=True, total=   0.1s\n"
     ]
    },
    {
     "name": "stderr",
     "output_type": "stream",
     "text": [
      "/scratch/clb617/anaconda3/lib/python3.6/site-packages/sklearn/metrics/classification.py:1135: UndefinedMetricWarning: F-score is ill-defined and being set to 0.0 in labels with no predicted samples.\n",
      "  'precision', 'predicted', average, warn_for)\n"
     ]
    },
    {
     "name": "stdout",
     "output_type": "stream",
     "text": [
      "[CV]  alpha=0.8972476309568498, binarize=0.42020832898509064, fit_prior=True, total=   0.1s\n",
      "[CV] alpha=0.8972476309568498, binarize=0.42020832898509064, fit_prior=True \n"
     ]
    },
    {
     "name": "stderr",
     "output_type": "stream",
     "text": [
      "/scratch/clb617/anaconda3/lib/python3.6/site-packages/sklearn/metrics/classification.py:1135: UndefinedMetricWarning: F-score is ill-defined and being set to 0.0 in labels with no predicted samples.\n",
      "  'precision', 'predicted', average, warn_for)\n"
     ]
    },
    {
     "name": "stdout",
     "output_type": "stream",
     "text": [
      "[CV]  alpha=0.8972476309568498, binarize=0.42020832898509064, fit_prior=True, total=   0.0s\n",
      "[CV] alpha=0.8972476309568498, binarize=0.42020832898509064, fit_prior=True \n"
     ]
    },
    {
     "name": "stderr",
     "output_type": "stream",
     "text": [
      "/scratch/clb617/anaconda3/lib/python3.6/site-packages/sklearn/metrics/classification.py:1135: UndefinedMetricWarning: F-score is ill-defined and being set to 0.0 in labels with no predicted samples.\n",
      "  'precision', 'predicted', average, warn_for)\n"
     ]
    },
    {
     "name": "stdout",
     "output_type": "stream",
     "text": [
      "[CV] alpha=0.8972476309568498, binarize=0.42020832898509064, fit_prior=True \n",
      "[CV]  alpha=0.8972476309568498, binarize=0.42020832898509064, fit_prior=True, total=   0.1s\n"
     ]
    },
    {
     "name": "stderr",
     "output_type": "stream",
     "text": [
      "/scratch/clb617/anaconda3/lib/python3.6/site-packages/sklearn/metrics/classification.py:1135: UndefinedMetricWarning: F-score is ill-defined and being set to 0.0 in labels with no predicted samples.\n",
      "  'precision', 'predicted', average, warn_for)\n"
     ]
    },
    {
     "name": "stdout",
     "output_type": "stream",
     "text": [
      "[CV]  alpha=0.8972476309568498, binarize=0.42020832898509064, fit_prior=True, total=   0.0s\n",
      "[CV] alpha=0.8972476309568498, binarize=0.42020832898509064, fit_prior=True \n",
      "[CV] alpha=0.6629766293162643, binarize=0.9715229767080292, fit_prior=True \n",
      "[CV] alpha=0.6629766293162643, binarize=0.9715229767080292, fit_prior=True \n"
     ]
    },
    {
     "name": "stderr",
     "output_type": "stream",
     "text": [
      "/scratch/clb617/anaconda3/lib/python3.6/site-packages/sklearn/metrics/classification.py:1135: UndefinedMetricWarning: F-score is ill-defined and being set to 0.0 in labels with no predicted samples.\n",
      "  'precision', 'predicted', average, warn_for)\n"
     ]
    },
    {
     "name": "stdout",
     "output_type": "stream",
     "text": [
      "[CV] alpha=0.6629766293162643, binarize=0.9715229767080292, fit_prior=True \n"
     ]
    },
    {
     "name": "stderr",
     "output_type": "stream",
     "text": [
      "/scratch/clb617/anaconda3/lib/python3.6/site-packages/sklearn/metrics/classification.py:1135: UndefinedMetricWarning: F-score is ill-defined and being set to 0.0 in labels with no predicted samples.\n",
      "  'precision', 'predicted', average, warn_for)\n"
     ]
    },
    {
     "name": "stdout",
     "output_type": "stream",
     "text": [
      "[CV]  alpha=0.6629766293162643, binarize=0.9715229767080292, fit_prior=True, total=   0.0s\n"
     ]
    },
    {
     "name": "stderr",
     "output_type": "stream",
     "text": [
      "/scratch/clb617/anaconda3/lib/python3.6/site-packages/sklearn/metrics/classification.py:1135: UndefinedMetricWarning: F-score is ill-defined and being set to 0.0 in labels with no predicted samples.\n",
      "  'precision', 'predicted', average, warn_for)\n"
     ]
    },
    {
     "name": "stdout",
     "output_type": "stream",
     "text": [
      "[CV] alpha=0.6629766293162643, binarize=0.9715229767080292, fit_prior=True \n",
      "[CV] alpha=0.6629766293162643, binarize=0.9715229767080292, fit_prior=True \n",
      "[CV]  alpha=0.6629766293162643, binarize=0.9715229767080292, fit_prior=True, total=   0.0s\n",
      "[CV] alpha=0.6629766293162643, binarize=0.9715229767080292, fit_prior=True \n"
     ]
    },
    {
     "name": "stderr",
     "output_type": "stream",
     "text": [
      "/scratch/clb617/anaconda3/lib/python3.6/site-packages/sklearn/metrics/classification.py:1135: UndefinedMetricWarning: F-score is ill-defined and being set to 0.0 in labels with no predicted samples.\n",
      "  'precision', 'predicted', average, warn_for)\n",
      "/scratch/clb617/anaconda3/lib/python3.6/site-packages/sklearn/metrics/classification.py:1135: UndefinedMetricWarning: F-score is ill-defined and being set to 0.0 in labels with no predicted samples.\n",
      "  'precision', 'predicted', average, warn_for)\n"
     ]
    },
    {
     "name": "stdout",
     "output_type": "stream",
     "text": [
      "[CV]  alpha=0.6629766293162643, binarize=0.9715229767080292, fit_prior=True, total=   0.1s\n",
      "[CV] alpha=0.6629766293162643, binarize=0.9715229767080292, fit_prior=True \n",
      "[CV]  alpha=0.6629766293162643, binarize=0.9715229767080292, fit_prior=True, total=   0.0s\n"
     ]
    },
    {
     "name": "stderr",
     "output_type": "stream",
     "text": [
      "/scratch/clb617/anaconda3/lib/python3.6/site-packages/sklearn/metrics/classification.py:1135: UndefinedMetricWarning: F-score is ill-defined and being set to 0.0 in labels with no predicted samples.\n",
      "  'precision', 'predicted', average, warn_for)\n"
     ]
    },
    {
     "name": "stdout",
     "output_type": "stream",
     "text": [
      "[CV] alpha=0.6629766293162643, binarize=0.9715229767080292, fit_prior=True \n",
      "[CV]  alpha=0.6629766293162643, binarize=0.9715229767080292, fit_prior=True, total=   0.0s\n"
     ]
    },
    {
     "name": "stderr",
     "output_type": "stream",
     "text": [
      "/scratch/clb617/anaconda3/lib/python3.6/site-packages/sklearn/metrics/classification.py:1135: UndefinedMetricWarning: F-score is ill-defined and being set to 0.0 in labels with no predicted samples.\n",
      "  'precision', 'predicted', average, warn_for)\n"
     ]
    },
    {
     "name": "stdout",
     "output_type": "stream",
     "text": [
      "[CV]  alpha=0.8972476309568498, binarize=0.42020832898509064, fit_prior=True, total=   0.2s\n"
     ]
    },
    {
     "name": "stderr",
     "output_type": "stream",
     "text": [
      "/scratch/clb617/anaconda3/lib/python3.6/site-packages/sklearn/metrics/classification.py:1135: UndefinedMetricWarning: F-score is ill-defined and being set to 0.0 in labels with no predicted samples.\n",
      "  'precision', 'predicted', average, warn_for)\n"
     ]
    },
    {
     "name": "stdout",
     "output_type": "stream",
     "text": [
      "[CV] alpha=0.6629766293162643, binarize=0.9715229767080292, fit_prior=True \n"
     ]
    },
    {
     "name": "stderr",
     "output_type": "stream",
     "text": [
      "/scratch/clb617/anaconda3/lib/python3.6/site-packages/sklearn/metrics/classification.py:1135: UndefinedMetricWarning: F-score is ill-defined and being set to 0.0 in labels with no predicted samples.\n",
      "  'precision', 'predicted', average, warn_for)\n"
     ]
    },
    {
     "name": "stdout",
     "output_type": "stream",
     "text": [
      "[CV] alpha=0.6629766293162643, binarize=0.9715229767080292, fit_prior=True \n",
      "[CV]  alpha=0.6629766293162643, binarize=0.9715229767080292, fit_prior=True, total=   0.0s\n",
      "[CV] alpha=0.532829463625472, binarize=0.23751076508188718, fit_prior=False \n",
      "[CV]  alpha=0.6629766293162643, binarize=0.9715229767080292, fit_prior=True, total=   0.0s\n"
     ]
    },
    {
     "name": "stderr",
     "output_type": "stream",
     "text": [
      "/scratch/clb617/anaconda3/lib/python3.6/site-packages/sklearn/metrics/classification.py:1135: UndefinedMetricWarning: F-score is ill-defined and being set to 0.0 in labels with no predicted samples.\n",
      "  'precision', 'predicted', average, warn_for)\n"
     ]
    },
    {
     "name": "stdout",
     "output_type": "stream",
     "text": [
      "[CV]  alpha=0.6629766293162643, binarize=0.9715229767080292, fit_prior=True, total=   0.0s\n",
      "[CV] alpha=0.532829463625472, binarize=0.23751076508188718, fit_prior=False \n",
      "[CV] alpha=0.532829463625472, binarize=0.23751076508188718, fit_prior=False \n"
     ]
    },
    {
     "name": "stderr",
     "output_type": "stream",
     "text": [
      "/scratch/clb617/anaconda3/lib/python3.6/site-packages/sklearn/metrics/classification.py:1135: UndefinedMetricWarning: F-score is ill-defined and being set to 0.0 in labels with no predicted samples.\n",
      "  'precision', 'predicted', average, warn_for)\n",
      "/scratch/clb617/anaconda3/lib/python3.6/site-packages/sklearn/metrics/classification.py:1135: UndefinedMetricWarning: F-score is ill-defined and being set to 0.0 in labels with no predicted samples.\n",
      "  'precision', 'predicted', average, warn_for)\n",
      "/scratch/clb617/anaconda3/lib/python3.6/site-packages/sklearn/metrics/classification.py:1135: UndefinedMetricWarning: F-score is ill-defined and being set to 0.0 in labels with no predicted samples.\n",
      "  'precision', 'predicted', average, warn_for)\n",
      "/scratch/clb617/anaconda3/lib/python3.6/site-packages/sklearn/metrics/classification.py:1135: UndefinedMetricWarning: F-score is ill-defined and being set to 0.0 in labels with no predicted samples.\n",
      "  'precision', 'predicted', average, warn_for)\n"
     ]
    },
    {
     "name": "stdout",
     "output_type": "stream",
     "text": [
      "[CV]  alpha=0.532829463625472, binarize=0.23751076508188718, fit_prior=False, total=   0.0s\n",
      "[CV]  alpha=0.6629766293162643, binarize=0.9715229767080292, fit_prior=True, total=   0.1s\n",
      "[CV]  alpha=0.532829463625472, binarize=0.23751076508188718, fit_prior=False, total=   0.1s\n",
      "[CV]  alpha=0.532829463625472, binarize=0.23751076508188718, fit_prior=False, total=   0.1s\n",
      "[CV]  alpha=0.6629766293162643, binarize=0.9715229767080292, fit_prior=True, total=   0.4s\n",
      "[CV] alpha=0.532829463625472, binarize=0.23751076508188718, fit_prior=False \n",
      "[CV] alpha=0.532829463625472, binarize=0.23751076508188718, fit_prior=False \n",
      "[CV] alpha=0.532829463625472, binarize=0.23751076508188718, fit_prior=False \n"
     ]
    },
    {
     "name": "stderr",
     "output_type": "stream",
     "text": [
      "/scratch/clb617/anaconda3/lib/python3.6/site-packages/sklearn/metrics/classification.py:1135: UndefinedMetricWarning: F-score is ill-defined and being set to 0.0 in labels with no predicted samples.\n",
      "  'precision', 'predicted', average, warn_for)\n",
      "/scratch/clb617/anaconda3/lib/python3.6/site-packages/sklearn/metrics/classification.py:1135: UndefinedMetricWarning: F-score is ill-defined and being set to 0.0 in labels with no predicted samples.\n",
      "  'precision', 'predicted', average, warn_for)\n"
     ]
    },
    {
     "name": "stdout",
     "output_type": "stream",
     "text": [
      "[CV]  alpha=0.532829463625472, binarize=0.23751076508188718, fit_prior=False, total=   0.1s\n",
      "[CV]  alpha=0.532829463625472, binarize=0.23751076508188718, fit_prior=False, total=   0.1s\n",
      "[CV] alpha=0.532829463625472, binarize=0.23751076508188718, fit_prior=False \n",
      "[CV] alpha=0.532829463625472, binarize=0.23751076508188718, fit_prior=False \n"
     ]
    },
    {
     "name": "stderr",
     "output_type": "stream",
     "text": [
      "/scratch/clb617/anaconda3/lib/python3.6/site-packages/sklearn/metrics/classification.py:1135: UndefinedMetricWarning: F-score is ill-defined and being set to 0.0 in labels with no predicted samples.\n",
      "  'precision', 'predicted', average, warn_for)\n",
      "/scratch/clb617/anaconda3/lib/python3.6/site-packages/sklearn/metrics/classification.py:1135: UndefinedMetricWarning: F-score is ill-defined and being set to 0.0 in labels with no predicted samples.\n",
      "  'precision', 'predicted', average, warn_for)\n",
      "/scratch/clb617/anaconda3/lib/python3.6/site-packages/sklearn/metrics/classification.py:1135: UndefinedMetricWarning: F-score is ill-defined and being set to 0.0 in labels with no predicted samples.\n",
      "  'precision', 'predicted', average, warn_for)\n"
     ]
    },
    {
     "name": "stdout",
     "output_type": "stream",
     "text": [
      "[CV]  alpha=0.532829463625472, binarize=0.23751076508188718, fit_prior=False, total=   0.1s\n",
      "[CV]  alpha=0.532829463625472, binarize=0.23751076508188718, fit_prior=False, total=   0.1s\n",
      "[CV] alpha=0.532829463625472, binarize=0.23751076508188718, fit_prior=False \n"
     ]
    },
    {
     "name": "stderr",
     "output_type": "stream",
     "text": [
      "[Parallel(n_jobs=-1)]: Done 363 tasks      | elapsed:   12.5s\n"
     ]
    },
    {
     "name": "stdout",
     "output_type": "stream",
     "text": [
      "[CV] alpha=0.532829463625472, binarize=0.23751076508188718, fit_prior=False \n"
     ]
    },
    {
     "name": "stderr",
     "output_type": "stream",
     "text": [
      "/scratch/clb617/anaconda3/lib/python3.6/site-packages/sklearn/metrics/classification.py:1135: UndefinedMetricWarning: F-score is ill-defined and being set to 0.0 in labels with no predicted samples.\n",
      "  'precision', 'predicted', average, warn_for)\n"
     ]
    },
    {
     "name": "stdout",
     "output_type": "stream",
     "text": [
      "[CV] alpha=0.5288372603016356, binarize=0.14754085807019113, fit_prior=True \n"
     ]
    },
    {
     "name": "stderr",
     "output_type": "stream",
     "text": [
      "/scratch/clb617/anaconda3/lib/python3.6/site-packages/sklearn/metrics/classification.py:1135: UndefinedMetricWarning: F-score is ill-defined and being set to 0.0 in labels with no predicted samples.\n",
      "  'precision', 'predicted', average, warn_for)\n"
     ]
    },
    {
     "name": "stdout",
     "output_type": "stream",
     "text": [
      "[CV]  alpha=0.532829463625472, binarize=0.23751076508188718, fit_prior=False, total=   0.1s\n",
      "[CV] alpha=0.5288372603016356, binarize=0.14754085807019113, fit_prior=True \n"
     ]
    },
    {
     "name": "stderr",
     "output_type": "stream",
     "text": [
      "/scratch/clb617/anaconda3/lib/python3.6/site-packages/sklearn/metrics/classification.py:1135: UndefinedMetricWarning: F-score is ill-defined and being set to 0.0 in labels with no predicted samples.\n",
      "  'precision', 'predicted', average, warn_for)\n"
     ]
    },
    {
     "name": "stdout",
     "output_type": "stream",
     "text": [
      "[CV]  alpha=0.5288372603016356, binarize=0.14754085807019113, fit_prior=True, total=   0.0s\n",
      "[CV]  alpha=0.532829463625472, binarize=0.23751076508188718, fit_prior=False, total=   0.0s\n"
     ]
    },
    {
     "name": "stderr",
     "output_type": "stream",
     "text": [
      "/scratch/clb617/anaconda3/lib/python3.6/site-packages/sklearn/metrics/classification.py:1135: UndefinedMetricWarning: F-score is ill-defined and being set to 0.0 in labels with no predicted samples.\n",
      "  'precision', 'predicted', average, warn_for)\n"
     ]
    },
    {
     "name": "stdout",
     "output_type": "stream",
     "text": [
      "[CV]  alpha=0.5288372603016356, binarize=0.14754085807019113, fit_prior=True, total=   0.0s\n",
      "[CV]  alpha=0.532829463625472, binarize=0.23751076508188718, fit_prior=False, total=   0.2s\n",
      "[CV] alpha=0.5288372603016356, binarize=0.14754085807019113, fit_prior=True \n",
      "[CV] alpha=0.5288372603016356, binarize=0.14754085807019113, fit_prior=True \n",
      "[CV] alpha=0.5288372603016356, binarize=0.14754085807019113, fit_prior=True \n",
      "[CV] alpha=0.5288372603016356, binarize=0.14754085807019113, fit_prior=True \n"
     ]
    },
    {
     "name": "stderr",
     "output_type": "stream",
     "text": [
      "/scratch/clb617/anaconda3/lib/python3.6/site-packages/sklearn/metrics/classification.py:1135: UndefinedMetricWarning: F-score is ill-defined and being set to 0.0 in labels with no predicted samples.\n",
      "  'precision', 'predicted', average, warn_for)\n",
      "/scratch/clb617/anaconda3/lib/python3.6/site-packages/sklearn/metrics/classification.py:1135: UndefinedMetricWarning: F-score is ill-defined and being set to 0.0 in labels with no predicted samples.\n",
      "  'precision', 'predicted', average, warn_for)\n"
     ]
    },
    {
     "name": "stdout",
     "output_type": "stream",
     "text": [
      "[CV]  alpha=0.5288372603016356, binarize=0.14754085807019113, fit_prior=True, total=   0.0s\n",
      "[CV] alpha=0.5288372603016356, binarize=0.14754085807019113, fit_prior=True \n",
      "[CV] alpha=0.5288372603016356, binarize=0.14754085807019113, fit_prior=True \n"
     ]
    },
    {
     "name": "stderr",
     "output_type": "stream",
     "text": [
      "/scratch/clb617/anaconda3/lib/python3.6/site-packages/sklearn/metrics/classification.py:1135: UndefinedMetricWarning: F-score is ill-defined and being set to 0.0 in labels with no predicted samples.\n",
      "  'precision', 'predicted', average, warn_for)\n"
     ]
    },
    {
     "name": "stdout",
     "output_type": "stream",
     "text": [
      "[CV]  alpha=0.5288372603016356, binarize=0.14754085807019113, fit_prior=True, total=   0.1s\n"
     ]
    },
    {
     "name": "stderr",
     "output_type": "stream",
     "text": [
      "/scratch/clb617/anaconda3/lib/python3.6/site-packages/sklearn/metrics/classification.py:1135: UndefinedMetricWarning: F-score is ill-defined and being set to 0.0 in labels with no predicted samples.\n",
      "  'precision', 'predicted', average, warn_for)\n"
     ]
    },
    {
     "name": "stdout",
     "output_type": "stream",
     "text": [
      "[CV]  alpha=0.5288372603016356, binarize=0.14754085807019113, fit_prior=True, total=   0.1s\n"
     ]
    },
    {
     "name": "stderr",
     "output_type": "stream",
     "text": [
      "/scratch/clb617/anaconda3/lib/python3.6/site-packages/sklearn/metrics/classification.py:1135: UndefinedMetricWarning: F-score is ill-defined and being set to 0.0 in labels with no predicted samples.\n",
      "  'precision', 'predicted', average, warn_for)\n"
     ]
    },
    {
     "name": "stdout",
     "output_type": "stream",
     "text": [
      "[CV]  alpha=0.5288372603016356, binarize=0.14754085807019113, fit_prior=True, total=   0.0s\n",
      "[CV]  alpha=0.5288372603016356, binarize=0.14754085807019113, fit_prior=True, total=   0.0s\n",
      "[CV] alpha=0.5288372603016356, binarize=0.14754085807019113, fit_prior=True \n"
     ]
    },
    {
     "name": "stderr",
     "output_type": "stream",
     "text": [
      "/scratch/clb617/anaconda3/lib/python3.6/site-packages/sklearn/metrics/classification.py:1135: UndefinedMetricWarning: F-score is ill-defined and being set to 0.0 in labels with no predicted samples.\n",
      "  'precision', 'predicted', average, warn_for)\n"
     ]
    },
    {
     "name": "stdout",
     "output_type": "stream",
     "text": [
      "[CV] alpha=0.5288372603016356, binarize=0.14754085807019113, fit_prior=True \n"
     ]
    },
    {
     "name": "stderr",
     "output_type": "stream",
     "text": [
      "/scratch/clb617/anaconda3/lib/python3.6/site-packages/sklearn/metrics/classification.py:1135: UndefinedMetricWarning: F-score is ill-defined and being set to 0.0 in labels with no predicted samples.\n",
      "  'precision', 'predicted', average, warn_for)\n"
     ]
    },
    {
     "name": "stdout",
     "output_type": "stream",
     "text": [
      "[CV] alpha=0.23614920900201974, binarize=0.4297587303666679, fit_prior=False \n",
      "[CV] alpha=0.23614920900201974, binarize=0.4297587303666679, fit_prior=False \n",
      "[CV]  alpha=0.5288372603016356, binarize=0.14754085807019113, fit_prior=True, total=   0.0s\n"
     ]
    },
    {
     "name": "stderr",
     "output_type": "stream",
     "text": [
      "/scratch/clb617/anaconda3/lib/python3.6/site-packages/sklearn/metrics/classification.py:1135: UndefinedMetricWarning: F-score is ill-defined and being set to 0.0 in labels with no predicted samples.\n",
      "  'precision', 'predicted', average, warn_for)\n"
     ]
    },
    {
     "name": "stdout",
     "output_type": "stream",
     "text": [
      "[CV]  alpha=0.23614920900201974, binarize=0.4297587303666679, fit_prior=False, total=   0.0s\n",
      "[CV] alpha=0.23614920900201974, binarize=0.4297587303666679, fit_prior=False \n",
      "[CV] alpha=0.23614920900201974, binarize=0.4297587303666679, fit_prior=False \n"
     ]
    },
    {
     "name": "stderr",
     "output_type": "stream",
     "text": [
      "/scratch/clb617/anaconda3/lib/python3.6/site-packages/sklearn/metrics/classification.py:1135: UndefinedMetricWarning: F-score is ill-defined and being set to 0.0 in labels with no predicted samples.\n",
      "  'precision', 'predicted', average, warn_for)\n"
     ]
    },
    {
     "name": "stdout",
     "output_type": "stream",
     "text": [
      "[CV]  alpha=0.5288372603016356, binarize=0.14754085807019113, fit_prior=True, total=   0.1s\n",
      "[CV]  alpha=0.23614920900201974, binarize=0.4297587303666679, fit_prior=False, total=   0.0s\n"
     ]
    },
    {
     "name": "stderr",
     "output_type": "stream",
     "text": [
      "/scratch/clb617/anaconda3/lib/python3.6/site-packages/sklearn/metrics/classification.py:1135: UndefinedMetricWarning: F-score is ill-defined and being set to 0.0 in labels with no predicted samples.\n",
      "  'precision', 'predicted', average, warn_for)\n",
      "/scratch/clb617/anaconda3/lib/python3.6/site-packages/sklearn/metrics/classification.py:1135: UndefinedMetricWarning: F-score is ill-defined and being set to 0.0 in labels with no predicted samples.\n",
      "  'precision', 'predicted', average, warn_for)\n"
     ]
    },
    {
     "name": "stdout",
     "output_type": "stream",
     "text": [
      "[CV]  alpha=0.23614920900201974, binarize=0.4297587303666679, fit_prior=False, total=   0.1s\n",
      "[CV]  alpha=0.5288372603016356, binarize=0.14754085807019113, fit_prior=True, total=   0.4s\n"
     ]
    },
    {
     "name": "stderr",
     "output_type": "stream",
     "text": [
      "/scratch/clb617/anaconda3/lib/python3.6/site-packages/sklearn/metrics/classification.py:1135: UndefinedMetricWarning: F-score is ill-defined and being set to 0.0 in labels with no predicted samples.\n",
      "  'precision', 'predicted', average, warn_for)\n"
     ]
    },
    {
     "name": "stdout",
     "output_type": "stream",
     "text": [
      "[CV]  alpha=0.23614920900201974, binarize=0.4297587303666679, fit_prior=False, total=   0.2s\n",
      "[CV] alpha=0.23614920900201974, binarize=0.4297587303666679, fit_prior=False \n",
      "[CV] alpha=0.23614920900201974, binarize=0.4297587303666679, fit_prior=False \n"
     ]
    },
    {
     "name": "stderr",
     "output_type": "stream",
     "text": [
      "/scratch/clb617/anaconda3/lib/python3.6/site-packages/sklearn/metrics/classification.py:1135: UndefinedMetricWarning: F-score is ill-defined and being set to 0.0 in labels with no predicted samples.\n",
      "  'precision', 'predicted', average, warn_for)\n",
      "/scratch/clb617/anaconda3/lib/python3.6/site-packages/sklearn/metrics/classification.py:1135: UndefinedMetricWarning: F-score is ill-defined and being set to 0.0 in labels with no predicted samples.\n",
      "  'precision', 'predicted', average, warn_for)\n"
     ]
    },
    {
     "name": "stdout",
     "output_type": "stream",
     "text": [
      "[CV] alpha=0.23614920900201974, binarize=0.4297587303666679, fit_prior=False \n",
      "[CV]  alpha=0.23614920900201974, binarize=0.4297587303666679, fit_prior=False, total=   0.0s\n",
      "[CV] alpha=0.23614920900201974, binarize=0.4297587303666679, fit_prior=False \n",
      "[CV]  alpha=0.23614920900201974, binarize=0.4297587303666679, fit_prior=False, total=   0.0s\n",
      "[CV] alpha=0.23614920900201974, binarize=0.4297587303666679, fit_prior=False \n"
     ]
    },
    {
     "name": "stderr",
     "output_type": "stream",
     "text": [
      "/scratch/clb617/anaconda3/lib/python3.6/site-packages/sklearn/metrics/classification.py:1135: UndefinedMetricWarning: F-score is ill-defined and being set to 0.0 in labels with no predicted samples.\n",
      "  'precision', 'predicted', average, warn_for)\n",
      "/scratch/clb617/anaconda3/lib/python3.6/site-packages/sklearn/metrics/classification.py:1135: UndefinedMetricWarning: F-score is ill-defined and being set to 0.0 in labels with no predicted samples.\n",
      "  'precision', 'predicted', average, warn_for)\n",
      "/scratch/clb617/anaconda3/lib/python3.6/site-packages/sklearn/metrics/classification.py:1135: UndefinedMetricWarning: F-score is ill-defined and being set to 0.0 in labels with no predicted samples.\n",
      "  'precision', 'predicted', average, warn_for)\n"
     ]
    },
    {
     "name": "stdout",
     "output_type": "stream",
     "text": [
      "[CV] alpha=0.23614920900201974, binarize=0.4297587303666679, fit_prior=False \n",
      "[CV]  alpha=0.23614920900201974, binarize=0.4297587303666679, fit_prior=False, total=   0.1s\n",
      "[CV]  alpha=0.23614920900201974, binarize=0.4297587303666679, fit_prior=False, total=   0.0s\n",
      "[CV] alpha=0.9908912443422481, binarize=0.794839085082732, fit_prior=False \n",
      "[CV] alpha=0.9908912443422481, binarize=0.794839085082732, fit_prior=False \n",
      "[CV] alpha=0.9908912443422481, binarize=0.794839085082732, fit_prior=False \n",
      "[CV] alpha=0.9908912443422481, binarize=0.794839085082732, fit_prior=False \n"
     ]
    },
    {
     "name": "stderr",
     "output_type": "stream",
     "text": [
      "/scratch/clb617/anaconda3/lib/python3.6/site-packages/sklearn/metrics/classification.py:1135: UndefinedMetricWarning: F-score is ill-defined and being set to 0.0 in labels with no predicted samples.\n",
      "  'precision', 'predicted', average, warn_for)\n"
     ]
    },
    {
     "name": "stdout",
     "output_type": "stream",
     "text": [
      "[CV]  alpha=0.23614920900201974, binarize=0.4297587303666679, fit_prior=False, total=   0.1s\n"
     ]
    },
    {
     "name": "stderr",
     "output_type": "stream",
     "text": [
      "/scratch/clb617/anaconda3/lib/python3.6/site-packages/sklearn/metrics/classification.py:1135: UndefinedMetricWarning: F-score is ill-defined and being set to 0.0 in labels with no predicted samples.\n",
      "  'precision', 'predicted', average, warn_for)\n"
     ]
    },
    {
     "name": "stdout",
     "output_type": "stream",
     "text": [
      "[CV]  alpha=0.9908912443422481, binarize=0.794839085082732, fit_prior=False, total=   0.1s\n"
     ]
    },
    {
     "name": "stderr",
     "output_type": "stream",
     "text": [
      "/scratch/clb617/anaconda3/lib/python3.6/site-packages/sklearn/metrics/classification.py:1135: UndefinedMetricWarning: F-score is ill-defined and being set to 0.0 in labels with no predicted samples.\n",
      "  'precision', 'predicted', average, warn_for)\n"
     ]
    },
    {
     "name": "stdout",
     "output_type": "stream",
     "text": [
      "[CV]  alpha=0.9908912443422481, binarize=0.794839085082732, fit_prior=False, total=   0.0s\n"
     ]
    },
    {
     "name": "stderr",
     "output_type": "stream",
     "text": [
      "/scratch/clb617/anaconda3/lib/python3.6/site-packages/sklearn/metrics/classification.py:1135: UndefinedMetricWarning: F-score is ill-defined and being set to 0.0 in labels with no predicted samples.\n",
      "  'precision', 'predicted', average, warn_for)\n"
     ]
    },
    {
     "name": "stdout",
     "output_type": "stream",
     "text": [
      "[CV]  alpha=0.9908912443422481, binarize=0.794839085082732, fit_prior=False, total=   0.1s\n",
      "[CV] alpha=0.9908912443422481, binarize=0.794839085082732, fit_prior=False \n"
     ]
    },
    {
     "name": "stderr",
     "output_type": "stream",
     "text": [
      "/scratch/clb617/anaconda3/lib/python3.6/site-packages/sklearn/metrics/classification.py:1135: UndefinedMetricWarning: F-score is ill-defined and being set to 0.0 in labels with no predicted samples.\n",
      "  'precision', 'predicted', average, warn_for)\n"
     ]
    },
    {
     "name": "stdout",
     "output_type": "stream",
     "text": [
      "[CV]  alpha=0.23614920900201974, binarize=0.4297587303666679, fit_prior=False, total=   0.2s\n",
      "[CV] alpha=0.9908912443422481, binarize=0.794839085082732, fit_prior=False \n",
      "[CV]  alpha=0.9908912443422481, binarize=0.794839085082732, fit_prior=False, total=   0.1s\n"
     ]
    },
    {
     "name": "stderr",
     "output_type": "stream",
     "text": [
      "/scratch/clb617/anaconda3/lib/python3.6/site-packages/sklearn/metrics/classification.py:1135: UndefinedMetricWarning: F-score is ill-defined and being set to 0.0 in labels with no predicted samples.\n",
      "  'precision', 'predicted', average, warn_for)\n"
     ]
    },
    {
     "name": "stdout",
     "output_type": "stream",
     "text": [
      "[CV] alpha=0.9908912443422481, binarize=0.794839085082732, fit_prior=False \n"
     ]
    },
    {
     "name": "stderr",
     "output_type": "stream",
     "text": [
      "/scratch/clb617/anaconda3/lib/python3.6/site-packages/sklearn/metrics/classification.py:1135: UndefinedMetricWarning: F-score is ill-defined and being set to 0.0 in labels with no predicted samples.\n",
      "  'precision', 'predicted', average, warn_for)\n"
     ]
    },
    {
     "name": "stdout",
     "output_type": "stream",
     "text": [
      "[CV]  alpha=0.9908912443422481, binarize=0.794839085082732, fit_prior=False, total=   0.1s\n",
      "[CV] alpha=0.9908912443422481, binarize=0.794839085082732, fit_prior=False \n",
      "[CV] alpha=0.9908912443422481, binarize=0.794839085082732, fit_prior=False \n"
     ]
    },
    {
     "name": "stderr",
     "output_type": "stream",
     "text": [
      "/scratch/clb617/anaconda3/lib/python3.6/site-packages/sklearn/metrics/classification.py:1135: UndefinedMetricWarning: F-score is ill-defined and being set to 0.0 in labels with no predicted samples.\n",
      "  'precision', 'predicted', average, warn_for)\n"
     ]
    },
    {
     "name": "stdout",
     "output_type": "stream",
     "text": [
      "[CV]  alpha=0.9908912443422481, binarize=0.794839085082732, fit_prior=False, total=   0.1s\n"
     ]
    },
    {
     "name": "stderr",
     "output_type": "stream",
     "text": [
      "/scratch/clb617/anaconda3/lib/python3.6/site-packages/sklearn/metrics/classification.py:1135: UndefinedMetricWarning: F-score is ill-defined and being set to 0.0 in labels with no predicted samples.\n",
      "  'precision', 'predicted', average, warn_for)\n"
     ]
    },
    {
     "name": "stdout",
     "output_type": "stream",
     "text": [
      "[CV]  alpha=0.9908912443422481, binarize=0.794839085082732, fit_prior=False, total=   0.0s\n",
      "[CV] alpha=0.6836531055077686, binarize=0.027689715150536642, fit_prior=True \n",
      "[CV] alpha=0.9908912443422481, binarize=0.794839085082732, fit_prior=False \n",
      "[CV] alpha=0.6836531055077686, binarize=0.027689715150536642, fit_prior=True \n",
      "[CV]  alpha=0.9908912443422481, binarize=0.794839085082732, fit_prior=False, total=   0.1s\n"
     ]
    },
    {
     "name": "stderr",
     "output_type": "stream",
     "text": [
      "/scratch/clb617/anaconda3/lib/python3.6/site-packages/sklearn/metrics/classification.py:1135: UndefinedMetricWarning: F-score is ill-defined and being set to 0.0 in labels with no predicted samples.\n",
      "  'precision', 'predicted', average, warn_for)\n"
     ]
    },
    {
     "name": "stdout",
     "output_type": "stream",
     "text": [
      "[CV]  alpha=0.9908912443422481, binarize=0.794839085082732, fit_prior=False, total=   0.0s\n"
     ]
    },
    {
     "name": "stderr",
     "output_type": "stream",
     "text": [
      "/scratch/clb617/anaconda3/lib/python3.6/site-packages/sklearn/metrics/classification.py:1135: UndefinedMetricWarning: F-score is ill-defined and being set to 0.0 in labels with no predicted samples.\n",
      "  'precision', 'predicted', average, warn_for)\n"
     ]
    },
    {
     "name": "stdout",
     "output_type": "stream",
     "text": [
      "[CV]  alpha=0.6836531055077686, binarize=0.027689715150536642, fit_prior=True, total=   0.0s\n"
     ]
    },
    {
     "name": "stderr",
     "output_type": "stream",
     "text": [
      "/scratch/clb617/anaconda3/lib/python3.6/site-packages/sklearn/metrics/classification.py:1135: UndefinedMetricWarning: F-score is ill-defined and being set to 0.0 in labels with no predicted samples.\n",
      "  'precision', 'predicted', average, warn_for)\n"
     ]
    },
    {
     "name": "stdout",
     "output_type": "stream",
     "text": [
      "[CV]  alpha=0.6836531055077686, binarize=0.027689715150536642, fit_prior=True, total=   0.1s\n",
      "[CV] alpha=0.6836531055077686, binarize=0.027689715150536642, fit_prior=True \n",
      "[CV] alpha=0.6836531055077686, binarize=0.027689715150536642, fit_prior=True \n",
      "[CV] alpha=0.6836531055077686, binarize=0.027689715150536642, fit_prior=True \n"
     ]
    },
    {
     "name": "stderr",
     "output_type": "stream",
     "text": [
      "/scratch/clb617/anaconda3/lib/python3.6/site-packages/sklearn/metrics/classification.py:1135: UndefinedMetricWarning: F-score is ill-defined and being set to 0.0 in labels with no predicted samples.\n",
      "  'precision', 'predicted', average, warn_for)\n"
     ]
    },
    {
     "name": "stdout",
     "output_type": "stream",
     "text": [
      "[CV] alpha=0.6836531055077686, binarize=0.027689715150536642, fit_prior=True \n"
     ]
    },
    {
     "name": "stderr",
     "output_type": "stream",
     "text": [
      "/scratch/clb617/anaconda3/lib/python3.6/site-packages/sklearn/metrics/classification.py:1135: UndefinedMetricWarning: F-score is ill-defined and being set to 0.0 in labels with no predicted samples.\n",
      "  'precision', 'predicted', average, warn_for)\n",
      "/scratch/clb617/anaconda3/lib/python3.6/site-packages/sklearn/metrics/classification.py:1135: UndefinedMetricWarning: F-score is ill-defined and being set to 0.0 in labels with no predicted samples.\n",
      "  'precision', 'predicted', average, warn_for)\n"
     ]
    },
    {
     "name": "stdout",
     "output_type": "stream",
     "text": [
      "[CV] alpha=0.6836531055077686, binarize=0.027689715150536642, fit_prior=True \n",
      "[CV]  alpha=0.6836531055077686, binarize=0.027689715150536642, fit_prior=True, total=   0.1s\n",
      "[CV] alpha=0.6836531055077686, binarize=0.027689715150536642, fit_prior=True \n",
      "[CV]  alpha=0.9908912443422481, binarize=0.794839085082732, fit_prior=False, total=   0.3s\n",
      "[CV] alpha=0.6836531055077686, binarize=0.027689715150536642, fit_prior=True \n",
      "[CV]  alpha=0.6836531055077686, binarize=0.027689715150536642, fit_prior=True, total=   0.1s\n"
     ]
    },
    {
     "name": "stderr",
     "output_type": "stream",
     "text": [
      "/scratch/clb617/anaconda3/lib/python3.6/site-packages/sklearn/metrics/classification.py:1135: UndefinedMetricWarning: F-score is ill-defined and being set to 0.0 in labels with no predicted samples.\n",
      "  'precision', 'predicted', average, warn_for)\n",
      "/scratch/clb617/anaconda3/lib/python3.6/site-packages/sklearn/metrics/classification.py:1135: UndefinedMetricWarning: F-score is ill-defined and being set to 0.0 in labels with no predicted samples.\n",
      "  'precision', 'predicted', average, warn_for)\n"
     ]
    },
    {
     "name": "stdout",
     "output_type": "stream",
     "text": [
      "[CV]  alpha=0.6836531055077686, binarize=0.027689715150536642, fit_prior=True, total=   0.1s\n"
     ]
    },
    {
     "name": "stderr",
     "output_type": "stream",
     "text": [
      "/scratch/clb617/anaconda3/lib/python3.6/site-packages/sklearn/metrics/classification.py:1135: UndefinedMetricWarning: F-score is ill-defined and being set to 0.0 in labels with no predicted samples.\n",
      "  'precision', 'predicted', average, warn_for)\n"
     ]
    },
    {
     "name": "stdout",
     "output_type": "stream",
     "text": [
      "[CV]  alpha=0.6836531055077686, binarize=0.027689715150536642, fit_prior=True, total=   0.1s\n",
      "[CV]  alpha=0.6836531055077686, binarize=0.027689715150536642, fit_prior=True, total=   0.3s\n"
     ]
    },
    {
     "name": "stderr",
     "output_type": "stream",
     "text": [
      "/scratch/clb617/anaconda3/lib/python3.6/site-packages/sklearn/metrics/classification.py:1135: UndefinedMetricWarning: F-score is ill-defined and being set to 0.0 in labels with no predicted samples.\n",
      "  'precision', 'predicted', average, warn_for)\n"
     ]
    },
    {
     "name": "stdout",
     "output_type": "stream",
     "text": [
      "[CV] alpha=0.6836531055077686, binarize=0.027689715150536642, fit_prior=True \n",
      "[CV]  alpha=0.6836531055077686, binarize=0.027689715150536642, fit_prior=True, total=   0.1s\n"
     ]
    },
    {
     "name": "stderr",
     "output_type": "stream",
     "text": [
      "/scratch/clb617/anaconda3/lib/python3.6/site-packages/sklearn/metrics/classification.py:1135: UndefinedMetricWarning: F-score is ill-defined and being set to 0.0 in labels with no predicted samples.\n",
      "  'precision', 'predicted', average, warn_for)\n"
     ]
    },
    {
     "name": "stdout",
     "output_type": "stream",
     "text": [
      "[CV] alpha=0.7096072788271456, binarize=0.5235655302868023, fit_prior=False \n",
      "[CV] alpha=0.7096072788271456, binarize=0.5235655302868023, fit_prior=False \n",
      "[CV]  alpha=0.6836531055077686, binarize=0.027689715150536642, fit_prior=True, total=   0.2s\n"
     ]
    },
    {
     "name": "stderr",
     "output_type": "stream",
     "text": [
      "/scratch/clb617/anaconda3/lib/python3.6/site-packages/sklearn/metrics/classification.py:1135: UndefinedMetricWarning: F-score is ill-defined and being set to 0.0 in labels with no predicted samples.\n",
      "  'precision', 'predicted', average, warn_for)\n",
      "/scratch/clb617/anaconda3/lib/python3.6/site-packages/sklearn/metrics/classification.py:1135: UndefinedMetricWarning: F-score is ill-defined and being set to 0.0 in labels with no predicted samples.\n",
      "  'precision', 'predicted', average, warn_for)\n",
      "/scratch/clb617/anaconda3/lib/python3.6/site-packages/sklearn/metrics/classification.py:1135: UndefinedMetricWarning: F-score is ill-defined and being set to 0.0 in labels with no predicted samples.\n",
      "  'precision', 'predicted', average, warn_for)\n"
     ]
    },
    {
     "name": "stdout",
     "output_type": "stream",
     "text": [
      "[CV] alpha=0.7096072788271456, binarize=0.5235655302868023, fit_prior=False \n",
      "[CV] alpha=0.7096072788271456, binarize=0.5235655302868023, fit_prior=False \n",
      "[CV]  alpha=0.6836531055077686, binarize=0.027689715150536642, fit_prior=True, total=   0.1s\n"
     ]
    },
    {
     "name": "stderr",
     "output_type": "stream",
     "text": [
      "/scratch/clb617/anaconda3/lib/python3.6/site-packages/sklearn/metrics/classification.py:1135: UndefinedMetricWarning: F-score is ill-defined and being set to 0.0 in labels with no predicted samples.\n",
      "  'precision', 'predicted', average, warn_for)\n"
     ]
    },
    {
     "name": "stdout",
     "output_type": "stream",
     "text": [
      "[CV]  alpha=0.7096072788271456, binarize=0.5235655302868023, fit_prior=False, total=   0.0s\n",
      "[CV]  alpha=0.7096072788271456, binarize=0.5235655302868023, fit_prior=False, total=   0.1s\n",
      "[CV]  alpha=0.7096072788271456, binarize=0.5235655302868023, fit_prior=False, total=   0.1s\n"
     ]
    },
    {
     "name": "stderr",
     "output_type": "stream",
     "text": [
      "/scratch/clb617/anaconda3/lib/python3.6/site-packages/sklearn/metrics/classification.py:1135: UndefinedMetricWarning: F-score is ill-defined and being set to 0.0 in labels with no predicted samples.\n",
      "  'precision', 'predicted', average, warn_for)\n"
     ]
    },
    {
     "name": "stdout",
     "output_type": "stream",
     "text": [
      "[CV]  alpha=0.7096072788271456, binarize=0.5235655302868023, fit_prior=False, total=   0.1s\n",
      "[CV] alpha=0.7096072788271456, binarize=0.5235655302868023, fit_prior=False \n",
      "[CV] alpha=0.7096072788271456, binarize=0.5235655302868023, fit_prior=False \n",
      "[CV] alpha=0.7096072788271456, binarize=0.5235655302868023, fit_prior=False \n"
     ]
    },
    {
     "name": "stderr",
     "output_type": "stream",
     "text": [
      "/scratch/clb617/anaconda3/lib/python3.6/site-packages/sklearn/metrics/classification.py:1135: UndefinedMetricWarning: F-score is ill-defined and being set to 0.0 in labels with no predicted samples.\n",
      "  'precision', 'predicted', average, warn_for)\n",
      "/scratch/clb617/anaconda3/lib/python3.6/site-packages/sklearn/metrics/classification.py:1135: UndefinedMetricWarning: F-score is ill-defined and being set to 0.0 in labels with no predicted samples.\n",
      "  'precision', 'predicted', average, warn_for)\n"
     ]
    },
    {
     "name": "stdout",
     "output_type": "stream",
     "text": [
      "[CV]  alpha=0.7096072788271456, binarize=0.5235655302868023, fit_prior=False, total=   0.0s\n",
      "[CV]  alpha=0.7096072788271456, binarize=0.5235655302868023, fit_prior=False, total=   0.0s\n"
     ]
    },
    {
     "name": "stderr",
     "output_type": "stream",
     "text": [
      "/scratch/clb617/anaconda3/lib/python3.6/site-packages/sklearn/metrics/classification.py:1135: UndefinedMetricWarning: F-score is ill-defined and being set to 0.0 in labels with no predicted samples.\n",
      "  'precision', 'predicted', average, warn_for)\n"
     ]
    },
    {
     "name": "stdout",
     "output_type": "stream",
     "text": [
      "[CV] alpha=0.7096072788271456, binarize=0.5235655302868023, fit_prior=False \n",
      "[CV] alpha=0.7096072788271456, binarize=0.5235655302868023, fit_prior=False \n",
      "[CV]  alpha=0.7096072788271456, binarize=0.5235655302868023, fit_prior=False, total=   0.0s\n",
      "[CV] alpha=0.6136039054346656, binarize=0.4074782309536641, fit_prior=False \n",
      "[CV] alpha=0.7096072788271456, binarize=0.5235655302868023, fit_prior=False \n"
     ]
    },
    {
     "name": "stderr",
     "output_type": "stream",
     "text": [
      "/scratch/clb617/anaconda3/lib/python3.6/site-packages/sklearn/metrics/classification.py:1135: UndefinedMetricWarning: F-score is ill-defined and being set to 0.0 in labels with no predicted samples.\n",
      "  'precision', 'predicted', average, warn_for)\n"
     ]
    },
    {
     "name": "stdout",
     "output_type": "stream",
     "text": [
      "[CV]  alpha=0.7096072788271456, binarize=0.5235655302868023, fit_prior=False, total=   0.0s\n"
     ]
    },
    {
     "name": "stderr",
     "output_type": "stream",
     "text": [
      "/scratch/clb617/anaconda3/lib/python3.6/site-packages/sklearn/metrics/classification.py:1135: UndefinedMetricWarning: F-score is ill-defined and being set to 0.0 in labels with no predicted samples.\n",
      "  'precision', 'predicted', average, warn_for)\n",
      "/scratch/clb617/anaconda3/lib/python3.6/site-packages/sklearn/metrics/classification.py:1135: UndefinedMetricWarning: F-score is ill-defined and being set to 0.0 in labels with no predicted samples.\n",
      "  'precision', 'predicted', average, warn_for)\n",
      "/scratch/clb617/anaconda3/lib/python3.6/site-packages/sklearn/metrics/classification.py:1135: UndefinedMetricWarning: F-score is ill-defined and being set to 0.0 in labels with no predicted samples.\n",
      "  'precision', 'predicted', average, warn_for)\n"
     ]
    },
    {
     "name": "stdout",
     "output_type": "stream",
     "text": [
      "[CV]  alpha=0.7096072788271456, binarize=0.5235655302868023, fit_prior=False, total=   0.1s\n",
      "[CV]  alpha=0.7096072788271456, binarize=0.5235655302868023, fit_prior=False, total=   0.1s\n",
      "[CV]  alpha=0.6136039054346656, binarize=0.4074782309536641, fit_prior=False, total=   0.1s\n",
      "[CV] alpha=0.6136039054346656, binarize=0.4074782309536641, fit_prior=False \n"
     ]
    },
    {
     "name": "stderr",
     "output_type": "stream",
     "text": [
      "/scratch/clb617/anaconda3/lib/python3.6/site-packages/sklearn/metrics/classification.py:1135: UndefinedMetricWarning: F-score is ill-defined and being set to 0.0 in labels with no predicted samples.\n",
      "  'precision', 'predicted', average, warn_for)\n"
     ]
    },
    {
     "name": "stdout",
     "output_type": "stream",
     "text": [
      "[CV] alpha=0.6136039054346656, binarize=0.4074782309536641, fit_prior=False \n",
      "[CV] alpha=0.6136039054346656, binarize=0.4074782309536641, fit_prior=False \n"
     ]
    },
    {
     "name": "stderr",
     "output_type": "stream",
     "text": [
      "/scratch/clb617/anaconda3/lib/python3.6/site-packages/sklearn/metrics/classification.py:1135: UndefinedMetricWarning: F-score is ill-defined and being set to 0.0 in labels with no predicted samples.\n",
      "  'precision', 'predicted', average, warn_for)\n",
      "/scratch/clb617/anaconda3/lib/python3.6/site-packages/sklearn/metrics/classification.py:1135: UndefinedMetricWarning: F-score is ill-defined and being set to 0.0 in labels with no predicted samples.\n",
      "  'precision', 'predicted', average, warn_for)\n"
     ]
    },
    {
     "name": "stdout",
     "output_type": "stream",
     "text": [
      "[CV]  alpha=0.6136039054346656, binarize=0.4074782309536641, fit_prior=False, total=   0.1s\n",
      "[CV]  alpha=0.6136039054346656, binarize=0.4074782309536641, fit_prior=False, total=   0.1s\n",
      "[CV]  alpha=0.6136039054346656, binarize=0.4074782309536641, fit_prior=False, total=   0.0s\n",
      "[CV] alpha=0.6136039054346656, binarize=0.4074782309536641, fit_prior=False \n",
      "[CV] alpha=0.6136039054346656, binarize=0.4074782309536641, fit_prior=False \n",
      "[CV] alpha=0.6136039054346656, binarize=0.4074782309536641, fit_prior=False \n"
     ]
    },
    {
     "name": "stderr",
     "output_type": "stream",
     "text": [
      "/scratch/clb617/anaconda3/lib/python3.6/site-packages/sklearn/metrics/classification.py:1135: UndefinedMetricWarning: F-score is ill-defined and being set to 0.0 in labels with no predicted samples.\n",
      "  'precision', 'predicted', average, warn_for)\n",
      "/scratch/clb617/anaconda3/lib/python3.6/site-packages/sklearn/metrics/classification.py:1135: UndefinedMetricWarning: F-score is ill-defined and being set to 0.0 in labels with no predicted samples.\n",
      "  'precision', 'predicted', average, warn_for)\n"
     ]
    },
    {
     "name": "stdout",
     "output_type": "stream",
     "text": [
      "[CV]  alpha=0.6136039054346656, binarize=0.4074782309536641, fit_prior=False, total=   0.0s\n"
     ]
    },
    {
     "name": "stderr",
     "output_type": "stream",
     "text": [
      "/scratch/clb617/anaconda3/lib/python3.6/site-packages/sklearn/metrics/classification.py:1135: UndefinedMetricWarning: F-score is ill-defined and being set to 0.0 in labels with no predicted samples.\n",
      "  'precision', 'predicted', average, warn_for)\n"
     ]
    },
    {
     "name": "stdout",
     "output_type": "stream",
     "text": [
      "[CV]  alpha=0.6136039054346656, binarize=0.4074782309536641, fit_prior=False, total=   0.0s\n",
      "[CV] alpha=0.6136039054346656, binarize=0.4074782309536641, fit_prior=False \n",
      "[CV]  alpha=0.6136039054346656, binarize=0.4074782309536641, fit_prior=False, total=   0.1s\n",
      "[CV] alpha=0.6136039054346656, binarize=0.4074782309536641, fit_prior=False \n",
      "[CV] alpha=0.6136039054346656, binarize=0.4074782309536641, fit_prior=False \n",
      "[CV] alpha=0.012865669971941274, binarize=0.6303148291660114, fit_prior=True \n"
     ]
    },
    {
     "name": "stderr",
     "output_type": "stream",
     "text": [
      "/scratch/clb617/anaconda3/lib/python3.6/site-packages/sklearn/metrics/classification.py:1135: UndefinedMetricWarning: F-score is ill-defined and being set to 0.0 in labels with no predicted samples.\n",
      "  'precision', 'predicted', average, warn_for)\n"
     ]
    },
    {
     "name": "stdout",
     "output_type": "stream",
     "text": [
      "[CV]  alpha=0.6136039054346656, binarize=0.4074782309536641, fit_prior=False, total=   0.0s\n"
     ]
    },
    {
     "name": "stderr",
     "output_type": "stream",
     "text": [
      "/scratch/clb617/anaconda3/lib/python3.6/site-packages/sklearn/metrics/classification.py:1135: UndefinedMetricWarning: F-score is ill-defined and being set to 0.0 in labels with no predicted samples.\n",
      "  'precision', 'predicted', average, warn_for)\n",
      "/scratch/clb617/anaconda3/lib/python3.6/site-packages/sklearn/metrics/classification.py:1135: UndefinedMetricWarning: F-score is ill-defined and being set to 0.0 in labels with no predicted samples.\n",
      "  'precision', 'predicted', average, warn_for)\n"
     ]
    },
    {
     "name": "stdout",
     "output_type": "stream",
     "text": [
      "[CV]  alpha=0.012865669971941274, binarize=0.6303148291660114, fit_prior=True, total=   0.0s\n",
      "[CV]  alpha=0.6136039054346656, binarize=0.4074782309536641, fit_prior=False, total=   0.1s\n",
      "[CV] alpha=0.012865669971941274, binarize=0.6303148291660114, fit_prior=True \n"
     ]
    },
    {
     "name": "stderr",
     "output_type": "stream",
     "text": [
      "/scratch/clb617/anaconda3/lib/python3.6/site-packages/sklearn/metrics/classification.py:1135: UndefinedMetricWarning: F-score is ill-defined and being set to 0.0 in labels with no predicted samples.\n",
      "  'precision', 'predicted', average, warn_for)\n"
     ]
    },
    {
     "name": "stdout",
     "output_type": "stream",
     "text": [
      "[CV]  alpha=0.6136039054346656, binarize=0.4074782309536641, fit_prior=False, total=   0.2s\n"
     ]
    },
    {
     "name": "stderr",
     "output_type": "stream",
     "text": [
      "/scratch/clb617/anaconda3/lib/python3.6/site-packages/sklearn/metrics/classification.py:1135: UndefinedMetricWarning: F-score is ill-defined and being set to 0.0 in labels with no predicted samples.\n",
      "  'precision', 'predicted', average, warn_for)\n"
     ]
    },
    {
     "name": "stdout",
     "output_type": "stream",
     "text": [
      "[CV]  alpha=0.012865669971941274, binarize=0.6303148291660114, fit_prior=True, total=   0.1s\n",
      "[CV] alpha=0.012865669971941274, binarize=0.6303148291660114, fit_prior=True \n",
      "[CV] alpha=0.012865669971941274, binarize=0.6303148291660114, fit_prior=True \n"
     ]
    },
    {
     "name": "stderr",
     "output_type": "stream",
     "text": [
      "/scratch/clb617/anaconda3/lib/python3.6/site-packages/sklearn/metrics/classification.py:1135: UndefinedMetricWarning: F-score is ill-defined and being set to 0.0 in labels with no predicted samples.\n",
      "  'precision', 'predicted', average, warn_for)\n",
      "/scratch/clb617/anaconda3/lib/python3.6/site-packages/sklearn/metrics/classification.py:1135: UndefinedMetricWarning: F-score is ill-defined and being set to 0.0 in labels with no predicted samples.\n",
      "  'precision', 'predicted', average, warn_for)\n"
     ]
    },
    {
     "name": "stdout",
     "output_type": "stream",
     "text": [
      "[CV]  alpha=0.012865669971941274, binarize=0.6303148291660114, fit_prior=True, total=   0.0s\n",
      "[CV]  alpha=0.012865669971941274, binarize=0.6303148291660114, fit_prior=True, total=   0.0s\n",
      "[CV] alpha=0.012865669971941274, binarize=0.6303148291660114, fit_prior=True \n",
      "[CV] alpha=0.012865669971941274, binarize=0.6303148291660114, fit_prior=True \n"
     ]
    },
    {
     "name": "stderr",
     "output_type": "stream",
     "text": [
      "/scratch/clb617/anaconda3/lib/python3.6/site-packages/sklearn/metrics/classification.py:1135: UndefinedMetricWarning: F-score is ill-defined and being set to 0.0 in labels with no predicted samples.\n",
      "  'precision', 'predicted', average, warn_for)\n"
     ]
    },
    {
     "name": "stdout",
     "output_type": "stream",
     "text": [
      "[CV]  alpha=0.012865669971941274, binarize=0.6303148291660114, fit_prior=True, total=   0.0s\n",
      "[CV] alpha=0.012865669971941274, binarize=0.6303148291660114, fit_prior=True \n"
     ]
    },
    {
     "name": "stderr",
     "output_type": "stream",
     "text": [
      "/scratch/clb617/anaconda3/lib/python3.6/site-packages/sklearn/metrics/classification.py:1135: UndefinedMetricWarning: F-score is ill-defined and being set to 0.0 in labels with no predicted samples.\n",
      "  'precision', 'predicted', average, warn_for)\n"
     ]
    },
    {
     "name": "stdout",
     "output_type": "stream",
     "text": [
      "[CV] alpha=0.012865669971941274, binarize=0.6303148291660114, fit_prior=True \n",
      "[CV]  alpha=0.012865669971941274, binarize=0.6303148291660114, fit_prior=True, total=   0.0s\n"
     ]
    },
    {
     "name": "stderr",
     "output_type": "stream",
     "text": [
      "/scratch/clb617/anaconda3/lib/python3.6/site-packages/sklearn/metrics/classification.py:1135: UndefinedMetricWarning: F-score is ill-defined and being set to 0.0 in labels with no predicted samples.\n",
      "  'precision', 'predicted', average, warn_for)\n"
     ]
    },
    {
     "name": "stdout",
     "output_type": "stream",
     "text": [
      "[CV]  alpha=0.012865669971941274, binarize=0.6303148291660114, fit_prior=True, total=   0.0s\n"
     ]
    },
    {
     "name": "stderr",
     "output_type": "stream",
     "text": [
      "/scratch/clb617/anaconda3/lib/python3.6/site-packages/sklearn/metrics/classification.py:1135: UndefinedMetricWarning: F-score is ill-defined and being set to 0.0 in labels with no predicted samples.\n",
      "  'precision', 'predicted', average, warn_for)\n"
     ]
    },
    {
     "name": "stdout",
     "output_type": "stream",
     "text": [
      "[CV] alpha=0.012865669971941274, binarize=0.6303148291660114, fit_prior=True \n",
      "[CV] alpha=0.012865669971941274, binarize=0.6303148291660114, fit_prior=True \n",
      "[CV]  alpha=0.012865669971941274, binarize=0.6303148291660114, fit_prior=True, total=   0.2s\n",
      "[CV] alpha=0.3901675101394959, binarize=0.6989567892428236, fit_prior=False \n",
      "[CV] alpha=0.3901675101394959, binarize=0.6989567892428236, fit_prior=False \n"
     ]
    },
    {
     "name": "stderr",
     "output_type": "stream",
     "text": [
      "/scratch/clb617/anaconda3/lib/python3.6/site-packages/sklearn/metrics/classification.py:1135: UndefinedMetricWarning: F-score is ill-defined and being set to 0.0 in labels with no predicted samples.\n",
      "  'precision', 'predicted', average, warn_for)\n"
     ]
    },
    {
     "name": "stdout",
     "output_type": "stream",
     "text": [
      "[CV]  alpha=0.3901675101394959, binarize=0.6989567892428236, fit_prior=False, total=   0.0s\n"
     ]
    },
    {
     "name": "stderr",
     "output_type": "stream",
     "text": [
      "/scratch/clb617/anaconda3/lib/python3.6/site-packages/sklearn/metrics/classification.py:1135: UndefinedMetricWarning: F-score is ill-defined and being set to 0.0 in labels with no predicted samples.\n",
      "  'precision', 'predicted', average, warn_for)\n"
     ]
    },
    {
     "name": "stdout",
     "output_type": "stream",
     "text": [
      "[CV] alpha=0.3901675101394959, binarize=0.6989567892428236, fit_prior=False \n",
      "[CV] alpha=0.3901675101394959, binarize=0.6989567892428236, fit_prior=False \n"
     ]
    },
    {
     "name": "stderr",
     "output_type": "stream",
     "text": [
      "/scratch/clb617/anaconda3/lib/python3.6/site-packages/sklearn/metrics/classification.py:1135: UndefinedMetricWarning: F-score is ill-defined and being set to 0.0 in labels with no predicted samples.\n",
      "  'precision', 'predicted', average, warn_for)\n"
     ]
    },
    {
     "name": "stdout",
     "output_type": "stream",
     "text": [
      "[CV]  alpha=0.3901675101394959, binarize=0.6989567892428236, fit_prior=False, total=   0.0s\n",
      "[CV]  alpha=0.012865669971941274, binarize=0.6303148291660114, fit_prior=True, total=   0.1s\n"
     ]
    },
    {
     "name": "stderr",
     "output_type": "stream",
     "text": [
      "/scratch/clb617/anaconda3/lib/python3.6/site-packages/sklearn/metrics/classification.py:1135: UndefinedMetricWarning: F-score is ill-defined and being set to 0.0 in labels with no predicted samples.\n",
      "  'precision', 'predicted', average, warn_for)\n"
     ]
    },
    {
     "name": "stdout",
     "output_type": "stream",
     "text": [
      "[CV]  alpha=0.3901675101394959, binarize=0.6989567892428236, fit_prior=False, total=   0.0s\n"
     ]
    },
    {
     "name": "stderr",
     "output_type": "stream",
     "text": [
      "/scratch/clb617/anaconda3/lib/python3.6/site-packages/sklearn/metrics/classification.py:1135: UndefinedMetricWarning: F-score is ill-defined and being set to 0.0 in labels with no predicted samples.\n",
      "  'precision', 'predicted', average, warn_for)\n"
     ]
    },
    {
     "name": "stdout",
     "output_type": "stream",
     "text": [
      "[CV]  alpha=0.012865669971941274, binarize=0.6303148291660114, fit_prior=True, total=   0.2s\n",
      "[CV] alpha=0.3901675101394959, binarize=0.6989567892428236, fit_prior=False \n",
      "[CV]  alpha=0.3901675101394959, binarize=0.6989567892428236, fit_prior=False, total=   0.1s\n"
     ]
    },
    {
     "name": "stderr",
     "output_type": "stream",
     "text": [
      "/scratch/clb617/anaconda3/lib/python3.6/site-packages/sklearn/metrics/classification.py:1135: UndefinedMetricWarning: F-score is ill-defined and being set to 0.0 in labels with no predicted samples.\n",
      "  'precision', 'predicted', average, warn_for)\n",
      "/scratch/clb617/anaconda3/lib/python3.6/site-packages/sklearn/metrics/classification.py:1135: UndefinedMetricWarning: F-score is ill-defined and being set to 0.0 in labels with no predicted samples.\n",
      "  'precision', 'predicted', average, warn_for)\n"
     ]
    },
    {
     "name": "stdout",
     "output_type": "stream",
     "text": [
      "[CV]  alpha=0.3901675101394959, binarize=0.6989567892428236, fit_prior=False, total=   0.0s\n",
      "[CV] alpha=0.3901675101394959, binarize=0.6989567892428236, fit_prior=False \n",
      "[CV] alpha=0.3901675101394959, binarize=0.6989567892428236, fit_prior=False \n",
      "[CV] alpha=0.3901675101394959, binarize=0.6989567892428236, fit_prior=False \n"
     ]
    },
    {
     "name": "stderr",
     "output_type": "stream",
     "text": [
      "/scratch/clb617/anaconda3/lib/python3.6/site-packages/sklearn/metrics/classification.py:1135: UndefinedMetricWarning: F-score is ill-defined and being set to 0.0 in labels with no predicted samples.\n",
      "  'precision', 'predicted', average, warn_for)\n"
     ]
    },
    {
     "name": "stdout",
     "output_type": "stream",
     "text": [
      "[CV]  alpha=0.3901675101394959, binarize=0.6989567892428236, fit_prior=False, total=   0.0s\n",
      "[CV] alpha=0.3901675101394959, binarize=0.6989567892428236, fit_prior=False \n"
     ]
    },
    {
     "name": "stderr",
     "output_type": "stream",
     "text": [
      "/scratch/clb617/anaconda3/lib/python3.6/site-packages/sklearn/metrics/classification.py:1135: UndefinedMetricWarning: F-score is ill-defined and being set to 0.0 in labels with no predicted samples.\n",
      "  'precision', 'predicted', average, warn_for)\n"
     ]
    },
    {
     "name": "stdout",
     "output_type": "stream",
     "text": [
      "[CV]  alpha=0.3901675101394959, binarize=0.6989567892428236, fit_prior=False, total=   0.0s\n",
      "[CV] alpha=0.3901675101394959, binarize=0.6989567892428236, fit_prior=False \n",
      "[CV] alpha=0.2214513348931454, binarize=0.3899698506976782, fit_prior=True \n"
     ]
    },
    {
     "name": "stderr",
     "output_type": "stream",
     "text": [
      "/scratch/clb617/anaconda3/lib/python3.6/site-packages/sklearn/metrics/classification.py:1135: UndefinedMetricWarning: F-score is ill-defined and being set to 0.0 in labels with no predicted samples.\n",
      "  'precision', 'predicted', average, warn_for)\n",
      "/scratch/clb617/anaconda3/lib/python3.6/site-packages/sklearn/metrics/classification.py:1135: UndefinedMetricWarning: F-score is ill-defined and being set to 0.0 in labels with no predicted samples.\n",
      "  'precision', 'predicted', average, warn_for)\n"
     ]
    },
    {
     "name": "stdout",
     "output_type": "stream",
     "text": [
      "[CV]  alpha=0.2214513348931454, binarize=0.3899698506976782, fit_prior=True, total=   0.0s\n"
     ]
    },
    {
     "name": "stderr",
     "output_type": "stream",
     "text": [
      "/scratch/clb617/anaconda3/lib/python3.6/site-packages/sklearn/metrics/classification.py:1135: UndefinedMetricWarning: F-score is ill-defined and being set to 0.0 in labels with no predicted samples.\n",
      "  'precision', 'predicted', average, warn_for)\n"
     ]
    },
    {
     "name": "stdout",
     "output_type": "stream",
     "text": [
      "[CV] alpha=0.2214513348931454, binarize=0.3899698506976782, fit_prior=True \n"
     ]
    },
    {
     "name": "stderr",
     "output_type": "stream",
     "text": [
      "/scratch/clb617/anaconda3/lib/python3.6/site-packages/sklearn/metrics/classification.py:1135: UndefinedMetricWarning: F-score is ill-defined and being set to 0.0 in labels with no predicted samples.\n",
      "  'precision', 'predicted', average, warn_for)\n"
     ]
    },
    {
     "name": "stdout",
     "output_type": "stream",
     "text": [
      "[CV]  alpha=0.3901675101394959, binarize=0.6989567892428236, fit_prior=False, total=   0.1s\n",
      "[CV] alpha=0.2214513348931454, binarize=0.3899698506976782, fit_prior=True \n"
     ]
    },
    {
     "name": "stderr",
     "output_type": "stream",
     "text": [
      "/scratch/clb617/anaconda3/lib/python3.6/site-packages/sklearn/metrics/classification.py:1135: UndefinedMetricWarning: F-score is ill-defined and being set to 0.0 in labels with no predicted samples.\n",
      "  'precision', 'predicted', average, warn_for)\n",
      "/scratch/clb617/anaconda3/lib/python3.6/site-packages/sklearn/metrics/classification.py:1135: UndefinedMetricWarning: F-score is ill-defined and being set to 0.0 in labels with no predicted samples.\n",
      "  'precision', 'predicted', average, warn_for)\n"
     ]
    },
    {
     "name": "stdout",
     "output_type": "stream",
     "text": [
      "[CV]  alpha=0.3901675101394959, binarize=0.6989567892428236, fit_prior=False, total=   0.1s\n",
      "[CV]  alpha=0.2214513348931454, binarize=0.3899698506976782, fit_prior=True, total=   0.0s\n",
      "[CV]  alpha=0.2214513348931454, binarize=0.3899698506976782, fit_prior=True, total=   0.1s\n",
      "[CV] alpha=0.2214513348931454, binarize=0.3899698506976782, fit_prior=True \n",
      "[CV]  alpha=0.3901675101394959, binarize=0.6989567892428236, fit_prior=False, total=   0.2s\n"
     ]
    },
    {
     "name": "stderr",
     "output_type": "stream",
     "text": [
      "/scratch/clb617/anaconda3/lib/python3.6/site-packages/sklearn/metrics/classification.py:1135: UndefinedMetricWarning: F-score is ill-defined and being set to 0.0 in labels with no predicted samples.\n",
      "  'precision', 'predicted', average, warn_for)\n"
     ]
    },
    {
     "name": "stdout",
     "output_type": "stream",
     "text": [
      "[CV] alpha=0.2214513348931454, binarize=0.3899698506976782, fit_prior=True \n",
      "[CV]  alpha=0.2214513348931454, binarize=0.3899698506976782, fit_prior=True, total=   0.0s\n"
     ]
    },
    {
     "name": "stderr",
     "output_type": "stream",
     "text": [
      "/scratch/clb617/anaconda3/lib/python3.6/site-packages/sklearn/metrics/classification.py:1135: UndefinedMetricWarning: F-score is ill-defined and being set to 0.0 in labels with no predicted samples.\n",
      "  'precision', 'predicted', average, warn_for)\n"
     ]
    },
    {
     "name": "stdout",
     "output_type": "stream",
     "text": [
      "[CV] alpha=0.2214513348931454, binarize=0.3899698506976782, fit_prior=True \n",
      "[CV] alpha=0.2214513348931454, binarize=0.3899698506976782, fit_prior=True \n"
     ]
    },
    {
     "name": "stderr",
     "output_type": "stream",
     "text": [
      "/scratch/clb617/anaconda3/lib/python3.6/site-packages/sklearn/metrics/classification.py:1135: UndefinedMetricWarning: F-score is ill-defined and being set to 0.0 in labels with no predicted samples.\n",
      "  'precision', 'predicted', average, warn_for)\n",
      "/scratch/clb617/anaconda3/lib/python3.6/site-packages/sklearn/metrics/classification.py:1135: UndefinedMetricWarning: F-score is ill-defined and being set to 0.0 in labels with no predicted samples.\n",
      "  'precision', 'predicted', average, warn_for)\n"
     ]
    },
    {
     "name": "stdout",
     "output_type": "stream",
     "text": [
      "[CV]  alpha=0.2214513348931454, binarize=0.3899698506976782, fit_prior=True, total=   0.0s\n",
      "[CV]  alpha=0.2214513348931454, binarize=0.3899698506976782, fit_prior=True, total=   0.0s\n",
      "[CV] alpha=0.2214513348931454, binarize=0.3899698506976782, fit_prior=True \n",
      "[CV]  alpha=0.2214513348931454, binarize=0.3899698506976782, fit_prior=True, total=   0.0s\n",
      "[CV] alpha=0.2214513348931454, binarize=0.3899698506976782, fit_prior=True \n"
     ]
    },
    {
     "name": "stderr",
     "output_type": "stream",
     "text": [
      "/scratch/clb617/anaconda3/lib/python3.6/site-packages/sklearn/metrics/classification.py:1135: UndefinedMetricWarning: F-score is ill-defined and being set to 0.0 in labels with no predicted samples.\n",
      "  'precision', 'predicted', average, warn_for)\n"
     ]
    },
    {
     "name": "stdout",
     "output_type": "stream",
     "text": [
      "[CV]  alpha=0.2214513348931454, binarize=0.3899698506976782, fit_prior=True, total=   0.0s\n",
      "[CV] alpha=0.2214513348931454, binarize=0.3899698506976782, fit_prior=True \n",
      "[CV] alpha=0.4847588479510103, binarize=0.04823509856147579, fit_prior=True \n"
     ]
    },
    {
     "name": "stderr",
     "output_type": "stream",
     "text": [
      "/scratch/clb617/anaconda3/lib/python3.6/site-packages/sklearn/metrics/classification.py:1135: UndefinedMetricWarning: F-score is ill-defined and being set to 0.0 in labels with no predicted samples.\n",
      "  'precision', 'predicted', average, warn_for)\n"
     ]
    },
    {
     "name": "stdout",
     "output_type": "stream",
     "text": [
      "[CV] alpha=0.4847588479510103, binarize=0.04823509856147579, fit_prior=True \n",
      "[CV]  alpha=0.2214513348931454, binarize=0.3899698506976782, fit_prior=True, total=   0.1s\n"
     ]
    },
    {
     "name": "stderr",
     "output_type": "stream",
     "text": [
      "/scratch/clb617/anaconda3/lib/python3.6/site-packages/sklearn/metrics/classification.py:1135: UndefinedMetricWarning: F-score is ill-defined and being set to 0.0 in labels with no predicted samples.\n",
      "  'precision', 'predicted', average, warn_for)\n"
     ]
    },
    {
     "name": "stdout",
     "output_type": "stream",
     "text": [
      "[CV] alpha=0.4847588479510103, binarize=0.04823509856147579, fit_prior=True \n",
      "[CV] alpha=0.4847588479510103, binarize=0.04823509856147579, fit_prior=True \n"
     ]
    },
    {
     "name": "stderr",
     "output_type": "stream",
     "text": [
      "/scratch/clb617/anaconda3/lib/python3.6/site-packages/sklearn/metrics/classification.py:1135: UndefinedMetricWarning: F-score is ill-defined and being set to 0.0 in labels with no predicted samples.\n",
      "  'precision', 'predicted', average, warn_for)\n"
     ]
    },
    {
     "name": "stdout",
     "output_type": "stream",
     "text": [
      "[CV]  alpha=0.2214513348931454, binarize=0.3899698506976782, fit_prior=True, total=   0.1s\n"
     ]
    },
    {
     "name": "stderr",
     "output_type": "stream",
     "text": [
      "/scratch/clb617/anaconda3/lib/python3.6/site-packages/sklearn/metrics/classification.py:1135: UndefinedMetricWarning: F-score is ill-defined and being set to 0.0 in labels with no predicted samples.\n",
      "  'precision', 'predicted', average, warn_for)\n",
      "/scratch/clb617/anaconda3/lib/python3.6/site-packages/sklearn/metrics/classification.py:1135: UndefinedMetricWarning: F-score is ill-defined and being set to 0.0 in labels with no predicted samples.\n",
      "  'precision', 'predicted', average, warn_for)\n"
     ]
    },
    {
     "name": "stdout",
     "output_type": "stream",
     "text": [
      "[CV]  alpha=0.4847588479510103, binarize=0.04823509856147579, fit_prior=True, total=   0.0s\n",
      "[CV]  alpha=0.4847588479510103, binarize=0.04823509856147579, fit_prior=True, total=   0.0s\n"
     ]
    },
    {
     "name": "stderr",
     "output_type": "stream",
     "text": [
      "/scratch/clb617/anaconda3/lib/python3.6/site-packages/sklearn/metrics/classification.py:1135: UndefinedMetricWarning: F-score is ill-defined and being set to 0.0 in labels with no predicted samples.\n",
      "  'precision', 'predicted', average, warn_for)\n"
     ]
    },
    {
     "name": "stdout",
     "output_type": "stream",
     "text": [
      "[CV]  alpha=0.4847588479510103, binarize=0.04823509856147579, fit_prior=True, total=   0.2s\n",
      "[CV] alpha=0.4847588479510103, binarize=0.04823509856147579, fit_prior=True \n",
      "[CV]  alpha=0.4847588479510103, binarize=0.04823509856147579, fit_prior=True, total=   0.1s\n",
      "[CV] alpha=0.4847588479510103, binarize=0.04823509856147579, fit_prior=True \n",
      "[CV] alpha=0.4847588479510103, binarize=0.04823509856147579, fit_prior=True \n"
     ]
    },
    {
     "name": "stderr",
     "output_type": "stream",
     "text": [
      "/scratch/clb617/anaconda3/lib/python3.6/site-packages/sklearn/metrics/classification.py:1135: UndefinedMetricWarning: F-score is ill-defined and being set to 0.0 in labels with no predicted samples.\n",
      "  'precision', 'predicted', average, warn_for)\n"
     ]
    },
    {
     "name": "stdout",
     "output_type": "stream",
     "text": [
      "[CV] alpha=0.4847588479510103, binarize=0.04823509856147579, fit_prior=True \n"
     ]
    },
    {
     "name": "stderr",
     "output_type": "stream",
     "text": [
      "/scratch/clb617/anaconda3/lib/python3.6/site-packages/sklearn/metrics/classification.py:1135: UndefinedMetricWarning: F-score is ill-defined and being set to 0.0 in labels with no predicted samples.\n",
      "  'precision', 'predicted', average, warn_for)\n",
      "/scratch/clb617/anaconda3/lib/python3.6/site-packages/sklearn/metrics/classification.py:1135: UndefinedMetricWarning: F-score is ill-defined and being set to 0.0 in labels with no predicted samples.\n",
      "  'precision', 'predicted', average, warn_for)\n"
     ]
    },
    {
     "name": "stdout",
     "output_type": "stream",
     "text": [
      "[CV] alpha=0.4847588479510103, binarize=0.04823509856147579, fit_prior=True \n"
     ]
    },
    {
     "name": "stderr",
     "output_type": "stream",
     "text": [
      "/scratch/clb617/anaconda3/lib/python3.6/site-packages/sklearn/metrics/classification.py:1135: UndefinedMetricWarning: F-score is ill-defined and being set to 0.0 in labels with no predicted samples.\n",
      "  'precision', 'predicted', average, warn_for)\n"
     ]
    },
    {
     "name": "stdout",
     "output_type": "stream",
     "text": [
      "[CV] alpha=0.4847588479510103, binarize=0.04823509856147579, fit_prior=True \n",
      "[CV] alpha=0.8700161630329982, binarize=0.47270399907575145, fit_prior=True \n",
      "[CV] alpha=0.8700161630329982, binarize=0.47270399907575145, fit_prior=True \n",
      "[CV] alpha=0.8700161630329982, binarize=0.47270399907575145, fit_prior=True \n"
     ]
    },
    {
     "name": "stderr",
     "output_type": "stream",
     "text": [
      "/scratch/clb617/anaconda3/lib/python3.6/site-packages/sklearn/metrics/classification.py:1135: UndefinedMetricWarning: F-score is ill-defined and being set to 0.0 in labels with no predicted samples.\n",
      "  'precision', 'predicted', average, warn_for)\n"
     ]
    },
    {
     "name": "stdout",
     "output_type": "stream",
     "text": [
      "[CV]  alpha=0.4847588479510103, binarize=0.04823509856147579, fit_prior=True, total=   0.1s\n",
      "[CV]  alpha=0.4847588479510103, binarize=0.04823509856147579, fit_prior=True, total=   0.0s\n"
     ]
    },
    {
     "name": "stderr",
     "output_type": "stream",
     "text": [
      "/scratch/clb617/anaconda3/lib/python3.6/site-packages/sklearn/metrics/classification.py:1135: UndefinedMetricWarning: F-score is ill-defined and being set to 0.0 in labels with no predicted samples.\n",
      "  'precision', 'predicted', average, warn_for)\n",
      "/scratch/clb617/anaconda3/lib/python3.6/site-packages/sklearn/metrics/classification.py:1135: UndefinedMetricWarning: F-score is ill-defined and being set to 0.0 in labels with no predicted samples.\n",
      "  'precision', 'predicted', average, warn_for)\n",
      "/scratch/clb617/anaconda3/lib/python3.6/site-packages/sklearn/metrics/classification.py:1135: UndefinedMetricWarning: F-score is ill-defined and being set to 0.0 in labels with no predicted samples.\n",
      "  'precision', 'predicted', average, warn_for)\n"
     ]
    },
    {
     "name": "stdout",
     "output_type": "stream",
     "text": [
      "[CV]  alpha=0.4847588479510103, binarize=0.04823509856147579, fit_prior=True, total=   0.1s\n",
      "[CV]  alpha=0.4847588479510103, binarize=0.04823509856147579, fit_prior=True, total=   0.1s\n",
      "[CV]  alpha=0.4847588479510103, binarize=0.04823509856147579, fit_prior=True, total=   0.0s\n",
      "[CV]  alpha=0.8700161630329982, binarize=0.47270399907575145, fit_prior=True, total=   0.1s\n",
      "[CV] alpha=0.8700161630329982, binarize=0.47270399907575145, fit_prior=True \n",
      "[CV] alpha=0.8700161630329982, binarize=0.47270399907575145, fit_prior=True \n",
      "[CV]  alpha=0.8700161630329982, binarize=0.47270399907575145, fit_prior=True, total=   0.1s\n",
      "[CV]  alpha=0.8700161630329982, binarize=0.47270399907575145, fit_prior=True, total=   0.1s\n"
     ]
    },
    {
     "name": "stderr",
     "output_type": "stream",
     "text": [
      "/scratch/clb617/anaconda3/lib/python3.6/site-packages/sklearn/metrics/classification.py:1135: UndefinedMetricWarning: F-score is ill-defined and being set to 0.0 in labels with no predicted samples.\n",
      "  'precision', 'predicted', average, warn_for)\n"
     ]
    },
    {
     "name": "stdout",
     "output_type": "stream",
     "text": [
      "[CV] alpha=0.8700161630329982, binarize=0.47270399907575145, fit_prior=True \n"
     ]
    },
    {
     "name": "stderr",
     "output_type": "stream",
     "text": [
      "/scratch/clb617/anaconda3/lib/python3.6/site-packages/sklearn/metrics/classification.py:1135: UndefinedMetricWarning: F-score is ill-defined and being set to 0.0 in labels with no predicted samples.\n",
      "  'precision', 'predicted', average, warn_for)\n",
      "/scratch/clb617/anaconda3/lib/python3.6/site-packages/sklearn/metrics/classification.py:1135: UndefinedMetricWarning: F-score is ill-defined and being set to 0.0 in labels with no predicted samples.\n",
      "  'precision', 'predicted', average, warn_for)\n",
      "/scratch/clb617/anaconda3/lib/python3.6/site-packages/sklearn/metrics/classification.py:1135: UndefinedMetricWarning: F-score is ill-defined and being set to 0.0 in labels with no predicted samples.\n",
      "  'precision', 'predicted', average, warn_for)\n"
     ]
    },
    {
     "name": "stdout",
     "output_type": "stream",
     "text": [
      "[CV] alpha=0.8700161630329982, binarize=0.47270399907575145, fit_prior=True \n",
      "[CV]  alpha=0.8700161630329982, binarize=0.47270399907575145, fit_prior=True, total=   0.0s\n",
      "[CV]  alpha=0.4847588479510103, binarize=0.04823509856147579, fit_prior=True, total=   0.2s\n",
      "[CV]  alpha=0.8700161630329982, binarize=0.47270399907575145, fit_prior=True, total=   0.1s\n"
     ]
    },
    {
     "name": "stderr",
     "output_type": "stream",
     "text": [
      "/scratch/clb617/anaconda3/lib/python3.6/site-packages/sklearn/metrics/classification.py:1135: UndefinedMetricWarning: F-score is ill-defined and being set to 0.0 in labels with no predicted samples.\n",
      "  'precision', 'predicted', average, warn_for)\n"
     ]
    },
    {
     "name": "stdout",
     "output_type": "stream",
     "text": [
      "[CV]  alpha=0.8700161630329982, binarize=0.47270399907575145, fit_prior=True, total=   0.1s\n",
      "[CV] alpha=0.8700161630329982, binarize=0.47270399907575145, fit_prior=True \n",
      "[CV]  alpha=0.8700161630329982, binarize=0.47270399907575145, fit_prior=True, total=   0.0s\n"
     ]
    },
    {
     "name": "stderr",
     "output_type": "stream",
     "text": [
      "/scratch/clb617/anaconda3/lib/python3.6/site-packages/sklearn/metrics/classification.py:1135: UndefinedMetricWarning: F-score is ill-defined and being set to 0.0 in labels with no predicted samples.\n",
      "  'precision', 'predicted', average, warn_for)\n"
     ]
    },
    {
     "name": "stdout",
     "output_type": "stream",
     "text": [
      "[CV] alpha=0.8700161630329982, binarize=0.47270399907575145, fit_prior=True \n",
      "[CV]  alpha=0.8700161630329982, binarize=0.47270399907575145, fit_prior=True, total=   0.0s\n",
      "[CV] alpha=0.8700161630329982, binarize=0.47270399907575145, fit_prior=True \n"
     ]
    },
    {
     "name": "stderr",
     "output_type": "stream",
     "text": [
      "/scratch/clb617/anaconda3/lib/python3.6/site-packages/sklearn/metrics/classification.py:1135: UndefinedMetricWarning: F-score is ill-defined and being set to 0.0 in labels with no predicted samples.\n",
      "  'precision', 'predicted', average, warn_for)\n"
     ]
    },
    {
     "name": "stdout",
     "output_type": "stream",
     "text": [
      "[CV] alpha=0.09644998572235297, binarize=0.03722987119593546, fit_prior=False \n",
      "[CV]  alpha=0.8700161630329982, binarize=0.47270399907575145, fit_prior=True, total=   0.0s\n"
     ]
    },
    {
     "name": "stderr",
     "output_type": "stream",
     "text": [
      "/scratch/clb617/anaconda3/lib/python3.6/site-packages/sklearn/metrics/classification.py:1135: UndefinedMetricWarning: F-score is ill-defined and being set to 0.0 in labels with no predicted samples.\n",
      "  'precision', 'predicted', average, warn_for)\n"
     ]
    },
    {
     "name": "stdout",
     "output_type": "stream",
     "text": [
      "[CV] alpha=0.09644998572235297, binarize=0.03722987119593546, fit_prior=False \n"
     ]
    },
    {
     "name": "stderr",
     "output_type": "stream",
     "text": [
      "/scratch/clb617/anaconda3/lib/python3.6/site-packages/sklearn/metrics/classification.py:1135: UndefinedMetricWarning: F-score is ill-defined and being set to 0.0 in labels with no predicted samples.\n",
      "  'precision', 'predicted', average, warn_for)\n",
      "/scratch/clb617/anaconda3/lib/python3.6/site-packages/sklearn/metrics/classification.py:1135: UndefinedMetricWarning: F-score is ill-defined and being set to 0.0 in labels with no predicted samples.\n",
      "  'precision', 'predicted', average, warn_for)\n"
     ]
    },
    {
     "name": "stdout",
     "output_type": "stream",
     "text": [
      "[CV]  alpha=0.09644998572235297, binarize=0.03722987119593546, fit_prior=False, total=   0.0s\n",
      "[CV]  alpha=0.8700161630329982, binarize=0.47270399907575145, fit_prior=True, total=   0.1s\n",
      "[CV]  alpha=0.09644998572235297, binarize=0.03722987119593546, fit_prior=False, total=   0.1s\n",
      "[CV] alpha=0.09644998572235297, binarize=0.03722987119593546, fit_prior=False \n",
      "[CV] alpha=0.09644998572235297, binarize=0.03722987119593546, fit_prior=False \n"
     ]
    },
    {
     "name": "stderr",
     "output_type": "stream",
     "text": [
      "/scratch/clb617/anaconda3/lib/python3.6/site-packages/sklearn/metrics/classification.py:1135: UndefinedMetricWarning: F-score is ill-defined and being set to 0.0 in labels with no predicted samples.\n",
      "  'precision', 'predicted', average, warn_for)\n",
      "/scratch/clb617/anaconda3/lib/python3.6/site-packages/sklearn/metrics/classification.py:1135: UndefinedMetricWarning: F-score is ill-defined and being set to 0.0 in labels with no predicted samples.\n",
      "  'precision', 'predicted', average, warn_for)\n"
     ]
    },
    {
     "name": "stdout",
     "output_type": "stream",
     "text": [
      "[CV] alpha=0.09644998572235297, binarize=0.03722987119593546, fit_prior=False \n",
      "[CV]  alpha=0.09644998572235297, binarize=0.03722987119593546, fit_prior=False, total=   0.0s\n",
      "[CV]  alpha=0.09644998572235297, binarize=0.03722987119593546, fit_prior=False, total=   0.1s\n",
      "[CV] alpha=0.09644998572235297, binarize=0.03722987119593546, fit_prior=False \n",
      "[CV] alpha=0.09644998572235297, binarize=0.03722987119593546, fit_prior=False \n",
      "[CV] alpha=0.09644998572235297, binarize=0.03722987119593546, fit_prior=False \n"
     ]
    },
    {
     "name": "stderr",
     "output_type": "stream",
     "text": [
      "/scratch/clb617/anaconda3/lib/python3.6/site-packages/sklearn/metrics/classification.py:1135: UndefinedMetricWarning: F-score is ill-defined and being set to 0.0 in labels with no predicted samples.\n",
      "  'precision', 'predicted', average, warn_for)\n"
     ]
    },
    {
     "name": "stdout",
     "output_type": "stream",
     "text": [
      "[CV] alpha=0.09644998572235297, binarize=0.03722987119593546, fit_prior=False \n",
      "[CV] alpha=0.09644998572235297, binarize=0.03722987119593546, fit_prior=False \n"
     ]
    },
    {
     "name": "stderr",
     "output_type": "stream",
     "text": [
      "/scratch/clb617/anaconda3/lib/python3.6/site-packages/sklearn/metrics/classification.py:1135: UndefinedMetricWarning: F-score is ill-defined and being set to 0.0 in labels with no predicted samples.\n",
      "  'precision', 'predicted', average, warn_for)\n"
     ]
    },
    {
     "name": "stdout",
     "output_type": "stream",
     "text": [
      "[CV]  alpha=0.09644998572235297, binarize=0.03722987119593546, fit_prior=False, total=   0.0s\n",
      "[CV]  alpha=0.09644998572235297, binarize=0.03722987119593546, fit_prior=False, total=   0.0s\n"
     ]
    },
    {
     "name": "stderr",
     "output_type": "stream",
     "text": [
      "/scratch/clb617/anaconda3/lib/python3.6/site-packages/sklearn/metrics/classification.py:1135: UndefinedMetricWarning: F-score is ill-defined and being set to 0.0 in labels with no predicted samples.\n",
      "  'precision', 'predicted', average, warn_for)\n"
     ]
    },
    {
     "name": "stdout",
     "output_type": "stream",
     "text": [
      "[CV]  alpha=0.09644998572235297, binarize=0.03722987119593546, fit_prior=False, total=   0.0s\n",
      "[CV] alpha=0.29236054513981746, binarize=0.0024243834476879167, fit_prior=True \n",
      "[CV] alpha=0.29236054513981746, binarize=0.0024243834476879167, fit_prior=True \n",
      "[CV] alpha=0.29236054513981746, binarize=0.0024243834476879167, fit_prior=True \n",
      "[CV] alpha=0.29236054513981746, binarize=0.0024243834476879167, fit_prior=True \n",
      "[CV] alpha=0.29236054513981746, binarize=0.0024243834476879167, fit_prior=True \n"
     ]
    },
    {
     "name": "stderr",
     "output_type": "stream",
     "text": [
      "/scratch/clb617/anaconda3/lib/python3.6/site-packages/sklearn/metrics/classification.py:1135: UndefinedMetricWarning: F-score is ill-defined and being set to 0.0 in labels with no predicted samples.\n",
      "  'precision', 'predicted', average, warn_for)\n",
      "/scratch/clb617/anaconda3/lib/python3.6/site-packages/sklearn/metrics/classification.py:1135: UndefinedMetricWarning: F-score is ill-defined and being set to 0.0 in labels with no predicted samples.\n",
      "  'precision', 'predicted', average, warn_for)\n"
     ]
    },
    {
     "name": "stdout",
     "output_type": "stream",
     "text": [
      "[CV]  alpha=0.29236054513981746, binarize=0.0024243834476879167, fit_prior=True, total=   0.1s\n",
      "[CV]  alpha=0.09644998572235297, binarize=0.03722987119593546, fit_prior=False, total=   0.1s\n",
      "[CV]  alpha=0.09644998572235297, binarize=0.03722987119593546, fit_prior=False, total=   0.1s\n",
      "[CV]  alpha=0.09644998572235297, binarize=0.03722987119593546, fit_prior=False, total=   0.3s\n",
      "[CV] alpha=0.29236054513981746, binarize=0.0024243834476879167, fit_prior=True \n",
      "[CV] alpha=0.29236054513981746, binarize=0.0024243834476879167, fit_prior=True \n",
      "[CV] alpha=0.29236054513981746, binarize=0.0024243834476879167, fit_prior=True \n"
     ]
    },
    {
     "name": "stderr",
     "output_type": "stream",
     "text": [
      "/scratch/clb617/anaconda3/lib/python3.6/site-packages/sklearn/metrics/classification.py:1135: UndefinedMetricWarning: F-score is ill-defined and being set to 0.0 in labels with no predicted samples.\n",
      "  'precision', 'predicted', average, warn_for)\n",
      "/scratch/clb617/anaconda3/lib/python3.6/site-packages/sklearn/metrics/classification.py:1135: UndefinedMetricWarning: F-score is ill-defined and being set to 0.0 in labels with no predicted samples.\n",
      "  'precision', 'predicted', average, warn_for)\n"
     ]
    },
    {
     "name": "stdout",
     "output_type": "stream",
     "text": [
      "[CV] alpha=0.29236054513981746, binarize=0.0024243834476879167, fit_prior=True \n",
      "[CV]  alpha=0.29236054513981746, binarize=0.0024243834476879167, fit_prior=True, total=   0.1s\n"
     ]
    },
    {
     "name": "stderr",
     "output_type": "stream",
     "text": [
      "/scratch/clb617/anaconda3/lib/python3.6/site-packages/sklearn/metrics/classification.py:1135: UndefinedMetricWarning: F-score is ill-defined and being set to 0.0 in labels with no predicted samples.\n",
      "  'precision', 'predicted', average, warn_for)\n",
      "/scratch/clb617/anaconda3/lib/python3.6/site-packages/sklearn/metrics/classification.py:1135: UndefinedMetricWarning: F-score is ill-defined and being set to 0.0 in labels with no predicted samples.\n",
      "  'precision', 'predicted', average, warn_for)\n"
     ]
    },
    {
     "name": "stdout",
     "output_type": "stream",
     "text": [
      "[CV]  alpha=0.29236054513981746, binarize=0.0024243834476879167, fit_prior=True, total=   0.0s\n"
     ]
    },
    {
     "name": "stderr",
     "output_type": "stream",
     "text": [
      "/scratch/clb617/anaconda3/lib/python3.6/site-packages/sklearn/metrics/classification.py:1135: UndefinedMetricWarning: F-score is ill-defined and being set to 0.0 in labels with no predicted samples.\n",
      "  'precision', 'predicted', average, warn_for)\n"
     ]
    },
    {
     "name": "stdout",
     "output_type": "stream",
     "text": [
      "[CV]  alpha=0.29236054513981746, binarize=0.0024243834476879167, fit_prior=True, total=   0.1s\n",
      "[CV] alpha=0.29236054513981746, binarize=0.0024243834476879167, fit_prior=True \n"
     ]
    },
    {
     "name": "stderr",
     "output_type": "stream",
     "text": [
      "/scratch/clb617/anaconda3/lib/python3.6/site-packages/sklearn/metrics/classification.py:1135: UndefinedMetricWarning: F-score is ill-defined and being set to 0.0 in labels with no predicted samples.\n",
      "  'precision', 'predicted', average, warn_for)\n"
     ]
    },
    {
     "name": "stdout",
     "output_type": "stream",
     "text": [
      "[CV]  alpha=0.29236054513981746, binarize=0.0024243834476879167, fit_prior=True, total=   0.1s\n",
      "[CV]  alpha=0.29236054513981746, binarize=0.0024243834476879167, fit_prior=True, total=   0.3s\n"
     ]
    },
    {
     "name": "stderr",
     "output_type": "stream",
     "text": [
      "/scratch/clb617/anaconda3/lib/python3.6/site-packages/sklearn/metrics/classification.py:1135: UndefinedMetricWarning: F-score is ill-defined and being set to 0.0 in labels with no predicted samples.\n",
      "  'precision', 'predicted', average, warn_for)\n",
      "/scratch/clb617/anaconda3/lib/python3.6/site-packages/sklearn/metrics/classification.py:1135: UndefinedMetricWarning: F-score is ill-defined and being set to 0.0 in labels with no predicted samples.\n",
      "  'precision', 'predicted', average, warn_for)\n"
     ]
    },
    {
     "name": "stdout",
     "output_type": "stream",
     "text": [
      "[CV] alpha=0.6821736830935899, binarize=0.48121863105120866, fit_prior=False \n",
      "[CV]  alpha=0.29236054513981746, binarize=0.0024243834476879167, fit_prior=True, total=   0.1s\n"
     ]
    },
    {
     "name": "stderr",
     "output_type": "stream",
     "text": [
      "/scratch/clb617/anaconda3/lib/python3.6/site-packages/sklearn/metrics/classification.py:1135: UndefinedMetricWarning: F-score is ill-defined and being set to 0.0 in labels with no predicted samples.\n",
      "  'precision', 'predicted', average, warn_for)\n"
     ]
    },
    {
     "name": "stdout",
     "output_type": "stream",
     "text": [
      "[CV] alpha=0.6821736830935899, binarize=0.48121863105120866, fit_prior=False \n",
      "[CV] alpha=0.6821736830935899, binarize=0.48121863105120866, fit_prior=False \n",
      "[CV]  alpha=0.29236054513981746, binarize=0.0024243834476879167, fit_prior=True, total=   0.3s\n"
     ]
    },
    {
     "name": "stderr",
     "output_type": "stream",
     "text": [
      "/scratch/clb617/anaconda3/lib/python3.6/site-packages/sklearn/metrics/classification.py:1135: UndefinedMetricWarning: F-score is ill-defined and being set to 0.0 in labels with no predicted samples.\n",
      "  'precision', 'predicted', average, warn_for)\n",
      "/scratch/clb617/anaconda3/lib/python3.6/site-packages/sklearn/metrics/classification.py:1135: UndefinedMetricWarning: F-score is ill-defined and being set to 0.0 in labels with no predicted samples.\n",
      "  'precision', 'predicted', average, warn_for)\n"
     ]
    },
    {
     "name": "stdout",
     "output_type": "stream",
     "text": [
      "[CV]  alpha=0.6821736830935899, binarize=0.48121863105120866, fit_prior=False, total=   0.0s\n"
     ]
    },
    {
     "name": "stderr",
     "output_type": "stream",
     "text": [
      "/scratch/clb617/anaconda3/lib/python3.6/site-packages/sklearn/metrics/classification.py:1135: UndefinedMetricWarning: F-score is ill-defined and being set to 0.0 in labels with no predicted samples.\n",
      "  'precision', 'predicted', average, warn_for)\n"
     ]
    },
    {
     "name": "stdout",
     "output_type": "stream",
     "text": [
      "[CV]  alpha=0.6821736830935899, binarize=0.48121863105120866, fit_prior=False, total=   0.1s\n",
      "[CV]  alpha=0.29236054513981746, binarize=0.0024243834476879167, fit_prior=True, total=   0.1s\n",
      "[CV]  alpha=0.29236054513981746, binarize=0.0024243834476879167, fit_prior=True, total=   0.2s\n",
      "[CV] alpha=0.6821736830935899, binarize=0.48121863105120866, fit_prior=False \n",
      "[CV]  alpha=0.6821736830935899, binarize=0.48121863105120866, fit_prior=False, total=   0.2s\n",
      "[CV] alpha=0.6821736830935899, binarize=0.48121863105120866, fit_prior=False \n"
     ]
    },
    {
     "name": "stderr",
     "output_type": "stream",
     "text": [
      "/scratch/clb617/anaconda3/lib/python3.6/site-packages/sklearn/metrics/classification.py:1135: UndefinedMetricWarning: F-score is ill-defined and being set to 0.0 in labels with no predicted samples.\n",
      "  'precision', 'predicted', average, warn_for)\n"
     ]
    },
    {
     "name": "stdout",
     "output_type": "stream",
     "text": [
      "[CV] alpha=0.6821736830935899, binarize=0.48121863105120866, fit_prior=False \n",
      "[CV]  alpha=0.6821736830935899, binarize=0.48121863105120866, fit_prior=False, total=   0.0s\n"
     ]
    },
    {
     "name": "stderr",
     "output_type": "stream",
     "text": [
      "/scratch/clb617/anaconda3/lib/python3.6/site-packages/sklearn/metrics/classification.py:1135: UndefinedMetricWarning: F-score is ill-defined and being set to 0.0 in labels with no predicted samples.\n",
      "  'precision', 'predicted', average, warn_for)\n",
      "/scratch/clb617/anaconda3/lib/python3.6/site-packages/sklearn/metrics/classification.py:1135: UndefinedMetricWarning: F-score is ill-defined and being set to 0.0 in labels with no predicted samples.\n",
      "  'precision', 'predicted', average, warn_for)\n"
     ]
    },
    {
     "name": "stdout",
     "output_type": "stream",
     "text": [
      "[CV]  alpha=0.6821736830935899, binarize=0.48121863105120866, fit_prior=False, total=   0.0s\n",
      "[CV] alpha=0.6821736830935899, binarize=0.48121863105120866, fit_prior=False \n",
      "[CV] alpha=0.6821736830935899, binarize=0.48121863105120866, fit_prior=False \n",
      "[CV]  alpha=0.6821736830935899, binarize=0.48121863105120866, fit_prior=False, total=   0.1s\n"
     ]
    },
    {
     "name": "stderr",
     "output_type": "stream",
     "text": [
      "/scratch/clb617/anaconda3/lib/python3.6/site-packages/sklearn/metrics/classification.py:1135: UndefinedMetricWarning: F-score is ill-defined and being set to 0.0 in labels with no predicted samples.\n",
      "  'precision', 'predicted', average, warn_for)\n"
     ]
    },
    {
     "name": "stdout",
     "output_type": "stream",
     "text": [
      "[CV] alpha=0.6821736830935899, binarize=0.48121863105120866, fit_prior=False \n"
     ]
    },
    {
     "name": "stderr",
     "output_type": "stream",
     "text": [
      "/scratch/clb617/anaconda3/lib/python3.6/site-packages/sklearn/metrics/classification.py:1135: UndefinedMetricWarning: F-score is ill-defined and being set to 0.0 in labels with no predicted samples.\n",
      "  'precision', 'predicted', average, warn_for)\n"
     ]
    },
    {
     "name": "stdout",
     "output_type": "stream",
     "text": [
      "[CV]  alpha=0.6821736830935899, binarize=0.48121863105120866, fit_prior=False, total=   0.0s\n",
      "[CV]  alpha=0.6821736830935899, binarize=0.48121863105120866, fit_prior=False, total=   0.1s\n"
     ]
    },
    {
     "name": "stderr",
     "output_type": "stream",
     "text": [
      "/scratch/clb617/anaconda3/lib/python3.6/site-packages/sklearn/metrics/classification.py:1135: UndefinedMetricWarning: F-score is ill-defined and being set to 0.0 in labels with no predicted samples.\n",
      "  'precision', 'predicted', average, warn_for)\n"
     ]
    },
    {
     "name": "stdout",
     "output_type": "stream",
     "text": [
      "[CV] alpha=0.6821736830935899, binarize=0.48121863105120866, fit_prior=False \n",
      "[CV]  alpha=0.6821736830935899, binarize=0.48121863105120866, fit_prior=False, total=   0.0s\n",
      "[CV] alpha=0.45452572093455956, binarize=0.22445323456903865, fit_prior=True \n",
      "[CV] alpha=0.45452572093455956, binarize=0.22445323456903865, fit_prior=True \n"
     ]
    },
    {
     "name": "stderr",
     "output_type": "stream",
     "text": [
      "/scratch/clb617/anaconda3/lib/python3.6/site-packages/sklearn/metrics/classification.py:1135: UndefinedMetricWarning: F-score is ill-defined and being set to 0.0 in labels with no predicted samples.\n",
      "  'precision', 'predicted', average, warn_for)\n",
      "/scratch/clb617/anaconda3/lib/python3.6/site-packages/sklearn/metrics/classification.py:1135: UndefinedMetricWarning: F-score is ill-defined and being set to 0.0 in labels with no predicted samples.\n",
      "  'precision', 'predicted', average, warn_for)\n"
     ]
    },
    {
     "name": "stdout",
     "output_type": "stream",
     "text": [
      "[CV]  alpha=0.6821736830935899, binarize=0.48121863105120866, fit_prior=False, total=   0.1s\n",
      "[CV]  alpha=0.45452572093455956, binarize=0.22445323456903865, fit_prior=True, total=   0.1s\n"
     ]
    },
    {
     "name": "stderr",
     "output_type": "stream",
     "text": [
      "/scratch/clb617/anaconda3/lib/python3.6/site-packages/sklearn/metrics/classification.py:1135: UndefinedMetricWarning: F-score is ill-defined and being set to 0.0 in labels with no predicted samples.\n",
      "  'precision', 'predicted', average, warn_for)\n"
     ]
    },
    {
     "name": "stdout",
     "output_type": "stream",
     "text": [
      "[CV] alpha=0.45452572093455956, binarize=0.22445323456903865, fit_prior=True \n",
      "[CV]  alpha=0.45452572093455956, binarize=0.22445323456903865, fit_prior=True, total=   0.0s\n"
     ]
    },
    {
     "name": "stderr",
     "output_type": "stream",
     "text": [
      "/scratch/clb617/anaconda3/lib/python3.6/site-packages/sklearn/metrics/classification.py:1135: UndefinedMetricWarning: F-score is ill-defined and being set to 0.0 in labels with no predicted samples.\n",
      "  'precision', 'predicted', average, warn_for)\n"
     ]
    },
    {
     "name": "stdout",
     "output_type": "stream",
     "text": [
      "[CV]  alpha=0.45452572093455956, binarize=0.22445323456903865, fit_prior=True, total=   0.0s\n",
      "[CV] alpha=0.45452572093455956, binarize=0.22445323456903865, fit_prior=True \n",
      "[CV] alpha=0.45452572093455956, binarize=0.22445323456903865, fit_prior=True \n"
     ]
    },
    {
     "name": "stderr",
     "output_type": "stream",
     "text": [
      "/scratch/clb617/anaconda3/lib/python3.6/site-packages/sklearn/metrics/classification.py:1135: UndefinedMetricWarning: F-score is ill-defined and being set to 0.0 in labels with no predicted samples.\n",
      "  'precision', 'predicted', average, warn_for)\n"
     ]
    },
    {
     "name": "stdout",
     "output_type": "stream",
     "text": [
      "[CV]  alpha=0.45452572093455956, binarize=0.22445323456903865, fit_prior=True, total=   0.0s\n",
      "[CV] alpha=0.45452572093455956, binarize=0.22445323456903865, fit_prior=True \n",
      "[CV] alpha=0.45452572093455956, binarize=0.22445323456903865, fit_prior=True \n"
     ]
    },
    {
     "name": "stderr",
     "output_type": "stream",
     "text": [
      "/scratch/clb617/anaconda3/lib/python3.6/site-packages/sklearn/metrics/classification.py:1135: UndefinedMetricWarning: F-score is ill-defined and being set to 0.0 in labels with no predicted samples.\n",
      "  'precision', 'predicted', average, warn_for)\n",
      "/scratch/clb617/anaconda3/lib/python3.6/site-packages/sklearn/metrics/classification.py:1135: UndefinedMetricWarning: F-score is ill-defined and being set to 0.0 in labels with no predicted samples.\n",
      "  'precision', 'predicted', average, warn_for)\n",
      "/scratch/clb617/anaconda3/lib/python3.6/site-packages/sklearn/metrics/classification.py:1135: UndefinedMetricWarning: F-score is ill-defined and being set to 0.0 in labels with no predicted samples.\n",
      "  'precision', 'predicted', average, warn_for)\n"
     ]
    },
    {
     "name": "stdout",
     "output_type": "stream",
     "text": [
      "[CV]  alpha=0.45452572093455956, binarize=0.22445323456903865, fit_prior=True, total=   0.0s\n",
      "[CV]  alpha=0.45452572093455956, binarize=0.22445323456903865, fit_prior=True, total=   0.0s\n",
      "[CV]  alpha=0.45452572093455956, binarize=0.22445323456903865, fit_prior=True, total=   0.1s\n",
      "[CV] alpha=0.45452572093455956, binarize=0.22445323456903865, fit_prior=True \n",
      "[CV] alpha=0.45452572093455956, binarize=0.22445323456903865, fit_prior=True \n",
      "[CV] alpha=0.18692820493871765, binarize=0.33855362261402466, fit_prior=False \n",
      "[CV] alpha=0.18692820493871765, binarize=0.33855362261402466, fit_prior=False \n",
      "[CV] alpha=0.45452572093455956, binarize=0.22445323456903865, fit_prior=True \n"
     ]
    },
    {
     "name": "stderr",
     "output_type": "stream",
     "text": [
      "/scratch/clb617/anaconda3/lib/python3.6/site-packages/sklearn/metrics/classification.py:1135: UndefinedMetricWarning: F-score is ill-defined and being set to 0.0 in labels with no predicted samples.\n",
      "  'precision', 'predicted', average, warn_for)\n"
     ]
    },
    {
     "name": "stdout",
     "output_type": "stream",
     "text": [
      "[CV]  alpha=0.18692820493871765, binarize=0.33855362261402466, fit_prior=False, total=   0.0s\n"
     ]
    },
    {
     "name": "stderr",
     "output_type": "stream",
     "text": [
      "/scratch/clb617/anaconda3/lib/python3.6/site-packages/sklearn/metrics/classification.py:1135: UndefinedMetricWarning: F-score is ill-defined and being set to 0.0 in labels with no predicted samples.\n",
      "  'precision', 'predicted', average, warn_for)\n"
     ]
    },
    {
     "name": "stdout",
     "output_type": "stream",
     "text": [
      "[CV] alpha=0.18692820493871765, binarize=0.33855362261402466, fit_prior=False \n"
     ]
    },
    {
     "name": "stderr",
     "output_type": "stream",
     "text": [
      "/scratch/clb617/anaconda3/lib/python3.6/site-packages/sklearn/metrics/classification.py:1135: UndefinedMetricWarning: F-score is ill-defined and being set to 0.0 in labels with no predicted samples.\n",
      "  'precision', 'predicted', average, warn_for)\n"
     ]
    },
    {
     "name": "stdout",
     "output_type": "stream",
     "text": [
      "[CV]  alpha=0.18692820493871765, binarize=0.33855362261402466, fit_prior=False, total=   0.0s\n"
     ]
    },
    {
     "name": "stderr",
     "output_type": "stream",
     "text": [
      "/scratch/clb617/anaconda3/lib/python3.6/site-packages/sklearn/metrics/classification.py:1135: UndefinedMetricWarning: F-score is ill-defined and being set to 0.0 in labels with no predicted samples.\n",
      "  'precision', 'predicted', average, warn_for)\n"
     ]
    },
    {
     "name": "stdout",
     "output_type": "stream",
     "text": [
      "[CV]  alpha=0.45452572093455956, binarize=0.22445323456903865, fit_prior=True, total=   0.0s\n",
      "[CV]  alpha=0.45452572093455956, binarize=0.22445323456903865, fit_prior=True, total=   0.1s\n"
     ]
    },
    {
     "name": "stderr",
     "output_type": "stream",
     "text": [
      "/scratch/clb617/anaconda3/lib/python3.6/site-packages/sklearn/metrics/classification.py:1135: UndefinedMetricWarning: F-score is ill-defined and being set to 0.0 in labels with no predicted samples.\n",
      "  'precision', 'predicted', average, warn_for)\n"
     ]
    },
    {
     "name": "stdout",
     "output_type": "stream",
     "text": [
      "[CV]  alpha=0.45452572093455956, binarize=0.22445323456903865, fit_prior=True, total=   0.2s\n"
     ]
    },
    {
     "name": "stderr",
     "output_type": "stream",
     "text": [
      "/scratch/clb617/anaconda3/lib/python3.6/site-packages/sklearn/metrics/classification.py:1135: UndefinedMetricWarning: F-score is ill-defined and being set to 0.0 in labels with no predicted samples.\n",
      "  'precision', 'predicted', average, warn_for)\n"
     ]
    },
    {
     "name": "stdout",
     "output_type": "stream",
     "text": [
      "[CV] alpha=0.18692820493871765, binarize=0.33855362261402466, fit_prior=False \n",
      "[CV]  alpha=0.18692820493871765, binarize=0.33855362261402466, fit_prior=False, total=   0.2s\n"
     ]
    },
    {
     "name": "stderr",
     "output_type": "stream",
     "text": [
      "/scratch/clb617/anaconda3/lib/python3.6/site-packages/sklearn/metrics/classification.py:1135: UndefinedMetricWarning: F-score is ill-defined and being set to 0.0 in labels with no predicted samples.\n",
      "  'precision', 'predicted', average, warn_for)\n"
     ]
    },
    {
     "name": "stdout",
     "output_type": "stream",
     "text": [
      "[CV]  alpha=0.18692820493871765, binarize=0.33855362261402466, fit_prior=False, total=   0.0s\n",
      "[CV] alpha=0.18692820493871765, binarize=0.33855362261402466, fit_prior=False \n",
      "[CV]  alpha=0.18692820493871765, binarize=0.33855362261402466, fit_prior=False, total=   0.1s\n"
     ]
    },
    {
     "name": "stderr",
     "output_type": "stream",
     "text": [
      "/scratch/clb617/anaconda3/lib/python3.6/site-packages/sklearn/metrics/classification.py:1135: UndefinedMetricWarning: F-score is ill-defined and being set to 0.0 in labels with no predicted samples.\n",
      "  'precision', 'predicted', average, warn_for)\n"
     ]
    },
    {
     "name": "stdout",
     "output_type": "stream",
     "text": [
      "[CV] alpha=0.18692820493871765, binarize=0.33855362261402466, fit_prior=False \n"
     ]
    },
    {
     "name": "stderr",
     "output_type": "stream",
     "text": [
      "/scratch/clb617/anaconda3/lib/python3.6/site-packages/sklearn/metrics/classification.py:1135: UndefinedMetricWarning: F-score is ill-defined and being set to 0.0 in labels with no predicted samples.\n",
      "  'precision', 'predicted', average, warn_for)\n"
     ]
    },
    {
     "name": "stdout",
     "output_type": "stream",
     "text": [
      "[CV]  alpha=0.18692820493871765, binarize=0.33855362261402466, fit_prior=False, total=   0.0s\n",
      "[CV] alpha=0.18692820493871765, binarize=0.33855362261402466, fit_prior=False \n",
      "[CV] alpha=0.18692820493871765, binarize=0.33855362261402466, fit_prior=False \n",
      "[CV] alpha=0.18692820493871765, binarize=0.33855362261402466, fit_prior=False \n",
      "[CV] alpha=0.18692820493871765, binarize=0.33855362261402466, fit_prior=False \n"
     ]
    },
    {
     "name": "stderr",
     "output_type": "stream",
     "text": [
      "/scratch/clb617/anaconda3/lib/python3.6/site-packages/sklearn/metrics/classification.py:1135: UndefinedMetricWarning: F-score is ill-defined and being set to 0.0 in labels with no predicted samples.\n",
      "  'precision', 'predicted', average, warn_for)\n"
     ]
    },
    {
     "name": "stdout",
     "output_type": "stream",
     "text": [
      "[CV]  alpha=0.18692820493871765, binarize=0.33855362261402466, fit_prior=False, total=   0.1s\n"
     ]
    },
    {
     "name": "stderr",
     "output_type": "stream",
     "text": [
      "/scratch/clb617/anaconda3/lib/python3.6/site-packages/sklearn/metrics/classification.py:1135: UndefinedMetricWarning: F-score is ill-defined and being set to 0.0 in labels with no predicted samples.\n",
      "  'precision', 'predicted', average, warn_for)\n",
      "/scratch/clb617/anaconda3/lib/python3.6/site-packages/sklearn/metrics/classification.py:1135: UndefinedMetricWarning: F-score is ill-defined and being set to 0.0 in labels with no predicted samples.\n",
      "  'precision', 'predicted', average, warn_for)\n"
     ]
    },
    {
     "name": "stdout",
     "output_type": "stream",
     "text": [
      "[CV]  alpha=0.18692820493871765, binarize=0.33855362261402466, fit_prior=False, total=   0.0s\n",
      "[CV]  alpha=0.18692820493871765, binarize=0.33855362261402466, fit_prior=False, total=   0.0s\n"
     ]
    },
    {
     "name": "stderr",
     "output_type": "stream",
     "text": [
      "/scratch/clb617/anaconda3/lib/python3.6/site-packages/sklearn/metrics/classification.py:1135: UndefinedMetricWarning: F-score is ill-defined and being set to 0.0 in labels with no predicted samples.\n",
      "  'precision', 'predicted', average, warn_for)\n"
     ]
    },
    {
     "name": "stdout",
     "output_type": "stream",
     "text": [
      "[CV]  alpha=0.18692820493871765, binarize=0.33855362261402466, fit_prior=False, total=   0.1s\n",
      "[CV] alpha=0.22058945206381597, binarize=0.2734029787481478, fit_prior=True \n",
      "[CV] alpha=0.22058945206381597, binarize=0.2734029787481478, fit_prior=True \n",
      "[CV] alpha=0.22058945206381597, binarize=0.2734029787481478, fit_prior=True \n",
      "[CV] alpha=0.22058945206381597, binarize=0.2734029787481478, fit_prior=True \n"
     ]
    },
    {
     "name": "stderr",
     "output_type": "stream",
     "text": [
      "/scratch/clb617/anaconda3/lib/python3.6/site-packages/sklearn/metrics/classification.py:1135: UndefinedMetricWarning: F-score is ill-defined and being set to 0.0 in labels with no predicted samples.\n",
      "  'precision', 'predicted', average, warn_for)\n"
     ]
    },
    {
     "name": "stdout",
     "output_type": "stream",
     "text": [
      "[CV]  alpha=0.22058945206381597, binarize=0.2734029787481478, fit_prior=True, total=   0.1s\n"
     ]
    },
    {
     "name": "stderr",
     "output_type": "stream",
     "text": [
      "/scratch/clb617/anaconda3/lib/python3.6/site-packages/sklearn/metrics/classification.py:1135: UndefinedMetricWarning: F-score is ill-defined and being set to 0.0 in labels with no predicted samples.\n",
      "  'precision', 'predicted', average, warn_for)\n",
      "/scratch/clb617/anaconda3/lib/python3.6/site-packages/sklearn/metrics/classification.py:1135: UndefinedMetricWarning: F-score is ill-defined and being set to 0.0 in labels with no predicted samples.\n",
      "  'precision', 'predicted', average, warn_for)\n"
     ]
    },
    {
     "name": "stdout",
     "output_type": "stream",
     "text": [
      "[CV]  alpha=0.22058945206381597, binarize=0.2734029787481478, fit_prior=True, total=   0.1s\n",
      "[CV]  alpha=0.22058945206381597, binarize=0.2734029787481478, fit_prior=True, total=   0.1s\n"
     ]
    },
    {
     "name": "stderr",
     "output_type": "stream",
     "text": [
      "/scratch/clb617/anaconda3/lib/python3.6/site-packages/sklearn/metrics/classification.py:1135: UndefinedMetricWarning: F-score is ill-defined and being set to 0.0 in labels with no predicted samples.\n",
      "  'precision', 'predicted', average, warn_for)\n"
     ]
    },
    {
     "name": "stdout",
     "output_type": "stream",
     "text": [
      "[CV]  alpha=0.22058945206381597, binarize=0.2734029787481478, fit_prior=True, total=   0.0s\n",
      "[CV] alpha=0.22058945206381597, binarize=0.2734029787481478, fit_prior=True \n",
      "[CV] alpha=0.22058945206381597, binarize=0.2734029787481478, fit_prior=True \n"
     ]
    },
    {
     "name": "stderr",
     "output_type": "stream",
     "text": [
      "/scratch/clb617/anaconda3/lib/python3.6/site-packages/sklearn/metrics/classification.py:1135: UndefinedMetricWarning: F-score is ill-defined and being set to 0.0 in labels with no predicted samples.\n",
      "  'precision', 'predicted', average, warn_for)\n"
     ]
    },
    {
     "name": "stdout",
     "output_type": "stream",
     "text": [
      "[CV] alpha=0.22058945206381597, binarize=0.2734029787481478, fit_prior=True \n",
      "[CV] alpha=0.22058945206381597, binarize=0.2734029787481478, fit_prior=True \n",
      "[CV] alpha=0.22058945206381597, binarize=0.2734029787481478, fit_prior=True \n"
     ]
    },
    {
     "name": "stderr",
     "output_type": "stream",
     "text": [
      "/scratch/clb617/anaconda3/lib/python3.6/site-packages/sklearn/metrics/classification.py:1135: UndefinedMetricWarning: F-score is ill-defined and being set to 0.0 in labels with no predicted samples.\n",
      "  'precision', 'predicted', average, warn_for)\n"
     ]
    },
    {
     "name": "stdout",
     "output_type": "stream",
     "text": [
      "[CV] alpha=0.05840954527325515, binarize=0.7236798356979871, fit_prior=True \n"
     ]
    },
    {
     "name": "stderr",
     "output_type": "stream",
     "text": [
      "/scratch/clb617/anaconda3/lib/python3.6/site-packages/sklearn/metrics/classification.py:1135: UndefinedMetricWarning: F-score is ill-defined and being set to 0.0 in labels with no predicted samples.\n",
      "  'precision', 'predicted', average, warn_for)\n",
      "/scratch/clb617/anaconda3/lib/python3.6/site-packages/sklearn/metrics/classification.py:1135: UndefinedMetricWarning: F-score is ill-defined and being set to 0.0 in labels with no predicted samples.\n",
      "  'precision', 'predicted', average, warn_for)\n"
     ]
    },
    {
     "name": "stdout",
     "output_type": "stream",
     "text": [
      "[CV]  alpha=0.22058945206381597, binarize=0.2734029787481478, fit_prior=True, total=   0.0s\n",
      "[CV]  alpha=0.22058945206381597, binarize=0.2734029787481478, fit_prior=True, total=   0.0s\n",
      "[CV]  alpha=0.22058945206381597, binarize=0.2734029787481478, fit_prior=True, total=   0.0s\n"
     ]
    },
    {
     "name": "stderr",
     "output_type": "stream",
     "text": [
      "/scratch/clb617/anaconda3/lib/python3.6/site-packages/sklearn/metrics/classification.py:1135: UndefinedMetricWarning: F-score is ill-defined and being set to 0.0 in labels with no predicted samples.\n",
      "  'precision', 'predicted', average, warn_for)\n",
      "/scratch/clb617/anaconda3/lib/python3.6/site-packages/sklearn/metrics/classification.py:1135: UndefinedMetricWarning: F-score is ill-defined and being set to 0.0 in labels with no predicted samples.\n",
      "  'precision', 'predicted', average, warn_for)\n"
     ]
    },
    {
     "name": "stdout",
     "output_type": "stream",
     "text": [
      "[CV]  alpha=0.05840954527325515, binarize=0.7236798356979871, fit_prior=True, total=   0.0s\n",
      "[CV]  alpha=0.22058945206381597, binarize=0.2734029787481478, fit_prior=True, total=   0.1s\n",
      "[CV]  alpha=0.22058945206381597, binarize=0.2734029787481478, fit_prior=True, total=   0.0s\n",
      "[CV] alpha=0.22058945206381597, binarize=0.2734029787481478, fit_prior=True \n",
      "[CV] alpha=0.05840954527325515, binarize=0.7236798356979871, fit_prior=True \n",
      "[CV] alpha=0.05840954527325515, binarize=0.7236798356979871, fit_prior=True \n"
     ]
    },
    {
     "name": "stderr",
     "output_type": "stream",
     "text": [
      "/scratch/clb617/anaconda3/lib/python3.6/site-packages/sklearn/metrics/classification.py:1135: UndefinedMetricWarning: F-score is ill-defined and being set to 0.0 in labels with no predicted samples.\n",
      "  'precision', 'predicted', average, warn_for)\n"
     ]
    },
    {
     "name": "stdout",
     "output_type": "stream",
     "text": [
      "[CV]  alpha=0.05840954527325515, binarize=0.7236798356979871, fit_prior=True, total=   0.0s\n"
     ]
    },
    {
     "name": "stderr",
     "output_type": "stream",
     "text": [
      "/scratch/clb617/anaconda3/lib/python3.6/site-packages/sklearn/metrics/classification.py:1135: UndefinedMetricWarning: F-score is ill-defined and being set to 0.0 in labels with no predicted samples.\n",
      "  'precision', 'predicted', average, warn_for)\n"
     ]
    },
    {
     "name": "stdout",
     "output_type": "stream",
     "text": [
      "[CV]  alpha=0.05840954527325515, binarize=0.7236798356979871, fit_prior=True, total=   0.1s\n",
      "[CV] alpha=0.05840954527325515, binarize=0.7236798356979871, fit_prior=True \n",
      "[CV] alpha=0.05840954527325515, binarize=0.7236798356979871, fit_prior=True \n",
      "[CV] alpha=0.05840954527325515, binarize=0.7236798356979871, fit_prior=True \n"
     ]
    },
    {
     "name": "stderr",
     "output_type": "stream",
     "text": [
      "/scratch/clb617/anaconda3/lib/python3.6/site-packages/sklearn/metrics/classification.py:1135: UndefinedMetricWarning: F-score is ill-defined and being set to 0.0 in labels with no predicted samples.\n",
      "  'precision', 'predicted', average, warn_for)\n",
      "/scratch/clb617/anaconda3/lib/python3.6/site-packages/sklearn/metrics/classification.py:1135: UndefinedMetricWarning: F-score is ill-defined and being set to 0.0 in labels with no predicted samples.\n",
      "  'precision', 'predicted', average, warn_for)\n"
     ]
    },
    {
     "name": "stdout",
     "output_type": "stream",
     "text": [
      "[CV]  alpha=0.05840954527325515, binarize=0.7236798356979871, fit_prior=True, total=   0.0s\n"
     ]
    },
    {
     "name": "stderr",
     "output_type": "stream",
     "text": [
      "/scratch/clb617/anaconda3/lib/python3.6/site-packages/sklearn/metrics/classification.py:1135: UndefinedMetricWarning: F-score is ill-defined and being set to 0.0 in labels with no predicted samples.\n",
      "  'precision', 'predicted', average, warn_for)\n"
     ]
    },
    {
     "name": "stdout",
     "output_type": "stream",
     "text": [
      "[CV]  alpha=0.22058945206381597, binarize=0.2734029787481478, fit_prior=True, total=   0.2s\n",
      "[CV]  alpha=0.05840954527325515, binarize=0.7236798356979871, fit_prior=True, total=   0.0s\n"
     ]
    },
    {
     "name": "stderr",
     "output_type": "stream",
     "text": [
      "/scratch/clb617/anaconda3/lib/python3.6/site-packages/sklearn/metrics/classification.py:1135: UndefinedMetricWarning: F-score is ill-defined and being set to 0.0 in labels with no predicted samples.\n",
      "  'precision', 'predicted', average, warn_for)\n"
     ]
    },
    {
     "name": "stdout",
     "output_type": "stream",
     "text": [
      "[CV]  alpha=0.05840954527325515, binarize=0.7236798356979871, fit_prior=True, total=   0.0s\n",
      "[CV] alpha=0.05840954527325515, binarize=0.7236798356979871, fit_prior=True \n",
      "[CV] alpha=0.05840954527325515, binarize=0.7236798356979871, fit_prior=True \n"
     ]
    },
    {
     "name": "stderr",
     "output_type": "stream",
     "text": [
      "/scratch/clb617/anaconda3/lib/python3.6/site-packages/sklearn/metrics/classification.py:1135: UndefinedMetricWarning: F-score is ill-defined and being set to 0.0 in labels with no predicted samples.\n",
      "  'precision', 'predicted', average, warn_for)\n"
     ]
    },
    {
     "name": "stdout",
     "output_type": "stream",
     "text": [
      "[CV] alpha=0.05840954527325515, binarize=0.7236798356979871, fit_prior=True \n",
      "[CV] alpha=0.05840954527325515, binarize=0.7236798356979871, fit_prior=True \n"
     ]
    },
    {
     "name": "stderr",
     "output_type": "stream",
     "text": [
      "/scratch/clb617/anaconda3/lib/python3.6/site-packages/sklearn/metrics/classification.py:1135: UndefinedMetricWarning: F-score is ill-defined and being set to 0.0 in labels with no predicted samples.\n",
      "  'precision', 'predicted', average, warn_for)\n"
     ]
    },
    {
     "name": "stdout",
     "output_type": "stream",
     "text": [
      "[CV]  alpha=0.05840954527325515, binarize=0.7236798356979871, fit_prior=True, total=   0.1s\n",
      "[CV]  alpha=0.05840954527325515, binarize=0.7236798356979871, fit_prior=True, total=   0.0s\n"
     ]
    },
    {
     "name": "stderr",
     "output_type": "stream",
     "text": [
      "/scratch/clb617/anaconda3/lib/python3.6/site-packages/sklearn/metrics/classification.py:1135: UndefinedMetricWarning: F-score is ill-defined and being set to 0.0 in labels with no predicted samples.\n",
      "  'precision', 'predicted', average, warn_for)\n"
     ]
    },
    {
     "name": "stdout",
     "output_type": "stream",
     "text": [
      "[CV] alpha=0.32805428660525804, binarize=0.804700320684771, fit_prior=True \n",
      "[CV] alpha=0.32805428660525804, binarize=0.804700320684771, fit_prior=True \n"
     ]
    },
    {
     "name": "stderr",
     "output_type": "stream",
     "text": [
      "/scratch/clb617/anaconda3/lib/python3.6/site-packages/sklearn/metrics/classification.py:1135: UndefinedMetricWarning: F-score is ill-defined and being set to 0.0 in labels with no predicted samples.\n",
      "  'precision', 'predicted', average, warn_for)\n"
     ]
    },
    {
     "name": "stdout",
     "output_type": "stream",
     "text": [
      "[CV]  alpha=0.05840954527325515, binarize=0.7236798356979871, fit_prior=True, total=   0.1s\n",
      "[CV]  alpha=0.05840954527325515, binarize=0.7236798356979871, fit_prior=True, total=   0.1s\n"
     ]
    },
    {
     "name": "stderr",
     "output_type": "stream",
     "text": [
      "/scratch/clb617/anaconda3/lib/python3.6/site-packages/sklearn/metrics/classification.py:1135: UndefinedMetricWarning: F-score is ill-defined and being set to 0.0 in labels with no predicted samples.\n",
      "  'precision', 'predicted', average, warn_for)\n"
     ]
    },
    {
     "name": "stdout",
     "output_type": "stream",
     "text": [
      "[CV] alpha=0.32805428660525804, binarize=0.804700320684771, fit_prior=True \n"
     ]
    },
    {
     "name": "stderr",
     "output_type": "stream",
     "text": [
      "/scratch/clb617/anaconda3/lib/python3.6/site-packages/sklearn/metrics/classification.py:1135: UndefinedMetricWarning: F-score is ill-defined and being set to 0.0 in labels with no predicted samples.\n",
      "  'precision', 'predicted', average, warn_for)\n"
     ]
    },
    {
     "name": "stdout",
     "output_type": "stream",
     "text": [
      "[CV]  alpha=0.32805428660525804, binarize=0.804700320684771, fit_prior=True, total=   0.0s\n"
     ]
    },
    {
     "name": "stderr",
     "output_type": "stream",
     "text": [
      "/scratch/clb617/anaconda3/lib/python3.6/site-packages/sklearn/metrics/classification.py:1135: UndefinedMetricWarning: F-score is ill-defined and being set to 0.0 in labels with no predicted samples.\n",
      "  'precision', 'predicted', average, warn_for)\n"
     ]
    },
    {
     "name": "stdout",
     "output_type": "stream",
     "text": [
      "[CV]  alpha=0.32805428660525804, binarize=0.804700320684771, fit_prior=True, total=   0.0s\n",
      "[CV] alpha=0.32805428660525804, binarize=0.804700320684771, fit_prior=True \n",
      "[CV] alpha=0.32805428660525804, binarize=0.804700320684771, fit_prior=True \n",
      "[CV]  alpha=0.32805428660525804, binarize=0.804700320684771, fit_prior=True, total=   0.1s\n",
      "[CV] alpha=0.32805428660525804, binarize=0.804700320684771, fit_prior=True \n",
      "[CV] alpha=0.32805428660525804, binarize=0.804700320684771, fit_prior=True \n",
      "[CV] alpha=0.32805428660525804, binarize=0.804700320684771, fit_prior=True \n"
     ]
    },
    {
     "name": "stderr",
     "output_type": "stream",
     "text": [
      "/scratch/clb617/anaconda3/lib/python3.6/site-packages/sklearn/metrics/classification.py:1135: UndefinedMetricWarning: F-score is ill-defined and being set to 0.0 in labels with no predicted samples.\n",
      "  'precision', 'predicted', average, warn_for)\n",
      "/scratch/clb617/anaconda3/lib/python3.6/site-packages/sklearn/metrics/classification.py:1135: UndefinedMetricWarning: F-score is ill-defined and being set to 0.0 in labels with no predicted samples.\n",
      "  'precision', 'predicted', average, warn_for)\n"
     ]
    },
    {
     "name": "stdout",
     "output_type": "stream",
     "text": [
      "[CV]  alpha=0.32805428660525804, binarize=0.804700320684771, fit_prior=True, total=   0.1s\n"
     ]
    },
    {
     "name": "stderr",
     "output_type": "stream",
     "text": [
      "/scratch/clb617/anaconda3/lib/python3.6/site-packages/sklearn/metrics/classification.py:1135: UndefinedMetricWarning: F-score is ill-defined and being set to 0.0 in labels with no predicted samples.\n",
      "  'precision', 'predicted', average, warn_for)\n",
      "/scratch/clb617/anaconda3/lib/python3.6/site-packages/sklearn/metrics/classification.py:1135: UndefinedMetricWarning: F-score is ill-defined and being set to 0.0 in labels with no predicted samples.\n",
      "  'precision', 'predicted', average, warn_for)\n"
     ]
    },
    {
     "name": "stdout",
     "output_type": "stream",
     "text": [
      "[CV]  alpha=0.32805428660525804, binarize=0.804700320684771, fit_prior=True, total=   0.1s\n",
      "[CV]  alpha=0.32805428660525804, binarize=0.804700320684771, fit_prior=True, total=   0.1s\n",
      "[CV] alpha=0.32805428660525804, binarize=0.804700320684771, fit_prior=True \n"
     ]
    },
    {
     "name": "stderr",
     "output_type": "stream",
     "text": [
      "/scratch/clb617/anaconda3/lib/python3.6/site-packages/sklearn/metrics/classification.py:1135: UndefinedMetricWarning: F-score is ill-defined and being set to 0.0 in labels with no predicted samples.\n",
      "  'precision', 'predicted', average, warn_for)\n"
     ]
    },
    {
     "name": "stdout",
     "output_type": "stream",
     "text": [
      "[CV]  alpha=0.32805428660525804, binarize=0.804700320684771, fit_prior=True, total=   0.0s\n"
     ]
    },
    {
     "name": "stderr",
     "output_type": "stream",
     "text": [
      "/scratch/clb617/anaconda3/lib/python3.6/site-packages/sklearn/metrics/classification.py:1135: UndefinedMetricWarning: F-score is ill-defined and being set to 0.0 in labels with no predicted samples.\n",
      "  'precision', 'predicted', average, warn_for)\n"
     ]
    },
    {
     "name": "stdout",
     "output_type": "stream",
     "text": [
      "[CV]  alpha=0.32805428660525804, binarize=0.804700320684771, fit_prior=True, total=   0.0s\n",
      "[CV]  alpha=0.32805428660525804, binarize=0.804700320684771, fit_prior=True, total=   0.1s\n",
      "[CV] alpha=0.32805428660525804, binarize=0.804700320684771, fit_prior=True \n"
     ]
    },
    {
     "name": "stderr",
     "output_type": "stream",
     "text": [
      "/scratch/clb617/anaconda3/lib/python3.6/site-packages/sklearn/metrics/classification.py:1135: UndefinedMetricWarning: F-score is ill-defined and being set to 0.0 in labels with no predicted samples.\n",
      "  'precision', 'predicted', average, warn_for)\n"
     ]
    },
    {
     "name": "stdout",
     "output_type": "stream",
     "text": [
      "[CV] alpha=0.33863197068667683, binarize=0.776212770979613, fit_prior=False \n",
      "[CV] alpha=0.33863197068667683, binarize=0.776212770979613, fit_prior=False \n",
      "[CV]  alpha=0.32805428660525804, binarize=0.804700320684771, fit_prior=True, total=   0.1s\n"
     ]
    },
    {
     "name": "stderr",
     "output_type": "stream",
     "text": [
      "/scratch/clb617/anaconda3/lib/python3.6/site-packages/sklearn/metrics/classification.py:1135: UndefinedMetricWarning: F-score is ill-defined and being set to 0.0 in labels with no predicted samples.\n",
      "  'precision', 'predicted', average, warn_for)\n"
     ]
    },
    {
     "name": "stdout",
     "output_type": "stream",
     "text": [
      "[CV]  alpha=0.33863197068667683, binarize=0.776212770979613, fit_prior=False, total=   0.0s\n",
      "[CV] alpha=0.33863197068667683, binarize=0.776212770979613, fit_prior=False \n",
      "[CV] alpha=0.33863197068667683, binarize=0.776212770979613, fit_prior=False \n",
      "[CV] alpha=0.33863197068667683, binarize=0.776212770979613, fit_prior=False \n",
      "[CV] alpha=0.33863197068667683, binarize=0.776212770979613, fit_prior=False \n",
      "[CV] alpha=0.33863197068667683, binarize=0.776212770979613, fit_prior=False \n",
      "[CV] alpha=0.33863197068667683, binarize=0.776212770979613, fit_prior=False \n"
     ]
    },
    {
     "name": "stderr",
     "output_type": "stream",
     "text": [
      "/scratch/clb617/anaconda3/lib/python3.6/site-packages/sklearn/metrics/classification.py:1135: UndefinedMetricWarning: F-score is ill-defined and being set to 0.0 in labels with no predicted samples.\n",
      "  'precision', 'predicted', average, warn_for)\n",
      "/scratch/clb617/anaconda3/lib/python3.6/site-packages/sklearn/metrics/classification.py:1135: UndefinedMetricWarning: F-score is ill-defined and being set to 0.0 in labels with no predicted samples.\n",
      "  'precision', 'predicted', average, warn_for)\n",
      "/scratch/clb617/anaconda3/lib/python3.6/site-packages/sklearn/metrics/classification.py:1135: UndefinedMetricWarning: F-score is ill-defined and being set to 0.0 in labels with no predicted samples.\n",
      "  'precision', 'predicted', average, warn_for)\n",
      "/scratch/clb617/anaconda3/lib/python3.6/site-packages/sklearn/metrics/classification.py:1135: UndefinedMetricWarning: F-score is ill-defined and being set to 0.0 in labels with no predicted samples.\n",
      "  'precision', 'predicted', average, warn_for)\n"
     ]
    },
    {
     "name": "stdout",
     "output_type": "stream",
     "text": [
      "[CV]  alpha=0.33863197068667683, binarize=0.776212770979613, fit_prior=False, total=   0.1s\n"
     ]
    },
    {
     "name": "stderr",
     "output_type": "stream",
     "text": [
      "/scratch/clb617/anaconda3/lib/python3.6/site-packages/sklearn/metrics/classification.py:1135: UndefinedMetricWarning: F-score is ill-defined and being set to 0.0 in labels with no predicted samples.\n",
      "  'precision', 'predicted', average, warn_for)\n",
      "/scratch/clb617/anaconda3/lib/python3.6/site-packages/sklearn/metrics/classification.py:1135: UndefinedMetricWarning: F-score is ill-defined and being set to 0.0 in labels with no predicted samples.\n",
      "  'precision', 'predicted', average, warn_for)\n"
     ]
    },
    {
     "name": "stdout",
     "output_type": "stream",
     "text": [
      "[CV]  alpha=0.33863197068667683, binarize=0.776212770979613, fit_prior=False, total=   0.1s\n",
      "[CV] alpha=0.33863197068667683, binarize=0.776212770979613, fit_prior=False \n"
     ]
    },
    {
     "name": "stderr",
     "output_type": "stream",
     "text": [
      "/scratch/clb617/anaconda3/lib/python3.6/site-packages/sklearn/metrics/classification.py:1135: UndefinedMetricWarning: F-score is ill-defined and being set to 0.0 in labels with no predicted samples.\n",
      "  'precision', 'predicted', average, warn_for)\n"
     ]
    },
    {
     "name": "stdout",
     "output_type": "stream",
     "text": [
      "[CV]  alpha=0.33863197068667683, binarize=0.776212770979613, fit_prior=False, total=   0.0s\n",
      "[CV]  alpha=0.33863197068667683, binarize=0.776212770979613, fit_prior=False, total=   0.1s\n"
     ]
    },
    {
     "name": "stderr",
     "output_type": "stream",
     "text": [
      "/scratch/clb617/anaconda3/lib/python3.6/site-packages/sklearn/metrics/classification.py:1135: UndefinedMetricWarning: F-score is ill-defined and being set to 0.0 in labels with no predicted samples.\n",
      "  'precision', 'predicted', average, warn_for)\n"
     ]
    },
    {
     "name": "stdout",
     "output_type": "stream",
     "text": [
      "[CV]  alpha=0.33863197068667683, binarize=0.776212770979613, fit_prior=False, total=   0.0s\n",
      "[CV]  alpha=0.33863197068667683, binarize=0.776212770979613, fit_prior=False, total=   0.1s\n",
      "[CV] alpha=0.33863197068667683, binarize=0.776212770979613, fit_prior=False \n",
      "[CV]  alpha=0.33863197068667683, binarize=0.776212770979613, fit_prior=False, total=   0.1s\n",
      "[CV]  alpha=0.33863197068667683, binarize=0.776212770979613, fit_prior=False, total=   0.2s\n"
     ]
    },
    {
     "name": "stderr",
     "output_type": "stream",
     "text": [
      "/scratch/clb617/anaconda3/lib/python3.6/site-packages/sklearn/metrics/classification.py:1135: UndefinedMetricWarning: F-score is ill-defined and being set to 0.0 in labels with no predicted samples.\n",
      "  'precision', 'predicted', average, warn_for)\n"
     ]
    },
    {
     "name": "stdout",
     "output_type": "stream",
     "text": [
      "[CV]  alpha=0.33863197068667683, binarize=0.776212770979613, fit_prior=False, total=   0.0s\n",
      "[CV] alpha=0.7944970919232228, binarize=0.16721864917857154, fit_prior=False \n",
      "[CV] alpha=0.7944970919232228, binarize=0.16721864917857154, fit_prior=False \n",
      "[CV] alpha=0.7944970919232228, binarize=0.16721864917857154, fit_prior=False \n",
      "[CV]  alpha=0.7944970919232228, binarize=0.16721864917857154, fit_prior=False, total=   0.1s\n"
     ]
    },
    {
     "name": "stderr",
     "output_type": "stream",
     "text": [
      "/scratch/clb617/anaconda3/lib/python3.6/site-packages/sklearn/metrics/classification.py:1135: UndefinedMetricWarning: F-score is ill-defined and being set to 0.0 in labels with no predicted samples.\n",
      "  'precision', 'predicted', average, warn_for)\n"
     ]
    },
    {
     "name": "stdout",
     "output_type": "stream",
     "text": [
      "[CV]  alpha=0.7944970919232228, binarize=0.16721864917857154, fit_prior=False, total=   0.1s\n"
     ]
    },
    {
     "name": "stderr",
     "output_type": "stream",
     "text": [
      "/scratch/clb617/anaconda3/lib/python3.6/site-packages/sklearn/metrics/classification.py:1135: UndefinedMetricWarning: F-score is ill-defined and being set to 0.0 in labels with no predicted samples.\n",
      "  'precision', 'predicted', average, warn_for)\n",
      "/scratch/clb617/anaconda3/lib/python3.6/site-packages/sklearn/metrics/classification.py:1135: UndefinedMetricWarning: F-score is ill-defined and being set to 0.0 in labels with no predicted samples.\n",
      "  'precision', 'predicted', average, warn_for)\n"
     ]
    },
    {
     "name": "stdout",
     "output_type": "stream",
     "text": [
      "[CV]  alpha=0.7944970919232228, binarize=0.16721864917857154, fit_prior=False, total=   0.0s\n",
      "[CV] alpha=0.7944970919232228, binarize=0.16721864917857154, fit_prior=False \n"
     ]
    },
    {
     "name": "stderr",
     "output_type": "stream",
     "text": [
      "/scratch/clb617/anaconda3/lib/python3.6/site-packages/sklearn/metrics/classification.py:1135: UndefinedMetricWarning: F-score is ill-defined and being set to 0.0 in labels with no predicted samples.\n",
      "  'precision', 'predicted', average, warn_for)\n"
     ]
    },
    {
     "name": "stdout",
     "output_type": "stream",
     "text": [
      "[CV] alpha=0.7944970919232228, binarize=0.16721864917857154, fit_prior=False \n",
      "[CV] alpha=0.7944970919232228, binarize=0.16721864917857154, fit_prior=False \n"
     ]
    },
    {
     "name": "stderr",
     "output_type": "stream",
     "text": [
      "/scratch/clb617/anaconda3/lib/python3.6/site-packages/sklearn/metrics/classification.py:1135: UndefinedMetricWarning: F-score is ill-defined and being set to 0.0 in labels with no predicted samples.\n",
      "  'precision', 'predicted', average, warn_for)\n",
      "/scratch/clb617/anaconda3/lib/python3.6/site-packages/sklearn/metrics/classification.py:1135: UndefinedMetricWarning: F-score is ill-defined and being set to 0.0 in labels with no predicted samples.\n",
      "  'precision', 'predicted', average, warn_for)\n"
     ]
    },
    {
     "name": "stdout",
     "output_type": "stream",
     "text": [
      "[CV]  alpha=0.7944970919232228, binarize=0.16721864917857154, fit_prior=False, total=   0.0s\n",
      "[CV]  alpha=0.7944970919232228, binarize=0.16721864917857154, fit_prior=False, total=   0.0s\n",
      "[CV] alpha=0.7944970919232228, binarize=0.16721864917857154, fit_prior=False \n",
      "[CV] alpha=0.7944970919232228, binarize=0.16721864917857154, fit_prior=False \n",
      "[CV]  alpha=0.7944970919232228, binarize=0.16721864917857154, fit_prior=False, total=   0.0s\n",
      "[CV] alpha=0.7944970919232228, binarize=0.16721864917857154, fit_prior=False \n"
     ]
    },
    {
     "name": "stderr",
     "output_type": "stream",
     "text": [
      "/scratch/clb617/anaconda3/lib/python3.6/site-packages/sklearn/metrics/classification.py:1135: UndefinedMetricWarning: F-score is ill-defined and being set to 0.0 in labels with no predicted samples.\n",
      "  'precision', 'predicted', average, warn_for)\n"
     ]
    },
    {
     "name": "stdout",
     "output_type": "stream",
     "text": [
      "[CV]  alpha=0.7944970919232228, binarize=0.16721864917857154, fit_prior=False, total=   0.1s\n"
     ]
    },
    {
     "name": "stderr",
     "output_type": "stream",
     "text": [
      "/scratch/clb617/anaconda3/lib/python3.6/site-packages/sklearn/metrics/classification.py:1135: UndefinedMetricWarning: F-score is ill-defined and being set to 0.0 in labels with no predicted samples.\n",
      "  'precision', 'predicted', average, warn_for)\n"
     ]
    },
    {
     "name": "stdout",
     "output_type": "stream",
     "text": [
      "[CV] alpha=0.8462176761574957, binarize=0.27090301066709854, fit_prior=True \n",
      "[CV] alpha=0.7944970919232228, binarize=0.16721864917857154, fit_prior=False \n",
      "[CV] alpha=0.8462176761574957, binarize=0.27090301066709854, fit_prior=True \n"
     ]
    },
    {
     "name": "stderr",
     "output_type": "stream",
     "text": [
      "/scratch/clb617/anaconda3/lib/python3.6/site-packages/sklearn/metrics/classification.py:1135: UndefinedMetricWarning: F-score is ill-defined and being set to 0.0 in labels with no predicted samples.\n",
      "  'precision', 'predicted', average, warn_for)\n",
      "/scratch/clb617/anaconda3/lib/python3.6/site-packages/sklearn/metrics/classification.py:1135: UndefinedMetricWarning: F-score is ill-defined and being set to 0.0 in labels with no predicted samples.\n",
      "  'precision', 'predicted', average, warn_for)\n",
      "/scratch/clb617/anaconda3/lib/python3.6/site-packages/sklearn/metrics/classification.py:1135: UndefinedMetricWarning: F-score is ill-defined and being set to 0.0 in labels with no predicted samples.\n",
      "  'precision', 'predicted', average, warn_for)\n"
     ]
    },
    {
     "name": "stdout",
     "output_type": "stream",
     "text": [
      "[CV]  alpha=0.8462176761574957, binarize=0.27090301066709854, fit_prior=True, total=   0.0s\n",
      "[CV]  alpha=0.7944970919232228, binarize=0.16721864917857154, fit_prior=False, total=   0.0s\n",
      "[CV] alpha=0.8462176761574957, binarize=0.27090301066709854, fit_prior=True \n",
      "[CV] alpha=0.8462176761574957, binarize=0.27090301066709854, fit_prior=True \n"
     ]
    },
    {
     "name": "stderr",
     "output_type": "stream",
     "text": [
      "/scratch/clb617/anaconda3/lib/python3.6/site-packages/sklearn/metrics/classification.py:1135: UndefinedMetricWarning: F-score is ill-defined and being set to 0.0 in labels with no predicted samples.\n",
      "  'precision', 'predicted', average, warn_for)\n",
      "/scratch/clb617/anaconda3/lib/python3.6/site-packages/sklearn/metrics/classification.py:1135: UndefinedMetricWarning: F-score is ill-defined and being set to 0.0 in labels with no predicted samples.\n",
      "  'precision', 'predicted', average, warn_for)\n"
     ]
    },
    {
     "name": "stdout",
     "output_type": "stream",
     "text": [
      "[CV]  alpha=0.7944970919232228, binarize=0.16721864917857154, fit_prior=False, total=   0.1s\n"
     ]
    },
    {
     "name": "stderr",
     "output_type": "stream",
     "text": [
      "/scratch/clb617/anaconda3/lib/python3.6/site-packages/sklearn/metrics/classification.py:1135: UndefinedMetricWarning: F-score is ill-defined and being set to 0.0 in labels with no predicted samples.\n",
      "  'precision', 'predicted', average, warn_for)\n"
     ]
    },
    {
     "name": "stdout",
     "output_type": "stream",
     "text": [
      "[CV]  alpha=0.8462176761574957, binarize=0.27090301066709854, fit_prior=True, total=   0.0s\n",
      "[CV]  alpha=0.8462176761574957, binarize=0.27090301066709854, fit_prior=True, total=   0.1s\n",
      "[CV] alpha=0.8462176761574957, binarize=0.27090301066709854, fit_prior=True \n",
      "[CV] alpha=0.8462176761574957, binarize=0.27090301066709854, fit_prior=True \n"
     ]
    },
    {
     "name": "stderr",
     "output_type": "stream",
     "text": [
      "/scratch/clb617/anaconda3/lib/python3.6/site-packages/sklearn/metrics/classification.py:1135: UndefinedMetricWarning: F-score is ill-defined and being set to 0.0 in labels with no predicted samples.\n",
      "  'precision', 'predicted', average, warn_for)\n"
     ]
    },
    {
     "name": "stdout",
     "output_type": "stream",
     "text": [
      "[CV]  alpha=0.8462176761574957, binarize=0.27090301066709854, fit_prior=True, total=   0.1s\n",
      "[CV] alpha=0.8462176761574957, binarize=0.27090301066709854, fit_prior=True \n",
      "[CV]  alpha=0.8462176761574957, binarize=0.27090301066709854, fit_prior=True, total=   0.1s\n",
      "[CV] alpha=0.8462176761574957, binarize=0.27090301066709854, fit_prior=True \n",
      "[CV] alpha=0.8462176761574957, binarize=0.27090301066709854, fit_prior=True \n",
      "[CV] alpha=0.7868737322346842, binarize=0.6206399790949216, fit_prior=True \n",
      "[CV] alpha=0.7868737322346842, binarize=0.6206399790949216, fit_prior=True \n"
     ]
    },
    {
     "name": "stderr",
     "output_type": "stream",
     "text": [
      "/scratch/clb617/anaconda3/lib/python3.6/site-packages/sklearn/metrics/classification.py:1135: UndefinedMetricWarning: F-score is ill-defined and being set to 0.0 in labels with no predicted samples.\n",
      "  'precision', 'predicted', average, warn_for)\n"
     ]
    },
    {
     "name": "stdout",
     "output_type": "stream",
     "text": [
      "[CV]  alpha=0.8462176761574957, binarize=0.27090301066709854, fit_prior=True, total=   0.1s\n"
     ]
    },
    {
     "name": "stderr",
     "output_type": "stream",
     "text": [
      "/scratch/clb617/anaconda3/lib/python3.6/site-packages/sklearn/metrics/classification.py:1135: UndefinedMetricWarning: F-score is ill-defined and being set to 0.0 in labels with no predicted samples.\n",
      "  'precision', 'predicted', average, warn_for)\n",
      "/scratch/clb617/anaconda3/lib/python3.6/site-packages/sklearn/metrics/classification.py:1135: UndefinedMetricWarning: F-score is ill-defined and being set to 0.0 in labels with no predicted samples.\n",
      "  'precision', 'predicted', average, warn_for)\n"
     ]
    },
    {
     "name": "stdout",
     "output_type": "stream",
     "text": [
      "[CV]  alpha=0.7944970919232228, binarize=0.16721864917857154, fit_prior=False, total=   0.1s\n",
      "[CV]  alpha=0.8462176761574957, binarize=0.27090301066709854, fit_prior=True, total=   0.1s\n",
      "[CV]  alpha=0.8462176761574957, binarize=0.27090301066709854, fit_prior=True, total=   0.1s\n"
     ]
    },
    {
     "name": "stderr",
     "output_type": "stream",
     "text": [
      "/scratch/clb617/anaconda3/lib/python3.6/site-packages/sklearn/metrics/classification.py:1135: UndefinedMetricWarning: F-score is ill-defined and being set to 0.0 in labels with no predicted samples.\n",
      "  'precision', 'predicted', average, warn_for)\n"
     ]
    },
    {
     "name": "stdout",
     "output_type": "stream",
     "text": [
      "[CV] alpha=0.8462176761574957, binarize=0.27090301066709854, fit_prior=True \n"
     ]
    },
    {
     "name": "stderr",
     "output_type": "stream",
     "text": [
      "/scratch/clb617/anaconda3/lib/python3.6/site-packages/sklearn/metrics/classification.py:1135: UndefinedMetricWarning: F-score is ill-defined and being set to 0.0 in labels with no predicted samples.\n",
      "  'precision', 'predicted', average, warn_for)\n",
      "/scratch/clb617/anaconda3/lib/python3.6/site-packages/sklearn/metrics/classification.py:1135: UndefinedMetricWarning: F-score is ill-defined and being set to 0.0 in labels with no predicted samples.\n",
      "  'precision', 'predicted', average, warn_for)\n"
     ]
    },
    {
     "name": "stdout",
     "output_type": "stream",
     "text": [
      "[CV]  alpha=0.8462176761574957, binarize=0.27090301066709854, fit_prior=True, total=   0.1s\n",
      "[CV]  alpha=0.7868737322346842, binarize=0.6206399790949216, fit_prior=True, total=   0.1s\n"
     ]
    },
    {
     "name": "stderr",
     "output_type": "stream",
     "text": [
      "/scratch/clb617/anaconda3/lib/python3.6/site-packages/sklearn/metrics/classification.py:1135: UndefinedMetricWarning: F-score is ill-defined and being set to 0.0 in labels with no predicted samples.\n",
      "  'precision', 'predicted', average, warn_for)\n"
     ]
    },
    {
     "name": "stdout",
     "output_type": "stream",
     "text": [
      "[CV]  alpha=0.7868737322346842, binarize=0.6206399790949216, fit_prior=True, total=   0.0s\n",
      "[CV] alpha=0.7868737322346842, binarize=0.6206399790949216, fit_prior=True \n",
      "[CV] alpha=0.7868737322346842, binarize=0.6206399790949216, fit_prior=True \n"
     ]
    },
    {
     "name": "stderr",
     "output_type": "stream",
     "text": [
      "/scratch/clb617/anaconda3/lib/python3.6/site-packages/sklearn/metrics/classification.py:1135: UndefinedMetricWarning: F-score is ill-defined and being set to 0.0 in labels with no predicted samples.\n",
      "  'precision', 'predicted', average, warn_for)\n",
      "/scratch/clb617/anaconda3/lib/python3.6/site-packages/sklearn/metrics/classification.py:1135: UndefinedMetricWarning: F-score is ill-defined and being set to 0.0 in labels with no predicted samples.\n",
      "  'precision', 'predicted', average, warn_for)\n"
     ]
    },
    {
     "name": "stdout",
     "output_type": "stream",
     "text": [
      "[CV] alpha=0.7868737322346842, binarize=0.6206399790949216, fit_prior=True \n",
      "[CV]  alpha=0.8462176761574957, binarize=0.27090301066709854, fit_prior=True, total=   0.3s\n",
      "[CV] alpha=0.7868737322346842, binarize=0.6206399790949216, fit_prior=True \n",
      "[CV]  alpha=0.7868737322346842, binarize=0.6206399790949216, fit_prior=True, total=   0.0s\n"
     ]
    },
    {
     "name": "stderr",
     "output_type": "stream",
     "text": [
      "/scratch/clb617/anaconda3/lib/python3.6/site-packages/sklearn/metrics/classification.py:1135: UndefinedMetricWarning: F-score is ill-defined and being set to 0.0 in labels with no predicted samples.\n",
      "  'precision', 'predicted', average, warn_for)\n",
      "/scratch/clb617/anaconda3/lib/python3.6/site-packages/sklearn/metrics/classification.py:1135: UndefinedMetricWarning: F-score is ill-defined and being set to 0.0 in labels with no predicted samples.\n",
      "  'precision', 'predicted', average, warn_for)\n"
     ]
    },
    {
     "name": "stdout",
     "output_type": "stream",
     "text": [
      "[CV]  alpha=0.7868737322346842, binarize=0.6206399790949216, fit_prior=True, total=   0.0s\n",
      "[CV]  alpha=0.7868737322346842, binarize=0.6206399790949216, fit_prior=True, total=   0.2s\n",
      "[CV] alpha=0.7868737322346842, binarize=0.6206399790949216, fit_prior=True \n",
      "[CV] alpha=0.7868737322346842, binarize=0.6206399790949216, fit_prior=True \n",
      "[CV]  alpha=0.7868737322346842, binarize=0.6206399790949216, fit_prior=True, total=   0.0s\n"
     ]
    },
    {
     "name": "stderr",
     "output_type": "stream",
     "text": [
      "/scratch/clb617/anaconda3/lib/python3.6/site-packages/sklearn/metrics/classification.py:1135: UndefinedMetricWarning: F-score is ill-defined and being set to 0.0 in labels with no predicted samples.\n",
      "  'precision', 'predicted', average, warn_for)\n"
     ]
    },
    {
     "name": "stdout",
     "output_type": "stream",
     "text": [
      "[CV]  alpha=0.7868737322346842, binarize=0.6206399790949216, fit_prior=True, total=   0.0s\n"
     ]
    },
    {
     "name": "stderr",
     "output_type": "stream",
     "text": [
      "/scratch/clb617/anaconda3/lib/python3.6/site-packages/sklearn/metrics/classification.py:1135: UndefinedMetricWarning: F-score is ill-defined and being set to 0.0 in labels with no predicted samples.\n",
      "  'precision', 'predicted', average, warn_for)\n"
     ]
    },
    {
     "name": "stdout",
     "output_type": "stream",
     "text": [
      "[CV] alpha=0.7868737322346842, binarize=0.6206399790949216, fit_prior=True \n",
      "[CV] alpha=0.5483220830418133, binarize=0.025141357109147, fit_prior=False \n",
      "[CV]  alpha=0.7868737322346842, binarize=0.6206399790949216, fit_prior=True, total=   0.0s\n",
      "[CV] alpha=0.5483220830418133, binarize=0.025141357109147, fit_prior=False \n"
     ]
    },
    {
     "name": "stderr",
     "output_type": "stream",
     "text": [
      "/scratch/clb617/anaconda3/lib/python3.6/site-packages/sklearn/metrics/classification.py:1135: UndefinedMetricWarning: F-score is ill-defined and being set to 0.0 in labels with no predicted samples.\n",
      "  'precision', 'predicted', average, warn_for)\n"
     ]
    },
    {
     "name": "stdout",
     "output_type": "stream",
     "text": [
      "[CV]  alpha=0.5483220830418133, binarize=0.025141357109147, fit_prior=False, total=   0.1s\n"
     ]
    },
    {
     "name": "stderr",
     "output_type": "stream",
     "text": [
      "/scratch/clb617/anaconda3/lib/python3.6/site-packages/sklearn/metrics/classification.py:1135: UndefinedMetricWarning: F-score is ill-defined and being set to 0.0 in labels with no predicted samples.\n",
      "  'precision', 'predicted', average, warn_for)\n"
     ]
    },
    {
     "name": "stdout",
     "output_type": "stream",
     "text": [
      "[CV] alpha=0.7868737322346842, binarize=0.6206399790949216, fit_prior=True \n"
     ]
    },
    {
     "name": "stderr",
     "output_type": "stream",
     "text": [
      "/scratch/clb617/anaconda3/lib/python3.6/site-packages/sklearn/metrics/classification.py:1135: UndefinedMetricWarning: F-score is ill-defined and being set to 0.0 in labels with no predicted samples.\n",
      "  'precision', 'predicted', average, warn_for)\n"
     ]
    },
    {
     "name": "stdout",
     "output_type": "stream",
     "text": [
      "[CV]  alpha=0.7868737322346842, binarize=0.6206399790949216, fit_prior=True, total=   0.0s\n",
      "[CV]  alpha=0.7868737322346842, binarize=0.6206399790949216, fit_prior=True, total=   0.1s\n",
      "[CV] alpha=0.5483220830418133, binarize=0.025141357109147, fit_prior=False \n"
     ]
    },
    {
     "name": "stderr",
     "output_type": "stream",
     "text": [
      "/scratch/clb617/anaconda3/lib/python3.6/site-packages/sklearn/metrics/classification.py:1135: UndefinedMetricWarning: F-score is ill-defined and being set to 0.0 in labels with no predicted samples.\n",
      "  'precision', 'predicted', average, warn_for)\n"
     ]
    },
    {
     "name": "stdout",
     "output_type": "stream",
     "text": [
      "[CV]  alpha=0.5483220830418133, binarize=0.025141357109147, fit_prior=False, total=   0.1s\n"
     ]
    },
    {
     "name": "stderr",
     "output_type": "stream",
     "text": [
      "/scratch/clb617/anaconda3/lib/python3.6/site-packages/sklearn/metrics/classification.py:1135: UndefinedMetricWarning: F-score is ill-defined and being set to 0.0 in labels with no predicted samples.\n",
      "  'precision', 'predicted', average, warn_for)\n"
     ]
    },
    {
     "name": "stdout",
     "output_type": "stream",
     "text": [
      "[CV] alpha=0.5483220830418133, binarize=0.025141357109147, fit_prior=False \n",
      "[CV]  alpha=0.5483220830418133, binarize=0.025141357109147, fit_prior=False, total=   0.0s\n",
      "[CV] alpha=0.5483220830418133, binarize=0.025141357109147, fit_prior=False \n"
     ]
    },
    {
     "name": "stderr",
     "output_type": "stream",
     "text": [
      "/scratch/clb617/anaconda3/lib/python3.6/site-packages/sklearn/metrics/classification.py:1135: UndefinedMetricWarning: F-score is ill-defined and being set to 0.0 in labels with no predicted samples.\n",
      "  'precision', 'predicted', average, warn_for)\n",
      "/scratch/clb617/anaconda3/lib/python3.6/site-packages/sklearn/metrics/classification.py:1135: UndefinedMetricWarning: F-score is ill-defined and being set to 0.0 in labels with no predicted samples.\n",
      "  'precision', 'predicted', average, warn_for)\n"
     ]
    },
    {
     "name": "stdout",
     "output_type": "stream",
     "text": [
      "[CV] alpha=0.5483220830418133, binarize=0.025141357109147, fit_prior=False \n",
      "[CV]  alpha=0.5483220830418133, binarize=0.025141357109147, fit_prior=False, total=   0.0s\n",
      "[CV]  alpha=0.5483220830418133, binarize=0.025141357109147, fit_prior=False, total=   0.1s\n",
      "[CV] alpha=0.5483220830418133, binarize=0.025141357109147, fit_prior=False \n",
      "[CV] alpha=0.5483220830418133, binarize=0.025141357109147, fit_prior=False \n"
     ]
    },
    {
     "name": "stderr",
     "output_type": "stream",
     "text": [
      "/scratch/clb617/anaconda3/lib/python3.6/site-packages/sklearn/metrics/classification.py:1135: UndefinedMetricWarning: F-score is ill-defined and being set to 0.0 in labels with no predicted samples.\n",
      "  'precision', 'predicted', average, warn_for)\n"
     ]
    },
    {
     "name": "stdout",
     "output_type": "stream",
     "text": [
      "[CV]  alpha=0.5483220830418133, binarize=0.025141357109147, fit_prior=False, total=   0.0s\n"
     ]
    },
    {
     "name": "stderr",
     "output_type": "stream",
     "text": [
      "/scratch/clb617/anaconda3/lib/python3.6/site-packages/sklearn/metrics/classification.py:1135: UndefinedMetricWarning: F-score is ill-defined and being set to 0.0 in labels with no predicted samples.\n",
      "  'precision', 'predicted', average, warn_for)\n",
      "/scratch/clb617/anaconda3/lib/python3.6/site-packages/sklearn/metrics/classification.py:1135: UndefinedMetricWarning: F-score is ill-defined and being set to 0.0 in labels with no predicted samples.\n",
      "  'precision', 'predicted', average, warn_for)\n"
     ]
    },
    {
     "name": "stdout",
     "output_type": "stream",
     "text": [
      "[CV]  alpha=0.5483220830418133, binarize=0.025141357109147, fit_prior=False, total=   0.0s\n",
      "[CV]  alpha=0.5483220830418133, binarize=0.025141357109147, fit_prior=False, total=   0.1s\n",
      "[CV] alpha=0.5483220830418133, binarize=0.025141357109147, fit_prior=False \n",
      "[CV] alpha=0.5659626868036313, binarize=0.5943665389420951, fit_prior=True \n"
     ]
    },
    {
     "name": "stderr",
     "output_type": "stream",
     "text": [
      "/scratch/clb617/anaconda3/lib/python3.6/site-packages/sklearn/metrics/classification.py:1135: UndefinedMetricWarning: F-score is ill-defined and being set to 0.0 in labels with no predicted samples.\n",
      "  'precision', 'predicted', average, warn_for)\n"
     ]
    },
    {
     "name": "stdout",
     "output_type": "stream",
     "text": [
      "[CV] alpha=0.5659626868036313, binarize=0.5943665389420951, fit_prior=True \n",
      "[CV]  alpha=0.5659626868036313, binarize=0.5943665389420951, fit_prior=True, total=   0.0s\n",
      "[CV] alpha=0.5659626868036313, binarize=0.5943665389420951, fit_prior=True \n"
     ]
    },
    {
     "name": "stderr",
     "output_type": "stream",
     "text": [
      "/scratch/clb617/anaconda3/lib/python3.6/site-packages/sklearn/metrics/classification.py:1135: UndefinedMetricWarning: F-score is ill-defined and being set to 0.0 in labels with no predicted samples.\n",
      "  'precision', 'predicted', average, warn_for)\n"
     ]
    },
    {
     "name": "stdout",
     "output_type": "stream",
     "text": [
      "[CV]  alpha=0.5659626868036313, binarize=0.5943665389420951, fit_prior=True, total=   0.0s\n"
     ]
    },
    {
     "name": "stderr",
     "output_type": "stream",
     "text": [
      "/scratch/clb617/anaconda3/lib/python3.6/site-packages/sklearn/metrics/classification.py:1135: UndefinedMetricWarning: F-score is ill-defined and being set to 0.0 in labels with no predicted samples.\n",
      "  'precision', 'predicted', average, warn_for)\n"
     ]
    },
    {
     "name": "stdout",
     "output_type": "stream",
     "text": [
      "[CV] alpha=0.5483220830418133, binarize=0.025141357109147, fit_prior=False \n"
     ]
    },
    {
     "name": "stderr",
     "output_type": "stream",
     "text": [
      "/scratch/clb617/anaconda3/lib/python3.6/site-packages/sklearn/metrics/classification.py:1135: UndefinedMetricWarning: F-score is ill-defined and being set to 0.0 in labels with no predicted samples.\n",
      "  'precision', 'predicted', average, warn_for)\n"
     ]
    },
    {
     "name": "stdout",
     "output_type": "stream",
     "text": [
      "[CV]  alpha=0.5659626868036313, binarize=0.5943665389420951, fit_prior=True, total=   0.1s\n",
      "[CV] alpha=0.5659626868036313, binarize=0.5943665389420951, fit_prior=True \n"
     ]
    },
    {
     "name": "stderr",
     "output_type": "stream",
     "text": [
      "/scratch/clb617/anaconda3/lib/python3.6/site-packages/sklearn/metrics/classification.py:1135: UndefinedMetricWarning: F-score is ill-defined and being set to 0.0 in labels with no predicted samples.\n",
      "  'precision', 'predicted', average, warn_for)\n"
     ]
    },
    {
     "name": "stdout",
     "output_type": "stream",
     "text": [
      "[CV]  alpha=0.5483220830418133, binarize=0.025141357109147, fit_prior=False, total=   0.0s\n"
     ]
    },
    {
     "name": "stderr",
     "output_type": "stream",
     "text": [
      "/scratch/clb617/anaconda3/lib/python3.6/site-packages/sklearn/metrics/classification.py:1135: UndefinedMetricWarning: F-score is ill-defined and being set to 0.0 in labels with no predicted samples.\n",
      "  'precision', 'predicted', average, warn_for)\n"
     ]
    },
    {
     "name": "stdout",
     "output_type": "stream",
     "text": [
      "[CV]  alpha=0.5483220830418133, binarize=0.025141357109147, fit_prior=False, total=   0.1s\n",
      "[CV] alpha=0.5659626868036313, binarize=0.5943665389420951, fit_prior=True \n",
      "[CV] alpha=0.5659626868036313, binarize=0.5943665389420951, fit_prior=True \n",
      "[CV]  alpha=0.5659626868036313, binarize=0.5943665389420951, fit_prior=True, total=   0.1s\n",
      "[CV] alpha=0.5659626868036313, binarize=0.5943665389420951, fit_prior=True \n"
     ]
    },
    {
     "name": "stderr",
     "output_type": "stream",
     "text": [
      "/scratch/clb617/anaconda3/lib/python3.6/site-packages/sklearn/metrics/classification.py:1135: UndefinedMetricWarning: F-score is ill-defined and being set to 0.0 in labels with no predicted samples.\n",
      "  'precision', 'predicted', average, warn_for)\n",
      "/scratch/clb617/anaconda3/lib/python3.6/site-packages/sklearn/metrics/classification.py:1135: UndefinedMetricWarning: F-score is ill-defined and being set to 0.0 in labels with no predicted samples.\n",
      "  'precision', 'predicted', average, warn_for)\n",
      "/scratch/clb617/anaconda3/lib/python3.6/site-packages/sklearn/metrics/classification.py:1135: UndefinedMetricWarning: F-score is ill-defined and being set to 0.0 in labels with no predicted samples.\n",
      "  'precision', 'predicted', average, warn_for)\n"
     ]
    },
    {
     "name": "stdout",
     "output_type": "stream",
     "text": [
      "[CV]  alpha=0.5659626868036313, binarize=0.5943665389420951, fit_prior=True, total=   0.1s\n",
      "[CV]  alpha=0.5659626868036313, binarize=0.5943665389420951, fit_prior=True, total=   0.1s\n",
      "[CV]  alpha=0.5659626868036313, binarize=0.5943665389420951, fit_prior=True, total=   0.1s\n",
      "[CV] alpha=0.5659626868036313, binarize=0.5943665389420951, fit_prior=True \n"
     ]
    },
    {
     "name": "stderr",
     "output_type": "stream",
     "text": [
      "/scratch/clb617/anaconda3/lib/python3.6/site-packages/sklearn/metrics/classification.py:1135: UndefinedMetricWarning: F-score is ill-defined and being set to 0.0 in labels with no predicted samples.\n",
      "  'precision', 'predicted', average, warn_for)\n"
     ]
    },
    {
     "name": "stdout",
     "output_type": "stream",
     "text": [
      "[CV]  alpha=0.5659626868036313, binarize=0.5943665389420951, fit_prior=True, total=   0.0s\n",
      "[CV] alpha=0.5659626868036313, binarize=0.5943665389420951, fit_prior=True \n",
      "[CV] alpha=0.5659626868036313, binarize=0.5943665389420951, fit_prior=True \n"
     ]
    },
    {
     "name": "stderr",
     "output_type": "stream",
     "text": [
      "/scratch/clb617/anaconda3/lib/python3.6/site-packages/sklearn/metrics/classification.py:1135: UndefinedMetricWarning: F-score is ill-defined and being set to 0.0 in labels with no predicted samples.\n",
      "  'precision', 'predicted', average, warn_for)\n"
     ]
    },
    {
     "name": "stdout",
     "output_type": "stream",
     "text": [
      "[CV] alpha=0.14734721253455763, binarize=0.6749610058729155, fit_prior=True \n",
      "[CV] alpha=0.14734721253455763, binarize=0.6749610058729155, fit_prior=True \n"
     ]
    },
    {
     "name": "stderr",
     "output_type": "stream",
     "text": [
      "/scratch/clb617/anaconda3/lib/python3.6/site-packages/sklearn/metrics/classification.py:1135: UndefinedMetricWarning: F-score is ill-defined and being set to 0.0 in labels with no predicted samples.\n",
      "  'precision', 'predicted', average, warn_for)\n"
     ]
    },
    {
     "name": "stdout",
     "output_type": "stream",
     "text": [
      "[CV]  alpha=0.5659626868036313, binarize=0.5943665389420951, fit_prior=True, total=   0.1s\n",
      "[CV]  alpha=0.5659626868036313, binarize=0.5943665389420951, fit_prior=True, total=   0.1s\n",
      "[CV] alpha=0.14734721253455763, binarize=0.6749610058729155, fit_prior=True \n",
      "[CV] alpha=0.14734721253455763, binarize=0.6749610058729155, fit_prior=True \n"
     ]
    },
    {
     "name": "stderr",
     "output_type": "stream",
     "text": [
      "/scratch/clb617/anaconda3/lib/python3.6/site-packages/sklearn/metrics/classification.py:1135: UndefinedMetricWarning: F-score is ill-defined and being set to 0.0 in labels with no predicted samples.\n",
      "  'precision', 'predicted', average, warn_for)\n",
      "/scratch/clb617/anaconda3/lib/python3.6/site-packages/sklearn/metrics/classification.py:1135: UndefinedMetricWarning: F-score is ill-defined and being set to 0.0 in labels with no predicted samples.\n",
      "  'precision', 'predicted', average, warn_for)\n",
      "/scratch/clb617/anaconda3/lib/python3.6/site-packages/sklearn/metrics/classification.py:1135: UndefinedMetricWarning: F-score is ill-defined and being set to 0.0 in labels with no predicted samples.\n",
      "  'precision', 'predicted', average, warn_for)\n"
     ]
    },
    {
     "name": "stdout",
     "output_type": "stream",
     "text": [
      "[CV]  alpha=0.14734721253455763, binarize=0.6749610058729155, fit_prior=True, total=   0.1s\n",
      "[CV]  alpha=0.14734721253455763, binarize=0.6749610058729155, fit_prior=True, total=   0.1s\n",
      "[CV]  alpha=0.14734721253455763, binarize=0.6749610058729155, fit_prior=True, total=   0.1s\n",
      "[CV] alpha=0.14734721253455763, binarize=0.6749610058729155, fit_prior=True \n",
      "[CV] alpha=0.14734721253455763, binarize=0.6749610058729155, fit_prior=True \n"
     ]
    },
    {
     "name": "stderr",
     "output_type": "stream",
     "text": [
      "/scratch/clb617/anaconda3/lib/python3.6/site-packages/sklearn/metrics/classification.py:1135: UndefinedMetricWarning: F-score is ill-defined and being set to 0.0 in labels with no predicted samples.\n",
      "  'precision', 'predicted', average, warn_for)\n"
     ]
    },
    {
     "name": "stdout",
     "output_type": "stream",
     "text": [
      "[CV]  alpha=0.14734721253455763, binarize=0.6749610058729155, fit_prior=True, total=   0.1s\n",
      "[CV] alpha=0.14734721253455763, binarize=0.6749610058729155, fit_prior=True \n"
     ]
    },
    {
     "name": "stderr",
     "output_type": "stream",
     "text": [
      "/scratch/clb617/anaconda3/lib/python3.6/site-packages/sklearn/metrics/classification.py:1135: UndefinedMetricWarning: F-score is ill-defined and being set to 0.0 in labels with no predicted samples.\n",
      "  'precision', 'predicted', average, warn_for)\n"
     ]
    },
    {
     "name": "stdout",
     "output_type": "stream",
     "text": [
      "[CV] alpha=0.14734721253455763, binarize=0.6749610058729155, fit_prior=True \n"
     ]
    },
    {
     "name": "stderr",
     "output_type": "stream",
     "text": [
      "/scratch/clb617/anaconda3/lib/python3.6/site-packages/sklearn/metrics/classification.py:1135: UndefinedMetricWarning: F-score is ill-defined and being set to 0.0 in labels with no predicted samples.\n",
      "  'precision', 'predicted', average, warn_for)\n"
     ]
    },
    {
     "name": "stdout",
     "output_type": "stream",
     "text": [
      "[CV]  alpha=0.14734721253455763, binarize=0.6749610058729155, fit_prior=True, total=   0.0s\n"
     ]
    },
    {
     "name": "stderr",
     "output_type": "stream",
     "text": [
      "/scratch/clb617/anaconda3/lib/python3.6/site-packages/sklearn/metrics/classification.py:1135: UndefinedMetricWarning: F-score is ill-defined and being set to 0.0 in labels with no predicted samples.\n",
      "  'precision', 'predicted', average, warn_for)\n",
      "/scratch/clb617/anaconda3/lib/python3.6/site-packages/sklearn/metrics/classification.py:1135: UndefinedMetricWarning: F-score is ill-defined and being set to 0.0 in labels with no predicted samples.\n",
      "  'precision', 'predicted', average, warn_for)\n"
     ]
    },
    {
     "name": "stdout",
     "output_type": "stream",
     "text": [
      "[CV]  alpha=0.14734721253455763, binarize=0.6749610058729155, fit_prior=True, total=   0.1s\n",
      "[CV]  alpha=0.14734721253455763, binarize=0.6749610058729155, fit_prior=True, total=   0.0s\n",
      "[CV]  alpha=0.14734721253455763, binarize=0.6749610058729155, fit_prior=True, total=   0.2s\n",
      "[CV] alpha=0.14734721253455763, binarize=0.6749610058729155, fit_prior=True \n"
     ]
    },
    {
     "name": "stderr",
     "output_type": "stream",
     "text": [
      "/scratch/clb617/anaconda3/lib/python3.6/site-packages/sklearn/metrics/classification.py:1135: UndefinedMetricWarning: F-score is ill-defined and being set to 0.0 in labels with no predicted samples.\n",
      "  'precision', 'predicted', average, warn_for)\n"
     ]
    },
    {
     "name": "stdout",
     "output_type": "stream",
     "text": [
      "[CV]  alpha=0.14734721253455763, binarize=0.6749610058729155, fit_prior=True, total=   0.0s\n",
      "[CV] alpha=0.14734721253455763, binarize=0.6749610058729155, fit_prior=True \n"
     ]
    },
    {
     "name": "stderr",
     "output_type": "stream",
     "text": [
      "/scratch/clb617/anaconda3/lib/python3.6/site-packages/sklearn/metrics/classification.py:1135: UndefinedMetricWarning: F-score is ill-defined and being set to 0.0 in labels with no predicted samples.\n",
      "  'precision', 'predicted', average, warn_for)\n"
     ]
    },
    {
     "name": "stdout",
     "output_type": "stream",
     "text": [
      "[CV]  alpha=0.14734721253455763, binarize=0.6749610058729155, fit_prior=True, total=   0.0s\n",
      "[CV] alpha=0.40715263448809236, binarize=0.8996282957922693, fit_prior=True \n"
     ]
    },
    {
     "name": "stderr",
     "output_type": "stream",
     "text": [
      "/scratch/clb617/anaconda3/lib/python3.6/site-packages/sklearn/metrics/classification.py:1135: UndefinedMetricWarning: F-score is ill-defined and being set to 0.0 in labels with no predicted samples.\n",
      "  'precision', 'predicted', average, warn_for)\n"
     ]
    },
    {
     "name": "stdout",
     "output_type": "stream",
     "text": [
      "[CV]  alpha=0.40715263448809236, binarize=0.8996282957922693, fit_prior=True, total=   0.0s\n",
      "[CV] alpha=0.40715263448809236, binarize=0.8996282957922693, fit_prior=True \n",
      "[CV] alpha=0.40715263448809236, binarize=0.8996282957922693, fit_prior=True \n"
     ]
    },
    {
     "name": "stderr",
     "output_type": "stream",
     "text": [
      "/scratch/clb617/anaconda3/lib/python3.6/site-packages/sklearn/metrics/classification.py:1135: UndefinedMetricWarning: F-score is ill-defined and being set to 0.0 in labels with no predicted samples.\n",
      "  'precision', 'predicted', average, warn_for)\n",
      "/scratch/clb617/anaconda3/lib/python3.6/site-packages/sklearn/metrics/classification.py:1135: UndefinedMetricWarning: F-score is ill-defined and being set to 0.0 in labels with no predicted samples.\n",
      "  'precision', 'predicted', average, warn_for)\n"
     ]
    },
    {
     "name": "stdout",
     "output_type": "stream",
     "text": [
      "[CV]  alpha=0.40715263448809236, binarize=0.8996282957922693, fit_prior=True, total=   0.0s\n",
      "[CV]  alpha=0.40715263448809236, binarize=0.8996282957922693, fit_prior=True, total=   0.0s\n",
      "[CV] alpha=0.40715263448809236, binarize=0.8996282957922693, fit_prior=True \n",
      "[CV] alpha=0.40715263448809236, binarize=0.8996282957922693, fit_prior=True \n",
      "[CV] alpha=0.40715263448809236, binarize=0.8996282957922693, fit_prior=True \n"
     ]
    },
    {
     "name": "stderr",
     "output_type": "stream",
     "text": [
      "/scratch/clb617/anaconda3/lib/python3.6/site-packages/sklearn/metrics/classification.py:1135: UndefinedMetricWarning: F-score is ill-defined and being set to 0.0 in labels with no predicted samples.\n",
      "  'precision', 'predicted', average, warn_for)\n",
      "/scratch/clb617/anaconda3/lib/python3.6/site-packages/sklearn/metrics/classification.py:1135: UndefinedMetricWarning: F-score is ill-defined and being set to 0.0 in labels with no predicted samples.\n",
      "  'precision', 'predicted', average, warn_for)\n"
     ]
    },
    {
     "name": "stdout",
     "output_type": "stream",
     "text": [
      "[CV]  alpha=0.40715263448809236, binarize=0.8996282957922693, fit_prior=True, total=   0.0s\n"
     ]
    },
    {
     "name": "stderr",
     "output_type": "stream",
     "text": [
      "/scratch/clb617/anaconda3/lib/python3.6/site-packages/sklearn/metrics/classification.py:1135: UndefinedMetricWarning: F-score is ill-defined and being set to 0.0 in labels with no predicted samples.\n",
      "  'precision', 'predicted', average, warn_for)\n"
     ]
    },
    {
     "name": "stdout",
     "output_type": "stream",
     "text": [
      "[CV]  alpha=0.40715263448809236, binarize=0.8996282957922693, fit_prior=True, total=   0.1s\n",
      "[CV]  alpha=0.40715263448809236, binarize=0.8996282957922693, fit_prior=True, total=   0.1s\n",
      "[CV] alpha=0.40715263448809236, binarize=0.8996282957922693, fit_prior=True \n",
      "[CV] alpha=0.40715263448809236, binarize=0.8996282957922693, fit_prior=True \n"
     ]
    },
    {
     "name": "stderr",
     "output_type": "stream",
     "text": [
      "/scratch/clb617/anaconda3/lib/python3.6/site-packages/sklearn/metrics/classification.py:1135: UndefinedMetricWarning: F-score is ill-defined and being set to 0.0 in labels with no predicted samples.\n",
      "  'precision', 'predicted', average, warn_for)\n",
      "/scratch/clb617/anaconda3/lib/python3.6/site-packages/sklearn/metrics/classification.py:1135: UndefinedMetricWarning: F-score is ill-defined and being set to 0.0 in labels with no predicted samples.\n",
      "  'precision', 'predicted', average, warn_for)\n"
     ]
    },
    {
     "name": "stdout",
     "output_type": "stream",
     "text": [
      "[CV]  alpha=0.40715263448809236, binarize=0.8996282957922693, fit_prior=True, total=   0.0s\n",
      "[CV]  alpha=0.40715263448809236, binarize=0.8996282957922693, fit_prior=True, total=   0.1s\n",
      "[CV] alpha=0.40715263448809236, binarize=0.8996282957922693, fit_prior=True \n",
      "[CV] alpha=0.40715263448809236, binarize=0.8996282957922693, fit_prior=True \n"
     ]
    },
    {
     "name": "stderr",
     "output_type": "stream",
     "text": [
      "/scratch/clb617/anaconda3/lib/python3.6/site-packages/sklearn/metrics/classification.py:1135: UndefinedMetricWarning: F-score is ill-defined and being set to 0.0 in labels with no predicted samples.\n",
      "  'precision', 'predicted', average, warn_for)\n",
      "/scratch/clb617/anaconda3/lib/python3.6/site-packages/sklearn/metrics/classification.py:1135: UndefinedMetricWarning: F-score is ill-defined and being set to 0.0 in labels with no predicted samples.\n",
      "  'precision', 'predicted', average, warn_for)\n"
     ]
    },
    {
     "name": "stdout",
     "output_type": "stream",
     "text": [
      "[CV]  alpha=0.40715263448809236, binarize=0.8996282957922693, fit_prior=True, total=   0.0s\n",
      "[CV]  alpha=0.40715263448809236, binarize=0.8996282957922693, fit_prior=True, total=   0.1s\n",
      "[CV] alpha=0.8983189220314334, binarize=0.2624024528483213, fit_prior=False \n",
      "[CV] alpha=0.8983189220314334, binarize=0.2624024528483213, fit_prior=False \n"
     ]
    },
    {
     "name": "stderr",
     "output_type": "stream",
     "text": [
      "/scratch/clb617/anaconda3/lib/python3.6/site-packages/sklearn/metrics/classification.py:1135: UndefinedMetricWarning: F-score is ill-defined and being set to 0.0 in labels with no predicted samples.\n",
      "  'precision', 'predicted', average, warn_for)\n"
     ]
    },
    {
     "name": "stdout",
     "output_type": "stream",
     "text": [
      "[CV]  alpha=0.8983189220314334, binarize=0.2624024528483213, fit_prior=False, total=   0.0s\n",
      "[CV] alpha=0.8983189220314334, binarize=0.2624024528483213, fit_prior=False \n",
      "[CV] alpha=0.8983189220314334, binarize=0.2624024528483213, fit_prior=False \n"
     ]
    },
    {
     "name": "stderr",
     "output_type": "stream",
     "text": [
      "/scratch/clb617/anaconda3/lib/python3.6/site-packages/sklearn/metrics/classification.py:1135: UndefinedMetricWarning: F-score is ill-defined and being set to 0.0 in labels with no predicted samples.\n",
      "  'precision', 'predicted', average, warn_for)\n",
      "/scratch/clb617/anaconda3/lib/python3.6/site-packages/sklearn/metrics/classification.py:1135: UndefinedMetricWarning: F-score is ill-defined and being set to 0.0 in labels with no predicted samples.\n",
      "  'precision', 'predicted', average, warn_for)\n"
     ]
    },
    {
     "name": "stdout",
     "output_type": "stream",
     "text": [
      "[CV] alpha=0.8983189220314334, binarize=0.2624024528483213, fit_prior=False \n",
      "[CV] alpha=0.8983189220314334, binarize=0.2624024528483213, fit_prior=False \n"
     ]
    },
    {
     "name": "stderr",
     "output_type": "stream",
     "text": [
      "/scratch/clb617/anaconda3/lib/python3.6/site-packages/sklearn/metrics/classification.py:1135: UndefinedMetricWarning: F-score is ill-defined and being set to 0.0 in labels with no predicted samples.\n",
      "  'precision', 'predicted', average, warn_for)\n"
     ]
    },
    {
     "name": "stdout",
     "output_type": "stream",
     "text": [
      "[CV]  alpha=0.8983189220314334, binarize=0.2624024528483213, fit_prior=False, total=   0.0s\n",
      "[CV] alpha=0.8983189220314334, binarize=0.2624024528483213, fit_prior=False \n",
      "[CV]  alpha=0.8983189220314334, binarize=0.2624024528483213, fit_prior=False, total=   0.1s\n"
     ]
    },
    {
     "name": "stderr",
     "output_type": "stream",
     "text": [
      "/scratch/clb617/anaconda3/lib/python3.6/site-packages/sklearn/metrics/classification.py:1135: UndefinedMetricWarning: F-score is ill-defined and being set to 0.0 in labels with no predicted samples.\n",
      "  'precision', 'predicted', average, warn_for)\n"
     ]
    },
    {
     "name": "stdout",
     "output_type": "stream",
     "text": [
      "[CV]  alpha=0.8983189220314334, binarize=0.2624024528483213, fit_prior=False, total=   0.0s\n",
      "[CV]  alpha=0.8983189220314334, binarize=0.2624024528483213, fit_prior=False, total=   0.1s\n",
      "[CV] alpha=0.8983189220314334, binarize=0.2624024528483213, fit_prior=False \n"
     ]
    },
    {
     "name": "stderr",
     "output_type": "stream",
     "text": [
      "/scratch/clb617/anaconda3/lib/python3.6/site-packages/sklearn/metrics/classification.py:1135: UndefinedMetricWarning: F-score is ill-defined and being set to 0.0 in labels with no predicted samples.\n",
      "  'precision', 'predicted', average, warn_for)\n",
      "/scratch/clb617/anaconda3/lib/python3.6/site-packages/sklearn/metrics/classification.py:1135: UndefinedMetricWarning: F-score is ill-defined and being set to 0.0 in labels with no predicted samples.\n",
      "  'precision', 'predicted', average, warn_for)\n"
     ]
    },
    {
     "name": "stdout",
     "output_type": "stream",
     "text": [
      "[CV]  alpha=0.8983189220314334, binarize=0.2624024528483213, fit_prior=False, total=   0.1s\n"
     ]
    },
    {
     "name": "stderr",
     "output_type": "stream",
     "text": [
      "/scratch/clb617/anaconda3/lib/python3.6/site-packages/sklearn/metrics/classification.py:1135: UndefinedMetricWarning: F-score is ill-defined and being set to 0.0 in labels with no predicted samples.\n",
      "  'precision', 'predicted', average, warn_for)\n"
     ]
    },
    {
     "name": "stdout",
     "output_type": "stream",
     "text": [
      "[CV]  alpha=0.8983189220314334, binarize=0.2624024528483213, fit_prior=False, total=   0.1s\n",
      "[CV]  alpha=0.8983189220314334, binarize=0.2624024528483213, fit_prior=False, total=   0.0s\n",
      "[CV] alpha=0.8983189220314334, binarize=0.2624024528483213, fit_prior=False \n",
      "[CV] alpha=0.8983189220314334, binarize=0.2624024528483213, fit_prior=False \n"
     ]
    },
    {
     "name": "stderr",
     "output_type": "stream",
     "text": [
      "/scratch/clb617/anaconda3/lib/python3.6/site-packages/sklearn/metrics/classification.py:1135: UndefinedMetricWarning: F-score is ill-defined and being set to 0.0 in labels with no predicted samples.\n",
      "  'precision', 'predicted', average, warn_for)\n"
     ]
    },
    {
     "name": "stdout",
     "output_type": "stream",
     "text": [
      "[CV] alpha=0.7734761572267598, binarize=0.7350118851727607, fit_prior=False \n",
      "[CV]  alpha=0.8983189220314334, binarize=0.2624024528483213, fit_prior=False, total=   0.0s\n"
     ]
    },
    {
     "name": "stderr",
     "output_type": "stream",
     "text": [
      "/scratch/clb617/anaconda3/lib/python3.6/site-packages/sklearn/metrics/classification.py:1135: UndefinedMetricWarning: F-score is ill-defined and being set to 0.0 in labels with no predicted samples.\n",
      "  'precision', 'predicted', average, warn_for)\n"
     ]
    },
    {
     "name": "stdout",
     "output_type": "stream",
     "text": [
      "[CV]  alpha=0.7734761572267598, binarize=0.7350118851727607, fit_prior=False, total=   0.0s\n",
      "[CV] alpha=0.7734761572267598, binarize=0.7350118851727607, fit_prior=False \n",
      "[CV] alpha=0.7734761572267598, binarize=0.7350118851727607, fit_prior=False \n",
      "[CV] alpha=0.7734761572267598, binarize=0.7350118851727607, fit_prior=False \n"
     ]
    },
    {
     "name": "stderr",
     "output_type": "stream",
     "text": [
      "/scratch/clb617/anaconda3/lib/python3.6/site-packages/sklearn/metrics/classification.py:1135: UndefinedMetricWarning: F-score is ill-defined and being set to 0.0 in labels with no predicted samples.\n",
      "  'precision', 'predicted', average, warn_for)\n",
      "[Parallel(n_jobs=-1)]: Done 646 tasks      | elapsed:   23.8s\n"
     ]
    },
    {
     "name": "stdout",
     "output_type": "stream",
     "text": [
      "[CV] alpha=0.7734761572267598, binarize=0.7350118851727607, fit_prior=False \n"
     ]
    },
    {
     "name": "stderr",
     "output_type": "stream",
     "text": [
      "/scratch/clb617/anaconda3/lib/python3.6/site-packages/sklearn/metrics/classification.py:1135: UndefinedMetricWarning: F-score is ill-defined and being set to 0.0 in labels with no predicted samples.\n",
      "  'precision', 'predicted', average, warn_for)\n"
     ]
    },
    {
     "name": "stdout",
     "output_type": "stream",
     "text": [
      "[CV] alpha=0.7734761572267598, binarize=0.7350118851727607, fit_prior=False \n",
      "[CV] alpha=0.7734761572267598, binarize=0.7350118851727607, fit_prior=False \n"
     ]
    },
    {
     "name": "stderr",
     "output_type": "stream",
     "text": [
      "/scratch/clb617/anaconda3/lib/python3.6/site-packages/sklearn/metrics/classification.py:1135: UndefinedMetricWarning: F-score is ill-defined and being set to 0.0 in labels with no predicted samples.\n",
      "  'precision', 'predicted', average, warn_for)\n"
     ]
    },
    {
     "name": "stdout",
     "output_type": "stream",
     "text": [
      "[CV]  alpha=0.7734761572267598, binarize=0.7350118851727607, fit_prior=False, total=   0.0s\n"
     ]
    },
    {
     "name": "stderr",
     "output_type": "stream",
     "text": [
      "/scratch/clb617/anaconda3/lib/python3.6/site-packages/sklearn/metrics/classification.py:1135: UndefinedMetricWarning: F-score is ill-defined and being set to 0.0 in labels with no predicted samples.\n",
      "  'precision', 'predicted', average, warn_for)\n",
      "/scratch/clb617/anaconda3/lib/python3.6/site-packages/sklearn/metrics/classification.py:1135: UndefinedMetricWarning: F-score is ill-defined and being set to 0.0 in labels with no predicted samples.\n",
      "  'precision', 'predicted', average, warn_for)\n"
     ]
    },
    {
     "name": "stdout",
     "output_type": "stream",
     "text": [
      "[CV]  alpha=0.7734761572267598, binarize=0.7350118851727607, fit_prior=False, total=   0.1s\n"
     ]
    },
    {
     "name": "stderr",
     "output_type": "stream",
     "text": [
      "/scratch/clb617/anaconda3/lib/python3.6/site-packages/sklearn/metrics/classification.py:1135: UndefinedMetricWarning: F-score is ill-defined and being set to 0.0 in labels with no predicted samples.\n",
      "  'precision', 'predicted', average, warn_for)\n"
     ]
    },
    {
     "name": "stdout",
     "output_type": "stream",
     "text": [
      "[CV] alpha=0.7734761572267598, binarize=0.7350118851727607, fit_prior=False \n",
      "[CV]  alpha=0.8983189220314334, binarize=0.2624024528483213, fit_prior=False, total=   0.2s\n"
     ]
    },
    {
     "name": "stderr",
     "output_type": "stream",
     "text": [
      "/scratch/clb617/anaconda3/lib/python3.6/site-packages/sklearn/metrics/classification.py:1135: UndefinedMetricWarning: F-score is ill-defined and being set to 0.0 in labels with no predicted samples.\n",
      "  'precision', 'predicted', average, warn_for)\n"
     ]
    },
    {
     "name": "stdout",
     "output_type": "stream",
     "text": [
      "[CV]  alpha=0.7734761572267598, binarize=0.7350118851727607, fit_prior=False, total=   0.0s\n"
     ]
    },
    {
     "name": "stderr",
     "output_type": "stream",
     "text": [
      "/scratch/clb617/anaconda3/lib/python3.6/site-packages/sklearn/metrics/classification.py:1135: UndefinedMetricWarning: F-score is ill-defined and being set to 0.0 in labels with no predicted samples.\n",
      "  'precision', 'predicted', average, warn_for)\n"
     ]
    },
    {
     "name": "stdout",
     "output_type": "stream",
     "text": [
      "[CV]  alpha=0.7734761572267598, binarize=0.7350118851727607, fit_prior=False, total=   0.0s\n",
      "[CV]  alpha=0.7734761572267598, binarize=0.7350118851727607, fit_prior=False, total=   0.1s\n",
      "[CV]  alpha=0.7734761572267598, binarize=0.7350118851727607, fit_prior=False, total=   0.1s\n",
      "[CV] alpha=0.7734761572267598, binarize=0.7350118851727607, fit_prior=False \n",
      "[CV] alpha=0.7734761572267598, binarize=0.7350118851727607, fit_prior=False \n"
     ]
    },
    {
     "name": "stderr",
     "output_type": "stream",
     "text": [
      "/scratch/clb617/anaconda3/lib/python3.6/site-packages/sklearn/metrics/classification.py:1135: UndefinedMetricWarning: F-score is ill-defined and being set to 0.0 in labels with no predicted samples.\n",
      "  'precision', 'predicted', average, warn_for)\n"
     ]
    },
    {
     "name": "stdout",
     "output_type": "stream",
     "text": [
      "[CV]  alpha=0.7734761572267598, binarize=0.7350118851727607, fit_prior=False, total=   0.0s\n",
      "[CV]  alpha=0.7734761572267598, binarize=0.7350118851727607, fit_prior=False, total=   0.2s\n"
     ]
    },
    {
     "name": "stderr",
     "output_type": "stream",
     "text": [
      "/scratch/clb617/anaconda3/lib/python3.6/site-packages/sklearn/metrics/classification.py:1135: UndefinedMetricWarning: F-score is ill-defined and being set to 0.0 in labels with no predicted samples.\n",
      "  'precision', 'predicted', average, warn_for)\n"
     ]
    },
    {
     "name": "stdout",
     "output_type": "stream",
     "text": [
      "[CV]  alpha=0.7734761572267598, binarize=0.7350118851727607, fit_prior=False, total=   0.1s\n",
      "[CV] alpha=0.0582794206249827, binarize=0.20505848915640246, fit_prior=False \n",
      "[CV] alpha=0.0582794206249827, binarize=0.20505848915640246, fit_prior=False \n",
      "[CV] alpha=0.0582794206249827, binarize=0.20505848915640246, fit_prior=False \n"
     ]
    },
    {
     "name": "stderr",
     "output_type": "stream",
     "text": [
      "/scratch/clb617/anaconda3/lib/python3.6/site-packages/sklearn/metrics/classification.py:1135: UndefinedMetricWarning: F-score is ill-defined and being set to 0.0 in labels with no predicted samples.\n",
      "  'precision', 'predicted', average, warn_for)\n"
     ]
    },
    {
     "name": "stdout",
     "output_type": "stream",
     "text": [
      "[CV]  alpha=0.0582794206249827, binarize=0.20505848915640246, fit_prior=False, total=   0.1s\n"
     ]
    },
    {
     "name": "stderr",
     "output_type": "stream",
     "text": [
      "/scratch/clb617/anaconda3/lib/python3.6/site-packages/sklearn/metrics/classification.py:1135: UndefinedMetricWarning: F-score is ill-defined and being set to 0.0 in labels with no predicted samples.\n",
      "  'precision', 'predicted', average, warn_for)\n"
     ]
    },
    {
     "name": "stdout",
     "output_type": "stream",
     "text": [
      "[CV]  alpha=0.0582794206249827, binarize=0.20505848915640246, fit_prior=False, total=   0.1s\n",
      "[CV] alpha=0.0582794206249827, binarize=0.20505848915640246, fit_prior=False \n",
      "[CV] alpha=0.0582794206249827, binarize=0.20505848915640246, fit_prior=False \n"
     ]
    },
    {
     "name": "stderr",
     "output_type": "stream",
     "text": [
      "/scratch/clb617/anaconda3/lib/python3.6/site-packages/sklearn/metrics/classification.py:1135: UndefinedMetricWarning: F-score is ill-defined and being set to 0.0 in labels with no predicted samples.\n",
      "  'precision', 'predicted', average, warn_for)\n",
      "/scratch/clb617/anaconda3/lib/python3.6/site-packages/sklearn/metrics/classification.py:1135: UndefinedMetricWarning: F-score is ill-defined and being set to 0.0 in labels with no predicted samples.\n",
      "  'precision', 'predicted', average, warn_for)\n"
     ]
    },
    {
     "name": "stdout",
     "output_type": "stream",
     "text": [
      "[CV]  alpha=0.0582794206249827, binarize=0.20505848915640246, fit_prior=False, total=   0.0s\n",
      "[CV]  alpha=0.0582794206249827, binarize=0.20505848915640246, fit_prior=False, total=   0.0s\n",
      "[CV] alpha=0.0582794206249827, binarize=0.20505848915640246, fit_prior=False \n"
     ]
    },
    {
     "name": "stderr",
     "output_type": "stream",
     "text": [
      "/scratch/clb617/anaconda3/lib/python3.6/site-packages/sklearn/metrics/classification.py:1135: UndefinedMetricWarning: F-score is ill-defined and being set to 0.0 in labels with no predicted samples.\n",
      "  'precision', 'predicted', average, warn_for)\n"
     ]
    },
    {
     "name": "stdout",
     "output_type": "stream",
     "text": [
      "[CV]  alpha=0.0582794206249827, binarize=0.20505848915640246, fit_prior=False, total=   0.0s\n",
      "[CV] alpha=0.0582794206249827, binarize=0.20505848915640246, fit_prior=False \n"
     ]
    },
    {
     "name": "stderr",
     "output_type": "stream",
     "text": [
      "/scratch/clb617/anaconda3/lib/python3.6/site-packages/sklearn/metrics/classification.py:1135: UndefinedMetricWarning: F-score is ill-defined and being set to 0.0 in labels with no predicted samples.\n",
      "  'precision', 'predicted', average, warn_for)\n"
     ]
    },
    {
     "name": "stdout",
     "output_type": "stream",
     "text": [
      "[CV]  alpha=0.0582794206249827, binarize=0.20505848915640246, fit_prior=False, total=   0.1s\n",
      "[CV] alpha=0.0582794206249827, binarize=0.20505848915640246, fit_prior=False \n"
     ]
    },
    {
     "name": "stderr",
     "output_type": "stream",
     "text": [
      "/scratch/clb617/anaconda3/lib/python3.6/site-packages/sklearn/metrics/classification.py:1135: UndefinedMetricWarning: F-score is ill-defined and being set to 0.0 in labels with no predicted samples.\n",
      "  'precision', 'predicted', average, warn_for)\n",
      "/scratch/clb617/anaconda3/lib/python3.6/site-packages/sklearn/metrics/classification.py:1135: UndefinedMetricWarning: F-score is ill-defined and being set to 0.0 in labels with no predicted samples.\n",
      "  'precision', 'predicted', average, warn_for)\n"
     ]
    },
    {
     "name": "stdout",
     "output_type": "stream",
     "text": [
      "[CV]  alpha=0.0582794206249827, binarize=0.20505848915640246, fit_prior=False, total=   0.0s\n",
      "[CV]  alpha=0.0582794206249827, binarize=0.20505848915640246, fit_prior=False, total=   0.1s\n",
      "[CV] alpha=0.0582794206249827, binarize=0.20505848915640246, fit_prior=False \n",
      "[CV] alpha=0.0582794206249827, binarize=0.20505848915640246, fit_prior=False \n"
     ]
    },
    {
     "name": "stderr",
     "output_type": "stream",
     "text": [
      "/scratch/clb617/anaconda3/lib/python3.6/site-packages/sklearn/metrics/classification.py:1135: UndefinedMetricWarning: F-score is ill-defined and being set to 0.0 in labels with no predicted samples.\n",
      "  'precision', 'predicted', average, warn_for)\n"
     ]
    },
    {
     "name": "stdout",
     "output_type": "stream",
     "text": [
      "[CV] alpha=0.04167852763812485, binarize=0.902044903058844, fit_prior=False \n",
      "[CV]  alpha=0.0582794206249827, binarize=0.20505848915640246, fit_prior=False, total=   0.0s\n"
     ]
    },
    {
     "name": "stderr",
     "output_type": "stream",
     "text": [
      "/scratch/clb617/anaconda3/lib/python3.6/site-packages/sklearn/metrics/classification.py:1135: UndefinedMetricWarning: F-score is ill-defined and being set to 0.0 in labels with no predicted samples.\n",
      "  'precision', 'predicted', average, warn_for)\n"
     ]
    },
    {
     "name": "stdout",
     "output_type": "stream",
     "text": [
      "[CV] alpha=0.04167852763812485, binarize=0.902044903058844, fit_prior=False \n",
      "[CV]  alpha=0.0582794206249827, binarize=0.20505848915640246, fit_prior=False, total=   0.1s\n"
     ]
    },
    {
     "name": "stderr",
     "output_type": "stream",
     "text": [
      "/scratch/clb617/anaconda3/lib/python3.6/site-packages/sklearn/metrics/classification.py:1135: UndefinedMetricWarning: F-score is ill-defined and being set to 0.0 in labels with no predicted samples.\n",
      "  'precision', 'predicted', average, warn_for)\n"
     ]
    },
    {
     "name": "stdout",
     "output_type": "stream",
     "text": [
      "[CV] alpha=0.04167852763812485, binarize=0.902044903058844, fit_prior=False \n",
      "[CV]  alpha=0.04167852763812485, binarize=0.902044903058844, fit_prior=False, total=   0.0s\n"
     ]
    },
    {
     "name": "stderr",
     "output_type": "stream",
     "text": [
      "/scratch/clb617/anaconda3/lib/python3.6/site-packages/sklearn/metrics/classification.py:1135: UndefinedMetricWarning: F-score is ill-defined and being set to 0.0 in labels with no predicted samples.\n",
      "  'precision', 'predicted', average, warn_for)\n",
      "/scratch/clb617/anaconda3/lib/python3.6/site-packages/sklearn/metrics/classification.py:1135: UndefinedMetricWarning: F-score is ill-defined and being set to 0.0 in labels with no predicted samples.\n",
      "  'precision', 'predicted', average, warn_for)\n"
     ]
    },
    {
     "name": "stdout",
     "output_type": "stream",
     "text": [
      "[CV]  alpha=0.04167852763812485, binarize=0.902044903058844, fit_prior=False, total=   0.0s\n",
      "[CV]  alpha=0.04167852763812485, binarize=0.902044903058844, fit_prior=False, total=   0.1s\n",
      "[CV] alpha=0.04167852763812485, binarize=0.902044903058844, fit_prior=False \n"
     ]
    },
    {
     "name": "stderr",
     "output_type": "stream",
     "text": [
      "/scratch/clb617/anaconda3/lib/python3.6/site-packages/sklearn/metrics/classification.py:1135: UndefinedMetricWarning: F-score is ill-defined and being set to 0.0 in labels with no predicted samples.\n",
      "  'precision', 'predicted', average, warn_for)\n"
     ]
    },
    {
     "name": "stdout",
     "output_type": "stream",
     "text": [
      "[CV]  alpha=0.04167852763812485, binarize=0.902044903058844, fit_prior=False, total=   0.0s\n",
      "[CV] alpha=0.04167852763812485, binarize=0.902044903058844, fit_prior=False \n",
      "[CV] alpha=0.04167852763812485, binarize=0.902044903058844, fit_prior=False \n"
     ]
    },
    {
     "name": "stderr",
     "output_type": "stream",
     "text": [
      "/scratch/clb617/anaconda3/lib/python3.6/site-packages/sklearn/metrics/classification.py:1135: UndefinedMetricWarning: F-score is ill-defined and being set to 0.0 in labels with no predicted samples.\n",
      "  'precision', 'predicted', average, warn_for)\n"
     ]
    },
    {
     "name": "stdout",
     "output_type": "stream",
     "text": [
      "[CV]  alpha=0.04167852763812485, binarize=0.902044903058844, fit_prior=False, total=   0.0s\n"
     ]
    },
    {
     "name": "stderr",
     "output_type": "stream",
     "text": [
      "/scratch/clb617/anaconda3/lib/python3.6/site-packages/sklearn/metrics/classification.py:1135: UndefinedMetricWarning: F-score is ill-defined and being set to 0.0 in labels with no predicted samples.\n",
      "  'precision', 'predicted', average, warn_for)\n"
     ]
    },
    {
     "name": "stdout",
     "output_type": "stream",
     "text": [
      "[CV]  alpha=0.04167852763812485, binarize=0.902044903058844, fit_prior=False, total=   0.1s\n",
      "[CV] alpha=0.04167852763812485, binarize=0.902044903058844, fit_prior=False \n"
     ]
    },
    {
     "name": "stderr",
     "output_type": "stream",
     "text": [
      "/scratch/clb617/anaconda3/lib/python3.6/site-packages/sklearn/metrics/classification.py:1135: UndefinedMetricWarning: F-score is ill-defined and being set to 0.0 in labels with no predicted samples.\n",
      "  'precision', 'predicted', average, warn_for)\n"
     ]
    },
    {
     "name": "stdout",
     "output_type": "stream",
     "text": [
      "[CV]  alpha=0.04167852763812485, binarize=0.902044903058844, fit_prior=False, total=   0.0s\n",
      "[CV] alpha=0.04167852763812485, binarize=0.902044903058844, fit_prior=False \n",
      "[CV] alpha=0.04167852763812485, binarize=0.902044903058844, fit_prior=False \n",
      "[CV] alpha=0.04167852763812485, binarize=0.902044903058844, fit_prior=False \n"
     ]
    },
    {
     "name": "stderr",
     "output_type": "stream",
     "text": [
      "/scratch/clb617/anaconda3/lib/python3.6/site-packages/sklearn/metrics/classification.py:1135: UndefinedMetricWarning: F-score is ill-defined and being set to 0.0 in labels with no predicted samples.\n",
      "  'precision', 'predicted', average, warn_for)\n"
     ]
    },
    {
     "name": "stdout",
     "output_type": "stream",
     "text": [
      "[CV] alpha=0.34594567321838143, binarize=0.49973710598253673, fit_prior=True \n",
      "[CV]  alpha=0.04167852763812485, binarize=0.902044903058844, fit_prior=False, total=   0.0s\n"
     ]
    },
    {
     "name": "stderr",
     "output_type": "stream",
     "text": [
      "/scratch/clb617/anaconda3/lib/python3.6/site-packages/sklearn/metrics/classification.py:1135: UndefinedMetricWarning: F-score is ill-defined and being set to 0.0 in labels with no predicted samples.\n",
      "  'precision', 'predicted', average, warn_for)\n"
     ]
    },
    {
     "name": "stdout",
     "output_type": "stream",
     "text": [
      "[CV] alpha=0.34594567321838143, binarize=0.49973710598253673, fit_prior=True \n",
      "[CV] alpha=0.34594567321838143, binarize=0.49973710598253673, fit_prior=True \n"
     ]
    },
    {
     "name": "stderr",
     "output_type": "stream",
     "text": [
      "/scratch/clb617/anaconda3/lib/python3.6/site-packages/sklearn/metrics/classification.py:1135: UndefinedMetricWarning: F-score is ill-defined and being set to 0.0 in labels with no predicted samples.\n",
      "  'precision', 'predicted', average, warn_for)\n",
      "/scratch/clb617/anaconda3/lib/python3.6/site-packages/sklearn/metrics/classification.py:1135: UndefinedMetricWarning: F-score is ill-defined and being set to 0.0 in labels with no predicted samples.\n",
      "  'precision', 'predicted', average, warn_for)\n"
     ]
    },
    {
     "name": "stdout",
     "output_type": "stream",
     "text": [
      "[CV]  alpha=0.34594567321838143, binarize=0.49973710598253673, fit_prior=True, total=   0.0s\n",
      "[CV] alpha=0.34594567321838143, binarize=0.49973710598253673, fit_prior=True \n",
      "[CV]  alpha=0.34594567321838143, binarize=0.49973710598253673, fit_prior=True, total=   0.1s\n"
     ]
    },
    {
     "name": "stderr",
     "output_type": "stream",
     "text": [
      "/scratch/clb617/anaconda3/lib/python3.6/site-packages/sklearn/metrics/classification.py:1135: UndefinedMetricWarning: F-score is ill-defined and being set to 0.0 in labels with no predicted samples.\n",
      "  'precision', 'predicted', average, warn_for)\n"
     ]
    },
    {
     "name": "stdout",
     "output_type": "stream",
     "text": [
      "[CV] alpha=0.34594567321838143, binarize=0.49973710598253673, fit_prior=True \n",
      "[CV]  alpha=0.34594567321838143, binarize=0.49973710598253673, fit_prior=True, total=   0.0s\n"
     ]
    },
    {
     "name": "stderr",
     "output_type": "stream",
     "text": [
      "/scratch/clb617/anaconda3/lib/python3.6/site-packages/sklearn/metrics/classification.py:1135: UndefinedMetricWarning: F-score is ill-defined and being set to 0.0 in labels with no predicted samples.\n",
      "  'precision', 'predicted', average, warn_for)\n"
     ]
    },
    {
     "name": "stdout",
     "output_type": "stream",
     "text": [
      "[CV] alpha=0.34594567321838143, binarize=0.49973710598253673, fit_prior=True \n",
      "[CV]  alpha=0.04167852763812485, binarize=0.902044903058844, fit_prior=False, total=   0.2s\n"
     ]
    },
    {
     "name": "stderr",
     "output_type": "stream",
     "text": [
      "/scratch/clb617/anaconda3/lib/python3.6/site-packages/sklearn/metrics/classification.py:1135: UndefinedMetricWarning: F-score is ill-defined and being set to 0.0 in labels with no predicted samples.\n",
      "  'precision', 'predicted', average, warn_for)\n",
      "/scratch/clb617/anaconda3/lib/python3.6/site-packages/sklearn/metrics/classification.py:1135: UndefinedMetricWarning: F-score is ill-defined and being set to 0.0 in labels with no predicted samples.\n",
      "  'precision', 'predicted', average, warn_for)\n"
     ]
    },
    {
     "name": "stdout",
     "output_type": "stream",
     "text": [
      "[CV] alpha=0.34594567321838143, binarize=0.49973710598253673, fit_prior=True \n"
     ]
    },
    {
     "name": "stderr",
     "output_type": "stream",
     "text": [
      "/scratch/clb617/anaconda3/lib/python3.6/site-packages/sklearn/metrics/classification.py:1135: UndefinedMetricWarning: F-score is ill-defined and being set to 0.0 in labels with no predicted samples.\n",
      "  'precision', 'predicted', average, warn_for)\n"
     ]
    },
    {
     "name": "stdout",
     "output_type": "stream",
     "text": [
      "[CV]  alpha=0.34594567321838143, binarize=0.49973710598253673, fit_prior=True, total=   0.1s\n",
      "[CV]  alpha=0.34594567321838143, binarize=0.49973710598253673, fit_prior=True, total=   0.0s\n"
     ]
    },
    {
     "name": "stderr",
     "output_type": "stream",
     "text": [
      "/scratch/clb617/anaconda3/lib/python3.6/site-packages/sklearn/metrics/classification.py:1135: UndefinedMetricWarning: F-score is ill-defined and being set to 0.0 in labels with no predicted samples.\n",
      "  'precision', 'predicted', average, warn_for)\n"
     ]
    },
    {
     "name": "stdout",
     "output_type": "stream",
     "text": [
      "[CV] alpha=0.34594567321838143, binarize=0.49973710598253673, fit_prior=True \n",
      "[CV]  alpha=0.34594567321838143, binarize=0.49973710598253673, fit_prior=True, total=   0.1s\n",
      "[CV]  alpha=0.34594567321838143, binarize=0.49973710598253673, fit_prior=True, total=   0.1s\n",
      "[CV] alpha=0.34594567321838143, binarize=0.49973710598253673, fit_prior=True \n"
     ]
    },
    {
     "name": "stderr",
     "output_type": "stream",
     "text": [
      "/scratch/clb617/anaconda3/lib/python3.6/site-packages/sklearn/metrics/classification.py:1135: UndefinedMetricWarning: F-score is ill-defined and being set to 0.0 in labels with no predicted samples.\n",
      "  'precision', 'predicted', average, warn_for)\n",
      "/scratch/clb617/anaconda3/lib/python3.6/site-packages/sklearn/metrics/classification.py:1135: UndefinedMetricWarning: F-score is ill-defined and being set to 0.0 in labels with no predicted samples.\n",
      "  'precision', 'predicted', average, warn_for)\n"
     ]
    },
    {
     "name": "stdout",
     "output_type": "stream",
     "text": [
      "[CV]  alpha=0.34594567321838143, binarize=0.49973710598253673, fit_prior=True, total=   0.1s\n",
      "[CV]  alpha=0.34594567321838143, binarize=0.49973710598253673, fit_prior=True, total=   0.0s\n",
      "[CV] alpha=0.34594567321838143, binarize=0.49973710598253673, fit_prior=True \n",
      "[CV] alpha=0.4435507502363243, binarize=0.13995672787036184, fit_prior=False \n",
      "[CV] alpha=0.4435507502363243, binarize=0.13995672787036184, fit_prior=False \n"
     ]
    },
    {
     "name": "stderr",
     "output_type": "stream",
     "text": [
      "/scratch/clb617/anaconda3/lib/python3.6/site-packages/sklearn/metrics/classification.py:1135: UndefinedMetricWarning: F-score is ill-defined and being set to 0.0 in labels with no predicted samples.\n",
      "  'precision', 'predicted', average, warn_for)\n"
     ]
    },
    {
     "name": "stdout",
     "output_type": "stream",
     "text": [
      "[CV] alpha=0.4435507502363243, binarize=0.13995672787036184, fit_prior=False \n",
      "[CV]  alpha=0.04167852763812485, binarize=0.902044903058844, fit_prior=False, total=   0.2s\n",
      "[CV] alpha=0.4435507502363243, binarize=0.13995672787036184, fit_prior=False \n",
      "[CV] alpha=0.4435507502363243, binarize=0.13995672787036184, fit_prior=False \n"
     ]
    },
    {
     "name": "stderr",
     "output_type": "stream",
     "text": [
      "/scratch/clb617/anaconda3/lib/python3.6/site-packages/sklearn/metrics/classification.py:1135: UndefinedMetricWarning: F-score is ill-defined and being set to 0.0 in labels with no predicted samples.\n",
      "  'precision', 'predicted', average, warn_for)\n"
     ]
    },
    {
     "name": "stdout",
     "output_type": "stream",
     "text": [
      "[CV] alpha=0.4435507502363243, binarize=0.13995672787036184, fit_prior=False \n"
     ]
    },
    {
     "name": "stderr",
     "output_type": "stream",
     "text": [
      "/scratch/clb617/anaconda3/lib/python3.6/site-packages/sklearn/metrics/classification.py:1135: UndefinedMetricWarning: F-score is ill-defined and being set to 0.0 in labels with no predicted samples.\n",
      "  'precision', 'predicted', average, warn_for)\n"
     ]
    },
    {
     "name": "stdout",
     "output_type": "stream",
     "text": [
      "[CV]  alpha=0.4435507502363243, binarize=0.13995672787036184, fit_prior=False, total=   0.0s\n"
     ]
    },
    {
     "name": "stderr",
     "output_type": "stream",
     "text": [
      "/scratch/clb617/anaconda3/lib/python3.6/site-packages/sklearn/metrics/classification.py:1135: UndefinedMetricWarning: F-score is ill-defined and being set to 0.0 in labels with no predicted samples.\n",
      "  'precision', 'predicted', average, warn_for)\n"
     ]
    },
    {
     "name": "stdout",
     "output_type": "stream",
     "text": [
      "[CV] alpha=0.4435507502363243, binarize=0.13995672787036184, fit_prior=False \n",
      "[CV]  alpha=0.4435507502363243, binarize=0.13995672787036184, fit_prior=False, total=   0.1s\n",
      "[CV]  alpha=0.4435507502363243, binarize=0.13995672787036184, fit_prior=False, total=   0.0s\n",
      "[CV]  alpha=0.34594567321838143, binarize=0.49973710598253673, fit_prior=True, total=   0.1s\n"
     ]
    },
    {
     "name": "stderr",
     "output_type": "stream",
     "text": [
      "/scratch/clb617/anaconda3/lib/python3.6/site-packages/sklearn/metrics/classification.py:1135: UndefinedMetricWarning: F-score is ill-defined and being set to 0.0 in labels with no predicted samples.\n",
      "  'precision', 'predicted', average, warn_for)\n",
      "/scratch/clb617/anaconda3/lib/python3.6/site-packages/sklearn/metrics/classification.py:1135: UndefinedMetricWarning: F-score is ill-defined and being set to 0.0 in labels with no predicted samples.\n",
      "  'precision', 'predicted', average, warn_for)\n"
     ]
    },
    {
     "name": "stdout",
     "output_type": "stream",
     "text": [
      "[CV]  alpha=0.4435507502363243, binarize=0.13995672787036184, fit_prior=False, total=   0.0s\n"
     ]
    },
    {
     "name": "stderr",
     "output_type": "stream",
     "text": [
      "/scratch/clb617/anaconda3/lib/python3.6/site-packages/sklearn/metrics/classification.py:1135: UndefinedMetricWarning: F-score is ill-defined and being set to 0.0 in labels with no predicted samples.\n",
      "  'precision', 'predicted', average, warn_for)\n"
     ]
    },
    {
     "name": "stdout",
     "output_type": "stream",
     "text": [
      "[CV] alpha=0.4435507502363243, binarize=0.13995672787036184, fit_prior=False \n",
      "[CV]  alpha=0.4435507502363243, binarize=0.13995672787036184, fit_prior=False, total=   0.2s\n",
      "[CV]  alpha=0.4435507502363243, binarize=0.13995672787036184, fit_prior=False, total=   0.2s\n",
      "[CV] alpha=0.4435507502363243, binarize=0.13995672787036184, fit_prior=False \n",
      "[CV] alpha=0.4435507502363243, binarize=0.13995672787036184, fit_prior=False \n",
      "[CV] alpha=0.5563390158544486, binarize=0.6408001729800439, fit_prior=True \n"
     ]
    },
    {
     "name": "stderr",
     "output_type": "stream",
     "text": [
      "/scratch/clb617/anaconda3/lib/python3.6/site-packages/sklearn/metrics/classification.py:1135: UndefinedMetricWarning: F-score is ill-defined and being set to 0.0 in labels with no predicted samples.\n",
      "  'precision', 'predicted', average, warn_for)\n",
      "/scratch/clb617/anaconda3/lib/python3.6/site-packages/sklearn/metrics/classification.py:1135: UndefinedMetricWarning: F-score is ill-defined and being set to 0.0 in labels with no predicted samples.\n",
      "  'precision', 'predicted', average, warn_for)\n",
      "/scratch/clb617/anaconda3/lib/python3.6/site-packages/sklearn/metrics/classification.py:1135: UndefinedMetricWarning: F-score is ill-defined and being set to 0.0 in labels with no predicted samples.\n",
      "  'precision', 'predicted', average, warn_for)\n",
      "/scratch/clb617/anaconda3/lib/python3.6/site-packages/sklearn/metrics/classification.py:1135: UndefinedMetricWarning: F-score is ill-defined and being set to 0.0 in labels with no predicted samples.\n",
      "  'precision', 'predicted', average, warn_for)\n"
     ]
    },
    {
     "name": "stdout",
     "output_type": "stream",
     "text": [
      "[CV]  alpha=0.4435507502363243, binarize=0.13995672787036184, fit_prior=False, total=   0.1s\n",
      "[CV] alpha=0.5563390158544486, binarize=0.6408001729800439, fit_prior=True \n",
      "[CV]  alpha=0.4435507502363243, binarize=0.13995672787036184, fit_prior=False, total=   0.1s\n",
      "[CV] alpha=0.5563390158544486, binarize=0.6408001729800439, fit_prior=True \n",
      "[CV]  alpha=0.4435507502363243, binarize=0.13995672787036184, fit_prior=False, total=   0.2s\n"
     ]
    },
    {
     "name": "stderr",
     "output_type": "stream",
     "text": [
      "/scratch/clb617/anaconda3/lib/python3.6/site-packages/sklearn/metrics/classification.py:1135: UndefinedMetricWarning: F-score is ill-defined and being set to 0.0 in labels with no predicted samples.\n",
      "  'precision', 'predicted', average, warn_for)\n"
     ]
    },
    {
     "name": "stdout",
     "output_type": "stream",
     "text": [
      "[CV] alpha=0.5563390158544486, binarize=0.6408001729800439, fit_prior=True \n"
     ]
    },
    {
     "name": "stderr",
     "output_type": "stream",
     "text": [
      "/scratch/clb617/anaconda3/lib/python3.6/site-packages/sklearn/metrics/classification.py:1135: UndefinedMetricWarning: F-score is ill-defined and being set to 0.0 in labels with no predicted samples.\n",
      "  'precision', 'predicted', average, warn_for)\n"
     ]
    },
    {
     "name": "stdout",
     "output_type": "stream",
     "text": [
      "[CV]  alpha=0.5563390158544486, binarize=0.6408001729800439, fit_prior=True, total=   0.0s\n",
      "[CV]  alpha=0.4435507502363243, binarize=0.13995672787036184, fit_prior=False, total=   0.2s\n",
      "[CV]  alpha=0.5563390158544486, binarize=0.6408001729800439, fit_prior=True, total=   0.0s\n"
     ]
    },
    {
     "name": "stderr",
     "output_type": "stream",
     "text": [
      "/scratch/clb617/anaconda3/lib/python3.6/site-packages/sklearn/metrics/classification.py:1135: UndefinedMetricWarning: F-score is ill-defined and being set to 0.0 in labels with no predicted samples.\n",
      "  'precision', 'predicted', average, warn_for)\n"
     ]
    },
    {
     "name": "stdout",
     "output_type": "stream",
     "text": [
      "[CV]  alpha=0.5563390158544486, binarize=0.6408001729800439, fit_prior=True, total=   0.1s\n",
      "[CV] alpha=0.5563390158544486, binarize=0.6408001729800439, fit_prior=True \n",
      "[CV] alpha=0.5563390158544486, binarize=0.6408001729800439, fit_prior=True \n",
      "[CV] alpha=0.5563390158544486, binarize=0.6408001729800439, fit_prior=True \n"
     ]
    },
    {
     "name": "stderr",
     "output_type": "stream",
     "text": [
      "/scratch/clb617/anaconda3/lib/python3.6/site-packages/sklearn/metrics/classification.py:1135: UndefinedMetricWarning: F-score is ill-defined and being set to 0.0 in labels with no predicted samples.\n",
      "  'precision', 'predicted', average, warn_for)\n",
      "/scratch/clb617/anaconda3/lib/python3.6/site-packages/sklearn/metrics/classification.py:1135: UndefinedMetricWarning: F-score is ill-defined and being set to 0.0 in labels with no predicted samples.\n",
      "  'precision', 'predicted', average, warn_for)\n"
     ]
    },
    {
     "name": "stdout",
     "output_type": "stream",
     "text": [
      "[CV]  alpha=0.5563390158544486, binarize=0.6408001729800439, fit_prior=True, total=   0.1s\n"
     ]
    },
    {
     "name": "stderr",
     "output_type": "stream",
     "text": [
      "/scratch/clb617/anaconda3/lib/python3.6/site-packages/sklearn/metrics/classification.py:1135: UndefinedMetricWarning: F-score is ill-defined and being set to 0.0 in labels with no predicted samples.\n",
      "  'precision', 'predicted', average, warn_for)\n"
     ]
    },
    {
     "name": "stdout",
     "output_type": "stream",
     "text": [
      "[CV] alpha=0.5563390158544486, binarize=0.6408001729800439, fit_prior=True \n"
     ]
    },
    {
     "name": "stderr",
     "output_type": "stream",
     "text": [
      "/scratch/clb617/anaconda3/lib/python3.6/site-packages/sklearn/metrics/classification.py:1135: UndefinedMetricWarning: F-score is ill-defined and being set to 0.0 in labels with no predicted samples.\n",
      "  'precision', 'predicted', average, warn_for)\n"
     ]
    },
    {
     "name": "stdout",
     "output_type": "stream",
     "text": [
      "[CV] alpha=0.5563390158544486, binarize=0.6408001729800439, fit_prior=True \n",
      "[CV]  alpha=0.5563390158544486, binarize=0.6408001729800439, fit_prior=True, total=   0.0s\n"
     ]
    },
    {
     "name": "stderr",
     "output_type": "stream",
     "text": [
      "/scratch/clb617/anaconda3/lib/python3.6/site-packages/sklearn/metrics/classification.py:1135: UndefinedMetricWarning: F-score is ill-defined and being set to 0.0 in labels with no predicted samples.\n",
      "  'precision', 'predicted', average, warn_for)\n"
     ]
    },
    {
     "name": "stdout",
     "output_type": "stream",
     "text": [
      "[CV] alpha=0.5563390158544486, binarize=0.6408001729800439, fit_prior=True \n",
      "[CV]  alpha=0.5563390158544486, binarize=0.6408001729800439, fit_prior=True, total=   0.0s\n",
      "[CV]  alpha=0.5563390158544486, binarize=0.6408001729800439, fit_prior=True, total=   0.1s\n"
     ]
    },
    {
     "name": "stderr",
     "output_type": "stream",
     "text": [
      "/scratch/clb617/anaconda3/lib/python3.6/site-packages/sklearn/metrics/classification.py:1135: UndefinedMetricWarning: F-score is ill-defined and being set to 0.0 in labels with no predicted samples.\n",
      "  'precision', 'predicted', average, warn_for)\n"
     ]
    },
    {
     "name": "stdout",
     "output_type": "stream",
     "text": [
      "[CV]  alpha=0.5563390158544486, binarize=0.6408001729800439, fit_prior=True, total=   0.1s\n",
      "[CV] alpha=0.27032495086228536, binarize=0.9082882581540949, fit_prior=True \n"
     ]
    },
    {
     "name": "stderr",
     "output_type": "stream",
     "text": [
      "/scratch/clb617/anaconda3/lib/python3.6/site-packages/sklearn/metrics/classification.py:1135: UndefinedMetricWarning: F-score is ill-defined and being set to 0.0 in labels with no predicted samples.\n",
      "  'precision', 'predicted', average, warn_for)\n"
     ]
    },
    {
     "name": "stdout",
     "output_type": "stream",
     "text": [
      "[CV] alpha=0.27032495086228536, binarize=0.9082882581540949, fit_prior=True \n"
     ]
    },
    {
     "name": "stderr",
     "output_type": "stream",
     "text": [
      "/scratch/clb617/anaconda3/lib/python3.6/site-packages/sklearn/metrics/classification.py:1135: UndefinedMetricWarning: F-score is ill-defined and being set to 0.0 in labels with no predicted samples.\n",
      "  'precision', 'predicted', average, warn_for)\n"
     ]
    },
    {
     "name": "stdout",
     "output_type": "stream",
     "text": [
      "[CV]  alpha=0.5563390158544486, binarize=0.6408001729800439, fit_prior=True, total=   0.1s\n",
      "[CV]  alpha=0.27032495086228536, binarize=0.9082882581540949, fit_prior=True, total=   0.0s\n"
     ]
    },
    {
     "name": "stderr",
     "output_type": "stream",
     "text": [
      "/scratch/clb617/anaconda3/lib/python3.6/site-packages/sklearn/metrics/classification.py:1135: UndefinedMetricWarning: F-score is ill-defined and being set to 0.0 in labels with no predicted samples.\n",
      "  'precision', 'predicted', average, warn_for)\n"
     ]
    },
    {
     "name": "stdout",
     "output_type": "stream",
     "text": [
      "[CV] alpha=0.27032495086228536, binarize=0.9082882581540949, fit_prior=True \n",
      "[CV]  alpha=0.5563390158544486, binarize=0.6408001729800439, fit_prior=True, total=   0.2s\n"
     ]
    },
    {
     "name": "stderr",
     "output_type": "stream",
     "text": [
      "/scratch/clb617/anaconda3/lib/python3.6/site-packages/sklearn/metrics/classification.py:1135: UndefinedMetricWarning: F-score is ill-defined and being set to 0.0 in labels with no predicted samples.\n",
      "  'precision', 'predicted', average, warn_for)\n"
     ]
    },
    {
     "name": "stdout",
     "output_type": "stream",
     "text": [
      "[CV]  alpha=0.27032495086228536, binarize=0.9082882581540949, fit_prior=True, total=   0.0s\n",
      "[CV] alpha=0.27032495086228536, binarize=0.9082882581540949, fit_prior=True \n",
      "[CV] alpha=0.27032495086228536, binarize=0.9082882581540949, fit_prior=True \n"
     ]
    },
    {
     "name": "stderr",
     "output_type": "stream",
     "text": [
      "/scratch/clb617/anaconda3/lib/python3.6/site-packages/sklearn/metrics/classification.py:1135: UndefinedMetricWarning: F-score is ill-defined and being set to 0.0 in labels with no predicted samples.\n",
      "  'precision', 'predicted', average, warn_for)\n"
     ]
    },
    {
     "name": "stdout",
     "output_type": "stream",
     "text": [
      "[CV]  alpha=0.27032495086228536, binarize=0.9082882581540949, fit_prior=True, total=   0.0s\n",
      "[CV] alpha=0.27032495086228536, binarize=0.9082882581540949, fit_prior=True \n",
      "[CV] alpha=0.27032495086228536, binarize=0.9082882581540949, fit_prior=True \n",
      "[CV] alpha=0.27032495086228536, binarize=0.9082882581540949, fit_prior=True \n",
      "[CV] alpha=0.27032495086228536, binarize=0.9082882581540949, fit_prior=True \n"
     ]
    },
    {
     "name": "stderr",
     "output_type": "stream",
     "text": [
      "/scratch/clb617/anaconda3/lib/python3.6/site-packages/sklearn/metrics/classification.py:1135: UndefinedMetricWarning: F-score is ill-defined and being set to 0.0 in labels with no predicted samples.\n",
      "  'precision', 'predicted', average, warn_for)\n"
     ]
    },
    {
     "name": "stdout",
     "output_type": "stream",
     "text": [
      "[CV]  alpha=0.27032495086228536, binarize=0.9082882581540949, fit_prior=True, total=   0.1s\n",
      "[CV]  alpha=0.27032495086228536, binarize=0.9082882581540949, fit_prior=True, total=   0.0s\n"
     ]
    },
    {
     "name": "stderr",
     "output_type": "stream",
     "text": [
      "/scratch/clb617/anaconda3/lib/python3.6/site-packages/sklearn/metrics/classification.py:1135: UndefinedMetricWarning: F-score is ill-defined and being set to 0.0 in labels with no predicted samples.\n",
      "  'precision', 'predicted', average, warn_for)\n"
     ]
    },
    {
     "name": "stdout",
     "output_type": "stream",
     "text": [
      "[CV] alpha=0.5115532165250367, binarize=0.5782410628260413, fit_prior=True \n",
      "[CV] alpha=0.5115532165250367, binarize=0.5782410628260413, fit_prior=True \n",
      "[CV] alpha=0.5115532165250367, binarize=0.5782410628260413, fit_prior=True \n",
      "[CV] alpha=0.27032495086228536, binarize=0.9082882581540949, fit_prior=True \n"
     ]
    },
    {
     "name": "stderr",
     "output_type": "stream",
     "text": [
      "/scratch/clb617/anaconda3/lib/python3.6/site-packages/sklearn/metrics/classification.py:1135: UndefinedMetricWarning: F-score is ill-defined and being set to 0.0 in labels with no predicted samples.\n",
      "  'precision', 'predicted', average, warn_for)\n",
      "/scratch/clb617/anaconda3/lib/python3.6/site-packages/sklearn/metrics/classification.py:1135: UndefinedMetricWarning: F-score is ill-defined and being set to 0.0 in labels with no predicted samples.\n",
      "  'precision', 'predicted', average, warn_for)\n",
      "/scratch/clb617/anaconda3/lib/python3.6/site-packages/sklearn/metrics/classification.py:1135: UndefinedMetricWarning: F-score is ill-defined and being set to 0.0 in labels with no predicted samples.\n",
      "  'precision', 'predicted', average, warn_for)\n",
      "/scratch/clb617/anaconda3/lib/python3.6/site-packages/sklearn/metrics/classification.py:1135: UndefinedMetricWarning: F-score is ill-defined and being set to 0.0 in labels with no predicted samples.\n",
      "  'precision', 'predicted', average, warn_for)\n",
      "/scratch/clb617/anaconda3/lib/python3.6/site-packages/sklearn/metrics/classification.py:1135: UndefinedMetricWarning: F-score is ill-defined and being set to 0.0 in labels with no predicted samples.\n",
      "  'precision', 'predicted', average, warn_for)\n"
     ]
    },
    {
     "name": "stdout",
     "output_type": "stream",
     "text": [
      "[CV]  alpha=0.5115532165250367, binarize=0.5782410628260413, fit_prior=True, total=   0.1s\n"
     ]
    },
    {
     "name": "stderr",
     "output_type": "stream",
     "text": [
      "/scratch/clb617/anaconda3/lib/python3.6/site-packages/sklearn/metrics/classification.py:1135: UndefinedMetricWarning: F-score is ill-defined and being set to 0.0 in labels with no predicted samples.\n",
      "  'precision', 'predicted', average, warn_for)\n",
      "/scratch/clb617/anaconda3/lib/python3.6/site-packages/sklearn/metrics/classification.py:1135: UndefinedMetricWarning: F-score is ill-defined and being set to 0.0 in labels with no predicted samples.\n",
      "  'precision', 'predicted', average, warn_for)\n"
     ]
    },
    {
     "name": "stdout",
     "output_type": "stream",
     "text": [
      "[CV]  alpha=0.27032495086228536, binarize=0.9082882581540949, fit_prior=True, total=   0.0s\n",
      "[CV]  alpha=0.27032495086228536, binarize=0.9082882581540949, fit_prior=True, total=   0.2s\n",
      "[CV]  alpha=0.27032495086228536, binarize=0.9082882581540949, fit_prior=True, total=   0.1s\n",
      "[CV] alpha=0.5115532165250367, binarize=0.5782410628260413, fit_prior=True \n",
      "[CV]  alpha=0.27032495086228536, binarize=0.9082882581540949, fit_prior=True, total=   0.2s\n",
      "[CV]  alpha=0.5115532165250367, binarize=0.5782410628260413, fit_prior=True, total=   0.1s\n",
      "[CV]  alpha=0.5115532165250367, binarize=0.5782410628260413, fit_prior=True, total=   0.1s\n",
      "[CV] alpha=0.5115532165250367, binarize=0.5782410628260413, fit_prior=True \n",
      "[CV]  alpha=0.27032495086228536, binarize=0.9082882581540949, fit_prior=True, total=   0.2s\n",
      "[CV] alpha=0.5115532165250367, binarize=0.5782410628260413, fit_prior=True \n"
     ]
    },
    {
     "name": "stderr",
     "output_type": "stream",
     "text": [
      "/scratch/clb617/anaconda3/lib/python3.6/site-packages/sklearn/metrics/classification.py:1135: UndefinedMetricWarning: F-score is ill-defined and being set to 0.0 in labels with no predicted samples.\n",
      "  'precision', 'predicted', average, warn_for)\n",
      "/scratch/clb617/anaconda3/lib/python3.6/site-packages/sklearn/metrics/classification.py:1135: UndefinedMetricWarning: F-score is ill-defined and being set to 0.0 in labels with no predicted samples.\n",
      "  'precision', 'predicted', average, warn_for)\n",
      "/scratch/clb617/anaconda3/lib/python3.6/site-packages/sklearn/metrics/classification.py:1135: UndefinedMetricWarning: F-score is ill-defined and being set to 0.0 in labels with no predicted samples.\n",
      "  'precision', 'predicted', average, warn_for)\n"
     ]
    },
    {
     "name": "stdout",
     "output_type": "stream",
     "text": [
      "[CV] alpha=0.5115532165250367, binarize=0.5782410628260413, fit_prior=True \n",
      "[CV]  alpha=0.5115532165250367, binarize=0.5782410628260413, fit_prior=True, total=   0.1s\n",
      "[CV]  alpha=0.5115532165250367, binarize=0.5782410628260413, fit_prior=True, total=   0.1s\n",
      "[CV] alpha=0.5115532165250367, binarize=0.5782410628260413, fit_prior=True \n"
     ]
    },
    {
     "name": "stderr",
     "output_type": "stream",
     "text": [
      "/scratch/clb617/anaconda3/lib/python3.6/site-packages/sklearn/metrics/classification.py:1135: UndefinedMetricWarning: F-score is ill-defined and being set to 0.0 in labels with no predicted samples.\n",
      "  'precision', 'predicted', average, warn_for)\n",
      "/scratch/clb617/anaconda3/lib/python3.6/site-packages/sklearn/metrics/classification.py:1135: UndefinedMetricWarning: F-score is ill-defined and being set to 0.0 in labels with no predicted samples.\n",
      "  'precision', 'predicted', average, warn_for)\n"
     ]
    },
    {
     "name": "stdout",
     "output_type": "stream",
     "text": [
      "[CV]  alpha=0.5115532165250367, binarize=0.5782410628260413, fit_prior=True, total=   0.1s\n",
      "[CV] alpha=0.5115532165250367, binarize=0.5782410628260413, fit_prior=True \n",
      "[CV]  alpha=0.5115532165250367, binarize=0.5782410628260413, fit_prior=True, total=   0.0s\n",
      "[CV] alpha=0.5115532165250367, binarize=0.5782410628260413, fit_prior=True \n",
      "[CV]  alpha=0.5115532165250367, binarize=0.5782410628260413, fit_prior=True, total=   0.0s\n"
     ]
    },
    {
     "name": "stderr",
     "output_type": "stream",
     "text": [
      "/scratch/clb617/anaconda3/lib/python3.6/site-packages/sklearn/metrics/classification.py:1135: UndefinedMetricWarning: F-score is ill-defined and being set to 0.0 in labels with no predicted samples.\n",
      "  'precision', 'predicted', average, warn_for)\n"
     ]
    },
    {
     "name": "stdout",
     "output_type": "stream",
     "text": [
      "[CV] alpha=0.49250726924709265, binarize=0.8443195345192379, fit_prior=True \n"
     ]
    },
    {
     "name": "stderr",
     "output_type": "stream",
     "text": [
      "/scratch/clb617/anaconda3/lib/python3.6/site-packages/sklearn/metrics/classification.py:1135: UndefinedMetricWarning: F-score is ill-defined and being set to 0.0 in labels with no predicted samples.\n",
      "  'precision', 'predicted', average, warn_for)\n"
     ]
    },
    {
     "name": "stdout",
     "output_type": "stream",
     "text": [
      "[CV]  alpha=0.5115532165250367, binarize=0.5782410628260413, fit_prior=True, total=   0.0s\n",
      "[CV]  alpha=0.5115532165250367, binarize=0.5782410628260413, fit_prior=True, total=   0.1s\n",
      "[CV] alpha=0.49250726924709265, binarize=0.8443195345192379, fit_prior=True \n"
     ]
    },
    {
     "name": "stderr",
     "output_type": "stream",
     "text": [
      "/scratch/clb617/anaconda3/lib/python3.6/site-packages/sklearn/metrics/classification.py:1135: UndefinedMetricWarning: F-score is ill-defined and being set to 0.0 in labels with no predicted samples.\n",
      "  'precision', 'predicted', average, warn_for)\n",
      "/scratch/clb617/anaconda3/lib/python3.6/site-packages/sklearn/metrics/classification.py:1135: UndefinedMetricWarning: F-score is ill-defined and being set to 0.0 in labels with no predicted samples.\n",
      "  'precision', 'predicted', average, warn_for)\n"
     ]
    },
    {
     "name": "stdout",
     "output_type": "stream",
     "text": [
      "[CV]  alpha=0.49250726924709265, binarize=0.8443195345192379, fit_prior=True, total=   0.0s\n",
      "[CV]  alpha=0.49250726924709265, binarize=0.8443195345192379, fit_prior=True, total=   0.1s\n",
      "[CV] alpha=0.49250726924709265, binarize=0.8443195345192379, fit_prior=True \n",
      "[CV] alpha=0.49250726924709265, binarize=0.8443195345192379, fit_prior=True \n"
     ]
    },
    {
     "name": "stderr",
     "output_type": "stream",
     "text": [
      "/scratch/clb617/anaconda3/lib/python3.6/site-packages/sklearn/metrics/classification.py:1135: UndefinedMetricWarning: F-score is ill-defined and being set to 0.0 in labels with no predicted samples.\n",
      "  'precision', 'predicted', average, warn_for)\n"
     ]
    },
    {
     "name": "stdout",
     "output_type": "stream",
     "text": [
      "[CV]  alpha=0.49250726924709265, binarize=0.8443195345192379, fit_prior=True, total=   0.0s\n"
     ]
    },
    {
     "name": "stderr",
     "output_type": "stream",
     "text": [
      "/scratch/clb617/anaconda3/lib/python3.6/site-packages/sklearn/metrics/classification.py:1135: UndefinedMetricWarning: F-score is ill-defined and being set to 0.0 in labels with no predicted samples.\n",
      "  'precision', 'predicted', average, warn_for)\n"
     ]
    },
    {
     "name": "stdout",
     "output_type": "stream",
     "text": [
      "[CV]  alpha=0.49250726924709265, binarize=0.8443195345192379, fit_prior=True, total=   0.1s\n",
      "[CV] alpha=0.49250726924709265, binarize=0.8443195345192379, fit_prior=True \n"
     ]
    },
    {
     "name": "stderr",
     "output_type": "stream",
     "text": [
      "/scratch/clb617/anaconda3/lib/python3.6/site-packages/sklearn/metrics/classification.py:1135: UndefinedMetricWarning: F-score is ill-defined and being set to 0.0 in labels with no predicted samples.\n",
      "  'precision', 'predicted', average, warn_for)\n"
     ]
    },
    {
     "name": "stdout",
     "output_type": "stream",
     "text": [
      "[CV] alpha=0.49250726924709265, binarize=0.8443195345192379, fit_prior=True \n",
      "[CV] alpha=0.49250726924709265, binarize=0.8443195345192379, fit_prior=True \n",
      "[CV] alpha=0.49250726924709265, binarize=0.8443195345192379, fit_prior=True \n"
     ]
    },
    {
     "name": "stderr",
     "output_type": "stream",
     "text": [
      "/scratch/clb617/anaconda3/lib/python3.6/site-packages/sklearn/metrics/classification.py:1135: UndefinedMetricWarning: F-score is ill-defined and being set to 0.0 in labels with no predicted samples.\n",
      "  'precision', 'predicted', average, warn_for)\n"
     ]
    },
    {
     "name": "stdout",
     "output_type": "stream",
     "text": [
      "[CV]  alpha=0.49250726924709265, binarize=0.8443195345192379, fit_prior=True, total=   0.1s\n",
      "[CV]  alpha=0.49250726924709265, binarize=0.8443195345192379, fit_prior=True, total=   0.0s\n"
     ]
    },
    {
     "name": "stderr",
     "output_type": "stream",
     "text": [
      "/scratch/clb617/anaconda3/lib/python3.6/site-packages/sklearn/metrics/classification.py:1135: UndefinedMetricWarning: F-score is ill-defined and being set to 0.0 in labels with no predicted samples.\n",
      "  'precision', 'predicted', average, warn_for)\n",
      "/scratch/clb617/anaconda3/lib/python3.6/site-packages/sklearn/metrics/classification.py:1135: UndefinedMetricWarning: F-score is ill-defined and being set to 0.0 in labels with no predicted samples.\n",
      "  'precision', 'predicted', average, warn_for)\n"
     ]
    },
    {
     "name": "stdout",
     "output_type": "stream",
     "text": [
      "[CV]  alpha=0.49250726924709265, binarize=0.8443195345192379, fit_prior=True, total=   0.0s\n",
      "[CV]  alpha=0.49250726924709265, binarize=0.8443195345192379, fit_prior=True, total=   0.0s\n",
      "[CV] alpha=0.49250726924709265, binarize=0.8443195345192379, fit_prior=True \n",
      "[CV] alpha=0.49250726924709265, binarize=0.8443195345192379, fit_prior=True \n",
      "[CV] alpha=0.05134305647695325, binarize=0.045909955637688404, fit_prior=True \n",
      "[CV] alpha=0.05134305647695325, binarize=0.045909955637688404, fit_prior=True \n"
     ]
    },
    {
     "name": "stderr",
     "output_type": "stream",
     "text": [
      "/scratch/clb617/anaconda3/lib/python3.6/site-packages/sklearn/metrics/classification.py:1135: UndefinedMetricWarning: F-score is ill-defined and being set to 0.0 in labels with no predicted samples.\n",
      "  'precision', 'predicted', average, warn_for)\n"
     ]
    },
    {
     "name": "stdout",
     "output_type": "stream",
     "text": [
      "[CV] alpha=0.05134305647695325, binarize=0.045909955637688404, fit_prior=True \n",
      "[CV]  alpha=0.05134305647695325, binarize=0.045909955637688404, fit_prior=True, total=   0.0s\n"
     ]
    },
    {
     "name": "stderr",
     "output_type": "stream",
     "text": [
      "/scratch/clb617/anaconda3/lib/python3.6/site-packages/sklearn/metrics/classification.py:1135: UndefinedMetricWarning: F-score is ill-defined and being set to 0.0 in labels with no predicted samples.\n",
      "  'precision', 'predicted', average, warn_for)\n",
      "/scratch/clb617/anaconda3/lib/python3.6/site-packages/sklearn/metrics/classification.py:1135: UndefinedMetricWarning: F-score is ill-defined and being set to 0.0 in labels with no predicted samples.\n",
      "  'precision', 'predicted', average, warn_for)\n",
      "/scratch/clb617/anaconda3/lib/python3.6/site-packages/sklearn/metrics/classification.py:1135: UndefinedMetricWarning: F-score is ill-defined and being set to 0.0 in labels with no predicted samples.\n",
      "  'precision', 'predicted', average, warn_for)\n"
     ]
    },
    {
     "name": "stdout",
     "output_type": "stream",
     "text": [
      "[CV]  alpha=0.49250726924709265, binarize=0.8443195345192379, fit_prior=True, total=   0.1s\n"
     ]
    },
    {
     "name": "stderr",
     "output_type": "stream",
     "text": [
      "/scratch/clb617/anaconda3/lib/python3.6/site-packages/sklearn/metrics/classification.py:1135: UndefinedMetricWarning: F-score is ill-defined and being set to 0.0 in labels with no predicted samples.\n",
      "  'precision', 'predicted', average, warn_for)\n"
     ]
    },
    {
     "name": "stdout",
     "output_type": "stream",
     "text": [
      "[CV]  alpha=0.49250726924709265, binarize=0.8443195345192379, fit_prior=True, total=   0.1s\n",
      "[CV] alpha=0.05134305647695325, binarize=0.045909955637688404, fit_prior=True \n"
     ]
    },
    {
     "name": "stderr",
     "output_type": "stream",
     "text": [
      "/scratch/clb617/anaconda3/lib/python3.6/site-packages/sklearn/metrics/classification.py:1135: UndefinedMetricWarning: F-score is ill-defined and being set to 0.0 in labels with no predicted samples.\n",
      "  'precision', 'predicted', average, warn_for)\n"
     ]
    },
    {
     "name": "stdout",
     "output_type": "stream",
     "text": [
      "[CV]  alpha=0.05134305647695325, binarize=0.045909955637688404, fit_prior=True, total=   0.0s\n",
      "[CV] alpha=0.05134305647695325, binarize=0.045909955637688404, fit_prior=True \n",
      "[CV]  alpha=0.05134305647695325, binarize=0.045909955637688404, fit_prior=True, total=   0.0s\n",
      "[CV] alpha=0.05134305647695325, binarize=0.045909955637688404, fit_prior=True \n",
      "[CV] alpha=0.05134305647695325, binarize=0.045909955637688404, fit_prior=True \n",
      "[CV]  alpha=0.05134305647695325, binarize=0.045909955637688404, fit_prior=True, total=   0.1s\n"
     ]
    },
    {
     "name": "stderr",
     "output_type": "stream",
     "text": [
      "/scratch/clb617/anaconda3/lib/python3.6/site-packages/sklearn/metrics/classification.py:1135: UndefinedMetricWarning: F-score is ill-defined and being set to 0.0 in labels with no predicted samples.\n",
      "  'precision', 'predicted', average, warn_for)\n",
      "/scratch/clb617/anaconda3/lib/python3.6/site-packages/sklearn/metrics/classification.py:1135: UndefinedMetricWarning: F-score is ill-defined and being set to 0.0 in labels with no predicted samples.\n",
      "  'precision', 'predicted', average, warn_for)\n"
     ]
    },
    {
     "name": "stdout",
     "output_type": "stream",
     "text": [
      "[CV]  alpha=0.05134305647695325, binarize=0.045909955637688404, fit_prior=True, total=   0.1s\n",
      "[CV] alpha=0.05134305647695325, binarize=0.045909955637688404, fit_prior=True \n"
     ]
    },
    {
     "name": "stderr",
     "output_type": "stream",
     "text": [
      "/scratch/clb617/anaconda3/lib/python3.6/site-packages/sklearn/metrics/classification.py:1135: UndefinedMetricWarning: F-score is ill-defined and being set to 0.0 in labels with no predicted samples.\n",
      "  'precision', 'predicted', average, warn_for)\n"
     ]
    },
    {
     "name": "stdout",
     "output_type": "stream",
     "text": [
      "[CV]  alpha=0.05134305647695325, binarize=0.045909955637688404, fit_prior=True, total=   0.0s\n",
      "[CV] alpha=0.05134305647695325, binarize=0.045909955637688404, fit_prior=True \n"
     ]
    },
    {
     "name": "stderr",
     "output_type": "stream",
     "text": [
      "/scratch/clb617/anaconda3/lib/python3.6/site-packages/sklearn/metrics/classification.py:1135: UndefinedMetricWarning: F-score is ill-defined and being set to 0.0 in labels with no predicted samples.\n",
      "  'precision', 'predicted', average, warn_for)\n"
     ]
    },
    {
     "name": "stdout",
     "output_type": "stream",
     "text": [
      "[CV]  alpha=0.05134305647695325, binarize=0.045909955637688404, fit_prior=True, total=   0.1s\n",
      "[CV] alpha=0.05134305647695325, binarize=0.045909955637688404, fit_prior=True \n",
      "[CV] alpha=0.2745364217686861, binarize=0.42754581349401066, fit_prior=False \n",
      "[CV] alpha=0.2745364217686861, binarize=0.42754581349401066, fit_prior=False \n"
     ]
    },
    {
     "name": "stderr",
     "output_type": "stream",
     "text": [
      "/scratch/clb617/anaconda3/lib/python3.6/site-packages/sklearn/metrics/classification.py:1135: UndefinedMetricWarning: F-score is ill-defined and being set to 0.0 in labels with no predicted samples.\n",
      "  'precision', 'predicted', average, warn_for)\n",
      "/scratch/clb617/anaconda3/lib/python3.6/site-packages/sklearn/metrics/classification.py:1135: UndefinedMetricWarning: F-score is ill-defined and being set to 0.0 in labels with no predicted samples.\n",
      "  'precision', 'predicted', average, warn_for)\n"
     ]
    },
    {
     "name": "stdout",
     "output_type": "stream",
     "text": [
      "[CV]  alpha=0.05134305647695325, binarize=0.045909955637688404, fit_prior=True, total=   0.1s\n"
     ]
    },
    {
     "name": "stderr",
     "output_type": "stream",
     "text": [
      "/scratch/clb617/anaconda3/lib/python3.6/site-packages/sklearn/metrics/classification.py:1135: UndefinedMetricWarning: F-score is ill-defined and being set to 0.0 in labels with no predicted samples.\n",
      "  'precision', 'predicted', average, warn_for)\n"
     ]
    },
    {
     "name": "stdout",
     "output_type": "stream",
     "text": [
      "[CV]  alpha=0.05134305647695325, binarize=0.045909955637688404, fit_prior=True, total=   0.1s\n",
      "[CV]  alpha=0.2745364217686861, binarize=0.42754581349401066, fit_prior=False, total=   0.1s\n",
      "[CV]  alpha=0.05134305647695325, binarize=0.045909955637688404, fit_prior=True, total=   0.1s\n"
     ]
    },
    {
     "name": "stderr",
     "output_type": "stream",
     "text": [
      "/scratch/clb617/anaconda3/lib/python3.6/site-packages/sklearn/metrics/classification.py:1135: UndefinedMetricWarning: F-score is ill-defined and being set to 0.0 in labels with no predicted samples.\n",
      "  'precision', 'predicted', average, warn_for)\n"
     ]
    },
    {
     "name": "stdout",
     "output_type": "stream",
     "text": [
      "[CV] alpha=0.2745364217686861, binarize=0.42754581349401066, fit_prior=False \n",
      "[CV]  alpha=0.2745364217686861, binarize=0.42754581349401066, fit_prior=False, total=   0.1s\n",
      "[CV] alpha=0.2745364217686861, binarize=0.42754581349401066, fit_prior=False \n",
      "[CV] alpha=0.2745364217686861, binarize=0.42754581349401066, fit_prior=False \n"
     ]
    },
    {
     "name": "stderr",
     "output_type": "stream",
     "text": [
      "/scratch/clb617/anaconda3/lib/python3.6/site-packages/sklearn/metrics/classification.py:1135: UndefinedMetricWarning: F-score is ill-defined and being set to 0.0 in labels with no predicted samples.\n",
      "  'precision', 'predicted', average, warn_for)\n"
     ]
    },
    {
     "name": "stdout",
     "output_type": "stream",
     "text": [
      "[CV] alpha=0.2745364217686861, binarize=0.42754581349401066, fit_prior=False \n"
     ]
    },
    {
     "name": "stderr",
     "output_type": "stream",
     "text": [
      "/scratch/clb617/anaconda3/lib/python3.6/site-packages/sklearn/metrics/classification.py:1135: UndefinedMetricWarning: F-score is ill-defined and being set to 0.0 in labels with no predicted samples.\n",
      "  'precision', 'predicted', average, warn_for)\n"
     ]
    },
    {
     "name": "stdout",
     "output_type": "stream",
     "text": [
      "[CV] alpha=0.2745364217686861, binarize=0.42754581349401066, fit_prior=False \n",
      "[CV] alpha=0.2745364217686861, binarize=0.42754581349401066, fit_prior=False \n"
     ]
    },
    {
     "name": "stderr",
     "output_type": "stream",
     "text": [
      "/scratch/clb617/anaconda3/lib/python3.6/site-packages/sklearn/metrics/classification.py:1135: UndefinedMetricWarning: F-score is ill-defined and being set to 0.0 in labels with no predicted samples.\n",
      "  'precision', 'predicted', average, warn_for)\n",
      "/scratch/clb617/anaconda3/lib/python3.6/site-packages/sklearn/metrics/classification.py:1135: UndefinedMetricWarning: F-score is ill-defined and being set to 0.0 in labels with no predicted samples.\n",
      "  'precision', 'predicted', average, warn_for)\n"
     ]
    },
    {
     "name": "stdout",
     "output_type": "stream",
     "text": [
      "[CV]  alpha=0.2745364217686861, binarize=0.42754581349401066, fit_prior=False, total=   0.1s\n",
      "[CV]  alpha=0.2745364217686861, binarize=0.42754581349401066, fit_prior=False, total=   0.1s\n",
      "[CV] alpha=0.2745364217686861, binarize=0.42754581349401066, fit_prior=False \n",
      "[CV] alpha=0.2745364217686861, binarize=0.42754581349401066, fit_prior=False \n",
      "[CV]  alpha=0.2745364217686861, binarize=0.42754581349401066, fit_prior=False, total=   0.1s\n",
      "[CV]  alpha=0.2745364217686861, binarize=0.42754581349401066, fit_prior=False, total=   0.1s\n"
     ]
    },
    {
     "name": "stderr",
     "output_type": "stream",
     "text": [
      "/scratch/clb617/anaconda3/lib/python3.6/site-packages/sklearn/metrics/classification.py:1135: UndefinedMetricWarning: F-score is ill-defined and being set to 0.0 in labels with no predicted samples.\n",
      "  'precision', 'predicted', average, warn_for)\n",
      "/scratch/clb617/anaconda3/lib/python3.6/site-packages/sklearn/metrics/classification.py:1135: UndefinedMetricWarning: F-score is ill-defined and being set to 0.0 in labels with no predicted samples.\n",
      "  'precision', 'predicted', average, warn_for)\n",
      "/scratch/clb617/anaconda3/lib/python3.6/site-packages/sklearn/metrics/classification.py:1135: UndefinedMetricWarning: F-score is ill-defined and being set to 0.0 in labels with no predicted samples.\n",
      "  'precision', 'predicted', average, warn_for)\n"
     ]
    },
    {
     "name": "stdout",
     "output_type": "stream",
     "text": [
      "[CV]  alpha=0.2745364217686861, binarize=0.42754581349401066, fit_prior=False, total=   0.0s\n",
      "[CV]  alpha=0.2745364217686861, binarize=0.42754581349401066, fit_prior=False, total=   0.0s\n",
      "[CV]  alpha=0.2745364217686861, binarize=0.42754581349401066, fit_prior=False, total=   0.2s\n",
      "[CV] alpha=0.19661886938013906, binarize=0.2717444173882694, fit_prior=False \n",
      "[CV] alpha=0.19661886938013906, binarize=0.2717444173882694, fit_prior=False \n"
     ]
    },
    {
     "name": "stderr",
     "output_type": "stream",
     "text": [
      "/scratch/clb617/anaconda3/lib/python3.6/site-packages/sklearn/metrics/classification.py:1135: UndefinedMetricWarning: F-score is ill-defined and being set to 0.0 in labels with no predicted samples.\n",
      "  'precision', 'predicted', average, warn_for)\n"
     ]
    },
    {
     "name": "stdout",
     "output_type": "stream",
     "text": [
      "[CV] alpha=0.19661886938013906, binarize=0.2717444173882694, fit_prior=False \n"
     ]
    },
    {
     "name": "stderr",
     "output_type": "stream",
     "text": [
      "/scratch/clb617/anaconda3/lib/python3.6/site-packages/sklearn/metrics/classification.py:1135: UndefinedMetricWarning: F-score is ill-defined and being set to 0.0 in labels with no predicted samples.\n",
      "  'precision', 'predicted', average, warn_for)\n"
     ]
    },
    {
     "name": "stdout",
     "output_type": "stream",
     "text": [
      "[CV]  alpha=0.19661886938013906, binarize=0.2717444173882694, fit_prior=False, total=   0.1s\n"
     ]
    },
    {
     "name": "stderr",
     "output_type": "stream",
     "text": [
      "/scratch/clb617/anaconda3/lib/python3.6/site-packages/sklearn/metrics/classification.py:1135: UndefinedMetricWarning: F-score is ill-defined and being set to 0.0 in labels with no predicted samples.\n",
      "  'precision', 'predicted', average, warn_for)\n"
     ]
    },
    {
     "name": "stdout",
     "output_type": "stream",
     "text": [
      "[CV] alpha=0.19661886938013906, binarize=0.2717444173882694, fit_prior=False \n"
     ]
    },
    {
     "name": "stderr",
     "output_type": "stream",
     "text": [
      "/scratch/clb617/anaconda3/lib/python3.6/site-packages/sklearn/metrics/classification.py:1135: UndefinedMetricWarning: F-score is ill-defined and being set to 0.0 in labels with no predicted samples.\n",
      "  'precision', 'predicted', average, warn_for)\n"
     ]
    },
    {
     "name": "stdout",
     "output_type": "stream",
     "text": [
      "[CV]  alpha=0.19661886938013906, binarize=0.2717444173882694, fit_prior=False, total=   0.1s\n"
     ]
    },
    {
     "name": "stderr",
     "output_type": "stream",
     "text": [
      "/scratch/clb617/anaconda3/lib/python3.6/site-packages/sklearn/metrics/classification.py:1135: UndefinedMetricWarning: F-score is ill-defined and being set to 0.0 in labels with no predicted samples.\n",
      "  'precision', 'predicted', average, warn_for)\n"
     ]
    },
    {
     "name": "stdout",
     "output_type": "stream",
     "text": [
      "[CV]  alpha=0.19661886938013906, binarize=0.2717444173882694, fit_prior=False, total=   0.0s\n",
      "[CV]  alpha=0.2745364217686861, binarize=0.42754581349401066, fit_prior=False, total=   0.4s\n",
      "[CV]  alpha=0.19661886938013906, binarize=0.2717444173882694, fit_prior=False, total=   0.1s\n",
      "[CV] alpha=0.19661886938013906, binarize=0.2717444173882694, fit_prior=False \n",
      "[CV] alpha=0.19661886938013906, binarize=0.2717444173882694, fit_prior=False \n"
     ]
    },
    {
     "name": "stderr",
     "output_type": "stream",
     "text": [
      "/scratch/clb617/anaconda3/lib/python3.6/site-packages/sklearn/metrics/classification.py:1135: UndefinedMetricWarning: F-score is ill-defined and being set to 0.0 in labels with no predicted samples.\n",
      "  'precision', 'predicted', average, warn_for)\n"
     ]
    },
    {
     "name": "stdout",
     "output_type": "stream",
     "text": [
      "[CV] alpha=0.19661886938013906, binarize=0.2717444173882694, fit_prior=False \n"
     ]
    },
    {
     "name": "stderr",
     "output_type": "stream",
     "text": [
      "/scratch/clb617/anaconda3/lib/python3.6/site-packages/sklearn/metrics/classification.py:1135: UndefinedMetricWarning: F-score is ill-defined and being set to 0.0 in labels with no predicted samples.\n",
      "  'precision', 'predicted', average, warn_for)\n",
      "/scratch/clb617/anaconda3/lib/python3.6/site-packages/sklearn/metrics/classification.py:1135: UndefinedMetricWarning: F-score is ill-defined and being set to 0.0 in labels with no predicted samples.\n",
      "  'precision', 'predicted', average, warn_for)\n"
     ]
    },
    {
     "name": "stdout",
     "output_type": "stream",
     "text": [
      "[CV]  alpha=0.19661886938013906, binarize=0.2717444173882694, fit_prior=False, total=   0.0s\n",
      "[CV] alpha=0.19661886938013906, binarize=0.2717444173882694, fit_prior=False \n",
      "[CV] alpha=0.19661886938013906, binarize=0.2717444173882694, fit_prior=False \n",
      "[CV]  alpha=0.19661886938013906, binarize=0.2717444173882694, fit_prior=False, total=   0.1s\n",
      "[CV] alpha=0.19661886938013906, binarize=0.2717444173882694, fit_prior=False \n"
     ]
    },
    {
     "name": "stderr",
     "output_type": "stream",
     "text": [
      "/scratch/clb617/anaconda3/lib/python3.6/site-packages/sklearn/metrics/classification.py:1135: UndefinedMetricWarning: F-score is ill-defined and being set to 0.0 in labels with no predicted samples.\n",
      "  'precision', 'predicted', average, warn_for)\n"
     ]
    },
    {
     "name": "stdout",
     "output_type": "stream",
     "text": [
      "[CV] alpha=0.625852826299868, binarize=0.03311340254005812, fit_prior=False \n",
      "[CV] alpha=0.625852826299868, binarize=0.03311340254005812, fit_prior=False \n",
      "[CV] alpha=0.625852826299868, binarize=0.03311340254005812, fit_prior=False \n",
      "[CV]  alpha=0.19661886938013906, binarize=0.2717444173882694, fit_prior=False, total=   0.0s\n",
      "[CV] alpha=0.625852826299868, binarize=0.03311340254005812, fit_prior=False \n",
      "[CV] alpha=0.625852826299868, binarize=0.03311340254005812, fit_prior=False \n",
      "[CV]  alpha=0.19661886938013906, binarize=0.2717444173882694, fit_prior=False, total=   0.1s\n"
     ]
    },
    {
     "name": "stderr",
     "output_type": "stream",
     "text": [
      "/scratch/clb617/anaconda3/lib/python3.6/site-packages/sklearn/metrics/classification.py:1135: UndefinedMetricWarning: F-score is ill-defined and being set to 0.0 in labels with no predicted samples.\n",
      "  'precision', 'predicted', average, warn_for)\n"
     ]
    },
    {
     "name": "stdout",
     "output_type": "stream",
     "text": [
      "[CV] alpha=0.625852826299868, binarize=0.03311340254005812, fit_prior=False \n",
      "[CV] alpha=0.625852826299868, binarize=0.03311340254005812, fit_prior=False \n",
      "[CV]  alpha=0.19661886938013906, binarize=0.2717444173882694, fit_prior=False, total=   0.1s\n"
     ]
    },
    {
     "name": "stderr",
     "output_type": "stream",
     "text": [
      "/scratch/clb617/anaconda3/lib/python3.6/site-packages/sklearn/metrics/classification.py:1135: UndefinedMetricWarning: F-score is ill-defined and being set to 0.0 in labels with no predicted samples.\n",
      "  'precision', 'predicted', average, warn_for)\n",
      "/scratch/clb617/anaconda3/lib/python3.6/site-packages/sklearn/metrics/classification.py:1135: UndefinedMetricWarning: F-score is ill-defined and being set to 0.0 in labels with no predicted samples.\n",
      "  'precision', 'predicted', average, warn_for)\n",
      "/scratch/clb617/anaconda3/lib/python3.6/site-packages/sklearn/metrics/classification.py:1135: UndefinedMetricWarning: F-score is ill-defined and being set to 0.0 in labels with no predicted samples.\n",
      "  'precision', 'predicted', average, warn_for)\n",
      "/scratch/clb617/anaconda3/lib/python3.6/site-packages/sklearn/metrics/classification.py:1135: UndefinedMetricWarning: F-score is ill-defined and being set to 0.0 in labels with no predicted samples.\n",
      "  'precision', 'predicted', average, warn_for)\n",
      "/scratch/clb617/anaconda3/lib/python3.6/site-packages/sklearn/metrics/classification.py:1135: UndefinedMetricWarning: F-score is ill-defined and being set to 0.0 in labels with no predicted samples.\n",
      "  'precision', 'predicted', average, warn_for)\n",
      "/scratch/clb617/anaconda3/lib/python3.6/site-packages/sklearn/metrics/classification.py:1135: UndefinedMetricWarning: F-score is ill-defined and being set to 0.0 in labels with no predicted samples.\n",
      "  'precision', 'predicted', average, warn_for)\n",
      "/scratch/clb617/anaconda3/lib/python3.6/site-packages/sklearn/metrics/classification.py:1135: UndefinedMetricWarning: F-score is ill-defined and being set to 0.0 in labels with no predicted samples.\n",
      "  'precision', 'predicted', average, warn_for)\n"
     ]
    },
    {
     "name": "stdout",
     "output_type": "stream",
     "text": [
      "[CV]  alpha=0.625852826299868, binarize=0.03311340254005812, fit_prior=False, total=   0.1s\n",
      "[CV]  alpha=0.625852826299868, binarize=0.03311340254005812, fit_prior=False, total=   0.1s\n",
      "[CV]  alpha=0.625852826299868, binarize=0.03311340254005812, fit_prior=False, total=   0.0s\n",
      "[CV]  alpha=0.625852826299868, binarize=0.03311340254005812, fit_prior=False, total=   0.2s\n",
      "[CV]  alpha=0.625852826299868, binarize=0.03311340254005812, fit_prior=False, total=   0.1s\n",
      "[CV]  alpha=0.625852826299868, binarize=0.03311340254005812, fit_prior=False, total=   0.1s\n"
     ]
    },
    {
     "name": "stderr",
     "output_type": "stream",
     "text": [
      "/scratch/clb617/anaconda3/lib/python3.6/site-packages/sklearn/metrics/classification.py:1135: UndefinedMetricWarning: F-score is ill-defined and being set to 0.0 in labels with no predicted samples.\n",
      "  'precision', 'predicted', average, warn_for)\n"
     ]
    },
    {
     "name": "stdout",
     "output_type": "stream",
     "text": [
      "[CV]  alpha=0.625852826299868, binarize=0.03311340254005812, fit_prior=False, total=   0.0s\n",
      "[CV] alpha=0.625852826299868, binarize=0.03311340254005812, fit_prior=False \n",
      "[CV] alpha=0.625852826299868, binarize=0.03311340254005812, fit_prior=False \n",
      "[CV]  alpha=0.19661886938013906, binarize=0.2717444173882694, fit_prior=False, total=   0.2s\n",
      "[CV] alpha=0.625852826299868, binarize=0.03311340254005812, fit_prior=False \n"
     ]
    },
    {
     "name": "stderr",
     "output_type": "stream",
     "text": [
      "/scratch/clb617/anaconda3/lib/python3.6/site-packages/sklearn/metrics/classification.py:1135: UndefinedMetricWarning: F-score is ill-defined and being set to 0.0 in labels with no predicted samples.\n",
      "  'precision', 'predicted', average, warn_for)\n"
     ]
    },
    {
     "name": "stdout",
     "output_type": "stream",
     "text": [
      "[CV]  alpha=0.625852826299868, binarize=0.03311340254005812, fit_prior=False, total=   0.1s\n",
      "[CV] alpha=0.2703198694818053, binarize=0.2804446217411106, fit_prior=True \n"
     ]
    },
    {
     "name": "stderr",
     "output_type": "stream",
     "text": [
      "/scratch/clb617/anaconda3/lib/python3.6/site-packages/sklearn/metrics/classification.py:1135: UndefinedMetricWarning: F-score is ill-defined and being set to 0.0 in labels with no predicted samples.\n",
      "  'precision', 'predicted', average, warn_for)\n"
     ]
    },
    {
     "name": "stdout",
     "output_type": "stream",
     "text": [
      "[CV] alpha=0.2703198694818053, binarize=0.2804446217411106, fit_prior=True \n"
     ]
    },
    {
     "name": "stderr",
     "output_type": "stream",
     "text": [
      "/scratch/clb617/anaconda3/lib/python3.6/site-packages/sklearn/metrics/classification.py:1135: UndefinedMetricWarning: F-score is ill-defined and being set to 0.0 in labels with no predicted samples.\n",
      "  'precision', 'predicted', average, warn_for)\n",
      "/scratch/clb617/anaconda3/lib/python3.6/site-packages/sklearn/metrics/classification.py:1135: UndefinedMetricWarning: F-score is ill-defined and being set to 0.0 in labels with no predicted samples.\n",
      "  'precision', 'predicted', average, warn_for)\n",
      "/scratch/clb617/anaconda3/lib/python3.6/site-packages/sklearn/metrics/classification.py:1135: UndefinedMetricWarning: F-score is ill-defined and being set to 0.0 in labels with no predicted samples.\n",
      "  'precision', 'predicted', average, warn_for)\n"
     ]
    },
    {
     "name": "stdout",
     "output_type": "stream",
     "text": [
      "[CV]  alpha=0.625852826299868, binarize=0.03311340254005812, fit_prior=False, total=   0.1s\n",
      "[CV]  alpha=0.2703198694818053, binarize=0.2804446217411106, fit_prior=True, total=   0.0s\n",
      "[CV]  alpha=0.2703198694818053, binarize=0.2804446217411106, fit_prior=True, total=   0.0s\n",
      "[CV]  alpha=0.625852826299868, binarize=0.03311340254005812, fit_prior=False, total=   0.1s\n",
      "[CV] alpha=0.2703198694818053, binarize=0.2804446217411106, fit_prior=True \n",
      "[CV] alpha=0.2703198694818053, binarize=0.2804446217411106, fit_prior=True \n",
      "[CV] alpha=0.2703198694818053, binarize=0.2804446217411106, fit_prior=True \n"
     ]
    },
    {
     "name": "stderr",
     "output_type": "stream",
     "text": [
      "/scratch/clb617/anaconda3/lib/python3.6/site-packages/sklearn/metrics/classification.py:1135: UndefinedMetricWarning: F-score is ill-defined and being set to 0.0 in labels with no predicted samples.\n",
      "  'precision', 'predicted', average, warn_for)\n",
      "/scratch/clb617/anaconda3/lib/python3.6/site-packages/sklearn/metrics/classification.py:1135: UndefinedMetricWarning: F-score is ill-defined and being set to 0.0 in labels with no predicted samples.\n",
      "  'precision', 'predicted', average, warn_for)\n",
      "/scratch/clb617/anaconda3/lib/python3.6/site-packages/sklearn/metrics/classification.py:1135: UndefinedMetricWarning: F-score is ill-defined and being set to 0.0 in labels with no predicted samples.\n",
      "  'precision', 'predicted', average, warn_for)\n"
     ]
    },
    {
     "name": "stdout",
     "output_type": "stream",
     "text": [
      "[CV]  alpha=0.2703198694818053, binarize=0.2804446217411106, fit_prior=True, total=   0.0s\n",
      "[CV]  alpha=0.2703198694818053, binarize=0.2804446217411106, fit_prior=True, total=   0.0s\n",
      "[CV] alpha=0.2703198694818053, binarize=0.2804446217411106, fit_prior=True \n",
      "[CV]  alpha=0.2703198694818053, binarize=0.2804446217411106, fit_prior=True, total=   0.1s\n"
     ]
    },
    {
     "name": "stderr",
     "output_type": "stream",
     "text": [
      "/scratch/clb617/anaconda3/lib/python3.6/site-packages/sklearn/metrics/classification.py:1135: UndefinedMetricWarning: F-score is ill-defined and being set to 0.0 in labels with no predicted samples.\n",
      "  'precision', 'predicted', average, warn_for)\n"
     ]
    },
    {
     "name": "stdout",
     "output_type": "stream",
     "text": [
      "[CV] alpha=0.2703198694818053, binarize=0.2804446217411106, fit_prior=True \n",
      "[CV] alpha=0.2703198694818053, binarize=0.2804446217411106, fit_prior=True \n",
      "[CV]  alpha=0.2703198694818053, binarize=0.2804446217411106, fit_prior=True, total=   0.0s\n"
     ]
    },
    {
     "name": "stderr",
     "output_type": "stream",
     "text": [
      "/scratch/clb617/anaconda3/lib/python3.6/site-packages/sklearn/metrics/classification.py:1135: UndefinedMetricWarning: F-score is ill-defined and being set to 0.0 in labels with no predicted samples.\n",
      "  'precision', 'predicted', average, warn_for)\n"
     ]
    },
    {
     "name": "stdout",
     "output_type": "stream",
     "text": [
      "[CV] alpha=0.2703198694818053, binarize=0.2804446217411106, fit_prior=True \n",
      "[CV] alpha=0.2703198694818053, binarize=0.2804446217411106, fit_prior=True \n"
     ]
    },
    {
     "name": "stderr",
     "output_type": "stream",
     "text": [
      "/scratch/clb617/anaconda3/lib/python3.6/site-packages/sklearn/metrics/classification.py:1135: UndefinedMetricWarning: F-score is ill-defined and being set to 0.0 in labels with no predicted samples.\n",
      "  'precision', 'predicted', average, warn_for)\n",
      "/scratch/clb617/anaconda3/lib/python3.6/site-packages/sklearn/metrics/classification.py:1135: UndefinedMetricWarning: F-score is ill-defined and being set to 0.0 in labels with no predicted samples.\n",
      "  'precision', 'predicted', average, warn_for)\n"
     ]
    },
    {
     "name": "stdout",
     "output_type": "stream",
     "text": [
      "[CV] alpha=0.15886555501905397, binarize=0.6283182691591694, fit_prior=False \n",
      "[CV]  alpha=0.2703198694818053, binarize=0.2804446217411106, fit_prior=True, total=   0.0s\n"
     ]
    },
    {
     "name": "stderr",
     "output_type": "stream",
     "text": [
      "/scratch/clb617/anaconda3/lib/python3.6/site-packages/sklearn/metrics/classification.py:1135: UndefinedMetricWarning: F-score is ill-defined and being set to 0.0 in labels with no predicted samples.\n",
      "  'precision', 'predicted', average, warn_for)\n"
     ]
    },
    {
     "name": "stdout",
     "output_type": "stream",
     "text": [
      "[CV]  alpha=0.2703198694818053, binarize=0.2804446217411106, fit_prior=True, total=   0.0s\n",
      "[CV] alpha=0.15886555501905397, binarize=0.6283182691591694, fit_prior=False \n",
      "[CV]  alpha=0.2703198694818053, binarize=0.2804446217411106, fit_prior=True, total=   0.1s\n",
      "[CV] alpha=0.15886555501905397, binarize=0.6283182691591694, fit_prior=False \n",
      "[CV] alpha=0.15886555501905397, binarize=0.6283182691591694, fit_prior=False \n"
     ]
    },
    {
     "name": "stderr",
     "output_type": "stream",
     "text": [
      "/scratch/clb617/anaconda3/lib/python3.6/site-packages/sklearn/metrics/classification.py:1135: UndefinedMetricWarning: F-score is ill-defined and being set to 0.0 in labels with no predicted samples.\n",
      "  'precision', 'predicted', average, warn_for)\n"
     ]
    },
    {
     "name": "stdout",
     "output_type": "stream",
     "text": [
      "[CV]  alpha=0.2703198694818053, binarize=0.2804446217411106, fit_prior=True, total=   0.1s\n"
     ]
    },
    {
     "name": "stderr",
     "output_type": "stream",
     "text": [
      "/scratch/clb617/anaconda3/lib/python3.6/site-packages/sklearn/metrics/classification.py:1135: UndefinedMetricWarning: F-score is ill-defined and being set to 0.0 in labels with no predicted samples.\n",
      "  'precision', 'predicted', average, warn_for)\n",
      "/scratch/clb617/anaconda3/lib/python3.6/site-packages/sklearn/metrics/classification.py:1135: UndefinedMetricWarning: F-score is ill-defined and being set to 0.0 in labels with no predicted samples.\n",
      "  'precision', 'predicted', average, warn_for)\n"
     ]
    },
    {
     "name": "stdout",
     "output_type": "stream",
     "text": [
      "[CV]  alpha=0.15886555501905397, binarize=0.6283182691591694, fit_prior=False, total=   0.1s\n",
      "[CV] alpha=0.15886555501905397, binarize=0.6283182691591694, fit_prior=False \n",
      "[CV]  alpha=0.15886555501905397, binarize=0.6283182691591694, fit_prior=False, total=   0.1s\n"
     ]
    },
    {
     "name": "stderr",
     "output_type": "stream",
     "text": [
      "/scratch/clb617/anaconda3/lib/python3.6/site-packages/sklearn/metrics/classification.py:1135: UndefinedMetricWarning: F-score is ill-defined and being set to 0.0 in labels with no predicted samples.\n",
      "  'precision', 'predicted', average, warn_for)\n"
     ]
    },
    {
     "name": "stdout",
     "output_type": "stream",
     "text": [
      "[CV] alpha=0.15886555501905397, binarize=0.6283182691591694, fit_prior=False \n",
      "[CV]  alpha=0.15886555501905397, binarize=0.6283182691591694, fit_prior=False, total=   0.0s\n",
      "[CV] alpha=0.15886555501905397, binarize=0.6283182691591694, fit_prior=False \n",
      "[CV]  alpha=0.15886555501905397, binarize=0.6283182691591694, fit_prior=False, total=   0.0s\n"
     ]
    },
    {
     "name": "stderr",
     "output_type": "stream",
     "text": [
      "/scratch/clb617/anaconda3/lib/python3.6/site-packages/sklearn/metrics/classification.py:1135: UndefinedMetricWarning: F-score is ill-defined and being set to 0.0 in labels with no predicted samples.\n",
      "  'precision', 'predicted', average, warn_for)\n"
     ]
    },
    {
     "name": "stdout",
     "output_type": "stream",
     "text": [
      "[CV]  alpha=0.15886555501905397, binarize=0.6283182691591694, fit_prior=False, total=   0.1s\n",
      "[CV] alpha=0.15886555501905397, binarize=0.6283182691591694, fit_prior=False \n"
     ]
    },
    {
     "name": "stderr",
     "output_type": "stream",
     "text": [
      "/scratch/clb617/anaconda3/lib/python3.6/site-packages/sklearn/metrics/classification.py:1135: UndefinedMetricWarning: F-score is ill-defined and being set to 0.0 in labels with no predicted samples.\n",
      "  'precision', 'predicted', average, warn_for)\n",
      "/scratch/clb617/anaconda3/lib/python3.6/site-packages/sklearn/metrics/classification.py:1135: UndefinedMetricWarning: F-score is ill-defined and being set to 0.0 in labels with no predicted samples.\n",
      "  'precision', 'predicted', average, warn_for)\n"
     ]
    },
    {
     "name": "stdout",
     "output_type": "stream",
     "text": [
      "[CV]  alpha=0.15886555501905397, binarize=0.6283182691591694, fit_prior=False, total=   0.3s\n"
     ]
    },
    {
     "name": "stderr",
     "output_type": "stream",
     "text": [
      "/scratch/clb617/anaconda3/lib/python3.6/site-packages/sklearn/metrics/classification.py:1135: UndefinedMetricWarning: F-score is ill-defined and being set to 0.0 in labels with no predicted samples.\n",
      "  'precision', 'predicted', average, warn_for)\n"
     ]
    },
    {
     "name": "stdout",
     "output_type": "stream",
     "text": [
      "[CV]  alpha=0.15886555501905397, binarize=0.6283182691591694, fit_prior=False, total=   0.0s\n",
      "[CV]  alpha=0.15886555501905397, binarize=0.6283182691591694, fit_prior=False, total=   0.1s\n",
      "[CV] alpha=0.15886555501905397, binarize=0.6283182691591694, fit_prior=False \n",
      "[CV] alpha=0.15886555501905397, binarize=0.6283182691591694, fit_prior=False \n",
      "[CV] alpha=0.7241143201319212, binarize=0.43316776184776185, fit_prior=False \n",
      "[CV] alpha=0.7241143201319212, binarize=0.43316776184776185, fit_prior=False \n"
     ]
    },
    {
     "name": "stderr",
     "output_type": "stream",
     "text": [
      "/scratch/clb617/anaconda3/lib/python3.6/site-packages/sklearn/metrics/classification.py:1135: UndefinedMetricWarning: F-score is ill-defined and being set to 0.0 in labels with no predicted samples.\n",
      "  'precision', 'predicted', average, warn_for)\n",
      "/scratch/clb617/anaconda3/lib/python3.6/site-packages/sklearn/metrics/classification.py:1135: UndefinedMetricWarning: F-score is ill-defined and being set to 0.0 in labels with no predicted samples.\n",
      "  'precision', 'predicted', average, warn_for)\n"
     ]
    },
    {
     "name": "stdout",
     "output_type": "stream",
     "text": [
      "[CV]  alpha=0.7241143201319212, binarize=0.43316776184776185, fit_prior=False, total=   0.0s\n",
      "[CV] alpha=0.7241143201319212, binarize=0.43316776184776185, fit_prior=False \n"
     ]
    },
    {
     "name": "stderr",
     "output_type": "stream",
     "text": [
      "/scratch/clb617/anaconda3/lib/python3.6/site-packages/sklearn/metrics/classification.py:1135: UndefinedMetricWarning: F-score is ill-defined and being set to 0.0 in labels with no predicted samples.\n",
      "  'precision', 'predicted', average, warn_for)\n",
      "/scratch/clb617/anaconda3/lib/python3.6/site-packages/sklearn/metrics/classification.py:1135: UndefinedMetricWarning: F-score is ill-defined and being set to 0.0 in labels with no predicted samples.\n",
      "  'precision', 'predicted', average, warn_for)\n"
     ]
    },
    {
     "name": "stdout",
     "output_type": "stream",
     "text": [
      "[CV]  alpha=0.7241143201319212, binarize=0.43316776184776185, fit_prior=False, total=   0.1s\n"
     ]
    },
    {
     "name": "stderr",
     "output_type": "stream",
     "text": [
      "/scratch/clb617/anaconda3/lib/python3.6/site-packages/sklearn/metrics/classification.py:1135: UndefinedMetricWarning: F-score is ill-defined and being set to 0.0 in labels with no predicted samples.\n",
      "  'precision', 'predicted', average, warn_for)\n"
     ]
    },
    {
     "name": "stdout",
     "output_type": "stream",
     "text": [
      "[CV] alpha=0.7241143201319212, binarize=0.43316776184776185, fit_prior=False \n",
      "[CV]  alpha=0.15886555501905397, binarize=0.6283182691591694, fit_prior=False, total=   0.1s\n",
      "[CV]  alpha=0.7241143201319212, binarize=0.43316776184776185, fit_prior=False, total=   0.1s\n",
      "[CV] alpha=0.7241143201319212, binarize=0.43316776184776185, fit_prior=False \n",
      "[CV]  alpha=0.15886555501905397, binarize=0.6283182691591694, fit_prior=False, total=   0.2s\n",
      "[CV] alpha=0.7241143201319212, binarize=0.43316776184776185, fit_prior=False \n",
      "[CV] alpha=0.7241143201319212, binarize=0.43316776184776185, fit_prior=False \n"
     ]
    },
    {
     "name": "stderr",
     "output_type": "stream",
     "text": [
      "/scratch/clb617/anaconda3/lib/python3.6/site-packages/sklearn/metrics/classification.py:1135: UndefinedMetricWarning: F-score is ill-defined and being set to 0.0 in labels with no predicted samples.\n",
      "  'precision', 'predicted', average, warn_for)\n",
      "/scratch/clb617/anaconda3/lib/python3.6/site-packages/sklearn/metrics/classification.py:1135: UndefinedMetricWarning: F-score is ill-defined and being set to 0.0 in labels with no predicted samples.\n",
      "  'precision', 'predicted', average, warn_for)\n"
     ]
    },
    {
     "name": "stdout",
     "output_type": "stream",
     "text": [
      "[CV]  alpha=0.7241143201319212, binarize=0.43316776184776185, fit_prior=False, total=   0.0s\n",
      "[CV]  alpha=0.7241143201319212, binarize=0.43316776184776185, fit_prior=False, total=   0.1s\n"
     ]
    },
    {
     "name": "stderr",
     "output_type": "stream",
     "text": [
      "/scratch/clb617/anaconda3/lib/python3.6/site-packages/sklearn/metrics/classification.py:1135: UndefinedMetricWarning: F-score is ill-defined and being set to 0.0 in labels with no predicted samples.\n",
      "  'precision', 'predicted', average, warn_for)\n",
      "/scratch/clb617/anaconda3/lib/python3.6/site-packages/sklearn/metrics/classification.py:1135: UndefinedMetricWarning: F-score is ill-defined and being set to 0.0 in labels with no predicted samples.\n",
      "  'precision', 'predicted', average, warn_for)\n"
     ]
    },
    {
     "name": "stdout",
     "output_type": "stream",
     "text": [
      "[CV]  alpha=0.7241143201319212, binarize=0.43316776184776185, fit_prior=False, total=   0.1s\n",
      "[CV] alpha=0.7241143201319212, binarize=0.43316776184776185, fit_prior=False \n",
      "[CV] alpha=0.7241143201319212, binarize=0.43316776184776185, fit_prior=False \n",
      "[CV] alpha=0.606455846312117, binarize=0.8580227718989659, fit_prior=True \n"
     ]
    },
    {
     "name": "stderr",
     "output_type": "stream",
     "text": [
      "/scratch/clb617/anaconda3/lib/python3.6/site-packages/sklearn/metrics/classification.py:1135: UndefinedMetricWarning: F-score is ill-defined and being set to 0.0 in labels with no predicted samples.\n",
      "  'precision', 'predicted', average, warn_for)\n"
     ]
    },
    {
     "name": "stdout",
     "output_type": "stream",
     "text": [
      "[CV] alpha=0.7241143201319212, binarize=0.43316776184776185, fit_prior=False \n",
      "[CV]  alpha=0.7241143201319212, binarize=0.43316776184776185, fit_prior=False, total=   0.0s\n"
     ]
    },
    {
     "name": "stderr",
     "output_type": "stream",
     "text": [
      "/scratch/clb617/anaconda3/lib/python3.6/site-packages/sklearn/metrics/classification.py:1135: UndefinedMetricWarning: F-score is ill-defined and being set to 0.0 in labels with no predicted samples.\n",
      "  'precision', 'predicted', average, warn_for)\n"
     ]
    },
    {
     "name": "stdout",
     "output_type": "stream",
     "text": [
      "[CV] alpha=0.606455846312117, binarize=0.8580227718989659, fit_prior=True \n",
      "[CV] alpha=0.606455846312117, binarize=0.8580227718989659, fit_prior=True \n",
      "[CV]  alpha=0.7241143201319212, binarize=0.43316776184776185, fit_prior=False, total=   0.2s\n"
     ]
    },
    {
     "name": "stderr",
     "output_type": "stream",
     "text": [
      "/scratch/clb617/anaconda3/lib/python3.6/site-packages/sklearn/metrics/classification.py:1135: UndefinedMetricWarning: F-score is ill-defined and being set to 0.0 in labels with no predicted samples.\n",
      "  'precision', 'predicted', average, warn_for)\n"
     ]
    },
    {
     "name": "stdout",
     "output_type": "stream",
     "text": [
      "[CV]  alpha=0.7241143201319212, binarize=0.43316776184776185, fit_prior=False, total=   0.0s\n"
     ]
    },
    {
     "name": "stderr",
     "output_type": "stream",
     "text": [
      "/scratch/clb617/anaconda3/lib/python3.6/site-packages/sklearn/metrics/classification.py:1135: UndefinedMetricWarning: F-score is ill-defined and being set to 0.0 in labels with no predicted samples.\n",
      "  'precision', 'predicted', average, warn_for)\n"
     ]
    },
    {
     "name": "stdout",
     "output_type": "stream",
     "text": [
      "[CV]  alpha=0.7241143201319212, binarize=0.43316776184776185, fit_prior=False, total=   0.2s\n",
      "[CV]  alpha=0.606455846312117, binarize=0.8580227718989659, fit_prior=True, total=   0.0s\n",
      "[CV] alpha=0.606455846312117, binarize=0.8580227718989659, fit_prior=True \n"
     ]
    },
    {
     "name": "stderr",
     "output_type": "stream",
     "text": [
      "/scratch/clb617/anaconda3/lib/python3.6/site-packages/sklearn/metrics/classification.py:1135: UndefinedMetricWarning: F-score is ill-defined and being set to 0.0 in labels with no predicted samples.\n",
      "  'precision', 'predicted', average, warn_for)\n"
     ]
    },
    {
     "name": "stdout",
     "output_type": "stream",
     "text": [
      "[CV] alpha=0.606455846312117, binarize=0.8580227718989659, fit_prior=True \n",
      "[CV] alpha=0.606455846312117, binarize=0.8580227718989659, fit_prior=True \n",
      "[CV] alpha=0.606455846312117, binarize=0.8580227718989659, fit_prior=True \n"
     ]
    },
    {
     "name": "stderr",
     "output_type": "stream",
     "text": [
      "/scratch/clb617/anaconda3/lib/python3.6/site-packages/sklearn/metrics/classification.py:1135: UndefinedMetricWarning: F-score is ill-defined and being set to 0.0 in labels with no predicted samples.\n",
      "  'precision', 'predicted', average, warn_for)\n",
      "/scratch/clb617/anaconda3/lib/python3.6/site-packages/sklearn/metrics/classification.py:1135: UndefinedMetricWarning: F-score is ill-defined and being set to 0.0 in labels with no predicted samples.\n",
      "  'precision', 'predicted', average, warn_for)\n"
     ]
    },
    {
     "name": "stdout",
     "output_type": "stream",
     "text": [
      "[CV]  alpha=0.606455846312117, binarize=0.8580227718989659, fit_prior=True, total=   0.1s\n",
      "[CV] alpha=0.606455846312117, binarize=0.8580227718989659, fit_prior=True \n",
      "[CV]  alpha=0.606455846312117, binarize=0.8580227718989659, fit_prior=True, total=   0.1s\n"
     ]
    },
    {
     "name": "stderr",
     "output_type": "stream",
     "text": [
      "/scratch/clb617/anaconda3/lib/python3.6/site-packages/sklearn/metrics/classification.py:1135: UndefinedMetricWarning: F-score is ill-defined and being set to 0.0 in labels with no predicted samples.\n",
      "  'precision', 'predicted', average, warn_for)\n",
      "/scratch/clb617/anaconda3/lib/python3.6/site-packages/sklearn/metrics/classification.py:1135: UndefinedMetricWarning: F-score is ill-defined and being set to 0.0 in labels with no predicted samples.\n",
      "  'precision', 'predicted', average, warn_for)\n"
     ]
    },
    {
     "name": "stdout",
     "output_type": "stream",
     "text": [
      "[CV] alpha=0.606455846312117, binarize=0.8580227718989659, fit_prior=True \n",
      "[CV]  alpha=0.606455846312117, binarize=0.8580227718989659, fit_prior=True, total=   0.1s\n",
      "[CV]  alpha=0.606455846312117, binarize=0.8580227718989659, fit_prior=True, total=   0.0s\n"
     ]
    },
    {
     "name": "stderr",
     "output_type": "stream",
     "text": [
      "/scratch/clb617/anaconda3/lib/python3.6/site-packages/sklearn/metrics/classification.py:1135: UndefinedMetricWarning: F-score is ill-defined and being set to 0.0 in labels with no predicted samples.\n",
      "  'precision', 'predicted', average, warn_for)\n"
     ]
    },
    {
     "name": "stdout",
     "output_type": "stream",
     "text": [
      "[CV] alpha=0.606455846312117, binarize=0.8580227718989659, fit_prior=True \n",
      "[CV] alpha=0.7330402064663079, binarize=0.71724302451032, fit_prior=False \n"
     ]
    },
    {
     "name": "stderr",
     "output_type": "stream",
     "text": [
      "/scratch/clb617/anaconda3/lib/python3.6/site-packages/sklearn/metrics/classification.py:1135: UndefinedMetricWarning: F-score is ill-defined and being set to 0.0 in labels with no predicted samples.\n",
      "  'precision', 'predicted', average, warn_for)\n"
     ]
    },
    {
     "name": "stdout",
     "output_type": "stream",
     "text": [
      "[CV]  alpha=0.606455846312117, binarize=0.8580227718989659, fit_prior=True, total=   0.2s\n",
      "[CV] alpha=0.7330402064663079, binarize=0.71724302451032, fit_prior=False \n"
     ]
    },
    {
     "name": "stderr",
     "output_type": "stream",
     "text": [
      "/scratch/clb617/anaconda3/lib/python3.6/site-packages/sklearn/metrics/classification.py:1135: UndefinedMetricWarning: F-score is ill-defined and being set to 0.0 in labels with no predicted samples.\n",
      "  'precision', 'predicted', average, warn_for)\n"
     ]
    },
    {
     "name": "stdout",
     "output_type": "stream",
     "text": [
      "[CV]  alpha=0.606455846312117, binarize=0.8580227718989659, fit_prior=True, total=   0.2s\n"
     ]
    },
    {
     "name": "stderr",
     "output_type": "stream",
     "text": [
      "/scratch/clb617/anaconda3/lib/python3.6/site-packages/sklearn/metrics/classification.py:1135: UndefinedMetricWarning: F-score is ill-defined and being set to 0.0 in labels with no predicted samples.\n",
      "  'precision', 'predicted', average, warn_for)\n"
     ]
    },
    {
     "name": "stdout",
     "output_type": "stream",
     "text": [
      "[CV]  alpha=0.606455846312117, binarize=0.8580227718989659, fit_prior=True, total=   0.1s\n"
     ]
    },
    {
     "name": "stderr",
     "output_type": "stream",
     "text": [
      "/scratch/clb617/anaconda3/lib/python3.6/site-packages/sklearn/metrics/classification.py:1135: UndefinedMetricWarning: F-score is ill-defined and being set to 0.0 in labels with no predicted samples.\n",
      "  'precision', 'predicted', average, warn_for)\n"
     ]
    },
    {
     "name": "stdout",
     "output_type": "stream",
     "text": [
      "[CV] alpha=0.7330402064663079, binarize=0.71724302451032, fit_prior=False \n"
     ]
    },
    {
     "name": "stderr",
     "output_type": "stream",
     "text": [
      "/scratch/clb617/anaconda3/lib/python3.6/site-packages/sklearn/metrics/classification.py:1135: UndefinedMetricWarning: F-score is ill-defined and being set to 0.0 in labels with no predicted samples.\n",
      "  'precision', 'predicted', average, warn_for)\n"
     ]
    },
    {
     "name": "stdout",
     "output_type": "stream",
     "text": [
      "[CV]  alpha=0.7330402064663079, binarize=0.71724302451032, fit_prior=False, total=   0.1s\n",
      "[CV] alpha=0.7330402064663079, binarize=0.71724302451032, fit_prior=False \n"
     ]
    },
    {
     "name": "stderr",
     "output_type": "stream",
     "text": [
      "/scratch/clb617/anaconda3/lib/python3.6/site-packages/sklearn/metrics/classification.py:1135: UndefinedMetricWarning: F-score is ill-defined and being set to 0.0 in labels with no predicted samples.\n",
      "  'precision', 'predicted', average, warn_for)\n"
     ]
    },
    {
     "name": "stdout",
     "output_type": "stream",
     "text": [
      "[CV]  alpha=0.606455846312117, binarize=0.8580227718989659, fit_prior=True, total=   0.5s\n",
      "[CV]  alpha=0.7330402064663079, binarize=0.71724302451032, fit_prior=False, total=   0.0s\n",
      "[CV] alpha=0.7330402064663079, binarize=0.71724302451032, fit_prior=False \n",
      "[CV]  alpha=0.7330402064663079, binarize=0.71724302451032, fit_prior=False, total=   0.1s\n"
     ]
    },
    {
     "name": "stderr",
     "output_type": "stream",
     "text": [
      "/scratch/clb617/anaconda3/lib/python3.6/site-packages/sklearn/metrics/classification.py:1135: UndefinedMetricWarning: F-score is ill-defined and being set to 0.0 in labels with no predicted samples.\n",
      "  'precision', 'predicted', average, warn_for)\n",
      "/scratch/clb617/anaconda3/lib/python3.6/site-packages/sklearn/metrics/classification.py:1135: UndefinedMetricWarning: F-score is ill-defined and being set to 0.0 in labels with no predicted samples.\n",
      "  'precision', 'predicted', average, warn_for)\n"
     ]
    },
    {
     "name": "stdout",
     "output_type": "stream",
     "text": [
      "[CV]  alpha=0.7330402064663079, binarize=0.71724302451032, fit_prior=False, total=   0.1s\n",
      "[CV] alpha=0.7330402064663079, binarize=0.71724302451032, fit_prior=False \n",
      "[CV]  alpha=0.606455846312117, binarize=0.8580227718989659, fit_prior=True, total=   0.0s\n",
      "[CV] alpha=0.7330402064663079, binarize=0.71724302451032, fit_prior=False \n",
      "[CV]  alpha=0.7330402064663079, binarize=0.71724302451032, fit_prior=False, total=   0.1s\n"
     ]
    },
    {
     "name": "stderr",
     "output_type": "stream",
     "text": [
      "/scratch/clb617/anaconda3/lib/python3.6/site-packages/sklearn/metrics/classification.py:1135: UndefinedMetricWarning: F-score is ill-defined and being set to 0.0 in labels with no predicted samples.\n",
      "  'precision', 'predicted', average, warn_for)\n"
     ]
    },
    {
     "name": "stdout",
     "output_type": "stream",
     "text": [
      "[CV] alpha=0.7330402064663079, binarize=0.71724302451032, fit_prior=False \n"
     ]
    },
    {
     "name": "stderr",
     "output_type": "stream",
     "text": [
      "/scratch/clb617/anaconda3/lib/python3.6/site-packages/sklearn/metrics/classification.py:1135: UndefinedMetricWarning: F-score is ill-defined and being set to 0.0 in labels with no predicted samples.\n",
      "  'precision', 'predicted', average, warn_for)\n"
     ]
    },
    {
     "name": "stdout",
     "output_type": "stream",
     "text": [
      "[CV] alpha=0.7330402064663079, binarize=0.71724302451032, fit_prior=False \n",
      "[CV] alpha=0.7009429617678615, binarize=0.4564557592361538, fit_prior=False \n",
      "[CV] alpha=0.7330402064663079, binarize=0.71724302451032, fit_prior=False \n"
     ]
    },
    {
     "name": "stderr",
     "output_type": "stream",
     "text": [
      "/scratch/clb617/anaconda3/lib/python3.6/site-packages/sklearn/metrics/classification.py:1135: UndefinedMetricWarning: F-score is ill-defined and being set to 0.0 in labels with no predicted samples.\n",
      "  'precision', 'predicted', average, warn_for)\n",
      "/scratch/clb617/anaconda3/lib/python3.6/site-packages/sklearn/metrics/classification.py:1135: UndefinedMetricWarning: F-score is ill-defined and being set to 0.0 in labels with no predicted samples.\n",
      "  'precision', 'predicted', average, warn_for)\n",
      "/scratch/clb617/anaconda3/lib/python3.6/site-packages/sklearn/metrics/classification.py:1135: UndefinedMetricWarning: F-score is ill-defined and being set to 0.0 in labels with no predicted samples.\n",
      "  'precision', 'predicted', average, warn_for)\n"
     ]
    },
    {
     "name": "stdout",
     "output_type": "stream",
     "text": [
      "[CV]  alpha=0.7330402064663079, binarize=0.71724302451032, fit_prior=False, total=   0.1s\n"
     ]
    },
    {
     "name": "stderr",
     "output_type": "stream",
     "text": [
      "/scratch/clb617/anaconda3/lib/python3.6/site-packages/sklearn/metrics/classification.py:1135: UndefinedMetricWarning: F-score is ill-defined and being set to 0.0 in labels with no predicted samples.\n",
      "  'precision', 'predicted', average, warn_for)\n"
     ]
    },
    {
     "name": "stdout",
     "output_type": "stream",
     "text": [
      "[CV] alpha=0.7009429617678615, binarize=0.4564557592361538, fit_prior=False \n",
      "[CV] alpha=0.7009429617678615, binarize=0.4564557592361538, fit_prior=False \n",
      "[CV]  alpha=0.7009429617678615, binarize=0.4564557592361538, fit_prior=False, total=   0.1s\n"
     ]
    },
    {
     "name": "stderr",
     "output_type": "stream",
     "text": [
      "/scratch/clb617/anaconda3/lib/python3.6/site-packages/sklearn/metrics/classification.py:1135: UndefinedMetricWarning: F-score is ill-defined and being set to 0.0 in labels with no predicted samples.\n",
      "  'precision', 'predicted', average, warn_for)\n",
      "/scratch/clb617/anaconda3/lib/python3.6/site-packages/sklearn/metrics/classification.py:1135: UndefinedMetricWarning: F-score is ill-defined and being set to 0.0 in labels with no predicted samples.\n",
      "  'precision', 'predicted', average, warn_for)\n"
     ]
    },
    {
     "name": "stdout",
     "output_type": "stream",
     "text": [
      "[CV]  alpha=0.7009429617678615, binarize=0.4564557592361538, fit_prior=False, total=   0.1s\n",
      "[CV]  alpha=0.7330402064663079, binarize=0.71724302451032, fit_prior=False, total=   0.1s\n",
      "[CV]  alpha=0.7009429617678615, binarize=0.4564557592361538, fit_prior=False, total=   0.1s\n",
      "[CV]  alpha=0.7330402064663079, binarize=0.71724302451032, fit_prior=False, total=   0.1s\n",
      "[CV] alpha=0.7009429617678615, binarize=0.4564557592361538, fit_prior=False \n",
      "[CV]  alpha=0.7330402064663079, binarize=0.71724302451032, fit_prior=False, total=   0.0s\n",
      "[CV]  alpha=0.7330402064663079, binarize=0.71724302451032, fit_prior=False, total=   0.2s\n",
      "[CV] alpha=0.7009429617678615, binarize=0.4564557592361538, fit_prior=False \n"
     ]
    },
    {
     "name": "stderr",
     "output_type": "stream",
     "text": [
      "/scratch/clb617/anaconda3/lib/python3.6/site-packages/sklearn/metrics/classification.py:1135: UndefinedMetricWarning: F-score is ill-defined and being set to 0.0 in labels with no predicted samples.\n",
      "  'precision', 'predicted', average, warn_for)\n",
      "/scratch/clb617/anaconda3/lib/python3.6/site-packages/sklearn/metrics/classification.py:1135: UndefinedMetricWarning: F-score is ill-defined and being set to 0.0 in labels with no predicted samples.\n",
      "  'precision', 'predicted', average, warn_for)\n"
     ]
    },
    {
     "name": "stdout",
     "output_type": "stream",
     "text": [
      "[CV] alpha=0.7009429617678615, binarize=0.4564557592361538, fit_prior=False \n",
      "[CV]  alpha=0.7009429617678615, binarize=0.4564557592361538, fit_prior=False, total=   0.1s\n",
      "[CV] alpha=0.7009429617678615, binarize=0.4564557592361538, fit_prior=False \n"
     ]
    },
    {
     "name": "stderr",
     "output_type": "stream",
     "text": [
      "/scratch/clb617/anaconda3/lib/python3.6/site-packages/sklearn/metrics/classification.py:1135: UndefinedMetricWarning: F-score is ill-defined and being set to 0.0 in labels with no predicted samples.\n",
      "  'precision', 'predicted', average, warn_for)\n"
     ]
    },
    {
     "name": "stdout",
     "output_type": "stream",
     "text": [
      "[CV] alpha=0.7009429617678615, binarize=0.4564557592361538, fit_prior=False \n",
      "[CV]  alpha=0.7009429617678615, binarize=0.4564557592361538, fit_prior=False, total=   0.1s\n",
      "[CV] alpha=0.7009429617678615, binarize=0.4564557592361538, fit_prior=False \n",
      "[CV]  alpha=0.7009429617678615, binarize=0.4564557592361538, fit_prior=False, total=   0.0s\n"
     ]
    },
    {
     "name": "stderr",
     "output_type": "stream",
     "text": [
      "/scratch/clb617/anaconda3/lib/python3.6/site-packages/sklearn/metrics/classification.py:1135: UndefinedMetricWarning: F-score is ill-defined and being set to 0.0 in labels with no predicted samples.\n",
      "  'precision', 'predicted', average, warn_for)\n"
     ]
    },
    {
     "name": "stdout",
     "output_type": "stream",
     "text": [
      "[CV] alpha=0.7009429617678615, binarize=0.4564557592361538, fit_prior=False \n"
     ]
    },
    {
     "name": "stderr",
     "output_type": "stream",
     "text": [
      "/scratch/clb617/anaconda3/lib/python3.6/site-packages/sklearn/metrics/classification.py:1135: UndefinedMetricWarning: F-score is ill-defined and being set to 0.0 in labels with no predicted samples.\n",
      "  'precision', 'predicted', average, warn_for)\n",
      "/scratch/clb617/anaconda3/lib/python3.6/site-packages/sklearn/metrics/classification.py:1135: UndefinedMetricWarning: F-score is ill-defined and being set to 0.0 in labels with no predicted samples.\n",
      "  'precision', 'predicted', average, warn_for)\n"
     ]
    },
    {
     "name": "stdout",
     "output_type": "stream",
     "text": [
      "[CV]  alpha=0.7009429617678615, binarize=0.4564557592361538, fit_prior=False, total=   0.0s\n"
     ]
    },
    {
     "name": "stderr",
     "output_type": "stream",
     "text": [
      "/scratch/clb617/anaconda3/lib/python3.6/site-packages/sklearn/metrics/classification.py:1135: UndefinedMetricWarning: F-score is ill-defined and being set to 0.0 in labels with no predicted samples.\n",
      "  'precision', 'predicted', average, warn_for)\n"
     ]
    },
    {
     "name": "stdout",
     "output_type": "stream",
     "text": [
      "[CV]  alpha=0.7009429617678615, binarize=0.4564557592361538, fit_prior=False, total=   0.1s\n",
      "[CV]  alpha=0.7009429617678615, binarize=0.4564557592361538, fit_prior=False, total=   0.1s\n",
      "[CV]  alpha=0.7009429617678615, binarize=0.4564557592361538, fit_prior=False, total=   0.0s\n",
      "[CV] alpha=0.6581630055733633, binarize=0.18749788177521132, fit_prior=False \n",
      "[CV] alpha=0.6581630055733633, binarize=0.18749788177521132, fit_prior=False \n"
     ]
    },
    {
     "name": "stderr",
     "output_type": "stream",
     "text": [
      "/scratch/clb617/anaconda3/lib/python3.6/site-packages/sklearn/metrics/classification.py:1135: UndefinedMetricWarning: F-score is ill-defined and being set to 0.0 in labels with no predicted samples.\n",
      "  'precision', 'predicted', average, warn_for)\n",
      "/scratch/clb617/anaconda3/lib/python3.6/site-packages/sklearn/metrics/classification.py:1135: UndefinedMetricWarning: F-score is ill-defined and being set to 0.0 in labels with no predicted samples.\n",
      "  'precision', 'predicted', average, warn_for)\n"
     ]
    },
    {
     "name": "stdout",
     "output_type": "stream",
     "text": [
      "[CV]  alpha=0.6581630055733633, binarize=0.18749788177521132, fit_prior=False, total=   0.1s\n",
      "[CV]  alpha=0.6581630055733633, binarize=0.18749788177521132, fit_prior=False, total=   0.1s\n",
      "[CV] alpha=0.6581630055733633, binarize=0.18749788177521132, fit_prior=False \n"
     ]
    },
    {
     "name": "stderr",
     "output_type": "stream",
     "text": [
      "/scratch/clb617/anaconda3/lib/python3.6/site-packages/sklearn/metrics/classification.py:1135: UndefinedMetricWarning: F-score is ill-defined and being set to 0.0 in labels with no predicted samples.\n",
      "  'precision', 'predicted', average, warn_for)\n"
     ]
    },
    {
     "name": "stdout",
     "output_type": "stream",
     "text": [
      "[CV]  alpha=0.6581630055733633, binarize=0.18749788177521132, fit_prior=False, total=   0.1s\n",
      "[CV] alpha=0.6581630055733633, binarize=0.18749788177521132, fit_prior=False \n",
      "[CV] alpha=0.6581630055733633, binarize=0.18749788177521132, fit_prior=False \n",
      "[CV] alpha=0.6581630055733633, binarize=0.18749788177521132, fit_prior=False \n",
      "[CV] alpha=0.6581630055733633, binarize=0.18749788177521132, fit_prior=False \n"
     ]
    },
    {
     "name": "stderr",
     "output_type": "stream",
     "text": [
      "/scratch/clb617/anaconda3/lib/python3.6/site-packages/sklearn/metrics/classification.py:1135: UndefinedMetricWarning: F-score is ill-defined and being set to 0.0 in labels with no predicted samples.\n",
      "  'precision', 'predicted', average, warn_for)\n"
     ]
    },
    {
     "name": "stdout",
     "output_type": "stream",
     "text": [
      "[CV]  alpha=0.6581630055733633, binarize=0.18749788177521132, fit_prior=False, total=   0.0s\n"
     ]
    },
    {
     "name": "stderr",
     "output_type": "stream",
     "text": [
      "/scratch/clb617/anaconda3/lib/python3.6/site-packages/sklearn/metrics/classification.py:1135: UndefinedMetricWarning: F-score is ill-defined and being set to 0.0 in labels with no predicted samples.\n",
      "  'precision', 'predicted', average, warn_for)\n"
     ]
    },
    {
     "name": "stdout",
     "output_type": "stream",
     "text": [
      "[CV]  alpha=0.6581630055733633, binarize=0.18749788177521132, fit_prior=False, total=   0.0s\n"
     ]
    },
    {
     "name": "stderr",
     "output_type": "stream",
     "text": [
      "/scratch/clb617/anaconda3/lib/python3.6/site-packages/sklearn/metrics/classification.py:1135: UndefinedMetricWarning: F-score is ill-defined and being set to 0.0 in labels with no predicted samples.\n",
      "  'precision', 'predicted', average, warn_for)\n",
      "/scratch/clb617/anaconda3/lib/python3.6/site-packages/sklearn/metrics/classification.py:1135: UndefinedMetricWarning: F-score is ill-defined and being set to 0.0 in labels with no predicted samples.\n",
      "  'precision', 'predicted', average, warn_for)\n"
     ]
    },
    {
     "name": "stdout",
     "output_type": "stream",
     "text": [
      "[CV] alpha=0.6581630055733633, binarize=0.18749788177521132, fit_prior=False \n",
      "[CV]  alpha=0.6581630055733633, binarize=0.18749788177521132, fit_prior=False, total=   0.1s\n",
      "[CV] alpha=0.6581630055733633, binarize=0.18749788177521132, fit_prior=False \n",
      "[CV]  alpha=0.6581630055733633, binarize=0.18749788177521132, fit_prior=False, total=   0.1s\n"
     ]
    },
    {
     "name": "stderr",
     "output_type": "stream",
     "text": [
      "/scratch/clb617/anaconda3/lib/python3.6/site-packages/sklearn/metrics/classification.py:1135: UndefinedMetricWarning: F-score is ill-defined and being set to 0.0 in labels with no predicted samples.\n",
      "  'precision', 'predicted', average, warn_for)\n",
      "/scratch/clb617/anaconda3/lib/python3.6/site-packages/sklearn/metrics/classification.py:1135: UndefinedMetricWarning: F-score is ill-defined and being set to 0.0 in labels with no predicted samples.\n",
      "  'precision', 'predicted', average, warn_for)\n"
     ]
    },
    {
     "name": "stdout",
     "output_type": "stream",
     "text": [
      "[CV]  alpha=0.6581630055733633, binarize=0.18749788177521132, fit_prior=False, total=   0.1s\n",
      "[CV]  alpha=0.6581630055733633, binarize=0.18749788177521132, fit_prior=False, total=   0.0s\n",
      "[CV] alpha=0.6581630055733633, binarize=0.18749788177521132, fit_prior=False \n"
     ]
    },
    {
     "name": "stderr",
     "output_type": "stream",
     "text": [
      "/scratch/clb617/anaconda3/lib/python3.6/site-packages/sklearn/metrics/classification.py:1135: UndefinedMetricWarning: F-score is ill-defined and being set to 0.0 in labels with no predicted samples.\n",
      "  'precision', 'predicted', average, warn_for)\n"
     ]
    },
    {
     "name": "stdout",
     "output_type": "stream",
     "text": [
      "[CV]  alpha=0.6581630055733633, binarize=0.18749788177521132, fit_prior=False, total=   0.0s\n",
      "[CV] alpha=0.7064515351533228, binarize=0.6193129041371521, fit_prior=True \n",
      "[CV] alpha=0.7064515351533228, binarize=0.6193129041371521, fit_prior=True \n",
      "[CV] alpha=0.7064515351533228, binarize=0.6193129041371521, fit_prior=True \n",
      "[CV] alpha=0.7064515351533228, binarize=0.6193129041371521, fit_prior=True \n",
      "[CV] alpha=0.7064515351533228, binarize=0.6193129041371521, fit_prior=True \n"
     ]
    },
    {
     "name": "stderr",
     "output_type": "stream",
     "text": [
      "/scratch/clb617/anaconda3/lib/python3.6/site-packages/sklearn/metrics/classification.py:1135: UndefinedMetricWarning: F-score is ill-defined and being set to 0.0 in labels with no predicted samples.\n",
      "  'precision', 'predicted', average, warn_for)\n"
     ]
    },
    {
     "name": "stdout",
     "output_type": "stream",
     "text": [
      "[CV] alpha=0.7064515351533228, binarize=0.6193129041371521, fit_prior=True \n"
     ]
    },
    {
     "name": "stderr",
     "output_type": "stream",
     "text": [
      "/scratch/clb617/anaconda3/lib/python3.6/site-packages/sklearn/metrics/classification.py:1135: UndefinedMetricWarning: F-score is ill-defined and being set to 0.0 in labels with no predicted samples.\n",
      "  'precision', 'predicted', average, warn_for)\n",
      "/scratch/clb617/anaconda3/lib/python3.6/site-packages/sklearn/metrics/classification.py:1135: UndefinedMetricWarning: F-score is ill-defined and being set to 0.0 in labels with no predicted samples.\n",
      "  'precision', 'predicted', average, warn_for)\n"
     ]
    },
    {
     "name": "stdout",
     "output_type": "stream",
     "text": [
      "[CV]  alpha=0.7064515351533228, binarize=0.6193129041371521, fit_prior=True, total=   0.0s\n",
      "[CV]  alpha=0.7064515351533228, binarize=0.6193129041371521, fit_prior=True, total=   0.0s\n"
     ]
    },
    {
     "name": "stderr",
     "output_type": "stream",
     "text": [
      "/scratch/clb617/anaconda3/lib/python3.6/site-packages/sklearn/metrics/classification.py:1135: UndefinedMetricWarning: F-score is ill-defined and being set to 0.0 in labels with no predicted samples.\n",
      "  'precision', 'predicted', average, warn_for)\n",
      "/scratch/clb617/anaconda3/lib/python3.6/site-packages/sklearn/metrics/classification.py:1135: UndefinedMetricWarning: F-score is ill-defined and being set to 0.0 in labels with no predicted samples.\n",
      "  'precision', 'predicted', average, warn_for)\n",
      "/scratch/clb617/anaconda3/lib/python3.6/site-packages/sklearn/metrics/classification.py:1135: UndefinedMetricWarning: F-score is ill-defined and being set to 0.0 in labels with no predicted samples.\n",
      "  'precision', 'predicted', average, warn_for)\n"
     ]
    },
    {
     "name": "stdout",
     "output_type": "stream",
     "text": [
      "[CV]  alpha=0.7064515351533228, binarize=0.6193129041371521, fit_prior=True, total=   0.0s\n",
      "[CV] alpha=0.7064515351533228, binarize=0.6193129041371521, fit_prior=True \n",
      "[CV]  alpha=0.7064515351533228, binarize=0.6193129041371521, fit_prior=True, total=   0.1s\n",
      "[CV]  alpha=0.7064515351533228, binarize=0.6193129041371521, fit_prior=True, total=   0.1s\n",
      "[CV] alpha=0.7064515351533228, binarize=0.6193129041371521, fit_prior=True \n",
      "[CV] alpha=0.7064515351533228, binarize=0.6193129041371521, fit_prior=True \n"
     ]
    },
    {
     "name": "stderr",
     "output_type": "stream",
     "text": [
      "/scratch/clb617/anaconda3/lib/python3.6/site-packages/sklearn/metrics/classification.py:1135: UndefinedMetricWarning: F-score is ill-defined and being set to 0.0 in labels with no predicted samples.\n",
      "  'precision', 'predicted', average, warn_for)\n",
      "/scratch/clb617/anaconda3/lib/python3.6/site-packages/sklearn/metrics/classification.py:1135: UndefinedMetricWarning: F-score is ill-defined and being set to 0.0 in labels with no predicted samples.\n",
      "  'precision', 'predicted', average, warn_for)\n"
     ]
    },
    {
     "name": "stdout",
     "output_type": "stream",
     "text": [
      "[CV]  alpha=0.7064515351533228, binarize=0.6193129041371521, fit_prior=True, total=   0.1s\n"
     ]
    },
    {
     "name": "stderr",
     "output_type": "stream",
     "text": [
      "/scratch/clb617/anaconda3/lib/python3.6/site-packages/sklearn/metrics/classification.py:1135: UndefinedMetricWarning: F-score is ill-defined and being set to 0.0 in labels with no predicted samples.\n",
      "  'precision', 'predicted', average, warn_for)\n"
     ]
    },
    {
     "name": "stdout",
     "output_type": "stream",
     "text": [
      "[CV]  alpha=0.7064515351533228, binarize=0.6193129041371521, fit_prior=True, total=   0.1s\n",
      "[CV] alpha=0.7064515351533228, binarize=0.6193129041371521, fit_prior=True \n",
      "[CV]  alpha=0.7064515351533228, binarize=0.6193129041371521, fit_prior=True, total=   0.1s\n",
      "[CV]  alpha=0.7064515351533228, binarize=0.6193129041371521, fit_prior=True, total=   0.1s\n"
     ]
    },
    {
     "name": "stderr",
     "output_type": "stream",
     "text": [
      "/scratch/clb617/anaconda3/lib/python3.6/site-packages/sklearn/metrics/classification.py:1135: UndefinedMetricWarning: F-score is ill-defined and being set to 0.0 in labels with no predicted samples.\n",
      "  'precision', 'predicted', average, warn_for)\n"
     ]
    },
    {
     "name": "stdout",
     "output_type": "stream",
     "text": [
      "[CV] alpha=0.8650820256253721, binarize=0.04670308301948889, fit_prior=False \n"
     ]
    },
    {
     "name": "stderr",
     "output_type": "stream",
     "text": [
      "/scratch/clb617/anaconda3/lib/python3.6/site-packages/sklearn/metrics/classification.py:1135: UndefinedMetricWarning: F-score is ill-defined and being set to 0.0 in labels with no predicted samples.\n",
      "  'precision', 'predicted', average, warn_for)\n"
     ]
    },
    {
     "name": "stdout",
     "output_type": "stream",
     "text": [
      "[CV]  alpha=0.8650820256253721, binarize=0.04670308301948889, fit_prior=False, total=   0.1s\n",
      "[CV] alpha=0.8650820256253721, binarize=0.04670308301948889, fit_prior=False \n",
      "[CV] alpha=0.8650820256253721, binarize=0.04670308301948889, fit_prior=False \n",
      "[CV]  alpha=0.7064515351533228, binarize=0.6193129041371521, fit_prior=True, total=   0.0s\n",
      "[CV] alpha=0.8650820256253721, binarize=0.04670308301948889, fit_prior=False \n"
     ]
    },
    {
     "name": "stderr",
     "output_type": "stream",
     "text": [
      "/scratch/clb617/anaconda3/lib/python3.6/site-packages/sklearn/metrics/classification.py:1135: UndefinedMetricWarning: F-score is ill-defined and being set to 0.0 in labels with no predicted samples.\n",
      "  'precision', 'predicted', average, warn_for)\n",
      "/scratch/clb617/anaconda3/lib/python3.6/site-packages/sklearn/metrics/classification.py:1135: UndefinedMetricWarning: F-score is ill-defined and being set to 0.0 in labels with no predicted samples.\n",
      "  'precision', 'predicted', average, warn_for)\n"
     ]
    },
    {
     "name": "stdout",
     "output_type": "stream",
     "text": [
      "[CV]  alpha=0.8650820256253721, binarize=0.04670308301948889, fit_prior=False, total=   0.1s\n",
      "[CV]  alpha=0.8650820256253721, binarize=0.04670308301948889, fit_prior=False, total=   0.1s\n"
     ]
    },
    {
     "name": "stderr",
     "output_type": "stream",
     "text": [
      "/scratch/clb617/anaconda3/lib/python3.6/site-packages/sklearn/metrics/classification.py:1135: UndefinedMetricWarning: F-score is ill-defined and being set to 0.0 in labels with no predicted samples.\n",
      "  'precision', 'predicted', average, warn_for)\n"
     ]
    },
    {
     "name": "stdout",
     "output_type": "stream",
     "text": [
      "[CV]  alpha=0.8650820256253721, binarize=0.04670308301948889, fit_prior=False, total=   0.1s\n",
      "[CV] alpha=0.8650820256253721, binarize=0.04670308301948889, fit_prior=False \n",
      "[CV] alpha=0.8650820256253721, binarize=0.04670308301948889, fit_prior=False \n"
     ]
    },
    {
     "name": "stderr",
     "output_type": "stream",
     "text": [
      "/scratch/clb617/anaconda3/lib/python3.6/site-packages/sklearn/metrics/classification.py:1135: UndefinedMetricWarning: F-score is ill-defined and being set to 0.0 in labels with no predicted samples.\n",
      "  'precision', 'predicted', average, warn_for)\n"
     ]
    },
    {
     "name": "stdout",
     "output_type": "stream",
     "text": [
      "[CV] alpha=0.8650820256253721, binarize=0.04670308301948889, fit_prior=False \n",
      "[CV] alpha=0.8650820256253721, binarize=0.04670308301948889, fit_prior=False \n",
      "[CV] alpha=0.8650820256253721, binarize=0.04670308301948889, fit_prior=False \n",
      "[CV]  alpha=0.8650820256253721, binarize=0.04670308301948889, fit_prior=False, total=   0.1s\n"
     ]
    },
    {
     "name": "stderr",
     "output_type": "stream",
     "text": [
      "/scratch/clb617/anaconda3/lib/python3.6/site-packages/sklearn/metrics/classification.py:1135: UndefinedMetricWarning: F-score is ill-defined and being set to 0.0 in labels with no predicted samples.\n",
      "  'precision', 'predicted', average, warn_for)\n",
      "/scratch/clb617/anaconda3/lib/python3.6/site-packages/sklearn/metrics/classification.py:1135: UndefinedMetricWarning: F-score is ill-defined and being set to 0.0 in labels with no predicted samples.\n",
      "  'precision', 'predicted', average, warn_for)\n"
     ]
    },
    {
     "name": "stdout",
     "output_type": "stream",
     "text": [
      "[CV] alpha=0.8650820256253721, binarize=0.04670308301948889, fit_prior=False \n"
     ]
    },
    {
     "name": "stderr",
     "output_type": "stream",
     "text": [
      "/scratch/clb617/anaconda3/lib/python3.6/site-packages/sklearn/metrics/classification.py:1135: UndefinedMetricWarning: F-score is ill-defined and being set to 0.0 in labels with no predicted samples.\n",
      "  'precision', 'predicted', average, warn_for)\n"
     ]
    },
    {
     "name": "stdout",
     "output_type": "stream",
     "text": [
      "[CV]  alpha=0.8650820256253721, binarize=0.04670308301948889, fit_prior=False, total=   0.0s\n",
      "[CV]  alpha=0.8650820256253721, binarize=0.04670308301948889, fit_prior=False, total=   0.2s\n",
      "[CV]  alpha=0.8650820256253721, binarize=0.04670308301948889, fit_prior=False, total=   0.0s\n",
      "[CV] alpha=0.36683948896457774, binarize=0.8123642484362417, fit_prior=False \n"
     ]
    },
    {
     "name": "stderr",
     "output_type": "stream",
     "text": [
      "/scratch/clb617/anaconda3/lib/python3.6/site-packages/sklearn/metrics/classification.py:1135: UndefinedMetricWarning: F-score is ill-defined and being set to 0.0 in labels with no predicted samples.\n",
      "  'precision', 'predicted', average, warn_for)\n"
     ]
    },
    {
     "name": "stdout",
     "output_type": "stream",
     "text": [
      "[CV]  alpha=0.36683948896457774, binarize=0.8123642484362417, fit_prior=False, total=   0.0s\n"
     ]
    },
    {
     "name": "stderr",
     "output_type": "stream",
     "text": [
      "/scratch/clb617/anaconda3/lib/python3.6/site-packages/sklearn/metrics/classification.py:1135: UndefinedMetricWarning: F-score is ill-defined and being set to 0.0 in labels with no predicted samples.\n",
      "  'precision', 'predicted', average, warn_for)\n"
     ]
    },
    {
     "name": "stdout",
     "output_type": "stream",
     "text": [
      "[CV] alpha=0.36683948896457774, binarize=0.8123642484362417, fit_prior=False \n"
     ]
    },
    {
     "name": "stderr",
     "output_type": "stream",
     "text": [
      "/scratch/clb617/anaconda3/lib/python3.6/site-packages/sklearn/metrics/classification.py:1135: UndefinedMetricWarning: F-score is ill-defined and being set to 0.0 in labels with no predicted samples.\n",
      "  'precision', 'predicted', average, warn_for)\n"
     ]
    },
    {
     "name": "stdout",
     "output_type": "stream",
     "text": [
      "[CV] alpha=0.36683948896457774, binarize=0.8123642484362417, fit_prior=False \n",
      "[CV] alpha=0.36683948896457774, binarize=0.8123642484362417, fit_prior=False \n"
     ]
    },
    {
     "name": "stderr",
     "output_type": "stream",
     "text": [
      "/scratch/clb617/anaconda3/lib/python3.6/site-packages/sklearn/metrics/classification.py:1135: UndefinedMetricWarning: F-score is ill-defined and being set to 0.0 in labels with no predicted samples.\n",
      "  'precision', 'predicted', average, warn_for)\n",
      "/scratch/clb617/anaconda3/lib/python3.6/site-packages/sklearn/metrics/classification.py:1135: UndefinedMetricWarning: F-score is ill-defined and being set to 0.0 in labels with no predicted samples.\n",
      "  'precision', 'predicted', average, warn_for)\n"
     ]
    },
    {
     "name": "stdout",
     "output_type": "stream",
     "text": [
      "[CV]  alpha=0.8650820256253721, binarize=0.04670308301948889, fit_prior=False, total=   0.3s\n",
      "[CV]  alpha=0.36683948896457774, binarize=0.8123642484362417, fit_prior=False, total=   0.1s\n"
     ]
    },
    {
     "name": "stderr",
     "output_type": "stream",
     "text": [
      "/scratch/clb617/anaconda3/lib/python3.6/site-packages/sklearn/metrics/classification.py:1135: UndefinedMetricWarning: F-score is ill-defined and being set to 0.0 in labels with no predicted samples.\n",
      "  'precision', 'predicted', average, warn_for)\n"
     ]
    },
    {
     "name": "stdout",
     "output_type": "stream",
     "text": [
      "[CV]  alpha=0.8650820256253721, binarize=0.04670308301948889, fit_prior=False, total=   0.3s\n",
      "[CV] alpha=0.36683948896457774, binarize=0.8123642484362417, fit_prior=False \n",
      "[CV] alpha=0.36683948896457774, binarize=0.8123642484362417, fit_prior=False \n",
      "[CV]  alpha=0.36683948896457774, binarize=0.8123642484362417, fit_prior=False, total=   0.1s\n"
     ]
    },
    {
     "name": "stderr",
     "output_type": "stream",
     "text": [
      "/scratch/clb617/anaconda3/lib/python3.6/site-packages/sklearn/metrics/classification.py:1135: UndefinedMetricWarning: F-score is ill-defined and being set to 0.0 in labels with no predicted samples.\n",
      "  'precision', 'predicted', average, warn_for)\n",
      "/scratch/clb617/anaconda3/lib/python3.6/site-packages/sklearn/metrics/classification.py:1135: UndefinedMetricWarning: F-score is ill-defined and being set to 0.0 in labels with no predicted samples.\n",
      "  'precision', 'predicted', average, warn_for)\n"
     ]
    },
    {
     "name": "stdout",
     "output_type": "stream",
     "text": [
      "[CV]  alpha=0.36683948896457774, binarize=0.8123642484362417, fit_prior=False, total=   0.1s\n",
      "[CV]  alpha=0.36683948896457774, binarize=0.8123642484362417, fit_prior=False, total=   0.0s\n",
      "[CV]  alpha=0.36683948896457774, binarize=0.8123642484362417, fit_prior=False, total=   0.1s\n",
      "[CV] alpha=0.36683948896457774, binarize=0.8123642484362417, fit_prior=False \n",
      "[CV] alpha=0.36683948896457774, binarize=0.8123642484362417, fit_prior=False \n",
      "[CV] alpha=0.36683948896457774, binarize=0.8123642484362417, fit_prior=False \n",
      "[CV] alpha=0.36683948896457774, binarize=0.8123642484362417, fit_prior=False \n"
     ]
    },
    {
     "name": "stderr",
     "output_type": "stream",
     "text": [
      "/scratch/clb617/anaconda3/lib/python3.6/site-packages/sklearn/metrics/classification.py:1135: UndefinedMetricWarning: F-score is ill-defined and being set to 0.0 in labels with no predicted samples.\n",
      "  'precision', 'predicted', average, warn_for)\n",
      "/scratch/clb617/anaconda3/lib/python3.6/site-packages/sklearn/metrics/classification.py:1135: UndefinedMetricWarning: F-score is ill-defined and being set to 0.0 in labels with no predicted samples.\n",
      "  'precision', 'predicted', average, warn_for)\n"
     ]
    },
    {
     "name": "stdout",
     "output_type": "stream",
     "text": [
      "[CV]  alpha=0.36683948896457774, binarize=0.8123642484362417, fit_prior=False, total=   0.0s\n",
      "[CV]  alpha=0.36683948896457774, binarize=0.8123642484362417, fit_prior=False, total=   0.1s\n"
     ]
    },
    {
     "name": "stderr",
     "output_type": "stream",
     "text": [
      "/scratch/clb617/anaconda3/lib/python3.6/site-packages/sklearn/metrics/classification.py:1135: UndefinedMetricWarning: F-score is ill-defined and being set to 0.0 in labels with no predicted samples.\n",
      "  'precision', 'predicted', average, warn_for)\n"
     ]
    },
    {
     "name": "stdout",
     "output_type": "stream",
     "text": [
      "[CV] alpha=0.7083701642992665, binarize=0.15708258889249804, fit_prior=True \n",
      "[CV]  alpha=0.36683948896457774, binarize=0.8123642484362417, fit_prior=False, total=   0.1s\n",
      "[CV] alpha=0.7083701642992665, binarize=0.15708258889249804, fit_prior=True \n",
      "[CV] alpha=0.7083701642992665, binarize=0.15708258889249804, fit_prior=True \n",
      "[CV] alpha=0.7083701642992665, binarize=0.15708258889249804, fit_prior=True \n"
     ]
    },
    {
     "name": "stderr",
     "output_type": "stream",
     "text": [
      "/scratch/clb617/anaconda3/lib/python3.6/site-packages/sklearn/metrics/classification.py:1135: UndefinedMetricWarning: F-score is ill-defined and being set to 0.0 in labels with no predicted samples.\n",
      "  'precision', 'predicted', average, warn_for)\n"
     ]
    },
    {
     "name": "stdout",
     "output_type": "stream",
     "text": [
      "[CV] alpha=0.7083701642992665, binarize=0.15708258889249804, fit_prior=True \n",
      "[CV] alpha=0.7083701642992665, binarize=0.15708258889249804, fit_prior=True \n"
     ]
    },
    {
     "name": "stderr",
     "output_type": "stream",
     "text": [
      "/scratch/clb617/anaconda3/lib/python3.6/site-packages/sklearn/metrics/classification.py:1135: UndefinedMetricWarning: F-score is ill-defined and being set to 0.0 in labels with no predicted samples.\n",
      "  'precision', 'predicted', average, warn_for)\n"
     ]
    },
    {
     "name": "stdout",
     "output_type": "stream",
     "text": [
      "[CV] alpha=0.7083701642992665, binarize=0.15708258889249804, fit_prior=True \n"
     ]
    },
    {
     "name": "stderr",
     "output_type": "stream",
     "text": [
      "/scratch/clb617/anaconda3/lib/python3.6/site-packages/sklearn/metrics/classification.py:1135: UndefinedMetricWarning: F-score is ill-defined and being set to 0.0 in labels with no predicted samples.\n",
      "  'precision', 'predicted', average, warn_for)\n",
      "/scratch/clb617/anaconda3/lib/python3.6/site-packages/sklearn/metrics/classification.py:1135: UndefinedMetricWarning: F-score is ill-defined and being set to 0.0 in labels with no predicted samples.\n",
      "  'precision', 'predicted', average, warn_for)\n"
     ]
    },
    {
     "name": "stdout",
     "output_type": "stream",
     "text": [
      "[CV]  alpha=0.36683948896457774, binarize=0.8123642484362417, fit_prior=False, total=   0.1s\n",
      "[CV]  alpha=0.7083701642992665, binarize=0.15708258889249804, fit_prior=True, total=   0.1s\n"
     ]
    },
    {
     "name": "stderr",
     "output_type": "stream",
     "text": [
      "/scratch/clb617/anaconda3/lib/python3.6/site-packages/sklearn/metrics/classification.py:1135: UndefinedMetricWarning: F-score is ill-defined and being set to 0.0 in labels with no predicted samples.\n",
      "  'precision', 'predicted', average, warn_for)\n",
      "/scratch/clb617/anaconda3/lib/python3.6/site-packages/sklearn/metrics/classification.py:1135: UndefinedMetricWarning: F-score is ill-defined and being set to 0.0 in labels with no predicted samples.\n",
      "  'precision', 'predicted', average, warn_for)\n",
      "/scratch/clb617/anaconda3/lib/python3.6/site-packages/sklearn/metrics/classification.py:1135: UndefinedMetricWarning: F-score is ill-defined and being set to 0.0 in labels with no predicted samples.\n",
      "  'precision', 'predicted', average, warn_for)\n"
     ]
    },
    {
     "name": "stdout",
     "output_type": "stream",
     "text": [
      "[CV] alpha=0.7083701642992665, binarize=0.15708258889249804, fit_prior=True \n"
     ]
    },
    {
     "name": "stderr",
     "output_type": "stream",
     "text": [
      "/scratch/clb617/anaconda3/lib/python3.6/site-packages/sklearn/metrics/classification.py:1135: UndefinedMetricWarning: F-score is ill-defined and being set to 0.0 in labels with no predicted samples.\n",
      "  'precision', 'predicted', average, warn_for)\n"
     ]
    },
    {
     "name": "stdout",
     "output_type": "stream",
     "text": [
      "[CV]  alpha=0.7083701642992665, binarize=0.15708258889249804, fit_prior=True, total=   0.1s\n"
     ]
    },
    {
     "name": "stderr",
     "output_type": "stream",
     "text": [
      "/scratch/clb617/anaconda3/lib/python3.6/site-packages/sklearn/metrics/classification.py:1135: UndefinedMetricWarning: F-score is ill-defined and being set to 0.0 in labels with no predicted samples.\n",
      "  'precision', 'predicted', average, warn_for)\n"
     ]
    },
    {
     "name": "stdout",
     "output_type": "stream",
     "text": [
      "[CV] alpha=0.7083701642992665, binarize=0.15708258889249804, fit_prior=True \n",
      "[CV]  alpha=0.7083701642992665, binarize=0.15708258889249804, fit_prior=True, total=   0.2s\n",
      "[CV]  alpha=0.7083701642992665, binarize=0.15708258889249804, fit_prior=True, total=   0.1s\n",
      "[CV]  alpha=0.7083701642992665, binarize=0.15708258889249804, fit_prior=True, total=   0.2s\n",
      "[CV]  alpha=0.7083701642992665, binarize=0.15708258889249804, fit_prior=True, total=   0.1s\n",
      "[CV] alpha=0.7083701642992665, binarize=0.15708258889249804, fit_prior=True \n"
     ]
    },
    {
     "name": "stderr",
     "output_type": "stream",
     "text": [
      "/scratch/clb617/anaconda3/lib/python3.6/site-packages/sklearn/metrics/classification.py:1135: UndefinedMetricWarning: F-score is ill-defined and being set to 0.0 in labels with no predicted samples.\n",
      "  'precision', 'predicted', average, warn_for)\n"
     ]
    },
    {
     "name": "stdout",
     "output_type": "stream",
     "text": [
      "[CV]  alpha=0.7083701642992665, binarize=0.15708258889249804, fit_prior=True, total=   0.3s\n",
      "[CV]  alpha=0.7083701642992665, binarize=0.15708258889249804, fit_prior=True, total=   0.0s\n"
     ]
    },
    {
     "name": "stderr",
     "output_type": "stream",
     "text": [
      "/scratch/clb617/anaconda3/lib/python3.6/site-packages/sklearn/metrics/classification.py:1135: UndefinedMetricWarning: F-score is ill-defined and being set to 0.0 in labels with no predicted samples.\n",
      "  'precision', 'predicted', average, warn_for)\n"
     ]
    },
    {
     "name": "stdout",
     "output_type": "stream",
     "text": [
      "[CV] alpha=0.8673364606529621, binarize=0.9040912078557374, fit_prior=False \n",
      "[CV]  alpha=0.7083701642992665, binarize=0.15708258889249804, fit_prior=True, total=   0.1s\n",
      "[CV] alpha=0.8673364606529621, binarize=0.9040912078557374, fit_prior=False \n"
     ]
    },
    {
     "name": "stderr",
     "output_type": "stream",
     "text": [
      "/scratch/clb617/anaconda3/lib/python3.6/site-packages/sklearn/metrics/classification.py:1135: UndefinedMetricWarning: F-score is ill-defined and being set to 0.0 in labels with no predicted samples.\n",
      "  'precision', 'predicted', average, warn_for)\n"
     ]
    },
    {
     "name": "stdout",
     "output_type": "stream",
     "text": [
      "[CV] alpha=0.8673364606529621, binarize=0.9040912078557374, fit_prior=False \n",
      "[CV] alpha=0.8673364606529621, binarize=0.9040912078557374, fit_prior=False \n",
      "[CV]  alpha=0.8673364606529621, binarize=0.9040912078557374, fit_prior=False, total=   0.1s\n",
      "[CV] alpha=0.8673364606529621, binarize=0.9040912078557374, fit_prior=False \n",
      "[CV] alpha=0.8673364606529621, binarize=0.9040912078557374, fit_prior=False \n"
     ]
    },
    {
     "name": "stderr",
     "output_type": "stream",
     "text": [
      "/scratch/clb617/anaconda3/lib/python3.6/site-packages/sklearn/metrics/classification.py:1135: UndefinedMetricWarning: F-score is ill-defined and being set to 0.0 in labels with no predicted samples.\n",
      "  'precision', 'predicted', average, warn_for)\n"
     ]
    },
    {
     "name": "stdout",
     "output_type": "stream",
     "text": [
      "[CV]  alpha=0.8673364606529621, binarize=0.9040912078557374, fit_prior=False, total=   0.0s\n"
     ]
    },
    {
     "name": "stderr",
     "output_type": "stream",
     "text": [
      "/scratch/clb617/anaconda3/lib/python3.6/site-packages/sklearn/metrics/classification.py:1135: UndefinedMetricWarning: F-score is ill-defined and being set to 0.0 in labels with no predicted samples.\n",
      "  'precision', 'predicted', average, warn_for)\n"
     ]
    },
    {
     "name": "stdout",
     "output_type": "stream",
     "text": [
      "[CV]  alpha=0.8673364606529621, binarize=0.9040912078557374, fit_prior=False, total=   0.0s\n"
     ]
    },
    {
     "name": "stderr",
     "output_type": "stream",
     "text": [
      "/scratch/clb617/anaconda3/lib/python3.6/site-packages/sklearn/metrics/classification.py:1135: UndefinedMetricWarning: F-score is ill-defined and being set to 0.0 in labels with no predicted samples.\n",
      "  'precision', 'predicted', average, warn_for)\n",
      "/scratch/clb617/anaconda3/lib/python3.6/site-packages/sklearn/metrics/classification.py:1135: UndefinedMetricWarning: F-score is ill-defined and being set to 0.0 in labels with no predicted samples.\n",
      "  'precision', 'predicted', average, warn_for)\n"
     ]
    },
    {
     "name": "stdout",
     "output_type": "stream",
     "text": [
      "[CV]  alpha=0.7083701642992665, binarize=0.15708258889249804, fit_prior=True, total=   0.0s\n",
      "[CV]  alpha=0.8673364606529621, binarize=0.9040912078557374, fit_prior=False, total=   0.1s\n",
      "[CV]  alpha=0.8673364606529621, binarize=0.9040912078557374, fit_prior=False, total=   0.1s\n"
     ]
    },
    {
     "name": "stderr",
     "output_type": "stream",
     "text": [
      "/scratch/clb617/anaconda3/lib/python3.6/site-packages/sklearn/metrics/classification.py:1135: UndefinedMetricWarning: F-score is ill-defined and being set to 0.0 in labels with no predicted samples.\n",
      "  'precision', 'predicted', average, warn_for)\n"
     ]
    },
    {
     "name": "stdout",
     "output_type": "stream",
     "text": [
      "[CV]  alpha=0.8673364606529621, binarize=0.9040912078557374, fit_prior=False, total=   0.1s\n",
      "[CV] alpha=0.8673364606529621, binarize=0.9040912078557374, fit_prior=False \n",
      "[CV] alpha=0.8673364606529621, binarize=0.9040912078557374, fit_prior=False \n",
      "[CV] alpha=0.8673364606529621, binarize=0.9040912078557374, fit_prior=False \n"
     ]
    },
    {
     "name": "stderr",
     "output_type": "stream",
     "text": [
      "/scratch/clb617/anaconda3/lib/python3.6/site-packages/sklearn/metrics/classification.py:1135: UndefinedMetricWarning: F-score is ill-defined and being set to 0.0 in labels with no predicted samples.\n",
      "  'precision', 'predicted', average, warn_for)\n",
      "/scratch/clb617/anaconda3/lib/python3.6/site-packages/sklearn/metrics/classification.py:1135: UndefinedMetricWarning: F-score is ill-defined and being set to 0.0 in labels with no predicted samples.\n",
      "  'precision', 'predicted', average, warn_for)\n"
     ]
    },
    {
     "name": "stdout",
     "output_type": "stream",
     "text": [
      "[CV]  alpha=0.8673364606529621, binarize=0.9040912078557374, fit_prior=False, total=   0.0s\n",
      "[CV]  alpha=0.8673364606529621, binarize=0.9040912078557374, fit_prior=False, total=   0.0s\n",
      "[CV] alpha=0.8673364606529621, binarize=0.9040912078557374, fit_prior=False \n"
     ]
    },
    {
     "name": "stderr",
     "output_type": "stream",
     "text": [
      "/scratch/clb617/anaconda3/lib/python3.6/site-packages/sklearn/metrics/classification.py:1135: UndefinedMetricWarning: F-score is ill-defined and being set to 0.0 in labels with no predicted samples.\n",
      "  'precision', 'predicted', average, warn_for)\n"
     ]
    },
    {
     "name": "stdout",
     "output_type": "stream",
     "text": [
      "[CV] alpha=0.4037180002921906, binarize=0.1791307121550776, fit_prior=True \n",
      "[CV] alpha=0.4037180002921906, binarize=0.1791307121550776, fit_prior=True \n",
      "[CV] alpha=0.4037180002921906, binarize=0.1791307121550776, fit_prior=True \n",
      "[CV]  alpha=0.8673364606529621, binarize=0.9040912078557374, fit_prior=False, total=   0.1s\n",
      "[CV] alpha=0.4037180002921906, binarize=0.1791307121550776, fit_prior=True \n"
     ]
    },
    {
     "name": "stderr",
     "output_type": "stream",
     "text": [
      "/scratch/clb617/anaconda3/lib/python3.6/site-packages/sklearn/metrics/classification.py:1135: UndefinedMetricWarning: F-score is ill-defined and being set to 0.0 in labels with no predicted samples.\n",
      "  'precision', 'predicted', average, warn_for)\n",
      "/scratch/clb617/anaconda3/lib/python3.6/site-packages/sklearn/metrics/classification.py:1135: UndefinedMetricWarning: F-score is ill-defined and being set to 0.0 in labels with no predicted samples.\n",
      "  'precision', 'predicted', average, warn_for)\n",
      "/scratch/clb617/anaconda3/lib/python3.6/site-packages/sklearn/metrics/classification.py:1135: UndefinedMetricWarning: F-score is ill-defined and being set to 0.0 in labels with no predicted samples.\n",
      "  'precision', 'predicted', average, warn_for)\n"
     ]
    },
    {
     "name": "stdout",
     "output_type": "stream",
     "text": [
      "[CV]  alpha=0.4037180002921906, binarize=0.1791307121550776, fit_prior=True, total=   0.1s\n",
      "[CV]  alpha=0.4037180002921906, binarize=0.1791307121550776, fit_prior=True, total=   0.1s\n",
      "[CV] alpha=0.4037180002921906, binarize=0.1791307121550776, fit_prior=True \n"
     ]
    },
    {
     "name": "stderr",
     "output_type": "stream",
     "text": [
      "/scratch/clb617/anaconda3/lib/python3.6/site-packages/sklearn/metrics/classification.py:1135: UndefinedMetricWarning: F-score is ill-defined and being set to 0.0 in labels with no predicted samples.\n",
      "  'precision', 'predicted', average, warn_for)\n"
     ]
    },
    {
     "name": "stdout",
     "output_type": "stream",
     "text": [
      "[CV]  alpha=0.4037180002921906, binarize=0.1791307121550776, fit_prior=True, total=   0.1s\n"
     ]
    },
    {
     "name": "stderr",
     "output_type": "stream",
     "text": [
      "/scratch/clb617/anaconda3/lib/python3.6/site-packages/sklearn/metrics/classification.py:1135: UndefinedMetricWarning: F-score is ill-defined and being set to 0.0 in labels with no predicted samples.\n",
      "  'precision', 'predicted', average, warn_for)\n"
     ]
    },
    {
     "name": "stdout",
     "output_type": "stream",
     "text": [
      "[CV] alpha=0.4037180002921906, binarize=0.1791307121550776, fit_prior=True \n",
      "[CV] alpha=0.4037180002921906, binarize=0.1791307121550776, fit_prior=True \n"
     ]
    },
    {
     "name": "stderr",
     "output_type": "stream",
     "text": [
      "/scratch/clb617/anaconda3/lib/python3.6/site-packages/sklearn/metrics/classification.py:1135: UndefinedMetricWarning: F-score is ill-defined and being set to 0.0 in labels with no predicted samples.\n",
      "  'precision', 'predicted', average, warn_for)\n"
     ]
    },
    {
     "name": "stdout",
     "output_type": "stream",
     "text": [
      "[CV]  alpha=0.8673364606529621, binarize=0.9040912078557374, fit_prior=False, total=   0.2s\n",
      "[CV]  alpha=0.4037180002921906, binarize=0.1791307121550776, fit_prior=True, total=   0.1s\n",
      "[CV] alpha=0.4037180002921906, binarize=0.1791307121550776, fit_prior=True \n"
     ]
    },
    {
     "name": "stderr",
     "output_type": "stream",
     "text": [
      "/scratch/clb617/anaconda3/lib/python3.6/site-packages/sklearn/metrics/classification.py:1135: UndefinedMetricWarning: F-score is ill-defined and being set to 0.0 in labels with no predicted samples.\n",
      "  'precision', 'predicted', average, warn_for)\n"
     ]
    },
    {
     "name": "stdout",
     "output_type": "stream",
     "text": [
      "[CV] alpha=0.4037180002921906, binarize=0.1791307121550776, fit_prior=True \n"
     ]
    },
    {
     "name": "stderr",
     "output_type": "stream",
     "text": [
      "/scratch/clb617/anaconda3/lib/python3.6/site-packages/sklearn/metrics/classification.py:1135: UndefinedMetricWarning: F-score is ill-defined and being set to 0.0 in labels with no predicted samples.\n",
      "  'precision', 'predicted', average, warn_for)\n"
     ]
    },
    {
     "name": "stdout",
     "output_type": "stream",
     "text": [
      "[CV]  alpha=0.4037180002921906, binarize=0.1791307121550776, fit_prior=True, total=   0.1s\n",
      "[CV] alpha=0.4037180002921906, binarize=0.1791307121550776, fit_prior=True \n",
      "[CV] alpha=0.16028010873587473, binarize=0.28260757844226914, fit_prior=True \n"
     ]
    },
    {
     "name": "stderr",
     "output_type": "stream",
     "text": [
      "/scratch/clb617/anaconda3/lib/python3.6/site-packages/sklearn/metrics/classification.py:1135: UndefinedMetricWarning: F-score is ill-defined and being set to 0.0 in labels with no predicted samples.\n",
      "  'precision', 'predicted', average, warn_for)\n"
     ]
    },
    {
     "name": "stdout",
     "output_type": "stream",
     "text": [
      "[CV]  alpha=0.4037180002921906, binarize=0.1791307121550776, fit_prior=True, total=   0.2s\n"
     ]
    },
    {
     "name": "stderr",
     "output_type": "stream",
     "text": [
      "/scratch/clb617/anaconda3/lib/python3.6/site-packages/sklearn/metrics/classification.py:1135: UndefinedMetricWarning: F-score is ill-defined and being set to 0.0 in labels with no predicted samples.\n",
      "  'precision', 'predicted', average, warn_for)\n"
     ]
    },
    {
     "name": "stdout",
     "output_type": "stream",
     "text": [
      "[CV]  alpha=0.4037180002921906, binarize=0.1791307121550776, fit_prior=True, total=   0.1s\n"
     ]
    },
    {
     "name": "stderr",
     "output_type": "stream",
     "text": [
      "/scratch/clb617/anaconda3/lib/python3.6/site-packages/sklearn/metrics/classification.py:1135: UndefinedMetricWarning: F-score is ill-defined and being set to 0.0 in labels with no predicted samples.\n",
      "  'precision', 'predicted', average, warn_for)\n"
     ]
    },
    {
     "name": "stdout",
     "output_type": "stream",
     "text": [
      "[CV]  alpha=0.4037180002921906, binarize=0.1791307121550776, fit_prior=True, total=   0.1s\n",
      "[CV]  alpha=0.16028010873587473, binarize=0.28260757844226914, fit_prior=True, total=   0.0s\n"
     ]
    },
    {
     "name": "stderr",
     "output_type": "stream",
     "text": [
      "/scratch/clb617/anaconda3/lib/python3.6/site-packages/sklearn/metrics/classification.py:1135: UndefinedMetricWarning: F-score is ill-defined and being set to 0.0 in labels with no predicted samples.\n",
      "  'precision', 'predicted', average, warn_for)\n"
     ]
    },
    {
     "name": "stdout",
     "output_type": "stream",
     "text": [
      "[CV] alpha=0.16028010873587473, binarize=0.28260757844226914, fit_prior=True \n",
      "[CV]  alpha=0.4037180002921906, binarize=0.1791307121550776, fit_prior=True, total=   0.0s\n"
     ]
    },
    {
     "name": "stderr",
     "output_type": "stream",
     "text": [
      "/scratch/clb617/anaconda3/lib/python3.6/site-packages/sklearn/metrics/classification.py:1135: UndefinedMetricWarning: F-score is ill-defined and being set to 0.0 in labels with no predicted samples.\n",
      "  'precision', 'predicted', average, warn_for)\n"
     ]
    },
    {
     "name": "stdout",
     "output_type": "stream",
     "text": [
      "[CV]  alpha=0.16028010873587473, binarize=0.28260757844226914, fit_prior=True, total=   0.0s\n",
      "[CV] alpha=0.16028010873587473, binarize=0.28260757844226914, fit_prior=True \n",
      "[CV] alpha=0.16028010873587473, binarize=0.28260757844226914, fit_prior=True \n",
      "[CV]  alpha=0.4037180002921906, binarize=0.1791307121550776, fit_prior=True, total=   0.1s\n",
      "[CV] alpha=0.16028010873587473, binarize=0.28260757844226914, fit_prior=True \n",
      "[CV] alpha=0.16028010873587473, binarize=0.28260757844226914, fit_prior=True \n"
     ]
    },
    {
     "name": "stderr",
     "output_type": "stream",
     "text": [
      "/scratch/clb617/anaconda3/lib/python3.6/site-packages/sklearn/metrics/classification.py:1135: UndefinedMetricWarning: F-score is ill-defined and being set to 0.0 in labels with no predicted samples.\n",
      "  'precision', 'predicted', average, warn_for)\n"
     ]
    },
    {
     "name": "stdout",
     "output_type": "stream",
     "text": [
      "[CV]  alpha=0.16028010873587473, binarize=0.28260757844226914, fit_prior=True, total=   0.0s\n"
     ]
    },
    {
     "name": "stderr",
     "output_type": "stream",
     "text": [
      "/scratch/clb617/anaconda3/lib/python3.6/site-packages/sklearn/metrics/classification.py:1135: UndefinedMetricWarning: F-score is ill-defined and being set to 0.0 in labels with no predicted samples.\n",
      "  'precision', 'predicted', average, warn_for)\n"
     ]
    },
    {
     "name": "stdout",
     "output_type": "stream",
     "text": [
      "[CV] alpha=0.16028010873587473, binarize=0.28260757844226914, fit_prior=True \n",
      "[CV] alpha=0.16028010873587473, binarize=0.28260757844226914, fit_prior=True \n",
      "[CV]  alpha=0.16028010873587473, binarize=0.28260757844226914, fit_prior=True, total=   0.1s\n"
     ]
    },
    {
     "name": "stderr",
     "output_type": "stream",
     "text": [
      "/scratch/clb617/anaconda3/lib/python3.6/site-packages/sklearn/metrics/classification.py:1135: UndefinedMetricWarning: F-score is ill-defined and being set to 0.0 in labels with no predicted samples.\n",
      "  'precision', 'predicted', average, warn_for)\n",
      "/scratch/clb617/anaconda3/lib/python3.6/site-packages/sklearn/metrics/classification.py:1135: UndefinedMetricWarning: F-score is ill-defined and being set to 0.0 in labels with no predicted samples.\n",
      "  'precision', 'predicted', average, warn_for)\n",
      "/scratch/clb617/anaconda3/lib/python3.6/site-packages/sklearn/metrics/classification.py:1135: UndefinedMetricWarning: F-score is ill-defined and being set to 0.0 in labels with no predicted samples.\n",
      "  'precision', 'predicted', average, warn_for)\n"
     ]
    },
    {
     "name": "stdout",
     "output_type": "stream",
     "text": [
      "[CV]  alpha=0.16028010873587473, binarize=0.28260757844226914, fit_prior=True, total=   0.0s\n",
      "[CV] alpha=0.16028010873587473, binarize=0.28260757844226914, fit_prior=True \n",
      "[CV]  alpha=0.16028010873587473, binarize=0.28260757844226914, fit_prior=True, total=   0.2s\n",
      "[CV]  alpha=0.16028010873587473, binarize=0.28260757844226914, fit_prior=True, total=   0.0s\n"
     ]
    },
    {
     "name": "stderr",
     "output_type": "stream",
     "text": [
      "/scratch/clb617/anaconda3/lib/python3.6/site-packages/sklearn/metrics/classification.py:1135: UndefinedMetricWarning: F-score is ill-defined and being set to 0.0 in labels with no predicted samples.\n",
      "  'precision', 'predicted', average, warn_for)\n"
     ]
    },
    {
     "name": "stdout",
     "output_type": "stream",
     "text": [
      "[CV] alpha=0.11168789553628788, binarize=0.689452829190147, fit_prior=False \n",
      "[CV] alpha=0.11168789553628788, binarize=0.689452829190147, fit_prior=False \n",
      "[CV] alpha=0.16028010873587473, binarize=0.28260757844226914, fit_prior=True \n"
     ]
    },
    {
     "name": "stderr",
     "output_type": "stream",
     "text": [
      "/scratch/clb617/anaconda3/lib/python3.6/site-packages/sklearn/metrics/classification.py:1135: UndefinedMetricWarning: F-score is ill-defined and being set to 0.0 in labels with no predicted samples.\n",
      "  'precision', 'predicted', average, warn_for)\n"
     ]
    },
    {
     "name": "stdout",
     "output_type": "stream",
     "text": [
      "[CV]  alpha=0.16028010873587473, binarize=0.28260757844226914, fit_prior=True, total=   0.2s\n"
     ]
    },
    {
     "name": "stderr",
     "output_type": "stream",
     "text": [
      "/scratch/clb617/anaconda3/lib/python3.6/site-packages/sklearn/metrics/classification.py:1135: UndefinedMetricWarning: F-score is ill-defined and being set to 0.0 in labels with no predicted samples.\n",
      "  'precision', 'predicted', average, warn_for)\n"
     ]
    },
    {
     "name": "stdout",
     "output_type": "stream",
     "text": [
      "[CV]  alpha=0.11168789553628788, binarize=0.689452829190147, fit_prior=False, total=   0.1s\n"
     ]
    },
    {
     "name": "stderr",
     "output_type": "stream",
     "text": [
      "/scratch/clb617/anaconda3/lib/python3.6/site-packages/sklearn/metrics/classification.py:1135: UndefinedMetricWarning: F-score is ill-defined and being set to 0.0 in labels with no predicted samples.\n",
      "  'precision', 'predicted', average, warn_for)\n",
      "/scratch/clb617/anaconda3/lib/python3.6/site-packages/sklearn/metrics/classification.py:1135: UndefinedMetricWarning: F-score is ill-defined and being set to 0.0 in labels with no predicted samples.\n",
      "  'precision', 'predicted', average, warn_for)\n"
     ]
    },
    {
     "name": "stdout",
     "output_type": "stream",
     "text": [
      "[CV] alpha=0.11168789553628788, binarize=0.689452829190147, fit_prior=False \n",
      "[CV] alpha=0.11168789553628788, binarize=0.689452829190147, fit_prior=False \n",
      "[CV]  alpha=0.16028010873587473, binarize=0.28260757844226914, fit_prior=True, total=   0.1s\n"
     ]
    },
    {
     "name": "stderr",
     "output_type": "stream",
     "text": [
      "/scratch/clb617/anaconda3/lib/python3.6/site-packages/sklearn/metrics/classification.py:1135: UndefinedMetricWarning: F-score is ill-defined and being set to 0.0 in labels with no predicted samples.\n",
      "  'precision', 'predicted', average, warn_for)\n"
     ]
    },
    {
     "name": "stdout",
     "output_type": "stream",
     "text": [
      "[CV]  alpha=0.11168789553628788, binarize=0.689452829190147, fit_prior=False, total=   0.1s\n",
      "[CV]  alpha=0.11168789553628788, binarize=0.689452829190147, fit_prior=False, total=   0.0s\n"
     ]
    },
    {
     "name": "stderr",
     "output_type": "stream",
     "text": [
      "/scratch/clb617/anaconda3/lib/python3.6/site-packages/sklearn/metrics/classification.py:1135: UndefinedMetricWarning: F-score is ill-defined and being set to 0.0 in labels with no predicted samples.\n",
      "  'precision', 'predicted', average, warn_for)\n"
     ]
    },
    {
     "name": "stdout",
     "output_type": "stream",
     "text": [
      "[CV]  alpha=0.11168789553628788, binarize=0.689452829190147, fit_prior=False, total=   0.0s\n",
      "[CV]  alpha=0.16028010873587473, binarize=0.28260757844226914, fit_prior=True, total=   0.1s\n",
      "[CV] alpha=0.11168789553628788, binarize=0.689452829190147, fit_prior=False \n"
     ]
    },
    {
     "name": "stderr",
     "output_type": "stream",
     "text": [
      "/scratch/clb617/anaconda3/lib/python3.6/site-packages/sklearn/metrics/classification.py:1135: UndefinedMetricWarning: F-score is ill-defined and being set to 0.0 in labels with no predicted samples.\n",
      "  'precision', 'predicted', average, warn_for)\n"
     ]
    },
    {
     "name": "stdout",
     "output_type": "stream",
     "text": [
      "[CV]  alpha=0.11168789553628788, binarize=0.689452829190147, fit_prior=False, total=   0.0s\n",
      "[CV] alpha=0.11168789553628788, binarize=0.689452829190147, fit_prior=False \n",
      "[CV] alpha=0.11168789553628788, binarize=0.689452829190147, fit_prior=False \n",
      "[CV] alpha=0.11168789553628788, binarize=0.689452829190147, fit_prior=False \n",
      "[CV] alpha=0.11168789553628788, binarize=0.689452829190147, fit_prior=False \n",
      "[CV] alpha=0.34261033366473626, binarize=0.7607924105682173, fit_prior=True \n",
      "[CV] alpha=0.11168789553628788, binarize=0.689452829190147, fit_prior=False \n",
      "[CV] alpha=0.34261033366473626, binarize=0.7607924105682173, fit_prior=True \n"
     ]
    },
    {
     "name": "stderr",
     "output_type": "stream",
     "text": [
      "/scratch/clb617/anaconda3/lib/python3.6/site-packages/sklearn/metrics/classification.py:1135: UndefinedMetricWarning: F-score is ill-defined and being set to 0.0 in labels with no predicted samples.\n",
      "  'precision', 'predicted', average, warn_for)\n",
      "/scratch/clb617/anaconda3/lib/python3.6/site-packages/sklearn/metrics/classification.py:1135: UndefinedMetricWarning: F-score is ill-defined and being set to 0.0 in labels with no predicted samples.\n",
      "  'precision', 'predicted', average, warn_for)\n",
      "/scratch/clb617/anaconda3/lib/python3.6/site-packages/sklearn/metrics/classification.py:1135: UndefinedMetricWarning: F-score is ill-defined and being set to 0.0 in labels with no predicted samples.\n",
      "  'precision', 'predicted', average, warn_for)\n",
      "/scratch/clb617/anaconda3/lib/python3.6/site-packages/sklearn/metrics/classification.py:1135: UndefinedMetricWarning: F-score is ill-defined and being set to 0.0 in labels with no predicted samples.\n",
      "  'precision', 'predicted', average, warn_for)\n"
     ]
    },
    {
     "name": "stdout",
     "output_type": "stream",
     "text": [
      "[CV]  alpha=0.11168789553628788, binarize=0.689452829190147, fit_prior=False, total=   0.1s\n",
      "[CV]  alpha=0.34261033366473626, binarize=0.7607924105682173, fit_prior=True, total=   0.0s\n"
     ]
    },
    {
     "name": "stderr",
     "output_type": "stream",
     "text": [
      "/scratch/clb617/anaconda3/lib/python3.6/site-packages/sklearn/metrics/classification.py:1135: UndefinedMetricWarning: F-score is ill-defined and being set to 0.0 in labels with no predicted samples.\n",
      "  'precision', 'predicted', average, warn_for)\n"
     ]
    },
    {
     "name": "stdout",
     "output_type": "stream",
     "text": [
      "[CV]  alpha=0.11168789553628788, binarize=0.689452829190147, fit_prior=False, total=   0.1s\n",
      "[CV]  alpha=0.11168789553628788, binarize=0.689452829190147, fit_prior=False, total=   0.1s\n"
     ]
    },
    {
     "name": "stderr",
     "output_type": "stream",
     "text": [
      "/scratch/clb617/anaconda3/lib/python3.6/site-packages/sklearn/metrics/classification.py:1135: UndefinedMetricWarning: F-score is ill-defined and being set to 0.0 in labels with no predicted samples.\n",
      "  'precision', 'predicted', average, warn_for)\n"
     ]
    },
    {
     "name": "stdout",
     "output_type": "stream",
     "text": [
      "[CV]  alpha=0.11168789553628788, binarize=0.689452829190147, fit_prior=False, total=   0.1s\n"
     ]
    },
    {
     "name": "stderr",
     "output_type": "stream",
     "text": [
      "/scratch/clb617/anaconda3/lib/python3.6/site-packages/sklearn/metrics/classification.py:1135: UndefinedMetricWarning: F-score is ill-defined and being set to 0.0 in labels with no predicted samples.\n",
      "  'precision', 'predicted', average, warn_for)\n"
     ]
    },
    {
     "name": "stdout",
     "output_type": "stream",
     "text": [
      "[CV]  alpha=0.34261033366473626, binarize=0.7607924105682173, fit_prior=True, total=   0.1s\n",
      "[CV]  alpha=0.11168789553628788, binarize=0.689452829190147, fit_prior=False, total=   0.2s\n",
      "[CV] alpha=0.34261033366473626, binarize=0.7607924105682173, fit_prior=True \n",
      "[CV] alpha=0.34261033366473626, binarize=0.7607924105682173, fit_prior=True \n",
      "[CV] alpha=0.34261033366473626, binarize=0.7607924105682173, fit_prior=True \n"
     ]
    },
    {
     "name": "stderr",
     "output_type": "stream",
     "text": [
      "/scratch/clb617/anaconda3/lib/python3.6/site-packages/sklearn/metrics/classification.py:1135: UndefinedMetricWarning: F-score is ill-defined and being set to 0.0 in labels with no predicted samples.\n",
      "  'precision', 'predicted', average, warn_for)\n",
      "/scratch/clb617/anaconda3/lib/python3.6/site-packages/sklearn/metrics/classification.py:1135: UndefinedMetricWarning: F-score is ill-defined and being set to 0.0 in labels with no predicted samples.\n",
      "  'precision', 'predicted', average, warn_for)\n"
     ]
    },
    {
     "name": "stdout",
     "output_type": "stream",
     "text": [
      "[CV]  alpha=0.34261033366473626, binarize=0.7607924105682173, fit_prior=True, total=   0.0s\n",
      "[CV]  alpha=0.34261033366473626, binarize=0.7607924105682173, fit_prior=True, total=   0.0s\n",
      "[CV] alpha=0.34261033366473626, binarize=0.7607924105682173, fit_prior=True \n"
     ]
    },
    {
     "name": "stderr",
     "output_type": "stream",
     "text": [
      "/scratch/clb617/anaconda3/lib/python3.6/site-packages/sklearn/metrics/classification.py:1135: UndefinedMetricWarning: F-score is ill-defined and being set to 0.0 in labels with no predicted samples.\n",
      "  'precision', 'predicted', average, warn_for)\n"
     ]
    },
    {
     "name": "stdout",
     "output_type": "stream",
     "text": [
      "[CV] alpha=0.34261033366473626, binarize=0.7607924105682173, fit_prior=True \n"
     ]
    },
    {
     "name": "stderr",
     "output_type": "stream",
     "text": [
      "/scratch/clb617/anaconda3/lib/python3.6/site-packages/sklearn/metrics/classification.py:1135: UndefinedMetricWarning: F-score is ill-defined and being set to 0.0 in labels with no predicted samples.\n",
      "  'precision', 'predicted', average, warn_for)\n"
     ]
    },
    {
     "name": "stdout",
     "output_type": "stream",
     "text": [
      "[CV]  alpha=0.34261033366473626, binarize=0.7607924105682173, fit_prior=True, total=   0.0s\n",
      "[CV]  alpha=0.34261033366473626, binarize=0.7607924105682173, fit_prior=True, total=   0.0s\n",
      "[CV] alpha=0.34261033366473626, binarize=0.7607924105682173, fit_prior=True \n",
      "[CV] alpha=0.34261033366473626, binarize=0.7607924105682173, fit_prior=True \n"
     ]
    },
    {
     "name": "stderr",
     "output_type": "stream",
     "text": [
      "/scratch/clb617/anaconda3/lib/python3.6/site-packages/sklearn/metrics/classification.py:1135: UndefinedMetricWarning: F-score is ill-defined and being set to 0.0 in labels with no predicted samples.\n",
      "  'precision', 'predicted', average, warn_for)\n"
     ]
    },
    {
     "name": "stdout",
     "output_type": "stream",
     "text": [
      "[CV]  alpha=0.34261033366473626, binarize=0.7607924105682173, fit_prior=True, total=   0.0s\n",
      "[CV] alpha=0.34261033366473626, binarize=0.7607924105682173, fit_prior=True \n"
     ]
    },
    {
     "name": "stderr",
     "output_type": "stream",
     "text": [
      "/scratch/clb617/anaconda3/lib/python3.6/site-packages/sklearn/metrics/classification.py:1135: UndefinedMetricWarning: F-score is ill-defined and being set to 0.0 in labels with no predicted samples.\n",
      "  'precision', 'predicted', average, warn_for)\n"
     ]
    },
    {
     "name": "stdout",
     "output_type": "stream",
     "text": [
      "[CV] alpha=0.7447778285204237, binarize=0.2266512041826465, fit_prior=False \n"
     ]
    },
    {
     "name": "stderr",
     "output_type": "stream",
     "text": [
      "/scratch/clb617/anaconda3/lib/python3.6/site-packages/sklearn/metrics/classification.py:1135: UndefinedMetricWarning: F-score is ill-defined and being set to 0.0 in labels with no predicted samples.\n",
      "  'precision', 'predicted', average, warn_for)\n"
     ]
    },
    {
     "name": "stdout",
     "output_type": "stream",
     "text": [
      "[CV]  alpha=0.34261033366473626, binarize=0.7607924105682173, fit_prior=True, total=   0.0s\n"
     ]
    },
    {
     "name": "stderr",
     "output_type": "stream",
     "text": [
      "/scratch/clb617/anaconda3/lib/python3.6/site-packages/sklearn/metrics/classification.py:1135: UndefinedMetricWarning: F-score is ill-defined and being set to 0.0 in labels with no predicted samples.\n",
      "  'precision', 'predicted', average, warn_for)\n"
     ]
    },
    {
     "name": "stdout",
     "output_type": "stream",
     "text": [
      "[CV] alpha=0.7447778285204237, binarize=0.2266512041826465, fit_prior=False \n",
      "[CV]  alpha=0.7447778285204237, binarize=0.2266512041826465, fit_prior=False, total=   0.0s\n",
      "[CV] alpha=0.7447778285204237, binarize=0.2266512041826465, fit_prior=False \n",
      "[CV] alpha=0.7447778285204237, binarize=0.2266512041826465, fit_prior=False \n"
     ]
    },
    {
     "name": "stderr",
     "output_type": "stream",
     "text": [
      "/scratch/clb617/anaconda3/lib/python3.6/site-packages/sklearn/metrics/classification.py:1135: UndefinedMetricWarning: F-score is ill-defined and being set to 0.0 in labels with no predicted samples.\n",
      "  'precision', 'predicted', average, warn_for)\n",
      "/scratch/clb617/anaconda3/lib/python3.6/site-packages/sklearn/metrics/classification.py:1135: UndefinedMetricWarning: F-score is ill-defined and being set to 0.0 in labels with no predicted samples.\n",
      "  'precision', 'predicted', average, warn_for)\n"
     ]
    },
    {
     "name": "stdout",
     "output_type": "stream",
     "text": [
      "[CV]  alpha=0.7447778285204237, binarize=0.2266512041826465, fit_prior=False, total=   0.1s\n",
      "[CV]  alpha=0.7447778285204237, binarize=0.2266512041826465, fit_prior=False, total=   0.0s\n"
     ]
    },
    {
     "name": "stderr",
     "output_type": "stream",
     "text": [
      "/scratch/clb617/anaconda3/lib/python3.6/site-packages/sklearn/metrics/classification.py:1135: UndefinedMetricWarning: F-score is ill-defined and being set to 0.0 in labels with no predicted samples.\n",
      "  'precision', 'predicted', average, warn_for)\n"
     ]
    },
    {
     "name": "stdout",
     "output_type": "stream",
     "text": [
      "[CV]  alpha=0.7447778285204237, binarize=0.2266512041826465, fit_prior=False, total=   0.1s\n"
     ]
    },
    {
     "name": "stderr",
     "output_type": "stream",
     "text": [
      "/scratch/clb617/anaconda3/lib/python3.6/site-packages/sklearn/metrics/classification.py:1135: UndefinedMetricWarning: F-score is ill-defined and being set to 0.0 in labels with no predicted samples.\n",
      "  'precision', 'predicted', average, warn_for)\n"
     ]
    },
    {
     "name": "stdout",
     "output_type": "stream",
     "text": [
      "[CV] alpha=0.7447778285204237, binarize=0.2266512041826465, fit_prior=False \n",
      "[CV]  alpha=0.34261033366473626, binarize=0.7607924105682173, fit_prior=True, total=   0.1s\n"
     ]
    },
    {
     "name": "stderr",
     "output_type": "stream",
     "text": [
      "/scratch/clb617/anaconda3/lib/python3.6/site-packages/sklearn/metrics/classification.py:1135: UndefinedMetricWarning: F-score is ill-defined and being set to 0.0 in labels with no predicted samples.\n",
      "  'precision', 'predicted', average, warn_for)\n"
     ]
    },
    {
     "name": "stdout",
     "output_type": "stream",
     "text": [
      "[CV]  alpha=0.7447778285204237, binarize=0.2266512041826465, fit_prior=False, total=   0.1s\n",
      "[CV] alpha=0.7447778285204237, binarize=0.2266512041826465, fit_prior=False \n",
      "[CV]  alpha=0.34261033366473626, binarize=0.7607924105682173, fit_prior=True, total=   0.4s\n"
     ]
    },
    {
     "name": "stderr",
     "output_type": "stream",
     "text": [
      "/scratch/clb617/anaconda3/lib/python3.6/site-packages/sklearn/metrics/classification.py:1135: UndefinedMetricWarning: F-score is ill-defined and being set to 0.0 in labels with no predicted samples.\n",
      "  'precision', 'predicted', average, warn_for)\n"
     ]
    },
    {
     "name": "stdout",
     "output_type": "stream",
     "text": [
      "[CV] alpha=0.7447778285204237, binarize=0.2266512041826465, fit_prior=False \n",
      "[CV]  alpha=0.7447778285204237, binarize=0.2266512041826465, fit_prior=False, total=   0.0s\n",
      "[CV] alpha=0.7447778285204237, binarize=0.2266512041826465, fit_prior=False \n",
      "[CV] alpha=0.7447778285204237, binarize=0.2266512041826465, fit_prior=False \n"
     ]
    },
    {
     "name": "stderr",
     "output_type": "stream",
     "text": [
      "/scratch/clb617/anaconda3/lib/python3.6/site-packages/sklearn/metrics/classification.py:1135: UndefinedMetricWarning: F-score is ill-defined and being set to 0.0 in labels with no predicted samples.\n",
      "  'precision', 'predicted', average, warn_for)\n",
      "/scratch/clb617/anaconda3/lib/python3.6/site-packages/sklearn/metrics/classification.py:1135: UndefinedMetricWarning: F-score is ill-defined and being set to 0.0 in labels with no predicted samples.\n",
      "  'precision', 'predicted', average, warn_for)\n",
      "/scratch/clb617/anaconda3/lib/python3.6/site-packages/sklearn/metrics/classification.py:1135: UndefinedMetricWarning: F-score is ill-defined and being set to 0.0 in labels with no predicted samples.\n",
      "  'precision', 'predicted', average, warn_for)\n"
     ]
    },
    {
     "name": "stdout",
     "output_type": "stream",
     "text": [
      "[CV]  alpha=0.7447778285204237, binarize=0.2266512041826465, fit_prior=False, total=   0.1s\n",
      "[CV]  alpha=0.7447778285204237, binarize=0.2266512041826465, fit_prior=False, total=   0.0s\n",
      "[CV]  alpha=0.7447778285204237, binarize=0.2266512041826465, fit_prior=False, total=   0.1s\n",
      "[CV] alpha=0.7447778285204237, binarize=0.2266512041826465, fit_prior=False \n",
      "[CV] alpha=0.30323207751613834, binarize=0.37426864589521136, fit_prior=False \n",
      "[CV] alpha=0.30323207751613834, binarize=0.37426864589521136, fit_prior=False \n",
      "[CV] alpha=0.30323207751613834, binarize=0.37426864589521136, fit_prior=False \n"
     ]
    },
    {
     "name": "stderr",
     "output_type": "stream",
     "text": [
      "/scratch/clb617/anaconda3/lib/python3.6/site-packages/sklearn/metrics/classification.py:1135: UndefinedMetricWarning: F-score is ill-defined and being set to 0.0 in labels with no predicted samples.\n",
      "  'precision', 'predicted', average, warn_for)\n",
      "/scratch/clb617/anaconda3/lib/python3.6/site-packages/sklearn/metrics/classification.py:1135: UndefinedMetricWarning: F-score is ill-defined and being set to 0.0 in labels with no predicted samples.\n",
      "  'precision', 'predicted', average, warn_for)\n"
     ]
    },
    {
     "name": "stdout",
     "output_type": "stream",
     "text": [
      "[CV]  alpha=0.30323207751613834, binarize=0.37426864589521136, fit_prior=False, total=   0.0s\n",
      "[CV]  alpha=0.30323207751613834, binarize=0.37426864589521136, fit_prior=False, total=   0.0s\n"
     ]
    },
    {
     "name": "stderr",
     "output_type": "stream",
     "text": [
      "/scratch/clb617/anaconda3/lib/python3.6/site-packages/sklearn/metrics/classification.py:1135: UndefinedMetricWarning: F-score is ill-defined and being set to 0.0 in labels with no predicted samples.\n",
      "  'precision', 'predicted', average, warn_for)\n"
     ]
    },
    {
     "name": "stdout",
     "output_type": "stream",
     "text": [
      "[CV]  alpha=0.7447778285204237, binarize=0.2266512041826465, fit_prior=False, total=   0.1s\n",
      "[CV] alpha=0.30323207751613834, binarize=0.37426864589521136, fit_prior=False \n"
     ]
    },
    {
     "name": "stderr",
     "output_type": "stream",
     "text": [
      "/scratch/clb617/anaconda3/lib/python3.6/site-packages/sklearn/metrics/classification.py:1135: UndefinedMetricWarning: F-score is ill-defined and being set to 0.0 in labels with no predicted samples.\n",
      "  'precision', 'predicted', average, warn_for)\n"
     ]
    },
    {
     "name": "stdout",
     "output_type": "stream",
     "text": [
      "[CV]  alpha=0.30323207751613834, binarize=0.37426864589521136, fit_prior=False, total=   0.0s\n",
      "[CV] alpha=0.30323207751613834, binarize=0.37426864589521136, fit_prior=False \n"
     ]
    },
    {
     "name": "stderr",
     "output_type": "stream",
     "text": [
      "/scratch/clb617/anaconda3/lib/python3.6/site-packages/sklearn/metrics/classification.py:1135: UndefinedMetricWarning: F-score is ill-defined and being set to 0.0 in labels with no predicted samples.\n",
      "  'precision', 'predicted', average, warn_for)\n",
      "/scratch/clb617/anaconda3/lib/python3.6/site-packages/sklearn/metrics/classification.py:1135: UndefinedMetricWarning: F-score is ill-defined and being set to 0.0 in labels with no predicted samples.\n",
      "  'precision', 'predicted', average, warn_for)\n"
     ]
    },
    {
     "name": "stdout",
     "output_type": "stream",
     "text": [
      "[CV] alpha=0.30323207751613834, binarize=0.37426864589521136, fit_prior=False \n",
      "[CV] alpha=0.30323207751613834, binarize=0.37426864589521136, fit_prior=False \n",
      "[CV] alpha=0.30323207751613834, binarize=0.37426864589521136, fit_prior=False \n",
      "[CV]  alpha=0.30323207751613834, binarize=0.37426864589521136, fit_prior=False, total=   0.1s\n"
     ]
    },
    {
     "name": "stderr",
     "output_type": "stream",
     "text": [
      "/scratch/clb617/anaconda3/lib/python3.6/site-packages/sklearn/metrics/classification.py:1135: UndefinedMetricWarning: F-score is ill-defined and being set to 0.0 in labels with no predicted samples.\n",
      "  'precision', 'predicted', average, warn_for)\n"
     ]
    },
    {
     "name": "stdout",
     "output_type": "stream",
     "text": [
      "[CV]  alpha=0.30323207751613834, binarize=0.37426864589521136, fit_prior=False, total=   0.0s\n"
     ]
    },
    {
     "name": "stderr",
     "output_type": "stream",
     "text": [
      "/scratch/clb617/anaconda3/lib/python3.6/site-packages/sklearn/metrics/classification.py:1135: UndefinedMetricWarning: F-score is ill-defined and being set to 0.0 in labels with no predicted samples.\n",
      "  'precision', 'predicted', average, warn_for)\n"
     ]
    },
    {
     "name": "stdout",
     "output_type": "stream",
     "text": [
      "[CV]  alpha=0.30323207751613834, binarize=0.37426864589521136, fit_prior=False, total=   0.1s\n",
      "[CV]  alpha=0.30323207751613834, binarize=0.37426864589521136, fit_prior=False, total=   0.0s\n"
     ]
    },
    {
     "name": "stderr",
     "output_type": "stream",
     "text": [
      "/scratch/clb617/anaconda3/lib/python3.6/site-packages/sklearn/metrics/classification.py:1135: UndefinedMetricWarning: F-score is ill-defined and being set to 0.0 in labels with no predicted samples.\n",
      "  'precision', 'predicted', average, warn_for)\n"
     ]
    },
    {
     "name": "stdout",
     "output_type": "stream",
     "text": [
      "[CV]  alpha=0.30323207751613834, binarize=0.37426864589521136, fit_prior=False, total=   0.1s\n",
      "[CV] alpha=0.30323207751613834, binarize=0.37426864589521136, fit_prior=False \n",
      "[CV] alpha=0.2679734478658292, binarize=0.5094419215359797, fit_prior=True \n",
      "[CV] alpha=0.30323207751613834, binarize=0.37426864589521136, fit_prior=False \n",
      "[CV] alpha=0.2679734478658292, binarize=0.5094419215359797, fit_prior=True \n"
     ]
    },
    {
     "name": "stderr",
     "output_type": "stream",
     "text": [
      "/scratch/clb617/anaconda3/lib/python3.6/site-packages/sklearn/metrics/classification.py:1135: UndefinedMetricWarning: F-score is ill-defined and being set to 0.0 in labels with no predicted samples.\n",
      "  'precision', 'predicted', average, warn_for)\n",
      "/scratch/clb617/anaconda3/lib/python3.6/site-packages/sklearn/metrics/classification.py:1135: UndefinedMetricWarning: F-score is ill-defined and being set to 0.0 in labels with no predicted samples.\n",
      "  'precision', 'predicted', average, warn_for)\n"
     ]
    },
    {
     "name": "stdout",
     "output_type": "stream",
     "text": [
      "[CV] alpha=0.2679734478658292, binarize=0.5094419215359797, fit_prior=True \n",
      "[CV]  alpha=0.30323207751613834, binarize=0.37426864589521136, fit_prior=False, total=   0.1s\n",
      "[CV] alpha=0.2679734478658292, binarize=0.5094419215359797, fit_prior=True \n"
     ]
    },
    {
     "name": "stderr",
     "output_type": "stream",
     "text": [
      "/scratch/clb617/anaconda3/lib/python3.6/site-packages/sklearn/metrics/classification.py:1135: UndefinedMetricWarning: F-score is ill-defined and being set to 0.0 in labels with no predicted samples.\n",
      "  'precision', 'predicted', average, warn_for)\n",
      "/scratch/clb617/anaconda3/lib/python3.6/site-packages/sklearn/metrics/classification.py:1135: UndefinedMetricWarning: F-score is ill-defined and being set to 0.0 in labels with no predicted samples.\n",
      "  'precision', 'predicted', average, warn_for)\n"
     ]
    },
    {
     "name": "stdout",
     "output_type": "stream",
     "text": [
      "[CV]  alpha=0.2679734478658292, binarize=0.5094419215359797, fit_prior=True, total=   0.0s\n",
      "[CV] alpha=0.2679734478658292, binarize=0.5094419215359797, fit_prior=True \n",
      "[CV] alpha=0.2679734478658292, binarize=0.5094419215359797, fit_prior=True \n",
      "[CV]  alpha=0.2679734478658292, binarize=0.5094419215359797, fit_prior=True, total=   0.1s\n"
     ]
    },
    {
     "name": "stderr",
     "output_type": "stream",
     "text": [
      "/scratch/clb617/anaconda3/lib/python3.6/site-packages/sklearn/metrics/classification.py:1135: UndefinedMetricWarning: F-score is ill-defined and being set to 0.0 in labels with no predicted samples.\n",
      "  'precision', 'predicted', average, warn_for)\n",
      "/scratch/clb617/anaconda3/lib/python3.6/site-packages/sklearn/metrics/classification.py:1135: UndefinedMetricWarning: F-score is ill-defined and being set to 0.0 in labels with no predicted samples.\n",
      "  'precision', 'predicted', average, warn_for)\n"
     ]
    },
    {
     "name": "stdout",
     "output_type": "stream",
     "text": [
      "[CV]  alpha=0.30323207751613834, binarize=0.37426864589521136, fit_prior=False, total=   0.2s\n",
      "[CV]  alpha=0.2679734478658292, binarize=0.5094419215359797, fit_prior=True, total=   0.1s\n",
      "[CV] alpha=0.2679734478658292, binarize=0.5094419215359797, fit_prior=True \n",
      "[CV] alpha=0.2679734478658292, binarize=0.5094419215359797, fit_prior=True \n",
      "[CV]  alpha=0.2679734478658292, binarize=0.5094419215359797, fit_prior=True, total=   0.1s\n"
     ]
    },
    {
     "name": "stderr",
     "output_type": "stream",
     "text": [
      "/scratch/clb617/anaconda3/lib/python3.6/site-packages/sklearn/metrics/classification.py:1135: UndefinedMetricWarning: F-score is ill-defined and being set to 0.0 in labels with no predicted samples.\n",
      "  'precision', 'predicted', average, warn_for)\n"
     ]
    },
    {
     "name": "stdout",
     "output_type": "stream",
     "text": [
      "[CV] alpha=0.2679734478658292, binarize=0.5094419215359797, fit_prior=True \n"
     ]
    },
    {
     "name": "stderr",
     "output_type": "stream",
     "text": [
      "/scratch/clb617/anaconda3/lib/python3.6/site-packages/sklearn/metrics/classification.py:1135: UndefinedMetricWarning: F-score is ill-defined and being set to 0.0 in labels with no predicted samples.\n",
      "  'precision', 'predicted', average, warn_for)\n",
      "/scratch/clb617/anaconda3/lib/python3.6/site-packages/sklearn/metrics/classification.py:1135: UndefinedMetricWarning: F-score is ill-defined and being set to 0.0 in labels with no predicted samples.\n",
      "  'precision', 'predicted', average, warn_for)\n",
      "/scratch/clb617/anaconda3/lib/python3.6/site-packages/sklearn/metrics/classification.py:1135: UndefinedMetricWarning: F-score is ill-defined and being set to 0.0 in labels with no predicted samples.\n",
      "  'precision', 'predicted', average, warn_for)\n",
      "/scratch/clb617/anaconda3/lib/python3.6/site-packages/sklearn/metrics/classification.py:1135: UndefinedMetricWarning: F-score is ill-defined and being set to 0.0 in labels with no predicted samples.\n",
      "  'precision', 'predicted', average, warn_for)\n"
     ]
    },
    {
     "name": "stdout",
     "output_type": "stream",
     "text": [
      "[CV]  alpha=0.2679734478658292, binarize=0.5094419215359797, fit_prior=True, total=   0.0s\n",
      "[CV]  alpha=0.2679734478658292, binarize=0.5094419215359797, fit_prior=True, total=   0.3s\n",
      "[CV] alpha=0.2679734478658292, binarize=0.5094419215359797, fit_prior=True \n",
      "[CV]  alpha=0.2679734478658292, binarize=0.5094419215359797, fit_prior=True, total=   0.1s\n",
      "[CV]  alpha=0.2679734478658292, binarize=0.5094419215359797, fit_prior=True, total=   0.1s\n",
      "[CV] alpha=0.01638220926511247, binarize=0.6469076384141528, fit_prior=False \n",
      "[CV]  alpha=0.2679734478658292, binarize=0.5094419215359797, fit_prior=True, total=   0.2s\n"
     ]
    },
    {
     "name": "stderr",
     "output_type": "stream",
     "text": [
      "/scratch/clb617/anaconda3/lib/python3.6/site-packages/sklearn/metrics/classification.py:1135: UndefinedMetricWarning: F-score is ill-defined and being set to 0.0 in labels with no predicted samples.\n",
      "  'precision', 'predicted', average, warn_for)\n"
     ]
    },
    {
     "name": "stdout",
     "output_type": "stream",
     "text": [
      "[CV] alpha=0.01638220926511247, binarize=0.6469076384141528, fit_prior=False \n",
      "[CV]  alpha=0.2679734478658292, binarize=0.5094419215359797, fit_prior=True, total=   0.0s\n"
     ]
    },
    {
     "name": "stderr",
     "output_type": "stream",
     "text": [
      "/scratch/clb617/anaconda3/lib/python3.6/site-packages/sklearn/metrics/classification.py:1135: UndefinedMetricWarning: F-score is ill-defined and being set to 0.0 in labels with no predicted samples.\n",
      "  'precision', 'predicted', average, warn_for)\n"
     ]
    },
    {
     "name": "stdout",
     "output_type": "stream",
     "text": [
      "[CV]  alpha=0.01638220926511247, binarize=0.6469076384141528, fit_prior=False, total=   0.0s\n",
      "[CV] alpha=0.01638220926511247, binarize=0.6469076384141528, fit_prior=False \n",
      "[CV] alpha=0.01638220926511247, binarize=0.6469076384141528, fit_prior=False \n",
      "[CV] alpha=0.01638220926511247, binarize=0.6469076384141528, fit_prior=False \n"
     ]
    },
    {
     "name": "stderr",
     "output_type": "stream",
     "text": [
      "/scratch/clb617/anaconda3/lib/python3.6/site-packages/sklearn/metrics/classification.py:1135: UndefinedMetricWarning: F-score is ill-defined and being set to 0.0 in labels with no predicted samples.\n",
      "  'precision', 'predicted', average, warn_for)\n",
      "/scratch/clb617/anaconda3/lib/python3.6/site-packages/sklearn/metrics/classification.py:1135: UndefinedMetricWarning: F-score is ill-defined and being set to 0.0 in labels with no predicted samples.\n",
      "  'precision', 'predicted', average, warn_for)\n"
     ]
    },
    {
     "name": "stdout",
     "output_type": "stream",
     "text": [
      "[CV] alpha=0.01638220926511247, binarize=0.6469076384141528, fit_prior=False \n"
     ]
    },
    {
     "name": "stderr",
     "output_type": "stream",
     "text": [
      "/scratch/clb617/anaconda3/lib/python3.6/site-packages/sklearn/metrics/classification.py:1135: UndefinedMetricWarning: F-score is ill-defined and being set to 0.0 in labels with no predicted samples.\n",
      "  'precision', 'predicted', average, warn_for)\n"
     ]
    },
    {
     "name": "stdout",
     "output_type": "stream",
     "text": [
      "[CV]  alpha=0.01638220926511247, binarize=0.6469076384141528, fit_prior=False, total=   0.1s\n",
      "[CV]  alpha=0.01638220926511247, binarize=0.6469076384141528, fit_prior=False, total=   0.0s\n",
      "[CV] alpha=0.01638220926511247, binarize=0.6469076384141528, fit_prior=False \n",
      "[CV]  alpha=0.01638220926511247, binarize=0.6469076384141528, fit_prior=False, total=   0.2s\n"
     ]
    },
    {
     "name": "stderr",
     "output_type": "stream",
     "text": [
      "/scratch/clb617/anaconda3/lib/python3.6/site-packages/sklearn/metrics/classification.py:1135: UndefinedMetricWarning: F-score is ill-defined and being set to 0.0 in labels with no predicted samples.\n",
      "  'precision', 'predicted', average, warn_for)\n",
      "/scratch/clb617/anaconda3/lib/python3.6/site-packages/sklearn/metrics/classification.py:1135: UndefinedMetricWarning: F-score is ill-defined and being set to 0.0 in labels with no predicted samples.\n",
      "  'precision', 'predicted', average, warn_for)\n"
     ]
    },
    {
     "name": "stdout",
     "output_type": "stream",
     "text": [
      "[CV]  alpha=0.01638220926511247, binarize=0.6469076384141528, fit_prior=False, total=   0.0s\n"
     ]
    },
    {
     "name": "stderr",
     "output_type": "stream",
     "text": [
      "/scratch/clb617/anaconda3/lib/python3.6/site-packages/sklearn/metrics/classification.py:1135: UndefinedMetricWarning: F-score is ill-defined and being set to 0.0 in labels with no predicted samples.\n",
      "  'precision', 'predicted', average, warn_for)\n"
     ]
    },
    {
     "name": "stdout",
     "output_type": "stream",
     "text": [
      "[CV] alpha=0.01638220926511247, binarize=0.6469076384141528, fit_prior=False \n",
      "[CV]  alpha=0.01638220926511247, binarize=0.6469076384141528, fit_prior=False, total=   0.2s\n",
      "[CV] alpha=0.01638220926511247, binarize=0.6469076384141528, fit_prior=False \n"
     ]
    },
    {
     "name": "stderr",
     "output_type": "stream",
     "text": [
      "/scratch/clb617/anaconda3/lib/python3.6/site-packages/sklearn/metrics/classification.py:1135: UndefinedMetricWarning: F-score is ill-defined and being set to 0.0 in labels with no predicted samples.\n",
      "  'precision', 'predicted', average, warn_for)\n"
     ]
    },
    {
     "name": "stdout",
     "output_type": "stream",
     "text": [
      "[CV]  alpha=0.01638220926511247, binarize=0.6469076384141528, fit_prior=False, total=   0.0s\n",
      "[CV]  alpha=0.01638220926511247, binarize=0.6469076384141528, fit_prior=False, total=   0.2s\n"
     ]
    },
    {
     "name": "stderr",
     "output_type": "stream",
     "text": [
      "/scratch/clb617/anaconda3/lib/python3.6/site-packages/sklearn/metrics/classification.py:1135: UndefinedMetricWarning: F-score is ill-defined and being set to 0.0 in labels with no predicted samples.\n",
      "  'precision', 'predicted', average, warn_for)\n"
     ]
    },
    {
     "name": "stdout",
     "output_type": "stream",
     "text": [
      "[CV] alpha=0.01638220926511247, binarize=0.6469076384141528, fit_prior=False \n",
      "[CV]  alpha=0.01638220926511247, binarize=0.6469076384141528, fit_prior=False, total=   0.1s\n",
      "[CV] alpha=0.5332085826915929, binarize=0.8088151916771205, fit_prior=True \n"
     ]
    },
    {
     "name": "stderr",
     "output_type": "stream",
     "text": [
      "/scratch/clb617/anaconda3/lib/python3.6/site-packages/sklearn/metrics/classification.py:1135: UndefinedMetricWarning: F-score is ill-defined and being set to 0.0 in labels with no predicted samples.\n",
      "  'precision', 'predicted', average, warn_for)\n"
     ]
    },
    {
     "name": "stdout",
     "output_type": "stream",
     "text": [
      "[CV] alpha=0.5332085826915929, binarize=0.8088151916771205, fit_prior=True \n",
      "[CV] alpha=0.5332085826915929, binarize=0.8088151916771205, fit_prior=True \n"
     ]
    },
    {
     "name": "stderr",
     "output_type": "stream",
     "text": [
      "/scratch/clb617/anaconda3/lib/python3.6/site-packages/sklearn/metrics/classification.py:1135: UndefinedMetricWarning: F-score is ill-defined and being set to 0.0 in labels with no predicted samples.\n",
      "  'precision', 'predicted', average, warn_for)\n"
     ]
    },
    {
     "name": "stdout",
     "output_type": "stream",
     "text": [
      "[CV] alpha=0.5332085826915929, binarize=0.8088151916771205, fit_prior=True \n",
      "[CV]  alpha=0.5332085826915929, binarize=0.8088151916771205, fit_prior=True, total=   0.0s\n",
      "[CV]  alpha=0.01638220926511247, binarize=0.6469076384141528, fit_prior=False, total=   0.0s\n"
     ]
    },
    {
     "name": "stderr",
     "output_type": "stream",
     "text": [
      "/scratch/clb617/anaconda3/lib/python3.6/site-packages/sklearn/metrics/classification.py:1135: UndefinedMetricWarning: F-score is ill-defined and being set to 0.0 in labels with no predicted samples.\n",
      "  'precision', 'predicted', average, warn_for)\n"
     ]
    },
    {
     "name": "stdout",
     "output_type": "stream",
     "text": [
      "[CV]  alpha=0.5332085826915929, binarize=0.8088151916771205, fit_prior=True, total=   0.1s\n"
     ]
    },
    {
     "name": "stderr",
     "output_type": "stream",
     "text": [
      "/scratch/clb617/anaconda3/lib/python3.6/site-packages/sklearn/metrics/classification.py:1135: UndefinedMetricWarning: F-score is ill-defined and being set to 0.0 in labels with no predicted samples.\n",
      "  'precision', 'predicted', average, warn_for)\n",
      "/scratch/clb617/anaconda3/lib/python3.6/site-packages/sklearn/metrics/classification.py:1135: UndefinedMetricWarning: F-score is ill-defined and being set to 0.0 in labels with no predicted samples.\n",
      "  'precision', 'predicted', average, warn_for)\n"
     ]
    },
    {
     "name": "stdout",
     "output_type": "stream",
     "text": [
      "[CV] alpha=0.5332085826915929, binarize=0.8088151916771205, fit_prior=True \n",
      "[CV] alpha=0.5332085826915929, binarize=0.8088151916771205, fit_prior=True \n",
      "[CV]  alpha=0.5332085826915929, binarize=0.8088151916771205, fit_prior=True, total=   0.0s\n",
      "[CV]  alpha=0.5332085826915929, binarize=0.8088151916771205, fit_prior=True, total=   0.2s\n",
      "[CV] alpha=0.5332085826915929, binarize=0.8088151916771205, fit_prior=True \n",
      "[CV] alpha=0.5332085826915929, binarize=0.8088151916771205, fit_prior=True \n"
     ]
    },
    {
     "name": "stderr",
     "output_type": "stream",
     "text": [
      "/scratch/clb617/anaconda3/lib/python3.6/site-packages/sklearn/metrics/classification.py:1135: UndefinedMetricWarning: F-score is ill-defined and being set to 0.0 in labels with no predicted samples.\n",
      "  'precision', 'predicted', average, warn_for)\n",
      "/scratch/clb617/anaconda3/lib/python3.6/site-packages/sklearn/metrics/classification.py:1135: UndefinedMetricWarning: F-score is ill-defined and being set to 0.0 in labels with no predicted samples.\n",
      "  'precision', 'predicted', average, warn_for)\n"
     ]
    },
    {
     "name": "stdout",
     "output_type": "stream",
     "text": [
      "[CV]  alpha=0.5332085826915929, binarize=0.8088151916771205, fit_prior=True, total=   0.2s\n",
      "[CV]  alpha=0.5332085826915929, binarize=0.8088151916771205, fit_prior=True, total=   0.1s\n",
      "[CV] alpha=0.5332085826915929, binarize=0.8088151916771205, fit_prior=True \n",
      "[CV] alpha=0.5332085826915929, binarize=0.8088151916771205, fit_prior=True \n"
     ]
    },
    {
     "name": "stderr",
     "output_type": "stream",
     "text": [
      "/scratch/clb617/anaconda3/lib/python3.6/site-packages/sklearn/metrics/classification.py:1135: UndefinedMetricWarning: F-score is ill-defined and being set to 0.0 in labels with no predicted samples.\n",
      "  'precision', 'predicted', average, warn_for)\n",
      "/scratch/clb617/anaconda3/lib/python3.6/site-packages/sklearn/metrics/classification.py:1135: UndefinedMetricWarning: F-score is ill-defined and being set to 0.0 in labels with no predicted samples.\n",
      "  'precision', 'predicted', average, warn_for)\n"
     ]
    },
    {
     "name": "stdout",
     "output_type": "stream",
     "text": [
      "[CV] alpha=0.9973282198830081, binarize=0.8714990838237885, fit_prior=True \n"
     ]
    },
    {
     "name": "stderr",
     "output_type": "stream",
     "text": [
      "/scratch/clb617/anaconda3/lib/python3.6/site-packages/sklearn/metrics/classification.py:1135: UndefinedMetricWarning: F-score is ill-defined and being set to 0.0 in labels with no predicted samples.\n",
      "  'precision', 'predicted', average, warn_for)\n"
     ]
    },
    {
     "name": "stdout",
     "output_type": "stream",
     "text": [
      "[CV]  alpha=0.5332085826915929, binarize=0.8088151916771205, fit_prior=True, total=   0.1s\n",
      "[CV] alpha=0.9973282198830081, binarize=0.8714990838237885, fit_prior=True \n"
     ]
    },
    {
     "name": "stderr",
     "output_type": "stream",
     "text": [
      "/scratch/clb617/anaconda3/lib/python3.6/site-packages/sklearn/metrics/classification.py:1135: UndefinedMetricWarning: F-score is ill-defined and being set to 0.0 in labels with no predicted samples.\n",
      "  'precision', 'predicted', average, warn_for)\n"
     ]
    },
    {
     "name": "stdout",
     "output_type": "stream",
     "text": [
      "[CV] alpha=0.9973282198830081, binarize=0.8714990838237885, fit_prior=True \n",
      "[CV]  alpha=0.9973282198830081, binarize=0.8714990838237885, fit_prior=True, total=   0.1s\n"
     ]
    },
    {
     "name": "stderr",
     "output_type": "stream",
     "text": [
      "/scratch/clb617/anaconda3/lib/python3.6/site-packages/sklearn/metrics/classification.py:1135: UndefinedMetricWarning: F-score is ill-defined and being set to 0.0 in labels with no predicted samples.\n",
      "  'precision', 'predicted', average, warn_for)\n",
      "/scratch/clb617/anaconda3/lib/python3.6/site-packages/sklearn/metrics/classification.py:1135: UndefinedMetricWarning: F-score is ill-defined and being set to 0.0 in labels with no predicted samples.\n",
      "  'precision', 'predicted', average, warn_for)\n",
      "/scratch/clb617/anaconda3/lib/python3.6/site-packages/sklearn/metrics/classification.py:1135: UndefinedMetricWarning: F-score is ill-defined and being set to 0.0 in labels with no predicted samples.\n",
      "  'precision', 'predicted', average, warn_for)\n"
     ]
    },
    {
     "name": "stdout",
     "output_type": "stream",
     "text": [
      "[CV]  alpha=0.5332085826915929, binarize=0.8088151916771205, fit_prior=True, total=   0.1s\n",
      "[CV] alpha=0.9973282198830081, binarize=0.8714990838237885, fit_prior=True \n",
      "[CV]  alpha=0.5332085826915929, binarize=0.8088151916771205, fit_prior=True, total=   0.2s\n",
      "[CV] alpha=0.9973282198830081, binarize=0.8714990838237885, fit_prior=True \n"
     ]
    },
    {
     "name": "stderr",
     "output_type": "stream",
     "text": [
      "/scratch/clb617/anaconda3/lib/python3.6/site-packages/sklearn/metrics/classification.py:1135: UndefinedMetricWarning: F-score is ill-defined and being set to 0.0 in labels with no predicted samples.\n",
      "  'precision', 'predicted', average, warn_for)\n"
     ]
    },
    {
     "name": "stdout",
     "output_type": "stream",
     "text": [
      "[CV] alpha=0.9973282198830081, binarize=0.8714990838237885, fit_prior=True \n",
      "[CV]  alpha=0.9973282198830081, binarize=0.8714990838237885, fit_prior=True, total=   0.0s\n",
      "[CV] alpha=0.2107423350973079, binarize=0.5784149743409512, fit_prior=False \n"
     ]
    },
    {
     "name": "stderr",
     "output_type": "stream",
     "text": [
      "/scratch/clb617/anaconda3/lib/python3.6/site-packages/sklearn/metrics/classification.py:1135: UndefinedMetricWarning: F-score is ill-defined and being set to 0.0 in labels with no predicted samples.\n",
      "  'precision', 'predicted', average, warn_for)\n"
     ]
    },
    {
     "name": "stdout",
     "output_type": "stream",
     "text": [
      "[CV] alpha=0.9973282198830081, binarize=0.8714990838237885, fit_prior=True \n"
     ]
    },
    {
     "name": "stderr",
     "output_type": "stream",
     "text": [
      "/scratch/clb617/anaconda3/lib/python3.6/site-packages/sklearn/metrics/classification.py:1135: UndefinedMetricWarning: F-score is ill-defined and being set to 0.0 in labels with no predicted samples.\n",
      "  'precision', 'predicted', average, warn_for)\n",
      "/scratch/clb617/anaconda3/lib/python3.6/site-packages/sklearn/metrics/classification.py:1135: UndefinedMetricWarning: F-score is ill-defined and being set to 0.0 in labels with no predicted samples.\n",
      "  'precision', 'predicted', average, warn_for)\n"
     ]
    },
    {
     "name": "stdout",
     "output_type": "stream",
     "text": [
      "[CV]  alpha=0.2107423350973079, binarize=0.5784149743409512, fit_prior=False, total=   0.0s\n"
     ]
    },
    {
     "name": "stderr",
     "output_type": "stream",
     "text": [
      "/scratch/clb617/anaconda3/lib/python3.6/site-packages/sklearn/metrics/classification.py:1135: UndefinedMetricWarning: F-score is ill-defined and being set to 0.0 in labels with no predicted samples.\n",
      "  'precision', 'predicted', average, warn_for)\n"
     ]
    },
    {
     "name": "stdout",
     "output_type": "stream",
     "text": [
      "[CV]  alpha=0.9973282198830081, binarize=0.8714990838237885, fit_prior=True, total=   0.1s\n",
      "[CV]  alpha=0.9973282198830081, binarize=0.8714990838237885, fit_prior=True, total=   0.1s\n",
      "[CV] alpha=0.2107423350973079, binarize=0.5784149743409512, fit_prior=False \n"
     ]
    },
    {
     "name": "stderr",
     "output_type": "stream",
     "text": [
      "/scratch/clb617/anaconda3/lib/python3.6/site-packages/sklearn/metrics/classification.py:1135: UndefinedMetricWarning: F-score is ill-defined and being set to 0.0 in labels with no predicted samples.\n",
      "  'precision', 'predicted', average, warn_for)\n"
     ]
    },
    {
     "name": "stdout",
     "output_type": "stream",
     "text": [
      "[CV] alpha=0.2107423350973079, binarize=0.5784149743409512, fit_prior=False \n",
      "[CV] alpha=0.2107423350973079, binarize=0.5784149743409512, fit_prior=False \n",
      "[CV]  alpha=0.2107423350973079, binarize=0.5784149743409512, fit_prior=False, total=   0.0s\n",
      "[CV]  alpha=0.9973282198830081, binarize=0.8714990838237885, fit_prior=True, total=   0.2s\n"
     ]
    },
    {
     "name": "stderr",
     "output_type": "stream",
     "text": [
      "/scratch/clb617/anaconda3/lib/python3.6/site-packages/sklearn/metrics/classification.py:1135: UndefinedMetricWarning: F-score is ill-defined and being set to 0.0 in labels with no predicted samples.\n",
      "  'precision', 'predicted', average, warn_for)\n"
     ]
    },
    {
     "name": "stdout",
     "output_type": "stream",
     "text": [
      "[CV]  alpha=0.2107423350973079, binarize=0.5784149743409512, fit_prior=False, total=   0.0s\n",
      "[CV] alpha=0.2107423350973079, binarize=0.5784149743409512, fit_prior=False \n"
     ]
    },
    {
     "name": "stderr",
     "output_type": "stream",
     "text": [
      "/scratch/clb617/anaconda3/lib/python3.6/site-packages/sklearn/metrics/classification.py:1135: UndefinedMetricWarning: F-score is ill-defined and being set to 0.0 in labels with no predicted samples.\n",
      "  'precision', 'predicted', average, warn_for)\n"
     ]
    },
    {
     "name": "stdout",
     "output_type": "stream",
     "text": [
      "[CV] alpha=0.2107423350973079, binarize=0.5784149743409512, fit_prior=False \n"
     ]
    },
    {
     "name": "stderr",
     "output_type": "stream",
     "text": [
      "/scratch/clb617/anaconda3/lib/python3.6/site-packages/sklearn/metrics/classification.py:1135: UndefinedMetricWarning: F-score is ill-defined and being set to 0.0 in labels with no predicted samples.\n",
      "  'precision', 'predicted', average, warn_for)\n"
     ]
    },
    {
     "name": "stdout",
     "output_type": "stream",
     "text": [
      "[CV]  alpha=0.2107423350973079, binarize=0.5784149743409512, fit_prior=False, total=   0.0s\n"
     ]
    },
    {
     "name": "stderr",
     "output_type": "stream",
     "text": [
      "/scratch/clb617/anaconda3/lib/python3.6/site-packages/sklearn/metrics/classification.py:1135: UndefinedMetricWarning: F-score is ill-defined and being set to 0.0 in labels with no predicted samples.\n",
      "  'precision', 'predicted', average, warn_for)\n"
     ]
    },
    {
     "name": "stdout",
     "output_type": "stream",
     "text": [
      "[CV]  alpha=0.2107423350973079, binarize=0.5784149743409512, fit_prior=False, total=   0.0s\n",
      "[CV] alpha=0.2107423350973079, binarize=0.5784149743409512, fit_prior=False \n",
      "[CV] alpha=0.2107423350973079, binarize=0.5784149743409512, fit_prior=False \n",
      "[CV] alpha=0.2107423350973079, binarize=0.5784149743409512, fit_prior=False \n",
      "[CV]  alpha=0.2107423350973079, binarize=0.5784149743409512, fit_prior=False, total=   0.1s\n",
      "[CV] alpha=0.2107423350973079, binarize=0.5784149743409512, fit_prior=False \n"
     ]
    },
    {
     "name": "stderr",
     "output_type": "stream",
     "text": [
      "/scratch/clb617/anaconda3/lib/python3.6/site-packages/sklearn/metrics/classification.py:1135: UndefinedMetricWarning: F-score is ill-defined and being set to 0.0 in labels with no predicted samples.\n",
      "  'precision', 'predicted', average, warn_for)\n",
      "/scratch/clb617/anaconda3/lib/python3.6/site-packages/sklearn/metrics/classification.py:1135: UndefinedMetricWarning: F-score is ill-defined and being set to 0.0 in labels with no predicted samples.\n",
      "  'precision', 'predicted', average, warn_for)\n"
     ]
    },
    {
     "name": "stdout",
     "output_type": "stream",
     "text": [
      "[CV]  alpha=0.2107423350973079, binarize=0.5784149743409512, fit_prior=False, total=   0.0s\n",
      "[CV]  alpha=0.2107423350973079, binarize=0.5784149743409512, fit_prior=False, total=   0.1s\n"
     ]
    },
    {
     "name": "stderr",
     "output_type": "stream",
     "text": [
      "/scratch/clb617/anaconda3/lib/python3.6/site-packages/sklearn/metrics/classification.py:1135: UndefinedMetricWarning: F-score is ill-defined and being set to 0.0 in labels with no predicted samples.\n",
      "  'precision', 'predicted', average, warn_for)\n"
     ]
    },
    {
     "name": "stdout",
     "output_type": "stream",
     "text": [
      "[CV] alpha=0.496440612774814, binarize=0.9084477559701264, fit_prior=False \n",
      "[CV] alpha=0.496440612774814, binarize=0.9084477559701264, fit_prior=False \n",
      "[CV]  alpha=0.2107423350973079, binarize=0.5784149743409512, fit_prior=False, total=   0.1s\n"
     ]
    },
    {
     "name": "stderr",
     "output_type": "stream",
     "text": [
      "/scratch/clb617/anaconda3/lib/python3.6/site-packages/sklearn/metrics/classification.py:1135: UndefinedMetricWarning: F-score is ill-defined and being set to 0.0 in labels with no predicted samples.\n",
      "  'precision', 'predicted', average, warn_for)\n",
      "/scratch/clb617/anaconda3/lib/python3.6/site-packages/sklearn/metrics/classification.py:1135: UndefinedMetricWarning: F-score is ill-defined and being set to 0.0 in labels with no predicted samples.\n",
      "  'precision', 'predicted', average, warn_for)\n"
     ]
    },
    {
     "name": "stdout",
     "output_type": "stream",
     "text": [
      "[CV]  alpha=0.496440612774814, binarize=0.9084477559701264, fit_prior=False, total=   0.0s\n",
      "[CV]  alpha=0.496440612774814, binarize=0.9084477559701264, fit_prior=False, total=   0.1s\n",
      "[CV] alpha=0.496440612774814, binarize=0.9084477559701264, fit_prior=False \n",
      "[CV] alpha=0.496440612774814, binarize=0.9084477559701264, fit_prior=False \n"
     ]
    },
    {
     "name": "stderr",
     "output_type": "stream",
     "text": [
      "/scratch/clb617/anaconda3/lib/python3.6/site-packages/sklearn/metrics/classification.py:1135: UndefinedMetricWarning: F-score is ill-defined and being set to 0.0 in labels with no predicted samples.\n",
      "  'precision', 'predicted', average, warn_for)\n",
      "/scratch/clb617/anaconda3/lib/python3.6/site-packages/sklearn/metrics/classification.py:1135: UndefinedMetricWarning: F-score is ill-defined and being set to 0.0 in labels with no predicted samples.\n",
      "  'precision', 'predicted', average, warn_for)\n"
     ]
    },
    {
     "name": "stdout",
     "output_type": "stream",
     "text": [
      "[CV]  alpha=0.496440612774814, binarize=0.9084477559701264, fit_prior=False, total=   0.0s\n",
      "[CV]  alpha=0.496440612774814, binarize=0.9084477559701264, fit_prior=False, total=   0.1s\n",
      "[CV] alpha=0.496440612774814, binarize=0.9084477559701264, fit_prior=False \n",
      "[CV] alpha=0.496440612774814, binarize=0.9084477559701264, fit_prior=False \n"
     ]
    },
    {
     "name": "stderr",
     "output_type": "stream",
     "text": [
      "/scratch/clb617/anaconda3/lib/python3.6/site-packages/sklearn/metrics/classification.py:1135: UndefinedMetricWarning: F-score is ill-defined and being set to 0.0 in labels with no predicted samples.\n",
      "  'precision', 'predicted', average, warn_for)\n"
     ]
    },
    {
     "name": "stdout",
     "output_type": "stream",
     "text": [
      "[CV] alpha=0.496440612774814, binarize=0.9084477559701264, fit_prior=False \n"
     ]
    },
    {
     "name": "stderr",
     "output_type": "stream",
     "text": [
      "[Parallel(n_jobs=-1)]: Done 1011 tasks      | elapsed:   38.8s\n"
     ]
    },
    {
     "name": "stdout",
     "output_type": "stream",
     "text": [
      "[CV] alpha=0.496440612774814, binarize=0.9084477559701264, fit_prior=False \n"
     ]
    },
    {
     "name": "stderr",
     "output_type": "stream",
     "text": [
      "/scratch/clb617/anaconda3/lib/python3.6/site-packages/sklearn/metrics/classification.py:1135: UndefinedMetricWarning: F-score is ill-defined and being set to 0.0 in labels with no predicted samples.\n",
      "  'precision', 'predicted', average, warn_for)\n"
     ]
    },
    {
     "name": "stdout",
     "output_type": "stream",
     "text": [
      "[CV] alpha=0.496440612774814, binarize=0.9084477559701264, fit_prior=False \n"
     ]
    },
    {
     "name": "stderr",
     "output_type": "stream",
     "text": [
      "/scratch/clb617/anaconda3/lib/python3.6/site-packages/sklearn/metrics/classification.py:1135: UndefinedMetricWarning: F-score is ill-defined and being set to 0.0 in labels with no predicted samples.\n",
      "  'precision', 'predicted', average, warn_for)\n",
      "/scratch/clb617/anaconda3/lib/python3.6/site-packages/sklearn/metrics/classification.py:1135: UndefinedMetricWarning: F-score is ill-defined and being set to 0.0 in labels with no predicted samples.\n",
      "  'precision', 'predicted', average, warn_for)\n",
      "/scratch/clb617/anaconda3/lib/python3.6/site-packages/sklearn/metrics/classification.py:1135: UndefinedMetricWarning: F-score is ill-defined and being set to 0.0 in labels with no predicted samples.\n",
      "  'precision', 'predicted', average, warn_for)\n"
     ]
    },
    {
     "name": "stdout",
     "output_type": "stream",
     "text": [
      "[CV] alpha=0.496440612774814, binarize=0.9084477559701264, fit_prior=False \n",
      "[CV] alpha=0.7371156773568437, binarize=0.7443982559452678, fit_prior=False \n",
      "[CV]  alpha=0.496440612774814, binarize=0.9084477559701264, fit_prior=False, total=   0.1s\n",
      "[CV] alpha=0.7371156773568437, binarize=0.7443982559452678, fit_prior=False \n"
     ]
    },
    {
     "name": "stderr",
     "output_type": "stream",
     "text": [
      "/scratch/clb617/anaconda3/lib/python3.6/site-packages/sklearn/metrics/classification.py:1135: UndefinedMetricWarning: F-score is ill-defined and being set to 0.0 in labels with no predicted samples.\n",
      "  'precision', 'predicted', average, warn_for)\n"
     ]
    },
    {
     "name": "stdout",
     "output_type": "stream",
     "text": [
      "[CV]  alpha=0.7371156773568437, binarize=0.7443982559452678, fit_prior=False, total=   0.0s\n"
     ]
    },
    {
     "name": "stderr",
     "output_type": "stream",
     "text": [
      "/scratch/clb617/anaconda3/lib/python3.6/site-packages/sklearn/metrics/classification.py:1135: UndefinedMetricWarning: F-score is ill-defined and being set to 0.0 in labels with no predicted samples.\n",
      "  'precision', 'predicted', average, warn_for)\n"
     ]
    },
    {
     "name": "stdout",
     "output_type": "stream",
     "text": [
      "[CV]  alpha=0.496440612774814, binarize=0.9084477559701264, fit_prior=False, total=   0.1s\n",
      "[CV]  alpha=0.496440612774814, binarize=0.9084477559701264, fit_prior=False, total=   0.0s\n"
     ]
    },
    {
     "name": "stderr",
     "output_type": "stream",
     "text": [
      "/scratch/clb617/anaconda3/lib/python3.6/site-packages/sklearn/metrics/classification.py:1135: UndefinedMetricWarning: F-score is ill-defined and being set to 0.0 in labels with no predicted samples.\n",
      "  'precision', 'predicted', average, warn_for)\n"
     ]
    },
    {
     "name": "stdout",
     "output_type": "stream",
     "text": [
      "[CV]  alpha=0.2107423350973079, binarize=0.5784149743409512, fit_prior=False, total=   0.4s\n"
     ]
    },
    {
     "name": "stderr",
     "output_type": "stream",
     "text": [
      "/scratch/clb617/anaconda3/lib/python3.6/site-packages/sklearn/metrics/classification.py:1135: UndefinedMetricWarning: F-score is ill-defined and being set to 0.0 in labels with no predicted samples.\n",
      "  'precision', 'predicted', average, warn_for)\n"
     ]
    },
    {
     "name": "stdout",
     "output_type": "stream",
     "text": [
      "[CV]  alpha=0.496440612774814, binarize=0.9084477559701264, fit_prior=False, total=   0.1s\n",
      "[CV]  alpha=0.496440612774814, binarize=0.9084477559701264, fit_prior=False, total=   0.0s\n",
      "[CV]  alpha=0.7371156773568437, binarize=0.7443982559452678, fit_prior=False, total=   0.1s\n",
      "[CV]  alpha=0.496440612774814, binarize=0.9084477559701264, fit_prior=False, total=   0.1s\n",
      "[CV] alpha=0.7371156773568437, binarize=0.7443982559452678, fit_prior=False \n"
     ]
    },
    {
     "name": "stderr",
     "output_type": "stream",
     "text": [
      "/scratch/clb617/anaconda3/lib/python3.6/site-packages/sklearn/metrics/classification.py:1135: UndefinedMetricWarning: F-score is ill-defined and being set to 0.0 in labels with no predicted samples.\n",
      "  'precision', 'predicted', average, warn_for)\n"
     ]
    },
    {
     "name": "stdout",
     "output_type": "stream",
     "text": [
      "[CV]  alpha=0.7371156773568437, binarize=0.7443982559452678, fit_prior=False, total=   0.0s\n",
      "[CV] alpha=0.7371156773568437, binarize=0.7443982559452678, fit_prior=False \n"
     ]
    },
    {
     "name": "stderr",
     "output_type": "stream",
     "text": [
      "/scratch/clb617/anaconda3/lib/python3.6/site-packages/sklearn/metrics/classification.py:1135: UndefinedMetricWarning: F-score is ill-defined and being set to 0.0 in labels with no predicted samples.\n",
      "  'precision', 'predicted', average, warn_for)\n"
     ]
    },
    {
     "name": "stdout",
     "output_type": "stream",
     "text": [
      "[CV]  alpha=0.7371156773568437, binarize=0.7443982559452678, fit_prior=False, total=   0.0s\n",
      "[CV] alpha=0.7371156773568437, binarize=0.7443982559452678, fit_prior=False \n",
      "[CV] alpha=0.7371156773568437, binarize=0.7443982559452678, fit_prior=False \n"
     ]
    },
    {
     "name": "stderr",
     "output_type": "stream",
     "text": [
      "/scratch/clb617/anaconda3/lib/python3.6/site-packages/sklearn/metrics/classification.py:1135: UndefinedMetricWarning: F-score is ill-defined and being set to 0.0 in labels with no predicted samples.\n",
      "  'precision', 'predicted', average, warn_for)\n",
      "/scratch/clb617/anaconda3/lib/python3.6/site-packages/sklearn/metrics/classification.py:1135: UndefinedMetricWarning: F-score is ill-defined and being set to 0.0 in labels with no predicted samples.\n",
      "  'precision', 'predicted', average, warn_for)\n"
     ]
    },
    {
     "name": "stdout",
     "output_type": "stream",
     "text": [
      "[CV] alpha=0.7371156773568437, binarize=0.7443982559452678, fit_prior=False \n",
      "[CV] alpha=0.7371156773568437, binarize=0.7443982559452678, fit_prior=False \n",
      "[CV]  alpha=0.7371156773568437, binarize=0.7443982559452678, fit_prior=False, total=   0.1s\n"
     ]
    },
    {
     "name": "stderr",
     "output_type": "stream",
     "text": [
      "/scratch/clb617/anaconda3/lib/python3.6/site-packages/sklearn/metrics/classification.py:1135: UndefinedMetricWarning: F-score is ill-defined and being set to 0.0 in labels with no predicted samples.\n",
      "  'precision', 'predicted', average, warn_for)\n",
      "/scratch/clb617/anaconda3/lib/python3.6/site-packages/sklearn/metrics/classification.py:1135: UndefinedMetricWarning: F-score is ill-defined and being set to 0.0 in labels with no predicted samples.\n",
      "  'precision', 'predicted', average, warn_for)\n"
     ]
    },
    {
     "name": "stdout",
     "output_type": "stream",
     "text": [
      "[CV]  alpha=0.7371156773568437, binarize=0.7443982559452678, fit_prior=False, total=   0.0s\n",
      "[CV]  alpha=0.7371156773568437, binarize=0.7443982559452678, fit_prior=False, total=   0.0s\n",
      "[CV]  alpha=0.7371156773568437, binarize=0.7443982559452678, fit_prior=False, total=   0.1s\n",
      "[CV] alpha=0.7371156773568437, binarize=0.7443982559452678, fit_prior=False \n"
     ]
    },
    {
     "name": "stderr",
     "output_type": "stream",
     "text": [
      "/scratch/clb617/anaconda3/lib/python3.6/site-packages/sklearn/metrics/classification.py:1135: UndefinedMetricWarning: F-score is ill-defined and being set to 0.0 in labels with no predicted samples.\n",
      "  'precision', 'predicted', average, warn_for)\n"
     ]
    },
    {
     "name": "stdout",
     "output_type": "stream",
     "text": [
      "[CV]  alpha=0.7371156773568437, binarize=0.7443982559452678, fit_prior=False, total=   0.0s\n",
      "[CV] alpha=0.7371156773568437, binarize=0.7443982559452678, fit_prior=False \n",
      "[CV] alpha=0.6429452802967955, binarize=0.8589451442741899, fit_prior=False \n"
     ]
    },
    {
     "name": "stderr",
     "output_type": "stream",
     "text": [
      "/scratch/clb617/anaconda3/lib/python3.6/site-packages/sklearn/metrics/classification.py:1135: UndefinedMetricWarning: F-score is ill-defined and being set to 0.0 in labels with no predicted samples.\n",
      "  'precision', 'predicted', average, warn_for)\n",
      "/scratch/clb617/anaconda3/lib/python3.6/site-packages/sklearn/metrics/classification.py:1135: UndefinedMetricWarning: F-score is ill-defined and being set to 0.0 in labels with no predicted samples.\n",
      "  'precision', 'predicted', average, warn_for)\n"
     ]
    },
    {
     "name": "stdout",
     "output_type": "stream",
     "text": [
      "[CV]  alpha=0.7371156773568437, binarize=0.7443982559452678, fit_prior=False, total=   0.1s\n",
      "[CV]  alpha=0.6429452802967955, binarize=0.8589451442741899, fit_prior=False, total=   0.1s\n",
      "[CV] alpha=0.6429452802967955, binarize=0.8589451442741899, fit_prior=False \n",
      "[CV] alpha=0.6429452802967955, binarize=0.8589451442741899, fit_prior=False \n"
     ]
    },
    {
     "name": "stderr",
     "output_type": "stream",
     "text": [
      "/scratch/clb617/anaconda3/lib/python3.6/site-packages/sklearn/metrics/classification.py:1135: UndefinedMetricWarning: F-score is ill-defined and being set to 0.0 in labels with no predicted samples.\n",
      "  'precision', 'predicted', average, warn_for)\n"
     ]
    },
    {
     "name": "stdout",
     "output_type": "stream",
     "text": [
      "[CV]  alpha=0.6429452802967955, binarize=0.8589451442741899, fit_prior=False, total=   0.0s\n",
      "[CV] alpha=0.6429452802967955, binarize=0.8589451442741899, fit_prior=False \n"
     ]
    },
    {
     "name": "stderr",
     "output_type": "stream",
     "text": [
      "/scratch/clb617/anaconda3/lib/python3.6/site-packages/sklearn/metrics/classification.py:1135: UndefinedMetricWarning: F-score is ill-defined and being set to 0.0 in labels with no predicted samples.\n",
      "  'precision', 'predicted', average, warn_for)\n"
     ]
    },
    {
     "name": "stdout",
     "output_type": "stream",
     "text": [
      "[CV]  alpha=0.6429452802967955, binarize=0.8589451442741899, fit_prior=False, total=   0.1s\n"
     ]
    },
    {
     "name": "stderr",
     "output_type": "stream",
     "text": [
      "/scratch/clb617/anaconda3/lib/python3.6/site-packages/sklearn/metrics/classification.py:1135: UndefinedMetricWarning: F-score is ill-defined and being set to 0.0 in labels with no predicted samples.\n",
      "  'precision', 'predicted', average, warn_for)\n"
     ]
    },
    {
     "name": "stdout",
     "output_type": "stream",
     "text": [
      "[CV] alpha=0.6429452802967955, binarize=0.8589451442741899, fit_prior=False \n",
      "[CV] alpha=0.6429452802967955, binarize=0.8589451442741899, fit_prior=False \n"
     ]
    },
    {
     "name": "stderr",
     "output_type": "stream",
     "text": [
      "/scratch/clb617/anaconda3/lib/python3.6/site-packages/sklearn/metrics/classification.py:1135: UndefinedMetricWarning: F-score is ill-defined and being set to 0.0 in labels with no predicted samples.\n",
      "  'precision', 'predicted', average, warn_for)\n"
     ]
    },
    {
     "name": "stdout",
     "output_type": "stream",
     "text": [
      "[CV]  alpha=0.6429452802967955, binarize=0.8589451442741899, fit_prior=False, total=   0.0s\n",
      "[CV]  alpha=0.6429452802967955, binarize=0.8589451442741899, fit_prior=False, total=   0.0s\n"
     ]
    },
    {
     "name": "stderr",
     "output_type": "stream",
     "text": [
      "/scratch/clb617/anaconda3/lib/python3.6/site-packages/sklearn/metrics/classification.py:1135: UndefinedMetricWarning: F-score is ill-defined and being set to 0.0 in labels with no predicted samples.\n",
      "  'precision', 'predicted', average, warn_for)\n"
     ]
    },
    {
     "name": "stdout",
     "output_type": "stream",
     "text": [
      "[CV]  alpha=0.6429452802967955, binarize=0.8589451442741899, fit_prior=False, total=   0.1s\n",
      "[CV] alpha=0.6429452802967955, binarize=0.8589451442741899, fit_prior=False \n"
     ]
    },
    {
     "name": "stderr",
     "output_type": "stream",
     "text": [
      "/scratch/clb617/anaconda3/lib/python3.6/site-packages/sklearn/metrics/classification.py:1135: UndefinedMetricWarning: F-score is ill-defined and being set to 0.0 in labels with no predicted samples.\n",
      "  'precision', 'predicted', average, warn_for)\n"
     ]
    },
    {
     "name": "stdout",
     "output_type": "stream",
     "text": [
      "[CV] alpha=0.6429452802967955, binarize=0.8589451442741899, fit_prior=False \n",
      "[CV]  alpha=0.6429452802967955, binarize=0.8589451442741899, fit_prior=False, total=   0.0s\n"
     ]
    },
    {
     "name": "stderr",
     "output_type": "stream",
     "text": [
      "/scratch/clb617/anaconda3/lib/python3.6/site-packages/sklearn/metrics/classification.py:1135: UndefinedMetricWarning: F-score is ill-defined and being set to 0.0 in labels with no predicted samples.\n",
      "  'precision', 'predicted', average, warn_for)\n"
     ]
    },
    {
     "name": "stdout",
     "output_type": "stream",
     "text": [
      "[CV] alpha=0.6429452802967955, binarize=0.8589451442741899, fit_prior=False \n",
      "[CV] alpha=0.6429452802967955, binarize=0.8589451442741899, fit_prior=False \n",
      "[CV]  alpha=0.6429452802967955, binarize=0.8589451442741899, fit_prior=False, total=   0.0s\n"
     ]
    },
    {
     "name": "stderr",
     "output_type": "stream",
     "text": [
      "/scratch/clb617/anaconda3/lib/python3.6/site-packages/sklearn/metrics/classification.py:1135: UndefinedMetricWarning: F-score is ill-defined and being set to 0.0 in labels with no predicted samples.\n",
      "  'precision', 'predicted', average, warn_for)\n"
     ]
    },
    {
     "name": "stdout",
     "output_type": "stream",
     "text": [
      "[CV] alpha=0.6419054627788774, binarize=0.6397239793661043, fit_prior=True \n"
     ]
    },
    {
     "name": "stderr",
     "output_type": "stream",
     "text": [
      "/scratch/clb617/anaconda3/lib/python3.6/site-packages/sklearn/metrics/classification.py:1135: UndefinedMetricWarning: F-score is ill-defined and being set to 0.0 in labels with no predicted samples.\n",
      "  'precision', 'predicted', average, warn_for)\n"
     ]
    },
    {
     "name": "stdout",
     "output_type": "stream",
     "text": [
      "[CV]  alpha=0.6419054627788774, binarize=0.6397239793661043, fit_prior=True, total=   0.0s\n",
      "[CV]  alpha=0.6429452802967955, binarize=0.8589451442741899, fit_prior=False, total=   0.0s\n"
     ]
    },
    {
     "name": "stderr",
     "output_type": "stream",
     "text": [
      "/scratch/clb617/anaconda3/lib/python3.6/site-packages/sklearn/metrics/classification.py:1135: UndefinedMetricWarning: F-score is ill-defined and being set to 0.0 in labels with no predicted samples.\n",
      "  'precision', 'predicted', average, warn_for)\n"
     ]
    },
    {
     "name": "stdout",
     "output_type": "stream",
     "text": [
      "[CV] alpha=0.6419054627788774, binarize=0.6397239793661043, fit_prior=True \n",
      "[CV]  alpha=0.6429452802967955, binarize=0.8589451442741899, fit_prior=False, total=   0.1s\n",
      "[CV] alpha=0.6419054627788774, binarize=0.6397239793661043, fit_prior=True \n"
     ]
    },
    {
     "name": "stderr",
     "output_type": "stream",
     "text": [
      "/scratch/clb617/anaconda3/lib/python3.6/site-packages/sklearn/metrics/classification.py:1135: UndefinedMetricWarning: F-score is ill-defined and being set to 0.0 in labels with no predicted samples.\n",
      "  'precision', 'predicted', average, warn_for)\n"
     ]
    },
    {
     "name": "stdout",
     "output_type": "stream",
     "text": [
      "[CV]  alpha=0.6419054627788774, binarize=0.6397239793661043, fit_prior=True, total=   0.0s\n",
      "[CV] alpha=0.6419054627788774, binarize=0.6397239793661043, fit_prior=True \n"
     ]
    },
    {
     "name": "stderr",
     "output_type": "stream",
     "text": [
      "/scratch/clb617/anaconda3/lib/python3.6/site-packages/sklearn/metrics/classification.py:1135: UndefinedMetricWarning: F-score is ill-defined and being set to 0.0 in labels with no predicted samples.\n",
      "  'precision', 'predicted', average, warn_for)\n"
     ]
    },
    {
     "name": "stdout",
     "output_type": "stream",
     "text": [
      "[CV]  alpha=0.6419054627788774, binarize=0.6397239793661043, fit_prior=True, total=   0.0s\n",
      "[CV] alpha=0.6419054627788774, binarize=0.6397239793661043, fit_prior=True \n",
      "[CV] alpha=0.6419054627788774, binarize=0.6397239793661043, fit_prior=True \n"
     ]
    },
    {
     "name": "stderr",
     "output_type": "stream",
     "text": [
      "/scratch/clb617/anaconda3/lib/python3.6/site-packages/sklearn/metrics/classification.py:1135: UndefinedMetricWarning: F-score is ill-defined and being set to 0.0 in labels with no predicted samples.\n",
      "  'precision', 'predicted', average, warn_for)\n"
     ]
    },
    {
     "name": "stdout",
     "output_type": "stream",
     "text": [
      "[CV]  alpha=0.6419054627788774, binarize=0.6397239793661043, fit_prior=True, total=   0.1s\n"
     ]
    },
    {
     "name": "stderr",
     "output_type": "stream",
     "text": [
      "/scratch/clb617/anaconda3/lib/python3.6/site-packages/sklearn/metrics/classification.py:1135: UndefinedMetricWarning: F-score is ill-defined and being set to 0.0 in labels with no predicted samples.\n",
      "  'precision', 'predicted', average, warn_for)\n"
     ]
    },
    {
     "name": "stdout",
     "output_type": "stream",
     "text": [
      "[CV]  alpha=0.6419054627788774, binarize=0.6397239793661043, fit_prior=True, total=   0.1s\n",
      "[CV] alpha=0.6419054627788774, binarize=0.6397239793661043, fit_prior=True \n",
      "[CV] alpha=0.6419054627788774, binarize=0.6397239793661043, fit_prior=True \n"
     ]
    },
    {
     "name": "stderr",
     "output_type": "stream",
     "text": [
      "/scratch/clb617/anaconda3/lib/python3.6/site-packages/sklearn/metrics/classification.py:1135: UndefinedMetricWarning: F-score is ill-defined and being set to 0.0 in labels with no predicted samples.\n",
      "  'precision', 'predicted', average, warn_for)\n"
     ]
    },
    {
     "name": "stdout",
     "output_type": "stream",
     "text": [
      "[CV]  alpha=0.6419054627788774, binarize=0.6397239793661043, fit_prior=True, total=   0.0s\n"
     ]
    },
    {
     "name": "stderr",
     "output_type": "stream",
     "text": [
      "/scratch/clb617/anaconda3/lib/python3.6/site-packages/sklearn/metrics/classification.py:1135: UndefinedMetricWarning: F-score is ill-defined and being set to 0.0 in labels with no predicted samples.\n",
      "  'precision', 'predicted', average, warn_for)\n"
     ]
    },
    {
     "name": "stdout",
     "output_type": "stream",
     "text": [
      "[CV]  alpha=0.6419054627788774, binarize=0.6397239793661043, fit_prior=True, total=   0.2s\n",
      "[CV] alpha=0.6419054627788774, binarize=0.6397239793661043, fit_prior=True \n",
      "[CV] alpha=0.6419054627788774, binarize=0.6397239793661043, fit_prior=True \n"
     ]
    },
    {
     "name": "stderr",
     "output_type": "stream",
     "text": [
      "/scratch/clb617/anaconda3/lib/python3.6/site-packages/sklearn/metrics/classification.py:1135: UndefinedMetricWarning: F-score is ill-defined and being set to 0.0 in labels with no predicted samples.\n",
      "  'precision', 'predicted', average, warn_for)\n",
      "/scratch/clb617/anaconda3/lib/python3.6/site-packages/sklearn/metrics/classification.py:1135: UndefinedMetricWarning: F-score is ill-defined and being set to 0.0 in labels with no predicted samples.\n",
      "  'precision', 'predicted', average, warn_for)\n"
     ]
    },
    {
     "name": "stdout",
     "output_type": "stream",
     "text": [
      "[CV] alpha=0.22538024808489887, binarize=0.6903277130536062, fit_prior=True \n"
     ]
    },
    {
     "name": "stderr",
     "output_type": "stream",
     "text": [
      "/scratch/clb617/anaconda3/lib/python3.6/site-packages/sklearn/metrics/classification.py:1135: UndefinedMetricWarning: F-score is ill-defined and being set to 0.0 in labels with no predicted samples.\n",
      "  'precision', 'predicted', average, warn_for)\n"
     ]
    },
    {
     "name": "stdout",
     "output_type": "stream",
     "text": [
      "[CV]  alpha=0.6419054627788774, binarize=0.6397239793661043, fit_prior=True, total=   0.0s\n",
      "[CV]  alpha=0.6419054627788774, binarize=0.6397239793661043, fit_prior=True, total=   0.0s\n"
     ]
    },
    {
     "name": "stderr",
     "output_type": "stream",
     "text": [
      "/scratch/clb617/anaconda3/lib/python3.6/site-packages/sklearn/metrics/classification.py:1135: UndefinedMetricWarning: F-score is ill-defined and being set to 0.0 in labels with no predicted samples.\n",
      "  'precision', 'predicted', average, warn_for)\n"
     ]
    },
    {
     "name": "stdout",
     "output_type": "stream",
     "text": [
      "[CV]  alpha=0.22538024808489887, binarize=0.6903277130536062, fit_prior=True, total=   0.0s\n",
      "[CV] alpha=0.22538024808489887, binarize=0.6903277130536062, fit_prior=True \n",
      "[CV] alpha=0.22538024808489887, binarize=0.6903277130536062, fit_prior=True \n",
      "[CV]  alpha=0.6419054627788774, binarize=0.6397239793661043, fit_prior=True, total=   0.1s\n"
     ]
    },
    {
     "name": "stderr",
     "output_type": "stream",
     "text": [
      "/scratch/clb617/anaconda3/lib/python3.6/site-packages/sklearn/metrics/classification.py:1135: UndefinedMetricWarning: F-score is ill-defined and being set to 0.0 in labels with no predicted samples.\n",
      "  'precision', 'predicted', average, warn_for)\n"
     ]
    },
    {
     "name": "stdout",
     "output_type": "stream",
     "text": [
      "[CV]  alpha=0.22538024808489887, binarize=0.6903277130536062, fit_prior=True, total=   0.0s\n"
     ]
    },
    {
     "name": "stderr",
     "output_type": "stream",
     "text": [
      "/scratch/clb617/anaconda3/lib/python3.6/site-packages/sklearn/metrics/classification.py:1135: UndefinedMetricWarning: F-score is ill-defined and being set to 0.0 in labels with no predicted samples.\n",
      "  'precision', 'predicted', average, warn_for)\n"
     ]
    },
    {
     "name": "stdout",
     "output_type": "stream",
     "text": [
      "[CV]  alpha=0.22538024808489887, binarize=0.6903277130536062, fit_prior=True, total=   0.1s\n",
      "[CV] alpha=0.22538024808489887, binarize=0.6903277130536062, fit_prior=True \n",
      "[CV] alpha=0.22538024808489887, binarize=0.6903277130536062, fit_prior=True \n",
      "[CV] alpha=0.22538024808489887, binarize=0.6903277130536062, fit_prior=True \n"
     ]
    },
    {
     "name": "stderr",
     "output_type": "stream",
     "text": [
      "/scratch/clb617/anaconda3/lib/python3.6/site-packages/sklearn/metrics/classification.py:1135: UndefinedMetricWarning: F-score is ill-defined and being set to 0.0 in labels with no predicted samples.\n",
      "  'precision', 'predicted', average, warn_for)\n"
     ]
    },
    {
     "name": "stdout",
     "output_type": "stream",
     "text": [
      "[CV] alpha=0.22538024808489887, binarize=0.6903277130536062, fit_prior=True \n",
      "[CV]  alpha=0.22538024808489887, binarize=0.6903277130536062, fit_prior=True, total=   0.1s\n"
     ]
    },
    {
     "name": "stderr",
     "output_type": "stream",
     "text": [
      "/scratch/clb617/anaconda3/lib/python3.6/site-packages/sklearn/metrics/classification.py:1135: UndefinedMetricWarning: F-score is ill-defined and being set to 0.0 in labels with no predicted samples.\n",
      "  'precision', 'predicted', average, warn_for)\n"
     ]
    },
    {
     "name": "stdout",
     "output_type": "stream",
     "text": [
      "[CV] alpha=0.22538024808489887, binarize=0.6903277130536062, fit_prior=True \n",
      "[CV] alpha=0.22538024808489887, binarize=0.6903277130536062, fit_prior=True \n",
      "[CV] alpha=0.22538024808489887, binarize=0.6903277130536062, fit_prior=True \n",
      "[CV]  alpha=0.22538024808489887, binarize=0.6903277130536062, fit_prior=True, total=   0.1s\n",
      "[CV] alpha=0.6621755847543499, binarize=0.17921992878745585, fit_prior=True \n"
     ]
    },
    {
     "name": "stderr",
     "output_type": "stream",
     "text": [
      "/scratch/clb617/anaconda3/lib/python3.6/site-packages/sklearn/metrics/classification.py:1135: UndefinedMetricWarning: F-score is ill-defined and being set to 0.0 in labels with no predicted samples.\n",
      "  'precision', 'predicted', average, warn_for)\n"
     ]
    },
    {
     "name": "stdout",
     "output_type": "stream",
     "text": [
      "[CV] alpha=0.6621755847543499, binarize=0.17921992878745585, fit_prior=True \n"
     ]
    },
    {
     "name": "stderr",
     "output_type": "stream",
     "text": [
      "/scratch/clb617/anaconda3/lib/python3.6/site-packages/sklearn/metrics/classification.py:1135: UndefinedMetricWarning: F-score is ill-defined and being set to 0.0 in labels with no predicted samples.\n",
      "  'precision', 'predicted', average, warn_for)\n",
      "/scratch/clb617/anaconda3/lib/python3.6/site-packages/sklearn/metrics/classification.py:1135: UndefinedMetricWarning: F-score is ill-defined and being set to 0.0 in labels with no predicted samples.\n",
      "  'precision', 'predicted', average, warn_for)\n",
      "/scratch/clb617/anaconda3/lib/python3.6/site-packages/sklearn/metrics/classification.py:1135: UndefinedMetricWarning: F-score is ill-defined and being set to 0.0 in labels with no predicted samples.\n",
      "  'precision', 'predicted', average, warn_for)\n",
      "/scratch/clb617/anaconda3/lib/python3.6/site-packages/sklearn/metrics/classification.py:1135: UndefinedMetricWarning: F-score is ill-defined and being set to 0.0 in labels with no predicted samples.\n",
      "  'precision', 'predicted', average, warn_for)\n"
     ]
    },
    {
     "name": "stdout",
     "output_type": "stream",
     "text": [
      "[CV]  alpha=0.22538024808489887, binarize=0.6903277130536062, fit_prior=True, total=   0.0s\n",
      "[CV]  alpha=0.22538024808489887, binarize=0.6903277130536062, fit_prior=True, total=   0.2s\n"
     ]
    },
    {
     "name": "stderr",
     "output_type": "stream",
     "text": [
      "/scratch/clb617/anaconda3/lib/python3.6/site-packages/sklearn/metrics/classification.py:1135: UndefinedMetricWarning: F-score is ill-defined and being set to 0.0 in labels with no predicted samples.\n",
      "  'precision', 'predicted', average, warn_for)\n",
      "/scratch/clb617/anaconda3/lib/python3.6/site-packages/sklearn/metrics/classification.py:1135: UndefinedMetricWarning: F-score is ill-defined and being set to 0.0 in labels with no predicted samples.\n",
      "  'precision', 'predicted', average, warn_for)\n"
     ]
    },
    {
     "name": "stdout",
     "output_type": "stream",
     "text": [
      "[CV]  alpha=0.6621755847543499, binarize=0.17921992878745585, fit_prior=True, total=   0.1s\n",
      "[CV]  alpha=0.6621755847543499, binarize=0.17921992878745585, fit_prior=True, total=   0.0s\n",
      "[CV] alpha=0.6621755847543499, binarize=0.17921992878745585, fit_prior=True \n",
      "[CV]  alpha=0.22538024808489887, binarize=0.6903277130536062, fit_prior=True, total=   0.1s\n",
      "[CV]  alpha=0.22538024808489887, binarize=0.6903277130536062, fit_prior=True, total=   0.3s\n",
      "[CV]  alpha=0.6621755847543499, binarize=0.17921992878745585, fit_prior=True, total=   0.0s\n"
     ]
    },
    {
     "name": "stderr",
     "output_type": "stream",
     "text": [
      "/scratch/clb617/anaconda3/lib/python3.6/site-packages/sklearn/metrics/classification.py:1135: UndefinedMetricWarning: F-score is ill-defined and being set to 0.0 in labels with no predicted samples.\n",
      "  'precision', 'predicted', average, warn_for)\n"
     ]
    },
    {
     "name": "stdout",
     "output_type": "stream",
     "text": [
      "[CV] alpha=0.6621755847543499, binarize=0.17921992878745585, fit_prior=True \n",
      "[CV]  alpha=0.22538024808489887, binarize=0.6903277130536062, fit_prior=True, total=   0.2s\n"
     ]
    },
    {
     "name": "stderr",
     "output_type": "stream",
     "text": [
      "/scratch/clb617/anaconda3/lib/python3.6/site-packages/sklearn/metrics/classification.py:1135: UndefinedMetricWarning: F-score is ill-defined and being set to 0.0 in labels with no predicted samples.\n",
      "  'precision', 'predicted', average, warn_for)\n"
     ]
    },
    {
     "name": "stdout",
     "output_type": "stream",
     "text": [
      "[CV] alpha=0.6621755847543499, binarize=0.17921992878745585, fit_prior=True \n"
     ]
    },
    {
     "name": "stderr",
     "output_type": "stream",
     "text": [
      "/scratch/clb617/anaconda3/lib/python3.6/site-packages/sklearn/metrics/classification.py:1135: UndefinedMetricWarning: F-score is ill-defined and being set to 0.0 in labels with no predicted samples.\n",
      "  'precision', 'predicted', average, warn_for)\n"
     ]
    },
    {
     "name": "stdout",
     "output_type": "stream",
     "text": [
      "[CV]  alpha=0.6621755847543499, binarize=0.17921992878745585, fit_prior=True, total=   0.1s\n",
      "[CV] alpha=0.6621755847543499, binarize=0.17921992878745585, fit_prior=True \n",
      "[CV] alpha=0.6621755847543499, binarize=0.17921992878745585, fit_prior=True \n",
      "[CV] alpha=0.6621755847543499, binarize=0.17921992878745585, fit_prior=True \n",
      "[CV]  alpha=0.6621755847543499, binarize=0.17921992878745585, fit_prior=True, total=   0.1s\n"
     ]
    },
    {
     "name": "stderr",
     "output_type": "stream",
     "text": [
      "/scratch/clb617/anaconda3/lib/python3.6/site-packages/sklearn/metrics/classification.py:1135: UndefinedMetricWarning: F-score is ill-defined and being set to 0.0 in labels with no predicted samples.\n",
      "  'precision', 'predicted', average, warn_for)\n",
      "/scratch/clb617/anaconda3/lib/python3.6/site-packages/sklearn/metrics/classification.py:1135: UndefinedMetricWarning: F-score is ill-defined and being set to 0.0 in labels with no predicted samples.\n",
      "  'precision', 'predicted', average, warn_for)\n"
     ]
    },
    {
     "name": "stdout",
     "output_type": "stream",
     "text": [
      "[CV] alpha=0.6621755847543499, binarize=0.17921992878745585, fit_prior=True \n",
      "[CV]  alpha=0.6621755847543499, binarize=0.17921992878745585, fit_prior=True, total=   0.0s\n",
      "[CV] alpha=0.6621755847543499, binarize=0.17921992878745585, fit_prior=True \n",
      "[CV]  alpha=0.6621755847543499, binarize=0.17921992878745585, fit_prior=True, total=   0.0s\n"
     ]
    },
    {
     "name": "stderr",
     "output_type": "stream",
     "text": [
      "/scratch/clb617/anaconda3/lib/python3.6/site-packages/sklearn/metrics/classification.py:1135: UndefinedMetricWarning: F-score is ill-defined and being set to 0.0 in labels with no predicted samples.\n",
      "  'precision', 'predicted', average, warn_for)\n"
     ]
    },
    {
     "name": "stdout",
     "output_type": "stream",
     "text": [
      "[CV] alpha=0.9064764382826562, binarize=0.45516718204503015, fit_prior=True \n",
      "[CV] alpha=0.9064764382826562, binarize=0.45516718204503015, fit_prior=True \n",
      "[CV]  alpha=0.6621755847543499, binarize=0.17921992878745585, fit_prior=True, total=   0.1s\n",
      "[CV] alpha=0.9064764382826562, binarize=0.45516718204503015, fit_prior=True \n"
     ]
    },
    {
     "name": "stderr",
     "output_type": "stream",
     "text": [
      "/scratch/clb617/anaconda3/lib/python3.6/site-packages/sklearn/metrics/classification.py:1135: UndefinedMetricWarning: F-score is ill-defined and being set to 0.0 in labels with no predicted samples.\n",
      "  'precision', 'predicted', average, warn_for)\n"
     ]
    },
    {
     "name": "stdout",
     "output_type": "stream",
     "text": [
      "[CV] alpha=0.9064764382826562, binarize=0.45516718204503015, fit_prior=True \n"
     ]
    },
    {
     "name": "stderr",
     "output_type": "stream",
     "text": [
      "/scratch/clb617/anaconda3/lib/python3.6/site-packages/sklearn/metrics/classification.py:1135: UndefinedMetricWarning: F-score is ill-defined and being set to 0.0 in labels with no predicted samples.\n",
      "  'precision', 'predicted', average, warn_for)\n",
      "/scratch/clb617/anaconda3/lib/python3.6/site-packages/sklearn/metrics/classification.py:1135: UndefinedMetricWarning: F-score is ill-defined and being set to 0.0 in labels with no predicted samples.\n",
      "  'precision', 'predicted', average, warn_for)\n",
      "/scratch/clb617/anaconda3/lib/python3.6/site-packages/sklearn/metrics/classification.py:1135: UndefinedMetricWarning: F-score is ill-defined and being set to 0.0 in labels with no predicted samples.\n",
      "  'precision', 'predicted', average, warn_for)\n"
     ]
    },
    {
     "name": "stdout",
     "output_type": "stream",
     "text": [
      "[CV]  alpha=0.9064764382826562, binarize=0.45516718204503015, fit_prior=True, total=   0.1s\n",
      "[CV]  alpha=0.6621755847543499, binarize=0.17921992878745585, fit_prior=True, total=   0.1s\n",
      "[CV]  alpha=0.9064764382826562, binarize=0.45516718204503015, fit_prior=True, total=   0.1s\n",
      "[CV] alpha=0.9064764382826562, binarize=0.45516718204503015, fit_prior=True \n"
     ]
    },
    {
     "name": "stderr",
     "output_type": "stream",
     "text": [
      "/scratch/clb617/anaconda3/lib/python3.6/site-packages/sklearn/metrics/classification.py:1135: UndefinedMetricWarning: F-score is ill-defined and being set to 0.0 in labels with no predicted samples.\n",
      "  'precision', 'predicted', average, warn_for)\n",
      "/scratch/clb617/anaconda3/lib/python3.6/site-packages/sklearn/metrics/classification.py:1135: UndefinedMetricWarning: F-score is ill-defined and being set to 0.0 in labels with no predicted samples.\n",
      "  'precision', 'predicted', average, warn_for)\n"
     ]
    },
    {
     "name": "stdout",
     "output_type": "stream",
     "text": [
      "[CV] alpha=0.9064764382826562, binarize=0.45516718204503015, fit_prior=True \n",
      "[CV]  alpha=0.9064764382826562, binarize=0.45516718204503015, fit_prior=True, total=   0.1s\n",
      "[CV]  alpha=0.9064764382826562, binarize=0.45516718204503015, fit_prior=True, total=   0.2s\n",
      "[CV] alpha=0.9064764382826562, binarize=0.45516718204503015, fit_prior=True \n"
     ]
    },
    {
     "name": "stderr",
     "output_type": "stream",
     "text": [
      "/scratch/clb617/anaconda3/lib/python3.6/site-packages/sklearn/metrics/classification.py:1135: UndefinedMetricWarning: F-score is ill-defined and being set to 0.0 in labels with no predicted samples.\n",
      "  'precision', 'predicted', average, warn_for)\n"
     ]
    },
    {
     "name": "stdout",
     "output_type": "stream",
     "text": [
      "[CV] alpha=0.9064764382826562, binarize=0.45516718204503015, fit_prior=True \n",
      "[CV] alpha=0.9064764382826562, binarize=0.45516718204503015, fit_prior=True \n",
      "[CV] alpha=0.9064764382826562, binarize=0.45516718204503015, fit_prior=True \n",
      "[CV]  alpha=0.9064764382826562, binarize=0.45516718204503015, fit_prior=True, total=   0.0s\n"
     ]
    },
    {
     "name": "stderr",
     "output_type": "stream",
     "text": [
      "/scratch/clb617/anaconda3/lib/python3.6/site-packages/sklearn/metrics/classification.py:1135: UndefinedMetricWarning: F-score is ill-defined and being set to 0.0 in labels with no predicted samples.\n",
      "  'precision', 'predicted', average, warn_for)\n",
      "/scratch/clb617/anaconda3/lib/python3.6/site-packages/sklearn/metrics/classification.py:1135: UndefinedMetricWarning: F-score is ill-defined and being set to 0.0 in labels with no predicted samples.\n",
      "  'precision', 'predicted', average, warn_for)\n"
     ]
    },
    {
     "name": "stdout",
     "output_type": "stream",
     "text": [
      "[CV]  alpha=0.9064764382826562, binarize=0.45516718204503015, fit_prior=True, total=   0.1s\n"
     ]
    },
    {
     "name": "stderr",
     "output_type": "stream",
     "text": [
      "/scratch/clb617/anaconda3/lib/python3.6/site-packages/sklearn/metrics/classification.py:1135: UndefinedMetricWarning: F-score is ill-defined and being set to 0.0 in labels with no predicted samples.\n",
      "  'precision', 'predicted', average, warn_for)\n",
      "/scratch/clb617/anaconda3/lib/python3.6/site-packages/sklearn/metrics/classification.py:1135: UndefinedMetricWarning: F-score is ill-defined and being set to 0.0 in labels with no predicted samples.\n",
      "  'precision', 'predicted', average, warn_for)\n"
     ]
    },
    {
     "name": "stdout",
     "output_type": "stream",
     "text": [
      "[CV]  alpha=0.9064764382826562, binarize=0.45516718204503015, fit_prior=True, total=   0.1s\n",
      "[CV]  alpha=0.6621755847543499, binarize=0.17921992878745585, fit_prior=True, total=   0.4s\n",
      "[CV]  alpha=0.9064764382826562, binarize=0.45516718204503015, fit_prior=True, total=   0.1s\n",
      "[CV]  alpha=0.9064764382826562, binarize=0.45516718204503015, fit_prior=True, total=   0.1s\n",
      "[CV] alpha=0.01942968055152805, binarize=0.6455804451665256, fit_prior=False \n"
     ]
    },
    {
     "name": "stderr",
     "output_type": "stream",
     "text": [
      "/scratch/clb617/anaconda3/lib/python3.6/site-packages/sklearn/metrics/classification.py:1135: UndefinedMetricWarning: F-score is ill-defined and being set to 0.0 in labels with no predicted samples.\n",
      "  'precision', 'predicted', average, warn_for)\n",
      "/scratch/clb617/anaconda3/lib/python3.6/site-packages/sklearn/metrics/classification.py:1135: UndefinedMetricWarning: F-score is ill-defined and being set to 0.0 in labels with no predicted samples.\n",
      "  'precision', 'predicted', average, warn_for)\n"
     ]
    },
    {
     "name": "stdout",
     "output_type": "stream",
     "text": [
      "[CV]  alpha=0.01942968055152805, binarize=0.6455804451665256, fit_prior=False, total=   0.0s\n",
      "[CV]  alpha=0.9064764382826562, binarize=0.45516718204503015, fit_prior=True, total=   0.2s\n",
      "[CV] alpha=0.01942968055152805, binarize=0.6455804451665256, fit_prior=False \n",
      "[CV] alpha=0.01942968055152805, binarize=0.6455804451665256, fit_prior=False \n",
      "[CV] alpha=0.01942968055152805, binarize=0.6455804451665256, fit_prior=False \n",
      "[CV] alpha=0.01942968055152805, binarize=0.6455804451665256, fit_prior=False \n"
     ]
    },
    {
     "name": "stderr",
     "output_type": "stream",
     "text": [
      "/scratch/clb617/anaconda3/lib/python3.6/site-packages/sklearn/metrics/classification.py:1135: UndefinedMetricWarning: F-score is ill-defined and being set to 0.0 in labels with no predicted samples.\n",
      "  'precision', 'predicted', average, warn_for)\n"
     ]
    },
    {
     "name": "stdout",
     "output_type": "stream",
     "text": [
      "[CV] alpha=0.01942968055152805, binarize=0.6455804451665256, fit_prior=False \n"
     ]
    },
    {
     "name": "stderr",
     "output_type": "stream",
     "text": [
      "/scratch/clb617/anaconda3/lib/python3.6/site-packages/sklearn/metrics/classification.py:1135: UndefinedMetricWarning: F-score is ill-defined and being set to 0.0 in labels with no predicted samples.\n",
      "  'precision', 'predicted', average, warn_for)\n"
     ]
    },
    {
     "name": "stdout",
     "output_type": "stream",
     "text": [
      "[CV]  alpha=0.01942968055152805, binarize=0.6455804451665256, fit_prior=False, total=   0.1s\n"
     ]
    },
    {
     "name": "stderr",
     "output_type": "stream",
     "text": [
      "/scratch/clb617/anaconda3/lib/python3.6/site-packages/sklearn/metrics/classification.py:1135: UndefinedMetricWarning: F-score is ill-defined and being set to 0.0 in labels with no predicted samples.\n",
      "  'precision', 'predicted', average, warn_for)\n"
     ]
    },
    {
     "name": "stdout",
     "output_type": "stream",
     "text": [
      "[CV]  alpha=0.01942968055152805, binarize=0.6455804451665256, fit_prior=False, total=   0.1s\n",
      "[CV]  alpha=0.01942968055152805, binarize=0.6455804451665256, fit_prior=False, total=   0.1s\n",
      "[CV] alpha=0.01942968055152805, binarize=0.6455804451665256, fit_prior=False \n",
      "[CV] alpha=0.01942968055152805, binarize=0.6455804451665256, fit_prior=False \n",
      "[CV] alpha=0.01942968055152805, binarize=0.6455804451665256, fit_prior=False \n"
     ]
    },
    {
     "name": "stderr",
     "output_type": "stream",
     "text": [
      "/scratch/clb617/anaconda3/lib/python3.6/site-packages/sklearn/metrics/classification.py:1135: UndefinedMetricWarning: F-score is ill-defined and being set to 0.0 in labels with no predicted samples.\n",
      "  'precision', 'predicted', average, warn_for)\n",
      "/scratch/clb617/anaconda3/lib/python3.6/site-packages/sklearn/metrics/classification.py:1135: UndefinedMetricWarning: F-score is ill-defined and being set to 0.0 in labels with no predicted samples.\n",
      "  'precision', 'predicted', average, warn_for)\n"
     ]
    },
    {
     "name": "stdout",
     "output_type": "stream",
     "text": [
      "[CV] alpha=0.01942968055152805, binarize=0.6455804451665256, fit_prior=False \n"
     ]
    },
    {
     "name": "stderr",
     "output_type": "stream",
     "text": [
      "/scratch/clb617/anaconda3/lib/python3.6/site-packages/sklearn/metrics/classification.py:1135: UndefinedMetricWarning: F-score is ill-defined and being set to 0.0 in labels with no predicted samples.\n",
      "  'precision', 'predicted', average, warn_for)\n"
     ]
    },
    {
     "name": "stdout",
     "output_type": "stream",
     "text": [
      "[CV]  alpha=0.01942968055152805, binarize=0.6455804451665256, fit_prior=False, total=   0.0s\n"
     ]
    },
    {
     "name": "stderr",
     "output_type": "stream",
     "text": [
      "/scratch/clb617/anaconda3/lib/python3.6/site-packages/sklearn/metrics/classification.py:1135: UndefinedMetricWarning: F-score is ill-defined and being set to 0.0 in labels with no predicted samples.\n",
      "  'precision', 'predicted', average, warn_for)\n",
      "/scratch/clb617/anaconda3/lib/python3.6/site-packages/sklearn/metrics/classification.py:1135: UndefinedMetricWarning: F-score is ill-defined and being set to 0.0 in labels with no predicted samples.\n",
      "  'precision', 'predicted', average, warn_for)\n"
     ]
    },
    {
     "name": "stdout",
     "output_type": "stream",
     "text": [
      "[CV]  alpha=0.01942968055152805, binarize=0.6455804451665256, fit_prior=False, total=   0.1s\n",
      "[CV] alpha=0.24040859213144494, binarize=0.5521877857032613, fit_prior=False \n",
      "[CV]  alpha=0.01942968055152805, binarize=0.6455804451665256, fit_prior=False, total=   0.1s\n",
      "[CV]  alpha=0.01942968055152805, binarize=0.6455804451665256, fit_prior=False, total=   0.0s\n",
      "[CV] alpha=0.24040859213144494, binarize=0.5521877857032613, fit_prior=False \n"
     ]
    },
    {
     "name": "stderr",
     "output_type": "stream",
     "text": [
      "/scratch/clb617/anaconda3/lib/python3.6/site-packages/sklearn/metrics/classification.py:1135: UndefinedMetricWarning: F-score is ill-defined and being set to 0.0 in labels with no predicted samples.\n",
      "  'precision', 'predicted', average, warn_for)\n",
      "/scratch/clb617/anaconda3/lib/python3.6/site-packages/sklearn/metrics/classification.py:1135: UndefinedMetricWarning: F-score is ill-defined and being set to 0.0 in labels with no predicted samples.\n",
      "  'precision', 'predicted', average, warn_for)\n"
     ]
    },
    {
     "name": "stdout",
     "output_type": "stream",
     "text": [
      "[CV]  alpha=0.24040859213144494, binarize=0.5521877857032613, fit_prior=False, total=   0.0s\n",
      "[CV]  alpha=0.01942968055152805, binarize=0.6455804451665256, fit_prior=False, total=   0.3s\n",
      "[CV]  alpha=0.01942968055152805, binarize=0.6455804451665256, fit_prior=False, total=   0.3s\n",
      "[CV] alpha=0.24040859213144494, binarize=0.5521877857032613, fit_prior=False \n"
     ]
    },
    {
     "name": "stderr",
     "output_type": "stream",
     "text": [
      "/scratch/clb617/anaconda3/lib/python3.6/site-packages/sklearn/metrics/classification.py:1135: UndefinedMetricWarning: F-score is ill-defined and being set to 0.0 in labels with no predicted samples.\n",
      "  'precision', 'predicted', average, warn_for)\n",
      "/scratch/clb617/anaconda3/lib/python3.6/site-packages/sklearn/metrics/classification.py:1135: UndefinedMetricWarning: F-score is ill-defined and being set to 0.0 in labels with no predicted samples.\n",
      "  'precision', 'predicted', average, warn_for)\n"
     ]
    },
    {
     "name": "stdout",
     "output_type": "stream",
     "text": [
      "[CV]  alpha=0.24040859213144494, binarize=0.5521877857032613, fit_prior=False, total=   0.1s\n",
      "[CV]  alpha=0.24040859213144494, binarize=0.5521877857032613, fit_prior=False, total=   0.2s\n",
      "[CV] alpha=0.24040859213144494, binarize=0.5521877857032613, fit_prior=False \n"
     ]
    },
    {
     "name": "stderr",
     "output_type": "stream",
     "text": [
      "/scratch/clb617/anaconda3/lib/python3.6/site-packages/sklearn/metrics/classification.py:1135: UndefinedMetricWarning: F-score is ill-defined and being set to 0.0 in labels with no predicted samples.\n",
      "  'precision', 'predicted', average, warn_for)\n"
     ]
    },
    {
     "name": "stdout",
     "output_type": "stream",
     "text": [
      "[CV]  alpha=0.24040859213144494, binarize=0.5521877857032613, fit_prior=False, total=   0.0s\n",
      "[CV] alpha=0.24040859213144494, binarize=0.5521877857032613, fit_prior=False \n",
      "[CV] alpha=0.24040859213144494, binarize=0.5521877857032613, fit_prior=False \n"
     ]
    },
    {
     "name": "stderr",
     "output_type": "stream",
     "text": [
      "/scratch/clb617/anaconda3/lib/python3.6/site-packages/sklearn/metrics/classification.py:1135: UndefinedMetricWarning: F-score is ill-defined and being set to 0.0 in labels with no predicted samples.\n",
      "  'precision', 'predicted', average, warn_for)\n"
     ]
    },
    {
     "name": "stdout",
     "output_type": "stream",
     "text": [
      "[CV] alpha=0.24040859213144494, binarize=0.5521877857032613, fit_prior=False \n",
      "[CV]  alpha=0.24040859213144494, binarize=0.5521877857032613, fit_prior=False, total=   0.0s\n"
     ]
    },
    {
     "name": "stderr",
     "output_type": "stream",
     "text": [
      "/scratch/clb617/anaconda3/lib/python3.6/site-packages/sklearn/metrics/classification.py:1135: UndefinedMetricWarning: F-score is ill-defined and being set to 0.0 in labels with no predicted samples.\n",
      "  'precision', 'predicted', average, warn_for)\n"
     ]
    },
    {
     "name": "stdout",
     "output_type": "stream",
     "text": [
      "[CV] alpha=0.24040859213144494, binarize=0.5521877857032613, fit_prior=False \n",
      "[CV] alpha=0.24040859213144494, binarize=0.5521877857032613, fit_prior=False \n",
      "[CV]  alpha=0.24040859213144494, binarize=0.5521877857032613, fit_prior=False, total=   0.0s\n"
     ]
    },
    {
     "name": "stderr",
     "output_type": "stream",
     "text": [
      "/scratch/clb617/anaconda3/lib/python3.6/site-packages/sklearn/metrics/classification.py:1135: UndefinedMetricWarning: F-score is ill-defined and being set to 0.0 in labels with no predicted samples.\n",
      "  'precision', 'predicted', average, warn_for)\n"
     ]
    },
    {
     "name": "stdout",
     "output_type": "stream",
     "text": [
      "[CV] alpha=0.24040859213144494, binarize=0.5521877857032613, fit_prior=False \n"
     ]
    },
    {
     "name": "stderr",
     "output_type": "stream",
     "text": [
      "/scratch/clb617/anaconda3/lib/python3.6/site-packages/sklearn/metrics/classification.py:1135: UndefinedMetricWarning: F-score is ill-defined and being set to 0.0 in labels with no predicted samples.\n",
      "  'precision', 'predicted', average, warn_for)\n"
     ]
    },
    {
     "name": "stdout",
     "output_type": "stream",
     "text": [
      "[CV]  alpha=0.24040859213144494, binarize=0.5521877857032613, fit_prior=False, total=   0.1s\n"
     ]
    },
    {
     "name": "stderr",
     "output_type": "stream",
     "text": [
      "/scratch/clb617/anaconda3/lib/python3.6/site-packages/sklearn/metrics/classification.py:1135: UndefinedMetricWarning: F-score is ill-defined and being set to 0.0 in labels with no predicted samples.\n",
      "  'precision', 'predicted', average, warn_for)\n",
      "/scratch/clb617/anaconda3/lib/python3.6/site-packages/sklearn/metrics/classification.py:1135: UndefinedMetricWarning: F-score is ill-defined and being set to 0.0 in labels with no predicted samples.\n",
      "  'precision', 'predicted', average, warn_for)\n"
     ]
    },
    {
     "name": "stdout",
     "output_type": "stream",
     "text": [
      "[CV]  alpha=0.24040859213144494, binarize=0.5521877857032613, fit_prior=False, total=   0.2s\n",
      "[CV]  alpha=0.24040859213144494, binarize=0.5521877857032613, fit_prior=False, total=   0.0s\n",
      "[CV]  alpha=0.24040859213144494, binarize=0.5521877857032613, fit_prior=False, total=   0.1s\n",
      "[CV] alpha=0.7476821664220852, binarize=0.7486961531021208, fit_prior=True \n",
      "[CV] alpha=0.7476821664220852, binarize=0.7486961531021208, fit_prior=True \n",
      "[CV] alpha=0.7476821664220852, binarize=0.7486961531021208, fit_prior=True \n"
     ]
    },
    {
     "name": "stderr",
     "output_type": "stream",
     "text": [
      "/scratch/clb617/anaconda3/lib/python3.6/site-packages/sklearn/metrics/classification.py:1135: UndefinedMetricWarning: F-score is ill-defined and being set to 0.0 in labels with no predicted samples.\n",
      "  'precision', 'predicted', average, warn_for)\n",
      "/scratch/clb617/anaconda3/lib/python3.6/site-packages/sklearn/metrics/classification.py:1135: UndefinedMetricWarning: F-score is ill-defined and being set to 0.0 in labels with no predicted samples.\n",
      "  'precision', 'predicted', average, warn_for)\n"
     ]
    },
    {
     "name": "stdout",
     "output_type": "stream",
     "text": [
      "[CV]  alpha=0.7476821664220852, binarize=0.7486961531021208, fit_prior=True, total=   0.0s\n",
      "[CV] alpha=0.7476821664220852, binarize=0.7486961531021208, fit_prior=True \n",
      "[CV] alpha=0.7476821664220852, binarize=0.7486961531021208, fit_prior=True \n"
     ]
    },
    {
     "name": "stderr",
     "output_type": "stream",
     "text": [
      "/scratch/clb617/anaconda3/lib/python3.6/site-packages/sklearn/metrics/classification.py:1135: UndefinedMetricWarning: F-score is ill-defined and being set to 0.0 in labels with no predicted samples.\n",
      "  'precision', 'predicted', average, warn_for)\n"
     ]
    },
    {
     "name": "stdout",
     "output_type": "stream",
     "text": [
      "[CV] alpha=0.7476821664220852, binarize=0.7486961531021208, fit_prior=True \n"
     ]
    },
    {
     "name": "stderr",
     "output_type": "stream",
     "text": [
      "/scratch/clb617/anaconda3/lib/python3.6/site-packages/sklearn/metrics/classification.py:1135: UndefinedMetricWarning: F-score is ill-defined and being set to 0.0 in labels with no predicted samples.\n",
      "  'precision', 'predicted', average, warn_for)\n"
     ]
    },
    {
     "name": "stdout",
     "output_type": "stream",
     "text": [
      "[CV]  alpha=0.7476821664220852, binarize=0.7486961531021208, fit_prior=True, total=   0.0s\n",
      "[CV]  alpha=0.7476821664220852, binarize=0.7486961531021208, fit_prior=True, total=   0.1s\n"
     ]
    },
    {
     "name": "stderr",
     "output_type": "stream",
     "text": [
      "/scratch/clb617/anaconda3/lib/python3.6/site-packages/sklearn/metrics/classification.py:1135: UndefinedMetricWarning: F-score is ill-defined and being set to 0.0 in labels with no predicted samples.\n",
      "  'precision', 'predicted', average, warn_for)\n"
     ]
    },
    {
     "name": "stdout",
     "output_type": "stream",
     "text": [
      "[CV] alpha=0.7476821664220852, binarize=0.7486961531021208, fit_prior=True \n",
      "[CV] alpha=0.7476821664220852, binarize=0.7486961531021208, fit_prior=True \n",
      "[CV]  alpha=0.7476821664220852, binarize=0.7486961531021208, fit_prior=True, total=   0.0s\n",
      "[CV] alpha=0.7476821664220852, binarize=0.7486961531021208, fit_prior=True \n"
     ]
    },
    {
     "name": "stderr",
     "output_type": "stream",
     "text": [
      "/scratch/clb617/anaconda3/lib/python3.6/site-packages/sklearn/metrics/classification.py:1135: UndefinedMetricWarning: F-score is ill-defined and being set to 0.0 in labels with no predicted samples.\n",
      "  'precision', 'predicted', average, warn_for)\n",
      "/scratch/clb617/anaconda3/lib/python3.6/site-packages/sklearn/metrics/classification.py:1135: UndefinedMetricWarning: F-score is ill-defined and being set to 0.0 in labels with no predicted samples.\n",
      "  'precision', 'predicted', average, warn_for)\n"
     ]
    },
    {
     "name": "stdout",
     "output_type": "stream",
     "text": [
      "[CV]  alpha=0.7476821664220852, binarize=0.7486961531021208, fit_prior=True, total=   0.1s\n"
     ]
    },
    {
     "name": "stderr",
     "output_type": "stream",
     "text": [
      "/scratch/clb617/anaconda3/lib/python3.6/site-packages/sklearn/metrics/classification.py:1135: UndefinedMetricWarning: F-score is ill-defined and being set to 0.0 in labels with no predicted samples.\n",
      "  'precision', 'predicted', average, warn_for)\n"
     ]
    },
    {
     "name": "stdout",
     "output_type": "stream",
     "text": [
      "[CV] alpha=0.7476821664220852, binarize=0.7486961531021208, fit_prior=True \n"
     ]
    },
    {
     "name": "stderr",
     "output_type": "stream",
     "text": [
      "/scratch/clb617/anaconda3/lib/python3.6/site-packages/sklearn/metrics/classification.py:1135: UndefinedMetricWarning: F-score is ill-defined and being set to 0.0 in labels with no predicted samples.\n",
      "  'precision', 'predicted', average, warn_for)\n"
     ]
    },
    {
     "name": "stdout",
     "output_type": "stream",
     "text": [
      "[CV]  alpha=0.7476821664220852, binarize=0.7486961531021208, fit_prior=True, total=   0.1s\n",
      "[CV]  alpha=0.7476821664220852, binarize=0.7486961531021208, fit_prior=True, total=   0.1s\n"
     ]
    },
    {
     "name": "stderr",
     "output_type": "stream",
     "text": [
      "/scratch/clb617/anaconda3/lib/python3.6/site-packages/sklearn/metrics/classification.py:1135: UndefinedMetricWarning: F-score is ill-defined and being set to 0.0 in labels with no predicted samples.\n",
      "  'precision', 'predicted', average, warn_for)\n"
     ]
    },
    {
     "name": "stdout",
     "output_type": "stream",
     "text": [
      "[CV]  alpha=0.7476821664220852, binarize=0.7486961531021208, fit_prior=True, total=   0.2s\n",
      "[CV] alpha=0.3088396995106938, binarize=0.053426950009449525, fit_prior=True \n",
      "[CV]  alpha=0.7476821664220852, binarize=0.7486961531021208, fit_prior=True, total=   0.0s\n",
      "[CV]  alpha=0.7476821664220852, binarize=0.7486961531021208, fit_prior=True, total=   0.0s\n",
      "[CV] alpha=0.3088396995106938, binarize=0.053426950009449525, fit_prior=True \n",
      "[CV] alpha=0.3088396995106938, binarize=0.053426950009449525, fit_prior=True \n"
     ]
    },
    {
     "name": "stderr",
     "output_type": "stream",
     "text": [
      "/scratch/clb617/anaconda3/lib/python3.6/site-packages/sklearn/metrics/classification.py:1135: UndefinedMetricWarning: F-score is ill-defined and being set to 0.0 in labels with no predicted samples.\n",
      "  'precision', 'predicted', average, warn_for)\n",
      "/scratch/clb617/anaconda3/lib/python3.6/site-packages/sklearn/metrics/classification.py:1135: UndefinedMetricWarning: F-score is ill-defined and being set to 0.0 in labels with no predicted samples.\n",
      "  'precision', 'predicted', average, warn_for)\n"
     ]
    },
    {
     "name": "stdout",
     "output_type": "stream",
     "text": [
      "[CV]  alpha=0.3088396995106938, binarize=0.053426950009449525, fit_prior=True, total=   0.1s\n",
      "[CV]  alpha=0.3088396995106938, binarize=0.053426950009449525, fit_prior=True, total=   0.1s\n",
      "[CV] alpha=0.3088396995106938, binarize=0.053426950009449525, fit_prior=True \n",
      "[CV] alpha=0.3088396995106938, binarize=0.053426950009449525, fit_prior=True \n"
     ]
    },
    {
     "name": "stderr",
     "output_type": "stream",
     "text": [
      "/scratch/clb617/anaconda3/lib/python3.6/site-packages/sklearn/metrics/classification.py:1135: UndefinedMetricWarning: F-score is ill-defined and being set to 0.0 in labels with no predicted samples.\n",
      "  'precision', 'predicted', average, warn_for)\n",
      "/scratch/clb617/anaconda3/lib/python3.6/site-packages/sklearn/metrics/classification.py:1135: UndefinedMetricWarning: F-score is ill-defined and being set to 0.0 in labels with no predicted samples.\n",
      "  'precision', 'predicted', average, warn_for)\n"
     ]
    },
    {
     "name": "stdout",
     "output_type": "stream",
     "text": [
      "[CV] alpha=0.3088396995106938, binarize=0.053426950009449525, fit_prior=True \n",
      "[CV]  alpha=0.3088396995106938, binarize=0.053426950009449525, fit_prior=True, total=   0.1s\n"
     ]
    },
    {
     "name": "stderr",
     "output_type": "stream",
     "text": [
      "/scratch/clb617/anaconda3/lib/python3.6/site-packages/sklearn/metrics/classification.py:1135: UndefinedMetricWarning: F-score is ill-defined and being set to 0.0 in labels with no predicted samples.\n",
      "  'precision', 'predicted', average, warn_for)\n"
     ]
    },
    {
     "name": "stdout",
     "output_type": "stream",
     "text": [
      "[CV] alpha=0.3088396995106938, binarize=0.053426950009449525, fit_prior=True \n",
      "[CV]  alpha=0.3088396995106938, binarize=0.053426950009449525, fit_prior=True, total=   0.2s\n"
     ]
    },
    {
     "name": "stderr",
     "output_type": "stream",
     "text": [
      "/scratch/clb617/anaconda3/lib/python3.6/site-packages/sklearn/metrics/classification.py:1135: UndefinedMetricWarning: F-score is ill-defined and being set to 0.0 in labels with no predicted samples.\n",
      "  'precision', 'predicted', average, warn_for)\n"
     ]
    },
    {
     "name": "stdout",
     "output_type": "stream",
     "text": [
      "[CV]  alpha=0.3088396995106938, binarize=0.053426950009449525, fit_prior=True, total=   0.0s\n",
      "[CV] alpha=0.3088396995106938, binarize=0.053426950009449525, fit_prior=True \n",
      "[CV]  alpha=0.3088396995106938, binarize=0.053426950009449525, fit_prior=True, total=   0.0s\n"
     ]
    },
    {
     "name": "stderr",
     "output_type": "stream",
     "text": [
      "/scratch/clb617/anaconda3/lib/python3.6/site-packages/sklearn/metrics/classification.py:1135: UndefinedMetricWarning: F-score is ill-defined and being set to 0.0 in labels with no predicted samples.\n",
      "  'precision', 'predicted', average, warn_for)\n"
     ]
    },
    {
     "name": "stdout",
     "output_type": "stream",
     "text": [
      "[CV] alpha=0.3088396995106938, binarize=0.053426950009449525, fit_prior=True \n",
      "[CV]  alpha=0.3088396995106938, binarize=0.053426950009449525, fit_prior=True, total=   0.1s\n",
      "[CV] alpha=0.3088396995106938, binarize=0.053426950009449525, fit_prior=True \n",
      "[CV] alpha=0.8304731646519778, binarize=0.5551029161153589, fit_prior=True \n"
     ]
    },
    {
     "name": "stderr",
     "output_type": "stream",
     "text": [
      "/scratch/clb617/anaconda3/lib/python3.6/site-packages/sklearn/metrics/classification.py:1135: UndefinedMetricWarning: F-score is ill-defined and being set to 0.0 in labels with no predicted samples.\n",
      "  'precision', 'predicted', average, warn_for)\n"
     ]
    },
    {
     "name": "stdout",
     "output_type": "stream",
     "text": [
      "[CV]  alpha=0.3088396995106938, binarize=0.053426950009449525, fit_prior=True, total=   0.0s\n"
     ]
    },
    {
     "name": "stderr",
     "output_type": "stream",
     "text": [
      "/scratch/clb617/anaconda3/lib/python3.6/site-packages/sklearn/metrics/classification.py:1135: UndefinedMetricWarning: F-score is ill-defined and being set to 0.0 in labels with no predicted samples.\n",
      "  'precision', 'predicted', average, warn_for)\n"
     ]
    },
    {
     "name": "stdout",
     "output_type": "stream",
     "text": [
      "[CV] alpha=0.8304731646519778, binarize=0.5551029161153589, fit_prior=True \n"
     ]
    },
    {
     "name": "stderr",
     "output_type": "stream",
     "text": [
      "/scratch/clb617/anaconda3/lib/python3.6/site-packages/sklearn/metrics/classification.py:1135: UndefinedMetricWarning: F-score is ill-defined and being set to 0.0 in labels with no predicted samples.\n",
      "  'precision', 'predicted', average, warn_for)\n",
      "/scratch/clb617/anaconda3/lib/python3.6/site-packages/sklearn/metrics/classification.py:1135: UndefinedMetricWarning: F-score is ill-defined and being set to 0.0 in labels with no predicted samples.\n",
      "  'precision', 'predicted', average, warn_for)\n"
     ]
    },
    {
     "name": "stdout",
     "output_type": "stream",
     "text": [
      "[CV] alpha=0.8304731646519778, binarize=0.5551029161153589, fit_prior=True \n",
      "[CV] alpha=0.8304731646519778, binarize=0.5551029161153589, fit_prior=True \n"
     ]
    },
    {
     "name": "stderr",
     "output_type": "stream",
     "text": [
      "/scratch/clb617/anaconda3/lib/python3.6/site-packages/sklearn/metrics/classification.py:1135: UndefinedMetricWarning: F-score is ill-defined and being set to 0.0 in labels with no predicted samples.\n",
      "  'precision', 'predicted', average, warn_for)\n"
     ]
    },
    {
     "name": "stdout",
     "output_type": "stream",
     "text": [
      "[CV]  alpha=0.8304731646519778, binarize=0.5551029161153589, fit_prior=True, total=   0.1s\n"
     ]
    },
    {
     "name": "stderr",
     "output_type": "stream",
     "text": [
      "/scratch/clb617/anaconda3/lib/python3.6/site-packages/sklearn/metrics/classification.py:1135: UndefinedMetricWarning: F-score is ill-defined and being set to 0.0 in labels with no predicted samples.\n",
      "  'precision', 'predicted', average, warn_for)\n"
     ]
    },
    {
     "name": "stdout",
     "output_type": "stream",
     "text": [
      "[CV]  alpha=0.8304731646519778, binarize=0.5551029161153589, fit_prior=True, total=   0.0s\n",
      "[CV]  alpha=0.3088396995106938, binarize=0.053426950009449525, fit_prior=True, total=   0.1s\n",
      "[CV] alpha=0.8304731646519778, binarize=0.5551029161153589, fit_prior=True \n",
      "[CV]  alpha=0.8304731646519778, binarize=0.5551029161153589, fit_prior=True, total=   0.0s\n",
      "[CV]  alpha=0.3088396995106938, binarize=0.053426950009449525, fit_prior=True, total=   0.1s\n",
      "[CV] alpha=0.8304731646519778, binarize=0.5551029161153589, fit_prior=True \n"
     ]
    },
    {
     "name": "stderr",
     "output_type": "stream",
     "text": [
      "/scratch/clb617/anaconda3/lib/python3.6/site-packages/sklearn/metrics/classification.py:1135: UndefinedMetricWarning: F-score is ill-defined and being set to 0.0 in labels with no predicted samples.\n",
      "  'precision', 'predicted', average, warn_for)\n"
     ]
    },
    {
     "name": "stdout",
     "output_type": "stream",
     "text": [
      "[CV] alpha=0.8304731646519778, binarize=0.5551029161153589, fit_prior=True \n",
      "[CV] alpha=0.8304731646519778, binarize=0.5551029161153589, fit_prior=True \n",
      "[CV] alpha=0.8304731646519778, binarize=0.5551029161153589, fit_prior=True \n",
      "[CV] alpha=0.8304731646519778, binarize=0.5551029161153589, fit_prior=True \n"
     ]
    },
    {
     "name": "stderr",
     "output_type": "stream",
     "text": [
      "/scratch/clb617/anaconda3/lib/python3.6/site-packages/sklearn/metrics/classification.py:1135: UndefinedMetricWarning: F-score is ill-defined and being set to 0.0 in labels with no predicted samples.\n",
      "  'precision', 'predicted', average, warn_for)\n",
      "/scratch/clb617/anaconda3/lib/python3.6/site-packages/sklearn/metrics/classification.py:1135: UndefinedMetricWarning: F-score is ill-defined and being set to 0.0 in labels with no predicted samples.\n",
      "  'precision', 'predicted', average, warn_for)\n",
      "/scratch/clb617/anaconda3/lib/python3.6/site-packages/sklearn/metrics/classification.py:1135: UndefinedMetricWarning: F-score is ill-defined and being set to 0.0 in labels with no predicted samples.\n",
      "  'precision', 'predicted', average, warn_for)\n"
     ]
    },
    {
     "name": "stdout",
     "output_type": "stream",
     "text": [
      "[CV]  alpha=0.8304731646519778, binarize=0.5551029161153589, fit_prior=True, total=   0.0s\n",
      "[CV] alpha=0.731274379581807, binarize=0.47196945353406927, fit_prior=False \n",
      "[CV]  alpha=0.8304731646519778, binarize=0.5551029161153589, fit_prior=True, total=   0.0s\n"
     ]
    },
    {
     "name": "stderr",
     "output_type": "stream",
     "text": [
      "/scratch/clb617/anaconda3/lib/python3.6/site-packages/sklearn/metrics/classification.py:1135: UndefinedMetricWarning: F-score is ill-defined and being set to 0.0 in labels with no predicted samples.\n",
      "  'precision', 'predicted', average, warn_for)\n"
     ]
    },
    {
     "name": "stdout",
     "output_type": "stream",
     "text": [
      "[CV]  alpha=0.8304731646519778, binarize=0.5551029161153589, fit_prior=True, total=   0.1s\n",
      "[CV]  alpha=0.8304731646519778, binarize=0.5551029161153589, fit_prior=True, total=   0.2s\n",
      "[CV]  alpha=0.8304731646519778, binarize=0.5551029161153589, fit_prior=True, total=   0.1s\n"
     ]
    },
    {
     "name": "stderr",
     "output_type": "stream",
     "text": [
      "/scratch/clb617/anaconda3/lib/python3.6/site-packages/sklearn/metrics/classification.py:1135: UndefinedMetricWarning: F-score is ill-defined and being set to 0.0 in labels with no predicted samples.\n",
      "  'precision', 'predicted', average, warn_for)\n"
     ]
    },
    {
     "name": "stdout",
     "output_type": "stream",
     "text": [
      "[CV] alpha=0.731274379581807, binarize=0.47196945353406927, fit_prior=False \n"
     ]
    },
    {
     "name": "stderr",
     "output_type": "stream",
     "text": [
      "/scratch/clb617/anaconda3/lib/python3.6/site-packages/sklearn/metrics/classification.py:1135: UndefinedMetricWarning: F-score is ill-defined and being set to 0.0 in labels with no predicted samples.\n",
      "  'precision', 'predicted', average, warn_for)\n",
      "/scratch/clb617/anaconda3/lib/python3.6/site-packages/sklearn/metrics/classification.py:1135: UndefinedMetricWarning: F-score is ill-defined and being set to 0.0 in labels with no predicted samples.\n",
      "  'precision', 'predicted', average, warn_for)\n"
     ]
    },
    {
     "name": "stdout",
     "output_type": "stream",
     "text": [
      "[CV] alpha=0.731274379581807, binarize=0.47196945353406927, fit_prior=False \n",
      "[CV] alpha=0.731274379581807, binarize=0.47196945353406927, fit_prior=False \n",
      "[CV]  alpha=0.731274379581807, binarize=0.47196945353406927, fit_prior=False, total=   0.0s\n",
      "[CV]  alpha=0.731274379581807, binarize=0.47196945353406927, fit_prior=False, total=   0.0s\n"
     ]
    },
    {
     "name": "stderr",
     "output_type": "stream",
     "text": [
      "/scratch/clb617/anaconda3/lib/python3.6/site-packages/sklearn/metrics/classification.py:1135: UndefinedMetricWarning: F-score is ill-defined and being set to 0.0 in labels with no predicted samples.\n",
      "  'precision', 'predicted', average, warn_for)\n",
      "/scratch/clb617/anaconda3/lib/python3.6/site-packages/sklearn/metrics/classification.py:1135: UndefinedMetricWarning: F-score is ill-defined and being set to 0.0 in labels with no predicted samples.\n",
      "  'precision', 'predicted', average, warn_for)\n"
     ]
    },
    {
     "name": "stdout",
     "output_type": "stream",
     "text": [
      "[CV]  alpha=0.8304731646519778, binarize=0.5551029161153589, fit_prior=True, total=   0.2s\n",
      "[CV] alpha=0.731274379581807, binarize=0.47196945353406927, fit_prior=False \n",
      "[CV]  alpha=0.731274379581807, binarize=0.47196945353406927, fit_prior=False, total=   0.1s\n"
     ]
    },
    {
     "name": "stderr",
     "output_type": "stream",
     "text": [
      "/scratch/clb617/anaconda3/lib/python3.6/site-packages/sklearn/metrics/classification.py:1135: UndefinedMetricWarning: F-score is ill-defined and being set to 0.0 in labels with no predicted samples.\n",
      "  'precision', 'predicted', average, warn_for)\n"
     ]
    },
    {
     "name": "stdout",
     "output_type": "stream",
     "text": [
      "[CV] alpha=0.731274379581807, binarize=0.47196945353406927, fit_prior=False \n"
     ]
    },
    {
     "name": "stderr",
     "output_type": "stream",
     "text": [
      "/scratch/clb617/anaconda3/lib/python3.6/site-packages/sklearn/metrics/classification.py:1135: UndefinedMetricWarning: F-score is ill-defined and being set to 0.0 in labels with no predicted samples.\n",
      "  'precision', 'predicted', average, warn_for)\n"
     ]
    },
    {
     "name": "stdout",
     "output_type": "stream",
     "text": [
      "[CV]  alpha=0.8304731646519778, binarize=0.5551029161153589, fit_prior=True, total=   0.3s\n",
      "[CV]  alpha=0.731274379581807, binarize=0.47196945353406927, fit_prior=False, total=   0.1s\n",
      "[CV] alpha=0.731274379581807, binarize=0.47196945353406927, fit_prior=False \n"
     ]
    },
    {
     "name": "stderr",
     "output_type": "stream",
     "text": [
      "/scratch/clb617/anaconda3/lib/python3.6/site-packages/sklearn/metrics/classification.py:1135: UndefinedMetricWarning: F-score is ill-defined and being set to 0.0 in labels with no predicted samples.\n",
      "  'precision', 'predicted', average, warn_for)\n"
     ]
    },
    {
     "name": "stdout",
     "output_type": "stream",
     "text": [
      "[CV] alpha=0.731274379581807, binarize=0.47196945353406927, fit_prior=False \n",
      "[CV] alpha=0.731274379581807, binarize=0.47196945353406927, fit_prior=False \n",
      "[CV]  alpha=0.731274379581807, binarize=0.47196945353406927, fit_prior=False, total=   0.0s\n",
      "[CV]  alpha=0.731274379581807, binarize=0.47196945353406927, fit_prior=False, total=   0.1s\n"
     ]
    },
    {
     "name": "stderr",
     "output_type": "stream",
     "text": [
      "/scratch/clb617/anaconda3/lib/python3.6/site-packages/sklearn/metrics/classification.py:1135: UndefinedMetricWarning: F-score is ill-defined and being set to 0.0 in labels with no predicted samples.\n",
      "  'precision', 'predicted', average, warn_for)\n"
     ]
    },
    {
     "name": "stdout",
     "output_type": "stream",
     "text": [
      "[CV]  alpha=0.731274379581807, binarize=0.47196945353406927, fit_prior=False, total=   0.0s\n"
     ]
    },
    {
     "name": "stderr",
     "output_type": "stream",
     "text": [
      "/scratch/clb617/anaconda3/lib/python3.6/site-packages/sklearn/metrics/classification.py:1135: UndefinedMetricWarning: F-score is ill-defined and being set to 0.0 in labels with no predicted samples.\n",
      "  'precision', 'predicted', average, warn_for)\n"
     ]
    },
    {
     "name": "stdout",
     "output_type": "stream",
     "text": [
      "[CV]  alpha=0.731274379581807, binarize=0.47196945353406927, fit_prior=False, total=   0.1s\n"
     ]
    },
    {
     "name": "stderr",
     "output_type": "stream",
     "text": [
      "/scratch/clb617/anaconda3/lib/python3.6/site-packages/sklearn/metrics/classification.py:1135: UndefinedMetricWarning: F-score is ill-defined and being set to 0.0 in labels with no predicted samples.\n",
      "  'precision', 'predicted', average, warn_for)\n"
     ]
    },
    {
     "name": "stdout",
     "output_type": "stream",
     "text": [
      "[CV] alpha=0.731274379581807, binarize=0.47196945353406927, fit_prior=False \n"
     ]
    },
    {
     "name": "stderr",
     "output_type": "stream",
     "text": [
      "/scratch/clb617/anaconda3/lib/python3.6/site-packages/sklearn/metrics/classification.py:1135: UndefinedMetricWarning: F-score is ill-defined and being set to 0.0 in labels with no predicted samples.\n",
      "  'precision', 'predicted', average, warn_for)\n"
     ]
    },
    {
     "name": "stdout",
     "output_type": "stream",
     "text": [
      "[CV] alpha=0.4070692575860504, binarize=0.6713342781941692, fit_prior=True \n",
      "[CV]  alpha=0.731274379581807, binarize=0.47196945353406927, fit_prior=False, total=   0.0s\n"
     ]
    },
    {
     "name": "stderr",
     "output_type": "stream",
     "text": [
      "/scratch/clb617/anaconda3/lib/python3.6/site-packages/sklearn/metrics/classification.py:1135: UndefinedMetricWarning: F-score is ill-defined and being set to 0.0 in labels with no predicted samples.\n",
      "  'precision', 'predicted', average, warn_for)\n"
     ]
    },
    {
     "name": "stdout",
     "output_type": "stream",
     "text": [
      "[CV]  alpha=0.731274379581807, binarize=0.47196945353406927, fit_prior=False, total=   0.2s\n",
      "[CV] alpha=0.4070692575860504, binarize=0.6713342781941692, fit_prior=True \n"
     ]
    },
    {
     "name": "stderr",
     "output_type": "stream",
     "text": [
      "/scratch/clb617/anaconda3/lib/python3.6/site-packages/sklearn/metrics/classification.py:1135: UndefinedMetricWarning: F-score is ill-defined and being set to 0.0 in labels with no predicted samples.\n",
      "  'precision', 'predicted', average, warn_for)\n"
     ]
    },
    {
     "name": "stdout",
     "output_type": "stream",
     "text": [
      "[CV] alpha=0.4070692575860504, binarize=0.6713342781941692, fit_prior=True \n",
      "[CV]  alpha=0.4070692575860504, binarize=0.6713342781941692, fit_prior=True, total=   0.0s\n",
      "[CV] alpha=0.4070692575860504, binarize=0.6713342781941692, fit_prior=True \n",
      "[CV] alpha=0.4070692575860504, binarize=0.6713342781941692, fit_prior=True \n",
      "[CV] alpha=0.4070692575860504, binarize=0.6713342781941692, fit_prior=True \n"
     ]
    },
    {
     "name": "stderr",
     "output_type": "stream",
     "text": [
      "/scratch/clb617/anaconda3/lib/python3.6/site-packages/sklearn/metrics/classification.py:1135: UndefinedMetricWarning: F-score is ill-defined and being set to 0.0 in labels with no predicted samples.\n",
      "  'precision', 'predicted', average, warn_for)\n"
     ]
    },
    {
     "name": "stdout",
     "output_type": "stream",
     "text": [
      "[CV]  alpha=0.4070692575860504, binarize=0.6713342781941692, fit_prior=True, total=   0.1s\n"
     ]
    },
    {
     "name": "stderr",
     "output_type": "stream",
     "text": [
      "/scratch/clb617/anaconda3/lib/python3.6/site-packages/sklearn/metrics/classification.py:1135: UndefinedMetricWarning: F-score is ill-defined and being set to 0.0 in labels with no predicted samples.\n",
      "  'precision', 'predicted', average, warn_for)\n"
     ]
    },
    {
     "name": "stdout",
     "output_type": "stream",
     "text": [
      "[CV]  alpha=0.4070692575860504, binarize=0.6713342781941692, fit_prior=True, total=   0.1s\n"
     ]
    },
    {
     "name": "stderr",
     "output_type": "stream",
     "text": [
      "/scratch/clb617/anaconda3/lib/python3.6/site-packages/sklearn/metrics/classification.py:1135: UndefinedMetricWarning: F-score is ill-defined and being set to 0.0 in labels with no predicted samples.\n",
      "  'precision', 'predicted', average, warn_for)\n",
      "/scratch/clb617/anaconda3/lib/python3.6/site-packages/sklearn/metrics/classification.py:1135: UndefinedMetricWarning: F-score is ill-defined and being set to 0.0 in labels with no predicted samples.\n",
      "  'precision', 'predicted', average, warn_for)\n"
     ]
    },
    {
     "name": "stdout",
     "output_type": "stream",
     "text": [
      "[CV]  alpha=0.4070692575860504, binarize=0.6713342781941692, fit_prior=True, total=   0.1s\n",
      "[CV]  alpha=0.4070692575860504, binarize=0.6713342781941692, fit_prior=True, total=   0.1s\n",
      "[CV] alpha=0.4070692575860504, binarize=0.6713342781941692, fit_prior=True \n",
      "[CV]  alpha=0.4070692575860504, binarize=0.6713342781941692, fit_prior=True, total=   0.0s\n",
      "[CV] alpha=0.4070692575860504, binarize=0.6713342781941692, fit_prior=True \n"
     ]
    },
    {
     "name": "stderr",
     "output_type": "stream",
     "text": [
      "/scratch/clb617/anaconda3/lib/python3.6/site-packages/sklearn/metrics/classification.py:1135: UndefinedMetricWarning: F-score is ill-defined and being set to 0.0 in labels with no predicted samples.\n",
      "  'precision', 'predicted', average, warn_for)\n"
     ]
    },
    {
     "name": "stdout",
     "output_type": "stream",
     "text": [
      "[CV]  alpha=0.4070692575860504, binarize=0.6713342781941692, fit_prior=True, total=   0.0s\n",
      "[CV] alpha=0.4070692575860504, binarize=0.6713342781941692, fit_prior=True \n"
     ]
    },
    {
     "name": "stderr",
     "output_type": "stream",
     "text": [
      "/scratch/clb617/anaconda3/lib/python3.6/site-packages/sklearn/metrics/classification.py:1135: UndefinedMetricWarning: F-score is ill-defined and being set to 0.0 in labels with no predicted samples.\n",
      "  'precision', 'predicted', average, warn_for)\n"
     ]
    },
    {
     "name": "stdout",
     "output_type": "stream",
     "text": [
      "[CV]  alpha=0.4070692575860504, binarize=0.6713342781941692, fit_prior=True, total=   0.1s\n",
      "[CV] alpha=0.4070692575860504, binarize=0.6713342781941692, fit_prior=True \n",
      "[CV] alpha=0.585756248347936, binarize=0.32600528262055506, fit_prior=True \n"
     ]
    },
    {
     "name": "stderr",
     "output_type": "stream",
     "text": [
      "/scratch/clb617/anaconda3/lib/python3.6/site-packages/sklearn/metrics/classification.py:1135: UndefinedMetricWarning: F-score is ill-defined and being set to 0.0 in labels with no predicted samples.\n",
      "  'precision', 'predicted', average, warn_for)\n"
     ]
    },
    {
     "name": "stdout",
     "output_type": "stream",
     "text": [
      "[CV]  alpha=0.4070692575860504, binarize=0.6713342781941692, fit_prior=True, total=   0.1s\n"
     ]
    },
    {
     "name": "stderr",
     "output_type": "stream",
     "text": [
      "/scratch/clb617/anaconda3/lib/python3.6/site-packages/sklearn/metrics/classification.py:1135: UndefinedMetricWarning: F-score is ill-defined and being set to 0.0 in labels with no predicted samples.\n",
      "  'precision', 'predicted', average, warn_for)\n",
      "/scratch/clb617/anaconda3/lib/python3.6/site-packages/sklearn/metrics/classification.py:1135: UndefinedMetricWarning: F-score is ill-defined and being set to 0.0 in labels with no predicted samples.\n",
      "  'precision', 'predicted', average, warn_for)\n"
     ]
    },
    {
     "name": "stdout",
     "output_type": "stream",
     "text": [
      "[CV] alpha=0.585756248347936, binarize=0.32600528262055506, fit_prior=True \n",
      "[CV] alpha=0.585756248347936, binarize=0.32600528262055506, fit_prior=True \n",
      "[CV] alpha=0.585756248347936, binarize=0.32600528262055506, fit_prior=True \n",
      "[CV]  alpha=0.585756248347936, binarize=0.32600528262055506, fit_prior=True, total=   0.0s\n"
     ]
    },
    {
     "name": "stderr",
     "output_type": "stream",
     "text": [
      "/scratch/clb617/anaconda3/lib/python3.6/site-packages/sklearn/metrics/classification.py:1135: UndefinedMetricWarning: F-score is ill-defined and being set to 0.0 in labels with no predicted samples.\n",
      "  'precision', 'predicted', average, warn_for)\n",
      "/scratch/clb617/anaconda3/lib/python3.6/site-packages/sklearn/metrics/classification.py:1135: UndefinedMetricWarning: F-score is ill-defined and being set to 0.0 in labels with no predicted samples.\n",
      "  'precision', 'predicted', average, warn_for)\n"
     ]
    },
    {
     "name": "stdout",
     "output_type": "stream",
     "text": [
      "[CV]  alpha=0.585756248347936, binarize=0.32600528262055506, fit_prior=True, total=   0.1s\n",
      "[CV]  alpha=0.585756248347936, binarize=0.32600528262055506, fit_prior=True, total=   0.0s\n"
     ]
    },
    {
     "name": "stderr",
     "output_type": "stream",
     "text": [
      "/scratch/clb617/anaconda3/lib/python3.6/site-packages/sklearn/metrics/classification.py:1135: UndefinedMetricWarning: F-score is ill-defined and being set to 0.0 in labels with no predicted samples.\n",
      "  'precision', 'predicted', average, warn_for)\n"
     ]
    },
    {
     "name": "stdout",
     "output_type": "stream",
     "text": [
      "[CV] alpha=0.585756248347936, binarize=0.32600528262055506, fit_prior=True \n",
      "[CV]  alpha=0.4070692575860504, binarize=0.6713342781941692, fit_prior=True, total=   0.1s\n",
      "[CV] alpha=0.585756248347936, binarize=0.32600528262055506, fit_prior=True \n",
      "[CV]  alpha=0.585756248347936, binarize=0.32600528262055506, fit_prior=True, total=   0.1s\n",
      "[CV] alpha=0.585756248347936, binarize=0.32600528262055506, fit_prior=True \n"
     ]
    },
    {
     "name": "stderr",
     "output_type": "stream",
     "text": [
      "/scratch/clb617/anaconda3/lib/python3.6/site-packages/sklearn/metrics/classification.py:1135: UndefinedMetricWarning: F-score is ill-defined and being set to 0.0 in labels with no predicted samples.\n",
      "  'precision', 'predicted', average, warn_for)\n"
     ]
    },
    {
     "name": "stdout",
     "output_type": "stream",
     "text": [
      "[CV] alpha=0.585756248347936, binarize=0.32600528262055506, fit_prior=True \n"
     ]
    },
    {
     "name": "stderr",
     "output_type": "stream",
     "text": [
      "/scratch/clb617/anaconda3/lib/python3.6/site-packages/sklearn/metrics/classification.py:1135: UndefinedMetricWarning: F-score is ill-defined and being set to 0.0 in labels with no predicted samples.\n",
      "  'precision', 'predicted', average, warn_for)\n"
     ]
    },
    {
     "name": "stdout",
     "output_type": "stream",
     "text": [
      "[CV]  alpha=0.585756248347936, binarize=0.32600528262055506, fit_prior=True, total=   0.1s\n"
     ]
    },
    {
     "name": "stderr",
     "output_type": "stream",
     "text": [
      "/scratch/clb617/anaconda3/lib/python3.6/site-packages/sklearn/metrics/classification.py:1135: UndefinedMetricWarning: F-score is ill-defined and being set to 0.0 in labels with no predicted samples.\n",
      "  'precision', 'predicted', average, warn_for)\n",
      "/scratch/clb617/anaconda3/lib/python3.6/site-packages/sklearn/metrics/classification.py:1135: UndefinedMetricWarning: F-score is ill-defined and being set to 0.0 in labels with no predicted samples.\n",
      "  'precision', 'predicted', average, warn_for)\n"
     ]
    },
    {
     "name": "stdout",
     "output_type": "stream",
     "text": [
      "[CV]  alpha=0.585756248347936, binarize=0.32600528262055506, fit_prior=True, total=   0.1s\n",
      "[CV]  alpha=0.585756248347936, binarize=0.32600528262055506, fit_prior=True, total=   0.0s\n",
      "[CV] alpha=0.585756248347936, binarize=0.32600528262055506, fit_prior=True \n",
      "[CV]  alpha=0.585756248347936, binarize=0.32600528262055506, fit_prior=True, total=   0.1s\n",
      "[CV] alpha=0.585756248347936, binarize=0.32600528262055506, fit_prior=True \n",
      "[CV] alpha=0.5237266437311435, binarize=0.19179705669349856, fit_prior=False \n",
      "[CV] alpha=0.5237266437311435, binarize=0.19179705669349856, fit_prior=False \n"
     ]
    },
    {
     "name": "stderr",
     "output_type": "stream",
     "text": [
      "/scratch/clb617/anaconda3/lib/python3.6/site-packages/sklearn/metrics/classification.py:1135: UndefinedMetricWarning: F-score is ill-defined and being set to 0.0 in labels with no predicted samples.\n",
      "  'precision', 'predicted', average, warn_for)\n"
     ]
    },
    {
     "name": "stdout",
     "output_type": "stream",
     "text": [
      "[CV] alpha=0.5237266437311435, binarize=0.19179705669349856, fit_prior=False \n"
     ]
    },
    {
     "name": "stderr",
     "output_type": "stream",
     "text": [
      "/scratch/clb617/anaconda3/lib/python3.6/site-packages/sklearn/metrics/classification.py:1135: UndefinedMetricWarning: F-score is ill-defined and being set to 0.0 in labels with no predicted samples.\n",
      "  'precision', 'predicted', average, warn_for)\n",
      "/scratch/clb617/anaconda3/lib/python3.6/site-packages/sklearn/metrics/classification.py:1135: UndefinedMetricWarning: F-score is ill-defined and being set to 0.0 in labels with no predicted samples.\n",
      "  'precision', 'predicted', average, warn_for)\n"
     ]
    },
    {
     "name": "stdout",
     "output_type": "stream",
     "text": [
      "[CV]  alpha=0.5237266437311435, binarize=0.19179705669349856, fit_prior=False, total=   0.0s\n",
      "[CV] alpha=0.5237266437311435, binarize=0.19179705669349856, fit_prior=False \n",
      "[CV] alpha=0.5237266437311435, binarize=0.19179705669349856, fit_prior=False \n"
     ]
    },
    {
     "name": "stderr",
     "output_type": "stream",
     "text": [
      "/scratch/clb617/anaconda3/lib/python3.6/site-packages/sklearn/metrics/classification.py:1135: UndefinedMetricWarning: F-score is ill-defined and being set to 0.0 in labels with no predicted samples.\n",
      "  'precision', 'predicted', average, warn_for)\n",
      "/scratch/clb617/anaconda3/lib/python3.6/site-packages/sklearn/metrics/classification.py:1135: UndefinedMetricWarning: F-score is ill-defined and being set to 0.0 in labels with no predicted samples.\n",
      "  'precision', 'predicted', average, warn_for)\n",
      "/scratch/clb617/anaconda3/lib/python3.6/site-packages/sklearn/metrics/classification.py:1135: UndefinedMetricWarning: F-score is ill-defined and being set to 0.0 in labels with no predicted samples.\n",
      "  'precision', 'predicted', average, warn_for)\n",
      "/scratch/clb617/anaconda3/lib/python3.6/site-packages/sklearn/metrics/classification.py:1135: UndefinedMetricWarning: F-score is ill-defined and being set to 0.0 in labels with no predicted samples.\n",
      "  'precision', 'predicted', average, warn_for)\n"
     ]
    },
    {
     "name": "stdout",
     "output_type": "stream",
     "text": [
      "[CV]  alpha=0.585756248347936, binarize=0.32600528262055506, fit_prior=True, total=   0.2s\n",
      "[CV] alpha=0.5237266437311435, binarize=0.19179705669349856, fit_prior=False \n",
      "[CV]  alpha=0.5237266437311435, binarize=0.19179705669349856, fit_prior=False, total=   0.1s\n",
      "[CV]  alpha=0.5237266437311435, binarize=0.19179705669349856, fit_prior=False, total=   0.1s\n",
      "[CV] alpha=0.5237266437311435, binarize=0.19179705669349856, fit_prior=False \n",
      "[CV] alpha=0.5237266437311435, binarize=0.19179705669349856, fit_prior=False \n",
      "[CV]  alpha=0.5237266437311435, binarize=0.19179705669349856, fit_prior=False, total=   0.1s\n",
      "[CV]  alpha=0.585756248347936, binarize=0.32600528262055506, fit_prior=True, total=   0.2s\n"
     ]
    },
    {
     "name": "stderr",
     "output_type": "stream",
     "text": [
      "/scratch/clb617/anaconda3/lib/python3.6/site-packages/sklearn/metrics/classification.py:1135: UndefinedMetricWarning: F-score is ill-defined and being set to 0.0 in labels with no predicted samples.\n",
      "  'precision', 'predicted', average, warn_for)\n",
      "/scratch/clb617/anaconda3/lib/python3.6/site-packages/sklearn/metrics/classification.py:1135: UndefinedMetricWarning: F-score is ill-defined and being set to 0.0 in labels with no predicted samples.\n",
      "  'precision', 'predicted', average, warn_for)\n",
      "/scratch/clb617/anaconda3/lib/python3.6/site-packages/sklearn/metrics/classification.py:1135: UndefinedMetricWarning: F-score is ill-defined and being set to 0.0 in labels with no predicted samples.\n",
      "  'precision', 'predicted', average, warn_for)\n"
     ]
    },
    {
     "name": "stdout",
     "output_type": "stream",
     "text": [
      "[CV]  alpha=0.5237266437311435, binarize=0.19179705669349856, fit_prior=False, total=   0.1s\n",
      "[CV]  alpha=0.5237266437311435, binarize=0.19179705669349856, fit_prior=False, total=   0.1s\n",
      "[CV]  alpha=0.5237266437311435, binarize=0.19179705669349856, fit_prior=False, total=   0.1s\n",
      "[CV]  alpha=0.5237266437311435, binarize=0.19179705669349856, fit_prior=False, total=   0.1s\n",
      "[CV] alpha=0.5237266437311435, binarize=0.19179705669349856, fit_prior=False \n",
      "[CV] alpha=0.5237266437311435, binarize=0.19179705669349856, fit_prior=False \n"
     ]
    },
    {
     "name": "stderr",
     "output_type": "stream",
     "text": [
      "/scratch/clb617/anaconda3/lib/python3.6/site-packages/sklearn/metrics/classification.py:1135: UndefinedMetricWarning: F-score is ill-defined and being set to 0.0 in labels with no predicted samples.\n",
      "  'precision', 'predicted', average, warn_for)\n"
     ]
    },
    {
     "name": "stdout",
     "output_type": "stream",
     "text": [
      "[CV] alpha=0.5423059801866291, binarize=0.37157570795341344, fit_prior=True \n",
      "[CV] alpha=0.5423059801866291, binarize=0.37157570795341344, fit_prior=True \n",
      "[CV]  alpha=0.5237266437311435, binarize=0.19179705669349856, fit_prior=False, total=   0.0s\n",
      "[CV] alpha=0.5423059801866291, binarize=0.37157570795341344, fit_prior=True \n"
     ]
    },
    {
     "name": "stderr",
     "output_type": "stream",
     "text": [
      "/scratch/clb617/anaconda3/lib/python3.6/site-packages/sklearn/metrics/classification.py:1135: UndefinedMetricWarning: F-score is ill-defined and being set to 0.0 in labels with no predicted samples.\n",
      "  'precision', 'predicted', average, warn_for)\n"
     ]
    },
    {
     "name": "stdout",
     "output_type": "stream",
     "text": [
      "[CV]  alpha=0.5423059801866291, binarize=0.37157570795341344, fit_prior=True, total=   0.0s\n",
      "[CV] alpha=0.5423059801866291, binarize=0.37157570795341344, fit_prior=True \n"
     ]
    },
    {
     "name": "stderr",
     "output_type": "stream",
     "text": [
      "/scratch/clb617/anaconda3/lib/python3.6/site-packages/sklearn/metrics/classification.py:1135: UndefinedMetricWarning: F-score is ill-defined and being set to 0.0 in labels with no predicted samples.\n",
      "  'precision', 'predicted', average, warn_for)\n"
     ]
    },
    {
     "name": "stdout",
     "output_type": "stream",
     "text": [
      "[CV] alpha=0.5423059801866291, binarize=0.37157570795341344, fit_prior=True \n"
     ]
    },
    {
     "name": "stderr",
     "output_type": "stream",
     "text": [
      "/scratch/clb617/anaconda3/lib/python3.6/site-packages/sklearn/metrics/classification.py:1135: UndefinedMetricWarning: F-score is ill-defined and being set to 0.0 in labels with no predicted samples.\n",
      "  'precision', 'predicted', average, warn_for)\n",
      "/scratch/clb617/anaconda3/lib/python3.6/site-packages/sklearn/metrics/classification.py:1135: UndefinedMetricWarning: F-score is ill-defined and being set to 0.0 in labels with no predicted samples.\n",
      "  'precision', 'predicted', average, warn_for)\n",
      "/scratch/clb617/anaconda3/lib/python3.6/site-packages/sklearn/metrics/classification.py:1135: UndefinedMetricWarning: F-score is ill-defined and being set to 0.0 in labels with no predicted samples.\n",
      "  'precision', 'predicted', average, warn_for)\n"
     ]
    },
    {
     "name": "stdout",
     "output_type": "stream",
     "text": [
      "[CV]  alpha=0.5423059801866291, binarize=0.37157570795341344, fit_prior=True, total=   0.1s\n",
      "[CV]  alpha=0.5423059801866291, binarize=0.37157570795341344, fit_prior=True, total=   0.1s\n",
      "[CV]  alpha=0.5423059801866291, binarize=0.37157570795341344, fit_prior=True, total=   0.1s\n",
      "[CV]  alpha=0.5423059801866291, binarize=0.37157570795341344, fit_prior=True, total=   0.1s\n"
     ]
    },
    {
     "name": "stderr",
     "output_type": "stream",
     "text": [
      "/scratch/clb617/anaconda3/lib/python3.6/site-packages/sklearn/metrics/classification.py:1135: UndefinedMetricWarning: F-score is ill-defined and being set to 0.0 in labels with no predicted samples.\n",
      "  'precision', 'predicted', average, warn_for)\n"
     ]
    },
    {
     "name": "stdout",
     "output_type": "stream",
     "text": [
      "[CV] alpha=0.5423059801866291, binarize=0.37157570795341344, fit_prior=True \n",
      "[CV] alpha=0.5423059801866291, binarize=0.37157570795341344, fit_prior=True \n",
      "[CV] alpha=0.5423059801866291, binarize=0.37157570795341344, fit_prior=True \n"
     ]
    },
    {
     "name": "stderr",
     "output_type": "stream",
     "text": [
      "/scratch/clb617/anaconda3/lib/python3.6/site-packages/sklearn/metrics/classification.py:1135: UndefinedMetricWarning: F-score is ill-defined and being set to 0.0 in labels with no predicted samples.\n",
      "  'precision', 'predicted', average, warn_for)\n",
      "/scratch/clb617/anaconda3/lib/python3.6/site-packages/sklearn/metrics/classification.py:1135: UndefinedMetricWarning: F-score is ill-defined and being set to 0.0 in labels with no predicted samples.\n",
      "  'precision', 'predicted', average, warn_for)\n"
     ]
    },
    {
     "name": "stdout",
     "output_type": "stream",
     "text": [
      "[CV]  alpha=0.5423059801866291, binarize=0.37157570795341344, fit_prior=True, total=   0.1s\n",
      "[CV] alpha=0.5423059801866291, binarize=0.37157570795341344, fit_prior=True \n",
      "[CV]  alpha=0.5423059801866291, binarize=0.37157570795341344, fit_prior=True, total=   0.1s\n",
      "[CV] alpha=0.5423059801866291, binarize=0.37157570795341344, fit_prior=True \n"
     ]
    },
    {
     "name": "stderr",
     "output_type": "stream",
     "text": [
      "/scratch/clb617/anaconda3/lib/python3.6/site-packages/sklearn/metrics/classification.py:1135: UndefinedMetricWarning: F-score is ill-defined and being set to 0.0 in labels with no predicted samples.\n",
      "  'precision', 'predicted', average, warn_for)\n"
     ]
    },
    {
     "name": "stdout",
     "output_type": "stream",
     "text": [
      "[CV] alpha=0.6450233640191141, binarize=0.048901980630105424, fit_prior=False \n"
     ]
    },
    {
     "name": "stderr",
     "output_type": "stream",
     "text": [
      "/scratch/clb617/anaconda3/lib/python3.6/site-packages/sklearn/metrics/classification.py:1135: UndefinedMetricWarning: F-score is ill-defined and being set to 0.0 in labels with no predicted samples.\n",
      "  'precision', 'predicted', average, warn_for)\n"
     ]
    },
    {
     "name": "stdout",
     "output_type": "stream",
     "text": [
      "[CV]  alpha=0.5237266437311435, binarize=0.19179705669349856, fit_prior=False, total=   0.2s\n"
     ]
    },
    {
     "name": "stderr",
     "output_type": "stream",
     "text": [
      "/scratch/clb617/anaconda3/lib/python3.6/site-packages/sklearn/metrics/classification.py:1135: UndefinedMetricWarning: F-score is ill-defined and being set to 0.0 in labels with no predicted samples.\n",
      "  'precision', 'predicted', average, warn_for)\n"
     ]
    },
    {
     "name": "stdout",
     "output_type": "stream",
     "text": [
      "[CV]  alpha=0.6450233640191141, binarize=0.048901980630105424, fit_prior=False, total=   0.0s\n",
      "[CV]  alpha=0.5423059801866291, binarize=0.37157570795341344, fit_prior=True, total=   0.1s\n",
      "[CV]  alpha=0.5423059801866291, binarize=0.37157570795341344, fit_prior=True, total=   0.0s\n",
      "[CV] alpha=0.6450233640191141, binarize=0.048901980630105424, fit_prior=False \n"
     ]
    },
    {
     "name": "stderr",
     "output_type": "stream",
     "text": [
      "/scratch/clb617/anaconda3/lib/python3.6/site-packages/sklearn/metrics/classification.py:1135: UndefinedMetricWarning: F-score is ill-defined and being set to 0.0 in labels with no predicted samples.\n",
      "  'precision', 'predicted', average, warn_for)\n"
     ]
    },
    {
     "name": "stdout",
     "output_type": "stream",
     "text": [
      "[CV] alpha=0.6450233640191141, binarize=0.048901980630105424, fit_prior=False \n",
      "[CV] alpha=0.6450233640191141, binarize=0.048901980630105424, fit_prior=False \n"
     ]
    },
    {
     "name": "stderr",
     "output_type": "stream",
     "text": [
      "/scratch/clb617/anaconda3/lib/python3.6/site-packages/sklearn/metrics/classification.py:1135: UndefinedMetricWarning: F-score is ill-defined and being set to 0.0 in labels with no predicted samples.\n",
      "  'precision', 'predicted', average, warn_for)\n"
     ]
    },
    {
     "name": "stdout",
     "output_type": "stream",
     "text": [
      "[CV]  alpha=0.6450233640191141, binarize=0.048901980630105424, fit_prior=False, total=   0.0s\n",
      "[CV] alpha=0.6450233640191141, binarize=0.048901980630105424, fit_prior=False \n"
     ]
    },
    {
     "name": "stderr",
     "output_type": "stream",
     "text": [
      "/scratch/clb617/anaconda3/lib/python3.6/site-packages/sklearn/metrics/classification.py:1135: UndefinedMetricWarning: F-score is ill-defined and being set to 0.0 in labels with no predicted samples.\n",
      "  'precision', 'predicted', average, warn_for)\n"
     ]
    },
    {
     "name": "stdout",
     "output_type": "stream",
     "text": [
      "[CV] alpha=0.6450233640191141, binarize=0.048901980630105424, fit_prior=False \n",
      "[CV]  alpha=0.5423059801866291, binarize=0.37157570795341344, fit_prior=True, total=   0.2s\n",
      "[CV] alpha=0.6450233640191141, binarize=0.048901980630105424, fit_prior=False \n",
      "[CV]  alpha=0.6450233640191141, binarize=0.048901980630105424, fit_prior=False, total=   0.1s\n"
     ]
    },
    {
     "name": "stderr",
     "output_type": "stream",
     "text": [
      "/scratch/clb617/anaconda3/lib/python3.6/site-packages/sklearn/metrics/classification.py:1135: UndefinedMetricWarning: F-score is ill-defined and being set to 0.0 in labels with no predicted samples.\n",
      "  'precision', 'predicted', average, warn_for)\n"
     ]
    },
    {
     "name": "stdout",
     "output_type": "stream",
     "text": [
      "[CV] alpha=0.6450233640191141, binarize=0.048901980630105424, fit_prior=False \n",
      "[CV] alpha=0.6450233640191141, binarize=0.048901980630105424, fit_prior=False \n"
     ]
    },
    {
     "name": "stderr",
     "output_type": "stream",
     "text": [
      "/scratch/clb617/anaconda3/lib/python3.6/site-packages/sklearn/metrics/classification.py:1135: UndefinedMetricWarning: F-score is ill-defined and being set to 0.0 in labels with no predicted samples.\n",
      "  'precision', 'predicted', average, warn_for)\n"
     ]
    },
    {
     "name": "stdout",
     "output_type": "stream",
     "text": [
      "[CV]  alpha=0.6450233640191141, binarize=0.048901980630105424, fit_prior=False, total=   0.2s\n"
     ]
    },
    {
     "name": "stderr",
     "output_type": "stream",
     "text": [
      "/scratch/clb617/anaconda3/lib/python3.6/site-packages/sklearn/metrics/classification.py:1135: UndefinedMetricWarning: F-score is ill-defined and being set to 0.0 in labels with no predicted samples.\n",
      "  'precision', 'predicted', average, warn_for)\n",
      "/scratch/clb617/anaconda3/lib/python3.6/site-packages/sklearn/metrics/classification.py:1135: UndefinedMetricWarning: F-score is ill-defined and being set to 0.0 in labels with no predicted samples.\n",
      "  'precision', 'predicted', average, warn_for)\n"
     ]
    },
    {
     "name": "stdout",
     "output_type": "stream",
     "text": [
      "[CV]  alpha=0.6450233640191141, binarize=0.048901980630105424, fit_prior=False, total=   0.1s\n"
     ]
    },
    {
     "name": "stderr",
     "output_type": "stream",
     "text": [
      "/scratch/clb617/anaconda3/lib/python3.6/site-packages/sklearn/metrics/classification.py:1135: UndefinedMetricWarning: F-score is ill-defined and being set to 0.0 in labels with no predicted samples.\n",
      "  'precision', 'predicted', average, warn_for)\n"
     ]
    },
    {
     "name": "stdout",
     "output_type": "stream",
     "text": [
      "[CV]  alpha=0.6450233640191141, binarize=0.048901980630105424, fit_prior=False, total=   0.1s\n"
     ]
    },
    {
     "name": "stderr",
     "output_type": "stream",
     "text": [
      "/scratch/clb617/anaconda3/lib/python3.6/site-packages/sklearn/metrics/classification.py:1135: UndefinedMetricWarning: F-score is ill-defined and being set to 0.0 in labels with no predicted samples.\n",
      "  'precision', 'predicted', average, warn_for)\n"
     ]
    },
    {
     "name": "stdout",
     "output_type": "stream",
     "text": [
      "[CV]  alpha=0.6450233640191141, binarize=0.048901980630105424, fit_prior=False, total=   0.2s\n",
      "[CV] alpha=0.6450233640191141, binarize=0.048901980630105424, fit_prior=False \n",
      "[CV]  alpha=0.6450233640191141, binarize=0.048901980630105424, fit_prior=False, total=   0.2s\n",
      "[CV]  alpha=0.6450233640191141, binarize=0.048901980630105424, fit_prior=False, total=   0.1s\n"
     ]
    },
    {
     "name": "stderr",
     "output_type": "stream",
     "text": [
      "/scratch/clb617/anaconda3/lib/python3.6/site-packages/sklearn/metrics/classification.py:1135: UndefinedMetricWarning: F-score is ill-defined and being set to 0.0 in labels with no predicted samples.\n",
      "  'precision', 'predicted', average, warn_for)\n"
     ]
    },
    {
     "name": "stdout",
     "output_type": "stream",
     "text": [
      "[CV] alpha=0.03465360967574471, binarize=0.37462315293291726, fit_prior=False \n",
      "[CV]  alpha=0.6450233640191141, binarize=0.048901980630105424, fit_prior=False, total=   0.1s\n",
      "[CV] alpha=0.03465360967574471, binarize=0.37462315293291726, fit_prior=False \n",
      "[CV] alpha=0.03465360967574471, binarize=0.37462315293291726, fit_prior=False \n"
     ]
    },
    {
     "name": "stderr",
     "output_type": "stream",
     "text": [
      "/scratch/clb617/anaconda3/lib/python3.6/site-packages/sklearn/metrics/classification.py:1135: UndefinedMetricWarning: F-score is ill-defined and being set to 0.0 in labels with no predicted samples.\n",
      "  'precision', 'predicted', average, warn_for)\n"
     ]
    },
    {
     "name": "stdout",
     "output_type": "stream",
     "text": [
      "[CV]  alpha=0.03465360967574471, binarize=0.37462315293291726, fit_prior=False, total=   0.1s\n"
     ]
    },
    {
     "name": "stderr",
     "output_type": "stream",
     "text": [
      "/scratch/clb617/anaconda3/lib/python3.6/site-packages/sklearn/metrics/classification.py:1135: UndefinedMetricWarning: F-score is ill-defined and being set to 0.0 in labels with no predicted samples.\n",
      "  'precision', 'predicted', average, warn_for)\n"
     ]
    },
    {
     "name": "stdout",
     "output_type": "stream",
     "text": [
      "[CV]  alpha=0.03465360967574471, binarize=0.37462315293291726, fit_prior=False, total=   0.1s\n"
     ]
    },
    {
     "name": "stderr",
     "output_type": "stream",
     "text": [
      "/scratch/clb617/anaconda3/lib/python3.6/site-packages/sklearn/metrics/classification.py:1135: UndefinedMetricWarning: F-score is ill-defined and being set to 0.0 in labels with no predicted samples.\n",
      "  'precision', 'predicted', average, warn_for)\n"
     ]
    },
    {
     "name": "stdout",
     "output_type": "stream",
     "text": [
      "[CV]  alpha=0.03465360967574471, binarize=0.37462315293291726, fit_prior=False, total=   0.1s\n",
      "[CV] alpha=0.03465360967574471, binarize=0.37462315293291726, fit_prior=False \n"
     ]
    },
    {
     "name": "stderr",
     "output_type": "stream",
     "text": [
      "/scratch/clb617/anaconda3/lib/python3.6/site-packages/sklearn/metrics/classification.py:1135: UndefinedMetricWarning: F-score is ill-defined and being set to 0.0 in labels with no predicted samples.\n",
      "  'precision', 'predicted', average, warn_for)\n"
     ]
    },
    {
     "name": "stdout",
     "output_type": "stream",
     "text": [
      "[CV]  alpha=0.03465360967574471, binarize=0.37462315293291726, fit_prior=False, total=   0.1s\n",
      "[CV] alpha=0.03465360967574471, binarize=0.37462315293291726, fit_prior=False \n"
     ]
    },
    {
     "name": "stderr",
     "output_type": "stream",
     "text": [
      "/scratch/clb617/anaconda3/lib/python3.6/site-packages/sklearn/metrics/classification.py:1135: UndefinedMetricWarning: F-score is ill-defined and being set to 0.0 in labels with no predicted samples.\n",
      "  'precision', 'predicted', average, warn_for)\n"
     ]
    },
    {
     "name": "stdout",
     "output_type": "stream",
     "text": [
      "[CV]  alpha=0.03465360967574471, binarize=0.37462315293291726, fit_prior=False, total=   0.0s\n",
      "[CV] alpha=0.03465360967574471, binarize=0.37462315293291726, fit_prior=False \n",
      "[CV] alpha=0.03465360967574471, binarize=0.37462315293291726, fit_prior=False \n"
     ]
    },
    {
     "name": "stderr",
     "output_type": "stream",
     "text": [
      "/scratch/clb617/anaconda3/lib/python3.6/site-packages/sklearn/metrics/classification.py:1135: UndefinedMetricWarning: F-score is ill-defined and being set to 0.0 in labels with no predicted samples.\n",
      "  'precision', 'predicted', average, warn_for)\n"
     ]
    },
    {
     "name": "stdout",
     "output_type": "stream",
     "text": [
      "[CV]  alpha=0.03465360967574471, binarize=0.37462315293291726, fit_prior=False, total=   0.0s\n",
      "[CV] alpha=0.03465360967574471, binarize=0.37462315293291726, fit_prior=False \n",
      "[CV] alpha=0.03465360967574471, binarize=0.37462315293291726, fit_prior=False \n",
      "[CV] alpha=0.9697040668517775, binarize=0.12253513705442354, fit_prior=False \n"
     ]
    },
    {
     "name": "stderr",
     "output_type": "stream",
     "text": [
      "/scratch/clb617/anaconda3/lib/python3.6/site-packages/sklearn/metrics/classification.py:1135: UndefinedMetricWarning: F-score is ill-defined and being set to 0.0 in labels with no predicted samples.\n",
      "  'precision', 'predicted', average, warn_for)\n"
     ]
    },
    {
     "name": "stdout",
     "output_type": "stream",
     "text": [
      "[CV]  alpha=0.03465360967574471, binarize=0.37462315293291726, fit_prior=False, total=   0.0s\n",
      "[CV] alpha=0.9697040668517775, binarize=0.12253513705442354, fit_prior=False \n",
      "[CV] alpha=0.03465360967574471, binarize=0.37462315293291726, fit_prior=False \n",
      "[CV]  alpha=0.03465360967574471, binarize=0.37462315293291726, fit_prior=False, total=   0.0s\n"
     ]
    },
    {
     "name": "stderr",
     "output_type": "stream",
     "text": [
      "/scratch/clb617/anaconda3/lib/python3.6/site-packages/sklearn/metrics/classification.py:1135: UndefinedMetricWarning: F-score is ill-defined and being set to 0.0 in labels with no predicted samples.\n",
      "  'precision', 'predicted', average, warn_for)\n",
      "/scratch/clb617/anaconda3/lib/python3.6/site-packages/sklearn/metrics/classification.py:1135: UndefinedMetricWarning: F-score is ill-defined and being set to 0.0 in labels with no predicted samples.\n",
      "  'precision', 'predicted', average, warn_for)\n",
      "/scratch/clb617/anaconda3/lib/python3.6/site-packages/sklearn/metrics/classification.py:1135: UndefinedMetricWarning: F-score is ill-defined and being set to 0.0 in labels with no predicted samples.\n",
      "  'precision', 'predicted', average, warn_for)\n"
     ]
    },
    {
     "name": "stdout",
     "output_type": "stream",
     "text": [
      "[CV]  alpha=0.9697040668517775, binarize=0.12253513705442354, fit_prior=False, total=   0.1s\n",
      "[CV]  alpha=0.9697040668517775, binarize=0.12253513705442354, fit_prior=False, total=   0.0s\n",
      "[CV]  alpha=0.03465360967574471, binarize=0.37462315293291726, fit_prior=False, total=   0.0s\n"
     ]
    },
    {
     "name": "stderr",
     "output_type": "stream",
     "text": [
      "/scratch/clb617/anaconda3/lib/python3.6/site-packages/sklearn/metrics/classification.py:1135: UndefinedMetricWarning: F-score is ill-defined and being set to 0.0 in labels with no predicted samples.\n",
      "  'precision', 'predicted', average, warn_for)\n"
     ]
    },
    {
     "name": "stdout",
     "output_type": "stream",
     "text": [
      "[CV] alpha=0.9697040668517775, binarize=0.12253513705442354, fit_prior=False \n"
     ]
    },
    {
     "name": "stderr",
     "output_type": "stream",
     "text": [
      "/scratch/clb617/anaconda3/lib/python3.6/site-packages/sklearn/metrics/classification.py:1135: UndefinedMetricWarning: F-score is ill-defined and being set to 0.0 in labels with no predicted samples.\n",
      "  'precision', 'predicted', average, warn_for)\n"
     ]
    },
    {
     "name": "stdout",
     "output_type": "stream",
     "text": [
      "[CV] alpha=0.9697040668517775, binarize=0.12253513705442354, fit_prior=False \n"
     ]
    },
    {
     "name": "stderr",
     "output_type": "stream",
     "text": [
      "/scratch/clb617/anaconda3/lib/python3.6/site-packages/sklearn/metrics/classification.py:1135: UndefinedMetricWarning: F-score is ill-defined and being set to 0.0 in labels with no predicted samples.\n",
      "  'precision', 'predicted', average, warn_for)\n"
     ]
    },
    {
     "name": "stdout",
     "output_type": "stream",
     "text": [
      "[CV] alpha=0.9697040668517775, binarize=0.12253513705442354, fit_prior=False \n",
      "[CV]  alpha=0.9697040668517775, binarize=0.12253513705442354, fit_prior=False, total=   0.0s\n",
      "[CV] alpha=0.9697040668517775, binarize=0.12253513705442354, fit_prior=False \n",
      "[CV]  alpha=0.03465360967574471, binarize=0.37462315293291726, fit_prior=False, total=   0.2s\n"
     ]
    },
    {
     "name": "stderr",
     "output_type": "stream",
     "text": [
      "/scratch/clb617/anaconda3/lib/python3.6/site-packages/sklearn/metrics/classification.py:1135: UndefinedMetricWarning: F-score is ill-defined and being set to 0.0 in labels with no predicted samples.\n",
      "  'precision', 'predicted', average, warn_for)\n",
      "/scratch/clb617/anaconda3/lib/python3.6/site-packages/sklearn/metrics/classification.py:1135: UndefinedMetricWarning: F-score is ill-defined and being set to 0.0 in labels with no predicted samples.\n",
      "  'precision', 'predicted', average, warn_for)\n"
     ]
    },
    {
     "name": "stdout",
     "output_type": "stream",
     "text": [
      "[CV]  alpha=0.9697040668517775, binarize=0.12253513705442354, fit_prior=False, total=   0.0s\n",
      "[CV]  alpha=0.9697040668517775, binarize=0.12253513705442354, fit_prior=False, total=   0.1s\n"
     ]
    },
    {
     "name": "stderr",
     "output_type": "stream",
     "text": [
      "/scratch/clb617/anaconda3/lib/python3.6/site-packages/sklearn/metrics/classification.py:1135: UndefinedMetricWarning: F-score is ill-defined and being set to 0.0 in labels with no predicted samples.\n",
      "  'precision', 'predicted', average, warn_for)\n"
     ]
    },
    {
     "name": "stdout",
     "output_type": "stream",
     "text": [
      "[CV] alpha=0.9697040668517775, binarize=0.12253513705442354, fit_prior=False \n",
      "[CV] alpha=0.9697040668517775, binarize=0.12253513705442354, fit_prior=False \n"
     ]
    },
    {
     "name": "stderr",
     "output_type": "stream",
     "text": [
      "/scratch/clb617/anaconda3/lib/python3.6/site-packages/sklearn/metrics/classification.py:1135: UndefinedMetricWarning: F-score is ill-defined and being set to 0.0 in labels with no predicted samples.\n",
      "  'precision', 'predicted', average, warn_for)\n",
      "/scratch/clb617/anaconda3/lib/python3.6/site-packages/sklearn/metrics/classification.py:1135: UndefinedMetricWarning: F-score is ill-defined and being set to 0.0 in labels with no predicted samples.\n",
      "  'precision', 'predicted', average, warn_for)\n"
     ]
    },
    {
     "name": "stdout",
     "output_type": "stream",
     "text": [
      "[CV] alpha=0.9697040668517775, binarize=0.12253513705442354, fit_prior=False \n",
      "[CV] alpha=0.8258497560284712, binarize=0.24547443416621506, fit_prior=False \n",
      "[CV] alpha=0.9697040668517775, binarize=0.12253513705442354, fit_prior=False \n"
     ]
    },
    {
     "name": "stderr",
     "output_type": "stream",
     "text": [
      "/scratch/clb617/anaconda3/lib/python3.6/site-packages/sklearn/metrics/classification.py:1135: UndefinedMetricWarning: F-score is ill-defined and being set to 0.0 in labels with no predicted samples.\n",
      "  'precision', 'predicted', average, warn_for)\n",
      "/scratch/clb617/anaconda3/lib/python3.6/site-packages/sklearn/metrics/classification.py:1135: UndefinedMetricWarning: F-score is ill-defined and being set to 0.0 in labels with no predicted samples.\n",
      "  'precision', 'predicted', average, warn_for)\n"
     ]
    },
    {
     "name": "stdout",
     "output_type": "stream",
     "text": [
      "[CV] alpha=0.8258497560284712, binarize=0.24547443416621506, fit_prior=False \n",
      "[CV]  alpha=0.9697040668517775, binarize=0.12253513705442354, fit_prior=False, total=   0.1s\n",
      "[CV]  alpha=0.8258497560284712, binarize=0.24547443416621506, fit_prior=False, total=   0.1s\n",
      "[CV] alpha=0.8258497560284712, binarize=0.24547443416621506, fit_prior=False \n"
     ]
    },
    {
     "name": "stderr",
     "output_type": "stream",
     "text": [
      "/scratch/clb617/anaconda3/lib/python3.6/site-packages/sklearn/metrics/classification.py:1135: UndefinedMetricWarning: F-score is ill-defined and being set to 0.0 in labels with no predicted samples.\n",
      "  'precision', 'predicted', average, warn_for)\n",
      "/scratch/clb617/anaconda3/lib/python3.6/site-packages/sklearn/metrics/classification.py:1135: UndefinedMetricWarning: F-score is ill-defined and being set to 0.0 in labels with no predicted samples.\n",
      "  'precision', 'predicted', average, warn_for)\n"
     ]
    },
    {
     "name": "stdout",
     "output_type": "stream",
     "text": [
      "[CV]  alpha=0.9697040668517775, binarize=0.12253513705442354, fit_prior=False, total=   0.0s\n",
      "[CV]  alpha=0.9697040668517775, binarize=0.12253513705442354, fit_prior=False, total=   0.1s\n",
      "[CV]  alpha=0.9697040668517775, binarize=0.12253513705442354, fit_prior=False, total=   0.1s\n",
      "[CV]  alpha=0.9697040668517775, binarize=0.12253513705442354, fit_prior=False, total=   0.1s\n",
      "[CV]  alpha=0.8258497560284712, binarize=0.24547443416621506, fit_prior=False, total=   0.1s\n",
      "[CV] alpha=0.8258497560284712, binarize=0.24547443416621506, fit_prior=False \n"
     ]
    },
    {
     "name": "stderr",
     "output_type": "stream",
     "text": [
      "/scratch/clb617/anaconda3/lib/python3.6/site-packages/sklearn/metrics/classification.py:1135: UndefinedMetricWarning: F-score is ill-defined and being set to 0.0 in labels with no predicted samples.\n",
      "  'precision', 'predicted', average, warn_for)\n"
     ]
    },
    {
     "name": "stdout",
     "output_type": "stream",
     "text": [
      "[CV] alpha=0.8258497560284712, binarize=0.24547443416621506, fit_prior=False \n"
     ]
    },
    {
     "name": "stderr",
     "output_type": "stream",
     "text": [
      "/scratch/clb617/anaconda3/lib/python3.6/site-packages/sklearn/metrics/classification.py:1135: UndefinedMetricWarning: F-score is ill-defined and being set to 0.0 in labels with no predicted samples.\n",
      "  'precision', 'predicted', average, warn_for)\n"
     ]
    },
    {
     "name": "stdout",
     "output_type": "stream",
     "text": [
      "[CV]  alpha=0.8258497560284712, binarize=0.24547443416621506, fit_prior=False, total=   0.0s\n"
     ]
    },
    {
     "name": "stderr",
     "output_type": "stream",
     "text": [
      "/scratch/clb617/anaconda3/lib/python3.6/site-packages/sklearn/metrics/classification.py:1135: UndefinedMetricWarning: F-score is ill-defined and being set to 0.0 in labels with no predicted samples.\n",
      "  'precision', 'predicted', average, warn_for)\n"
     ]
    },
    {
     "name": "stdout",
     "output_type": "stream",
     "text": [
      "[CV]  alpha=0.8258497560284712, binarize=0.24547443416621506, fit_prior=False, total=   0.1s\n",
      "[CV]  alpha=0.8258497560284712, binarize=0.24547443416621506, fit_prior=False, total=   0.1s\n",
      "[CV] alpha=0.8258497560284712, binarize=0.24547443416621506, fit_prior=False \n",
      "[CV] alpha=0.8258497560284712, binarize=0.24547443416621506, fit_prior=False \n"
     ]
    },
    {
     "name": "stderr",
     "output_type": "stream",
     "text": [
      "/scratch/clb617/anaconda3/lib/python3.6/site-packages/sklearn/metrics/classification.py:1135: UndefinedMetricWarning: F-score is ill-defined and being set to 0.0 in labels with no predicted samples.\n",
      "  'precision', 'predicted', average, warn_for)\n",
      "/scratch/clb617/anaconda3/lib/python3.6/site-packages/sklearn/metrics/classification.py:1135: UndefinedMetricWarning: F-score is ill-defined and being set to 0.0 in labels with no predicted samples.\n",
      "  'precision', 'predicted', average, warn_for)\n"
     ]
    },
    {
     "name": "stdout",
     "output_type": "stream",
     "text": [
      "[CV]  alpha=0.8258497560284712, binarize=0.24547443416621506, fit_prior=False, total=   0.1s\n",
      "[CV]  alpha=0.8258497560284712, binarize=0.24547443416621506, fit_prior=False, total=   0.1s\n",
      "[CV] alpha=0.8258497560284712, binarize=0.24547443416621506, fit_prior=False \n"
     ]
    },
    {
     "name": "stderr",
     "output_type": "stream",
     "text": [
      "/scratch/clb617/anaconda3/lib/python3.6/site-packages/sklearn/metrics/classification.py:1135: UndefinedMetricWarning: F-score is ill-defined and being set to 0.0 in labels with no predicted samples.\n",
      "  'precision', 'predicted', average, warn_for)\n"
     ]
    },
    {
     "name": "stdout",
     "output_type": "stream",
     "text": [
      "[CV] alpha=0.8258497560284712, binarize=0.24547443416621506, fit_prior=False \n",
      "[CV] alpha=0.8258497560284712, binarize=0.24547443416621506, fit_prior=False \n"
     ]
    },
    {
     "name": "stderr",
     "output_type": "stream",
     "text": [
      "/scratch/clb617/anaconda3/lib/python3.6/site-packages/sklearn/metrics/classification.py:1135: UndefinedMetricWarning: F-score is ill-defined and being set to 0.0 in labels with no predicted samples.\n",
      "  'precision', 'predicted', average, warn_for)\n",
      "/scratch/clb617/anaconda3/lib/python3.6/site-packages/sklearn/metrics/classification.py:1135: UndefinedMetricWarning: F-score is ill-defined and being set to 0.0 in labels with no predicted samples.\n",
      "  'precision', 'predicted', average, warn_for)\n"
     ]
    },
    {
     "name": "stdout",
     "output_type": "stream",
     "text": [
      "[CV] alpha=0.9781643985103268, binarize=0.19554063186948323, fit_prior=True \n",
      "[CV]  alpha=0.8258497560284712, binarize=0.24547443416621506, fit_prior=False, total=   0.0s\n",
      "[CV]  alpha=0.8258497560284712, binarize=0.24547443416621506, fit_prior=False, total=   0.0s\n"
     ]
    },
    {
     "name": "stderr",
     "output_type": "stream",
     "text": [
      "/scratch/clb617/anaconda3/lib/python3.6/site-packages/sklearn/metrics/classification.py:1135: UndefinedMetricWarning: F-score is ill-defined and being set to 0.0 in labels with no predicted samples.\n",
      "  'precision', 'predicted', average, warn_for)\n"
     ]
    },
    {
     "name": "stdout",
     "output_type": "stream",
     "text": [
      "[CV]  alpha=0.8258497560284712, binarize=0.24547443416621506, fit_prior=False, total=   0.0s\n",
      "[CV]  alpha=0.9781643985103268, binarize=0.19554063186948323, fit_prior=True, total=   0.0s\n",
      "[CV] alpha=0.9781643985103268, binarize=0.19554063186948323, fit_prior=True \n",
      "[CV] alpha=0.9781643985103268, binarize=0.19554063186948323, fit_prior=True \n",
      "[CV] alpha=0.9781643985103268, binarize=0.19554063186948323, fit_prior=True \n",
      "[CV] alpha=0.9781643985103268, binarize=0.19554063186948323, fit_prior=True \n",
      "[CV] alpha=0.9781643985103268, binarize=0.19554063186948323, fit_prior=True \n"
     ]
    },
    {
     "name": "stderr",
     "output_type": "stream",
     "text": [
      "/scratch/clb617/anaconda3/lib/python3.6/site-packages/sklearn/metrics/classification.py:1135: UndefinedMetricWarning: F-score is ill-defined and being set to 0.0 in labels with no predicted samples.\n",
      "  'precision', 'predicted', average, warn_for)\n"
     ]
    },
    {
     "name": "stdout",
     "output_type": "stream",
     "text": [
      "[CV]  alpha=0.9781643985103268, binarize=0.19554063186948323, fit_prior=True, total=   0.0s\n"
     ]
    },
    {
     "name": "stderr",
     "output_type": "stream",
     "text": [
      "/scratch/clb617/anaconda3/lib/python3.6/site-packages/sklearn/metrics/classification.py:1135: UndefinedMetricWarning: F-score is ill-defined and being set to 0.0 in labels with no predicted samples.\n",
      "  'precision', 'predicted', average, warn_for)\n"
     ]
    },
    {
     "name": "stdout",
     "output_type": "stream",
     "text": [
      "[CV]  alpha=0.9781643985103268, binarize=0.19554063186948323, fit_prior=True, total=   0.1s\n",
      "[CV] alpha=0.9781643985103268, binarize=0.19554063186948323, fit_prior=True \n"
     ]
    },
    {
     "name": "stderr",
     "output_type": "stream",
     "text": [
      "/scratch/clb617/anaconda3/lib/python3.6/site-packages/sklearn/metrics/classification.py:1135: UndefinedMetricWarning: F-score is ill-defined and being set to 0.0 in labels with no predicted samples.\n",
      "  'precision', 'predicted', average, warn_for)\n"
     ]
    },
    {
     "name": "stdout",
     "output_type": "stream",
     "text": [
      "[CV] alpha=0.9781643985103268, binarize=0.19554063186948323, fit_prior=True \n"
     ]
    },
    {
     "name": "stderr",
     "output_type": "stream",
     "text": [
      "/scratch/clb617/anaconda3/lib/python3.6/site-packages/sklearn/metrics/classification.py:1135: UndefinedMetricWarning: F-score is ill-defined and being set to 0.0 in labels with no predicted samples.\n",
      "  'precision', 'predicted', average, warn_for)\n",
      "/scratch/clb617/anaconda3/lib/python3.6/site-packages/sklearn/metrics/classification.py:1135: UndefinedMetricWarning: F-score is ill-defined and being set to 0.0 in labels with no predicted samples.\n",
      "  'precision', 'predicted', average, warn_for)\n"
     ]
    },
    {
     "name": "stdout",
     "output_type": "stream",
     "text": [
      "[CV] alpha=0.9781643985103268, binarize=0.19554063186948323, fit_prior=True \n",
      "[CV] alpha=0.9781643985103268, binarize=0.19554063186948323, fit_prior=True \n"
     ]
    },
    {
     "name": "stderr",
     "output_type": "stream",
     "text": [
      "/scratch/clb617/anaconda3/lib/python3.6/site-packages/sklearn/metrics/classification.py:1135: UndefinedMetricWarning: F-score is ill-defined and being set to 0.0 in labels with no predicted samples.\n",
      "  'precision', 'predicted', average, warn_for)\n"
     ]
    },
    {
     "name": "stdout",
     "output_type": "stream",
     "text": [
      "[CV]  alpha=0.9781643985103268, binarize=0.19554063186948323, fit_prior=True, total=   0.1s\n"
     ]
    },
    {
     "name": "stderr",
     "output_type": "stream",
     "text": [
      "/scratch/clb617/anaconda3/lib/python3.6/site-packages/sklearn/metrics/classification.py:1135: UndefinedMetricWarning: F-score is ill-defined and being set to 0.0 in labels with no predicted samples.\n",
      "  'precision', 'predicted', average, warn_for)\n",
      "/scratch/clb617/anaconda3/lib/python3.6/site-packages/sklearn/metrics/classification.py:1135: UndefinedMetricWarning: F-score is ill-defined and being set to 0.0 in labels with no predicted samples.\n",
      "  'precision', 'predicted', average, warn_for)\n"
     ]
    },
    {
     "name": "stdout",
     "output_type": "stream",
     "text": [
      "[CV]  alpha=0.9781643985103268, binarize=0.19554063186948323, fit_prior=True, total=   0.1s\n",
      "[CV] alpha=0.26644210998140805, binarize=0.017318124153245296, fit_prior=False \n",
      "[CV]  alpha=0.9781643985103268, binarize=0.19554063186948323, fit_prior=True, total=   0.1s\n",
      "[CV]  alpha=0.9781643985103268, binarize=0.19554063186948323, fit_prior=True, total=   0.1s\n",
      "[CV] alpha=0.26644210998140805, binarize=0.017318124153245296, fit_prior=False \n",
      "[CV]  alpha=0.9781643985103268, binarize=0.19554063186948323, fit_prior=True, total=   0.1s\n",
      "[CV]  alpha=0.9781643985103268, binarize=0.19554063186948323, fit_prior=True, total=   0.2s\n",
      "[CV] alpha=0.26644210998140805, binarize=0.017318124153245296, fit_prior=False \n"
     ]
    },
    {
     "name": "stderr",
     "output_type": "stream",
     "text": [
      "/scratch/clb617/anaconda3/lib/python3.6/site-packages/sklearn/metrics/classification.py:1135: UndefinedMetricWarning: F-score is ill-defined and being set to 0.0 in labels with no predicted samples.\n",
      "  'precision', 'predicted', average, warn_for)\n",
      "/scratch/clb617/anaconda3/lib/python3.6/site-packages/sklearn/metrics/classification.py:1135: UndefinedMetricWarning: F-score is ill-defined and being set to 0.0 in labels with no predicted samples.\n",
      "  'precision', 'predicted', average, warn_for)\n"
     ]
    },
    {
     "name": "stdout",
     "output_type": "stream",
     "text": [
      "[CV] alpha=0.26644210998140805, binarize=0.017318124153245296, fit_prior=False \n"
     ]
    },
    {
     "name": "stderr",
     "output_type": "stream",
     "text": [
      "/scratch/clb617/anaconda3/lib/python3.6/site-packages/sklearn/metrics/classification.py:1135: UndefinedMetricWarning: F-score is ill-defined and being set to 0.0 in labels with no predicted samples.\n",
      "  'precision', 'predicted', average, warn_for)\n"
     ]
    },
    {
     "name": "stdout",
     "output_type": "stream",
     "text": [
      "[CV]  alpha=0.26644210998140805, binarize=0.017318124153245296, fit_prior=False, total=   0.1s\n"
     ]
    },
    {
     "name": "stderr",
     "output_type": "stream",
     "text": [
      "/scratch/clb617/anaconda3/lib/python3.6/site-packages/sklearn/metrics/classification.py:1135: UndefinedMetricWarning: F-score is ill-defined and being set to 0.0 in labels with no predicted samples.\n",
      "  'precision', 'predicted', average, warn_for)\n"
     ]
    },
    {
     "name": "stdout",
     "output_type": "stream",
     "text": [
      "[CV] alpha=0.26644210998140805, binarize=0.017318124153245296, fit_prior=False \n",
      "[CV] alpha=0.26644210998140805, binarize=0.017318124153245296, fit_prior=False \n"
     ]
    },
    {
     "name": "stderr",
     "output_type": "stream",
     "text": [
      "/scratch/clb617/anaconda3/lib/python3.6/site-packages/sklearn/metrics/classification.py:1135: UndefinedMetricWarning: F-score is ill-defined and being set to 0.0 in labels with no predicted samples.\n",
      "  'precision', 'predicted', average, warn_for)\n"
     ]
    },
    {
     "name": "stdout",
     "output_type": "stream",
     "text": [
      "[CV]  alpha=0.26644210998140805, binarize=0.017318124153245296, fit_prior=False, total=   0.1s\n",
      "[CV]  alpha=0.26644210998140805, binarize=0.017318124153245296, fit_prior=False, total=   0.1s\n"
     ]
    },
    {
     "name": "stderr",
     "output_type": "stream",
     "text": [
      "/scratch/clb617/anaconda3/lib/python3.6/site-packages/sklearn/metrics/classification.py:1135: UndefinedMetricWarning: F-score is ill-defined and being set to 0.0 in labels with no predicted samples.\n",
      "  'precision', 'predicted', average, warn_for)\n"
     ]
    },
    {
     "name": "stdout",
     "output_type": "stream",
     "text": [
      "[CV]  alpha=0.9781643985103268, binarize=0.19554063186948323, fit_prior=True, total=   0.5s\n",
      "[CV]  alpha=0.26644210998140805, binarize=0.017318124153245296, fit_prior=False, total=   0.1s\n",
      "[CV] alpha=0.26644210998140805, binarize=0.017318124153245296, fit_prior=False \n",
      "[CV] alpha=0.26644210998140805, binarize=0.017318124153245296, fit_prior=False \n"
     ]
    },
    {
     "name": "stderr",
     "output_type": "stream",
     "text": [
      "/scratch/clb617/anaconda3/lib/python3.6/site-packages/sklearn/metrics/classification.py:1135: UndefinedMetricWarning: F-score is ill-defined and being set to 0.0 in labels with no predicted samples.\n",
      "  'precision', 'predicted', average, warn_for)\n"
     ]
    },
    {
     "name": "stdout",
     "output_type": "stream",
     "text": [
      "[CV]  alpha=0.26644210998140805, binarize=0.017318124153245296, fit_prior=False, total=   0.1s\n",
      "[CV] alpha=0.26644210998140805, binarize=0.017318124153245296, fit_prior=False \n"
     ]
    },
    {
     "name": "stderr",
     "output_type": "stream",
     "text": [
      "/scratch/clb617/anaconda3/lib/python3.6/site-packages/sklearn/metrics/classification.py:1135: UndefinedMetricWarning: F-score is ill-defined and being set to 0.0 in labels with no predicted samples.\n",
      "  'precision', 'predicted', average, warn_for)\n",
      "/scratch/clb617/anaconda3/lib/python3.6/site-packages/sklearn/metrics/classification.py:1135: UndefinedMetricWarning: F-score is ill-defined and being set to 0.0 in labels with no predicted samples.\n",
      "  'precision', 'predicted', average, warn_for)\n"
     ]
    },
    {
     "name": "stdout",
     "output_type": "stream",
     "text": [
      "[CV]  alpha=0.26644210998140805, binarize=0.017318124153245296, fit_prior=False, total=   0.0s\n",
      "[CV]  alpha=0.26644210998140805, binarize=0.017318124153245296, fit_prior=False, total=   0.2s\n",
      "[CV] alpha=0.26644210998140805, binarize=0.017318124153245296, fit_prior=False \n"
     ]
    },
    {
     "name": "stderr",
     "output_type": "stream",
     "text": [
      "/scratch/clb617/anaconda3/lib/python3.6/site-packages/sklearn/metrics/classification.py:1135: UndefinedMetricWarning: F-score is ill-defined and being set to 0.0 in labels with no predicted samples.\n",
      "  'precision', 'predicted', average, warn_for)\n"
     ]
    },
    {
     "name": "stdout",
     "output_type": "stream",
     "text": [
      "[CV]  alpha=0.26644210998140805, binarize=0.017318124153245296, fit_prior=False, total=   0.1s\n",
      "[CV] alpha=0.046883394345437424, binarize=0.5815620295906744, fit_prior=True \n",
      "[CV] alpha=0.046883394345437424, binarize=0.5815620295906744, fit_prior=True \n",
      "[CV] alpha=0.046883394345437424, binarize=0.5815620295906744, fit_prior=True \n",
      "[CV] alpha=0.046883394345437424, binarize=0.5815620295906744, fit_prior=True \n"
     ]
    },
    {
     "name": "stderr",
     "output_type": "stream",
     "text": [
      "/scratch/clb617/anaconda3/lib/python3.6/site-packages/sklearn/metrics/classification.py:1135: UndefinedMetricWarning: F-score is ill-defined and being set to 0.0 in labels with no predicted samples.\n",
      "  'precision', 'predicted', average, warn_for)\n",
      "/scratch/clb617/anaconda3/lib/python3.6/site-packages/sklearn/metrics/classification.py:1135: UndefinedMetricWarning: F-score is ill-defined and being set to 0.0 in labels with no predicted samples.\n",
      "  'precision', 'predicted', average, warn_for)\n"
     ]
    },
    {
     "name": "stdout",
     "output_type": "stream",
     "text": [
      "[CV]  alpha=0.26644210998140805, binarize=0.017318124153245296, fit_prior=False, total=   0.1s\n"
     ]
    },
    {
     "name": "stderr",
     "output_type": "stream",
     "text": [
      "/scratch/clb617/anaconda3/lib/python3.6/site-packages/sklearn/metrics/classification.py:1135: UndefinedMetricWarning: F-score is ill-defined and being set to 0.0 in labels with no predicted samples.\n",
      "  'precision', 'predicted', average, warn_for)\n",
      "/scratch/clb617/anaconda3/lib/python3.6/site-packages/sklearn/metrics/classification.py:1135: UndefinedMetricWarning: F-score is ill-defined and being set to 0.0 in labels with no predicted samples.\n",
      "  'precision', 'predicted', average, warn_for)\n",
      "/scratch/clb617/anaconda3/lib/python3.6/site-packages/sklearn/metrics/classification.py:1135: UndefinedMetricWarning: F-score is ill-defined and being set to 0.0 in labels with no predicted samples.\n",
      "  'precision', 'predicted', average, warn_for)\n"
     ]
    },
    {
     "name": "stdout",
     "output_type": "stream",
     "text": [
      "[CV]  alpha=0.046883394345437424, binarize=0.5815620295906744, fit_prior=True, total=   0.0s\n",
      "[CV]  alpha=0.046883394345437424, binarize=0.5815620295906744, fit_prior=True, total=   0.1s\n",
      "[CV]  alpha=0.046883394345437424, binarize=0.5815620295906744, fit_prior=True, total=   0.1s\n",
      "[CV]  alpha=0.26644210998140805, binarize=0.017318124153245296, fit_prior=False, total=   0.1s\n",
      "[CV]  alpha=0.046883394345437424, binarize=0.5815620295906744, fit_prior=True, total=   0.1s\n",
      "[CV] alpha=0.046883394345437424, binarize=0.5815620295906744, fit_prior=True \n"
     ]
    },
    {
     "name": "stderr",
     "output_type": "stream",
     "text": [
      "/scratch/clb617/anaconda3/lib/python3.6/site-packages/sklearn/metrics/classification.py:1135: UndefinedMetricWarning: F-score is ill-defined and being set to 0.0 in labels with no predicted samples.\n",
      "  'precision', 'predicted', average, warn_for)\n"
     ]
    },
    {
     "name": "stdout",
     "output_type": "stream",
     "text": [
      "[CV]  alpha=0.046883394345437424, binarize=0.5815620295906744, fit_prior=True, total=   0.0s\n",
      "[CV] alpha=0.046883394345437424, binarize=0.5815620295906744, fit_prior=True \n",
      "[CV] alpha=0.046883394345437424, binarize=0.5815620295906744, fit_prior=True \n",
      "[CV] alpha=0.046883394345437424, binarize=0.5815620295906744, fit_prior=True \n",
      "[CV] alpha=0.046883394345437424, binarize=0.5815620295906744, fit_prior=True \n"
     ]
    },
    {
     "name": "stderr",
     "output_type": "stream",
     "text": [
      "/scratch/clb617/anaconda3/lib/python3.6/site-packages/sklearn/metrics/classification.py:1135: UndefinedMetricWarning: F-score is ill-defined and being set to 0.0 in labels with no predicted samples.\n",
      "  'precision', 'predicted', average, warn_for)\n",
      "/scratch/clb617/anaconda3/lib/python3.6/site-packages/sklearn/metrics/classification.py:1135: UndefinedMetricWarning: F-score is ill-defined and being set to 0.0 in labels with no predicted samples.\n",
      "  'precision', 'predicted', average, warn_for)\n"
     ]
    },
    {
     "name": "stdout",
     "output_type": "stream",
     "text": [
      "[CV]  alpha=0.046883394345437424, binarize=0.5815620295906744, fit_prior=True, total=   0.0s\n",
      "[CV]  alpha=0.046883394345437424, binarize=0.5815620295906744, fit_prior=True, total=   0.0s\n"
     ]
    },
    {
     "name": "stderr",
     "output_type": "stream",
     "text": [
      "/scratch/clb617/anaconda3/lib/python3.6/site-packages/sklearn/metrics/classification.py:1135: UndefinedMetricWarning: F-score is ill-defined and being set to 0.0 in labels with no predicted samples.\n",
      "  'precision', 'predicted', average, warn_for)\n"
     ]
    },
    {
     "name": "stdout",
     "output_type": "stream",
     "text": [
      "[CV]  alpha=0.046883394345437424, binarize=0.5815620295906744, fit_prior=True, total=   0.1s\n"
     ]
    },
    {
     "name": "stderr",
     "output_type": "stream",
     "text": [
      "/scratch/clb617/anaconda3/lib/python3.6/site-packages/sklearn/metrics/classification.py:1135: UndefinedMetricWarning: F-score is ill-defined and being set to 0.0 in labels with no predicted samples.\n",
      "  'precision', 'predicted', average, warn_for)\n"
     ]
    },
    {
     "name": "stdout",
     "output_type": "stream",
     "text": [
      "[CV]  alpha=0.046883394345437424, binarize=0.5815620295906744, fit_prior=True, total=   0.1s\n",
      "[CV] alpha=0.046883394345437424, binarize=0.5815620295906744, fit_prior=True \n",
      "[CV] alpha=0.4672433047691861, binarize=0.3830022169675653, fit_prior=True \n",
      "[CV] alpha=0.4672433047691861, binarize=0.3830022169675653, fit_prior=True \n"
     ]
    },
    {
     "name": "stderr",
     "output_type": "stream",
     "text": [
      "/scratch/clb617/anaconda3/lib/python3.6/site-packages/sklearn/metrics/classification.py:1135: UndefinedMetricWarning: F-score is ill-defined and being set to 0.0 in labels with no predicted samples.\n",
      "  'precision', 'predicted', average, warn_for)\n"
     ]
    },
    {
     "name": "stdout",
     "output_type": "stream",
     "text": [
      "[CV]  alpha=0.4672433047691861, binarize=0.3830022169675653, fit_prior=True, total=   0.0s\n",
      "[CV] alpha=0.4672433047691861, binarize=0.3830022169675653, fit_prior=True \n",
      "[CV] alpha=0.4672433047691861, binarize=0.3830022169675653, fit_prior=True \n"
     ]
    },
    {
     "name": "stderr",
     "output_type": "stream",
     "text": [
      "/scratch/clb617/anaconda3/lib/python3.6/site-packages/sklearn/metrics/classification.py:1135: UndefinedMetricWarning: F-score is ill-defined and being set to 0.0 in labels with no predicted samples.\n",
      "  'precision', 'predicted', average, warn_for)\n",
      "/scratch/clb617/anaconda3/lib/python3.6/site-packages/sklearn/metrics/classification.py:1135: UndefinedMetricWarning: F-score is ill-defined and being set to 0.0 in labels with no predicted samples.\n",
      "  'precision', 'predicted', average, warn_for)\n"
     ]
    },
    {
     "name": "stdout",
     "output_type": "stream",
     "text": [
      "[CV]  alpha=0.4672433047691861, binarize=0.3830022169675653, fit_prior=True, total=   0.0s\n"
     ]
    },
    {
     "name": "stderr",
     "output_type": "stream",
     "text": [
      "/scratch/clb617/anaconda3/lib/python3.6/site-packages/sklearn/metrics/classification.py:1135: UndefinedMetricWarning: F-score is ill-defined and being set to 0.0 in labels with no predicted samples.\n",
      "  'precision', 'predicted', average, warn_for)\n",
      "/scratch/clb617/anaconda3/lib/python3.6/site-packages/sklearn/metrics/classification.py:1135: UndefinedMetricWarning: F-score is ill-defined and being set to 0.0 in labels with no predicted samples.\n",
      "  'precision', 'predicted', average, warn_for)\n"
     ]
    },
    {
     "name": "stdout",
     "output_type": "stream",
     "text": [
      "[CV]  alpha=0.4672433047691861, binarize=0.3830022169675653, fit_prior=True, total=   0.1s\n",
      "[CV]  alpha=0.046883394345437424, binarize=0.5815620295906744, fit_prior=True, total=   0.1s\n",
      "[CV] alpha=0.4672433047691861, binarize=0.3830022169675653, fit_prior=True \n"
     ]
    },
    {
     "name": "stderr",
     "output_type": "stream",
     "text": [
      "/scratch/clb617/anaconda3/lib/python3.6/site-packages/sklearn/metrics/classification.py:1135: UndefinedMetricWarning: F-score is ill-defined and being set to 0.0 in labels with no predicted samples.\n",
      "  'precision', 'predicted', average, warn_for)\n"
     ]
    },
    {
     "name": "stdout",
     "output_type": "stream",
     "text": [
      "[CV]  alpha=0.4672433047691861, binarize=0.3830022169675653, fit_prior=True, total=   0.0s\n",
      "[CV]  alpha=0.4672433047691861, binarize=0.3830022169675653, fit_prior=True, total=   0.1s\n",
      "[CV] alpha=0.4672433047691861, binarize=0.3830022169675653, fit_prior=True \n",
      "[CV] alpha=0.4672433047691861, binarize=0.3830022169675653, fit_prior=True \n",
      "[CV] alpha=0.4672433047691861, binarize=0.3830022169675653, fit_prior=True \n",
      "[CV] alpha=0.4672433047691861, binarize=0.3830022169675653, fit_prior=True \n"
     ]
    },
    {
     "name": "stderr",
     "output_type": "stream",
     "text": [
      "/scratch/clb617/anaconda3/lib/python3.6/site-packages/sklearn/metrics/classification.py:1135: UndefinedMetricWarning: F-score is ill-defined and being set to 0.0 in labels with no predicted samples.\n",
      "  'precision', 'predicted', average, warn_for)\n",
      "/scratch/clb617/anaconda3/lib/python3.6/site-packages/sklearn/metrics/classification.py:1135: UndefinedMetricWarning: F-score is ill-defined and being set to 0.0 in labels with no predicted samples.\n",
      "  'precision', 'predicted', average, warn_for)\n"
     ]
    },
    {
     "name": "stdout",
     "output_type": "stream",
     "text": [
      "[CV] alpha=0.32646239738693617, binarize=0.6513033496392251, fit_prior=True \n",
      "[CV] alpha=0.4672433047691861, binarize=0.3830022169675653, fit_prior=True \n",
      "[CV] alpha=0.32646239738693617, binarize=0.6513033496392251, fit_prior=True \n"
     ]
    },
    {
     "name": "stderr",
     "output_type": "stream",
     "text": [
      "/scratch/clb617/anaconda3/lib/python3.6/site-packages/sklearn/metrics/classification.py:1135: UndefinedMetricWarning: F-score is ill-defined and being set to 0.0 in labels with no predicted samples.\n",
      "  'precision', 'predicted', average, warn_for)\n"
     ]
    },
    {
     "name": "stdout",
     "output_type": "stream",
     "text": [
      "[CV]  alpha=0.4672433047691861, binarize=0.3830022169675653, fit_prior=True, total=   0.0s\n",
      "[CV]  alpha=0.32646239738693617, binarize=0.6513033496392251, fit_prior=True, total=   0.0s\n",
      "[CV]  alpha=0.4672433047691861, binarize=0.3830022169675653, fit_prior=True, total=   0.1s\n"
     ]
    },
    {
     "name": "stderr",
     "output_type": "stream",
     "text": [
      "/scratch/clb617/anaconda3/lib/python3.6/site-packages/sklearn/metrics/classification.py:1135: UndefinedMetricWarning: F-score is ill-defined and being set to 0.0 in labels with no predicted samples.\n",
      "  'precision', 'predicted', average, warn_for)\n",
      "/scratch/clb617/anaconda3/lib/python3.6/site-packages/sklearn/metrics/classification.py:1135: UndefinedMetricWarning: F-score is ill-defined and being set to 0.0 in labels with no predicted samples.\n",
      "  'precision', 'predicted', average, warn_for)\n",
      "/scratch/clb617/anaconda3/lib/python3.6/site-packages/sklearn/metrics/classification.py:1135: UndefinedMetricWarning: F-score is ill-defined and being set to 0.0 in labels with no predicted samples.\n",
      "  'precision', 'predicted', average, warn_for)\n"
     ]
    },
    {
     "name": "stdout",
     "output_type": "stream",
     "text": [
      "[CV] alpha=0.32646239738693617, binarize=0.6513033496392251, fit_prior=True \n",
      "[CV]  alpha=0.4672433047691861, binarize=0.3830022169675653, fit_prior=True, total=   0.1s\n",
      "[CV] alpha=0.32646239738693617, binarize=0.6513033496392251, fit_prior=True \n",
      "[CV]  alpha=0.4672433047691861, binarize=0.3830022169675653, fit_prior=True, total=   0.2s\n"
     ]
    },
    {
     "name": "stderr",
     "output_type": "stream",
     "text": [
      "/scratch/clb617/anaconda3/lib/python3.6/site-packages/sklearn/metrics/classification.py:1135: UndefinedMetricWarning: F-score is ill-defined and being set to 0.0 in labels with no predicted samples.\n",
      "  'precision', 'predicted', average, warn_for)\n"
     ]
    },
    {
     "name": "stdout",
     "output_type": "stream",
     "text": [
      "[CV] alpha=0.32646239738693617, binarize=0.6513033496392251, fit_prior=True \n"
     ]
    },
    {
     "name": "stderr",
     "output_type": "stream",
     "text": [
      "/scratch/clb617/anaconda3/lib/python3.6/site-packages/sklearn/metrics/classification.py:1135: UndefinedMetricWarning: F-score is ill-defined and being set to 0.0 in labels with no predicted samples.\n",
      "  'precision', 'predicted', average, warn_for)\n"
     ]
    },
    {
     "name": "stdout",
     "output_type": "stream",
     "text": [
      "[CV] alpha=0.32646239738693617, binarize=0.6513033496392251, fit_prior=True \n",
      "[CV]  alpha=0.4672433047691861, binarize=0.3830022169675653, fit_prior=True, total=   0.2s\n"
     ]
    },
    {
     "name": "stderr",
     "output_type": "stream",
     "text": [
      "/scratch/clb617/anaconda3/lib/python3.6/site-packages/sklearn/metrics/classification.py:1135: UndefinedMetricWarning: F-score is ill-defined and being set to 0.0 in labels with no predicted samples.\n",
      "  'precision', 'predicted', average, warn_for)\n",
      "/scratch/clb617/anaconda3/lib/python3.6/site-packages/sklearn/metrics/classification.py:1135: UndefinedMetricWarning: F-score is ill-defined and being set to 0.0 in labels with no predicted samples.\n",
      "  'precision', 'predicted', average, warn_for)\n"
     ]
    },
    {
     "name": "stdout",
     "output_type": "stream",
     "text": [
      "[CV]  alpha=0.32646239738693617, binarize=0.6513033496392251, fit_prior=True, total=   0.1s\n"
     ]
    },
    {
     "name": "stderr",
     "output_type": "stream",
     "text": [
      "/scratch/clb617/anaconda3/lib/python3.6/site-packages/sklearn/metrics/classification.py:1135: UndefinedMetricWarning: F-score is ill-defined and being set to 0.0 in labels with no predicted samples.\n",
      "  'precision', 'predicted', average, warn_for)\n"
     ]
    },
    {
     "name": "stdout",
     "output_type": "stream",
     "text": [
      "[CV]  alpha=0.32646239738693617, binarize=0.6513033496392251, fit_prior=True, total=   0.1s\n",
      "[CV]  alpha=0.32646239738693617, binarize=0.6513033496392251, fit_prior=True, total=   0.1s\n",
      "[CV]  alpha=0.32646239738693617, binarize=0.6513033496392251, fit_prior=True, total=   0.0s\n",
      "[CV] alpha=0.32646239738693617, binarize=0.6513033496392251, fit_prior=True \n",
      "[CV]  alpha=0.32646239738693617, binarize=0.6513033496392251, fit_prior=True, total=   0.2s\n"
     ]
    },
    {
     "name": "stderr",
     "output_type": "stream",
     "text": [
      "/scratch/clb617/anaconda3/lib/python3.6/site-packages/sklearn/metrics/classification.py:1135: UndefinedMetricWarning: F-score is ill-defined and being set to 0.0 in labels with no predicted samples.\n",
      "  'precision', 'predicted', average, warn_for)\n"
     ]
    },
    {
     "name": "stdout",
     "output_type": "stream",
     "text": [
      "[CV] alpha=0.32646239738693617, binarize=0.6513033496392251, fit_prior=True \n",
      "[CV]  alpha=0.32646239738693617, binarize=0.6513033496392251, fit_prior=True, total=   0.0s\n"
     ]
    },
    {
     "name": "stderr",
     "output_type": "stream",
     "text": [
      "/scratch/clb617/anaconda3/lib/python3.6/site-packages/sklearn/metrics/classification.py:1135: UndefinedMetricWarning: F-score is ill-defined and being set to 0.0 in labels with no predicted samples.\n",
      "  'precision', 'predicted', average, warn_for)\n"
     ]
    },
    {
     "name": "stdout",
     "output_type": "stream",
     "text": [
      "[CV] alpha=0.32646239738693617, binarize=0.6513033496392251, fit_prior=True \n",
      "[CV]  alpha=0.32646239738693617, binarize=0.6513033496392251, fit_prior=True, total=   0.0s\n",
      "[CV] alpha=0.32646239738693617, binarize=0.6513033496392251, fit_prior=True \n"
     ]
    },
    {
     "name": "stderr",
     "output_type": "stream",
     "text": [
      "/scratch/clb617/anaconda3/lib/python3.6/site-packages/sklearn/metrics/classification.py:1135: UndefinedMetricWarning: F-score is ill-defined and being set to 0.0 in labels with no predicted samples.\n",
      "  'precision', 'predicted', average, warn_for)\n"
     ]
    },
    {
     "name": "stdout",
     "output_type": "stream",
     "text": [
      "[CV] alpha=0.6796389170853477, binarize=0.6798354964548803, fit_prior=True \n"
     ]
    },
    {
     "name": "stderr",
     "output_type": "stream",
     "text": [
      "/scratch/clb617/anaconda3/lib/python3.6/site-packages/sklearn/metrics/classification.py:1135: UndefinedMetricWarning: F-score is ill-defined and being set to 0.0 in labels with no predicted samples.\n",
      "  'precision', 'predicted', average, warn_for)\n",
      "/scratch/clb617/anaconda3/lib/python3.6/site-packages/sklearn/metrics/classification.py:1135: UndefinedMetricWarning: F-score is ill-defined and being set to 0.0 in labels with no predicted samples.\n",
      "  'precision', 'predicted', average, warn_for)\n"
     ]
    },
    {
     "name": "stdout",
     "output_type": "stream",
     "text": [
      "[CV]  alpha=0.6796389170853477, binarize=0.6798354964548803, fit_prior=True, total=   0.0s\n",
      "[CV]  alpha=0.32646239738693617, binarize=0.6513033496392251, fit_prior=True, total=   0.0s\n",
      "[CV] alpha=0.6796389170853477, binarize=0.6798354964548803, fit_prior=True \n",
      "[CV] alpha=0.6796389170853477, binarize=0.6798354964548803, fit_prior=True \n"
     ]
    },
    {
     "name": "stderr",
     "output_type": "stream",
     "text": [
      "/scratch/clb617/anaconda3/lib/python3.6/site-packages/sklearn/metrics/classification.py:1135: UndefinedMetricWarning: F-score is ill-defined and being set to 0.0 in labels with no predicted samples.\n",
      "  'precision', 'predicted', average, warn_for)\n"
     ]
    },
    {
     "name": "stdout",
     "output_type": "stream",
     "text": [
      "[CV]  alpha=0.32646239738693617, binarize=0.6513033496392251, fit_prior=True, total=   0.1s\n",
      "[CV]  alpha=0.6796389170853477, binarize=0.6798354964548803, fit_prior=True, total=   0.0s\n"
     ]
    },
    {
     "name": "stderr",
     "output_type": "stream",
     "text": [
      "/scratch/clb617/anaconda3/lib/python3.6/site-packages/sklearn/metrics/classification.py:1135: UndefinedMetricWarning: F-score is ill-defined and being set to 0.0 in labels with no predicted samples.\n",
      "  'precision', 'predicted', average, warn_for)\n"
     ]
    },
    {
     "name": "stdout",
     "output_type": "stream",
     "text": [
      "[CV] alpha=0.6796389170853477, binarize=0.6798354964548803, fit_prior=True \n",
      "[CV] alpha=0.6796389170853477, binarize=0.6798354964548803, fit_prior=True \n",
      "[CV]  alpha=0.6796389170853477, binarize=0.6798354964548803, fit_prior=True, total=   0.1s\n"
     ]
    },
    {
     "name": "stderr",
     "output_type": "stream",
     "text": [
      "/scratch/clb617/anaconda3/lib/python3.6/site-packages/sklearn/metrics/classification.py:1135: UndefinedMetricWarning: F-score is ill-defined and being set to 0.0 in labels with no predicted samples.\n",
      "  'precision', 'predicted', average, warn_for)\n"
     ]
    },
    {
     "name": "stdout",
     "output_type": "stream",
     "text": [
      "[CV]  alpha=0.6796389170853477, binarize=0.6798354964548803, fit_prior=True, total=   0.0s\n",
      "[CV] alpha=0.6796389170853477, binarize=0.6798354964548803, fit_prior=True \n",
      "[CV] alpha=0.6796389170853477, binarize=0.6798354964548803, fit_prior=True \n",
      "[CV] alpha=0.6796389170853477, binarize=0.6798354964548803, fit_prior=True \n"
     ]
    },
    {
     "name": "stderr",
     "output_type": "stream",
     "text": [
      "/scratch/clb617/anaconda3/lib/python3.6/site-packages/sklearn/metrics/classification.py:1135: UndefinedMetricWarning: F-score is ill-defined and being set to 0.0 in labels with no predicted samples.\n",
      "  'precision', 'predicted', average, warn_for)\n",
      "/scratch/clb617/anaconda3/lib/python3.6/site-packages/sklearn/metrics/classification.py:1135: UndefinedMetricWarning: F-score is ill-defined and being set to 0.0 in labels with no predicted samples.\n",
      "  'precision', 'predicted', average, warn_for)\n",
      "/scratch/clb617/anaconda3/lib/python3.6/site-packages/sklearn/metrics/classification.py:1135: UndefinedMetricWarning: F-score is ill-defined and being set to 0.0 in labels with no predicted samples.\n",
      "  'precision', 'predicted', average, warn_for)\n"
     ]
    },
    {
     "name": "stdout",
     "output_type": "stream",
     "text": [
      "[CV]  alpha=0.6796389170853477, binarize=0.6798354964548803, fit_prior=True, total=   0.0s\n",
      "[CV]  alpha=0.6796389170853477, binarize=0.6798354964548803, fit_prior=True, total=   0.1s\n",
      "[CV] alpha=0.6796389170853477, binarize=0.6798354964548803, fit_prior=True \n",
      "[CV]  alpha=0.6796389170853477, binarize=0.6798354964548803, fit_prior=True, total=   0.1s\n",
      "[CV] alpha=0.6796389170853477, binarize=0.6798354964548803, fit_prior=True \n"
     ]
    },
    {
     "name": "stderr",
     "output_type": "stream",
     "text": [
      "/scratch/clb617/anaconda3/lib/python3.6/site-packages/sklearn/metrics/classification.py:1135: UndefinedMetricWarning: F-score is ill-defined and being set to 0.0 in labels with no predicted samples.\n",
      "  'precision', 'predicted', average, warn_for)\n",
      "/scratch/clb617/anaconda3/lib/python3.6/site-packages/sklearn/metrics/classification.py:1135: UndefinedMetricWarning: F-score is ill-defined and being set to 0.0 in labels with no predicted samples.\n",
      "  'precision', 'predicted', average, warn_for)\n",
      "/scratch/clb617/anaconda3/lib/python3.6/site-packages/sklearn/metrics/classification.py:1135: UndefinedMetricWarning: F-score is ill-defined and being set to 0.0 in labels with no predicted samples.\n",
      "  'precision', 'predicted', average, warn_for)\n"
     ]
    },
    {
     "name": "stdout",
     "output_type": "stream",
     "text": [
      "[CV]  alpha=0.6796389170853477, binarize=0.6798354964548803, fit_prior=True, total=   0.0s\n",
      "[CV]  alpha=0.6796389170853477, binarize=0.6798354964548803, fit_prior=True, total=   0.2s\n",
      "[CV]  alpha=0.6796389170853477, binarize=0.6798354964548803, fit_prior=True, total=   0.1s\n"
     ]
    },
    {
     "name": "stderr",
     "output_type": "stream",
     "text": [
      "[Parallel(n_jobs=-1)]: Done 1280 out of 1280 | elapsed:   50.0s finished\n"
     ]
    },
    {
     "data": {
      "text/plain": [
       "(0.27079883474489624,\n",
       " {'alpha': 0.29236054513981746,\n",
       "  'binarize': 0.0024243834476879167,\n",
       "  'fit_prior': True})"
      ]
     },
     "execution_count": 36,
     "metadata": {},
     "output_type": "execute_result"
    }
   ],
   "source": [
    "search_results = model_eval_nb(X_data, y_data, n_iter_search=128)\n",
    "search_results"
   ]
  },
  {
   "cell_type": "code",
   "execution_count": 37,
   "metadata": {},
   "outputs": [
    {
     "data": {
      "text/plain": [
       "(0.27079883474489624,\n",
       " {'alpha': 0.29236054513981746,\n",
       "  'binarize': 0.0024243834476879167,\n",
       "  'fit_prior': True})"
      ]
     },
     "execution_count": 37,
     "metadata": {},
     "output_type": "execute_result"
    }
   ],
   "source": [
    "search_results"
   ]
  },
  {
   "cell_type": "code",
   "execution_count": null,
   "metadata": {},
   "outputs": [],
   "source": []
  },
  {
   "cell_type": "code",
   "execution_count": null,
   "metadata": {},
   "outputs": [],
   "source": [
    "# Run Classifier"
   ]
  },
  {
   "cell_type": "code",
   "execution_count": 39,
   "metadata": {},
   "outputs": [
    {
     "data": {
      "text/plain": [
       "BernoulliNB(alpha=0.29236054513981746, binarize=0.0024243834476879167,\n",
       "      class_prior=None, fit_prior=True)"
      ]
     },
     "execution_count": 39,
     "metadata": {},
     "output_type": "execute_result"
    }
   ],
   "source": [
    "fitted_model = BernoulliNB(**nb_params)\n",
    "fitted_model.fit(X_data, y_data)"
   ]
  },
  {
   "cell_type": "code",
   "execution_count": 42,
   "metadata": {},
   "outputs": [
    {
     "name": "stdout",
     "output_type": "stream",
     "text": [
      "(21617, 216)\n"
     ]
    }
   ],
   "source": [
    "test_tweets = []\n",
    "with gzip.open(\"../data/rehydrated_test_tweets.json.gz\", \"r\") as in_file:\n",
    "    for line_bytes in in_file:\n",
    "        line = line_bytes.decode(\"utf8\")\n",
    "        tweet = json.loads(line)\n",
    "        test_tweets.append(tweet)\n",
    "        \n",
    "X_test_ft_ = [vectorize(s) for s in [t[\"text\"] for t in test_tweets]]\n",
    "X_test_ft_ = np.array([x for x in X_test_ft_])\n",
    "\n",
    "X_test_other = np.array([other_features(tweet) for tweet in test_tweets])\n",
    "\n",
    "X_test_data = np.concatenate([\n",
    "    X_test_ft_, \n",
    "    X_test_other, \n",
    "], axis=1)\n",
    "\n",
    "print(X_test_data.shape)"
   ]
  },
  {
   "cell_type": "code",
   "execution_count": 43,
   "metadata": {},
   "outputs": [],
   "source": [
    "y_test_labels = fitted_model.predict(X_test_data)"
   ]
  },
  {
   "cell_type": "code",
   "execution_count": 44,
   "metadata": {},
   "outputs": [],
   "source": [
    "labeled_test_data = list(zip([t[\"id\"] for t in test_tweets], y_test_labels))"
   ]
  },
  {
   "cell_type": "code",
   "execution_count": 45,
   "metadata": {},
   "outputs": [],
   "source": [
    "id_to_cat_map = {y:x for x,y in category_to_label.items()}"
   ]
  },
  {
   "cell_type": "code",
   "execution_count": 46,
   "metadata": {},
   "outputs": [
    {
     "data": {
      "text/html": [
       "<div>\n",
       "<style scoped>\n",
       "    .dataframe tbody tr th:only-of-type {\n",
       "        vertical-align: middle;\n",
       "    }\n",
       "\n",
       "    .dataframe tbody tr th {\n",
       "        vertical-align: top;\n",
       "    }\n",
       "\n",
       "    .dataframe thead th {\n",
       "        text-align: right;\n",
       "    }\n",
       "</style>\n",
       "<table border=\"1\" class=\"dataframe\">\n",
       "  <thead>\n",
       "    <tr style=\"text-align: right;\">\n",
       "      <th></th>\n",
       "      <th>tweet_id</th>\n",
       "    </tr>\n",
       "    <tr>\n",
       "      <th>label</th>\n",
       "      <th></th>\n",
       "    </tr>\n",
       "  </thead>\n",
       "  <tbody>\n",
       "    <tr>\n",
       "      <th>Advice</th>\n",
       "      <td>1599</td>\n",
       "    </tr>\n",
       "    <tr>\n",
       "      <th>ContinuingNews</th>\n",
       "      <td>3832</td>\n",
       "    </tr>\n",
       "    <tr>\n",
       "      <th>Discussion</th>\n",
       "      <td>749</td>\n",
       "    </tr>\n",
       "    <tr>\n",
       "      <th>Donations</th>\n",
       "      <td>1101</td>\n",
       "    </tr>\n",
       "    <tr>\n",
       "      <th>EmergingThreats</th>\n",
       "      <td>455</td>\n",
       "    </tr>\n",
       "    <tr>\n",
       "      <th>Factoid</th>\n",
       "      <td>937</td>\n",
       "    </tr>\n",
       "    <tr>\n",
       "      <th>FirstPartyObservation</th>\n",
       "      <td>155</td>\n",
       "    </tr>\n",
       "    <tr>\n",
       "      <th>InformationWanted</th>\n",
       "      <td>39</td>\n",
       "    </tr>\n",
       "    <tr>\n",
       "      <th>Irrelevant</th>\n",
       "      <td>3031</td>\n",
       "    </tr>\n",
       "    <tr>\n",
       "      <th>KnownAlready</th>\n",
       "      <td>249</td>\n",
       "    </tr>\n",
       "    <tr>\n",
       "      <th>MovePeople</th>\n",
       "      <td>69</td>\n",
       "    </tr>\n",
       "    <tr>\n",
       "      <th>MultimediaShare</th>\n",
       "      <td>2449</td>\n",
       "    </tr>\n",
       "    <tr>\n",
       "      <th>Official</th>\n",
       "      <td>125</td>\n",
       "    </tr>\n",
       "    <tr>\n",
       "      <th>PastNews</th>\n",
       "      <td>71</td>\n",
       "    </tr>\n",
       "    <tr>\n",
       "      <th>Sentiment</th>\n",
       "      <td>5545</td>\n",
       "    </tr>\n",
       "    <tr>\n",
       "      <th>ServiceAvailable</th>\n",
       "      <td>107</td>\n",
       "    </tr>\n",
       "    <tr>\n",
       "      <th>SignificantEventChange</th>\n",
       "      <td>115</td>\n",
       "    </tr>\n",
       "    <tr>\n",
       "      <th>ThirdPartyObservation</th>\n",
       "      <td>117</td>\n",
       "    </tr>\n",
       "    <tr>\n",
       "      <th>Unknown</th>\n",
       "      <td>174</td>\n",
       "    </tr>\n",
       "    <tr>\n",
       "      <th>Weather</th>\n",
       "      <td>698</td>\n",
       "    </tr>\n",
       "  </tbody>\n",
       "</table>\n",
       "</div>"
      ],
      "text/plain": [
       "                        tweet_id\n",
       "label                           \n",
       "Advice                      1599\n",
       "ContinuingNews              3832\n",
       "Discussion                   749\n",
       "Donations                   1101\n",
       "EmergingThreats              455\n",
       "Factoid                      937\n",
       "FirstPartyObservation        155\n",
       "InformationWanted             39\n",
       "Irrelevant                  3031\n",
       "KnownAlready                 249\n",
       "MovePeople                    69\n",
       "MultimediaShare             2449\n",
       "Official                     125\n",
       "PastNews                      71\n",
       "Sentiment                   5545\n",
       "ServiceAvailable             107\n",
       "SignificantEventChange       115\n",
       "ThirdPartyObservation        117\n",
       "Unknown                      174\n",
       "Weather                      698"
      ]
     },
     "execution_count": 46,
     "metadata": {},
     "output_type": "execute_result"
    }
   ],
   "source": [
    "df = pd.DataFrame([{\"tweet_id\":tup[0], \"label\": id_to_cat_map[tup[1]]} for tup in labeled_test_data])\n",
    "df.groupby(\"label\").count()"
   ]
  },
  {
   "cell_type": "code",
   "execution_count": 47,
   "metadata": {},
   "outputs": [],
   "source": [
    "df.to_csv(\"trec2018_test_results_run_fasttext.csv\", index=None)"
   ]
  },
  {
   "cell_type": "code",
   "execution_count": null,
   "metadata": {},
   "outputs": [],
   "source": []
  }
 ],
 "metadata": {
  "kernelspec": {
   "display_name": "Python 3",
   "language": "python",
   "name": "python3"
  },
  "language_info": {
   "codemirror_mode": {
    "name": "ipython",
    "version": 3
   },
   "file_extension": ".py",
   "mimetype": "text/x-python",
   "name": "python",
   "nbconvert_exporter": "python",
   "pygments_lexer": "ipython3",
   "version": "3.7.0"
  }
 },
 "nbformat": 4,
 "nbformat_minor": 2
}
