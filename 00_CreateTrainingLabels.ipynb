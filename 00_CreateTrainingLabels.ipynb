{
 "cells": [
  {
   "cell_type": "code",
   "execution_count": 1,
   "metadata": {},
   "outputs": [],
   "source": [
    "%matplotlib inline"
   ]
  },
  {
   "cell_type": "code",
   "execution_count": 2,
   "metadata": {},
   "outputs": [],
   "source": [
    "import gzip\n",
    "import glob\n",
    "import json\n",
    "\n",
    "import numpy as np\n",
    "import pandas as pd\n",
    "import seaborn as sns\n",
    "\n",
    "import scipy.stats as ss\n",
    "\n",
    "import matplotlib.pyplot as plt\n",
    "\n",
    "from collections import Counter"
   ]
  },
  {
   "cell_type": "code",
   "execution_count": null,
   "metadata": {},
   "outputs": [],
   "source": []
  },
  {
   "cell_type": "code",
   "execution_count": null,
   "metadata": {},
   "outputs": [],
   "source": []
  },
  {
   "cell_type": "markdown",
   "metadata": {},
   "source": [
    "# Read All Assessor Responses\n",
    "\n",
    "Read the responses for each assessor and append them to an array of assessor data"
   ]
  },
  {
   "cell_type": "code",
   "execution_count": 3,
   "metadata": {},
   "outputs": [],
   "source": [
    "annotators_data = []\n",
    "\n",
    "# Read 2018 training file\n",
    "in_f_path = \"../data/TRECIS-CTIT-H-Training.json\"\n",
    "with open(in_f_path, \"rb\") as in_file:\n",
    "    annotator_content = in_file.read().decode(\"latin-1\") # Decode in latin-1 to deal with UTF8 errors\n",
    "    trecis_training = json.loads(annotator_content)\n",
    "    annotators_data.append(trecis_training)\n",
    "        \n",
    "# Read each assessor file\n",
    "for in_f_path in glob.iglob(\"../data/TREC-IS-2018-Test-Labels/assr*.json\"):\n",
    "    with open(in_f_path, \"rb\") as in_file:\n",
    "        annotator_content = in_file.read().decode(\"latin-1\") # Decode in latin-1 to deal with UTF8 errors\n",
    "        trecis_training = json.loads(annotator_content)\n",
    "        annotators_data.append(trecis_training)"
   ]
  },
  {
   "cell_type": "code",
   "execution_count": null,
   "metadata": {},
   "outputs": [],
   "source": []
  },
  {
   "cell_type": "code",
   "execution_count": 4,
   "metadata": {},
   "outputs": [],
   "source": [
    "tweet_to_category = []\n",
    "tweet_to_priority = []\n",
    "\n",
    "for annotator in annotators_data:\n",
    "    local_events = annotator[\"events\"]\n",
    "    \n",
    "    for event in local_events:\n",
    "        for tweet in event[\"tweets\"]:\n",
    "            # Pull out categories from the tweet dictionary (there can be several)\n",
    "            for category in tweet[\"categories\"]:\n",
    "                tweet_to_category.append({\n",
    "                    \"tweet_id\": np.int64(tweet[\"postID\"]),\n",
    "                    \"category\": category\n",
    "                })\n",
    "                \n",
    "            # Pull out priority, of which there should be only one\n",
    "            tweet_to_priority.append({\n",
    "                \"tweet_id\": np.int64(tweet[\"postID\"]),\n",
    "                \"priority\": tweet[\"priority\"]\n",
    "            })"
   ]
  },
  {
   "cell_type": "code",
   "execution_count": null,
   "metadata": {},
   "outputs": [],
   "source": []
  },
  {
   "cell_type": "code",
   "execution_count": 5,
   "metadata": {},
   "outputs": [],
   "source": [
    "df = pd.DataFrame(tweet_to_priority)"
   ]
  },
  {
   "cell_type": "code",
   "execution_count": 6,
   "metadata": {},
   "outputs": [],
   "source": [
    "# Mapping of prority labels (by assessors) into numerical values [0-1]\n",
    "# We use this to calculate error against the participant priority scores\n",
    "priority_mapping = {\n",
    "    \"Critical\" : 1.0,\n",
    "    \"High\" : 0.75,\n",
    "    \"Medium\" : 0.5,\n",
    "    \"Low\" : 0.25,\n",
    "    \"Unknown\" : 0.0,\n",
    "}\n",
    "\n",
    "merged_priorities = []\n",
    "for tweet_id, group in df.groupby(\"tweet_id\"):\n",
    "    priority_list = list(group[\"priority\"])\n",
    "\n",
    "    p_scores = [priority_mapping[p] for p in priority_list]\n",
    "    \n",
    "    merged_priorities.append({\n",
    "        \"tweet_id\": tweet_id,\n",
    "        \"score_mean\": np.mean(p_scores),\n",
    "        \"score_std\": np.std(p_scores),\n",
    "        \"score_k\": len(p_scores),\n",
    "    })"
   ]
  },
  {
   "cell_type": "code",
   "execution_count": 7,
   "metadata": {},
   "outputs": [],
   "source": [
    "priority_df = pd.DataFrame(merged_priorities)"
   ]
  },
  {
   "cell_type": "code",
   "execution_count": 8,
   "metadata": {},
   "outputs": [
    {
     "data": {
      "text/plain": [
       "<matplotlib.axes._subplots.AxesSubplot at 0x7f7686781ba8>"
      ]
     },
     "execution_count": 8,
     "metadata": {},
     "output_type": "execute_result"
    },
    {
     "data": {
      "image/png": "[encoded data removed]",
      "text/plain": [
       "<Figure size 432x288 with 1 Axes>"
      ]
     },
     "metadata": {},
     "output_type": "display_data"
    }
   ],
   "source": [
    "priority_df[\"score_mean\"].plot.hist()"
   ]
  },
  {
   "cell_type": "code",
   "execution_count": 9,
   "metadata": {},
   "outputs": [
    {
     "name": "stdout",
     "output_type": "stream",
     "text": [
      "Tweets with Priority: 19046\n"
     ]
    }
   ],
   "source": [
    "print(\"Tweets with Priority:\", priority_df.shape[0])"
   ]
  },
  {
   "cell_type": "code",
   "execution_count": 10,
   "metadata": {},
   "outputs": [],
   "source": [
    "priority_df.to_csv(\"tweet_to_priority.csv\", index=False)"
   ]
  },
  {
   "cell_type": "code",
   "execution_count": null,
   "metadata": {},
   "outputs": [],
   "source": []
  },
  {
   "cell_type": "code",
   "execution_count": 11,
   "metadata": {},
   "outputs": [
    {
     "name": "stdout",
     "output_type": "stream",
     "text": [
      "Tweets with Category: 19046\n"
     ]
    }
   ],
   "source": [
    "category_df = pd.DataFrame(tweet_to_category)\n",
    "print(\"Tweets with Category:\", category_df[\"tweet_id\"].value_counts().index.shape[0])"
   ]
  },
  {
   "cell_type": "code",
   "execution_count": 12,
   "metadata": {},
   "outputs": [],
   "source": [
    "category_df.to_csv(\"tweet_to_category.csv\", index=False)"
   ]
  },
  {
   "cell_type": "code",
   "execution_count": null,
   "metadata": {},
   "outputs": [],
   "source": []
  },
  {
   "cell_type": "code",
   "execution_count": null,
   "metadata": {},
   "outputs": [],
   "source": []
  }
 ],
 "metadata": {
  "kernelspec": {
   "display_name": "Python 3",
   "language": "python",
   "name": "python3"
  },
  "language_info": {
   "codemirror_mode": {
    "name": "ipython",
    "version": 3
   },
   "file_extension": ".py",
   "mimetype": "text/x-python",
   "name": "python",
   "nbconvert_exporter": "python",
   "pygments_lexer": "ipython3",
   "version": "3.6.5"
  }
 },
 "nbformat": 4,
 "nbformat_minor": 2
}
