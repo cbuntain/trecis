{
 "cells": [
  {
   "cell_type": "code",
   "execution_count": 1,
   "metadata": {},
   "outputs": [],
   "source": [
    "%matplotlib inline"
   ]
  },
  {
   "cell_type": "code",
   "execution_count": null,
   "metadata": {},
   "outputs": [],
   "source": []
  },
  {
   "cell_type": "code",
   "execution_count": 2,
   "metadata": {},
   "outputs": [],
   "source": [
    "import glob\n",
    "import gzip\n",
    "import json\n",
    "\n",
    "import numpy as np\n",
    "import pandas as pd"
   ]
  },
  {
   "cell_type": "code",
   "execution_count": null,
   "metadata": {},
   "outputs": [],
   "source": []
  },
  {
   "cell_type": "code",
   "execution_count": 3,
   "metadata": {},
   "outputs": [],
   "source": [
    "run_title = \"baseline\""
   ]
  },
  {
   "cell_type": "code",
   "execution_count": 4,
   "metadata": {},
   "outputs": [],
   "source": [
    "category_df = pd.read_csv(\"trec2019b_test_results_run_%s_multi.csv\" % run_title, dtype={\n",
    "    \"tweet_id\": np.int64,\n",
    "})\n",
    "priority_df = pd.read_csv(\"trec2019b_test_results_priority_run_%s.csv\" % run_title, dtype={\n",
    "    \"tweet_id\": np.int64,\n",
    "})"
   ]
  },
  {
   "cell_type": "code",
   "execution_count": 5,
   "metadata": {},
   "outputs": [],
   "source": [
    "header_map = {\n",
    "    \"Donations\": \"CallToAction-Donations\",\n",
    "    \"MovePeople\": \"CallToAction-MovePeople\",\n",
    "    \"Volunteer\": \"CallToAction-Volunteer\",\n",
    "    \"Advice\": \"Other-Advice\",\n",
    "    \"ContextualInformation\": \"Other-ContextualInformation\",\n",
    "    \"Discussion\": \"Other-Discussion\",\n",
    "    \"Irrelevant\": \"Other-Irrelevant\",\n",
    "    \"Sentiment\": \"Other-Sentiment\",\n",
    "    \"CleanUp\": \"Report-CleanUp\",\n",
    "    \"EmergingThreats\": \"Report-EmergingThreats\",\n",
    "    \"Factoid\": \"Report-Factoid\",\n",
    "    \"FirstPartyObservation\": \"Report-FirstPartyObservation\",\n",
    "    \"Hashtags\": \"Report-Hashtags\",\n",
    "    \"Location\": \"Report-Location\",\n",
    "    \"MultimediaShare\": \"Report-MultimediaShare\",\n",
    "    \"News\": \"Report-News\",\n",
    "    \"NewSubEvent\": \"Report-NewSubEvent\",\n",
    "    \"Official\": \"Report-Official\",\n",
    "    \"OriginalEvent\": \"Report-OriginalEvent\",\n",
    "    \"ServiceAvailable\": \"Report-ServiceAvailable\",\n",
    "    \"ThirdPartyObservation\": \"Report-ThirdPartyObservation\",\n",
    "    \"Weather\": \"Report-Weather\",\n",
    "    \"GoodsServices\": \"Request-GoodsServices\",\n",
    "    \"InformationWanted\": \"Request-InformationWanted\",\n",
    "    \"SearchAndRescue\": \"Request-SearchAndRescue\",\n",
    "}"
   ]
  },
  {
   "cell_type": "code",
   "execution_count": 6,
   "metadata": {},
   "outputs": [],
   "source": [
    "category_df.columns = [header_map.get(x, x) for x in category_df.columns]"
   ]
  },
  {
   "cell_type": "code",
   "execution_count": null,
   "metadata": {},
   "outputs": [],
   "source": []
  },
  {
   "cell_type": "code",
   "execution_count": 7,
   "metadata": {},
   "outputs": [],
   "source": [
    "topic_num_to_id_map = {}\n",
    "\n",
    "with open(\"../data/TRECIS-2019-B-Test.topics\", \"r\") as in_file:\n",
    "    topic_num = \"\"\n",
    "    topic_id = \"\"\n",
    "    \n",
    "    for line in in_file:\n",
    "        \n",
    "        if line.strip() == \"</top>\":\n",
    "            topic_num_to_id_map[topic_id] = topic_num\n",
    "        \n",
    "        if line.startswith(\"<num>\"):\n",
    "            topic_num = line.partition(\">\")[-1].partition(\"<\")[0]\n",
    "              \n",
    "        if line.startswith(\"<dataset>\"):\n",
    "            topic_id = line.partition(\">\")[-1].partition(\"<\")[0]"
   ]
  },
  {
   "cell_type": "code",
   "execution_count": 8,
   "metadata": {},
   "outputs": [
    {
     "data": {
      "text/plain": [
       "{'albertaWildfires2019': 'TRECIS-CTIT-H-Test-029',\n",
       " 'cycloneKenneth2019': 'TRECIS-CTIT-H-Test-030',\n",
       " 'philippinesEarthquake2019': 'TRECIS-CTIT-H-Test-031',\n",
       " 'coloradoStemShooting2019': 'TRECIS-CTIT-H-Test-032',\n",
       " 'southAfricaFloods2019': 'TRECIS-CTIT-H-Test-033',\n",
       " 'sandiegoSynagogueShooting2019': 'TRECIS-CTIT-H-Test-034'}"
      ]
     },
     "execution_count": 8,
     "metadata": {},
     "output_type": "execute_result"
    }
   ],
   "source": [
    "topic_num_to_id_map"
   ]
  },
  {
   "cell_type": "code",
   "execution_count": null,
   "metadata": {},
   "outputs": [],
   "source": []
  },
  {
   "cell_type": "code",
   "execution_count": 9,
   "metadata": {},
   "outputs": [
    {
     "name": "stdout",
     "output_type": "stream",
     "text": [
      "../data/2019/trecis2019-B-test.coloradoStemShooting2019.json.gz\n",
      "../data/2019/trecis2019-B-test.southAfricaFloods2019.json.gz\n",
      "../data/2019/trecis2019-B-test.cycloneKenneth2019.json.gz\n",
      "../data/2019/trecis2019-B-test.philippinesEarthquake2019.json.gz\n",
      "../data/2019/trecis2019-B-test.sandiegoSynagogueShooting2019.json.gz\n",
      "../data/2019/trecis2019-B-test.albertaWildfires2019.json.gz\n"
     ]
    }
   ],
   "source": [
    "tweet_id_to_topic_map = {}\n",
    "tweet_id_to_count_map = {}\n",
    "\n",
    "for file_path in glob.iglob(\"../data/2019/*2019*B-test*.json.gz\"):\n",
    "    print(file_path)\n",
    "    counter = 1\n",
    "    with gzip.open(file_path, \"rb\") as in_file:\n",
    "        for line_ in in_file:\n",
    "            line = line_.decode(\"utf8\")\n",
    "            tweet_entry = json.loads(line)\n",
    "            \n",
    "            tweet_id = np.int64(tweet_entry[\"allProperties\"][\"id\"])\n",
    "            tweet_topic = tweet_entry[\"topic\"]\n",
    "            \n",
    "            tweet_id_to_topic_map[tweet_id] = topic_num_to_id_map[tweet_topic]\n",
    "            tweet_id_to_count_map[tweet_id] = counter\n",
    "            \n",
    "            counter += 1"
   ]
  },
  {
   "cell_type": "code",
   "execution_count": null,
   "metadata": {},
   "outputs": [],
   "source": []
  },
  {
   "cell_type": "code",
   "execution_count": 10,
   "metadata": {},
   "outputs": [
    {
     "data": {
      "text/plain": [
       "(13916, 15000)"
      ]
     },
     "execution_count": 10,
     "metadata": {},
     "output_type": "execute_result"
    }
   ],
   "source": [
    "len(tweet_id_to_count_map), priority_df.shape[0]"
   ]
  },
  {
   "cell_type": "code",
   "execution_count": 11,
   "metadata": {
    "scrolled": true
   },
   "outputs": [
    {
     "data": {
      "text/plain": [
       "set()"
      ]
     },
     "execution_count": 11,
     "metadata": {},
     "output_type": "execute_result"
    }
   ],
   "source": [
    "set(tweet_id_to_count_map.keys()).difference(priority_df[\"tweet_id\"])"
   ]
  },
  {
   "cell_type": "code",
   "execution_count": null,
   "metadata": {},
   "outputs": [],
   "source": []
  },
  {
   "cell_type": "code",
   "execution_count": 12,
   "metadata": {},
   "outputs": [],
   "source": [
    "cols_list = [x for x in category_df.columns if x != \"tweet_id\"]\n",
    "\n",
    "def row2labels(row):\n",
    "    output = []\n",
    "    for col in cols_list:\n",
    "        if ( row[col] != 0 ):\n",
    "            output.append(col)\n",
    "            \n",
    "    return output"
   ]
  },
  {
   "cell_type": "code",
   "execution_count": null,
   "metadata": {},
   "outputs": [],
   "source": []
  },
  {
   "cell_type": "code",
   "execution_count": 13,
   "metadata": {},
   "outputs": [],
   "source": [
    "category_map = {row[\"tweet_id\"]: row2labels(row) for idx, row in category_df.iterrows()}\n",
    "priority_map = {row[\"tweet_id\"]: row[\"priority\"] for idx, row in priority_df.iterrows()}"
   ]
  },
  {
   "cell_type": "code",
   "execution_count": null,
   "metadata": {},
   "outputs": [],
   "source": []
  },
  {
   "cell_type": "code",
   "execution_count": 14,
   "metadata": {},
   "outputs": [],
   "source": [
    "category_df[\"inc_id\"] = category_df[\"tweet_id\"].apply(tweet_id_to_topic_map.get)\n",
    "category_df[\"count\"] = category_df[\"tweet_id\"].apply(tweet_id_to_count_map.get)\n",
    "category_df[\"priority\"] = category_df[\"tweet_id\"].apply(priority_map.get)\n",
    "category_df[\"label\"] = category_df[\"tweet_id\"].apply(category_map.get)"
   ]
  },
  {
   "cell_type": "code",
   "execution_count": null,
   "metadata": {},
   "outputs": [],
   "source": []
  },
  {
   "cell_type": "code",
   "execution_count": 15,
   "metadata": {},
   "outputs": [],
   "source": [
    "priority_scorer = {\n",
    "    1 : 0.75,\n",
    "    0 : 0.25\n",
    "}\n",
    "\n",
    "with open(\"nyu-smapp_run_%s_multi.csv\" % run_title, \"w\") as out_file:\n",
    "    for row in category_df.drop_duplicates(subset=\"tweet_id\").itertuples():\n",
    "        content = [\n",
    "            row.inc_id, \n",
    "            \"Q0\", \n",
    "            row.tweet_id,\n",
    "            row.count,\n",
    "            priority_scorer[row.priority],\n",
    "            str(row.label).replace(\"'\", '\"'),\n",
    "            \"nyu-smapp_%s_multi\" % run_title\n",
    "        ]\n",
    "        out_file.write(\"\\t\".join([str(x) for x in content]) + \"\\n\")"
   ]
  },
  {
   "cell_type": "code",
   "execution_count": null,
   "metadata": {},
   "outputs": [],
   "source": []
  }
 ],
 "metadata": {
  "kernelspec": {
   "display_name": "Python 3",
   "language": "python",
   "name": "python3"
  },
  "language_info": {
   "codemirror_mode": {
    "name": "ipython",
    "version": 3
   },
   "file_extension": ".py",
   "mimetype": "text/x-python",
   "name": "python",
   "nbconvert_exporter": "python",
   "pygments_lexer": "ipython3",
   "version": "3.6.5"
  }
 },
 "nbformat": 4,
 "nbformat_minor": 2
}
