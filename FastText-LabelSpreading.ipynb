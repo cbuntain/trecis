{
 "cells": [
  {
   "cell_type": "code",
   "execution_count": 1,
   "metadata": {},
   "outputs": [],
   "source": [
    "%matplotlib inline\n",
    "%load_ext memory_profiler\n",
    "\n",
    "import matplotlib.pyplot as plt"
   ]
  },
  {
   "cell_type": "code",
   "execution_count": 2,
   "metadata": {},
   "outputs": [],
   "source": [
    "import string\n",
    "import gzip\n",
    "import json\n",
    "import re"
   ]
  },
  {
   "cell_type": "code",
   "execution_count": 3,
   "metadata": {},
   "outputs": [],
   "source": [
    "import numpy as np\n",
    "import pandas as pd"
   ]
  },
  {
   "cell_type": "code",
   "execution_count": 4,
   "metadata": {},
   "outputs": [],
   "source": [
    "import scipy\n",
    "from scipy import sparse\n",
    "from scipy import interpolate"
   ]
  },
  {
   "cell_type": "code",
   "execution_count": 5,
   "metadata": {},
   "outputs": [],
   "source": [
    "import sklearn.cluster\n",
    "import sklearn.feature_extraction \n",
    "import sklearn.feature_extraction.text\n",
    "import sklearn.metrics\n",
    "import sklearn.preprocessing\n",
    "\n",
    "from sklearn.decomposition import TruncatedSVD\n",
    "\n",
    "from sklearn.ensemble import RandomForestClassifier\n",
    "from sklearn.ensemble import RandomForestClassifier\n",
    "from sklearn.externals import joblib\n",
    "from sklearn.feature_selection import SelectFromModel\n",
    "from sklearn.linear_model import LogisticRegression\n",
    "from sklearn.metrics import accuracy_score\n",
    "from sklearn.metrics import auc\n",
    "from sklearn.metrics import average_precision_score\n",
    "from sklearn.metrics import confusion_matrix\n",
    "from sklearn.metrics import f1_score\n",
    "from sklearn.metrics import precision_recall_curve\n",
    "from sklearn.model_selection import RandomizedSearchCV\n",
    "from sklearn.model_selection import StratifiedKFold\n",
    "from sklearn.model_selection import train_test_split\n",
    "from sklearn.multiclass import OneVsRestClassifier\n",
    "from sklearn.naive_bayes import BernoulliNB\n",
    "from sklearn.naive_bayes import MultinomialNB\n",
    "from sklearn.pipeline import FeatureUnion\n",
    "from sklearn.pipeline import Pipeline\n",
    "from sklearn.semi_supervised import LabelPropagation\n",
    "from sklearn.semi_supervised import LabelSpreading\n",
    "from sklearn.svm import LinearSVC\n",
    "from sklearn.svm import SVC\n",
    "from sklearn.tree import DecisionTreeClassifier"
   ]
  },
  {
   "cell_type": "code",
   "execution_count": 6,
   "metadata": {},
   "outputs": [
    {
     "name": "stdout",
     "output_type": "stream",
     "text": [
      "[nltk_data] Downloading package stopwords to /home/clb617/nltk_data...\n",
      "[nltk_data]   Package stopwords is already up-to-date!\n"
     ]
    },
    {
     "name": "stderr",
     "output_type": "stream",
     "text": [
      "/scratch/clb617/anaconda3/lib/python3.6/site-packages/nltk/twitter/__init__.py:20: UserWarning: The twython library has not been installed. Some functionality from the twitter package will not be available.\n",
      "  warnings.warn(\"The twython library has not been installed. \"\n"
     ]
    }
   ],
   "source": [
    "import nltk\n",
    "nltk.download(\"stopwords\")\n",
    "from nltk.corpus import stopwords\n",
    "\n",
    "from nltk.tokenize import TweetTokenizer\n",
    "from nltk.sentiment.vader import SentimentIntensityAnalyzer as VS"
   ]
  },
  {
   "cell_type": "code",
   "execution_count": 7,
   "metadata": {},
   "outputs": [],
   "source": [
    "import spacy\n",
    "\n",
    "nlp = spacy.load('en')"
   ]
  },
  {
   "cell_type": "code",
   "execution_count": 8,
   "metadata": {},
   "outputs": [],
   "source": [
    "from gensim.models.fasttext import FastText"
   ]
  },
  {
   "cell_type": "code",
   "execution_count": null,
   "metadata": {},
   "outputs": [],
   "source": []
  },
  {
   "cell_type": "code",
   "execution_count": 9,
   "metadata": {},
   "outputs": [],
   "source": [
    "tweet_id_map = {}\n",
    "with open(\"../data/rehydrated_tweets.json\", \"r\") as in_file:\n",
    "    for line in in_file:\n",
    "        tweet = json.loads(line)\n",
    "        tweet_id_map[tweet[\"id\"]] = tweet"
   ]
  },
  {
   "cell_type": "code",
   "execution_count": null,
   "metadata": {},
   "outputs": [],
   "source": []
  },
  {
   "cell_type": "code",
   "execution_count": 10,
   "metadata": {},
   "outputs": [],
   "source": [
    "tweet_category_map = {}\n",
    "with open(\"../data/category_to_tweet_id_training.json\", \"r\") as in_file:\n",
    "    tweet_category_map = json.load(in_file)"
   ]
  },
  {
   "cell_type": "code",
   "execution_count": null,
   "metadata": {},
   "outputs": [],
   "source": []
  },
  {
   "cell_type": "code",
   "execution_count": 11,
   "metadata": {},
   "outputs": [
    {
     "name": "stdout",
     "output_type": "stream",
     "text": [
      "Category: KnownAlready\n",
      "\tTweet Count: 113 Retrieved Fraction: 0.9292035398230089\n",
      "\t {'en': 104, 'ja': 1}\n",
      "Category: Official\n",
      "\tTweet Count: 52 Retrieved Fraction: 0.9423076923076923\n",
      "\t {'en': 48, 'fr': 1}\n",
      "Category: ContinuingNews\n",
      "\tTweet Count: 251 Retrieved Fraction: 0.9561752988047809\n",
      "\t {'en': 237, 'ja': 1, 'tl': 2}\n",
      "Category: Factoid\n",
      "\tTweet Count: 140 Retrieved Fraction: 0.9714285714285714\n",
      "\t {'en': 133, 'tl': 3}\n",
      "Category: MovePeople\n",
      "\tTweet Count: 26 Retrieved Fraction: 0.9615384615384616\n",
      "\t {'en': 25}\n",
      "Category: Irrelevant\n",
      "\tTweet Count: 163 Retrieved Fraction: 0.901840490797546\n",
      "\t {'en': 121, 'und': 1, 'pt': 1, 'in': 1, 'es': 5, 'tl': 17, 'fr': 1}\n",
      "Category: SignificantEventChange\n",
      "\tTweet Count: 34 Retrieved Fraction: 0.9705882352941176\n",
      "\t {'en': 29, 'tl': 4}\n",
      "Category: Sentiment\n",
      "\tTweet Count: 132 Retrieved Fraction: 0.9242424242424242\n",
      "\t {'en': 117, 'tl': 1, 'und': 4}\n",
      "Category: FirstPartyObservation\n",
      "\tTweet Count: 28 Retrieved Fraction: 1.0\n",
      "\t {'en': 28}\n",
      "Category: ThirdPartyObservation\n",
      "\tTweet Count: 15 Retrieved Fraction: 0.9333333333333333\n",
      "\t {'en': 14}\n",
      "Category: Unknown\n",
      "\tTweet Count: 26 Retrieved Fraction: 0.9230769230769231\n",
      "\t {'en': 23, 'tl': 1}\n",
      "Category: MultimediaShare\n",
      "\tTweet Count: 127 Retrieved Fraction: 0.968503937007874\n",
      "\t {'en': 122, 'tl': 1}\n",
      "Category: EmergingThreats\n",
      "\tTweet Count: 36 Retrieved Fraction: 0.9166666666666666\n",
      "\t {'en': 33}\n",
      "Category: ServiceAvailable\n",
      "\tTweet Count: 15 Retrieved Fraction: 0.9333333333333333\n",
      "\t {'en': 14}\n",
      "Category: PastNews\n",
      "\tTweet Count: 12 Retrieved Fraction: 1.0\n",
      "\t {'en': 12}\n",
      "Category: Discussion\n",
      "\tTweet Count: 51 Retrieved Fraction: 0.8627450980392157\n",
      "\t {'en': 44}\n",
      "Category: Advice\n",
      "\tTweet Count: 39 Retrieved Fraction: 0.9743589743589743\n",
      "\t {'en': 38}\n",
      "Category: InformationWanted\n",
      "\tTweet Count: 10 Retrieved Fraction: 1.0\n",
      "\t {'en': 10}\n",
      "Category: Donations\n",
      "\tTweet Count: 15 Retrieved Fraction: 1.0\n",
      "\t {'en': 15}\n",
      "Category: Weather\n",
      "\tTweet Count: 42 Retrieved Fraction: 0.9761904761904762\n",
      "\t {'en': 40, 'tl': 1}\n",
      "Category: CleanUp\n",
      "\tTweet Count: 2 Retrieved Fraction: 1.0\n",
      "\t {'en': 2}\n",
      "Category: Volunteer\n",
      "\tTweet Count: 2 Retrieved Fraction: 1.0\n",
      "\t {'en': 2}\n",
      "Category: Hashtags\n",
      "\tTweet Count: 4 Retrieved Fraction: 1.0\n",
      "\t {'en': 4}\n"
     ]
    }
   ],
   "source": [
    "for category, tweet_ids in tweet_category_map.items():\n",
    "    retrieved_count = sum([1 if int(tid) in tweet_id_map else 0 in tweet_id_map for tid in tweet_ids])\n",
    "    print(\"Category:\", category)\n",
    "    print(\"\\tTweet Count:\", len(tweet_ids), \"Retrieved Fraction:\", retrieved_count/len(tweet_ids))\n",
    "    \n",
    "    lang_count_map = {}\n",
    "    for lang in [tweet_id_map[int(tid)][\"lang\"] for tid in tweet_ids if int(tid) in tweet_id_map]:\n",
    "        lang_count_map[lang] = lang_count_map.get(lang, 0) + 1\n",
    "    print(\"\\t\", str(lang_count_map))"
   ]
  },
  {
   "cell_type": "code",
   "execution_count": null,
   "metadata": {},
   "outputs": [],
   "source": []
  },
  {
   "cell_type": "code",
   "execution_count": null,
   "metadata": {},
   "outputs": [],
   "source": []
  },
  {
   "cell_type": "code",
   "execution_count": 12,
   "metadata": {},
   "outputs": [],
   "source": [
    "# Skip stop words, retweet signs, @ symbols, and URL headers\n",
    "stopList = [\"http\", \"https\", \"rt\", \"@\", \":\", \"t.co\", \"co\", \"amp\", \"&amp;\", \"...\", \"\\n\", \"\\r\"]\n",
    "stopList.extend(string.punctuation)"
   ]
  },
  {
   "cell_type": "code",
   "execution_count": 13,
   "metadata": {},
   "outputs": [],
   "source": [
    "# def tokenizer_wrapper(text):\n",
    "#     return [t.lemma_ for t in nlp(text)]\n",
    "\n",
    "local_tokenizer = TweetTokenizer()\n",
    "def tokenizer_wrapper(text):\n",
    "    return local_tokenizer.tokenize(text)"
   ]
  },
  {
   "cell_type": "code",
   "execution_count": 14,
   "metadata": {},
   "outputs": [],
   "source": [
    "# Generate Additional Features\n",
    "sentiment_analyzer = VS()\n",
    "\n",
    "def count_twitter_objs(text_string):\n",
    "    \"\"\"\n",
    "    Accepts a text string and replaces:\n",
    "    1) urls with URLHERE\n",
    "    2) lots of whitespace with one instance\n",
    "    3) mentions with MENTIONHERE\n",
    "    4) hashtags with HASHTAGHERE\n",
    "\n",
    "    This allows us to get standardized counts of urls and mentions\n",
    "    Without caring about specific people mentioned.\n",
    "    \n",
    "    Returns counts of urls, mentions, and hashtags.\n",
    "    \"\"\"\n",
    "    space_pattern = '\\s+'\n",
    "    giant_url_regex = ('http[s]?://(?:[a-zA-Z]|[0-9]|[$-_@.&+]|'\n",
    "        '[!*\\(\\),]|(?:%[0-9a-fA-F][0-9a-fA-F]))+')\n",
    "    mention_regex = '@[\\w\\-]+'\n",
    "    hashtag_regex = '#[\\w\\-]+'\n",
    "    parsed_text = re.sub(space_pattern, ' ', text_string)\n",
    "    parsed_text = re.sub(giant_url_regex, 'URLHERE', parsed_text)\n",
    "    parsed_text = re.sub(mention_regex, 'MENTIONHERE', parsed_text)\n",
    "    parsed_text = re.sub(hashtag_regex, 'HASHTAGHERE', parsed_text)\n",
    "    return(parsed_text.count('URLHERE'),parsed_text.count('MENTIONHERE'),parsed_text.count('HASHTAGHERE'))\n",
    "\n",
    "## Taken from Davidson et al.\n",
    "def other_features(tweet):\n",
    "    \"\"\"This function takes a string and returns a list of features.\n",
    "    These include Sentiment scores, Text and Readability scores,\n",
    "    as well as Twitter specific features\"\"\"\n",
    "    tweet_text = tweet[\"text\"]\n",
    "    \n",
    "    ##SENTIMENT\n",
    "    sentiment = sentiment_analyzer.polarity_scores(tweet_text)\n",
    "    \n",
    "    words = local_tokenizer.tokenize(tweet_text) #Get text only\n",
    "    \n",
    "    num_chars = sum(len(w) for w in words) #num chars in words\n",
    "    num_chars_total = len(tweet_text)\n",
    "    num_terms = len(tweet_text.split())\n",
    "    num_words = len(words)\n",
    "    num_unique_terms = len(set([x.lower() for x in words]))\n",
    "    \n",
    "    caps_count = sum([1 if x.isupper() else 0 for x in tweet_text])\n",
    "    caps_ratio = caps_count / num_chars_total\n",
    "    \n",
    "    twitter_objs = count_twitter_objs(tweet_text) #Count #, @, and http://\n",
    "    num_media = 0\n",
    "    if \"media\" in tweet[\"entities\"]:\n",
    "        num_media = len(tweet[\"entities\"][\"media\"])\n",
    "    retweet = 0\n",
    "    if \"rt\" in words or \"retweeted_status\" in tweet:\n",
    "        retweet = 1\n",
    "        \n",
    "    has_place = 1 if \"coordinates\" in tweet else 0\n",
    "        \n",
    "    author = tweet[\"user\"]\n",
    "    is_verified = 1 if author[\"verified\"] else 0\n",
    "    log_followers = 0 if author[\"followers_count\"] <= 0 else np.log(author[\"followers_count\"])\n",
    "    log_friends = 0 if author[\"friends_count\"] <= 0 else np.log(author[\"friends_count\"])\n",
    "    \n",
    "    features = [num_chars, num_chars_total, num_terms, num_words,\n",
    "                num_unique_terms, sentiment['neg'], sentiment['pos'], \n",
    "                sentiment['neu'], sentiment['compound'],\n",
    "                twitter_objs[2], twitter_objs[1],\n",
    "                twitter_objs[0], retweet, num_media,\n",
    "                is_verified, \n",
    "#                 log_followers, log_friends,\n",
    "#                 has_place,\n",
    "                caps_ratio,\n",
    "               ]\n",
    "\n",
    "    return features\n",
    "\n",
    "other_features_names = [\"num_chars\", \"num_chars_total\", \\\n",
    "                        \"num_terms\", \"num_words\", \"num_unique_words\", \"vader neg\",\"vader pos\",\n",
    "                        \"vader neu\", \"vader compound\", \\\n",
    "                        \"num_hashtags\", \"num_mentions\", \n",
    "                        \"num_urls\", \"is_retweet\", \"num_media\",\n",
    "                        \"is_verified\", \n",
    "#                         \"log_followers\", \"log_friends\",\n",
    "#                         \"has_place\",\n",
    "                        \"caps_ratio\",\n",
    "                       ]"
   ]
  },
  {
   "cell_type": "code",
   "execution_count": null,
   "metadata": {},
   "outputs": [],
   "source": []
  },
  {
   "cell_type": "code",
   "execution_count": 15,
   "metadata": {},
   "outputs": [],
   "source": [
    "vectorizer = sklearn.feature_extraction.text.TfidfVectorizer(\n",
    "    tokenizer=tokenizer_wrapper,\n",
    "    ngram_range=(1, 1),\n",
    "    stop_words=stopList, #We do better when we keep stopwords\n",
    "    use_idf=True,\n",
    "    smooth_idf=False,\n",
    "    norm=None, #Applies l2 norm smoothing\n",
    "    decode_error='replace',\n",
    "    max_features=10000,\n",
    "    min_df=4,\n",
    "    max_df=0.501\n",
    "    )"
   ]
  },
  {
   "cell_type": "code",
   "execution_count": null,
   "metadata": {},
   "outputs": [],
   "source": []
  },
  {
   "cell_type": "code",
   "execution_count": null,
   "metadata": {},
   "outputs": [],
   "source": []
  },
  {
   "cell_type": "code",
   "execution_count": 16,
   "metadata": {},
   "outputs": [
    {
     "name": "stdout",
     "output_type": "stream",
     "text": [
      "Skipping category: CleanUp\n",
      "Skipping category: Volunteer\n",
      "Skipping category: Hashtags\n"
     ]
    }
   ],
   "source": [
    "category_to_label = {c:i+1 for i, c in enumerate(tweet_category_map.keys()) if c != \"Irrelevant\"}\n",
    "category_to_label[\"Irrelevant\"] = 0\n",
    "\n",
    "tweet_id_to_category = {}\n",
    "for category, tweet_ids in tweet_category_map.items():\n",
    "    if ( len(tweet_ids) < 5 ):\n",
    "        print(\"Skipping category:\", category)\n",
    "        continue\n",
    "        \n",
    "    for tweet_id in tweet_ids:\n",
    "        tweet_id_to_category[int(tweet_id)] = category_to_label[category]"
   ]
  },
  {
   "cell_type": "code",
   "execution_count": 17,
   "metadata": {},
   "outputs": [
    {
     "data": {
      "text/plain": [
       "{'KnownAlready': 1,\n",
       " 'Official': 2,\n",
       " 'ContinuingNews': 3,\n",
       " 'Factoid': 4,\n",
       " 'MovePeople': 5,\n",
       " 'SignificantEventChange': 7,\n",
       " 'Sentiment': 8,\n",
       " 'FirstPartyObservation': 9,\n",
       " 'ThirdPartyObservation': 10,\n",
       " 'Unknown': 11,\n",
       " 'MultimediaShare': 12,\n",
       " 'EmergingThreats': 13,\n",
       " 'ServiceAvailable': 14,\n",
       " 'PastNews': 15,\n",
       " 'Discussion': 16,\n",
       " 'Advice': 17,\n",
       " 'InformationWanted': 18,\n",
       " 'Donations': 19,\n",
       " 'Weather': 20,\n",
       " 'CleanUp': 21,\n",
       " 'Volunteer': 22,\n",
       " 'Hashtags': 23,\n",
       " 'Irrelevant': 0}"
      ]
     },
     "execution_count": 17,
     "metadata": {},
     "output_type": "execute_result"
    }
   ],
   "source": [
    "category_to_label"
   ]
  },
  {
   "cell_type": "code",
   "execution_count": 18,
   "metadata": {},
   "outputs": [],
   "source": [
    "tweet_pairs = [(tweet, tweet_id_to_category[tid]) \n",
    "               for tid, tweet in tweet_id_map.items() if tid in tweet_id_to_category]\n",
    "tweet_texts_ = [tp[0][\"text\"] for tp in tweet_pairs]\n",
    "\n",
    "y_data_ = [tp[1] for tp in tweet_pairs]"
   ]
  },
  {
   "cell_type": "code",
   "execution_count": 19,
   "metadata": {},
   "outputs": [],
   "source": [
    "other_ftr_data_ = [other_features(tweet) for tweet, _ in tweet_pairs]"
   ]
  },
  {
   "cell_type": "code",
   "execution_count": null,
   "metadata": {},
   "outputs": [],
   "source": []
  },
  {
   "cell_type": "code",
   "execution_count": 20,
   "metadata": {},
   "outputs": [
    {
     "name": "stdout",
     "output_type": "stream",
     "text": [
      "peak memory: 336.41 MiB, increment: 0.21 MiB\n"
     ]
    }
   ],
   "source": [
    "%memit"
   ]
  },
  {
   "cell_type": "code",
   "execution_count": 21,
   "metadata": {},
   "outputs": [
    {
     "name": "stdout",
     "output_type": "stream",
     "text": [
      "New tweets: 732484\n"
     ]
    }
   ],
   "source": [
    "tweet_texts_distant = None\n",
    "other_ftr_data_distant = None\n",
    "\n",
    "def distant_processor(json_str):\n",
    "    tweet = json.loads(json_str)\n",
    "    \n",
    "    tt = tweet[\"text\"].lower()\n",
    "    if ( tweet[\"lang\"] == \"en\" and \"walkingdead\" not in tt and \"iheart\" not in tt ):\n",
    "        return (tweet[\"text\"], other_features(tweet))\n",
    "    else:\n",
    "        return None\n",
    "\n",
    "# with gzip.open(\"../data/english_2015_sample_1m.json.gz\") as in_file:\n",
    "with gzip.open(\"../data/tweet_random_subset_2013to2016_disaster.json.gz\") as in_file:\n",
    "    local_tweet_data = [distant_processor(line_bytes.decode(\"utf8\")) for line_bytes in in_file]\n",
    "    \n",
    "    tweet_texts_distant = [x[0] for x in local_tweet_data if x != None]\n",
    "    other_ftr_data_distant = [x[1] for x in local_tweet_data if x != None]\n",
    "    \n",
    "print(\"New tweets:\", len(tweet_texts_distant))"
   ]
  },
  {
   "cell_type": "code",
   "execution_count": 22,
   "metadata": {},
   "outputs": [
    {
     "name": "stdout",
     "output_type": "stream",
     "text": [
      "peak memory: 754.95 MiB, increment: 0.05 MiB\n"
     ]
    }
   ],
   "source": [
    "%memit"
   ]
  },
  {
   "cell_type": "code",
   "execution_count": null,
   "metadata": {},
   "outputs": [],
   "source": []
  },
  {
   "cell_type": "code",
   "execution_count": 23,
   "metadata": {},
   "outputs": [],
   "source": [
    "# tweet_texts = tweet_texts_ + tweet_texts_distant\n",
    "# other_ftr_data = np.array(other_ftr_data_ + other_ftr_data_distant)\n",
    "\n",
    "# y_data = np.array(y_data_ + ([-1] * len(tweet_texts_distant)))\n",
    "\n",
    "other_ftr_data_main = np.array(other_ftr_data_)\n",
    "other_ftr_data_spread = np.array(other_ftr_data_distant)\n",
    "\n",
    "y_data_main = np.array(y_data_)\n",
    "y_data_spread = np.array(([-1] * len(tweet_texts_distant)))"
   ]
  },
  {
   "cell_type": "code",
   "execution_count": 24,
   "metadata": {},
   "outputs": [
    {
     "name": "stdout",
     "output_type": "stream",
     "text": [
      "peak memory: 855.64 MiB, increment: 0.00 MiB\n"
     ]
    }
   ],
   "source": [
    "%memit"
   ]
  },
  {
   "cell_type": "code",
   "execution_count": null,
   "metadata": {},
   "outputs": [],
   "source": []
  },
  {
   "cell_type": "code",
   "execution_count": 25,
   "metadata": {},
   "outputs": [],
   "source": [
    "def normalize(s):\n",
    "    \"\"\"\n",
    "    Given a text, cleans and normalizes it. Feel free to add your own stuff.\n",
    "    From: https://www.kaggle.com/mschumacher/using-fasttext-models-for-robust-embeddings\n",
    "    \"\"\"\n",
    "    s = s.lower()\n",
    "\n",
    "    # Replace numbers and symbols with language\n",
    "    s = s.replace('&', ' and ')\n",
    "    s = s.replace('@', ' at ')\n",
    "    s = s.replace('0', 'zero')\n",
    "    s = s.replace('1', 'one')\n",
    "    s = s.replace('2', 'two')\n",
    "    s = s.replace('3', 'three')\n",
    "    s = s.replace('4', 'four')\n",
    "    s = s.replace('5', 'five')\n",
    "    s = s.replace('6', 'six')\n",
    "    s = s.replace('7', 'seven')\n",
    "    s = s.replace('8', 'eight')\n",
    "    s = s.replace('9', 'nine')\n",
    "\n",
    "    return s\n",
    "\n",
    "analyzer = vectorizer.build_analyzer()\n",
    "def ft_tokenizer(text):\n",
    "    return [normalize(t) for t in analyzer(text)]"
   ]
  },
  {
   "cell_type": "code",
   "execution_count": 26,
   "metadata": {},
   "outputs": [],
   "source": [
    "# model_gensim = FastText.load('text_sample_2015_gensim.model')\n",
    "model_gensim = FastText.load('text_sample_2013to2016_gensim_200.model')\n",
    "# model_gensim = FastText.load_fasttext_format('../data/cc.en.300.bin')\n",
    "wvs = model_gensim.wv"
   ]
  },
  {
   "cell_type": "code",
   "execution_count": 27,
   "metadata": {},
   "outputs": [
    {
     "name": "stderr",
     "output_type": "stream",
     "text": [
      "/scratch/clb617/anaconda3/lib/python3.6/site-packages/gensim/matutils.py:737: FutureWarning: Conversion of the second argument of issubdtype from `int` to `np.signedinteger` is deprecated. In future, it will be treated as `np.int64 == np.dtype(int).type`.\n",
      "  if np.issubdtype(vec.dtype, np.int):\n"
     ]
    },
    {
     "data": {
      "text/plain": [
       "[('#prayforparis', 0.7739624381065369),\n",
       " ('#prayforgaza', 0.674716055393219),\n",
       " ('#prayforiraq', 0.6647266149520874),\n",
       " ('#prayforsyria', 0.6583042144775391),\n",
       " ('#prayforjakarta', 0.6565165519714355),\n",
       " ('#prayfororlando', 0.6531145572662354),\n",
       " ('#prayforvenezuela', 0.6508985757827759),\n",
       " ('#prayforlebanon', 0.6483551263809204),\n",
       " ('#prayforpalestine', 0.6478559970855713),\n",
       " ('#prayforpalestina', 0.6470707654953003)]"
      ]
     },
     "execution_count": 27,
     "metadata": {},
     "output_type": "execute_result"
    }
   ],
   "source": [
    "wvs.most_similar(\"prayfourparis\")"
   ]
  },
  {
   "cell_type": "code",
   "execution_count": 28,
   "metadata": {},
   "outputs": [],
   "source": [
    "def vectorize(sentence):\n",
    "    tokenized = [normalize(t) for t in analyzer(sentence)]\n",
    "    \n",
    "    wv_vecs = []\n",
    "    for t in tokenized:\n",
    "\n",
    "        try:\n",
    "            v = wvs[t]\n",
    "            norm = np.linalg.norm(v)\n",
    "            normed_v = v / norm\n",
    "            wv_vecs.append(normed_v)\n",
    "        except:\n",
    "            continue\n",
    "    \n",
    "    m = np.array(wv_vecs)\n",
    "    normed_m = np.mean(m, axis=0)\n",
    "\n",
    "    return normed_m"
   ]
  },
  {
   "cell_type": "code",
   "execution_count": null,
   "metadata": {},
   "outputs": [],
   "source": []
  },
  {
   "cell_type": "code",
   "execution_count": 29,
   "metadata": {},
   "outputs": [
    {
     "name": "stdout",
     "output_type": "stream",
     "text": [
      "(1253, 200)\n",
      "(732484, 200)\n"
     ]
    }
   ],
   "source": [
    "ft_features_main_ = [vectorize(s) for s in tweet_texts_]\n",
    "ft_features_main = np.array([x for x in ft_features_main_])\n",
    "print(ft_features_main.shape)\n",
    "\n",
    "ft_features_spread_ = [vectorize(s) for s in tweet_texts_distant]\n",
    "ft_features_spread = np.array([x for x in ft_features_spread_])\n",
    "print(ft_features_spread.shape)"
   ]
  },
  {
   "cell_type": "code",
   "execution_count": null,
   "metadata": {},
   "outputs": [],
   "source": []
  },
  {
   "cell_type": "code",
   "execution_count": 30,
   "metadata": {},
   "outputs": [
    {
     "name": "stdout",
     "output_type": "stream",
     "text": [
      "peak memory: 6718.43 MiB, increment: 0.18 MiB\n"
     ]
    }
   ],
   "source": [
    "%memit"
   ]
  },
  {
   "cell_type": "code",
   "execution_count": 31,
   "metadata": {},
   "outputs": [
    {
     "name": "stdout",
     "output_type": "stream",
     "text": [
      "(1253, 200)\n",
      "(732484, 200)\n",
      "(1253, 16)\n",
      "(732484, 16)\n"
     ]
    }
   ],
   "source": [
    "print(ft_features_main.shape)\n",
    "print(ft_features_spread.shape)\n",
    "print(other_ftr_data_main.shape)\n",
    "print(other_ftr_data_spread.shape)"
   ]
  },
  {
   "cell_type": "code",
   "execution_count": null,
   "metadata": {},
   "outputs": [],
   "source": []
  },
  {
   "cell_type": "code",
   "execution_count": 32,
   "metadata": {},
   "outputs": [
    {
     "name": "stdout",
     "output_type": "stream",
     "text": [
      "(1253, 216) (1253,)\n",
      "(732484, 216) (1253,)\n"
     ]
    }
   ],
   "source": [
    "# X_data = np.concatenate([\n",
    "#     tfidf, \n",
    "#     other_ftr_data, \n",
    "# #     pos\n",
    "# ], axis=1)\n",
    "\n",
    "X_data_main = np.concatenate([\n",
    "    ft_features_main, \n",
    "    other_ftr_data_main, \n",
    "], axis=1)\n",
    "\n",
    "X_data_spread = np.concatenate([\n",
    "    ft_features_spread, \n",
    "    other_ftr_data_spread, \n",
    "], axis=1)\n",
    "\n",
    "print(X_data_main.shape, y_data_main.shape)\n",
    "print(X_data_spread.shape, y_data_main.shape)"
   ]
  },
  {
   "cell_type": "code",
   "execution_count": 33,
   "metadata": {},
   "outputs": [
    {
     "name": "stdout",
     "output_type": "stream",
     "text": [
      "peak memory: 7925.61 MiB, increment: 0.00 MiB\n"
     ]
    }
   ],
   "source": [
    "%memit"
   ]
  },
  {
   "cell_type": "code",
   "execution_count": null,
   "metadata": {},
   "outputs": [],
   "source": []
  },
  {
   "cell_type": "code",
   "execution_count": 34,
   "metadata": {},
   "outputs": [],
   "source": [
    "r_state = 1337\n",
    "spread_threshold = 0.99"
   ]
  },
  {
   "cell_type": "code",
   "execution_count": null,
   "metadata": {
    "scrolled": false
   },
   "outputs": [],
   "source": [
    "f1_accum = []\n",
    "accuracy_accum = []\n",
    "\n",
    "rf_params = {\n",
    "    'n_estimators': 128, \n",
    "    \"n_jobs\": -1,\n",
    "    'random_state': r_state,\n",
    "    'class_weight': \"balanced\",\n",
    "#     'max_depth': 32,\n",
    "#     'max_features': 113,\n",
    "#     'min_samples_leaf': 2,\n",
    "#     'min_samples_split': 54,\n",
    "}\n",
    "\n",
    "rs = np.random.RandomState(seed=r_state)\n",
    "rindex = rs.randint(X_data_spread.shape[0], size=int(X_data_spread.shape[0]/20))\n",
    "\n",
    "skf = StratifiedKFold(n_splits=10, random_state=r_state)\n",
    "for train, test in skf.split(X_data_main, y_data_main):\n",
    "\n",
    "    X_train_ = X_data_main[train]\n",
    "    y_train_ = y_data_main[train]\n",
    "    \n",
    "    X_test = X_data_main[test]\n",
    "    y_test = y_data_main[test]\n",
    "    \n",
    "    print(X_train_.shape, X_data_spread.shape)\n",
    "    \n",
    "    # Concatenate training data and label spreading data\n",
    "    X_train = np.concatenate([\n",
    "        X_train_,\n",
    "        X_data_spread[rindex]\n",
    "    ], axis=0)\n",
    "    y_train = np.concatenate([y_train_, y_data_spread[rindex]])\n",
    "\n",
    "    # Use label spreading to expand the training data\n",
    "    label_spread = LabelSpreading(kernel='knn', n_neighbors=5, alpha=0.2, n_jobs=-1)\n",
    "#     label_spread = LabelSpreading(kernel='rbf', gamma=1, alpha=0.2, n_jobs=-1)\n",
    "    label_spread.fit(X_train, y_train)\n",
    "\n",
    "    y_data_transdueced = label_spread.transduction_\n",
    "\n",
    "    label_dist = label_spread.label_distributions_.max(axis=1)\n",
    "    high_confs = np.argwhere(label_dist >= spread_threshold)[:,0]\n",
    "    X_data_redux = X_train[high_confs]\n",
    "    y_data_redux = y_data_transdueced[high_confs]\n",
    "\n",
    "    print(X_data_redux.shape, y_data_redux.shape)\n",
    "\n",
    "    # train\n",
    "    fitted_model = RandomForestClassifier(**rf_params)\n",
    "    fitted_model.fit(X_data_redux, y_data_redux)\n",
    "\n",
    "    # Compute Precision-Recall \n",
    "    y_infer_local = fitted_model.predict(X_test)\n",
    "    local_f1 = f1_score(y_test, y_infer_local, average=\"macro\")\n",
    "    local_score = fitted_model.score(X_test, y_test)\n",
    "    \n",
    "    print(\"\\tScore:\", local_score)\n",
    "    print(\"\\tF1:\", local_f1)\n",
    "    \n",
    "    f1_accum.append(local_f1)\n",
    "    accuracy_accum.append(local_score)\n",
    "\n",
    "print(\"Accuracy:\", np.mean(accuracy_accum))\n",
    "print(\"F1:\", np.mean(f1_accum))"
   ]
  },
  {
   "cell_type": "code",
   "execution_count": null,
   "metadata": {},
   "outputs": [],
   "source": []
  },
  {
   "cell_type": "code",
   "execution_count": null,
   "metadata": {},
   "outputs": [],
   "source": []
  },
  {
   "cell_type": "code",
   "execution_count": 35,
   "metadata": {},
   "outputs": [
    {
     "name": "stdout",
     "output_type": "stream",
     "text": [
      "Merged Size: (733737, 216)\n"
     ]
    },
    {
     "name": "stderr",
     "output_type": "stream",
     "text": [
      "/scratch/clb617/anaconda3/lib/python3.6/site-packages/sklearn/semi_supervised/label_propagation.py:293: RuntimeWarning: divide by zero encountered in true_divide\n",
      "  self.label_distributions_ /= normalizer\n",
      "/scratch/clb617/anaconda3/lib/python3.6/site-packages/sklearn/semi_supervised/label_propagation.py:293: RuntimeWarning: invalid value encountered in true_divide\n",
      "  self.label_distributions_ /= normalizer\n"
     ]
    }
   ],
   "source": [
    "# Concatenate training data and label spreading data\n",
    "X_train = np.concatenate([\n",
    "    X_data_main,\n",
    "    X_data_spread\n",
    "], axis=0)\n",
    "print(\"Merged Size:\", X_train.shape)\n",
    "\n",
    "y_train = np.concatenate([y_data_main, y_data_spread])\n",
    "\n",
    "# Use label spreading to expand the training data\n",
    "label_spread = LabelSpreading(kernel='knn', n_neighbors=5, alpha=0.2, n_jobs=-1)\n",
    "# label_spread = LabelSpreading(kernel='rbf', gamma=1, alpha=0.2, n_jobs=-1)\n",
    "label_spread.fit(X_train, y_train)\n",
    "\n",
    "y_data_transdueced = label_spread.transduction_"
   ]
  },
  {
   "cell_type": "code",
   "execution_count": 36,
   "metadata": {},
   "outputs": [
    {
     "name": "stderr",
     "output_type": "stream",
     "text": [
      "/scratch/clb617/anaconda3/lib/python3.6/site-packages/ipykernel_launcher.py:2: RuntimeWarning: invalid value encountered in greater_equal\n",
      "  \n"
     ]
    },
    {
     "name": "stdout",
     "output_type": "stream",
     "text": [
      "Total: (108992,)\n",
      "Added: (108992,) (1253, 216)\n"
     ]
    }
   ],
   "source": [
    "label_dist = label_spread.label_distributions_.max(axis=1)\n",
    "high_confs = np.argwhere(label_dist >= spread_threshold)[:,0]\n",
    "print(\"Total:\", high_confs.shape)\n",
    "print(\"Added:\", high_confs.shape, X_data_main.shape)\n",
    "\n",
    "X_data_redux = X_train[high_confs]\n",
    "y_data_redux = y_data_transdueced[high_confs]"
   ]
  },
  {
   "cell_type": "code",
   "execution_count": null,
   "metadata": {},
   "outputs": [],
   "source": [
    "label_dist.mean()"
   ]
  },
  {
   "cell_type": "code",
   "execution_count": null,
   "metadata": {},
   "outputs": [],
   "source": []
  },
  {
   "cell_type": "code",
   "execution_count": null,
   "metadata": {
    "scrolled": false
   },
   "outputs": [],
   "source": [
    "label_to_category = {j:i for i, j in category_to_label.items()}\n",
    "for positive_category in category_number_list:\n",
    "    local_y_data = [1 if y == positive_category else 0 for y in y_data]\n",
    "    \n",
    "    fitted_model = RandomForestClassifier(**rf_params)\n",
    "    fitted_model.fit(X_data, local_y_data)\n",
    "    \n",
    "    weights = [(ftr_names_[idx], coef) \n",
    "               for idx, coef in enumerate(fitted_model.feature_importances_)]\n",
    "\n",
    "    tops = sorted(weights, key=lambda x: x[1], reverse=True)[:10]\n",
    "    \n",
    "    print(\"Label:\", label_to_category[positive_category])\n",
    "    print(\"Score:\", fitted_model.score(X_data, local_y_data))\n",
    "    for token, weight in tops:\n",
    "        print(\"\\t\", token, weight)"
   ]
  },
  {
   "cell_type": "code",
   "execution_count": null,
   "metadata": {},
   "outputs": [],
   "source": []
  },
  {
   "cell_type": "code",
   "execution_count": null,
   "metadata": {},
   "outputs": [],
   "source": [
    "def random_search(X_data, y_data, clf, param_dist, n_iter_search=20, r_state=1337):\n",
    "    # run randomized search\n",
    "    random_search = RandomizedSearchCV(clf, \n",
    "                                       param_distributions=param_dist,\n",
    "                                       n_iter=n_iter_search,\n",
    "                                       cv=10,\n",
    "                                       scoring=\"f1_macro\",\n",
    "                                       random_state=r_state,\n",
    "                                       verbose=2,\n",
    "                                       n_jobs=-1,\n",
    "                                      )\n",
    "    \n",
    "    random_search.fit(X_data, y_data)\n",
    "\n",
    "    return (random_search.best_score_, random_search.best_params_)\n",
    "\n",
    "def model_eval_rf(X_data, y_data, n_iter_search=100, r_state=1337):\n",
    "\n",
    "    clf = RandomForestClassifier(\n",
    "        n_estimators=100, class_weight=\"balanced\", random_state=r_state)\n",
    "    \n",
    "    # specify parameters and distributions to sample from\n",
    "    param_dist = {\n",
    "        \"max_depth\": [2, 4, 8, 16, 32, 64, 128, None],\n",
    "        \"max_features\": scipy.stats.randint(1, 512),\n",
    "        \"min_samples_split\": scipy.stats.randint(2, 512),\n",
    "        \"min_samples_leaf\": scipy.stats.randint(2, 512),\n",
    "    }\n",
    "    \n",
    "    return random_search(X_data, y_data, clf, param_dist, n_iter_search=n_iter_search, r_state=r_state)"
   ]
  },
  {
   "cell_type": "code",
   "execution_count": null,
   "metadata": {},
   "outputs": [],
   "source": [
    "search_results = model_eval_rf(X_data, y_data, n_iter_search=1024)\n",
    "search_results"
   ]
  },
  {
   "cell_type": "code",
   "execution_count": null,
   "metadata": {},
   "outputs": [],
   "source": [
    "search_results"
   ]
  },
  {
   "cell_type": "code",
   "execution_count": null,
   "metadata": {},
   "outputs": [],
   "source": []
  },
  {
   "cell_type": "code",
   "execution_count": 54,
   "metadata": {},
   "outputs": [
    {
     "name": "stdout",
     "output_type": "stream",
     "text": [
      "[t-SNE] Computing 301 nearest neighbors...\n",
      "[t-SNE] Indexed 1253 samples in 0.010s...\n",
      "[t-SNE] Computed neighbors for 1253 samples in 0.716s...\n",
      "[t-SNE] Computed conditional probabilities for sample 1000 / 1253\n",
      "[t-SNE] Computed conditional probabilities for sample 1253 / 1253\n",
      "[t-SNE] Mean sigma: 0.098389\n",
      "[t-SNE] KL divergence after 250 iterations with early exaggeration: 60.732533\n",
      "[t-SNE] Error after 1000 iterations: 1.099978\n"
     ]
    }
   ],
   "source": [
    "from sklearn.manifold import TSNE\n",
    "\n",
    "# Concatenate training data and label spreading data\n",
    "X_train = np.concatenate([\n",
    "    X_data_main,\n",
    "    #X_data_spread\n",
    "], axis=0)\n",
    "y_train = np.concatenate([y_data_main, ])#y_data_spread])\n",
    "\n",
    "tsne = TSNE(n_components=2, verbose=1, perplexity=100)#, n_iter=300)\n",
    "X_data_tsne = tsne.fit_transform(X_train[:,:200])"
   ]
  },
  {
   "cell_type": "code",
   "execution_count": 55,
   "metadata": {},
   "outputs": [
    {
     "data": {
      "text/plain": [
       "<matplotlib.axes._subplots.AxesSubplot at 0x2af3c4d23208>"
      ]
     },
     "execution_count": 55,
     "metadata": {},
     "output_type": "execute_result"
    },
    {
     "data": {
      "image/png": "[encoded data removed]",
      "text/plain": [
       "<Figure size 432x288 with 2 Axes>"
      ]
     },
     "metadata": {},
     "output_type": "display_data"
    }
   ],
   "source": [
    "df = pd.DataFrame(X_data_tsne)\n",
    "df[\"label\"] = y_train\n",
    "df.plot.scatter(0, 1, c=\"label\", colormap='cubehelix')"
   ]
  },
  {
   "cell_type": "code",
   "execution_count": null,
   "metadata": {},
   "outputs": [],
   "source": []
  },
  {
   "cell_type": "code",
   "execution_count": 37,
   "metadata": {},
   "outputs": [],
   "source": [
    "# Run Classifier"
   ]
  },
  {
   "cell_type": "code",
   "execution_count": 38,
   "metadata": {},
   "outputs": [
    {
     "data": {
      "text/plain": [
       "BernoulliNB(alpha=0.29236054513981746, binarize=0.0024243834476879167,\n",
       "      class_prior=None, fit_prior=True)"
      ]
     },
     "execution_count": 38,
     "metadata": {},
     "output_type": "execute_result"
    }
   ],
   "source": [
    "nb_params = {\n",
    "    'alpha': 0.29236054513981746,\n",
    "    'binarize': 0.0024243834476879167,\n",
    "    'fit_prior': True\n",
    "}\n",
    "\n",
    "fitted_model = BernoulliNB(**nb_params)\n",
    "fitted_model.fit(X_data_redux, y_data_redux)"
   ]
  },
  {
   "cell_type": "code",
   "execution_count": 39,
   "metadata": {},
   "outputs": [
    {
     "name": "stdout",
     "output_type": "stream",
     "text": [
      "(21617, 216)\n"
     ]
    }
   ],
   "source": [
    "test_tweets = []\n",
    "with gzip.open(\"../data/rehydrated_test_tweets.json.gz\", \"r\") as in_file:\n",
    "    for line_bytes in in_file:\n",
    "        line = line_bytes.decode(\"utf8\")\n",
    "        tweet = json.loads(line)\n",
    "        test_tweets.append(tweet)\n",
    "        \n",
    "X_test_ft_ = [vectorize(s) for s in [t[\"text\"] for t in test_tweets]]\n",
    "X_test_ft_ = np.array([x for x in X_test_ft_])\n",
    "\n",
    "X_test_other = np.array([other_features(tweet) for tweet in test_tweets])\n",
    "\n",
    "X_test_data = np.concatenate([\n",
    "    X_test_ft_, \n",
    "    X_test_other, \n",
    "], axis=1)\n",
    "\n",
    "print(X_test_data.shape)"
   ]
  },
  {
   "cell_type": "code",
   "execution_count": 40,
   "metadata": {},
   "outputs": [],
   "source": [
    "y_test_labels = fitted_model.predict(X_test_data)"
   ]
  },
  {
   "cell_type": "code",
   "execution_count": 41,
   "metadata": {},
   "outputs": [],
   "source": [
    "labeled_test_data = list(zip([t[\"id\"] for t in test_tweets], y_test_labels))"
   ]
  },
  {
   "cell_type": "code",
   "execution_count": 42,
   "metadata": {},
   "outputs": [],
   "source": [
    "id_to_cat_map = {y:x for x,y in category_to_label.items()}"
   ]
  },
  {
   "cell_type": "code",
   "execution_count": 43,
   "metadata": {},
   "outputs": [
    {
     "data": {
      "text/html": [
       "<div>\n",
       "<style scoped>\n",
       "    .dataframe tbody tr th:only-of-type {\n",
       "        vertical-align: middle;\n",
       "    }\n",
       "\n",
       "    .dataframe tbody tr th {\n",
       "        vertical-align: top;\n",
       "    }\n",
       "\n",
       "    .dataframe thead th {\n",
       "        text-align: right;\n",
       "    }\n",
       "</style>\n",
       "<table border=\"1\" class=\"dataframe\">\n",
       "  <thead>\n",
       "    <tr style=\"text-align: right;\">\n",
       "      <th></th>\n",
       "      <th>tweet_id</th>\n",
       "    </tr>\n",
       "    <tr>\n",
       "      <th>label</th>\n",
       "      <th></th>\n",
       "    </tr>\n",
       "  </thead>\n",
       "  <tbody>\n",
       "    <tr>\n",
       "      <th>Advice</th>\n",
       "      <td>426</td>\n",
       "    </tr>\n",
       "    <tr>\n",
       "      <th>ContinuingNews</th>\n",
       "      <td>13140</td>\n",
       "    </tr>\n",
       "    <tr>\n",
       "      <th>Discussion</th>\n",
       "      <td>80</td>\n",
       "    </tr>\n",
       "    <tr>\n",
       "      <th>Donations</th>\n",
       "      <td>1713</td>\n",
       "    </tr>\n",
       "    <tr>\n",
       "      <th>EmergingThreats</th>\n",
       "      <td>110</td>\n",
       "    </tr>\n",
       "    <tr>\n",
       "      <th>Factoid</th>\n",
       "      <td>525</td>\n",
       "    </tr>\n",
       "    <tr>\n",
       "      <th>FirstPartyObservation</th>\n",
       "      <td>64</td>\n",
       "    </tr>\n",
       "    <tr>\n",
       "      <th>InformationWanted</th>\n",
       "      <td>57</td>\n",
       "    </tr>\n",
       "    <tr>\n",
       "      <th>Irrelevant</th>\n",
       "      <td>1594</td>\n",
       "    </tr>\n",
       "    <tr>\n",
       "      <th>KnownAlready</th>\n",
       "      <td>138</td>\n",
       "    </tr>\n",
       "    <tr>\n",
       "      <th>MovePeople</th>\n",
       "      <td>13</td>\n",
       "    </tr>\n",
       "    <tr>\n",
       "      <th>MultimediaShare</th>\n",
       "      <td>784</td>\n",
       "    </tr>\n",
       "    <tr>\n",
       "      <th>Official</th>\n",
       "      <td>500</td>\n",
       "    </tr>\n",
       "    <tr>\n",
       "      <th>PastNews</th>\n",
       "      <td>21</td>\n",
       "    </tr>\n",
       "    <tr>\n",
       "      <th>Sentiment</th>\n",
       "      <td>1114</td>\n",
       "    </tr>\n",
       "    <tr>\n",
       "      <th>ServiceAvailable</th>\n",
       "      <td>116</td>\n",
       "    </tr>\n",
       "    <tr>\n",
       "      <th>SignificantEventChange</th>\n",
       "      <td>599</td>\n",
       "    </tr>\n",
       "    <tr>\n",
       "      <th>ThirdPartyObservation</th>\n",
       "      <td>584</td>\n",
       "    </tr>\n",
       "    <tr>\n",
       "      <th>Unknown</th>\n",
       "      <td>11</td>\n",
       "    </tr>\n",
       "    <tr>\n",
       "      <th>Weather</th>\n",
       "      <td>28</td>\n",
       "    </tr>\n",
       "  </tbody>\n",
       "</table>\n",
       "</div>"
      ],
      "text/plain": [
       "                        tweet_id\n",
       "label                           \n",
       "Advice                       426\n",
       "ContinuingNews             13140\n",
       "Discussion                    80\n",
       "Donations                   1713\n",
       "EmergingThreats              110\n",
       "Factoid                      525\n",
       "FirstPartyObservation         64\n",
       "InformationWanted             57\n",
       "Irrelevant                  1594\n",
       "KnownAlready                 138\n",
       "MovePeople                    13\n",
       "MultimediaShare              784\n",
       "Official                     500\n",
       "PastNews                      21\n",
       "Sentiment                   1114\n",
       "ServiceAvailable             116\n",
       "SignificantEventChange       599\n",
       "ThirdPartyObservation        584\n",
       "Unknown                       11\n",
       "Weather                       28"
      ]
     },
     "execution_count": 43,
     "metadata": {},
     "output_type": "execute_result"
    }
   ],
   "source": [
    "df = pd.DataFrame([{\"tweet_id\":tup[0], \"label\": id_to_cat_map[tup[1]]} for tup in labeled_test_data])\n",
    "df.groupby(\"label\").count()"
   ]
  },
  {
   "cell_type": "code",
   "execution_count": 44,
   "metadata": {},
   "outputs": [],
   "source": [
    "df.to_csv(\"trec2018_test_results_run_fasttext_spread.csv\", index=None)"
   ]
  },
  {
   "cell_type": "code",
   "execution_count": null,
   "metadata": {},
   "outputs": [],
   "source": []
  }
 ],
 "metadata": {
  "kernelspec": {
   "display_name": "Python 3",
   "language": "python",
   "name": "python3"
  },
  "language_info": {
   "codemirror_mode": {
    "name": "ipython",
    "version": 3
   },
   "file_extension": ".py",
   "mimetype": "text/x-python",
   "name": "python",
   "nbconvert_exporter": "python",
   "pygments_lexer": "ipython3",
   "version": "3.7.0"
  }
 },
 "nbformat": 4,
 "nbformat_minor": 2
}
